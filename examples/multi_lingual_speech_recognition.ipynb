{
 "cells": [
  {
   "cell_type": "markdown",
   "metadata": {
    "colab_type": "text",
    "id": "view-in-github"
   },
   "source": [
    "<a href=\"https://colab.research.google.com/github/huggingface/notebooks/blob/master/examples/multi_lingual_speech_recognition.ipynb\" target=\"_parent\"><img src=\"https://colab.research.google.com/assets/colab-badge.svg\" alt=\"Open In Colab\"/></a>"
   ]
  },
  {
   "cell_type": "markdown",
   "metadata": {
    "id": "LBSYoWbi-45k"
   },
   "source": [
    "# **Fine-tuning Multi-Lingual Speech Model with 🤗 Transformers**"
   ]
  },
  {
   "cell_type": "markdown",
   "metadata": {
    "id": "nT_QrfWtsxIz"
   },
   "source": [
    "This notebook shows how to fine-tune multi-lingual pretrained speech models for Automatic Speech Recognition."
   ]
  },
  {
   "cell_type": "markdown",
   "metadata": {
    "id": "OK7AOAkwVOrx"
   },
   "source": [
    "This notebook is built to run on the [Common Voice dataset](https://huggingface.co/datasets/common_voice) with any multi-lingual speech model checkpoint from the [Model Hub](https://huggingface.co/models?language=multilingual&pipeline_tag=automatic-speech-recognition&sort=downloads) as long as that model has a version with a Connectionist Temporal Classification (CTC) head. Depending on the model and the GPU you are using, you might need to adjust the batch size to avoid out-of-memory errors. Set those two parameters, then the rest of the notebook should run smoothly:"
   ]
  },
  {
   "cell_type": "code",
   "execution_count": null,
   "metadata": {
    "id": "fw_GGnvwVjOl"
   },
   "outputs": [],
   "source": [
    "model_checkpoint = \"facebook/wav2vec2-large-xlsr-53\"\n",
    "batch_size = 16"
   ]
  },
  {
   "cell_type": "markdown",
   "metadata": {
    "id": "ZUUqzyKnVpvc"
   },
   "source": [
    "For a more in-detail explanation of how multi-lingual pretrained speech models function, please take a look at the [🤗 Blog](https://huggingface.co/blog/fine-tune-xlsr-wav2vec2)."
   ]
  },
  {
   "cell_type": "markdown",
   "metadata": {
    "id": "e335hPmdtASZ"
   },
   "source": [
    "Before we start, let's install both `datasets` and `transformers` from master. Also, we need the `torchaudio` and `librosa` package to load audio files and the `jiwer` to evaluate our fine-tuned model using the [word error rate (WER)](https://huggingface.co/metrics/wer) metric ${}^1$."
   ]
  },
  {
   "cell_type": "code",
   "execution_count": null,
   "metadata": {
    "id": "c8eh87Hoee5d"
   },
   "outputs": [],
   "source": [
    "%%capture\n",
    "!pip install datasets==1.14\n",
    "!pip install transformers==4.11.3\n",
    "!pip install torchaudio\n",
    "!pip install librosa\n",
    "!pip install jiwer"
   ]
  },
  {
   "cell_type": "markdown",
   "metadata": {
    "id": "0xxt_LwxDQlO"
   },
   "source": [
    "Next we strongly suggest to upload your training checkpoints directly to the [🤗 Hub](https://huggingface.co/) while training. The [🤗 Hub](https://huggingface.co/) has integrated version control so you can be sure that no model checkpoint is getting lost during training. \n",
    "\n",
    "To do so you have to store your authentication token from the Hugging Face website (sign up [here](https://huggingface.co/join) if you haven't already!)"
   ]
  },
  {
   "cell_type": "code",
   "execution_count": null,
   "metadata": {
    "colab": {
     "base_uri": "https://localhost:8080/",
     "height": 239,
     "referenced_widgets": [
      "4597fce67897473a8e0dc6604002d3ae",
      "b449fbbb6b1b471a8d50eb9d6c26af09",
      "70619a1016d347bd9191267dcd005b56",
      "c18dfdb314284e2a9d9c07bb4dcf1d49",
      "09de7a45bdcf43019fac8faf21d37f4d",
      "68dd5b7aa43e4156b72db64761cf66e4",
      "32234e5488dc4e958a7b4edf284085b1",
      "604598e08be24d8daee5193119855567",
      "0cc8170d04624602b6fcb913046065b9",
      "d493bfc3e89147c4b423d9001519d62f",
      "4338db0dd26a4c11828326ca20ee4fde",
      "17252e60e7c8408588fc6f81ba8d262e",
      "aac4d40371604e1599d7748e57ecf464",
      "b18eb056b44e419692f3c08b34a7cc81",
      "d537ad0980dc41889484f227eba49b51",
      "cdb1234dfc50408eadeef7bbfb1b388b"
     ]
    },
    "id": "mlMSH3T3EazV",
    "outputId": "5fcd694f-80a4-4fd5-e18b-3d23ab8a77f8"
   },
   "outputs": [
    {
     "data": {
      "application/vnd.jupyter.widget-view+json": {
       "model_id": "4597fce67897473a8e0dc6604002d3ae",
       "version_major": 2,
       "version_minor": 0
      },
      "text/plain": [
       "VBox(children=(HTML(value=\"<center>\\n<img src=https://huggingface.co/front/assets/huggingface_logo-noborder.sv…"
      ]
     },
     "metadata": {},
     "output_type": "display_data"
    }
   ],
   "source": [
    "from huggingface_hub import notebook_login\n",
    "\n",
    "notebook_login()"
   ]
  },
  {
   "cell_type": "markdown",
   "metadata": {
    "id": "ujdZ2TxhElk6"
   },
   "source": [
    "\n",
    "Then you need to install Git-LFS to upload your model checkpoints:"
   ]
  },
  {
   "cell_type": "code",
   "execution_count": null,
   "metadata": {
    "id": "WcR-d83OEkqb"
   },
   "outputs": [],
   "source": [
    "%%capture\n",
    "!apt install git-lfs"
   ]
  },
  {
   "cell_type": "markdown",
   "metadata": {},
   "source": [
    "We also quickly upload some telemetry - this tells us which examples and software versions are getting used so we know where to prioritize our maintenance efforts. We don't collect (or care about) any personally identifiable information, but if you'd prefer not to be counted, feel free to skip this step or delete this cell entirely."
   ]
  },
  {
   "cell_type": "code",
   "execution_count": null,
   "metadata": {},
   "outputs": [],
   "source": [
    "from transformers.utils import send_example_telemetry\n",
    "\n",
    "send_example_telemetry(\"multi_lingual_speech_recognition_notebook\", framework=\"pytorch\")"
   ]
  },
  {
   "cell_type": "markdown",
   "metadata": {
    "id": "Mn9swf6EQ9Vd"
   },
   "source": [
    "\n",
    "\n",
    "\n",
    "---\n",
    "\n",
    "${}^1$ In the [paper](https://arxiv.org/pdf/2006.13979.pdf), the model was evaluated using the phoneme error rate (PER), but by far the most common metric in ASR is the word error rate (WER). To keep this notebook as general as possible we decided to evaluate the model using WER."
   ]
  },
  {
   "cell_type": "markdown",
   "metadata": {
    "id": "0mW-C1Nt-j7k"
   },
   "source": [
    "## Prepare Data, Tokenizer, Feature Extractor"
   ]
  },
  {
   "cell_type": "markdown",
   "metadata": {
    "id": "BeBosnY9BH3e"
   },
   "source": [
    "ASR models transcribe speech to text, which means that we both need a feature extractor that processes the speech signal to the model's input format, *e.g.* a feature vector, and a tokenizer that processes the model's output format to text. \n",
    "\n",
    "In 🤗 Transformers, speech recognition models are thus accompanied by both a tokenizer, and a feature extractor.\n",
    "\n",
    "Let's start by creating the tokenizer responsible for decoding the model's predictions."
   ]
  },
  {
   "cell_type": "markdown",
   "metadata": {
    "id": "sEXEWEJGQPqD"
   },
   "source": [
    "### Create Tokenizer for Speech Recognition"
   ]
  },
  {
   "cell_type": "markdown",
   "metadata": {
    "id": "idBczw8mWzgt"
   },
   "source": [
    "First, let's go to [Common Voice](https://commonvoice.mozilla.org/en/datasets) and pick a language to fine-tune XLSR-Wav2Vec2 on. For this notebook, we will use Turkish. \n",
    "\n",
    "For each language-specific dataset, you can find a language code corresponding to your chosen language. On [Common Voice](https://commonvoice.mozilla.org/en/datasets), look for the field \"Version\". The language code then corresponds to the prefix before the underscore. For Turkish, *e.g.* the language code is `\"tr\"`.\n",
    "\n",
    "Great, now we can use 🤗 Datasets' simple API to download the data. The dataset name will be `\"common_voice\"`, the config name corresponds to the language code - `\"tr\"` in our case."
   ]
  },
  {
   "cell_type": "markdown",
   "metadata": {
    "id": "bee4g9rpLxll"
   },
   "source": [
    "Common Voice has many different splits including `invalidated`, which refers to data that was not rated as \"clean enough\" to be considered useful. In this notebook, we will only make use of the splits `\"train\"`, `\"validation\"` and `\"test\"`. \n",
    "\n",
    "Because the Turkish dataset is so small, we will merge both the validation and training data into a training dataset and simply use the test data for validation."
   ]
  },
  {
   "cell_type": "code",
   "execution_count": null,
   "metadata": {
    "colab": {
     "base_uri": "https://localhost:8080/",
     "height": 167,
     "referenced_widgets": [
      "4efa6acce72a4ae0adcc343a3ee12c03",
      "c7f85f54330841139e154a2662577896",
      "9f6f339043824c02b69b6bce5cadd778",
      "26a58d21df4e4388b5b8bede6f2ca22f",
      "1561e222b8f1499ab229eb1bb79a5af2",
      "341963d8b96a4aebbaa0bb813c896ae4",
      "9a40a16f3560482bb5e2f6105cc27f39",
      "6be66d664dc64027953e5fb9eed3571c",
      "e878264e9f8c4ba0866d1afb6af9ccc6",
      "2892c1b31e1d4edc899a86e861eeb759",
      "02ff08729ba843c3a01a4ba2af056a39",
      "b5abb72f4d7144929607dc680992ad67",
      "4ab5e489e07b41eba96d4c9fa9422973",
      "9ef6e52b7c594014b528dd4d0d4b001c",
      "9a5fabb2d35f44db8d7a9c07a5d5a9ab",
      "cdbfe296652042f5b3f6da33699bfd7e",
      "51bcae99621e4e0593d7e8923172e956",
      "ec764431ff01437da54daf9018a47d07",
      "8a35a86fdd7d4e54b8b1a8e69dd77d7c",
      "b17cd944f08d45bd82c52d3aa2e4b64b",
      "9efbcc95e2424818813a676fc3326869",
      "d9d0ab02f5564ff4b7b88b55102fa51f",
      "f9c824702b414a7092fc81a2c98e9781",
      "859fd7b86695498bb5516beda397f3d3",
      "51ca68f7b0704d89964a5cbf9bf299bc",
      "d5b0abeb23b14aff98e4a0796aaf6a4b",
      "18171383454a4366a9ed7f32742df20f",
      "9db4eccd1dc247b295cfc18d259f5885",
      "9dca599b51a54c4287552abb939884d7",
      "6fe9c246de494ca9a7b631604504c47a",
      "65ef2d455e674db88519c460d0791716",
      "06052adc53ee427596e52aebe39af942",
      "2b0e6d44103247acbd04ace9352207d6",
      "a4771dd55eec4bd4abb1470d30a9d59b",
      "68830a2f931548aca647cb67ec1f7d22",
      "bc30c95e7dbc402d85ebce78a367d33f",
      "86659529dd1b49d19b5da9d7a07e59a0",
      "cbef6f7398674c0da9326c8138878b08",
      "dd72106b4b1a42dc902c77e632b52866",
      "8230dbb52f644499b6220614180f762f",
      "b04f0efe3c3546ebbae97d292beab944",
      "d11b7ef0b216454eb70d146ccbb46204",
      "6500309e31d74e639af7ca5ca459ed2e",
      "fae3163dd70549e19f208d18a6ebadee",
      "50c3d4631d34422d9527d93c3e19c052",
      "ff7fef6949d9444aad4cda50971bf9da",
      "3035c0d0e8c44bb8ae229b3c8cf62087",
      "c15dfe81f654439cb0d07ccaedceb070",
      "9df48c7829a94c46adbff3d5a65520c7",
      "767a77c2f6ea45aca7fc1796a349afbc",
      "b617a527f91c4248a83e748f5eec5471",
      "536cf457443a4a729af9ec7a33b06dfc",
      "eb7e72cc13454fe5b69cd11c1b26009d",
      "e5bb1f992b0e48cd929406fbe2c00657",
      "7ca9f1f85e714dce8eeda6d4f6d50992",
      "2159b14e0b5e4489a6154fc01a9da2b4",
      "3523d19d816245619af97a8a9ea62010",
      "90079dbd404042588892cca4f82ecaa5",
      "97868fbcf5eb43529dab41983141400b",
      "cbde7ca853ae472f8234a465e7e0ddb8",
      "351d19b5adea4c079620c665671d848e",
      "5e9a5207f2ff4bb3a85c5c445be7fa96",
      "08fff1d8450b4c11abc1af2a51de810b",
      "92494242428b4d04a14f648500de31ba",
      "4c8ef8e507f74ac795705a747df28a53",
      "858a60a2f21040d184801808810ed4e3",
      "2725828ab1c042fc91b26eee8a3d241a",
      "11f365b7fb7d4aeaa20cd0cdf19ccdc0",
      "f9277b3fe673450a881681a63d4195aa",
      "c032cdd160fc40eaa06a8a4d5f55d1ca",
      "b1e3f54448f34983b4118f543c4cb749",
      "ee6355429fd1446d89335b149efff7e5",
      "2bf825a1eed84df7b3aca522a1fb3296",
      "c434a50e99fb46a5bc443415e4cc627b",
      "fa08a259ad534048baed7c94f748fb78",
      "91116d7ec8c74ad5829a6bbf6096b43c",
      "f2682efb6aa444bc8bf36ebfd6668a43",
      "09c559b8ca434f85a0753aad822b9aba",
      "79bc4834446d4b358814b7ed7046972c",
      "d74de43eeacb4ad0995ec45d88d6304c",
      "1dfa2774f2a247dabec705160d9c0058",
      "b30ae3ba8e384671bca4fbfef7ca6a42",
      "03a0603fd2ce4871b51b6b50e4f97e90",
      "880133b6a504420abd5baac3c5089b2d",
      "af379da49784490e8e6bdc249c3be969",
      "12fb2cf3482b458ca85abcbbb7e98e2a",
      "f2ec5a28737045aaa9231d2e7997e042",
      "ea6d1950ca604da59c4cbdd9b910b903"
     ]
    },
    "id": "2MMXcWFFgCXU",
    "outputId": "98e7c8d9-08c1-4ddf-d8fc-2c243712ad0c"
   },
   "outputs": [
    {
     "data": {
      "application/vnd.jupyter.widget-view+json": {
       "model_id": "4efa6acce72a4ae0adcc343a3ee12c03",
       "version_major": 2,
       "version_minor": 0
      },
      "text/plain": [
       "Downloading:   0%|          | 0.00/4.44k [00:00<?, ?B/s]"
      ]
     },
     "metadata": {},
     "output_type": "display_data"
    },
    {
     "data": {
      "application/vnd.jupyter.widget-view+json": {
       "model_id": "b5abb72f4d7144929607dc680992ad67",
       "version_major": 2,
       "version_minor": 0
      },
      "text/plain": [
       "Downloading:   0%|          | 0.00/10.2k [00:00<?, ?B/s]"
      ]
     },
     "metadata": {},
     "output_type": "display_data"
    },
    {
     "name": "stdout",
     "output_type": "stream",
     "text": [
      "Downloading and preparing dataset common_voice/tr (download: 592.09 MiB, generated: 2.89 MiB, post-processed: Unknown size, total: 594.98 MiB) to /root/.cache/huggingface/datasets/common_voice/tr/6.1.0/f7a9d973839b7706e9e281c19b7e512f31badf3c0fdbd21c671f3c4bf9acf3b9...\n"
     ]
    },
    {
     "data": {
      "application/vnd.jupyter.widget-view+json": {
       "model_id": "f9c824702b414a7092fc81a2c98e9781",
       "version_major": 2,
       "version_minor": 0
      },
      "text/plain": [
       "Downloading:   0%|          | 0.00/621M [00:00<?, ?B/s]"
      ]
     },
     "metadata": {},
     "output_type": "display_data"
    },
    {
     "data": {
      "application/vnd.jupyter.widget-view+json": {
       "model_id": "a4771dd55eec4bd4abb1470d30a9d59b",
       "version_major": 2,
       "version_minor": 0
      },
      "text/plain": [
       "0 examples [00:00, ? examples/s]"
      ]
     },
     "metadata": {},
     "output_type": "display_data"
    },
    {
     "data": {
      "application/vnd.jupyter.widget-view+json": {
       "model_id": "50c3d4631d34422d9527d93c3e19c052",
       "version_major": 2,
       "version_minor": 0
      },
      "text/plain": [
       "0 examples [00:00, ? examples/s]"
      ]
     },
     "metadata": {},
     "output_type": "display_data"
    },
    {
     "data": {
      "application/vnd.jupyter.widget-view+json": {
       "model_id": "2159b14e0b5e4489a6154fc01a9da2b4",
       "version_major": 2,
       "version_minor": 0
      },
      "text/plain": [
       "0 examples [00:00, ? examples/s]"
      ]
     },
     "metadata": {},
     "output_type": "display_data"
    },
    {
     "data": {
      "application/vnd.jupyter.widget-view+json": {
       "model_id": "2725828ab1c042fc91b26eee8a3d241a",
       "version_major": 2,
       "version_minor": 0
      },
      "text/plain": [
       "0 examples [00:00, ? examples/s]"
      ]
     },
     "metadata": {},
     "output_type": "display_data"
    },
    {
     "data": {
      "application/vnd.jupyter.widget-view+json": {
       "model_id": "09c559b8ca434f85a0753aad822b9aba",
       "version_major": 2,
       "version_minor": 0
      },
      "text/plain": [
       "0 examples [00:00, ? examples/s]"
      ]
     },
     "metadata": {},
     "output_type": "display_data"
    },
    {
     "name": "stdout",
     "output_type": "stream",
     "text": [
      "Dataset common_voice downloaded and prepared to /root/.cache/huggingface/datasets/common_voice/tr/6.1.0/f7a9d973839b7706e9e281c19b7e512f31badf3c0fdbd21c671f3c4bf9acf3b9. Subsequent calls will reuse this data.\n"
     ]
    },
    {
     "name": "stderr",
     "output_type": "stream",
     "text": [
      "Reusing dataset common_voice (/root/.cache/huggingface/datasets/common_voice/tr/6.1.0/f7a9d973839b7706e9e281c19b7e512f31badf3c0fdbd21c671f3c4bf9acf3b9)\n"
     ]
    }
   ],
   "source": [
    "from datasets import load_dataset, load_metric, Audio\n",
    "\n",
    "common_voice_train = load_dataset(\"common_voice\", \"tr\", split=\"train+validation\")\n",
    "common_voice_test = load_dataset(\"common_voice\", \"tr\", split=\"test\")"
   ]
  },
  {
   "cell_type": "markdown",
   "metadata": {
    "id": "ri5y5N_HMANq"
   },
   "source": [
    "Many ASR datasets only provide the target text, `'sentence'` for each audio array `'audio'` and file `'path'`. Common Voice actually provides much more information about each audio file, such as the `'accent'`, etc. However, we want to keep the notebook as general as possible, so that we will only consider the transcribed text for fine-tuning.\n",
    "\n"
   ]
  },
  {
   "cell_type": "code",
   "execution_count": null,
   "metadata": {
    "id": "kbyq6lDgQc2a"
   },
   "outputs": [],
   "source": [
    "common_voice_train = common_voice_train.remove_columns([\"accent\", \"age\", \"client_id\", \"down_votes\", \"gender\", \"locale\", \"segment\", \"up_votes\"])\n",
    "common_voice_test = common_voice_test.remove_columns([\"accent\", \"age\", \"client_id\", \"down_votes\", \"gender\", \"locale\", \"segment\", \"up_votes\"])"
   ]
  },
  {
   "cell_type": "markdown",
   "metadata": {
    "id": "Go9Hq4e4NDT9"
   },
   "source": [
    "Let's write a short function to display some random samples of the dataset and run it a couple of times to get a feeling for the transcriptions."
   ]
  },
  {
   "cell_type": "code",
   "execution_count": null,
   "metadata": {
    "id": "72737oog2F6U"
   },
   "outputs": [],
   "source": [
    "from datasets import ClassLabel\n",
    "import random\n",
    "import pandas as pd\n",
    "from IPython.display import display, HTML\n",
    "\n",
    "def show_random_elements(dataset, num_examples=10):\n",
    "    assert num_examples <= len(dataset), \"Can't pick more elements than there are in the dataset.\"\n",
    "    picks = []\n",
    "    for _ in range(num_examples):\n",
    "        pick = random.randint(0, len(dataset)-1)\n",
    "        while pick in picks:\n",
    "            pick = random.randint(0, len(dataset)-1)\n",
    "        picks.append(pick)\n",
    "    \n",
    "    df = pd.DataFrame(dataset[picks])\n",
    "    display(HTML(df.to_html()))"
   ]
  },
  {
   "cell_type": "code",
   "execution_count": null,
   "metadata": {
    "colab": {
     "base_uri": "https://localhost:8080/",
     "height": 359
    },
    "id": "K_JUmf3G3b9S",
    "outputId": "ad39edc7-abe9-4527-d9e1-fad6b97c67ec"
   },
   "outputs": [
    {
     "data": {
      "text/html": [
       "<table border=\"1\" class=\"dataframe\">\n",
       "  <thead>\n",
       "    <tr style=\"text-align: right;\">\n",
       "      <th></th>\n",
       "      <th>sentence</th>\n",
       "    </tr>\n",
       "  </thead>\n",
       "  <tbody>\n",
       "    <tr>\n",
       "      <th>0</th>\n",
       "      <td>Birkaç saat sonra, Belçika da aynı yolu izledi.</td>\n",
       "    </tr>\n",
       "    <tr>\n",
       "      <th>1</th>\n",
       "      <td>Veliler öfkeliydi.</td>\n",
       "    </tr>\n",
       "    <tr>\n",
       "      <th>2</th>\n",
       "      <td>Şimdi Ankara yeniden denemeye hazır.</td>\n",
       "    </tr>\n",
       "    <tr>\n",
       "      <th>3</th>\n",
       "      <td>Görüşmelerde Kosova konusuna da değinildi.</td>\n",
       "    </tr>\n",
       "    <tr>\n",
       "      <th>4</th>\n",
       "      <td>\"Arnavutluk'ta ihracat zayıf.\"</td>\n",
       "    </tr>\n",
       "    <tr>\n",
       "      <th>5</th>\n",
       "      <td>Kredilerin büyük bölümü özel şirketlere verildi.</td>\n",
       "    </tr>\n",
       "    <tr>\n",
       "      <th>6</th>\n",
       "      <td>Ancak iki taraf da konuşma yapmadı.</td>\n",
       "    </tr>\n",
       "    <tr>\n",
       "      <th>7</th>\n",
       "      <td>Yeni anayasanın onaylamasına çalışılacak.</td>\n",
       "    </tr>\n",
       "    <tr>\n",
       "      <th>8</th>\n",
       "      <td>Uyulmadığı takdirde ülke cezalandırılacak.</td>\n",
       "    </tr>\n",
       "    <tr>\n",
       "      <th>9</th>\n",
       "      <td>İlk dersler Eylül ayında başlayacak.</td>\n",
       "    </tr>\n",
       "  </tbody>\n",
       "</table>"
      ],
      "text/plain": [
       "<IPython.core.display.HTML object>"
      ]
     },
     "metadata": {},
     "output_type": "display_data"
    }
   ],
   "source": [
    "show_random_elements(common_voice_train.remove_columns([\"path\", \"audio\"]), num_examples=10)"
   ]
  },
  {
   "cell_type": "markdown",
   "metadata": {
    "id": "fowcOllGNNju"
   },
   "source": [
    "Alright! The transcriptions look fairly clean. Having translated the transcribed sentences, it seems that the language corresponds more to written-out text than noisy dialogue. This makes sense considering that [Common Voice](https://huggingface.co/datasets/common_voice) is a crowd-sourced read speech corpus."
   ]
  },
  {
   "cell_type": "markdown",
   "metadata": {
    "id": "vq7OR50LN49m"
   },
   "source": [
    "We can see that the transcriptions contain some special characters, such as `,.?!;:`. Without a language model, it is much harder to classify speech chunks to such special characters because they don't really correspond to a characteristic sound unit. *E.g.*, the letter `\"s\"` has a more or less clear sound, whereas the special character `\".\"` does not.\n",
    "Also in order to understand the meaning of a speech signal, it is usually not necessary to include special characters in the transcription.\n",
    "\n",
    "In addition, we normalize the text to only have lower case letters and append a word separator token at the end."
   ]
  },
  {
   "cell_type": "code",
   "execution_count": null,
   "metadata": {
    "id": "svKzVJ_hQGK6"
   },
   "outputs": [],
   "source": [
    "import re\n",
    "chars_to_ignore_regex = '[\\,\\?\\.\\!\\-\\;\\:\\\"\\“\\%\\‘\\”\\�]'\n",
    "\n",
    "def remove_special_characters(batch):\n",
    "    batch[\"sentence\"] = re.sub(chars_to_ignore_regex, '', batch[\"sentence\"]).lower() + \" \"\n",
    "    return batch"
   ]
  },
  {
   "cell_type": "code",
   "execution_count": null,
   "metadata": {
    "colab": {
     "base_uri": "https://localhost:8080/",
     "height": 81,
     "referenced_widgets": [
      "e3a3083b43784898acb579cea2fc0c9b",
      "d22042dd9c614f249d4177cd162edb9d",
      "ce11a521ee08472580ec9873f6f2c8ff",
      "0945eebd6624416a82b94c11d1f46e75",
      "f6d66815620f44e98305e0c3eb5a10b4",
      "980fc9d1dad044568f2cf09c5aabe851",
      "7716e1bdb2fa48caa0e5b747d8417ed9",
      "05af76b0c4fc410685102102cf39c2af",
      "6c0b90a363434052999ec37f4590f355",
      "3ccfaa3ba3ad4baaa68b4b2ca3f396a7",
      "28e0bf7007664d528ab282d9dce4ca08",
      "3f1d57e62b8c45bf83f2107e5803c430",
      "a52c9d7c77154b558535321558a99f82",
      "719906e201484ded9b781b9dad38f934",
      "204723b0f09d4bf9ab57fd77c764eb18",
      "98b226199dc54316b771f143c3009cc9",
      "d258296f72f541c291db35ea264527de",
      "a0f19ef147eb458b9e8b31e080acf150",
      "9658824e0065469f8cf73d8c4d0fa93b",
      "6a86593225b145f4b8116df9e6b0888e",
      "562b1a7721654e5190079e152a25f900",
      "0c219edc78ea47ee86d100109107f9e6"
     ]
    },
    "id": "XIHocAuTQbBR",
    "outputId": "ba4bbeb2-7adf-452b-8b43-a1ce60654529"
   },
   "outputs": [
    {
     "data": {
      "application/vnd.jupyter.widget-view+json": {
       "model_id": "e3a3083b43784898acb579cea2fc0c9b",
       "version_major": 2,
       "version_minor": 0
      },
      "text/plain": [
       "  0%|          | 0/3478 [00:00<?, ?ex/s]"
      ]
     },
     "metadata": {},
     "output_type": "display_data"
    },
    {
     "data": {
      "application/vnd.jupyter.widget-view+json": {
       "model_id": "3f1d57e62b8c45bf83f2107e5803c430",
       "version_major": 2,
       "version_minor": 0
      },
      "text/plain": [
       "  0%|          | 0/1647 [00:00<?, ?ex/s]"
      ]
     },
     "metadata": {},
     "output_type": "display_data"
    }
   ],
   "source": [
    "common_voice_train = common_voice_train.map(remove_special_characters)\n",
    "common_voice_test = common_voice_test.map(remove_special_characters)"
   ]
  },
  {
   "cell_type": "code",
   "execution_count": null,
   "metadata": {
    "colab": {
     "base_uri": "https://localhost:8080/",
     "height": 359
    },
    "id": "RBDRAAYxRE6n",
    "outputId": "4dc518e9-b18b-408d-84d7-1bfd8f477196"
   },
   "outputs": [
    {
     "data": {
      "text/html": [
       "<table border=\"1\" class=\"dataframe\">\n",
       "  <thead>\n",
       "    <tr style=\"text-align: right;\">\n",
       "      <th></th>\n",
       "      <th>sentence</th>\n",
       "    </tr>\n",
       "  </thead>\n",
       "  <tbody>\n",
       "    <tr>\n",
       "      <th>0</th>\n",
       "      <td>diğer partiler gereken baraja ulaşamadılar</td>\n",
       "    </tr>\n",
       "    <tr>\n",
       "      <th>1</th>\n",
       "      <td>yatırımlar üç virgül iki milyon avroyu buldu</td>\n",
       "    </tr>\n",
       "    <tr>\n",
       "      <th>2</th>\n",
       "      <td>muhalefet bu sava inanmıyor</td>\n",
       "    </tr>\n",
       "    <tr>\n",
       "      <th>3</th>\n",
       "      <td>bende mücadele edeceğime bu yolu seçtim</td>\n",
       "    </tr>\n",
       "    <tr>\n",
       "      <th>4</th>\n",
       "      <td>ancak jurciç teklifi reddetmişti</td>\n",
       "    </tr>\n",
       "    <tr>\n",
       "      <th>5</th>\n",
       "      <td>operasyon olaysız geçti</td>\n",
       "    </tr>\n",
       "    <tr>\n",
       "      <th>6</th>\n",
       "      <td>birkaç günde öğrenmek için çok fazla şey vardı</td>\n",
       "    </tr>\n",
       "    <tr>\n",
       "      <th>7</th>\n",
       "      <td>bu kış ziyaretine gittim</td>\n",
       "    </tr>\n",
       "    <tr>\n",
       "      <th>8</th>\n",
       "      <td>ancak yetkililer nuh deyip peygamber demiyorlar</td>\n",
       "    </tr>\n",
       "    <tr>\n",
       "      <th>9</th>\n",
       "      <td>ve tabii ki banyoda kaçak var</td>\n",
       "    </tr>\n",
       "  </tbody>\n",
       "</table>"
      ],
      "text/plain": [
       "<IPython.core.display.HTML object>"
      ]
     },
     "metadata": {},
     "output_type": "display_data"
    }
   ],
   "source": [
    "show_random_elements(common_voice_train.remove_columns([\"path\",\"audio\"]))"
   ]
  },
  {
   "cell_type": "markdown",
   "metadata": {
    "id": "jwfaptH5RJwA"
   },
   "source": [
    "Good! This looks better. We have removed most special characters from transcriptions and normalized them to lower-case only.\n",
    "\n",
    "In CTC, it is common to classify speech chunks into letters, so we will do the same here. \n",
    "Let's extract all distinct letters of the training and test data and build our vocabulary from this set of letters.\n",
    "\n",
    "We write a mapping function that concatenates all transcriptions into one long transcription and then transforms the string into a set of chars. \n",
    "It is important to pass the argument `batched=True` to the `map(...)` function so that the mapping function has access to all transcriptions at once."
   ]
  },
  {
   "cell_type": "code",
   "execution_count": null,
   "metadata": {
    "id": "LwCshNbbeRZR"
   },
   "outputs": [],
   "source": [
    "def extract_all_chars(batch):\n",
    "  all_text = \" \".join(batch[\"sentence\"])\n",
    "  vocab = list(set(all_text))\n",
    "  return {\"vocab\": [vocab], \"all_text\": [all_text]}"
   ]
  },
  {
   "cell_type": "code",
   "execution_count": null,
   "metadata": {
    "colab": {
     "base_uri": "https://localhost:8080/",
     "height": 81,
     "referenced_widgets": [
      "bb7cca1dbee0473f9ffa601f26de2bff",
      "fcb420f307994c76bf477fe2007a2cfc",
      "ec0643d015f0466a8f6178a191d78978",
      "cd98ac18cda14f1191d8be051b0b99f9",
      "866bdbdda70f4377a1d41de89e02e685",
      "90ba1f42d4f14030978d5cb801ed7aee",
      "29a58c0cbf4d4dc3943bbd22c4b74881",
      "44f30bfe15914a0991c82652cb7ba884",
      "b115da2b43d0491fb33da0fea4d749e4",
      "ee9d0fc762d94aa4b2725b9c2826034b",
      "0d17008b61f043adba012a654eab9c73",
      "b25d7d91d7a6424b95cf52c88c331853",
      "f2479f0a421e43aca3f0507a195623ef",
      "209efc5b56eb4acda1a59bdc50040da6",
      "fe928771f52d4e0aaa69cd59a8d32f06",
      "d0cbd8d8f5c44ce18fe3c56898032531",
      "66dbc3cb68e549788aca9b885916ac21",
      "d77d2d03adff4193a1b48194341221b3",
      "c03c80a730eb4e77926d202999355433",
      "2ab34edf1481420f9dd350b1d8b8767c",
      "34f5c9847be647c2bee711dd612d4e48",
      "8fd31916b9a34145844878916488ac3e"
     ]
    },
    "id": "_m6uUjjcfbjH",
    "outputId": "666f9fde-05d6-4687-c1e7-da68bdd1edcc"
   },
   "outputs": [
    {
     "data": {
      "application/vnd.jupyter.widget-view+json": {
       "model_id": "bb7cca1dbee0473f9ffa601f26de2bff",
       "version_major": 2,
       "version_minor": 0
      },
      "text/plain": [
       "  0%|          | 0/1 [00:00<?, ?ba/s]"
      ]
     },
     "metadata": {},
     "output_type": "display_data"
    },
    {
     "data": {
      "application/vnd.jupyter.widget-view+json": {
       "model_id": "b25d7d91d7a6424b95cf52c88c331853",
       "version_major": 2,
       "version_minor": 0
      },
      "text/plain": [
       "  0%|          | 0/1 [00:00<?, ?ba/s]"
      ]
     },
     "metadata": {},
     "output_type": "display_data"
    }
   ],
   "source": [
    "vocab_train = common_voice_train.map(\n",
    "  extract_all_chars, batched=True, \n",
    "  batch_size=-1, keep_in_memory=True, \n",
    "  remove_columns=common_voice_train.column_names\n",
    ")\n",
    "vocab_test = common_voice_test.map(\n",
    "  extract_all_chars, batched=True, \n",
    "  batch_size=-1, keep_in_memory=True, \n",
    "  remove_columns=common_voice_test.column_names\n",
    ")"
   ]
  },
  {
   "cell_type": "markdown",
   "metadata": {
    "id": "7oVgE8RZSJNP"
   },
   "source": [
    "Now, we create the union of all distinct letters in the training dataset and test dataset and convert the resulting list into an enumerated dictionary."
   ]
  },
  {
   "cell_type": "code",
   "execution_count": null,
   "metadata": {
    "id": "aQfneNsmlJI0"
   },
   "outputs": [],
   "source": [
    "vocab_list = list(set(vocab_train[\"vocab\"][0]) | set(vocab_test[\"vocab\"][0]))"
   ]
  },
  {
   "cell_type": "code",
   "execution_count": null,
   "metadata": {
    "colab": {
     "base_uri": "https://localhost:8080/"
    },
    "id": "_0kRndSvqaKk",
    "outputId": "91d18bee-d088-4208-d844-15d45667278d"
   },
   "outputs": [
    {
     "data": {
      "text/plain": [
       "{' ': 30,\n",
       " \"'\": 36,\n",
       " 'a': 1,\n",
       " 'b': 2,\n",
       " 'c': 32,\n",
       " 'd': 11,\n",
       " 'e': 27,\n",
       " 'f': 8,\n",
       " 'g': 24,\n",
       " 'h': 29,\n",
       " 'i': 3,\n",
       " 'j': 7,\n",
       " 'k': 35,\n",
       " 'l': 33,\n",
       " 'm': 12,\n",
       " 'n': 14,\n",
       " 'o': 28,\n",
       " 'p': 25,\n",
       " 'q': 26,\n",
       " 'r': 18,\n",
       " 's': 4,\n",
       " 't': 5,\n",
       " 'u': 37,\n",
       " 'v': 34,\n",
       " 'w': 20,\n",
       " 'x': 19,\n",
       " 'y': 0,\n",
       " 'z': 15,\n",
       " 'â': 13,\n",
       " 'ç': 10,\n",
       " 'ë': 9,\n",
       " 'î': 31,\n",
       " 'ö': 22,\n",
       " 'ü': 21,\n",
       " 'ğ': 17,\n",
       " 'ı': 16,\n",
       " 'ş': 23,\n",
       " '̇': 6}"
      ]
     },
     "execution_count": 10,
     "metadata": {},
     "output_type": "execute_result"
    }
   ],
   "source": [
    "vocab_dict = {v: k for k, v in enumerate(vocab_list)}\n",
    "vocab_dict"
   ]
  },
  {
   "cell_type": "markdown",
   "metadata": {
    "id": "JOSzbvs9SXT1"
   },
   "source": [
    "Cool, we see that all letters of the alphabet occur in the dataset (which is not really surprising) and we also extracted the special characters `\" \"` and `'`. Note that we did not exclude those special characters because: \n",
    "\n",
    "- The model has to learn to predict when a word is finished or else the model prediction would always be a sequence of chars which would make it impossible to separate words from each other.\n",
    "- From the transcriptions above it seems that words that include an apostrophe, such as `maktouf'un` do exist in Turkish, so I decided to keep the apostrophe in the dataset. This might be a wrong assumption though.\n",
    "\n",
    "One should always keep in mind that the data-preprocessing is a very important step before training your model. E.g., we don't want our model to differentiate between `a` and `A` just because we forgot to normalize the data. The difference between `a` and `A` does not depend on the \"sound\" of the letter at all, but more on grammatical rules - *e.g.* use a capitalized letter at the beginning of the sentence. So it is sensible to remove the difference between capitalized and non-capitalized letters so that the model has an easier time learning to transcribe speech. \n",
    "\n",
    "It is always advantageous to get help from a native speaker of the language you would like to transcribe to verify whether the assumptions you made are sensible, *e.g.* I should have made sure that keeping `'`, but removing other special characters is a sensible choice for Turkish. "
   ]
  },
  {
   "cell_type": "markdown",
   "metadata": {
    "id": "b1fBRCn-TRaO"
   },
   "source": [
    "To make it clearer to the reader that `\" \"` has its own token class, we give it a more visible character `|`. In addition, we also add an \"unknown\" token so that the model can later deal with characters not encountered in Common Voice's training set. \n",
    "\n",
    "Finally, we also add a padding token that corresponds to CTC's \"*blank token*\". The \"blank token\" is a core component of the CTC algorithm. For more information, please take a look at the \"Alignment\" section [here](https://distill.pub/2017/ctc/)."
   ]
  },
  {
   "cell_type": "code",
   "execution_count": null,
   "metadata": {
    "id": "npbIbBoLgaFX"
   },
   "outputs": [],
   "source": [
    "vocab_dict[\"|\"] = vocab_dict[\" \"]\n",
    "del vocab_dict[\" \"]"
   ]
  },
  {
   "cell_type": "code",
   "execution_count": null,
   "metadata": {
    "colab": {
     "base_uri": "https://localhost:8080/"
    },
    "id": "znF0bNunsjbl",
    "outputId": "6d94ef08-ba82-41f5-8115-b72b2ebbdea5"
   },
   "outputs": [
    {
     "data": {
      "text/plain": [
       "40"
      ]
     },
     "execution_count": 17,
     "metadata": {},
     "output_type": "execute_result"
    }
   ],
   "source": [
    "vocab_dict[\"[UNK]\"] = len(vocab_dict)\n",
    "vocab_dict[\"[PAD]\"] = len(vocab_dict)\n",
    "len(vocab_dict)"
   ]
  },
  {
   "cell_type": "markdown",
   "metadata": {
    "id": "SFPGfet8U5sL"
   },
   "source": [
    "Cool, now our vocabulary is complete and consists of 40 tokens, which means that the linear layer that we will add on top of the pretrained XLSR-Wav2Vec2 checkpoint will have an output dimension of 40."
   ]
  },
  {
   "cell_type": "markdown",
   "metadata": {
    "id": "1CujRgBNVRaD"
   },
   "source": [
    "Let's now save the vocabulary as a json file."
   ]
  },
  {
   "cell_type": "code",
   "execution_count": null,
   "metadata": {
    "id": "ehyUoh9vk191"
   },
   "outputs": [],
   "source": [
    "import json\n",
    "with open('vocab.json', 'w') as vocab_file:\n",
    "    json.dump(vocab_dict, vocab_file)"
   ]
  },
  {
   "cell_type": "markdown",
   "metadata": {
    "id": "SHJDaKlIVVim"
   },
   "source": [
    "In a final step, we use the json file to instantiate a tokenizer object with the just created vocabulary file. The correct `tokenizer_type` can be retrieved from the model configuration. If a `tokenizer_class` is defined in the config, we can use it, else we assume the `tokenizer_type` corresponds to the `model_type`."
   ]
  },
  {
   "cell_type": "code",
   "execution_count": null,
   "metadata": {
    "colab": {
     "base_uri": "https://localhost:8080/",
     "height": 1000,
     "referenced_widgets": [
      "d445ed26cd1d40818c365692d1571680",
      "65638636bae241c4854bc4f4a5072df9",
      "f3f0679acbf142bf9acc2f46701e83f8",
      "60edc69af033421c9aba4fc943f2c216",
      "b18db8e171bd49009f89d0f961915dfc",
      "0d518bc066b748abb06eb2771c08de2d",
      "77f181b4a00249a1b87089c1abe7b211",
      "8dc8b6250b434548b0458a21da8adf84",
      "9ead4f9338b54d3099708b011af67d23",
      "97668f7e04794b7882d9f7886307d69d",
      "225f9449901d4ceea038c6b8573181ed"
     ]
    },
    "id": "1VKVaSZm7Clh",
    "outputId": "e457a449-d80a-47c0-c132-088694f07874"
   },
   "outputs": [
    {
     "name": "stderr",
     "output_type": "stream",
     "text": [
      "https://huggingface.co/facebook/wav2vec2-large-xlsr-53/resolve/main/config.json not found in cache or force_download set to True, downloading to /root/.cache/huggingface/transformers/tmpnsopg59z\n"
     ]
    },
    {
     "data": {
      "application/vnd.jupyter.widget-view+json": {
       "model_id": "d445ed26cd1d40818c365692d1571680",
       "version_major": 2,
       "version_minor": 0
      },
      "text/plain": [
       "Downloading:   0%|          | 0.00/1.73k [00:00<?, ?B/s]"
      ]
     },
     "metadata": {},
     "output_type": "display_data"
    },
    {
     "name": "stderr",
     "output_type": "stream",
     "text": [
      "storing https://huggingface.co/facebook/wav2vec2-large-xlsr-53/resolve/main/config.json in cache at /root/.cache/huggingface/transformers/8508c73cd595eb416a1d517b90762416c0bc6cfbef529578079aeae4d8c14336.7581ed2ee0c677f1e933180df51bd1a668c4a2b6d5fd1297d32069373dac097c\n",
      "creating metadata file for /root/.cache/huggingface/transformers/8508c73cd595eb416a1d517b90762416c0bc6cfbef529578079aeae4d8c14336.7581ed2ee0c677f1e933180df51bd1a668c4a2b6d5fd1297d32069373dac097c\n",
      "loading configuration file https://huggingface.co/facebook/wav2vec2-large-xlsr-53/resolve/main/config.json from cache at /root/.cache/huggingface/transformers/8508c73cd595eb416a1d517b90762416c0bc6cfbef529578079aeae4d8c14336.7581ed2ee0c677f1e933180df51bd1a668c4a2b6d5fd1297d32069373dac097c\n",
      "Model config Wav2Vec2Config {\n",
      "  \"activation_dropout\": 0.0,\n",
      "  \"apply_spec_augment\": true,\n",
      "  \"architectures\": [\n",
      "    \"Wav2Vec2ForPreTraining\"\n",
      "  ],\n",
      "  \"attention_dropout\": 0.1,\n",
      "  \"bos_token_id\": 1,\n",
      "  \"classifier_proj_size\": 256,\n",
      "  \"codevector_dim\": 768,\n",
      "  \"contrastive_logits_temperature\": 0.1,\n",
      "  \"conv_bias\": true,\n",
      "  \"conv_dim\": [\n",
      "    512,\n",
      "    512,\n",
      "    512,\n",
      "    512,\n",
      "    512,\n",
      "    512,\n",
      "    512\n",
      "  ],\n",
      "  \"conv_kernel\": [\n",
      "    10,\n",
      "    3,\n",
      "    3,\n",
      "    3,\n",
      "    3,\n",
      "    2,\n",
      "    2\n",
      "  ],\n",
      "  \"conv_stride\": [\n",
      "    5,\n",
      "    2,\n",
      "    2,\n",
      "    2,\n",
      "    2,\n",
      "    2,\n",
      "    2\n",
      "  ],\n",
      "  \"ctc_loss_reduction\": \"sum\",\n",
      "  \"ctc_zero_infinity\": false,\n",
      "  \"diversity_loss_weight\": 0.1,\n",
      "  \"do_stable_layer_norm\": true,\n",
      "  \"eos_token_id\": 2,\n",
      "  \"feat_extract_activation\": \"gelu\",\n",
      "  \"feat_extract_dropout\": 0.0,\n",
      "  \"feat_extract_norm\": \"layer\",\n",
      "  \"feat_proj_dropout\": 0.1,\n",
      "  \"feat_quantizer_dropout\": 0.0,\n",
      "  \"final_dropout\": 0.0,\n",
      "  \"gradient_checkpointing\": false,\n",
      "  \"hidden_act\": \"gelu\",\n",
      "  \"hidden_dropout\": 0.1,\n",
      "  \"hidden_size\": 1024,\n",
      "  \"initializer_range\": 0.02,\n",
      "  \"intermediate_size\": 4096,\n",
      "  \"layer_norm_eps\": 1e-05,\n",
      "  \"layerdrop\": 0.1,\n",
      "  \"mask_channel_length\": 10,\n",
      "  \"mask_channel_min_space\": 1,\n",
      "  \"mask_channel_other\": 0.0,\n",
      "  \"mask_channel_prob\": 0.0,\n",
      "  \"mask_channel_selection\": \"static\",\n",
      "  \"mask_feature_length\": 10,\n",
      "  \"mask_feature_prob\": 0.0,\n",
      "  \"mask_time_length\": 10,\n",
      "  \"mask_time_min_space\": 1,\n",
      "  \"mask_time_other\": 0.0,\n",
      "  \"mask_time_prob\": 0.075,\n",
      "  \"mask_time_selection\": \"static\",\n",
      "  \"model_type\": \"wav2vec2\",\n",
      "  \"num_attention_heads\": 16,\n",
      "  \"num_codevector_groups\": 2,\n",
      "  \"num_codevectors_per_group\": 320,\n",
      "  \"num_conv_pos_embedding_groups\": 16,\n",
      "  \"num_conv_pos_embeddings\": 128,\n",
      "  \"num_feat_extract_layers\": 7,\n",
      "  \"num_hidden_layers\": 24,\n",
      "  \"num_negatives\": 100,\n",
      "  \"pad_token_id\": 0,\n",
      "  \"proj_codevector_dim\": 768,\n",
      "  \"transformers_version\": \"4.12.0.dev0\",\n",
      "  \"use_weighted_layer_sum\": false,\n",
      "  \"vocab_size\": 32\n",
      "}\n",
      "\n"
     ]
    }
   ],
   "source": [
    "from transformers import AutoConfig\n",
    "\n",
    "config = AutoConfig.from_pretrained(model_checkpoint)\n",
    "\n",
    "tokenizer_type = config.model_type if config.tokenizer_class is None else None\n",
    "config = config if config.tokenizer_class is not None else None"
   ]
  },
  {
   "cell_type": "markdown",
   "metadata": {
    "id": "P5B_bVhf7H_K"
   },
   "source": [
    "Now we can instantiate a tokenizer using `AutoTokenizer`. Additionally, we set the tokenizer's special tokens."
   ]
  },
  {
   "cell_type": "code",
   "execution_count": null,
   "metadata": {
    "colab": {
     "base_uri": "https://localhost:8080/"
    },
    "id": "xriFGEWQkO4M",
    "outputId": "ca382eec-069e-452c-a324-6bf012fdfb4a"
   },
   "outputs": [
    {
     "name": "stderr",
     "output_type": "stream",
     "text": [
      "Didn't find file ./tokenizer_config.json. We won't load it.\n",
      "Didn't find file ./added_tokens.json. We won't load it.\n",
      "Didn't find file ./special_tokens_map.json. We won't load it.\n",
      "Didn't find file ./tokenizer.json. We won't load it.\n",
      "loading file ./vocab.json\n",
      "loading file None\n",
      "loading file None\n",
      "loading file None\n",
      "loading file None\n",
      "file ./config.json not found\n",
      "Adding <s> to the vocabulary\n",
      "Adding </s> to the vocabulary\n",
      "Special tokens have been added in the vocabulary, make sure the associated word embeddings are fine-tuned or trained.\n"
     ]
    }
   ],
   "source": [
    "from transformers import AutoTokenizer\n",
    "\n",
    "tokenizer = AutoTokenizer.from_pretrained(\n",
    "  \"./\",\n",
    "  config=config,\n",
    "  tokenizer_type=tokenizer_type,\n",
    "  unk_token=\"[UNK]\",\n",
    "  pad_token=\"[PAD]\",\n",
    "  word_delimiter_token=\"|\",\n",
    ")"
   ]
  },
  {
   "cell_type": "markdown",
   "metadata": {
    "id": "KvL12DrNV4cx"
   },
   "source": [
    "If one wants to re-use the just created tokenizer with the fine-tuned model of this notebook, it is strongly advised to upload the `tokenizer` to the [🤗 Hub](https://huggingface.co/). Let's call the repo to which we will upload the files\n",
    "`\"wav2vec2-large-xlsr-turkish-demo-colab\"`:"
   ]
  },
  {
   "cell_type": "code",
   "execution_count": null,
   "metadata": {
    "id": "A1XApZBAF2zr"
   },
   "outputs": [],
   "source": [
    "model_checkpoint_name = model_checkpoint.split(\"/\")[-1]\n",
    "repo_name = f\"{model_checkpoint_name}-demo-colab\""
   ]
  },
  {
   "cell_type": "markdown",
   "metadata": {
    "id": "B1BiezWZF16d"
   },
   "source": [
    "and upload the tokenizer to the [🤗 Hub](https://huggingface.co/)."
   ]
  },
  {
   "cell_type": "code",
   "execution_count": null,
   "metadata": {
    "colab": {
     "base_uri": "https://localhost:8080/",
     "height": 161
    },
    "id": "zytE1175GAKM",
    "outputId": "38618d69-21f2-46b2-d4ac-4d54f51a4068"
   },
   "outputs": [
    {
     "name": "stderr",
     "output_type": "stream",
     "text": [
      "Cloning https://huggingface.co/patrickvonplaten/wav2vec2-large-xlsr-53-demo-colab into local empty directory.\n",
      "tokenizer config file saved in wav2vec2-large-xlsr-53-demo-colab/tokenizer_config.json\n",
      "Special tokens file saved in wav2vec2-large-xlsr-53-demo-colab/special_tokens_map.json\n",
      "added tokens file saved in wav2vec2-large-xlsr-53-demo-colab/added_tokens.json\n",
      "To https://huggingface.co/patrickvonplaten/wav2vec2-large-xlsr-53-demo-colab\n",
      "   d42ec75..6c70130  main -> main\n",
      "\n"
     ]
    },
    {
     "data": {
      "application/vnd.google.colaboratory.intrinsic+json": {
       "type": "string"
      },
      "text/plain": [
       "'https://huggingface.co/patrickvonplaten/wav2vec2-large-xlsr-53-demo-colab/commit/6c70130c37a0bcfe24913105c3e6264e2f5c368d'"
      ]
     },
     "execution_count": 67,
     "metadata": {},
     "output_type": "execute_result"
    }
   ],
   "source": [
    "tokenizer.push_to_hub(repo_name)"
   ]
  },
  {
   "cell_type": "markdown",
   "metadata": {
    "id": "SwQM8lH_GGuP"
   },
   "source": [
    "Great, you can see the just created repository under `https://huggingface.co/<your-username>/wav2vec2-large-xlsr-turkish-demo-colab` ."
   ]
  },
  {
   "cell_type": "markdown",
   "metadata": {
    "id": "YFmShnl7RE35"
   },
   "source": [
    "### Preprocess Data\n",
    "\n",
    "So far, we have not looked at the actual values of the speech signal but just the transcription. In addition to `sentence`, our datasets include two more column names `path` and `audio`. `path` states the absolute path of the audio file. Let's take a look.\n"
   ]
  },
  {
   "cell_type": "code",
   "execution_count": null,
   "metadata": {
    "colab": {
     "base_uri": "https://localhost:8080/",
     "height": 35
    },
    "id": "TTCS7W6XJ9BG",
    "outputId": "ddafaa49-7f03-421e-e6a5-334b41f3287e"
   },
   "outputs": [
    {
     "data": {
      "application/vnd.google.colaboratory.intrinsic+json": {
       "type": "string"
      },
      "text/plain": [
       "'/root/.cache/huggingface/datasets/downloads/extracted/05be0c29807a73c9b099873d2f5975dae6d05e9f7d577458a2466ecb9a2b0c6b/cv-corpus-6.1-2020-12-11/tr/clips/common_voice_tr_21921195.mp3'"
      ]
     },
     "execution_count": 68,
     "metadata": {},
     "output_type": "execute_result"
    }
   ],
   "source": [
    "common_voice_train[0][\"path\"]"
   ]
  },
  {
   "cell_type": "markdown",
   "metadata": {
    "id": "T6ndIjHGFp0W"
   },
   "source": [
    "`XLSR-Wav2Vec2` expects the input in the format of a 1-dimensional array of 16 kHz. This means that the audio file has to be loaded and resampled.\n",
    "\n",
    " Thankfully, `datasets` does this automatically by calling the other column `audio`. Let try it out. "
   ]
  },
  {
   "cell_type": "code",
   "execution_count": null,
   "metadata": {
    "colab": {
     "base_uri": "https://localhost:8080/"
    },
    "id": "qj_z5Zc3GAs9",
    "outputId": "a910e54e-b2a6-4101-e01a-2c26eb7fe2bb"
   },
   "outputs": [
    {
     "data": {
      "text/plain": [
       "{'array': array([ 0.0000000e+00,  0.0000000e+00,  0.0000000e+00, ...,\n",
       "        -8.8930130e-05, -3.8027763e-05, -2.9146671e-05], dtype=float32),\n",
       " 'path': '/root/.cache/huggingface/datasets/downloads/extracted/05be0c29807a73c9b099873d2f5975dae6d05e9f7d577458a2466ecb9a2b0c6b/cv-corpus-6.1-2020-12-11/tr/clips/common_voice_tr_21921195.mp3',\n",
       " 'sampling_rate': 48000}"
      ]
     },
     "execution_count": 69,
     "metadata": {},
     "output_type": "execute_result"
    }
   ],
   "source": [
    "common_voice_train[0][\"audio\"]"
   ]
  },
  {
   "cell_type": "markdown",
   "metadata": {
    "id": "WUUTgI1bGHW-"
   },
   "source": [
    "Great, we can see that the audio file has automatically been loaded. This is thanks to the new [`\"Audio\"` feature](https://huggingface.co/docs/datasets/package_reference/main_classes.html?highlight=audio#datasets.Audio) introduced in `datasets == 1.13.3`, which loads and resamples audio files on-the-fly upon calling.\n",
    "\n",
    "In the example above we can see that the audio data is loaded with a sampling rate of 48kHz whereas 16kHz are expected by the model. We can set the audio feature to the correct sampling rate by making use of [`cast_column`](https://huggingface.co/docs/datasets/package_reference/main_classes.html?highlight=cast_column#datasets.DatasetDict.cast_column):"
   ]
  },
  {
   "cell_type": "code",
   "execution_count": null,
   "metadata": {
    "id": "rrv65aj7G95i"
   },
   "outputs": [],
   "source": [
    "common_voice_train = common_voice_train.cast_column(\"audio\", Audio(sampling_rate=16_000))\n",
    "common_voice_test = common_voice_test.cast_column(\"audio\", Audio(sampling_rate=16_000))"
   ]
  },
  {
   "cell_type": "markdown",
   "metadata": {
    "id": "PcnO4x-NGBEi"
   },
   "source": [
    "Let's take a look at `\"audio\"` again."
   ]
  },
  {
   "cell_type": "code",
   "execution_count": null,
   "metadata": {
    "colab": {
     "base_uri": "https://localhost:8080/"
    },
    "id": "aKtkc1o_HWHC",
    "outputId": "7b565ed2-d842-4096-ac59-2fb68ae38664"
   },
   "outputs": [
    {
     "data": {
      "text/plain": [
       "{'array': array([ 0.0000000e+00,  0.0000000e+00,  0.0000000e+00, ...,\n",
       "        -7.4556941e-05, -1.4621433e-05, -5.7861507e-05], dtype=float32),\n",
       " 'path': '/root/.cache/huggingface/datasets/downloads/extracted/05be0c29807a73c9b099873d2f5975dae6d05e9f7d577458a2466ecb9a2b0c6b/cv-corpus-6.1-2020-12-11/tr/clips/common_voice_tr_21921195.mp3',\n",
       " 'sampling_rate': 16000}"
      ]
     },
     "execution_count": 71,
     "metadata": {},
     "output_type": "execute_result"
    }
   ],
   "source": [
    "common_voice_train[0][\"audio\"]"
   ]
  },
  {
   "cell_type": "markdown",
   "metadata": {
    "id": "SOckzFd4Mbzq"
   },
   "source": [
    "This seemed to have worked! Let's listen to a couple of audio files to better understand the dataset and verify that the audio was correctly loaded. \n",
    "\n",
    "**Note**: *You can click the following cell a couple of times to listen to different speech samples.*"
   ]
  },
  {
   "cell_type": "code",
   "execution_count": null,
   "metadata": {
    "colab": {
     "base_uri": "https://localhost:8080/",
     "height": 92
    },
    "id": "dueM6U7Ev0OA",
    "outputId": "0af491c1-f19e-4419-92c6-7f3fc43ee28b"
   },
   "outputs": [
    {
     "name": "stdout",
     "output_type": "stream",
     "text": [
      "seçimlerde önemli bir olay bildirilmedi \n"
     ]
    },
    {
     "data": {
      "text/html": [
       "\n",
       "                <audio controls=\"controls\" autoplay=\"autoplay\">\n",
       "                    <source src=\"data:audio/wav;base64,UklGRiS7AgBXQVZFZm10IBAAAAABAAEAgD4AAAB9AAACABAAZGF0YQC7AgAAAAAAAAAAAAAAAAAAAAAAAAAAAAAAAAAAAAAAAAAAAAAAAAAAAAAAAAAAAAAAAAAAAAAAAAAAAAAAAAAAAAAAAAAAAAAAAAAAAAAAAAAAAAAAAAAAAAAAAAAAAAAAAAAAAAAAAAAAAAAAAAAAAAAAAAAAAAAAAAAAAAAAAAAAAAAAAAAAAAAAAAAAAAAAAAAAAAAAAAAAAAAAAAAAAAAAAAAAAAAAAAAAAAAAAAAAAAAAAAAAAAAAAAAAAAAAAAAAAAAAAAAAAAAAAAAAAAAAAAAAAAAAAAAAAAAAAAAAAAAAAAAAAAAAAAAAAAAAAAAAAAAAAAAAAAAAAAAAAAAAAAAAAAAAAAAAAAAAAAAAAAAAAAAAAAAAAAAAAAAAAAAAAAAAAAAAAAAAAAAAAAAAAAAAAAAAAAAAAAAAAAAAAAAAAAAAAAAAAAAAAAAAAAAAAAAAAAAAAAAAAAAAAAAAAAAAAAAAAAAAAAAAAAAAAAAAAAAAAAAAAAAAAAAAAAAAAAAAAAAAAAAAAAAAAAAAAAAAAAAAAAAAAAAAAAAAAAAAAAAAAAAAAAAAAAAAAAAAAAAAAAAAAAAAAAAAAAAAAAAAAAAAAAAAAAAAAAAAAAAAAAAAAAAAAAAAAAAAAAAAAAAAAAAAAAAAAAAAAAAAAAAAAAAAAAAAAAAAAAAAAAAAAAAAAAAAAAAAAAAAAAAAAAAAAAAAAAAAAAAAAAAAAAAAAAAAAAAAAAAAAAAAAAAAAAAAAAAAAAAAAAAAAAAAAAAAAAAAAAAAAAAAAAAAAAAAAAAAAAAAAAAAAAAAAAAAAAAAAAAAAAAAAAAAAAAAAAAAAAAAAAAAAAAAAAAAAAAAAAAAAAAAAAAAAAAAAAAAAAAAAAAAAAAAAAAAAAAAAAAAAAAAAAAAAAAAAAAAAAAAAAAAAAAAAAAAAAAAAAAAAAAAAAAAAAAAAAAAAAAAAAAAAAAAAAAAAAAAAAAAAAAAAAAAAAAAAAAAAAAAAAAAAAAAAAAAAAAAAAAAAAAAAAAAAAAAAAAAAAAAAAAAAAAAAAAAAAAAAAAAAAAAAAAAAAAAAAAAAAAAAAAAAAAAAAAAAAAAAAAAAAAAAAAAAAAAAAAAAAAAAAAAAAAAAAAAAAAAAAAAAAAAAAAAAAAAAAAAAAAAAP//AAAAAAAAAAAAAAAAAAAAAAAAAQAAAAAA//8AAAAAAAAAAAAAAAAAAAAAAAAAAP//AAAAAAAAAAAAAAAAAAAAAAAAAAAAAP7/9//0//P/8//z//P/9f/2//f/+v/7//z//f/+/wAAAAAAAAAA/f/6//n/+P/5//n/+//8//7/AAADAAUABwAJAAoACQAHAAYABAABAAAA/v/+//7//v///wAAAgAEAAYABwAHAAYABAACAAAA/f/7//r/+f/6//z///8AAAEAAwACAAIAAgACAAIAAQABAAEAAQABAAEAAQABAAEAAQABAAEAAAAAAP//AAAAAAAAAQD///7//v/+//7//P/7//v/+v/6//n/9v/3//f/+P/6//z//v/+//7//v/9//3//f/8//3//v8AAAAAAAABAAIAAgACAAEAAAAAAP7//f/8//z//v///wAABAAFAAcABwAIAAgABgAHAAgABgAGAAYABAACAAQABAAGAAYABwAGAAYABQADAAIAAgACAAIAAwAEAAMABAADAAMAAgABAP///v/8//f/9f/y//D/8f/y//T/9v/4//j/+f/5//j/+v/6//v//P/9//3//f/9////AAABAAIABAAEAAUABAADAAIABAAGAAYACAAIAAgABwAFAAMAAgABAAEAAAD////////+/wAAAAAAAAEAAQABAAAAAAAAAAAA//8AAAAAAAD///7//P/6//r/+v/7//3//v//////AAAAAAAAAAAAAAAAAAAAAAAAAAAAAAAAAAAAAAAAAAAAAAAAAAAAAAAAAAAAAAAAAAAAAAAAAAAAAAAAAAAAAAAAAAAAAAAAAAAAAAAAAAAAAAAAAAAAAAAAAAAAAAAAAAAAAAAAAAAAAAAAAAAAAAAAAQABAAIAAwADAAQABQAFAAYABgAHAAYABgAFAAQAAwABAAAA/v/7//n/9v/z//H/7//t/+v/6f/o/+f/5//n/+f/6P/p/+v/7P/u//D/8//2//j/+//+/wAAAwAGAAkACwAOAA8AEQATABMAFAAUABMAEgARAA8ADQAMAAoACAAHAAUAAwACAAIAAQAAAAAAAAAAAAAAAAAAAAAAAAAAAAAAAAAAAAAAAAAAAP//AAAAAAAAAAAAAAAA/////wAAAAAAAAIAAgABAAAA/////wEAAAAAAAEAAgABAP///f/+/wAAAAADAAUAAQD//////f///wEAAgACAAEA/v/8//3/AAADAAkADgAMAAYAAgD+//3//P/1//r/+//3/wAAAQADAAwAFQAZAB0AEwAJAP7/9//6/+r/9P/y/wIADQAIABYAEAABAOL/4v/3/wsA/P/f/+H/6//l/9f/3P8OAB0ALQDr//X/7f/7/wsA+/8hAP7/EQDu//v/+f/p/+n/4v/n/wUAAAAjANT/uP+Z//z/3ADAAeACfwOmA/8CQwLvAQUC/gHrAUEBFAGVAC4ASwCrAJUBCwJqAjICfAK2AmcCsgGmAGoAtQAoAc8B1AFzAlQCUgJ5AgUC1QEXAYYAf//M/kf+Lf72/q7/aQAwAKv/u/82AFkB9AGQAlMD6gIlAlUB9P+H/m/8NfvI+vT6PvuO+1z8TfzV+xz7zvqZ+jD7lvzC/Rb/oP/s/zsAcgDo/ykAiQDCAP8B4wLuA5gEgQUSBhsG3wVtBDQDagJ0AQ8BdABCAJP/pP+0/4j/1f9b/+n+Ef5N/dX8W/xF/C/8OfxT/FP80fv++rL6/Pl0+dz5+vkn+nb6xfmn+VH5wPhE+Ff44viW+Wn6T/sg/E38xvz//IT9nf4k/zIAAgHXAZUCegIPAgYBLAAnAGMA3QC6AJwAZABHAB4BggEQAh4CPAK2ApoCdQIRAvkA/ABrAP7/SADEAAgB4AA/AfMAWAGAAdUB8QGQAggDgQLzAcAASP9Y/on9Uf0R/ob+UP8AAMEAeAF1AWIBnwGxAT8CiQJ4Ai4CWwGCALb/NP/I/qj+qP66/hf/dv+A/87/awBnAPv/Pv+D/qz9k/0t/sj+yP8WAAMA9f+7/8D/Ev8B/0X/3//HAOoBcwJWAqoBLgEFAbEA2/9a/63/TgA+AWwCeQOYA4ADKANsArYBbABu/3j/JQDVAEwB1AGKAUgBnQHrAbgB4gGiAdkAYgD+/3L/Uv6O/a/9Uf4C/5n/3f8ZABsAawBpALIApABKAFwAvgDoAecC+wJ6AgECNwGlAXMBgQHfAX8CQAL2AZ8BJQGJAOn/gv/9/kP/mv5U/p7+6/2d/ez9JP7M/or/JACnAEQBnwHFAcQBAQL5AT4BbABl/6v+7v0E/sf+T/+2/9L/wP84/5z+Tf51/cv8tfzi/FH9Af4Z/57/8P+o/z7/EP/g/vb+R/7V/TL92Pww/Tf98/2L/nz+tv5S/83/LgDUAAgBnAB4AEgAz/+L/3L/Uv8OAHYB/AJnBPwEqwTlA3QD4QK9ApkCwgKpAvwBnAEFAX0AGgB9ABQBeQFSAi0DQQQ2Be8FrQaYBvsF8QP9AcT/DP75/Dz8GPw2/LH8dP1z/of/9v+l/z7/0f1R/Pn6gPpR+gP6Vfpo+jf7tfve/EH+U/+SAP0ABwHPALn/of5F/ar87Pz+/MP9+f3I/Vj93fyr/C39xP3n/kEAQQEAAsICFAPiA3EEMgSCBKAEewQWBOwD2QM/AxQDTgK7ATgBGwGAASMCGgJyAR4BAwDN/8P/vP8PAKkA7QAJAREBLQAn/wb+rv0J/s7+JwA4AckBIALCARoBiQDZ/3n/m/5H/gv+Kv4+/jz+vf4X/oT9tf3G/fX9xf1D/lj+uv4H/9D+9v79/q3+T/4v/jj+nv7z/pn/SQDlALkB8AHTAUABJQAc/0n+hP1O/ZL9d/2h/WL9Gv0n/T39Yv34/UD+4v2i/dr8O/wn/Jv8xvyB/Nr8rfzg+5v7Mvuu+338xf0l/0QA5ADyALUAgwBuADsAeAB/ALcAJQE+AWcBzgH0Ac0B1AF6AZsBuQFwAoYCwQI6A1MDVwPaAj0CLgG2ACMB6gD1AEkBQgE0AcEBSQJqAggD5APBBBcFkwTUA/kCRQJUAtMB4gBtAEQAOQDX/4z/yP/a/wIADAA5AG4Asv/4/iH+hf2h/XL9yf1F/oz+b/80AMEA0wAsAOH+cf1J/Kz7YvxK/bj+IwDuAIkBiQELAUEBkgE8ArkB1QBAAEj/pv4F/47/nQDNAZgC5AJOAz4D+QIDA6EC4AKFAqEBugDT/xT/Z/64/p/+NP4S/uf9X/5Q/yAAtACdACMBEgGmABMAcf+m/wgAlgDGAFQAhADC/y//y/60/rn+L/6P/lb/pv9VALUApgBQANL/RP+L/1YA0gD7AF0A1/98/y7/zf8lAfkBsAJ7AvcBHgK3AoIDMgP0AlkC6AH2Ad4BrgFjARcBMQB+/wL/TP9j/w4A/ACoAYIBfAFyAfAAIwAB/0r+zP06/r3+CgA1AcQBMALIAVMBiwBP/3j+wv3h/P/7IPwm/ET8SfwB/Gn73frH+p372vy4/eD+fP+x/9L/sQA6ASYC2wH/ANwA6f+m/+j/UwC+AB8BmwGWAfgBmwLLAjoDWANGA7MDVATcBMQFGgY/BZgESwNgApQB0wC2AMQAHwGQAQ8CWQI+AsQBdwADAEsATgCvAFgA9f+W/7v+Qf4A/jL+B/41/vT+Kf+T/43/ef8UAO7/t//w/6QAFQF6AegBcwLjAhcDSwOWA7MDpwNtA58CIwK1ATACiAKBAxcEdARNBVEFCQXdBDcEAARBA7gCAwMFA+wCawKuAZAA1/88/4b+4v1H/SD9F/0u/TP9dv3x/cb+if9R/2j/1P7o/TH91vzQ/Lb8/PxX/Ub+7/5O/hL+Pf1c/KT7YfvY+7D8xf21/qb/PwA/ACUA4/50/fv86vxE/Yf9qf11/Xr9rv2P/uv/HAGUAd8BKgJtAtYChwKSASMAP/51/EH7zfp2+1z85vyb/ej9Xf0x/b38/Py2/Wv+SP8z/+j+9/4i/6D+uP4Z/x7/9P7//pz+3P2W/TD9Kv0f/fb8Kf3J/aj+H/+u/2b/ef8b/4T+KP7i/Zf+K//J/9H/lf9Y/4H+8v1O/R79XP25/WD+AP+6/+D/9//J//P/8/+Q/2n/JP/C/tn+uf4F/t/91f38/V3+Ff9qAL4B4AJXA+kDmwShBNYE2gTiBI0EEgSYAxkD4QLGAu8CsAJIAiYBGQDB/pX9q/yI/Ej9C/4A/8P/1f9M/6T+tf0G/WP8w/uL+x370/qD+sv5H/mM+G/4Afn8+Qj7FP2w/iIA3wBoAPL/Pv8F/4D/eP+B/2D/qf72/Zb9n/1u/lT/TQC3AEQA6/+e/0//3v/rALQBWwL6AcABgwF3AAAAFf+4/eD8M/zX/AP+CP+bAGgCbgPjA5QDDgQJBEkDpQJyAhgCMwExAbEAjQBVACwANwB5//f+7P6T/ywAJgBd/5T+ev2C/Nj7ePtX+6H7RPxZ/W7+Zf+d/7b/jv9E/7v+Uv91ADMBDgLOAuwCrQJ4Av0BIwK2AnIDNAT4BNAFTAZABiAGMwYDBpMFpwWJBeAF/gVTBokG7AV/BZkEJARjA4oC6wJTAwkEEQQWBNIDqAJyAToAlf9H/zz/wv+c//D+eP7D/ZT97v2j/fX9uv3H/Yf9Y/2B/WH9P/0x/fP82vw1/Q/+9P4AAGoAtv9t/3n/U/95//7/AQEQAnICzgJ3Au0BcAHyABgBngE8AlQDWwQKBewE0wQxBD0D9gGKAAMA3v+dADkC4wO0BfkGCwdIBnUEeALrAP3/x/9bAD0BkwESAqMCjwI9Ap8BsgB5/yz/O/+8/lT/Qv9Z/3z/xP7d/sf+iv49/oL+YP8XAEEAMwAaAisDHwNAA/MCwgKRAj0CBQLTAawBeAFOASsB+wCjAFwAQwASAOD/zv/H/8n/sP+L/5b/Vv9E/y3/Mv81/yf/O/81/xf/8f7q/sX+m/6a/rD+nf7U/vf+If/2/vP+2f6h/n3+mf6n/rz+w/7S/ur+zv63/sX+yf6//rz+qf66/sL+sf61/rD+sv7C/sD+2/7Y/vX+5/78/vX++P7q/u7+8P7w/uX+5v7z/hH/Lf9A/1D/b/93/2r/af9n/3X/ef97/3//i/+C/4T/kf+N/5v/qv+2/7L/x/+8/8L/yv/V/+3/4f/e/9//1f/W/9X/z//F/9b/4v/n/9v/5//l/9//5P/t/+H/7f/l/+v//P/y/w4AAwANABAADwAXABwABQAJABIAGAAAAP//CgAKAAgABwAUABgAGwAMAA8AEgALABEAEQAdACsAIAAYABsAHgAXAA4ADQAIAAcAFwAdABoAEQATAA0ADQAGAAsADwAbAB0AIAAsABkAHgAZABMAEQAdACQAHgAZAB4AHAAVABYADQADAAAA/P8AAAAA+f/9/wAAAAD6//z//v/6//j/+v/+//3/BwATAA0AAQAJAAEA8f/4//H/7v/9//v/AgAKAP7/BAAIAP3/9f/1//n/9f/2//X/7P/p/+r/6//r/+//+P8AAAAABAAJAAYACAAAAP3/+//5//v/AQD///r/AAAEAAcAAwAJAAcAAAAAAPz/+f/4//n//P/9////AgADAAAA//8BAAoACQAOABEADwANAA0ADgAEAP7//f/9//v/+f/6/wAAAAAEAAcADAAPAA8ADgANAA0ACgAGAAQABgAGAAMABQADAAEA///+////AAAAAAEAAgACAAEAAAAAAP7//P/9//r/+P/3//T/9P/1//f/+/8AAAcADAAQABIAEwASABEADwAMAAkABAACAAAA/f/9/wAAAwAIAA0AEgAVABYAFgAUABEADAAJAAgABgAEAAIABAAGAAcACwAQABIAEwAUABEADgANAAwACgAIAAUABAABAAAA/f/5//f/9//5//v//P///wIAAwAFAAcABwAGAAYAAwABAAAA/f/6//j/+f/7//3/AQAEAAcACwANAA0ADAAKAAYABAACAP///P/8//3//v8AAAIABAAEAAQABQAEAAMAAgAAAAAA/v/9//v/+v/3//f/9f/0//f/+f/6//z///8AAAAAAQABAAAAAQABAAAAAQACAAIAAQACAAQABAAEAAUABAAEAAMAAQABAAIAAgADAAMABAABAAAA/f/7//r/+f/4//j/+v/8//7/AAABAAEAAwAEAAMAAwAEAAIAAAD+//7//v///////f/8//v//P/+////AAAAAAEAAwAEAAUAAwADAAAA/v/8//r/+P/4//f/9//6//z/AAACAAQABQAFAAUAAwABAP///f/9//z/+//6//r/+f/5//v//f8AAAMABQAIAAkACgAJAAgABQACAAIAAAAAAP////8AAAAA/////wAAAgAEAAYACAAIAAgABgADAAAA/v/7//j/+P/4//j/+v/7//3/AAAAAAAAAQACAAAA/v/8//n/9v/0//H/8v/y//X/+f/8//7/AQAEAAcACAAHAAgABwAHAAUAAwADAAEAAQABAAEAAgADAAUABQAIAAsADgAQAA4ADgALAAcAAwAAAP7/+//7//r/+v/7//v/+//6//r/+v/6//v/+v/6//v/+P/3//T/8v/w/+//8P/w//b/+v/9/wAABAAGAAgACQAJAAoACAAHAAcABgAGAAMAAgACAAEAAgACAAQABgAFAAcACQAIAAcABgAEAAIAAAAAAAAA////////AAACAAIAAwAEAAMAAQABAAAA/v/8//j/9v/1//b/9//4//j/+//+////AAAAAP///v/+//3//P/7//r/+//8//z//v8AAAAAAgAEAAUABQAGAAMAAAAAAP7//P/8//3//v/+/wAAAAACAAQABwAIAAgACQAIAAcABQACAAEA//////7////8//3//f/9/wAAAQAAAP//AAAAAAEAAAD9//r/+P/2//f/+P/5//z///8DAAsAEQAWABYAEgAMAAQA/v/2//P/7//u/+//7v/y//X/+////wUAEAAYACEAIgAeABYABwD5/+7/5P/g/9//4f/o//H//f8GAA8AFgAYABoAFQALAAAA8v/n/+T/5f/q//L/+P/5//r/+//5//3/AgAKABUAGwAcABcADQAAAPT/7P/p/+7/9/8AAAQABAABAP//AAAEAAkADwAUABQAEAAIAAAA9v/x//H/9v///wYACAAIAAUAAAD//wIABQAKAA0ADQAHAAEA+f/y/+7/7f/w//b/+////wEAAgACAAUACAAMAA0ACwAHAAAA+//3//T/9f/4//v/AAADAAMAAwABAP7//v8AAAAAAAD///3/+f/5//r/+////wAAAQACAAEAAAAAAP3///8AAAIABAAFAAQAAwACAAAAAAAAAP//AAD///7//P/8//v/+v/7//3/AAADAAYACQAJAAcABAAAAP///P/5//j/+v/8/wAABAAHAAkACwALAAsACQAHAAYABQADAAIAAAD///v/+P/5//r//f8BAAMABQAIAAcABgAEAAIA/f/6//f/8//z//L/8f/z//T/9//7////AgAEAAcABQAFAAMAAAD///z/+P/3//f/9//8/wAAAwAIAAoACwAMAAsACQAHAAUABQACAAIAAgACAAMAAQABAAEA/////wAAAAAAAAIAAwADAAIAAQABAAAA///9//z//f/+////AAAAAAAA//8AAP3//P/7//r//P/7//z//f/+//z//P/7//n/+P/5//n/+//9//3//v8AAAAAAAAAAAAAAgACAAMABAAGAAYACAAIAAYAAgD///3//P/7//z///8BAAMABQAEAAQAAgABAAAAAAAAAAIAAQAAAP///f/8//3//v8AAAIAAwAGAAYACAAIAAgACAAGAAMAAAD9//r/+v/5//v///8DAAUABAAFAAIAAAD+//z//P/7//v//P/8//3//f/9//3//P/7//v/+//6//v//P/8//7//v/+/////f/8//r/+P/5//r//f8AAAMABQAGAAcABwAFAAMABAACAAAAAQABAAAAAQAAAAIABAADAAQABwAHAAgACAAHAAcABAADAAQAAgACAAEAAQAAAP3//f/9//z//v/+/wAAAAD//////v/9//3/+//6//n/+f/2//b/9v/1//f/+P/6//z//f8AAAAAAAAAAAAAAAAAAP////8AAAAAAQACAAIABAAEAAMAAgACAAEAAwADAAIABAAFAAMAAwACAAEAAQAAAP//AAAAAAIAAwAFAAcABwAIAAYABAADAAMAAgACAAIAAwAEAAYABgAEAAUAAwACAAAA///9//3//P/6//v/+f/4//v/+//6//r/+v/6//n/+f/5//r/+f/5//n/+f/5//n/+f/4//v/+//7//z//f8AAAAAAQABAAEAAQABAAAAAgADAAIABAAEAAUACAAIAAgACAAJAAcABgAHAAcABgAGAAUABQAEAAMAAgABAAEAAQACAAEAAgACAAEAAQABAAEAAAD///3//P/8//v//f/+/wAAAAAAAAAAAAAAAAAAAAAAAAAA/v/9//3//P/7//v//P/+//7////+//3//v/9//3//f/+//3/+v/5//r/+P/6//v//f8AAAAAAgADAAMABAACAAEAAgABAAEAAQAAAAAAAAAAAAEAAgADAAQABQAFAAQABgAHAAcABwAGAAUABQACAAIAAgABAAAAAgADAAMABAAEAAQABAAFAAQABQADAAIAAgAAAP7//f/6//n/+f/6//z//P/8//3//P/8//r/+f/5//j/+P/5//j/+P/4//j/+f/5//v//P/+/////v/+/wAAAAAAAAEAAgABAAAAAAD//wAAAQACAAMABgAGAAYABwAIAAcABwAIAAcACAAGAAQAAgAAAAAAAQABAAIAAgADAAMAAgACAAMAAgAAAAAAAAAAAAAAAAAAAAAAAAAAAAIAAwADAAMAAgABAAEAAQACAAEAAgABAAEAAAD+//7//f/7//r/+f/6//v//P/9//z/+//8//z//P/8//v//P/8//z//P/8//z//P/8//z/+//+//7/AAAAAAAAAQABAAIAAgABAAEAAQABAAIAAgADAAQABAAEAAQABAAEAAQABAADAAMABAAEAAYABwAGAAcACAAGAAQAAwADAAMABAAEAAUABAAFAAMAAgACAAEAAAAAAAEAAAD///7//P/7//r/+f/5//j/+f/4//f/9//3//j/+P/4//j/+P/4//n/+f/6//v/+v/8//z//f/+//7/AAAAAAAAAAABAAIAAgADAAUABgAGAAkACgAKAAkACAAIAAYABQAFAAUABAAEAAQABAAEAAMABAAEAAMAAgACAAIAAgABAAAAAgADAAMAAgAAAP///v/+//7/AAAAAAIAAwADAAMAAQAAAAAA/f/9//3//P/6//n/+f/3//X/9//4//f/+P/4//n/+f/5//n/+P/4//j/9//2//b/9//4//j/+v/8//3/AAAAAAEAAAADAAMAAwAEAAUABgAHAAgACAAHAAcABQAEAAQABAAGAAcACwAMAAwADAANAAsACAAHAAQABAAEAAMAAwADAAMAAwACAAMAAgABAAIAAQAAAAEAAAD///3/+//6//j/9//3//X/9P/1//T/9f/2//f/9//4//j/+f/6//r/+f/7//r/+v/6//n/+f/5//r//P///wEAAwAFAAkACQAJAAkACgAIAAcACAAHAAcABwAHAAcABgAGAAYABgAHAAgACAAIAAgABgAFAAMAAgD///3/+//5//n/+P/4//n/+v/7//7//v/+/wAAAAAAAAAAAQAAAP7/+//5//f/9f/3//j/+f/8////AAABAAIAAgACAAIAAQABAAAA/v/9//3//P/8//z//P/9//7/AAABAAEAAwAEAAQABAAEAAMAAAAAAP7//v/9////AAAAAAEAAwADAAUABgAFAAYABgAHAAcABgAFAAMAAQAAAP///f/8//7/AAABAAMABAAGAAcABgAFAAQAAwACAAAAAAD+//3//P/8//z//P/9//z//f/9//7////+///////+//z//P/8//v/+v/6//n/+f/6//z//f/+/wAAAQABAAMAAwACAAQAAwADAAQAAgABAAEAAQABAAEAAgADAAMABAACAAIAAQAAAAEAAAD/////////////AAAAAAEAAAAAAAEAAQABAAEAAgAEAAMAAwAEAAMAAwACAAMAAwACAAMAAwADAAMAAwACAAEAAQAAAAAA//////7////9//z//f/6//n/+f/3//f/9v/1//X/9f/1//T/9P/1//f/9//5//3//v///wEAAQABAAEAAwAEAAMABQAFAAQABQAGAAgACQAKAAwADgAPAA4ADQANAAoACgAJAAcABwAFAAMAAwAEAAMABAAEAAQABAADAAEAAAD+//3/+//6//j/9f/0//T/9P/0//T/9//4//j/+f/5//n/+f/5//n/+v/6//r/+v/8//z//f///wAA/////////////wAAAAACAAIAAwAFAAQABAADAAQABAAEAAUABAACAAIAAQAAAAAAAAABAAAAAAAAAAAAAAAAAAAAAQAAAAAA//8AAAAAAAAAAAEAAQABAAEAAgAEAAQABQAFAAYABgAGAAYABQAFAAUABAAEAAQAAwAFAAUABQAEAAUABQAEAAUAAwACAAIAAQAAAP7//P/7//n/+f/6//n/+f/4//j/+P/4//n/+f/5//j/+P/5//n/+f/6//v/+//5//n/+f/6//z//v8AAAAAAAABAAEAAgADAAMABQAGAAYABgAGAAYABgAGAAkACgAKAAkACAAHAAgACAAIAAgACAAIAAcABgAFAAQAAwACAAIAAQABAAAAAAD///3//f/8//z//P/9//3//f/9//v/+v/5//j/+P/4//j/9v/1//b/9//2//j/+f/5//v//f/+//3//f/+//////////7/AAAAAAEAAwAEAAYABgAIAAgACgAMAAsADAAKAAoACQAHAAcABwAHAAYABwAHAAcABwAHAAcABQAEAAQAAgABAAAA/v/9//r/+v/6//n/+v/6//n/+v/5//j/+P/5//n/+f/7//z/+//7//z//P/8//z//f////7/AAAAAAAAAQABAAEAAgACAAEAAQABAAEAAQABAAAAAAAAAAAAAAAAAAAAAQAAAAEAAAAAAAAAAAAAAAAAAAD////////9//7/////////AAAAAAAAAQACAAIAAgADAAQABAAEAAQABQADAAMAAwADAAMAAwADAAMABAACAAEAAQAAAAAAAAD///7//v/9//z//P/8//z//P/8//7//////wAAAAD///7//f/9//3//f/9//3//f/9//3//f/9//7///8AAAAAAAAAAAEAAAACAAMAAwADAAMAAwADAAMAAwADAAMAAwABAAAAAQABAAEAAQABAAIAAQACAAIAAQACAAEAAQAAAAAAAAAAAAEAAgABAAEAAQAAAP////////7//f/8//z/+//7//v/+v/7//z//P/8//z//P/8//3///////////////////////7/AAAAAAAAAAAAAAAAAQABAAEAAwAEAAQABQAEAAUABAADAAMAAwADAAMAAwADAAIAAQABAAEAAQABAAEAAAAAAAEAAQABAAEAAAAAAP//////////AAAAAP7//f/+//z//P/9//z//v////7//v8AAAAAAAAAAAEAAQABAAAAAAABAAEAAQABAAEAAQAAAAAAAAAAAAAAAAAAAAAAAAABAAEAAQABAAEAAQABAAEAAgACAAIAAQAAAAEAAAD///////////////8AAP////////7//f/8//z//v/+//7//v8AAAAA//8AAAAAAAAAAAAAAAAAAAAA//8AAAAAAAAAAAAAAAAAAAAAAAABAAEAAQAAAAEAAQABAAEAAgABAAEAAQABAAEAAQABAAEAAQABAAEAAQABAAEAAQABAAEAAQABAAEAAAAAAAAAAAAAAAAAAQACAAIAAgABAAEAAQAAAP////8AAAAA///+//7//v////7/AAAAAAAAAAAAAAEAAAD////////+//3//f/8//z//v/////////////////+/wAAAAAAAAEAAQABAAEAAQABAAEAAQACAAAAAAAAAP//AAD///////8AAAAAAQABAAEAAgABAAEAAQABAAEAAQABAAEAAQABAAEAAQAAAAAAAAD//////f/8//z//P/+/////v8AAAAAAAAAAAEAAQABAAEAAQABAAEAAQABAAEAAQABAAEAAQABAAEAAgABAAAAAQAAAP/////////////////////+/////v/+//7/AAAAAAAAAQABAAEAAAAAAAAAAQAAAP////////7//f/9//7///////7/AAAAAAAAAAABAAEAAQABAAEAAQABAAEAAAACAAQAAwAEAAIAAQACAAAAAAAAAAAAAAAAAAAAAAAAAAAAAQABAAEAAAAAAAAAAAAAAP/////////////////////9//7////+///////+//7///////7///////////////7/AAAAAAAAAAAAAAAAAAABAAEAAQABAAIAAgABAAEAAgACAAEAAQABAAEAAQABAAEAAQABAAEAAAAAAAAAAAAAAAAAAAAAAAAAAAAAAAAAAAAAAAAAAAAAAAAAAAAAAAAAAAAAAAAAAAAAAAAAAAD///////////////////////8AAAAAAAAAAAAAAAAAAAAAAAAAAAAAAAAAAAAAAAAAAAAAAAAAAAAA//////7//v/+/wAAAAAAAAAAAQABAAEAAQABAAEAAAAAAAAAAQABAAEAAQAAAAAAAAAAAAAAAAAAAAAAAAAAAAAAAAAAAAAAAQABAAEAAQABAAEAAQABAAAAAAABAAAA///////////////////9//z//f/8//7////////////+/wAAAAAAAAAAAAAAAAAAAAAAAAAAAAAAAAAAAAAAAAAAAQABAAEAAQABAAEAAQABAAEAAQABAAEAAQABAAEAAgACAAIAAQABAAEAAAAAAAEAAAD//////v8AAAAAAAAAAAAAAAAAAAAAAAAAAAAAAAAAAAAAAAAAAAAAAAAAAAAAAAAAAAAAAAAAAP///////////v/+/////v8AAAAAAAAAAAAAAAABAAAAAAAAAAAAAAAAAAAAAAAAAAEAAQABAAEAAQABAAEAAQAAAAAAAAAAAAAAAAAAAAAAAAAAAP///////wAAAAAAAAAAAAAAAAAAAAAAAAAAAAABAAAA/////wAAAAAAAAAAAAAAAAAAAAAAAP/////////////+//7//v8AAAAAAAAAAAAAAAABAAEAAQABAAEAAQABAAEAAAAAAAAAAAAAAAAAAAAAAAAAAAAAAAAAAQABAAEAAQAAAAAAAAAAAAAAAAAAAAEAAQABAAAAAAAAAAAAAAAAAAAAAAAAAAAA/v////////8AAAAAAAAAAP/////+/////v8AAAAAAAAAAAAAAAAAAAAAAAAAAAAA///+//7/AAAAAAAAAAAAAAAAAAAAAAAAAAAAAAAAAAAAAAAAAAAAAAAAAQABAAEAAQABAAAAAAABAAEAAQAAAAEAAQAAAAAAAAAAAAAAAAAAAAAAAAAAAAAAAAAAAAAAAAAAAAAAAAAAAAAAAAAAAAAAAAAAAP///////wAAAAAAAAAAAAAAAAAAAAAAAAAAAAAAAAAAAAAAAAAAAAAAAAAAAQABAAEAAQABAAEAAAAAAAAAAAAAAAAA//////7///8AAAAAAAAAAAAAAAD///7//v/////////+//7//////wAAAAAAAAAAAQABAAEAAQAAAAAAAAABAAEAAAAAAAAAAAAAAAAAAAABAAEAAQABAAEAAQABAAEAAAAAAAAAAAAAAAAAAAAAAAAA/v////7/AAAAAAAAAAAAAAAAAAAAAAAAAAAAAAAAAAAAAP////////7//v8AAAAAAAAAAAAAAAABAAEAAQABAAEAAQABAAAAAAAAAAEAAAAAAAAAAAAAAAAAAAAAAAAAAAAAAAAAAAAAAAAAAAAAAAAAAAD//////v8AAAAAAAAAAAAAAAAAAAAA/////////////////v8AAAAAAAAAAAEAAQABAAEAAQABAAEAAQABAAEAAQABAAEAAAAAAAAAAAAAAAEAAQABAAEAAQABAAEAAQABAAEAAgABAAAAAQD///7////+//7//v8AAAAAAAAAAAAAAAAAAAAA///9//3//f/8//z//f////7//v8AAAAAAAABAAEAAQAAAAEA/////////f/8//7////+/wAAAQAAAAIAAwADAAQAAgABAAAAAAAAAAAAAAAAAAAAAAAAAAAAAAAAAAAAAAAAAAAAAAAAAAEAAAD///////////7/AAAAAAEAAQAAAAEAAAAAAAAA////////AAAAAAAAAAAAAAEAAQABAAEAAQAAAAAAAAAAAAAAAAAAAAAA////////AAAAAAAAAQABAAEAAQABAAAAAAAAAAAAAAAAAP///////////////wAAAAAAAAAAAAAAAAAAAAAAAAAAAAAAAAAAAAAAAAAAAQABAAEAAQAAAAAA///+//7//v8AAAAAAAAAAAAAAAAAAAAAAAAAAAAAAAD+//7/AAAAAAAAAAAAAAAAAQAAAAAAAAAAAAAAAAD///7////+/////////wAAAAAAAAAAAAABAAEAAQABAAEAAQAAAAAAAAAAAAAAAAAAAAAAAAAAAAAAAAAAAAAAAAAAAAAAAAAAAAAAAAAAAAAAAAAAAAAAAAAAAAAAAAAAAAAA//////7//v/+/wAAAAAAAAEAAQACAAEAAQABAAEAAQABAAAAAAAAAAAAAAAAAAAAAAAAAAEAAQABAAEAAQAAAAAAAAAAAAAAAAD//wAAAAAAAAAAAAAAAAAAAAAAAAAA///////////+//7//v/+//7/AAAAAAAAAAAAAAAAAAAAAAAAAAAAAAEAAQAAAAAAAAAAAAAAAQABAAEAAQABAAAAAAAAAAAAAAAAAAAAAAD//////v8AAAAAAAAAAAAAAAAAAAAAAAAAAAAAAAAAAP///v///wAAAAAAAAAAAAAAAAAAAAAAAAAAAAABAAEAAQABAAEAAQABAAEAAAAAAAAAAAAAAAAAAAAAAAAAAAAAAP////////7////////////+/wAAAAAAAAAAAQAAAAAAAAAAAAAAAAAAAAAAAAAAAAAAAAAAAAAAAAAAAAAAAAAAAAAAAAAAAAEAAQABAAAAAAAAAAAAAAAAAAAAAAABAAAA//////7//////////v/+//7//v/+/wAAAAAAAAAAAAAAAAAAAAAAAAAAAAAAAAAA//8AAAAAAAAAAAAAAAAAAAEAAQABAAEAAAAAAAAAAAAAAAAAAAAAAAAAAAAAAAAAAAAAAAAAAQD///7////+/wAAAAAAAAEA//////7/AAAAAAAAAAAAAAAA//8AAAAAAAAAAAAAAAAAAAAAAAAAAAEAAQABAAEAAQABAAAAAAAAAAAAAAAAAAAAAAAAAAAAAAABAAEAAQAAAAAAAAD////////+/wAAAAAAAAAAAAAAAAAAAAAAAAAAAAAAAAAAAAAAAAAAAAAAAAAAAAAAAAAAAAAAAAAAAAAAAAAAAAAAAAAAAAAAAAAAAAAAAAAAAAAAAAAA/////wAAAAD///7///////7/AAAAAAAAAAAAAAAAAAAAAAAAAAAAAAAAAAAAAAAAAAAAAAAAAAAAAAEAAQABAAAAAAAAAAAAAQABAAEAAAAAAAAAAAAAAAAAAAAAAAAAAAAAAAAA///+/wAAAAAAAAAAAAAAAAAAAAAAAAAAAAD////////+/wAAAAAAAAAAAAAAAAAAAAAAAAAAAAABAAEAAQABAAAAAAAAAAAAAAAAAAAAAAAAAAAAAQABAAEAAQABAAAAAAAAAAAAAAAAAAAAAAAAAAAAAAAAAP///////////v8AAAAAAAAAAAAAAAAAAAAAAQAAAAAAAAAAAAAAAAAAAAAAAAAAAAAA/////wAAAAAAAAEAAAAAAAAAAAAAAAAAAAAAAAAAAAAAAAAAAAD//////v////7//v8AAAAAAAAAAAAAAAAAAAAAAAAAAAAAAAAAAAAAAAAAAAAAAAAAAAAAAAAAAAEAAQABAAEAAQABAAEAAQABAAEAAAAAAAAAAAAAAAAAAAAAAAAAAAD///7/AAAAAAAAAAAAAAAAAAAAAAAAAAAAAAAAAAAAAAAAAAAAAAAAAAAAAAEAAAAAAAAAAAAAAAAAAAAAAAAAAAAAAAAAAAAAAAAAAAAAAAAA///+/////v/+/wAAAAAAAAAAAAAAAAAAAAAAAAAAAAAAAAAAAAAAAAAAAAAAAAAAAAAAAAAAAAAAAAAAAAAAAAAAAAAAAAAAAAAAAAAAAAAAAAAAAAD////////+/wAAAAD////////+/wAAAAAAAAAAAAAAAAAAAAAAAAAAAAAAAAAAAAAAAAAAAAAAAAAAAAAAAAAAAAAAAAAAAAAAAAAAAQABAAEAAQAAAAAAAAAAAAAAAAAAAAAAAAAAAAAAAAAAAAAAAAAAAAAAAAAAAAAAAAAAAAAAAAAAAAAAAAAAAAAAAAAAAAAAAAAAAAAAAAAAAAAAAAAAAAAAAAAAAAAAAAAAAAAAAAAAAAAAAAAAAAAAAAAAAAAAAAAAAAAAAAAAAAAAAAAAAAAAAAAAAAAAAAAAAP///v8AAP//AAD/////AAAAAAAAAAAAAAAAAAAAAAAAAAAAAAAAAAAAAAAAAAAAAAAAAAAAAAAAAAAAAAAAAAAAAAEAAQABAAEAAQABAAAAAAAAAAAAAAAAAAAAAAAAAAAAAAAAAAAAAAAAAAAAAAAAAAAAAAAAAAAAAAAAAAAAAAAAAAAAAAAAAAAAAAAAAAAAAAAAAAAAAAAAAAAAAAAAAAAAAAAAAAAAAAD///7//v/+/wAAAAAAAAAAAAAAAAAAAAAAAAAAAAAAAAAAAAAAAAAAAAAAAAAAAAAAAAAAAAAAAAAAAAAAAAAAAAAAAAAAAAAAAAAAAAAAAAAAAAAAAAAAAAAAAAAAAAAAAAAAAAAAAAAAAAAAAAAAAAAAAAAAAAAAAAAAAAAAAAAAAAAAAAAA///+/////v8AAAAAAAAAAAAAAAAAAAAAAAAAAAAAAAAAAAAAAAAAAAAAAAAAAAAAAAAAAAAAAAAAAAEAAQAAAAEAAQABAAEAAAABAAEAAQABAAEAAQABAAEAAAABAAEAAAAAAAAAAAAAAAAAAAAAAAAA//8AAP//AAAAAP7////+/////v/////////+//7//v/+///////+//7//v8AAAAAAAAAAAAAAAAAAAAAAAAAAAAAAAAAAAAAAAAAAAAAAAABAAEAAQABAAEAAAAAAAAAAAAAAAAAAAAAAAAAAAAAAAAAAAAAAAAAAAAAAAAAAAAAAAAAAAAAAAAAAQAAAAAAAAAAAAAAAAAAAAAAAAAAAAAAAAAAAAAAAAAAAAAAAAABAAEAAQABAAAAAAAAAAAAAAAAAAEAAAAAAAAAAAAAAAAAAAAAAAAAAAAAAAAA///+///////+//7////+//7//v/+//7//v8AAAAAAAAAAAAAAAAAAAAAAAAAAAAAAAAAAAAAAAAAAAAAAAAAAAAAAAAAAAAAAQABAAAAAAAAAAAAAAAAAAAAAAAAAAAAAAAAAAAAAAAAAAAAAAAAAAAAAAAAAAAAAAAAAAAA/////////v/+//7//v/+//7/AAAAAAAAAAAAAAAAAAAAAAAAAAAAAAAAAAAAAAAAAAAAAAAAAAAAAAAAAAAAAAAAAAAAAAAAAAAAAAAAAAAAAAAAAAAAAAAAAAAAAAAAAAAAAAAAAAAAAAAAAAAAAAAAAAAAAAAAAAAAAAAAAAAAAAAAAAAAAAAA/v8AAAAAAAAAAAAAAAAAAAAAAAAAAAAAAAAAAAAAAAAAAAAAAAAAAAAAAAAAAAAAAAAAAAAAAAAAAAAAAAAAAAAAAAAAAAAAAAAAAAAAAAAAAAAAAAAAAAAAAAAAAAAAAAAAAAAAAAAAAAAAAAAAAAAAAAAAAAAAAAAAAAAAAAD///7//v/+/wAAAAAAAAAAAAD///7//v8AAAAAAAAAAAAAAAAAAAAAAAAAAAAAAAABAAEAAAAAAAAAAAAAAAAAAAAAAAAAAAAAAAAAAAAAAAAAAAAAAAAAAAAAAAAAAAAAAAAAAAAAAAAAAAAAAAAAAAAAAAAAAAAAAAAAAAAAAAAAAAAAAAAAAAAAAAAAAAAAAAAAAAAAAAAAAAAAAAAAAAAAAAAAAAAAAAAAAAAAAAAAAAABAAEAAQAAAAAAAAAAAAAAAAAAAAAAAAAAAAAAAAAAAAAAAAAAAAAAAAAAAAAAAAAAAAAAAAAAAAAAAAAAAAAAAAAAAAAAAAAAAAAAAAAAAAAAAAAAAAAA//////7/AAAAAAAAAAD+/////v/+/wAAAAAAAAAAAAAAAAAAAAAAAAAAAAAAAAAAAAAAAAAAAAAAAAAAAAAAAAEAAQABAAEAAAAAAAAAAAAAAAAAAQABAAAAAAAAAAAAAAAAAAAAAAAAAAAAAAAAAP//AAAAAAAAAAAAAAEA///+/////v/+/wAAAAAAAAAAAAD///7//v8AAAAAAAAAAAAAAAAAAAAAAAAAAAAAAAAAAAAAAAAAAAAAAAAAAAEAAQABAAEAAQABAAAAAAAAAAAAAAAAAAAAAAAAAAAAAAAAAAAAAAAAAAAAAAAAAAAAAAD///7////+//7/AAAAAAAAAAAAAP///v8AAAAAAAAAAAAAAAAAAAAA//8AAAAAAAAAAAAAAAAAAAAAAAAAAAAAAAAAAAAAAAAAAAAAAAAAAAAAAAAAAAAAAAABAAEAAAAAAAAAAAAAAAAAAAAAAAAAAAAAAAAAAAAAAAAAAAAAAAAAAAAAAAAAAAAAAAAAAAAAAAAAAAAAAAAAAAAAAAAAAAAAAAAAAAAAAAAAAAAAAAAAAAAAAAAAAAAAAAAAAAAAAAAAAAAAAAAAAAAAAAAAAAAAAAAAAAAAAAAAAAABAAAAAAAAAAAAAAAAAAAAAAAAAAAAAAAAAAAAAAAAAAAAAAAAAAAAAAAAAAAAAAAAAAAAAAAAAAAAAAAAAAAAAAAAAAAAAAAAAAAAAAAAAAAAAAAAAAAAAAAAAAAAAAAAAAAAAAAAAAAAAAAAAAAAAAAAAAAAAAAAAAAAAAAAAAAAAAAAAAAAAAAAAAAAAAAAAAAAAAAAAAAAAAAAAAAAAAAAAAAAAAAAAAAAAAAAAAAAAAAAAAAAAAAAAAAAAAAAAAAAAAAAAAAAAAAAAAAAAAAAAAAAAAAAAAAAAAAAAAAAAAD///7////+/wAAAAAAAAAAAAAAAAAAAAAAAAEAAQABAAAAAAAAAAAAAAAAAAAAAAAAAAAAAAAAAAAAAAAAAAAAAAAAAAAAAAAAAAAAAAAAAAAAAAAAAAAAAAAAAAAAAAAAAP///v////7/AAAAAAAAAAAAAAAAAAAAAAAAAAAAAAAAAAAAAAAAAAAAAAAAAAAAAAAAAAAAAAAAAAAAAAAAAAAAAAAAAAAAAAAAAAAAAAAAAAAAAAAAAAAAAAAAAAAAAAAAAAAAAAAAAAAAAAAAAAAAAAAAAAAAAAAAAAAAAAAAAAAAAAAAAAAAAAAAAAAAAAAAAAAAAAAAAAAAAAAAAAAAAAAAAAAAAAAAAAAAAAAAAAAAAAAAAAAAAAAAAAAAAAAAAAAAAAAAAAAAAAAAAAAAAAAAAAAAAAAAAAAAAAAAAAAAAAAAAAAAAAAAAAAAAAAAAAAAAAAAAAAAAAAAAAAAAAAAAAAAAAAAAAAAAAAAAAAAAAAAAAAAAAAAAAAAAAAAAAAAAAAAAAAAAAAAAAAAAAAAAAAAAAAAAAAAAAAAAAAAAAAAAAAAAAAAAAAAAAAAAAAAAAAAAAAAAAAAAAAAAAAAAAAAAAAAAAAAAAAAAAAAAAAAAAAAAAAAAAAAAAAAAAAAAAAAAAAAAAAAAAAAAAAAAAAAAAAAAAAAAAAAAAAAAAAAAAAAAAAAAAAAAAAAAAAAAAAAAAAAAAAAAAAAAAAAAAAAAAAAAAAAAAAAAAAAAAAAAAAAAAAAAAAAAAAAAAAAAAAAAAAAAAAAAAAAAAAAAAAAAAAAAAAAAAAAAAAAAAAAAAAAAAAAAAAAAAAAAAAAAAAAAAAAAAAAAAAAAAAAAAAAAAAAAAAAAAAAAAAAAAAAAAAAAAAAAAAAAAAAAAAAAAAAAAAAAAAAAAAAAAAAAAAAAAAAAAAAAAAAAAAAAAAAAAAAAAAAAAAAAAAAAAAAAAAAAAAAAAAAAAAAAAAAAAAAAAAAAAAAAAAAAAAAAAAAAAAAAAAAAAAAAAAAAAAAAAAAAAAAAAAAAAAAAAAAAAAAAAAAAAAAAAAAAAAAAAAAAAAAAAAAAAAAAAAAAAAAAAAAAAAAAAAAAAAAAAAAAAAAAAAAAAAAAAAAAAAAAAAAAAAAAAAAAAAAAAAAAAAAAAAAAAAAAAAAAAAAAAAAAAAAAAAAAAAAAAAAAAAAAAAAAAAAAAAAAAAAAAAAAAAAAAAAAAAAAAAAAAAAAAAAAAAAAAAAAAAAAAAAAAAAAAAAAAAAAAAAAAAAAAAAAAAAAAAAAAAAAAAAAAAAAAAAAAAAAAAAAAAAAAAAAAAAAAAAAAAAAAAAAAAAAAAAAAAAAAAAAAAAAAAAAAAAAAAAAAAAAAAAAAAAAAAAAAAAAAAAAAAAAAAAAAAAAAAAAAAAAAAAAAAAAAAAAAAAAAAAAAAAAAAAAAAAAAAAAAAAAAAAAAAAAAAAAAAAAAAAAAAAAAAAAAAAAAAAAAAAAAAAAAAAAAAAAAAAAAAAAAAAAAAAAAAAAAAAAAAAAAAAAAAAAAAAAAAAAAAAAAAAAAAAAAAAAAAAAAAAAAAAAAAAAAAAAAAAAAAAAAAAAAAAAAAAAAAAAAAAAAAAAAAAAAAAAAAAAAAAAAAAAAAAAAAAAAAAAAAAAAAAAAAAAAAAAAAAAAAAAAAAAAAAAAAAAAAAAAAAAAAAAAAAAAAAAAAAAAAAAAAAAAAAAAAAAAAAAAAAAAAAAAAAAAAAAAAAAAAAAAAAAAAAAAAAAAAAAAAAAAAAAAAAAAAAAAAAAAAAAAAAAAAAAAAAAAAAAAAAAAAAAAAAAAAAAAAAAAAAAAAAAAAAAAAAAAAAAAAAAAAAAAAAAAAAAAAAAAAAAAAAAAAAAAAAAAAAAAAAAAAAAAAAAAAAAAAAAAAAAAAAAAAAAAAAAAAAAAAAAAAAAAAAAAAAAAAAAAAAAAAAAAAAAAAAAAAAAAAAAAAAAAAAAAAAAAAAAAAAAAAAAAAAAAAAAAAAAAAAAAAAAAAAAAAAAAAAAAAAAAAAAAAAAAAAAAAAAAAAAAAA///+/wAAAAAAAAAAAAAAAAAAAAAAAAAAAAAAAAAAAAAAAAAAAAAAAAAAAAAAAAAAAAAAAAAAAAAAAAAAAAAAAAAAAAAAAAAAAAAAAAAAAAAAAAAAAAAAAAAAAAAAAAAAAAAAAAAAAAAAAAAAAAAAAAAAAAAAAAAAAAAAAAAAAAAAAAAAAAAAAAAAAAAAAAAAAAAAAAAAAAAAAAAAAAAAAAAAAAAAAAAAAAAAAAAAAAAAAAAAAAAAAAAAAAAAAAAAAAAAAAAAAAAAAAAAAAAAAAAAAAAAAAAAAAAAAAAAAAAAAAAAAAAAAAAAAAAAAAAAAAAAAAAAAAAAAAAAAAAAAAAAAAAAAAAAAAAAAAAAAAAAAAAAAAAAAAAAAAAAAAAAAAAAAAAAAAAAAAAAAAAAAAAAAAAAAAAAAAAAAAAAAAAAAAAAAAAAAAAAAAAAAAAAAAAAAAAAAAAAAAAAAAAAAAAAAAAAAAAAAAAAAAAAAAAAAAAAAAAAAAAAAAAAAAAAAAAAAAAAAAAAAAAAAAAAAAAAAAAAAAAAAAAAAAAAAAAAAAAAAAAAAAAAAAAAAAAAAAAAAAAAAAAAAAAAAAAAAAAAAAAAAAAAAAAAAAAAAAAAAAAAAAAAAAAAAAAAAAAAAAAAAAAAAAAAAAAAAAAAAAAAAAAAAAAAAAAAAAAAAAAAAAAAAAAAAAAAAAAAAAAAAAAAAAAAAAAAAAAAAAAAAAAAAAAAAAAAAAAAAAAAAAAAAAAAAAAAAAAAAAAAAAAAAAAAAAAAAAAAAAAAAAAAAAAAAAAAAAAAAAAAAAAAAAAAAAAAAAAAAAAAAAAAAAAAAAAAAAAAAAAAAAAAAAAAAAAAAAAAAAAAAAAAAAAAAAAAAAAAAAAAAAAAAAAAAAAAAAAAAAAAAAAAAAAAAAAAAAAAAAAAAAAAAAAAAAAAAAAAAAAAAAAAAAAAAAAAAAAAAAAAAAAAAAAAAAAAAAAAAAAAAAAAAAAAAAAAAAAAAAAAAAAAAAAAAAAAAAAAAAAAAAAAAAAAAAAAAAAAAAAAAAAAAAAAAAAAAAAAAAAAAAAAAAAAAAAAAAAAAAAAAAAAAAAAAAAAAAAAAAAAAAAAAAAAAAAAAAAAAAAAAAAAAAAAAAAAAAAAAAAAAAAAAAAAAAAAAAAAAAAAAAAAAAAAAAAAAAAAAAAAAAAAAAAAAAAAAAAAAAAAAAAAAAAAAAAAAAAAAAAAAAAAAAAAAAAAAAAAAAAAAAAAAAAAAAAAAAAAAAAAAAAAAAAAAAAAAAAAAAAAAAAAAAAAAAAAAAAAAAAAAAAAAAAAAAAAAAAAAAAAAAAAAAAAAAAAAAAAAAAAAAAAAAAAAAAAAAAAAAAAAAAAAAAAAAAAAAAAAAAAAAAAAAAAAAAAAAAAAAAAAAAAAAAAAAAAAAAAAAAAAAAAAAAAAAAAAAAAAAAAAAAAAAAAAAAAAAAAAAAAAAAAAAAAAAAAAAAAAAAAAAAAAAAAAAAAAAAAAAAAAAAAAAAAAAAAAAAAAAAAAAAAAAAAAAAAAAAAAAAAAAAAAAAAAAAAAAAAAAAAAAAAAAAAAAAAAAAAAAAAAAAAAAAAAAAAAAAAAAAAAAAAAAAAAAAAAAAAAAAAAAAAAAAAAAAAAAAAAAAAAAAAAAAAAAAAAAAAAAAAAAAAAAAAAAAAAAAAAAAAAAAAAAAAAAAAAAAAAAAAAAAAAAAAAAAAAAAAAAAAAAAAAAAAAAAAAAAAAAAAAAAAAAAAAAAAAAAAAAAAAAAAAAAAAAAAAAAAAAAAAAAAAAAAAAAAAAAAAAAAAAAAAAAAAAAAAAAAAAAAAAAAAAAAAAAAAAAAAAAAAAAAAAAAAAAAAAAAAAAAAAAAAAAAAAAAAAAAAAAAAAAAAAAAAAAAAAAAAAAAAAAAAAAAAAAAAAAAAAAAAAAAAAAAAAAAAAAAAAAAAAAAAAAAAAAAAAAAAAAAAAAAAAAAAAAAAAAAAAAAAAAAAAAAAAAAAAAAAAAAAAAAAAAAAAAAAAAAAAAAAAAAAAAAAAAAAAAAAAAAAAAAAAAAAAAAAAAAAAAAAAAAAAAAAAAAAAAAAAAAAAAAAAAAAAAAAAAAAAAAAAAAAAAAAAAAAAAAAAAAAAAAAAAAAAAAAAAAAAAAAAAAAAAAAAAAAAAAAAAAAAAAAAAAAAAAAAAAAAAAAAAAAAAAAAAAAAAAAAAAAAAAAAAAAAAAAAAAAAAAAAAAAAAAAAAAAAAAAAAAAAAAAAAAAAAAAAAAAAAAAAAAAAAAAAAAAAAAAAAAAAAAAAAAAAAAAAAAAAAAAAAAAAAAAAAAAAAAAAAAAAAAAAAAAAAAAAAAAAAAAAAAAAAAAAAAAAAAAAAAAAAAAAAAAAAAAAAAAAAAAAAAAAAAAAAAAAAAAAAAAAAAAAAAAAAAAAAAAAAAAAAAAAAAAAAAAAAAAAAAAAAAAAAAAAAAAAAAAAAAAAAAAAAAAAAAAAAAAAAAAAAAAAAAAAAAAAAAAAAAAAAAAAAAAAAAAAAAAAAAAAAAAAAAAAAAAAAAAAAAAAAAAAAAAAAAAAAAAAAAAAAAAAAAAAAAAAAAAAAAAAAAAAAAAAAAAAAAAAAAAAAAAAAAAAAAAAAAAAAAAAAAAAAAAAAAAAAAAAAAAAAAAAAAAAAAAAAAAAAAAAAAAAAAAAAAAAAAAAAAAAAAAAAAAAAAAAAAAAAAAAAAAAAAAAAAAAAAAAAAAAAAAAAAAAAAAAAAAAAAAAAAAAAAAAAAAAAAAAAAAAAAAAAAAAAAAAAAAAAAAAAAAAAAAAAAAAAAAAAAAAAAAAAAAAAAAAAAAAAAAAAAAAAAAAAAAAAAAAAAAAAAAAAAAAAAAAAAAAAAAAAAAAAAAAAAAAAAAAAAAAAAAAAAAAAAAAAAAAAAAAAAAAAAAAAAAAAAAAAAAAAAAAAAAAAAAAAAAAAAAAAAAAAAAAAAAAAAAAAAAAAAAAAAAAAAAAAAAAAAAAAAAAAAAAAAAAAAAAAAAAAAAAAAAAAAAAAAAAAAAAAAAAAAAAAAAAAAAAAAAAAAAAAAAAAAAAAAAAAAAAAAAAAAAAAAAAAAAAAAAAAAAAAAAAAAAAAAAAAAAAAAAAAAAAAAAAAAAAAAAAAAAAAAAAAAAAAAAAAAAAAAAAAAAAAAAAAAAAAAAAAAAAAAAAAAAAAAAAAAAAAAAAAAAAAAAAAAAAAAAAAAAAAAAAAAAAAAAAAAAAAAAAAAAAAAAAAAAAAAAAAAAAAAAAAAAAAAAAAAAAAAAAAAAAAAAAAAAAAAAAAAAAAAAAAAAAAAAAAAAAAAAAAAAAAAAAAAAAAAAAAAAAAAAAAAAAAAAAAAAAAAAAAAAAAAAAAAAAAAAAAAAAAAAAAAAAAAAAAAAAAAAAAAAAAAAAAAAAAAAAAAAAAAAAAAAAAAAAAAAAAAAAAAAAAAAAAAAAAAAAAAAAAAAAAAAAAAAAAAAAAAAAAAAAAAAAAAAAAAAAAAAAAAAAAAAAAAAAAAAAAAAAAAAAAAAAAAAAAAAAAAAAAAAAAAAAAAAAAAAAAAAAAAAAAAAAAAAAAAAAAAAAAAAAAAAAAAAAAAAAAAAAAAAAAAAAAAAAAAAAAAAAAAAAAAAAAAAAAAAAAAAAAAAAAAAAAAAAAAAAAAAAAAAAAAAAAAAAAAAAAAAAAAAAAAAAAAAAAAAAAAAAAAAAAAAAAAAAAAAAAAAAAAAAAAAAAAAAAAAAAAAAAAAAAAAAAAAAAAAAAAAAAAAAAAAAAAAAAAAAAAAAAAAAAAAAAAAAAAAAAAAAAAAAAAAAAAAAAAAAAAAAAAAAAAAAAAAAAAAAAAAAAAAAAAAAAAAAAAAAAAAAAAAAAAAAAAAAAAAAAAAAAAAAAAAAAAAAAAAAAAAAAAAAAAAAAAAAAAAAAAAAAAAAAAAAAAAAAAAAAAAAAAAAAAAAAAAAAAAAAAAAAAAAAAAAAAAAAAAAAAAAAAAAAAAAAAAAAAAAAAAAAAAAAAAAAAAAAAAAAAAAAAAAAAAAAAAAAAAAAAAAAAAAAAAAAAAAAAAAAAAAAAAAAAAAAAAAAAAAAAAAAAAAAAAAAAAAAAAAAAAAAAAAAAAAAAAAAAAAAAAAAAAAAAAAAAAAAAAAAAAAAAAAAAAAAAAAAAAAAAAAAAAAAAAAAAAAAAAAAAAAAAAAAAAAAAAAAAAAAAAAAAAAAAAAAAAAAAAAAAAAAAAAAAAAAAAAAAAAAAAAAAAAAAAAAAAAAAAAAAAAAAAAAAAAAAAAAAAAAAAAAAAAAAAAAAAAAAAAAAAAAAAAAAAAAAAAAAAAAAAAAAAAAAAAAAAAAAAAAAAAAAAAAAAAAAAAAAAAAAAAAAAAAAAAAAAAAAAAAAAAAAAAAAAAAAAAAAAAAAAAAAAAAAAAAAAAAAAAAAAAAAAAAAAAAAAAAAAAAAAAAAAAAAAAAAAAAAAAAAAAAAAAAAAAAAAAAAAAAAAAAAAAAAAAAAAAAAAAAAAAAAAAAAAAAAAAAAAAAAAP///v8AAAAAAAAAAAAAAAAAAAAAAAAAAAAAAAAAAAAAAAAAAAAAAAAAAAAAAAAAAAAAAAAAAAAAAAAAAAAAAAAAAAAAAAAAAAAAAAAAAAAAAAAAAAAAAAAAAAAAAAAAAAAAAAAAAAAAAAAAAAAAAAAAAAAAAAAAAAAAAAAAAAAAAAAAAAAAAAAAAAAAAAAAAAAAAAAAAAAAAAAAAAAAAAAAAAAAAAAAAAAAAAAAAAAAAAAAAAAAAAAAAAAAAAAAAAAAAAAAAAAAAAAAAAAAAAAAAAAAAAAAAAAAAAAAAAAAAAAAAAAAAAAAAAAAAAAAAAAAAAAAAAAAAAAAAAAAAAAAAAAAAAAAAAAAAAAAAP///v8AAAAAAAAAAAAAAAAAAAAAAAAAAAAAAAAAAAAAAAAAAAAAAAAAAAAAAAAAAAAAAAAAAAAAAAAAAAAAAAAAAAAAAAAAAAAAAAAAAAAAAAAAAAAAAAAAAAAAAAAAAAAAAAAAAAAAAAAAAAAAAAAAAAAAAAAAAAAAAAAAAAAAAAAAAAAAAAAAAAAAAAAAAAAAAAAAAAAAAAAAAAAAAAAAAAAAAAAAAAAAAAAAAAAAAAAAAAAAAAAAAAAAAAAAAAAAAAAAAAAAAAAAAAAAAAAAAAAAAAAAAAAAAAAAAAAAAAAAAAAAAAAAAAAAAAAAAAAAAAAAAAAAAAAAAAAAAAAAAAAAAAAAAAAAAAAAAAAAAAAAAAAAAAAAAAAAAAAAAAAAAAAAAAAAAAAAAAAAAAAAAAAAAAAAAAAAAAAAAAAAAAAAAAAAAAAAAAAAAAAAAAAAAAAAAAAAAAAAAAAAAAAAAAAAAAAAAAAAAAAAAAAAAAAAAAAAAAAAAAAAAAAAAAAAAAAAAAAAAAAAAAAAAAAAAAAAAAAAAAAAAAAAAAAAAAAAAAAAAAAAAAAAAAAAAAAAAAAAAAAAAAAAAAAAAAAAAAAAAAAAAAAAAAAAAAAAAAAAAAAAAAAAAAAAAAAAAAAAAAAAAAAAAAAAAAAAAAAAAAAAAAAAAAAAAAAAAAAAAAAAAAAAAAAAAAAAAAAAAAAAAAAAAAAAAAAAAAAAAAAAAAAAAAAAAAAAAAAAAAAAAAAAAAAAAAAAAAAAAAAAAAAAAAAAAAAAAAAAAAAAAAAAAAAAAAAAAAAAAAAAAAAAAAAAAAAAAAAAAAAAAAAAAAAAAAAAAAAAAAAAAAAAAAAAAAAAAAAAAAAAAAAAAAAAAAAAAAAAAAAAAAAAAAAAAAAAAAAAAAAAAAAAAAAAAAAAAAAAAAAAAAAAAAAAAAAAAAAAAAAAAAD///7/AAAAAAAAAAAAAAAAAAAAAAAAAAAAAAAAAAAAAAAAAAAAAAAAAAAAAAAAAAAAAAAAAAAAAAAAAAAAAAAAAQAAAAAAAAD///7/AAAAAAAAAAAAAAAAAAAAAAAAAAAAAAAAAQAAAAAA///+//7//v8AAAAAAAAAAAAAAAAAAAAAAAAAAAEAAAABAAAAAAD///3/AAAAAAAAAAAAAAAAAAD//wAAAAAAAAEAAQAAAAAAAAAAAP///v8AAAAAAAAAAAAAAAAAAAAAAAAAAAAAAQAAAAAAAAD///7//v8AAAAAAAAAAAAAAAAAAAAAAAAAAAAAAAABAAAAAAD///7//v///wAAAAABAAEAAQAAAAAAAAAAAAAAAAAAAAEAAAAAAAAA//8AAAAAAAAAAAAAAAAAAAAAAAAAAAAAAAAAAAAAAAD///7////+//7/AAAAAAAAAAAAAAAAAAAAAAAAAAAAAAAAAAAAAAAAAAD+/wAAAAAAAAAAAAAAAAAAAAAAAAAAAAAAAAAAAQABAP///v////7/AAAAAAAAAAAAAAAAAAAAAAAAAAAAAAEAAQAAAAAA///+//7///8AAAAAAAAAAAAAAAAAAAAAAQABAAAAAQAAAAAA///+//7///8AAAAAAAAAAAAAAAAAAAEAAQABAAEAAQAAAAAA///+/wAAAAAAAAAAAAAAAAAAAAAAAAAAAAABAAEAAAAAAAAAAAD///////8AAAAAAAD///7////+/wAAAAAAAAAAAAAAAAAAAAD///7//f///wAAAAAAAAAAAAAAAAAAAQABAAAAAQAAAAAAAAD///7/AAAAAAAAAAABAAEAAAAAAAAAAAAAAAEAAQAAAAAAAAD+///////+////AAAAAAAA///+////AAAAAAAAAAAAAAAAAAD//////v///wAAAAAAAAAAAAAAAAAAAAAAAAAAAAAAAAEAAAAAAAAAAAAAAAAAAAAAAAEAAQABAAAAAAAAAAAAAAAAAAAAAAAAAAAAAAD//wAAAAAAAAAAAAAAAAAAAAAAAAAAAAAAAAAAAAD///////////////8AAAAA///+//7//v/+/wAAAAAAAAAAAAAAAAAAAAAAAAAAAAAAAAAAAAAAAAAAAAAAAAAAAAAAAAAAAAAAAAAAAAAAAAAAAAAAAAAAAAAAAAAAAAAAAAAAAAAAAAAAAAAAAAAAAAAAAAAAAAAAAAAAAAAAAAAAAAAAAAAAAAAAAAAAAAAAAAAAAAAAAAAAAAAAAAAAAAAAAAAAAAAAAAAAAAAAAP///v8AAAAAAAAAAAAAAAAAAAAAAAAAAAAAAAAAAAAAAQAAAAAAAAAAAAAAAAAAAAAAAAAAAAAAAAAAAAAAAAAAAAAAAQAAAAAAAAAAAAAAAAAAAAAAAAAAAAAAAAD+//7///8AAAAAAAD////////+/wAAAAAAAAAAAAAAAAAAAAD/////AAAAAAAAAAAAAAAAAAD//////v8AAAAAAAAAAAAAAAAAAAAAAAAAAAAAAAABAAAAAAAAAAAAAAAAAAAAAAAAAAAAAAAAAAAAAAAAAAAAAAAAAAAAAAAAAP////8AAAAAAQAAAAEAAQAAAAAAAAAAAAAAAAAAAAAAAAD///7/AAAAAAAAAAAAAAAAAAAAAAAAAAAAAAAAAAAAAAAAAAAAAAAAAAAAAAAAAAAAAAAAAAAAAAAAAAAAAAAAAAAAAAAAAAAAAAAAAAAAAAAAAAAAAAAAAQAAAAAAAAAAAAAAAAAAAAAAAAAAAAAAAAAAAAAAAAAAAAAAAAAAAAAAAAD///7/AAAAAAAAAQABAAAAAAAAAP///v8AAAAAAAAAAAAAAAAAAAAAAAAAAAAAAAAAAAAAAAAAAAAAAAD//wAAAAAAAAAAAAAAAP///v/+/wAAAAAAAAAAAAAAAAAAAAAAAAAAAAAAAAAAAAAAAAAAAAAAAAAAAAAAAAAAAAAAAAAAAAAAAAAAAAAAAAAAAAAAAAAAAAAAAAAAAAAAAAAAAAAAAAAAAAAAAAAAAAAAAAAAAAAAAAAAAAAAAAAAAAAAAAAAAAAAAAAAAQAAAAAAAAAAAAAAAAAAAAAAAAAAAAAAAAD///7//v8AAAAAAAAAAAAAAAAAAP///v8AAAAAAAAAAAAAAAAAAAAAAAAAAAAAAAAAAAAAAAAAAAAAAAAAAAAAAAAAAAEAAAAAAAAAAAAAAAAAAAAAAAAAAAAAAAAAAAAAAAAAAAAAAAAAAAAAAAAAAAAAAAAAAAABAAEAAAAAAAAA//////7/AAAAAAAAAAAAAAAA///+//7/AAAAAAAAAQAAAAAAAAAAAAAAAAAAAAAAAAAAAAAAAAD///7//v8AAAAAAAAAAAAAAAAAAAAAAAAAAAAAAAAAAAAAAAAAAAAAAAAAAAAAAAAAAAAAAAAAAAAAAAAAAAAAAAAAAAAAAQAAAAAAAAAAAAAAAAAAAAEAAQABAAEAAAAAAAAAAAAAAAAAAAAAAAAAAAAAAAAAAAAAAAAAAAAAAAAAAAAAAAAAAAAAAAAAAAAAAP///v/////////+/wAA///+//7//v/+//7//v8AAAAAAAAAAAAAAAAAAAAAAAAAAAAAAAAAAP//AAAAAAAAAAAAAAAAAAAAAAAAAAAAAAAAAQAAAAEAAQABAAEAAAAAAAAAAAAAAAAAAAABAAAAAAAAAAAAAAAAAAAAAAAAAAAAAAAAAAAAAAAAAAAAAAAAAAAAAAAAAAAAAAAAAAAAAAAAAAAAAAAAAAAAAAAAAAAAAAAAAAAAAAAAAAAAAAAAAAAAAAAAAAAAAAAAAAAAAAAAAAAAAAAAAAAAAAAAAAAAAAAAAAAAAAAAAAAAAAAAAAAAAAAAAAAAAAAAAAAAAAAAAAAAAAAAAAAAAAAAAAAAAAAAAAAAAAAAAAAAAAAAAAAAAAAAAAAAAAAAAAAAAAAAAAAAAAAAAAAAAAAAAAAAAAAAAAAAAAAAAAAAAAAAAAAAAAAAAAAAAAAAAAAAAAAAAAAAAAAAAAAAAAD///7/AAAAAAAAAAAAAAAAAAAAAAAAAAAAAAAAAAAAAAAAAAAAAAAAAAAAAAAAAAAAAAAAAAAAAAAAAAAAAAAAAAAAAAAAAAAAAAAAAAAAAAAAAAABAAAAAAAAAAAAAAAAAAAAAAAAAAAAAAAAAAAAAAAAAAAAAQAAAAEAAQABAAAAAAAAAAAAAAAAAAAAAAAAAAAAAAAAAAAAAAAAAAAAAAAAAAAA///+//7//v8AAAAAAAAAAAEAAAAAAAAA///+//7/AAAAAAAAAAAAAAAAAAAAAAAAAAAAAAAAAAAAAAAAAAAAAAAAAAAAAAAAAAAAAAAAAAAAAAAAAAAAAAAAAAAAAAAAAAAAAAAAAAAAAAAAAAAAAAEAAQAAAAAAAAAAAAAAAAAAAAAAAAAAAAAAAAAAAAAAAAAAAAAAAAAAAAAAAAAAAAAAAAAAAAAAAAAAAAAAAAAAAAAAAAAAAAAAAAAAAAAAAAAAAAAAAAAAAAEAAQABAAEAAAAAAAAAAAAAAAAAAAAAAAAAAAAAAAAAAAAAAAAAAQABAAEAAQABAAEAAAAAAAAAAAAAAAAAAAAAAAAAAAAAAAAAAAAAAAAAAAAAAP///v////7//v8AAAAAAAAAAAAAAAAAAAAAAAD///7////+/////v/+//7/AAAAAAAAAAAAAAAAAAAAAAAAAAAAAAAAAAAAAAAAAAAAAAAAAAAAAAAAAAAAAAAAAAAAAAAAAAAAAAAAAAAAAAAAAQABAAEAAAABAAEAAAAAAAAAAAAAAAAAAAAAAAAAAAAAAAAAAAABAAAAAAAAAAAAAAAAAAAAAAAAAAAAAAAAAAAAAAAAAAAAAAAAAP///v////7//v////7//v///wAAAAAAAAAAAAAAAAAAAAAAAAAAAAAAAAAAAAAAAAAAAAAAAAAAAAAAAAAAAAAAAAAAAAAAAAEAAQAAAAAAAAAAAAAAAAAAAAAAAAAAAAAAAAAAAAAAAAAAAAAAAAAAAAAAAAAAAAAAAAAAAAAAAAAAAAAA/////////v////////////7//v8AAAAAAAAAAAAAAAAAAAAAAAAAAAAAAAAAAAAAAAAAAAAAAAAAAAAAAAAAAAAAAAAAAAAAAAAAAAAAAAAAAAAAAQABAAEAAQAAAAAAAAAAAAAAAAAAAAAAAAAAAAAAAAAAAAAAAQABAAEAAAAAAAAAAAAAAAAAAAAAAAAAAAAAAAAAAAAAAAAAAAAAAAAAAAD///7/AAAAAAAAAAAAAAAAAAAAAAAAAAAAAAAAAAAAAP/////+//7/AAAAAAAAAAAAAAAAAAAAAAAAAAAAAAAAAAAAAAAAAAAAAAAAAQABAAEAAAAAAAAAAAAAAAAAAAAAAAAAAAAAAAAAAAAAAAAAAAAAAAAAAAAAAAAAAAAAAAAAAAAAAAAAAAAAAAAAAAAAAAAAAAD//wAAAAAAAAAAAAAAAAAAAAAAAAAAAAAAAAAAAAAAAAAAAAAAAAAAAAABAAEAAAAAAAAAAAAAAAAAAAAAAAAAAAAAAAAAAAAAAAAAAAAAAAAAAAAAAAAAAAAAAAAAAAAAAAAAAAAAAAAAAAAAAAAAAAAAAAAAAAAAAAAAAAAAAAAAAAAAAAAAAAAAAAAAAAAAAAAAAAAAAAAAAAAAAAAAAAAAAAAAAAAAAAAAAAAAAAAAAAAAAAAAAAAAAAAAAAAAAAAAAAAAAP///v8AAAAAAAAAAAAAAAAAAAAAAAAAAAAAAAAAAAAAAAAAAAAAAAAAAAAAAQABAAEAAAAAAAAAAAAAAAAAAAAAAAAAAAAAAAEAAQAAAAAAAQABAAAAAAAAAAAAAAAAAAAAAAAAAAAAAQABAAEAAQAAAAAAAAAAAAAAAAAAAAAAAAAAAAAAAAAAAAAAAAAAAAAAAAD+///////+/////v8AAAAAAAAAAAAAAAAAAAAAAAAAAAAA//8AAAAAAAAAAAAAAAAAAAAAAAAAAAAAAAAAAAAAAAAAAAAAAAAAAAAAAAAAAAEAAQAAAAAAAAAAAAAAAAAAAAAAAAAAAAAAAAAAAAAAAAAAAAAAAAAAAAAAAAAAAAAAAAAAAAEAAQAAAAAAAAAAAAAA//8AAAAAAAAAAAAAAAAAAAAAAAAAAP///v/+//7//v/+//7///8AAAAAAAAAAAAAAAAAAAAAAAAAAAAAAAAAAAAAAAAAAAAAAAAAAAAAAQAAAAEAAAAAAAAAAAAAAAAAAAAAAAAAAQAAAAEAAQABAAAAAAAAAAAAAAAAAAAAAAAAAAAAAAAAAAAAAAAAAAAAAAAAAAAAAAAAAAAAAAAAAAAAAAAAAAAAAAAAAAAAAAAAAAAAAAD///7/AAAAAAAAAAAAAAAAAAAAAAAAAAAAAAAAAAAAAAAAAAAAAAAAAAAAAAAAAAAAAAAAAAAAAAAAAAAAAAAAAAAAAAAAAAAAAAAAAAAAAAAAAAAAAAAAAAAAAAAAAAAAAAAAAAAAAAAAAAAAAAAAAAAAAAAAAAAAAAAAAAAAAAAAAAAAAP//AAAAAAAAAAAAAAAAAAAAAAAAAAAAAAAAAAAAAAAAAAAAAAAAAAAAAAAAAAAAAAAAAAAAAAAAAAAAAAAAAAAAAAAAAAAAAAAAAAAAAAAAAAAAAAAAAAAAAAAAAAAAAAAAAAAAAAEAAQABAAAAAAAAAAAAAAAAAAAAAAAAAAAAAAAAAAAAAAAAAAAAAAAAAAAAAAAAAAAAAAAAAAAAAAAAAAAAAAAAAAAAAAAAAAAAAAAAAAAAAAAAAAAAAAAAAAAAAAAAAAEAAAD////////+//7/AAAAAAAAAAAAAAAAAAAAAAAAAAAAAAAAAAD///7/AAAAAAAAAAAAAAAAAAAAAAAAAQAAAAAAAAABAAEAAAAAAAAA//////7/AAAAAAAAAAAAAAAAAQABAAEAAQAAAAEAAAAAAAAAAAAAAP////////7//v///wAAAAAAAAAAAQABAAEAAAAAAAAAAAAAAAAA///+//7//v/+//7/AAAAAAAAAAAAAAAAAAAAAAAAAAAAAP///v/+//7//v/+/wAAAAAAAAAAAAAAAAAAAAAAAAAAAAAAAAAAAAAAAAAAAAAAAAAAAAAAAAAAAAABAAAAAAAAAAAAAQAAAAAAAAABAAAAAAAAAAAAAAAAAAAAAAAAAAEAAQAAAAAAAAD///7//v/+/////v/9//7//v/+//7//v/+///////+//7//v/+//7//v8AAAAAAAAAAAAAAAAAAP///v8AAP///v////7//v/+//7///8AAAAAAAABAAEAAQAAAAEAAQABAAEAAQABAAEAAAAAAAAAAAAAAAAAAQABAAEAAgABAAAAAQAAAAEAAQABAAAAAAAAAP7////+/wAAAAAAAAAAAAAAAAAAAAAAAAAAAAAAAP////////7//f/+//7//v/+/////////////v/+//7////+//7//////////////////v///////////////v8AAAAAAAAAAAAAAAABAAEAAQACAAIAAgABAAEAAQAAAAEAAQAAAAAAAQAAAAAAAAABAAEAAQABAAIAAgABAAIAAQABAAEAAQAAAAAAAAAAAAAA////////AAAAAAAAAQABAAAAAAAAAP///v/+//7//f/9//3//f/+//3//v/+/wAAAAAAAAAAAAAAAAAAAAAAAAAAAAD////////+//7//v///wAAAAAAAAAAAAAAAAEAAgACAAIAAgABAAEAAQABAAAAAQACAAEAAgACAAEAAgABAAAAAAABAAAAAAAAAAAA///+//7//////////v8AAAAAAAAAAAAAAAAAAAAA//////7//f/9//z//f/9//3//f/+//7//v/+//7//v///wAAAAAAAAAA////////AAAAAAAAAAAAAAAAAAAAAAAAAQABAAIAAgACAAEAAQAAAAEAAQABAAIAAgACAAEAAQABAAEAAQACAAIAAwACAAEAAAABAAAAAAABAAEAAgABAAEAAAAAAP//AAAAAAAAAAAAAP///v/+//3///8AAAAAAAABAAEAAAD//////v////7//f/+//7//f/8//z//f/9//7//v///wAAAAAAAAAAAAAAAAEAAAAAAAAA//////7//v/+/wAAAAAAAAAA///+//7/AAAAAAEAAgACAAIAAQABAAEAAQABAAIAAgABAAEAAAD///7//v/+/wAAAAABAAMAAgABAAEAAAAAAAEAAQAAAAAAAAD//////v/+//7//v/////////////////+/wAAAAAAAAAAAAAAAAAAAAAAAAAAAAD////////+//7//v/+/wAAAAAAAAAAAAABAAEAAAABAAIAAgACAAIAAgAAAAAAAAD//////v///wAAAAABAAEAAAABAAEAAQACAAIAAwADAAMAAQABAP//AAAAAAEAAQABAAEAAQABAAAA/v8AAAAAAAAAAAAAAAD///7//f/+//7///////////////7//v////7//v/+//7//f/+//7//f/+//7//v////7//v/+//7//v/+////AAAAAAAAAAAAAAAAAAAAAAAAAAABAAIAAgACAAEAAQAAAAAAAAAAAAIAAQABAAEAAQAAAAAAAAAAAAEAAgACAAIAAgABAAEAAQAAAAEAAQABAAEAAQD///////8AAAAAAAABAAAAAAAAAAAA/////wAAAQAAAP/////9//3//v/+/wAAAAAAAAEAAAAAAP//AAABAAAAAAABAAEAAAAAAP///v/+////AAABAAEAAQAAAAAA///+/wAAAAAAAAEAAgACAAEAAQAAAAAAAAABAAEAAgADAAEAAQAAAAAAAAAAAAEAAAAAAP/////+//3//v/+//3//v/+////AAAAAAAAAAAAAAAAAAD//////v/9//3//f/+//3//v/+//7////+/////v/+/wAAAAAAAAAAAAD///7//v/+/wAAAAAAAAIAAgACAAEAAAABAAEAAQACAAIAAgABAAEAAAD/////AAAAAAAAAQABAAEAAQABAAEAAQACAAIAAgACAAIAAgABAAIAAAAAAAAAAAAAAAAAAAAAAAAAAAAAAAAAAAAAAP//////////AAD/////AAAAAAAAAAAAAAAA/////////v/+///////+//7//v/+//7//////////////wAA//////7/AAAAAAAAAQABAAIAAgACAAEAAQABAAAAAQAAAP///v/9//7//v///wAAAAABAAEAAQADAAIAAgACAAIAAQABAAEAAAAAAP///////wAAAAAAAAAAAAAAAAAAAAAAAP////////////////7//f/9//3//f/+//7///8AAAAAAAAAAAAAAAAAAAAAAAAAAAAAAAAAAP/////+/wAAAAAAAAAAAAAAAAAAAAABAAEAAQABAAEAAQABAAEAAQABAAEAAQABAAEAAQABAAEAAQABAAEAAQAAAAAAAAAAAAAAAAAAAAAAAAAAAAAAAAAAAAAAAAAAAAAAAAAAAAAAAAAAAAAAAAAAAAAAAAAAAAAAAAAAAAAA////////AAAAAAAAAAAAAAAA//////7//f/9//3//f/+///////+/////v8AAAAAAAAAAAAAAQABAAAAAAAAAAAAAAAAAAAAAAAAAAAAAAAAAAAAAAAAAAAAAAAAAAAAAQABAAEAAAABAAEAAQABAAEAAgACAAMAAwACAAEAAQABAAEAAQABAAEAAQAAAAAA//////7//v/+//7//v////7////+/wAAAAAAAAEAAQABAAAAAAAAAAAAAAD////////+//7//v////7//v/+//7///////7//v8AAAAAAAAAAAEAAQACAAIAAgACAAEAAQABAAAAAAAAAAAAAAAAAAAAAAAAAAEAAQABAAAAAAAAAAAAAAAAAAAAAQABAAEAAQAAAAAAAAAAAAAAAAAAAAAA///+//7//v/+//7////+/////////////////wAAAAAAAAAAAAAAAAAAAAAAAAAA//////////////////////7/AAD///7////+/wAAAAAAAAAAAAABAAEAAQABAAEAAQABAAEAAQABAAAAAAAAAAAAAAAAAAAAAAAAAAAAAQABAAEAAAAAAAAAAAAAAAEAAQABAAEAAQABAAEAAAAAAAAAAAAAAAAAAAD///7/AAAAAAAAAAAAAAAA//////7////+/wAAAAAAAAAAAQABAAEAAQAAAAAAAAAAAP/////////////////////////////+/wAAAAAAAAAAAAAAAAAAAAABAAEAAAAAAAAAAAAAAAAAAAAAAAAAAAAAAAAAAAAAAAAAAAAAAAAAAAAAAAEAAQABAAEAAQABAAEAAQABAAEAAAAAAAAAAAAAAAAAAAAAAAAAAAD//////////////////////////////v////7////+/wAAAAD+//////////7////+/wAAAAAAAAAAAAAAAAEAAQABAAEAAQABAAAAAAAAAAAAAQABAAEAAQABAAEAAQABAAEAAQAAAAAAAAAAAAAAAAAAAAEAAQABAAEAAQACAAAAAAAAAAAAAAAAAAAAAAAAAAAAAAAAAAAAAAD///////////7//v/+//7/AAAAAAAAAAAAAAAA/////////////wAAAAAAAAAAAAAAAAAAAAAAAAAAAAD+//7//v/+/wAAAAAAAAAAAAABAAEAAAAAAAAAAAAAAAAAAAAAAAAAAQABAAEAAQABAAEAAQABAAAAAAAAAAAAAQABAAEAAQABAAAAAAAAAAAAAAAAAAAAAAAAAAAAAAAAAAAAAAAAAAAAAAAAAAAAAAAAAAAAAAAAAAAAAAAAAAAAAAAAAAAAAAAAAAAAAAAAAAAA///+/wAAAAAAAAAAAAAAAAAAAAAAAAAAAAAAAAAAAAAAAAAAAAAAAAAAAAAAAAAAAAAAAAAAAAAAAAAAAAD///////////////////7//v/+/wAAAAAAAAAAAAAAAAAAAQAAAP/////+/wAAAAAAAAAAAAABAAEAAAAAAAAAAAAAAAAAAQD//wAAAAAAAAAAAAAAAAEAAQABAAEAAQABAAEAAQABAAEAAQAAAAAAAAAAAAAAAAAAAAAAAAAAAAAAAAAAAAAAAAAAAAAAAAAAAAAAAAAAAAAAAAAAAAAAAAAAAP//AAAAAAAAAAAAAAEAAQABAAAAAAAAAAAAAAAAAAAAAAAAAAAAAAAAAAAAAAAAAAAAAAAAAAAAAAAAAAAAAAAAAAAAAAAAAAAAAAAAAAAAAAD///////////////////7/AAAAAAAAAAAAAAAAAAAAAAAAAAAAAAAAAAAAAAAAAAAAAAAAAAAAAAAAAAABAAEAAQABAAEAAAAAAAAAAAAAAAAAAAAAAAAAAAAAAAAAAAAAAAAAAAAAAAAAAAAAAAAAAAAAAAAAAAAAAAAAAAABAAEAAQABAAEAAQAAAAAAAAAAAAAA///+/////v/+/wAAAAAAAAAAAAABAAEAAQABAAEAAQABAAEAAAAAAP///////////v8AAAAAAAAAAAAAAAAAAAAAAAAAAAAAAAAAAP///v///////v/+/wAAAAAAAAAAAAAAAAAAAAAAAAAAAAAAAAAA/////////v/+//7/AAAAAAAAAQABAAEAAQABAAEAAQAAAAAAAAD+///////////////+/wAAAAAAAAAAAAABAAEAAQABAAEAAQAAAAAA/////////v8AAAAAAAAAAAAAAAAAAAAAAQABAAEAAAAAAAAAAAD/////AAAAAAAAAAAAAAAAAAABAAEAAQABAAEAAQAAAAAAAAD/////AAAAAAAAAAAAAAAAAAAAAAAAAAAAAAEAAQABAAAAAAAAAAAAAAAAAAAAAAAAAAAAAAAAAAAAAAAAAAAAAAAAAAAAAAD//wAAAAAAAAAAAAAAAAAAAAAAAAAAAAAAAAAAAAAAAAAAAAAAAP////8AAAAAAAAAAAAAAAAAAAAAAAAAAAAAAAAAAAAAAAAAAAAAAAAAAAAAAAAAAAAAAAAAAAEAAAD////////+//7/AAAAAAAAAAABAAEAAQABAAAAAQAAAAAAAAAAAP///////////////wAAAAAAAAEAAQAAAAEAAQABAAEAAAAAAAAAAAD+//7/AAAAAAAAAAABAAEAAQABAAEAAQAAAAAAAAD//////////////////wAAAAAAAAAAAAABAAEAAQAAAAAAAAAAAAAAAAAAAAAAAAAAAAAAAAAAAAAAAAAAAAAAAAAAAAAAAAAAAAAAAAAAAAAAAAAAAAAAAAAAAAAAAAAAAAAAAAAAAAAAAAAAAAAAAAAAAAAAAAAAAAAAAAAAAAAAAAAAAAAAAAAAAAAAAAAAAAAAAAD///7/AAAAAAAAAAAAAAAAAAAAAAAAAAAAAAAAAAAAAAAA//////7//v8AAAAAAAAAAAAAAQABAAEAAQACAAAAAAABAAAA/v////7/AAAAAAAAAAAAAAEAAQABAAEAAQAAAAAAAAD///7////+//7/AAAAAAAAAAAAAAEAAQABAAEAAAAAAAAAAAAAAP/////+//7/AAAAAAAAAAAAAAAAAQABAAEAAAAAAAAAAAAAAP//AAAAAAAAAAAAAAAAAAAAAAAAAAAAAAAAAAAAAAAAAQAAAAAAAAAAAAAAAAAAAAAA//////7/AAAAAAAAAAABAAAAAQABAAEAAQAAAAAAAAAAAP////////7/AAAAAAAAAAABAAEAAQABAAEAAAAAAAAA///+/////v/+//7//v8AAAAAAAABAAEAAQABAAEAAAAAAAAAAAAAAP/////+/////v8AAAAAAAABAAEAAQAAAAAAAAAAAAAAAAAAAAAAAAAAAAAAAAAAAAAAAQAAAAAAAAAAAAAAAAAAAAAAAAAAAAAAAAAAAAAAAAAAAAEAAQABAAEAAAAAAAAAAAAAAAAAAAAAAAAAAAAAAAAAAAAAAAAAAAAAAAAAAAAAAAAAAAAAAAAAAAAAAAAAAAAAAAAAAAAAAAAAAAAAAAAAAAAAAAAAAAAAAAAAAAAAAAAAAAAAAAAAAAAAAAAAAAAAAAAAAAAAAAAAAAAAAAAAAAAAAAAAAAAAAAAAAAAAAAAAAAAAAAAAAAAAAAAAAAAAAAAAAAAAAAAAAAAAAAAAAAAAAAAAAQAAAAAAAAAAAAAAAAD///7//v/+//7///8AAAAAAAAAAAAAAAABAAEAAQABAAAAAAAAAAAAAAAAAAAAAAAAAAAAAAAAAAAAAAAAAAAAAAAAAAAAAAAAAAAAAAAAAAAA//8AAAAAAAAAAAAAAAAAAAEAAQABAAEAAAAAAAAAAAAAAAAA//8AAAAAAAAAAAAAAAAAAAEAAQABAAEAAQABAAAAAAAAAAAA///+/////v/+/wAAAAAAAAAAAAAAAAAAAAAAAAAAAAAAAP///v/+////AAAAAAAAAAAAAAAAAAAAAAAAAAAAAAAAAAAAAAAAAAAAAAAAAAAAAAAAAAAAAAAAAAAAAAAAAAAAAAAAAAAAAAAAAAAAAAAAAAAAAAAA///+//7/AAAAAAAAAAAAAAAAAQABAAAAAAAAAAAAAAAAAAAAAAAAAAAAAAAAAAAAAAABAAEAAQAAAAEAAAAAAAAAAAAAAAAAAAD//wAAAAAAAAAAAAABAAEAAQAAAAAAAAAAAAAAAAAAAAAAAAAAAAAAAAAAAAAAAAAAAAAAAAAAAAAAAAAAAAAAAAAAAAAAAAAAAAAAAAAAAAAAAAAAAAAAAAAAAAAAAAAAAAAAAAAAAAAAAAAAAAAAAAAAAAAAAAAAAAAAAAD///7/AAAAAAAAAAAAAAAAAQABAAEAAQAAAAAAAAAAAP///v/+//7/AAAAAAAAAAABAAEAAQABAAEAAAAAAP////////7//v////7/AAAAAAAAAQABAAEAAQABAAAAAAAAAP///v////7///8AAAAAAAABAAEAAQABAAEAAAAAAAEA///+//7/AAAAAAAAAAAAAAAAAQABAAEAAQAAAAAAAAD///7//v/+//7//v8AAAAAAAABAAEAAQABAAAAAAD///7////+//7/AAAAAAAAAAABAAEAAQAAAAIAAQAAAAAAAAD///////////7/AAAAAAAAAAAAAAAAAAAAAAAA//////7//v////7/AAAAAAAAAAABAAEAAQABAAAAAAAAAAAAAAD//wAAAAAAAAAAAAAAAAEAAgACAAEAAQAAAAAA///////////+////AAAAAAAAAQABAAAAAQABAAAAAAAAAP///v///////v///wAAAAABAAAAAgACAAEAAQAAAAAAAAD//////v/+/wAAAAAAAAAAAQABAAEAAAABAAAAAAAAAP///////////v8AAAAAAAAAAAEAAQABAAEAAQAAAAAAAAAAAP///////////v8AAAAAAAAAAAAAAAAAAAAAAAAAAP///v////////////7/AAAAAAAAAAABAAEAAQAAAAEAAQABAAAAAAAAAAAAAAAAAAAAAAABAAAAAQABAAEAAQABAAEAAQAAAAAAAAAAAP///////////v///////v////7/AAAAAAAAAAAAAAAAAAAAAAAAAAAAAAAAAAAAAAAAAAAAAAAAAAABAAEAAQABAAEAAQAAAAAAAAAAAAAAAAAAAAAAAAABAAEAAQABAAEAAQABAAAAAAAAAAAA/////////v/+//7//v8AAP//AAAAAAAAAAAAAAAAAAAAAAAA//////7/AAAAAAAAAAAAAAAAAAABAAEAAQABAAEAAAAAAAAAAAAAAAAAAAAAAAAAAAAAAAEAAQABAAEAAQABAAAAAAAAAAAAAAAAAP///v/+/wAAAAAAAAAAAAAAAAAAAAAAAAAAAAD///7/AAAAAAAAAAAAAAAAAAAAAAAAAAAAAAAAAAAAAAAAAAAAAAAAAAAAAAAAAAAAAAAAAAAAAAAAAAAAAAAAAAAAAAAAAAAAAP/////+/wAAAAAAAAAAAAAAAAAAAAAAAAAAAAAAAAAAAAAAAAAAAAAAAAAAAAAAAAAAAAAAAAAAAAAAAAAAAAAAAAAAAAAAAAAAAAAAAAEAAQAAAAAAAAAAAAAAAAAAAAAAAAAAAAAAAAAAAP////////7/AAAAAAAAAAAAAAAAAAAAAP///v////7/AAAAAAAAAAAAAAAA//8AAAAAAAAAAAAAAAAAAAAAAAAAAAAAAAAAAAAAAAAAAAAAAAAAAAAAAAAAAAEAAQABAAEAAAAAAAAAAAD///7////+//7//v8AAAAAAAAAAAAAAAAAAAAAAAAAAAAAAAAAAAAAAAAAAAAAAAAAAAAAAAAAAAAAAAAAAAAAAQABAAEAAQAAAAAAAAAAAAAAAAAAAAAAAAAAAAAAAAAAAAAAAAAAAAAAAAAAAAAA//////7//v/9//7//v/+/wAAAAAAAAAAAAAAAAAAAAAAAAAAAAAAAAAAAAAAAAAAAAABAAEAAQABAAEAAQABAAEAAQABAAEAAQABAAEAAAABAAAAAAAAAAAAAAAAAAAAAAAAAAAAAAAAAAAAAAAAAP/////+//3//f/+//7//v/+//7/AAAAAAAAAAAAAAAAAAD//wAAAAAAAAAAAAAAAAAAAQABAAEAAQACAAEAAQABAAEAAQABAAEAAQAAAAAAAAAAAAAAAAAAAAAAAAAAAAAAAAAAAAAAAAAAAP/////////////+/////v////7///8AAAAAAAAAAAEAAQABAAEAAAAAAAAAAAAAAAAAAAAAAAAAAAABAAEAAQABAAEAAQAAAAAAAAAAAAAAAAAAAAAA///////////////////+//7//v8AAAAAAAAAAAAAAAAAAAAA///////////+//7/AAAAAAAAAAABAAEAAQAAAAEAAQABAAAAAAAAAAEAAAABAAEAAQABAAEAAQABAAEAAQABAAEAAQABAAEAAAAAAAAAAAAAAAAAAAAAAAAA//////7//v/+/wAAAAAAAAAAAAAAAP///////////v/+//7///////7//v8AAAAAAAAAAAAAAAAAAAAAAAAAAAAAAAAAAAAAAAAAAAAAAAAAAAAAAAAAAAAAAAAAAAAAAAABAAEAAQAAAAAAAAD///7//v/+/wAAAAAAAAAAAAABAAEAAQABAAEAAQABAAEAAQABAAAAAAAAAAAAAAAAAAAAAQABAAEAAQABAAAAAAAAAAAAAAAAAAAAAAAAAP////////7//v/9//7////+/wAAAAAAAAAA//////7////+//7///////////////7//v8AAAAAAAABAAEAAQABAAEAAQABAAEAAQABAAEAAQACAAIAAgACAAIAAQAAAAEAAQABAAIAAgACAAEAAQABAAEAAAAAAAAAAAAAAAAAAAAAAAAA/////////v/+//7////+//7////+//////////////////7//v/+//////////7//v/+//7/AAAAAAAAAAAAAAAAAAAAAAAAAQABAAEAAQABAAEAAAAAAAAAAAAAAAAAAAAAAAEAAQABAAEAAQABAAAAAAAAAAAAAAAAAAAAAAAAAAAAAAAAAAAAAAAAAAAAAAAAAAAAAAAAAAEAAAAAAAAAAAAAAAAAAAAAAP////////7/AAAAAAAAAAAAAAAAAAAAAAEAAAD+///////+//7//v8AAAAAAAAAAAAAAAD//wAAAAAAAAAAAAAAAAEAAQABAAEAAQAAAAAAAQAAAAEAAAABAAEAAQABAAEAAQABAAEAAQABAAAAAAAAAAAAAAAAAAAAAAAAAAAAAAAAAAAAAAAAAP///v////7/AAAAAAAA///+/////v///////v////7//v/+//7///////7//////////v////7/AAAAAAAAAAAAAAAAAAAAAAAAAAAAAAAAAAAAAAAAAAAAAAEAAQABAAEAAQABAAEAAQABAAEAAQABAAEAAQAAAAAAAAAAAAAAAAAAAAAAAAAAAAAAAAAAAAAAAAAAAAAAAAAAAAAAAAAAAAAA//////7/AAAAAAAAAAAAAAAAAAAAAAAAAAAAAAAAAAAAAAAAAAAAAAAAAAAAAAAAAAAAAAEAAAAAAAAAAAAAAAAAAAAAAAAAAAAAAAAAAAAAAAAA/////////v8AAAAAAAABAAAAAQAAAAAAAAD///////8AAAAAAAAAAAEAAAABAAAAAAAAAAAAAAAAAAAAAAAAAAAAAAAAAAAAAAAAAAAAAAAAAAAAAAAAAP///v/+////AAAAAAAAAQAAAAAAAAAAAP///////////v8AAAEAAQABAAEAAAAAAP/////+//7/AAAAAAAAAQABAAAAAAAAAAAAAAAAAAAAAAAAAAAAAAD///7/AAAAAAAAAAABAAEAAQAAAAAAAAD//wAAAAAAAAAAAAABAAEAAQAAAAAAAAAAAP7/AAAAAAAAAQABAAEAAQABAAAAAAAAAAAAAAAAAAAAAAAAAAAAAAAAAAAAAAAAAAAAAAAAAAAAAAAAAP/////+/wAAAAAAAAAAAAAAAAAAAAD///////////7//v///wAAAAAAAAAAAAAAAAAAAAD//wAAAAAAAAAAAAAAAAAAAAAAAAAAAAAAAAAAAAAAAAAAAAAAAAEAAAAAAAAAAAAAAAAAAAAAAAAAAAAAAAAAAAAAAAAAAAAAAAAAAAAAAAAAAAAAAAAA///+/wAAAAAAAAAAAAABAAAAAAAAAAAA//////7/AAAAAAAAAAAAAAAAAAAAAAAAAAAAAAAAAQAAAAAAAAAAAAAAAAAAAAAAAAAAAAAAAAAAAAAAAAAAAAAAAAAAAAAAAAAAAAAAAAAAAAAAAAAAAAAAAAAAAAAAAAABAAAAAQAAAAAAAAAAAAAAAAAAAAAAAAAAAAAA/////////v8AAAAAAAAAAAAAAAAAAAAA/v////7//v8AAAAAAAAAAAAAAAAAAAAAAAAAAAAAAAAAAAAAAAAAAAAAAAAAAAAAAAAAAAAAAAAAAAAAAAAAAAAAAAAAAAAAAAAAAAAAAAAAAAAAAAAAAAAAAAAAAAAAAAAAAAAAAAAAAAEAAAAAAAAAAAAAAAAAAAAAAAAAAAAAAAAAAAAAAAAAAAAAAAAAAAAAAAEAAAAAAAAAAAAAAAAAAAAAAAAAAAAAAAAAAAD//wAAAAAAAAAAAQABAAEAAAAAAAAAAAD+/wAAAAAAAAAAAAAAAAAAAAAAAAAAAAAAAAAAAQAAAAAAAAAAAP/////+/wAAAAAAAAAAAAAAAAAAAAD///7//v8AAAAAAAABAAEAAAAAAAAAAAD//wAAAAAAAAAAAAAAAAAAAAAAAAAAAAAAAAAAAAAAAAAAAAAAAP///v/+/wAAAAAAAAAAAQABAAAAAAAAAAAA///+/wAAAAAAAAAAAAAAAAAAAAAAAAAAAAAAAAAAAAAAAAAAAAAAAAAAAAAAAAAAAAAAAAEAAAAAAAEAAAAAAAAA/v8AAAAAAAAAAAEAAQAAAAAAAAAAAAAAAAAAAAAAAAAAAAAAAAAAAAAAAAAAAAAAAQABAAAAAAAAAP///v/+/////v8AAAAAAAABAAEAAAAAAAAA/////wAAAAAAAAAAAAAAAAAAAAAAAAAAAAABAAEAAQAAAAAAAAAAAP///v8AAAAAAAAAAAAAAAAAAAAAAAAAAAAAAAAAAAAAAAAAAAAAAAAAAAAAAAAAAAAAAAAAAAAAAAAAAAAAAAAAAAAAAAAAAAAA///+/////v8AAAAAAAAAAAAAAAAAAAAAAAAAAAAAAAAAAAAAAAAAAAEAAQAAAAAAAAAAAAAAAAAAAAAAAAAAAP///v///wAAAAAAAAAAAAAAAAAAAAAAAP//AAAAAAAAAAAAAAAAAAAAAAAA//8AAAAAAAAAAAAAAQAAAAEAAAAAAAAAAAAAAAAAAAAAAAAAAAAAAAAAAAAAAAAAAAAAAAAAAAAAAAAAAAAAAAAAAAAAAAAAAAAAAAAAAAAAAAAAAAD///7///////7/AAAAAAAAAQABAAEAAAAAAAAAAAD+/////v8AAAAAAAAAAAAAAAAAAAAAAAAAAAAAAAABAAEAAAAAAAAAAAAAAAAAAAAAAAEAAQABAAAAAAAAAAAAAAAAAAAAAAAAAAEAAAAAAAAAAAAAAAAAAAAAAAAAAAAAAAAAAAAAAP7///////7///8AAAAAAAABAAAAAAAAAAAA/////////v/+/wAAAAAAAAAAAAAAAAAAAQABAAEAAQAAAAAAAAD//////v/+/wAAAAAAAAAAAQABAAEAAQAAAAAAAAAAAP//AAAAAAAAAAAAAAAAAAAAAAEAAQAAAAAAAAAAAAAAAAAAAAAAAAAAAAAAAAABAAEAAQAAAAAAAAAAAP////////7///////7/AAAAAAAAAAAAAAAAAAAAAAAA/////////////////v8AAAAAAAAAAAAAAAABAAEAAQAAAAAAAAAAAAAAAAAAAAAAAAAAAAAAAAAAAAAAAAAAAAAAAAAAAAAAAAAAAAAAAAAAAAAAAAABAAAAAAAAAAAAAAAAAAAAAAAAAAAAAAAAAAAAAAAAAAAAAAAAAAAAAAAAAAAAAAD///7//v8AAAAAAAAAAAAAAAAAAAAAAAAAAAAAAAAAAAAA///+/wAAAAAAAAAAAAABAAEAAQAAAAAAAAD////////+//7/AAAAAAAAAAAAAAEAAAAAAAAAAAAAAAAA///////////+////AAAAAAAAAAAAAAAAAAAAAAAAAAAAAAAAAAAAAAAAAAAAAAAAAAAAAAAAAAAAAAAAAAAAAAAAAAAAAAAAAAAAAAAAAAAAAAAAAAAAAAAAAAAAAAAAAAAAAAAAAAAAAAAAAAAAAAEAAQABAAEAAAAAAAAAAAAAAAAAAAAAAAAAAAAAAAAAAAAAAAAAAAAAAAAAAAAAAAAAAAAAAAAAAAAAAAAAAAAAAAAAAAAAAAAAAAAAAAAAAAAAAAAAAAAAAAAAAAAAAAAAAAABAAEAAQAAAAAA/////////v8AAAAAAAAAAAAAAAAAAAAAAAAAAAAAAAAAAAEAAAD//////v/+//7//v////7/AAAAAAAAAAAAAAAAAAAAAAAAAAAAAAAAAAAAAAAAAAAAAAAA///+//7/AAAAAAAAAAAAAAEAAQABAAAAAAAAAAAAAAAAAAAAAAAAAAAA//8AAAAAAAAAAAAAAAAAAAEAAQAAAAEAAAAAAAAAAAAAAAAAAAAAAAAAAAAAAAAAAAAAAAAAAAAAAAAAAAAAAAAAAAAAAAAAAAAAAAAAAAAAAAAAAAAAAAAA///+/wAAAAAAAAAAAAAAAAAAAAAAAAAAAAAAAAAAAAAAAAAAAAAAAAAAAAAAAAAAAAAAAAAAAAAAAAAAAAAAAAAAAAAAAAAAAAAAAAAAAAAAAAAAAAAAAAAAAAAAAAAAAAAAAAAAAAAAAAAAAAAAAAAAAAAAAAAAAAAAAAAAAAAAAAAAAAAAAAAAAAAAAAAAAAAAAAAAAAAAAAAAAAAAAAAAAAAAAAAAAAAAAAAAAAAAAAAAAAAAAAAAAAAAAAAAAAAAAAAAAAABAAEAAAAAAAAAAAAAAAAAAAAAAAAAAAAAAAAAAAAAAAAAAAAAAAAAAAAAAAAAAAAAAAAAAAAAAAAAAAAAAAAAAAAAAAAAAAAAAAAAAAAAAAAAAAAAAAAAAAAAAAAAAAAAAAAAAAAAAAAAAAAAAAAAAAAAAAAAAAAAAAAAAAAAAAAAAAAAAAAAAAAAAAAAAAAAAAAAAAAAAAAAAAAAAAAAAAAAAAAAAAAAAAAAAAAAAAAAAAAAAAAAAAAAAAAAAAAAAAAAAAAAAAAA///+//7/AAAAAAAAAAAAAAAAAAAAAAAAAAAAAAAAAAAAAAAAAAAAAAAAAAAAAAAAAAAAAAAAAAAAAAAAAAAAAAAAAAAAAAAAAAAAAAAAAAAAAAAAAQABAAEAAAAAAAAAAAD///7/AAAAAAAAAAAAAAAAAAAAAAAAAQABAAEAAQABAAAAAAAAAAAAAAAAAAAAAAAAAAAAAAAAAAAAAAAAAAAAAAAAAAAAAAAAAAAAAAAAAAAAAAAAAAAAAAAAAAAAAAAAAAAAAAAAAAAAAAAAAAAAAAAAAAAAAAAAAAAAAAAAAAAAAAAAAAAA//8AAAAAAAAAAAAAAAAAAAAAAAAAAAAAAAAAAAAAAAAAAAAAAAAAAAAAAAAAAAAAAAAAAAAAAAAAAAAAAAAAAAAAAAAAAAAAAAAAAAAAAAAAAAAAAAAAAAAAAAAAAAAAAAAAAAAAAAAAAAAAAAAAAAAAAAAAAAAAAAAAAAAAAAAAAAAAAAAAAAAAAAAAAAAAAAAAAAEAAQAAAAAAAAAAAAAAAAAAAAAAAAAAAAAAAAAAAAAAAAAAAAAAAAAAAAAAAAAAAAAAAAAAAAAAAAAAAAAAAAAAAAAAAAAAAAAAAAAAAAAAAAAAAAAAAAAAAAAAAAAAAAAAAAAAAAAAAAAAAAAAAAAAAAAAAAAAAAAAAAAAAAAAAAAAAAAAAAAAAAAAAAAAAAAAAAAAAAAAAAAAAAAAAAAAAAAAAQABAAAAAAAAAAAAAAAAAAAAAAAAAAAAAAD///7/AAAAAAAAAAAAAAAAAAAAAAAAAAAAAAAAAAAAAAAAAAAAAAAAAAAAAAAAAAAAAAAAAAAAAAAAAAAAAAAAAAAAAAAAAAAAAAAAAAAAAAAAAAAAAAEAAAAAAAAAAAAAAAAAAAAAAAAAAAAAAAAAAAAAAAAAAAAAAAAAAAAAAAAAAAAAAAAAAAAAAAAAAAAAAAAAAAAAAAAAAAAAAAAAAAAAAAAAAAAAAAAAAAAAAAAAAAAAAAAAAAAAAAAAAAAAAAAAAAAAAAAAAAAAAAAAAAAAAAAAAAAAAAAAAAAAAAAAAAAAAAAAAAAAAAAAAAAAAAAAAAAAAAAAAAAAAAAAAAAAAAAAAAAAAAAAAAAAAAAAAAAAAAAAAAAAAAAAAAD//wAAAAAAAAAAAAAAAAAAAAAAAAAAAAAAAAAAAAAAAAAAAAAAAAAAAAAAAAAAAAAAAAAAAAAAAAAAAAAAAAAAAAAAAAAAAAAAAAAAAAAAAAAAAAAAAAAAAAAAAAAAAAAAAAAAAAAAAAAAAAAAAAAAAAAAAAAAAAAAAAAAAAAAAAAAAAAAAAAAAAAAAAAAAAAAAAAAAAAAAAAAAAAAAAAAAAAAAAAAAAAAAAAAAAAAAAAAAAAAAAAAAAAAAAAAAAAAAAAAAAAAAAAAAAAAAAAAAAAAAAAAAAAAAAAAAAAAAAAAAAAAAAAAAAAAAAAAAAAAAAAAAAAAAAAAAAAAAAAAAAAAAAAAAAAAAAAAAAAAAAAAAAAAAAAAAAAAAAAAAAAAAAAAAAAAAAAAAAAAAAAAAAAAAAAAAAAAAAAAAAAAAAAAAAAAAAAAAAAAAAAAAAAAAAAAAAAAAAAAAAAAAAAAAAAAAAAAAAAAAAAAAAAAAAAAAAAAAAAAAAAAAAAAAAAAAAAAAAABAAAAAQAAAAAAAAAAAAAAAAAAAAAAAAAAAAAAAAAAAAAAAAAAAAAAAAAAAAAAAAAAAAAAAAAAAAAAAAAAAAAAAAAAAAAAAAAAAAAAAAAAAAAAAAAAAAAAAAAAAAAAAAAAAAAAAAAAAAAAAAAAAAAAAAAAAAAAAAAAAAAAAAAAAAAAAAAAAAAAAAAAAAAAAAAAAAAAAAAAAAAAAAAAAAAAAAAAAAAAAAAAAAAAAAAAAAAAAAAAAAAAAAAAAAAAAAAAAAAAAAAAAAAAAAAAAAAAAAAAAAAAAAAAAAAAAAAAAAAAAAAAAAAAAAAAAAAAAAAAAAAAAAAAAAAAAAAAAAAAAAAAAAAAAAAAAAAAAAAAAAAAAAAAAAAAAAAAAAAAAAAAAAAAAAAAAAAAAAAAAAAAAAAAAAAAAAAAAAAAAAAAAAAAAAAAAAAAAAAAAAAAAAAAAAAAAAAAAAAAAAAAAAAAAAAAAAAAAAAAAAAAAAAAAAAAAAAAAAAAAAAAAAAAAAAAAAAAAAAAAAAAAAAAAAAAAAAAAAAAAAAAAAAAAAAAAAAAAAAAAAAAAAAAAAAAAAAAAAAAAAAAAAAAAAAAAAAAAAAAAAAAAAAAAAAAAAAAAAAAAAAAAAAAAAAAAAAAAAAAAAAAAAAAAAAAAAAAAAAAAAAAAAAAAAAAAAAAAAAAAAAAAAAAAAAAAAAAAAAAAAD///7/AAAAAAAAAAAAAAAAAAAAAAAAAAAAAAAAAAAAAAAAAAAAAAAAAAAAAAAAAAAAAAAAAAAAAAAAAAAAAAAAAAAAAAAAAAAAAAAAAAAAAAAAAAAAAAAAAAAAAAAAAAAAAAAAAAAAAAAAAAAAAAAAAAAAAAAAAAAAAAAAAAAAAAAAAAAAAAAAAAAAAAAAAAAAAAAAAAAAAAAAAAAAAAAAAAAAAAAAAAAAAAAAAAAAAAAAAAAAAAAAAAAAAAAAAAAAAAAAAAAAAAAAAAAAAAAAAAAAAAAAAAAAAAAAAAAAAAAAAAAAAAAAAAAAAAAAAAAAAAAAAAAAAAAAAAAAAAAAAAAAAAAAAAAAAAAAAAAAAAAAAAAAAAAAAAAAAAAAAAAAAAAAAAAAAAAAAAAAAAAAAAAAAAAAAAAAAAAAAAAAAAAAAAAAAAAAAAAAAAAAAAAAAAAAAAAAAAAAAAAAAAAAAAAAAAAAAAAAAAAAAAAAAAAAAAAAAAAAAAAAAAAAAAAAAAAAAAAAAAAAAAAAAAAAAAAAAAAAAAAAAAAAAAAAAAAAAAAAAAAAAAAAAAAAAAAAAAAAAAAAAAAAAAAAAAAAAAAAAAAAAAAAAAAAAAAAAAAAAAAAAAAAAAAAAAAAAAAAAAAAAAAAAAAAAAAAAAAAAAAAAAAAAAAAAAAAAAAAAAAAAAAAAAAAAAAAAAAAAAAAAAAAAAAAAAAAAAAAAAAAAAAAAAAAAAAAAAAAAAAAAAAAAAAAAAAAAAAAAAAAAAAAAAAAAAAAAAAAAAAAAAAAAAAAAAAAAAAAAAAAAAAAAAAAAAAAAAAAAAAAAAAAAAAAAAAAAAAAAAAAAAAAAAAAAAAAAAAAAAAAAAAAAAAAAAAAAAAAAAAAAAAAAAAAAAAAAAAAAAAAAAAAAAAAAAAAAAAAAAAAAAAAAAAAAAAAAAAAAAAAAAAAAAAAAAAAAAAAAAAAAAAAAAAAAAAAAAAAAAAAAAAAAAAAAAAAAAAAAAAAAAAAAAAAAAAAAAAAAAAAAAAAAAAAAAAAAAAAAAAAAAAAAAAAAAAAAAAAAAAAAAAAAAAAAAAAAAAAAAAAAAAAAAAAAAAAAAAAAAAAAAAAAAAAAAAAAAAAAAAAAAAAAAAAAAAAAAAAAAAAAAAAAAAAAAAAAAAAAAAAAAAAAAAAAAAAAAAAAAAAAAAAAAAAAAAAAAAAAAAAAAAAAAAAAAAAAAAAAAAAAAAAAAAAAAAAAAAAAAAAAAAAAAAAAAAAAAAAAAAAAAAAAAAAAAAAAAAAAAAAAAAAAAAAAAAAAAAAAAAAAAAAAAAAAAAAAAAAAAAAAAAAAAAAAAAAAAAAAAAAAAAAAAAAAAAAAAAAAAAAAAAAAAAAAAAAAAAAAAAAAAAAAAAAAAAAAAAAAAAAAAAAAAAAAAAAAAAAAAAAAAAAAAAAAAAAAAAAAAAAAAAAAAAAAAAAAAAAAAAAAAAAAAAAAAAAAAAAAAAAAAAAAAAAAAAAAAAAAAAAAAAAAAAAAAAAAAAAAAAAAAAAAAAAAAAAAAAAAAAAAAAAAAAAAAAAAAAAAAAAAAAAAAAAAAAAAAAAAAAAAAAAAAAAAAAAAAAAAAAAAAAAAAAAAAAAAAAAAAAAAAAAAAAAAAAAAAAAAAAAAAAAAAAAAAAAAAAAAAAAAAAAAAAAAAAAAAAAAAAAAAAAAAAAAAAAAAAAAAAAAAAAAAAAAAAAAAAAAAAAAAAAAAAAAAAAAAAAAAAAAAAAAAAAAAAAAAAAAAAAAAAAAAAAAAAAAAAAAAAAAAAAAAAAAAAAAAAAAAAAAAAAAAAAAAAAAAAAAAAAAAAAAAAAAAAAAAAAAAAAAAAAAAAAAAAAAAAAAAAAAAAAAAAAAAAAAAAAAAAAAAAAAAAAAAAAAAAAAAAAAAAAAAAAAAAAAAAAAAAAAAAAAAAAAAAAAAAAAAAAAAAAAAAAAAAAAAAAAAAAAAAAAAAAAAAAAAAAAAAAAAAAAAAAAAAAAAAAAAAAAAAAAAAAAAAAAAAAAAAAAAAAAAAAAAAAAAAAAAAAAAAAAAAAAAAAAAAAAAAAAAAAAAAAAAAAAAAAAAAAAAAAAAAAAAAAAAAAAAAAAAAAAAAAAAAAAAAAAAAAAAAAAAAAAAAAAAAAAAAAAAAAAAAAAAAAAAAAAAAAAAAAAAAAAAAAAAAAAAAAAAAAAAAAAAAAAAAAAAAAAAAAAAAAAAAAAAAAAAAAAAAAAAAAAAAAAAAAAAAAAAAAAAAAAAAAAAAAAAAAAAAAAAAAAAAAAAAAAAAAAAAAAAAAAAAAAAAAAAAAAAAAAAAAAAAAAAAAAAAAAAAAAAAAAAAAAAAAAAAAAAAAAAAAAAAAAAAAAAAAAAAAAAAAAAAAAAAAAAAAAAAAAAAAAAAAAAAAAAAAAAAAAAAAAAAAAAAAAAAAAAAAAAAAAAAAAAAAAAAAAAAAAAAAAAAAAAAAAAAAAAAAAAAAAAAAAAAAAAAAAAAAAAAAAAAAAAAAAAAAAAAAAAAAAAAAAAAAAAAAAAAAAAAAAAAAAAAAAAAAAAAAAAAAAAAAAAAAAAAAAAAAAAAAAAAAAAAAAAAAAAAAAAAAAAAAAAAAAAAAAAAAAAAAAAAAAAAAAAAAAAAAAAAAAAAAAAAAAAAAAAAAAAEAAQAAAAAAAAAAAAAAAAAAAAAAAAAAAAAAAAAAAAAAAAAAAAAAAAAAAAAAAAAAAAAAAAAAAAAAAAAAAAAAAAAAAAAAAAAAAAAAAAAAAAAAAAAAAAAAAAAAAAAAAAAAAAAAAAAAAAAAAAAAAAAAAAAAAAAAAAAAAAAAAAAAAAAAAAAAAAAAAAAAAAAAAAAAAAAAAAAAAAAAAAAAAAAAAAAAAAAAAAAAAAAAAAAAAAAAAAAAAAAAAAAAAAAAAAAAAAAAAAAAAAAAAAAAAAAAAAAAAAAAAAAAAAAAAAAAAAAAAAAAAAAAAAAAAAAAAAAAAAAAAAAAAAAAAAAAAAAAAAAAAAAAAAAAAAAAAAAAAAAAAAAAAAAAAAAAAAAAAAAAAAAAAAAAAAAAAAAAAAAAAAAAAAAAAAAAAAAAAAAAAAAAAAAAAAAAAAAAAAAAAAAAAAAAAAAAAAAAAAAAAAAAAAAAAAAAAAAAAAAAAAAAAAAAAAAAAAAAAAAAAAAAAAAAAAAAAAAAAAAAAAAAAAAAAAAAAAAAAQAAAAAAAAAAAAAAAAAAAAAAAAAAAAAAAAAAAAAAAAAAAAAAAAAAAAAAAAAAAAAAAAAAAAAAAAAAAAAAAAAAAAAAAAAAAAAAAAAAAAAAAAAAAAAAAAAAAAAAAAAAAAAAAAAAAAAAAAAAAAAAAAAAAAAAAAAAAAAAAAAAAAAAAQAAAAEAAAAAAAAAAAAAAAAAAAAAAAAAAAAAAAAAAAAAAAAAAAAAAAAAAAAAAAAAAAAAAAAAAAAAAAAAAAAAAAAAAAAAAAAAAAAAAAAAAAAAAAAAAAAAAAAAAAAAAAAAAAAAAAAAAAAAAAAAAAAAAAAAAAAAAAAAAAAAAAAAAAAAAAAAAAAAAAAAAAAAAAAAAAAAAAAAAAAAAAAAAAAAAAAAAAAAAAAAAAAAAAAAAAAAAAAAAAAAAAAAAAAAAAAAAAAAAAAAAAAAAAAAAAAAAAAAAAAAAAAAAAAAAAAAAAAAAAAAAAAAAAAAAAAAAAAAAAAAAAAAAAAAAAAAAAAAAAAAAAAAAAAAAAAAAAAAAAAAAAAAAAAAAAAAAAAAAAAAAAAAAAAAAAAAAAAAAAAAAAAAAAAAAAAAAAAAAAAAAAABAAAAAQABAAEAAAAAAAAAAAAAAAAAAAAAAAAAAAAAAAAAAAAAAAAAAAAAAAAAAAAAAAAAAAAAAAAAAAAAAAAAAAAAAAAAAAAAAAAAAAAAAAAAAAAAAAAAAAAAAAAAAAAAAAAAAAAAAAAAAAAAAAAAAAAAAAAAAAAAAAAAAAAAAAAAAAAAAAAAAAAAAAAAAAAAAAAAAAAAAAAAAAAAAAAAAAAAAAAAAAAAAAAAAAAAAAAAAAAAAAAAAAAAAAAAAAAAAAAAAAAAAAAAAAAAAAAAAAAAAAAAAAAAAAAAAAAAAAAAAAAAAAAAAAAAAAAAAAAAAAAAAAAAAAAAAAAAAAAAAAAAAAAAAAAAAAAAAAAAAAAAAAAAAAAAAAAAAAAAAAAAAAAAAAAAAAAAAAAAAAAAAAAAAAAAAAAAAAAAAAAAAAAAAAAAAAAAAAAAAAAAAAAAAAAAAAAAAAAAAAAAAAAAAAAAAAAAAAAAAAAAAAAAAAAAAAAAAAAAAAAAAAAAAAAAAAAA///+/wAA/////wAA///+//7/AAAAAAAAAAAAAAAAAAAAAAAAAAAAAAAAAAAAAAAAAAAAAAAAAAAAAAAAAAAAAAAAAAAAAAAAAAAAAAAAAAAAAAAAAAAAAAAAAAAAAAAAAAAAAAEAAAAAAAEAAQAAAAAAAQABAAEAAQABAAEAAQABAAAAAAABAAEAAAAAAAAAAAAAAAAAAAAAAAAAAAAAAAAAAAAAAAAAAAAAAAAAAAAAAAAAAAAAAP///v////7//v/+//7//v/+//7//v/+//7/AAAAAAAAAAAAAAAAAAAAAAAAAAAAAAAAAAAAAAAAAQAAAAAAAAABAAAAAAAAAAAAAAABAAEAAQAAAAAAAAAAAAAAAAAAAAAAAAAAAAAAAAAAAAAAAAAAAAAAAAAAAAAAAAAAAAAAAAAAAAAAAAAAAAAAAAAAAAAAAAAAAAAAAAAAAAAAAAAAAAAAAAAAAAAAAAAAAAAAAAAAAAAAAAAAAAAAAAAAAAAAAAAAAAAAAAAAAAAAAAAAAAAAAAAAAAAAAAAAAAAAAAAAAAAAAAABAAEAAQAAAAAAAAAAAAAAAAAAAAAAAQABAAAAAAABAAAAAAAAAAAAAAAAAAAAAAAAAAAAAAAAAAAAAAAAAAAAAAAAAAAAAAAAAAAAAAAAAAAAAAAAAAAAAAAAAAAAAAAAAAAAAAAAAAAAAAAAAAAAAAAAAAAAAAAAAP///v/+/wAAAAAAAAAAAAAAAAAAAAAAAAAAAAAAAAAAAAAAAAAAAAABAAEAAQAAAAAAAQABAAAAAAAAAAAAAAAAAAAAAAAAAAAAAAAAAAAAAAAAAAAAAAAAAAAAAAAAAAAAAAAAAAAAAAAAAAAAAAAAAAAA///+/////v/+//7/AAAAAAAAAAAAAAAAAAAAAAAAAAAAAAAAAAAAAAAAAAAAAAAAAAAAAAAAAAAAAAAAAAAAAAAAAAAAAAAAAAAAAAAAAAAAAAEAAAAAAAAAAAAAAAAAAAAAAAAAAAAAAAAAAAAAAAAAAAAAAAAAAAAAAAAAAAAAAAAAAAAAAAAAAAAAAAAAAAAAAAAAAAAAAAAAAAAAAAAAAAAAAAAAAAAAAAAAAAAAAAAA///+//7//v/+//7//v8AAAAAAAAAAAAAAAAAAAAAAAAAAAAAAAAAAAAAAAAAAAAAAAAAAAAAAAAAAAAAAAAAAAAAAAAAAAAAAAAAAAAAAAABAAAAAAAAAAAAAAAAAAAAAAAAAAAAAAAAAAAAAAAAAAAAAAAAAAAAAAAAAAAAAAAAAAAAAAAAAAAAAAAAAAAAAAAAAAAAAAAAAAAAAAAAAAAAAAAAAAAAAAAAAAAAAAAAAAAAAAAAAAAAAAAAAAAAAAAAAAAAAAAAAAAAAAAAAAAAAAAAAAAAAAAAAAAAAAAAAAAAAAAAAAAAAAAAAAAAAAAAAAEAAAAAAAAAAAAAAAAAAAAAAAAAAAAAAAAAAAAAAAAAAAAAAAAAAAD///7////+//7//v/+//7//v/+//////////7//v/+//7//v/+//7//v/+//7//v8AAAAAAAAAAAAAAAAAAAAAAAAAAAAAAAAAAAAAAAAAAAAAAQAAAAEAAQABAAEAAQABAAEAAQABAAEAAQABAAAAAAAAAAAAAAAAAAAAAQABAAEAAQABAAAAAAAAAAAAAAAAAAAAAAAAAAAAAAAAAAAAAAAAAAAAAAAAAAAAAAAAAAAAAAAAAAAAAAAAAAAAAAAAAAAAAAAAAAAAAAAAAAAAAAAAAP///v////7//v8AAAAAAAAAAAAAAAAAAAAAAAAAAP//AAD/////AAAAAAAAAAAAAAAAAAAAAAAAAAAAAAAAAAAAAAAAAAAAAAAAAAAAAAAAAAAAAAAAAAAAAAAAAAABAAAAAAAAAAAAAAAAAAAAAAAAAAAAAAAAAAAAAAAAAAAAAAAAAAAAAAAAAAAAAAAAAAAAAAAAAAAAAAAAAAAAAAAAAAEAAQABAAAAAAAAAAAAAAAAAAAAAAAAAAAAAAAAAAAAAAAAAAAAAAAAAAAAAAAAAAAAAAAAAAAAAAAAAAAAAAAAAAAAAAAAAAAAAAD///7////+//7/AAAAAAAAAAAAAAAAAAAAAAAAAAAAAAAA///+//7/AAAAAAAAAAAAAAAAAAAAAAAAAAAAAP///v/+//7/AAAAAAAAAAAAAAAAAAAAAAAAAAAAAAAAAAAAAAAAAAAAAAAAAAABAAEAAQABAAEAAQABAAEAAQABAAEAAAAAAAAAAQABAAAAAAABAAEAAQAAAAAAAAAAAAAAAAAAAAAAAAAAAAAAAAAAAAAAAAAAAP////////7////////////+/////v/+//7////////////+//7//v///wAAAAAAAAAAAAAAAAAAAAAAAAAAAAAAAAAAAAAAAAAAAAAAAAAAAAAAAAAAAAAAAAAAAAAAAAAAAAAAAAAAAAAAAAAAAAAAAAAAAAAAAAAAAAAAAAAAAAAAAAAAAAAAAAAAAAAAAAEAAQABAAEAAAAAAAAAAAAAAAAAAAAAAAAAAAAAAAAAAAAAAAEAAAAAAAAAAAAAAAAA//////7//v/+/wAAAAAAAAAAAAAAAAAAAAAAAAAAAAAAAAAAAAAAAAAAAAAAAAAAAQABAAEAAQABAAAAAAAAAAAAAAAAAAAAAAAAAAAAAAAAAAAAAAAAAAAAAAAAAAAAAAAAAAAAAAAAAAAAAAD////////+//7//v/+/wAAAAAAAAAAAAAAAAAA//////////////7//v/+//7//v///wAAAAAAAAAAAAAAAAAAAAAAAAAAAAAAAAAAAAAAAAAAAAABAAAAAAABAAAAAAAAAAAAAAAAAAAAAAAAAAAAAQAAAAEAAQAAAAAAAAAAAAAAAAAAAAAAAAAAAAAAAAAAAAAAAAAAAAAAAAAAAAAAAAAAAP//AAAAAAAAAAAAAAAAAAAAAAAAAAAAAAAAAAAAAAAAAAAAAAAAAAAAAAAAAAAAAAAAAAAAAAAAAAAAAAAAAAAAAAAAAAAAAAAAAAAAAAAAAAAAAAAAAAAAAAAAAAAAAAAAAAAAAAAAAAAAAAAAAAAAAAAAAAAAAAAAAAAAAAAAAAAAAAAAAAAAAAAAAAAAAAAAAAAAAAAAAQABAAEAAAABAAEAAQABAAAAAAAAAAAAAAAAAAAAAAAAAAAAAAAAAAAAAAAAAAAAAAD////////+//7//v8AAAAAAAAAAAAAAAAAAAAAAAAAAAAAAAAAAAAAAAAAAAAAAAAAAAAAAAAAAAAAAAAAAAAAAAAAAAAAAAAAAAAAAAAAAAAAAAAAAAAAAAAAAAAAAAAAAAAAAAAAAAAAAAAAAAAAAAAAAAAAAAAAAAAAAAD///7//v/+/wAAAAAAAAAAAAAAAAAAAAAAAAAAAAAAAAAAAAAAAAAAAAAAAAAAAAAAAAAAAAAAAAAAAAAAAAAAAAAAAAAAAAAAAAAAAQABAAEAAQABAAAAAAAAAAAAAAAAAAAAAAAAAAAAAAAAAAAAAAAAAAAAAAAAAAAAAAAAAAAAAAAAAAAAAAAAAAAAAAAAAAAAAAAAAAAAAAAAAAAAAAAAAAAAAAAAAAAAAAAAAAAAAAD//////v///////v/+//7//v8AAAAAAAAAAP///v///////v8AAAAAAAAAAAAAAAAAAAAAAAAAAAAAAAAAAAAAAQABAAEAAQABAAAAAAABAAEAAQABAAEAAQABAAEAAQAAAAAAAAAAAAAAAAAAAAAAAAAAAAAAAAAAAAAAAAAAAAAAAAAAAAAAAAAAAAAAAAAAAAAAAAAAAAAAAAAAAAAAAAD///7///////7/AAD///7/AAD///7//v/+/wAAAAAAAAAAAAAAAAAAAAAAAAAAAAAAAAAAAAABAAEAAQABAAEAAAAAAAAAAAAAAAAAAAAAAAAAAAAAAAAAAAAAAAAAAAAAAAAAAAAAAAAAAAAAAAAAAAAAAAAAAAAAAAAAAAAAAAAAAAAAAAAAAAAAAAAAAAAAAAAAAAAAAAAAAAAAAAAAAAAAAAAAAAAAAAAAAAAAAAAAAAAAAAAAAAAAAAAAAAAAAAAAAAAAAAAAAAAAAAAAAAAAAAAAAAAAAAAAAAAAAAAAAAAAAAAAAAAAAAAAAQABAAAAAQAAAAAAAAAAAAAAAAAAAAAAAAAAAAAAAAAAAAAAAAAAAAAAAAAAAAAAAAD////////+//////////7//v////7/AAAAAP//AAAAAAAAAAAAAAAAAAAAAAAAAAAAAAAAAAAAAAAAAAAAAAAAAAAAAAAAAAAAAAAAAAABAAEAAQABAAAAAAAAAAAAAAAAAAAAAAAAAAAAAAAAAAAAAAAAAAAAAAAAAAAAAAAAAAAAAAAAAAAAAAAAAAAAAAAAAAAAAAAAAAAAAAAAAAAAAAAAAAAAAAAAAAAAAAAAAAAAAAAAAAAAAAAAAAAAAAAAAAAAAAAAAAAAAAAAAAAAAAAAAAAAAAAAAAAAAAAAAAAAAAAAAAAAAAAAAAAAAAAAAAAAAAAAAAAAAAAAAAAAAAAAAAAAAAAAAAAAAAAAAAAAAAAAAAAAAAAAAAAAAAAAAAAAAAAAAAAAAAAAAAAAAAAAAAAAAAAAAAAAAAAAAAAAAAAAAAAAAAAAAAAAAAAAAAAAAAAAAAAAAAAAAAAAAAAAAAAAAAAAAAAAAAAAAAAAAAAAAAAAAAAAAAAAAAAAAAAAAAAAAAAAAAAAAAAAAAAAAAAAAQABAAEAAAAAAAAAAAAAAAAAAAAAAAAAAAAAAAAAAAAAAAAAAAAAAAAAAAAAAAAAAAAAAAAAAAAAAAAAAAAAAAAAAAAAAAAA///+//7//v/+//7//v/+////AAAAAAAAAAAAAAAAAAAAAAAAAAAAAAAAAAAAAAAAAAAAAAAAAAAAAAAAAAAAAAAAAAAAAAAAAAAAAAAAAAAAAAAAAAAAAAEAAQABAAEAAQABAAEAAQABAAEAAQABAAEAAAAAAAAAAAAAAAAAAAAAAAAAAAAAAAAAAAAAAAAAAAAAAAAAAAAAAAAAAAAAAAAAAAAAAAAAAAAAAAAAAAAAAP////////7//////////////////v8AAP//AAAAAAAAAAAAAAAAAAAAAAAAAAAAAAAAAAAAAAAAAAAAAAAAAAAAAAAAAAAAAAAAAAABAAEAAQABAAAAAAABAAAAAAABAAEAAAABAAEAAQABAAAAAAAAAAAAAAAAAAAAAAAAAAAAAAAAAAAAAAAAAAAAAAAAAAAAAAAAAAAAAAAAAAAA//8AAAAAAAAAAP///v/+//7//v8AAAAAAAAAAAAAAAAAAAAAAAAAAAAAAAAAAAAAAAAAAAAAAAAAAAAAAAAAAAAAAAAAAAAAAAABAAAAAQAAAAAAAAAAAAAAAAAAAAAAAAAAAAAAAAAAAAAAAAAAAAAAAAAAAAAAAAAAAAAA///+/////v/+//7/AAAAAAAAAAAAAAAAAAAAAAAAAAAAAAAAAAAAAAAAAAAAAAAAAAAAAAAAAAAAAAAAAAAAAAAAAAAAAAAAAAAAAAAAAAAAAAAAAAAAAAEAAQABAAEAAQABAAEAAAAAAAAAAAAAAAAAAAAAAAAAAAAAAAAAAAAAAAAAAAAAAAAAAAAAAAAAAAAAAAAAAAD////////+//7//v/+//7//v/+/wAAAAAAAAAAAAAAAAAAAAAAAAAAAAAAAAAAAAAAAAAAAAAAAAAAAAAAAAAAAAAAAAAAAAAAAAAAAAAAAAAA//8AAAAAAAAAAAAAAAAAAAAAAAAAAAAAAAAAAAAAAAAAAAAAAAAAAAAAAAAAAAAAAAAAAAAAAAAAAAAAAAAAAAAAAAAAAAAAAAAAAAAAAAAAAAAAAAAAAAAAAAAAAAAAAAAAAAAAAAAAAAAAAAAAAAAA//////7/AAD/////AAAAAAAAAAAAAAAAAAAAAAAAAAAAAAAAAAAAAAAAAAAAAAAAAAAAAAAAAAAAAAAAAAAAAAAAAAAAAAAAAAAAAAAAAAAAAAAAAAAAAAAAAAAAAAAAAAAAAAAAAAAAAAAAAAAAAAAAAAAAAAAAAAAAAAAAAAAAAAAA//8AAAAAAAAAAAAAAAAAAAAAAAAAAAAAAAAAAAAAAAAAAAAAAAAAAAAAAAAAAAAAAAAAAAAAAAAAAAAAAAAAAAAAAAAAAAAAAAAAAAAAAAAAAAAAAAAAAAAAAAAAAAAAAAAAAAAAAAAAAAAAAAAAAAAAAAAAAAAAAAAAAAAAAAAAAAAAAAAAAAAAAAAAAAAAAAAAAAAAAAAAAAAAAAAAAAAAAAAAAAAAAAAAAAAAAAAAAAAAAAAAAAAAAAAAAAAAAAAAAAAAAAAAAAAAAAAAAAAAAAAAAAAAAAAAAAAAAAAAAP///v////7///////7//v/+/wAAAAAAAAAAAAAAAAAAAAAAAAAAAAAAAAAAAAAAAAAAAAAAAAAAAAAAAAAAAAAAAAAAAAAAAAAAAAAAAAAAAAAAAAAAAAAAAAAAAAAAAAAAAAAAAAAAAAAAAAAAAAAAAAAAAAAAAAAAAAAAAAAAAAAAAAAAAAAAAAAAAAAAAAAAAAAAAAAAAAAAAAAAAAAAAAAAAAAAAAAAAAAAAAAAAAAAAAAAAAAAAAAAAAAAAAAAAAAAAAAAAAAAAAAAAAAAAAAAAAAAAAAAAAAAAAAAAAAAAAAAAAAAAAAAAAAAAAAAAAAAAAAAAAAAAAAAAAAAAAAAAAAAAAAAAAAAAAAAAAAAAAAAAAAAAAAAAAAAAAAAAAAAAAAAAAAAAAAAAAAAAAAAAAAAAAAAAAAAAAAAAAAAAAAAAAAAAP///v////7//v/+/wAAAAAAAAAAAAAAAAAAAAAAAAAAAAAAAAAAAQABAAEAAAAAAAAAAAAAAAAAAAAAAAAAAAAAAAAAAAAAAAAAAAAAAAAAAAAAAAAAAAAAAAAAAAAAAAAAAAAAAAAAAAAAAAAAAAAAAAAAAAAAAAAAAAAAAAAAAAAAAAAAAAAAAAAAAAAAAAAAAAAAAAAAAAAAAAAAAAAAAAAAAAAAAAAAAAAAAAAAAAAAAAAAAAAAAAAAAAAAAAAAAAAAAAAAAAAAAAAAAQABAAEAAQAAAAAAAAAAAAAAAAAAAAAAAAAAAAAAAAAAAAAAAAD//wAAAAAAAAAAAAAAAAAAAAAAAAAAAAAAAAAAAAAAAAAAAAAAAAAAAAAAAAAAAAAAAAAAAAAAAAAAAAAAAAAAAAAAAAAAAAAAAAAAAAAAAAAAAAAAAAAAAAAAAAAAAAAAAAAAAAAAAAAAAAAAAAAAAAAAAAAAAAAAAAAAAAAAAAAAAAAAAAAAAAAAAAAAAAAAAAAAAAAAAAAAAAAAAAAAAAAAAAAAAAAAAAAAAAAAAAAAAAAAAAAAAAAAAAAAAAAAAAAAAAAAAAAAAAAAAAAAAAAAAAAAAAAAAAAAAAAAAAAAAAAAAAAAAAAAAAAAAAAAAAAAAAAAAAAAAAAAAAAAAAAAAAAAAAAAAAAAAAAAAAAAAAAAAAAAAAAAAAAAAAAAAAAAAAAAAAAAAAAAAAAAAAAAAAAAAAAAAAAAAAAAAAAAAAAAAAAAAAAAAAAAAAAAAAAAAAAAAAAAAAAAAAAAAAAAAAAAAAAAAAAAAAAAAAAAAAAAAAAAAAAAAAAAAAAAAAAAAAAAAAAAAAAAAAAAAAAAAAAAAAAAAAAAAAAAAAAAAAAAAAAAAAAAAAAAAAAAAAAAAAAAAAAAAAAAAAAAAAAAAAAAAAAAAAAAAAAAAAAAAAAAAAAAAAAAAAAAAAAAAAAAAAAAAAAAAAAAAAAAAAAAAAAAAAAAAAAAAAAAAAAAAAAAAAAAAAAAAAAAAAAAAAAAAAAAAAAAAAAAAAAAAAAAAAAAAAAAAAAAAAAAAAAAAAAAAAAAAAAAAAAAAAAAAAAAAAAAAAAAAAAAAAAAAAAAAAAAAAAAAAAAAAAAAAAAAAAAAAAAAAAAAAAAAAAAAAAAAAAAAAAAAAAAAAAAAAAAAAAAAAAAAAAAAAAAAAAAAAAAAAAAAAAAAAAAAAAAAAAAAAAAAAAAAAAAAAAAAAAAAAAAAAAAAAAAAAAAAAAAAAAAAAAAAAAAAAAAAAAAAAAAAAAAAAAAAAAAAAAAAAAAAAAAAAAAAAAAAAAAAAAAAAAAAAAAAAAAAAAAAAAAAAAAAAAAAAAAAAAAAAAAAAAAAAAAAAAAAAAAAAAAAAAAAAAAAAAAAAAAAAAAAAAAAAAAAAAAAAAAAAAAAAAAAAAAAAAAAAAAAAAAAAAAAAAAAAAAAAAAAAAAAAAAAAAAAAAAAAAAAAAAAAAAAAAAAAAAAAAAAAAAAAAAAAAAAAAAAAAAAAAAAAAAAAAAAAAAAAAAAAAAAAAAAAAAAAAAAAAAAAAAAAAAAAAAAAAAAAAAAAAAAAAAAAAAAAAAAAAAAAAAAAAAAAAAAAAAAAAAAAAAAAAAAAAAAAAAAAAAAAAAAAAAAAAAAAAAAAAAAAAAAAAAAAAAAAAAAAAAAAAAAAAAAAAAAAAAAAAAAAAAAAAAAAAAAAAAAAAAAAAAAAAAAAAAAAAAAAAAAAAAAAAAAAAAAAAAAAAAAAAAAAAAAAAAAAAAAAAAAAAAAAAAAAAAAAAAAAAAAAAAAAAAAAAAAAAAAAAAAAAAAAAAAAAAAAAAAAAAAAAAAAAAAAAAAAAAAAAAAAAAAAAAAAAAAAAAAAAAAAAAAAAAAAAAAAAAAAAAAAAAAAAAAAAAAAAAAAAAAAAAAAAAAAAAAAAAAAAAAAAAAAAAAAAAAAAAAAAAAAAAAAAAAAAAAAAAAAAAAAAAAAAAAAAAAAAAAAAAAAAAAAAAAAAAAAAAAAAAAAAAAAAAAAAAAAAAAAAAAAAAAAAAAAAAAAAAAAAAAAAAAAAAAAAAAAAAAAAAAAAAAAAAAAAAAAAAAAAAAAAAAAAAAAAAAAAAAAAAAAAAAAAAAAAAAAAAAAAAAAAAAAAAAAAAAAAAAAAAAAAAAAAAAAAAAAAAAAAAAAAAAAAAAAAAAAAAAAAAAAAAAAAAAAAAAAAAAAAAAAAAAAAAAAAAAAAAAAAAAAAAAAAAAAAAAAAAAAAAAAAAAAAAAAAAAAAAAAAAAAAAAAAAAAAAAAAAAAAAAAAAAAAAAAAAAAAAAAAAAAAAAAAAAAAAAAAAAAAAAAAAAAAAAAAAAAAAAAAAAAAAAAAAAAAAAAAAAAAAAAAAAAAAAAAAAAAAAAAAAAAAAAAAAAAAAAAAAAAAAAAAAAAAAAAAAAAAAAAAAAAAAAAAAAAAAAAAAAAAAAAAAAAAAAAAAAAAAAAAAAAAAAAAAAAAAAAAAAAAAAAAAAAAAAAAAAAAAAAAAAAAAAAAAAAAAAAAAAAAAAAAAAAAAAAAAAAAAAAAAAAAAAAAAAAAAAAAAAAAAAAAAAAAAAAAAAAAAAAAAAAAAAAAAAAAAAAAAAAAAAAAAAAAAAAAAAAAAAAAAAAAAAAAAAAAAAAAAAAAAAAAAAAAAAAAAAAAAAAAAAAAAAAAAAAAAAAAAAAAAAAAAAAAAAAAAAAAAAAAAAAAAAAAAAAAAAAAAAAAAAAAAAAAAAAAAAAAAAAAAAAAAAAAAAAAAAAAAAAAAAAAAAAAAAAAAAAAAAAAAAAAAAAAAAAAAAAAAAAAAAAAAAAAAAAAAAAAAAAAAAAAAAAAAAAAAAAAAAAAAAAAAAAAAAAAAAAAAAAAAAAAAAAAAAAAAAAAAAAAAAAAAAAAAAAAAAAAAAAAAAAAAAAAAAAAAAAAAAAAAAAAAAAAAAAAAAAAAAAAAAAAAAAAAAAAAAAAAAAAAAAAAAAAAAAAAAAAAAAAAAAAAAAAAAAAAAAAAAAAAAAAAAAAAAAAAAAAAAAAAAAAAAAAAAAAAAAAAAAAAAAAAAAAAAAAAAAAAAAAAAAAAAAAAAAAAAAAAAAAAAAAAAAAAAAAAAAAAAAAAAAAAAAAAAAAAAAAAAAAAAAAAAAAAAAAAAAAAAAAAAAAAAAAAAAAAAAAAAAAAAAAAAAAAAAAAAAAAAAAAAAAAAAAAAAAAAAAAAAAAAAAAAAAAAAAAAAAAAAAAAAAAAAAAAAAAAAAAAAAAAAAAAAAAAAAAAAAAAAAAAAAAAAAAAAAAAAAAAAAAAAAAAAAAAAAAAAAAAAAAAAAAAAAAAAAAAAAAAAAAAAAAAAAAAAAAAAAAAAAAAAAAAAAAAAAAAAAAAAAAAAAAAAAAAAAAAAAAAAAAAAAAAAAAAAAAAAAAAAAAAAAAAAAAAAAAAAAAAAAAAAAAAAAAAAAAAAAAAAAAAAAAAAAAAAAAAAAAAAAAAAAAAAAAAAAAAAAAAAAAAAAAAAAAAAAAAAAAAAAAAAAAAAAAAAAAAAAAAAAAAAAAAAAAAAAAAAAAAAAAAAAAAAAAAAAAAAAAAAAAAAAAAAAAAAAAAAAAAAAAAAAAAAAAAAAAAAAAAAAAAAAAAAAAAAAAAAAAAAAAAAAAAAAAAAAAAAAAAAAAAAAAAAAAAAAAAAAAAAAAAAAAAAAAAAAAAAAAAAAAAAAAAAAAAAAAAAAAAAAAAAAAAAAAAAAAAAAAAAAAAAAAAAAAAAAAAAAAAAAAAAAAAAAAAAAAAAAAAAAAAAAAAAAAAAAAAAAAAAAAAAAAAAAAAAAAAAAAAAAAAAAAAAAAAAAAAAAAAAAAAAAAAAAAAAAAAAAAAAAAAAAAAAAAAAAAAAAAAAAAAAAAAAAAAAAAAAAAAAAAAAAAAAAAAAAAAAAAAAAAAAAAAAAAAAAAAAAAAAAAAAAAAAAAAAAAAAAAAAAAAAAAAAAAAAAAAAAAAAAAAAAAAAAAAAAAAAAAAAAAAAAAAAAAAAAAAAAAAAAAAAAAAAAAAAAAAAAAAAAAAAAAAAAAAAAAAAAAAAAAAAAAAAAAAAAAAAAAAAAAAAAAAAAAAAAAAAAAAAAAAAAAAAAAAAAAAAAAAAAAAAAAAAAAAAAAAAAAAAAAAAAAAAAAAAAAAAAAAAAAAAAAAAAAAAAAAAAAAAAAAAAAAAAAAAAAAAAAAAAAAAAAAAAAAAAAAAAAAAAAAAAAAAAAAAAAAAAAAAAAAAAAAAAAAAAAAAAAAAAAAAAAAAAAAAAAAAAAAAAAAAAAAAAAAAAAAAAAAAAAAAAAAAAAAAAAAAAAAAAAAAAAAAAAAAAAAAAAAAAAAAAAAAAAAAAAAAAAAAAAAAAAAAAAAAAAAAAAAAAAAAAAAAAAAAAAAAAAAAAAAAAAAAAAAAAAAAAAAAAAAAAAAAAAAAAAAAAAAAAAAAAAAAAAAAAAAAAAAAAAAAAAAAAAAAAAAAAAAAAAAAAAAAAAAAAAAAAAAAAAAAAAAAAAAAAAAAAAAAAAAAAAAAAAAAAAAAAAAAAAAAAAAAAAAAAAAAAAAAAAAAAAAAAAAAAAAAAAAAAAAAAAAAAAAAAAAAAAAAAAAAAAAAAAAAAAAAAAAAAAAAAAAAAAAAAAAAAAAAAAAAAAAAAAAAAAAAAAAAAAAAAAAAAAAAAAAAAAAAAAAAAAAAAAAAAAAAAAAAAAAAAAAAAAAAAAAAAAAAAAAAAAAAAAAAAAAAAAAAAAAAAAAAAAAAAAAAAAAAAAAAAAAAAAAAAAAAAAAAAAAAAAAAAAAAAAAAAAAAAAAAAAAAAAAAAAAAAAAAAAAAAAAAAAAAAAAAAAAAAAAAAAAAAAAAAAAAAAAAAAAAAAAAAAAAAAAAAAAAAAAAAAAAAAAAAAAAAAAAAAAAAAAAAAAAAAAAAAAAAAAAAAAAAAAAAAAAAAAAAAAAAAAAAAAAAAAAAAAAAAAAAAAAAAAAAAAAAAAAAAAAAAAAAAAAAAAAAAAAAAAAAAAAAAAAAAAAAAAAAAAAAAAAAAAAAAAAAAAAAAAAAAAAAAAAAAAAAAAAAAAAAAAAAAAAAAAAAAAAAAAAAAAAAAAAAAAAAAAAAAAAAAAAAAAAAAAAAAAAAAAAAAAAAAAAAAAAAAAAAAAAAAAAAAAAAAAAAAAAAAAAAAAAAAAAAAAAAAAAAAAAAAAAAAAAAAAAAAAAAAAAAAAAAAAAAAAAAAAAAAAAAAAAAAAAAAAAAAAAAAAAAAAAAAAAAAAAAAAAAAAAAAAAAAAAAAAAAAAAAAAAAAAAAAAAAAAAAAAAAAAAAAAAAAAAAAAAAAAAAAAAAAAAAAAAAAAAAAAAAAAAAAAAAAAAAAAAAAAAAAAAAAAAAAAAAAAAAAAAAAAAAAAAAAAAAAAAAAAAAAAAAAAAAAAAAAAAAAAAAAAAAAAAAAAAAAAAAAAAAAAAAAAAAAAAAAAAAAAAAAAAAAAAAAAAAAAAAAAAAAAAAAAAAAAAAAAAAAAAAAAAAAAAAAAAAAAAAAAAAAAAAAAAAAAAAAAAAAAAAAAAAAAAAAAAAAAAAAAAAAAAAAAAAAAAAAAAAAAAAAAAAAAAAAAAAAAAAAAAAAAAAAAAAAAAAAAAAAAAAAAAAAAAAAAAAAAAAAAAAAAAAAAAAAAAAAAAAAAAAAAAAAAAAAAAAAAAAAAAAAAAAAAAAAAAAAAAAAAAAAAAAAAAAAAAAAAAAAAAAAAAAAAAAAAAAAAAAAAAA///+//7////+/wAA/////wAAAAAAAAAAAAAAAAAAAAAAAAAAAAAAAAAAAAAAAAAAAAAAAAAAAAAAAAAAAAAAAAAAAAABAAAAAQAAAAAAAAAAAAAAAQAAAAAAAAAAAAAAAAAAAAAAAAAAAAAAAAAAAAAAAAAAAP///v/+//7//v/+//3/AAD///3/AAAAAAAAAAAAAAAAAAAAAAAAAAAAAAAAAAAAAAAAAAAAAAAAAAAAAAAAAAAAAAAAAAAAAAAAAAAAAAAAAAAAAAAA///+//7//v/+//7//v/+//7//v/+//7//v////7//v/+//7//v/+//7//v8AAAAAAAAAAAAAAAAAAAAAAQAAAAEAAgACAAIAAgACAAEAAQABAAAAAQAAAAAAAQABAAEAAQAAAAEAAgACAAIAAQABAAIAAgABAAEAAQAAAP///v8AAAAA//////7///////7/AAAAAAAAAAAAAAAAAAAAAAAA//////7////+//3//v/9//7//f////7/AAAAAAAAAAAAAAAAAAAAAAAAAAD//wAA//////7//v/+//3//f/9//3//f/9//7//f/9//7//f/9//7//f/8//z/+v/5//r//P/8//3//P/9//7//P/8//z//f/8//z//f/+/wAAAAAAAAAAAQABAAAAAQABAAIAAwACAAQABwAFAAQABAAEAAUABgAGAAYABgAIAAgACAAIAAcABwAFAAMAAwACAAIAAgABAAEAAQACAAEAAQAAAP7//f/9//3//f/+//7//v////3//v/+//3//P/9//////8AAAAAAAAAAAAAAAD//wAA/v8AAP///f/+//7//v8AAAEAAgACAAAAAQABAAIAAgADAAMAAwADAAMAAwABAAAA///9//7//f/9//7//v/9//z//P/8//z//P/7//3//v////7//f/+//7//f/7//r/+//7//z/+//7//r/+v/7//z//P/9/////v///wAAAAABAAEAAgABAAIAAwABAAMABQAHAAcABwALAAwACwAKAAkABwAEAAMAAgADAAUABgAGAAcACgAKAAgABwAGAAMAAgADAAIAAgABAAEAAAAAAAAA///+//3//f/7//v/+v/4//b/9//2//X/9//6//z//f/8//3/+//6//r/+P/5//r/+//7//3///////7//P/7//v/+//7//3///8BAAYACAAKAA4ADgALAAkACAAGAAQABQAGAAgACwANAA4ADgALAAgABAD+//r/+f/6//3/AAADAAQABwAEAAAA/v/9//r/+P/6//r/+//8//z/+//4//X/8f/v/+//8P/w//L/9f/4//n/+f/9//3/+//9////AAAAAAMABwAGAAcACAAHAAUABAAEAAAAAAAAAAAAAAABAAMAAwAFAAYAAwAAAAMABQAGAAoADAAOAAoACQAGAAAAAAD///7//f8AAAEAAQACAAIAAAD5//n/+P/2//n//P8AAAAABgAKAAgADQAOAA0ADAAOAAwACAAGAAQAAAD5//n/+//5//3//f////3//P/+//v//v8AAAIAAgADAAAA/v/7//b/9f/z//f/9//2//n/+f/7//n/9//2//T/8v/w//P/9v/6//z/AAABAAMABwAFAAcABwAIAAkACAAKAAYAAgAAAP///f/7//7/AAACAAMABgAHAAcACgAHAAQAAwACAAAA/v///wAAAAAAAAIAAgABAAIAAgAAAP//AwAFAAIAAQAAAP7/AAABAAIAAQABAAEAAAD9//v//P/9//////8BAAIAAwABAPv/+v/4//f/9f/5//v//f/9//z//f/5//n/+//7//n/+f/+/wAAAAAAAAAAAAAAAP///v///wIABwAJAA4AEAAQABAADgALAAoACQAJAAsACAAKAAsACgAIAAUABAAAAP//AAABAAQABwAJAAsADwATABMAEQATABIADQAHAAMAAAD7//f/9v/y/+//8f/0//P/8f/w//H/7//t/+7/6//t/+//7v/w//L/9v/z//b/+//7//z//P/+//f/9P/x/+7/7f/r//D/7v/2//7/AQAGAAYACgACAAMABAABAAQABQAJAAUABgAFAAIAAwABAAMAAAADAAcACQAMAAgACQAEAAYABAAFAAoADQAUABUAFwAYABYAGwAZABoAFgAWABMACwAHAAAAAAD+/wAAAAD9/wAA//////r/+//8//v////9//3/+f/8//v/9//4//j/+P/2//j/+v/3//j/9f/1/+//7v/u/+r/7f/u//L/7//z//X/9v/7////AQD9//7/+//4//f/9//8//3/AwAEAAMAAwD+/////P8CAAQABAAHAAgADAAKAAwACAAGAAcABwAIAAYACwAHAAwADwAPABIADAALAAYAAgABAP7//v/6//v/+P/1//b/+v/6//n/+//3//X/8P/x//H/7v/y//T/9P/x//H/8f/u//P/8f/w//f//f/5//T/+P/6//r/AAAFAAUACQAPABYAFwATABYAEwAXABgAFQAXABoAIgAkACQAKQAkACAAIgAcABUADgAJAAcAAQAAAP3//v8AAP7/AwADAP//AAD5//X/8//r/+j/6f/t/+z/8P/2/+//6P/p/+v/6f/o/+b/5v/j/+b/5//n/+z/8f/1//j/AAACAAAABgAHAAAA+//7////+v8AAAQAAgAEAAIABQAFAAUACAAMAA0AEAATABQAFgARAA8ADQANAAsAAwADAP//AQAAAAUACQAFAAYACwATAAoAAAAAAPj/9P/1//b/+f/6/wAACAAJAAsABwABAAMA///9//r/9v////v//P/+//n//v/9/wcABgAAAAMABwAGAP7/+v/0//X/+P/+/////v8GAAcACAD///T/8v/y//3/AAAAAAAA/f/3//T/9f/w//P//P8AAP7/+//8//7////7//r///8FAAUAAQADAAMAAwD///v//f/4/wUAEgAOAA0ABwAIAA8AAgAJAAsACgAZAAsABAAEAAMABwAFABAAEQARACEAIAAPAAwACwAFAAEA+f/3//b//f8BAPP/9P/3//X/+P/4/wAAAAAGAAoABwABAPf/8f/w/+z/6P/x//P/9f/6//P/8P/q/+r/8P/t//j/+P/x//P/7f/q/+3/6P/m/+T/4v/t/+7/7v/z//P/AAD+//3/AgD7/wEACQACAAwADQALAA0ACgAYABsAGgAhABsAHAAaABYAGAAXABYAGgAYABoAGAATABcAEgAVABMACgAEAAAAAQAFAAIABAAGAPn////4//b/+f/s//X/6//n/+j/4f/p/+P/4//m/+b/8f/y//n/AwAJABIAGwAXAAwABwD+/wcAAAD8/wIA9v8AAAEABQANABAAGwAfACUAIwAdABMAEwAOAAIABQD8/wIA/P/6/wYAAQAOAAsADQARAAQABgAGAPz/9v/z/+v/7v/k/+X/6P/o/+z/8P/y/+r/6v/l//D/9////wAA8v/m/9b/zv++/8j/3f/j/+z/9//w/+3/6f/h//X/+P8AAAgAAwAAAO//5v/m/+f/7//7/wEACAAJAAkAFQAVABYAHAAhADIALgAiACQAHwAiACYAGAAmABsAEgAmAB8ALwAuAC4AOgAuACsAKQAbABwAHAANABQACQALAAgAAwAJAAAACwAJAAsACQADAAQAAAD1/+j/4P/S/+H/4f/h/+H/3P/h/9f/4//r//T/6v/r//v/7P/o/+n/9P/q/+3/7f/2//b/4v/z/97/4v/v/+3/9//1/+3//v8EAAUA///n/wsABQAMAA8ABQAZAPf/8v////v/8v/8/wYAEwAIAAAAHwAAAPX/+//1/+7/5v/V/97/9v/q//7/+f8FAPj/9P8eAB4ABgDw//z//v/7//r/CQAEAAAAAwAWACYAGAABAPT//P/y/woA/v8BAP7/7v8UAAoACAD6/+7/DgAdAC4ASAAnACQAKAAVAC8ACQAKAAkABAAoACIAMAApAA8AGgAfAAgADwDj/+H/0v/C/9r/wP/V/8X/5P/x//3////6/wIA8f/1/9T/5f/X/9D/1//Z/+z/6/8AAP7/AgD5/w4ADgARADMAOAA6AA0AAgDo/9z/3f/T/+7/AwD9/+b/3f/z/wgA6/8GABkAFgDi/5z/yf/S/+//7//f/wIA8f/t/+T/9P/w/+T/AwApADUAAADn/9j/AQASAAAA9f/q/9v/1/8KABIAMgArAFcAeQBtAF4A6/8YAEYALQAIACcAhwBHAPn/HQBCACkADwArAJUAfAA+AB4AQgBCAL3/8/9IADsA/v8PACwA2/+U/5f/8P/8/wAA9f8lACUA2//k/83/9//o/wAALwAbAOr/zv8fADMA5f+P//v/UwAKAKn/zP9QACoA8/8AABgANgDr////NwDl/2v/WP9FAK0AFgCc/9j/HQDu/9z/vf/j/wQA2f/p/9r/zP97/9T/bACN/yj/6P+vAKP/yP7H/24Auv/v/qT/awBOAFf/2P+5ANr/Hv+0//gAZgBd/zAA6gBTALr/BQDfAH4Alv9SABMBqQBUAJIAwgAVAMH/JQCSAKwAYwB0AKkAdQA3//z+AQDz/7v/KwAAAe4AHwCo/5r/yf+Z/4T/+/8xAAoADwDv/0b/2/40/3P/Uv8nAFkACQBUAMn/2P6//or/DACE/+H/JQDR/4IAyf9o/wAA/P+2/1AAhgGNANn/0AATAWD/nv8JAdIAcAAoACkBAgHy/04AAQASABYAMwDtAP3/Nv+h/5QADAAk/wr/tP9/ADD/cf+7/5P/NP9v/4oAOv/s/kj/lP9o/wb/c//6/6b/9/6n/7H/NgCV/+n+iQAiABQA9wArACUAuv8zAPsAUf8hACMBmgBkAM0ANQH+/7b/0QCiACcAUQFiAYAASQCNAMoAKQC9/3AAkAA8AC4A//+pAM3/aP8UAIr/Iv9h/xYAKAAW/23/agDj/rf+xf8TAO3/3f+zAIYAuf9S/+D/xv97/5n/UgAWAFb/+/9RAPz/8/6Q/y8AJwBPALIAawAl/7r/9f/u/3z/h/89AC8AWABIAGsAJgCq/+T/egBiAOH/DgBVAPf/2v9VACEAuP+j/2oAxgAuANT/LgCAAFQA3AD4ANYA5P+y/6UAE/9b/64ANwDQ/5f/HgCl/+X+hP80ABkA6//X/yIAEACe//D/gv+S/1z/k/+4AIkAUgC7//v/hwBn/8n+RwCVAAr/hP+OABsAl/62/gAARv+t/sj/lwCf/6P/BQGqAAYApQC8/57+EQDtALcAbgBIAFQAVP98/9cASACV//7/kwBCAc4AdAB8AK3/yv41/8sAnQDT/3QAHAEFARMAgf+w/5T/y//IAJcBMAFsAD0Apf9U/6P//f/h/7D/OwDCANMAUQCt/2L/ef+A/6r/YQBDAKj/BAApACP/8P76/+r/Vv8CAAoBfwAE/zz/UgCN/+v+z/+N//r+2/+eAJj/Mf8lAGsADwBj/3EA8QCc/00AbQEEAdb/4/+uALv/Wf+9AMkAvP+p/4gAlQBC/xz/d/9//yIA+/8XABcBNgBA//T/zf9O/5D/gADkAPL/GQD2ADQAd/9QAEwAXP/B/+8AgQBV/+//GgAJ/wD/KgDj/yP/QgCuAMD/w/+zACkAhP+nAA8B0v9h/30AIAD3/sT/jwC9/23/TwAoAD//4/9lALH/HADNAF4Afv/i/zsADf9L/6oAPQAy/xYAJgEJAO3+BwBtAAH/V//wAMYAYv8vABUBjf99/8oAVACJ/5UA9gCi/6n/zgC5AAsAnQBJAUAAav8UAIkA0v9s/ykA+P+N/+z/2P/i/7H/R/9j/woAoQAcALD/x/+E/z3/L/9h/77/8f8MADsAMwAZAPj/9P9zAEkA0P/b//H/AAC7/+X/UAD8/7r/1//S/7X/u/+r/5X/z/9MAK8AUgAWACEA8f8YACAAPQBOADYAlwDmAJwARgBUAAQA2/8PAFgAegAyAG8ARwDh//v/qf+C/5v/vf8UAFUAPQAiADEA1v+Z/7z/9P8mAGIAawABANT/tv9x/z3/WP/s/wAAjf+Z/+//lf+I/x8A0/9K/2z/gf90////lgCDADsAFgC6/yb/c////xYAMgBQAHEAOADY/7f/Y/9c/wkAWQBUAKkAjQALAOn/9f8JAEUAwwCvAJMA6wDWAOwAIQFjAcQBEwJ/AocCQgIWAuwB6gEoAn4CkwKqArACZQLdAUMBCQEoAU4BGwErAf4ARADT/y7/ov4U/pj9y/2t/SX98PzO/ID8//t9+1n7bvtg+0r7X/u8++L7BPwX/BL8TPwq/Fn80fwT/WL9s/0m/oL+cv55/tr+JP9E/0T/U/9x/5H/ov/G/2YAwgDUAGkB0AHTAYcBSgF1AVgBTQETArMCugIoA6UDYQN7AjMCYgJ4AlADjAT+BOYE2QQrBAcDwQI3A88D1QQRBlAHtQdDB7wGAgaKBSAGjAfNCLQJEgrDCbcI2gcdB7MGVAcQCJgIiAhXBy8FSwKz/8r9Jfxj+4X6/fjz9kn0gfGM7hHs2+qB6hLqF+rz6XjoeeZH5THlHOai6N/rgu6w8MTyqPQ39k/4JfsT/nABOAV6CMUK1As6DOYMfA2KDgEQBBEcEQMQuA4XDT0LkQm6B0sG6wTnApoATP4L/NP5BPhF9+n2Q/bx9Yj13/S29J/02vSC9aL2jfhj+gr8Av6v/7wAOAJDBJAGYAjSCZILiwx5DRAPNRAiEH0PpA6fDc4MpQyWDKgLVwsuC+sJUgidBjwFegQtBJ4EuQXCB94JGwr9CfMJ3AicCE0KFg3HD3kRrBK8Eu8Qpg51DEALJwt4CmIJJAhrBf4Akvuv9njyWe6T693pQuhb5lHjXt/W2zHZr9dZ2FTbnN6R4EjiPuSF5enmY+mm7DHxDfZW+pP+OQK1BBwGewemCdgLQg4jEVwThBQaFPYSKxJJEVUQoA8+D8sOdw3RCrIHpARJAUv+jPxd+7j5sPed9S3zrfBu7rTso+zP7eHuF/C18VzyEvKQ8i30xfZl+pr+hAI9BRsHlgjbCVQLLQ3jD6gSuhSXFgMXkRUIFIESRREKEWIRtREVEVoPVwz/CMEGYgUKBVwGQwjjCeoKVgoLCVgH4QV3BvQI7wuUDpcQvBAqD1ANKwu/CHgHdQccB0sGewRKAH/6OvTY7qnrkeng53PmSeTm4J7cB9lj1rLUFNXm1tXZK93/3vDfIuEM4sXjzudv7SjzIfg9/I7/3QG6A90FBgl/DbQRrhXzGDsaOBqKGfcYLxnZGTgaEhqxGa4YXhaqE/EQAA7MCuAH7AXUA/EAs/3D+vP3WvUc8zLx7u+p7lPtuey+7Lfswexj7aTu+O+h8XrzNvVq9575vvuB/vAAeAIHBNcF+we3CZkKAwsGC/gKywrKCi4L6goyCrMJ4QgjCNoG/wQbBAwE0gQyBo4H1AixCXEKEQsfC2YLFAykDegQBhTBFWIWhBUjFNQSWxHoEO0QcRDJD4MOMQwNCHACE/1P+PL09/LF8Bzuvuqd5lDif94M3Mzac9qt29bdbt9H4I3gGuGw4j3ljunJ7gfzmfai+V/8Qf/dAZ8ErwdHCzUPWxKFFN4UiBOTEpgSXxNiFH0UihMBEqcPAg3hCn0INgaiBFgDMQI2ABL9Wvk+9sv0cfRp9IP0QPRW827yBPKn8ZXxxfLe9EX3lvnj+gr77/pX+6/8F/8XAtMEvgYTCAQJ/AnpCu4K3Qq5CykNag6UDn0NswvtCRAJGgkICVgIDQerBcIEMwQfBBYEwQOwA8YEjweJCeAIWAflBW8FBQeFCeILEQ30DNoMVAw6C1IJmwZ9BcEFtQV2BYcDxf6m+AbzE/D/7hTtXeu36SvnmOTB4bnfG96O3MPdFuF/5Djne+j26HXpper17d3yPfdT+nL8qv6wAYgEBAdsCaMLJg5TEMsRCRLnEE4QeRBQEcQSeRPREgwR4Q6fDLwKXQkRCA0HbQYhBjQFwAJP/7P7+vhO9xf25fQi8xbxQe+p7XLsY+st6uzocOjf6BHqMuwR7n/vEvE/84j2nvkC/CP+YgAwA0sGrwmYDL4OuRCVEoAUThbNF7kY1RgqGCAXoxaYFoEW0xVcFJgSexBjDrsM5AuiCxMLbgodCrUKmgs1CzsKkgkRCbcJgQslDR8Oew0cDJkLGAuECksKAAo7CY4HoQVMBB4Cjf4h+/73UfWg8q7vY+2K6hzn8uPQ4C3e/Nuf2n/aNdp92UDZANnB2M/YmdkO3LPe2uDx4j7kO+Y86eHrBu/28f/ztPaO+V38lv+HAlMFlAfBCYIMMw7tDhMQahFCE7IVmRd/GPgXCBfkFtoWuBZ0FkIWlhWVE1MREg8GDN0IiwYABSEEHwOBAQT/Yvs/+Ef2rPVg9vD2FffT9jv2vPV69dX1+Pa5+F37b/6jAMYB8AH4ARkD4wQ1B+EJNgtrC3sLJgu6ChoKnAmnCa8Jxwl7CbsH8gRsAskAqwCBAYcBugCN/9z9u/s1+rP6Iv2jAAwExwWKBSIEWQOMBKwGqwnpDagRCRTuFNUTZhElD2YOsg+2EfMSjRLID44L5AadAvb/1v7w/gv/0PyJ+Crzb+1E6ajmi+XH5XLlb+P13zvcHtle1xLYwNpi3TffIOD339Pfzd/64EzkEehO7CPxGPV09zT4kPhD+kX9IQFBBUwI7wk2CvkJgQrhC4INNg4EDrwNTw1rDMoKrQgOB0kGtAUSBdkDXQFm/gn8p/rr+TD6c/ua+1D6G/k7+TT7HP1n/twA9gM2BnkHpAd0B5gIIwu7DX0PEBGhEgITZRIpEmgSyRKvE/AUZxWcFI4TWRL7Dw4Nvgt9DAsN8wsyCqMIAQcVBS8DDgKmAUkBhQBw/y7+d/wS+xz79Pv4/Fb+VP8k/yD+Rv2u/Rr/SgDUANMA/gBBAQMBvwCMAIAAwgD1ADsBqgH5AGP+Avt0+GX3EPee9qP14POm8VTvIu01627paeiW6FXpyOmf6TnpJemP6TTql+u/7TTwhvIM9M/0EPWP9SD39/hV+oP8Dv/h/+f+UP5d/98AKANxBoQILwjHBhgGWwWbA64CVQTQBjUH7wVMBGgCBQBZ/or+If/9/+UA3gAt/2r8zPoj+4n8RP2K/hEBDwL7/+D9n/6a/zn/SgDGA3MG8wYgB4kHTQexB74JOwtcCzUMBg6aDuMMNwqdCmcOGRH/ECIQDhAWDzsNCQwMDFsNMQ+qD2AO8wyHC14LLwvKCIAHNwpbDQMMEwiEBPYB0QGKA7UCR/8N/Yr8dv1L/dT6y/cv9i72z/XU9UX1Y/J879nuBvE+9B70bfDc7S3ufe9A8ZTykfH37xnwM/Kj9Gz1PPSv8gLzufS+9v74Sfpo+Z73SfZi9hT4aPlt+R/4uPav9r73bPgT96b1iPXf9V/3sPjt+Dr4kPfX9yL44vk9/GD9vv39/Wj+f/8XAWgBWQEeAjED0gN1BfsH1wc6BfQD+gXFCIkJpQfMBkIJ3wrACUUI4QgMCsEI3gYECZwMEQ0CDLEKQgvCDBUNhQ4sDjYLtQuVD2ASrBLLEFsPmQ/DDaoNqxSzGLAURRB4D0USAhUGFRATGhDqDhIRbhNkEtYP6wvkB7UIdAs1DIwLXAm9A3j/9wAvArUBc/+i++L5nfl6+T33TPPC8WPyj/Ha8ZDzt/BS7dTsZezJ7P3s4uz/7HfsReyh60Hrk+sN6xfsMe928Cnv2O3u7hrx1vC+8ff0e/Wt9LT11fYo9in1HPc5/Or8zPkJ+3v9kf5h/x79dfq1/G3/YACVAaP/Ev0U/ZP9rv7K/jn/CAIRAfv8+/yyAOQCfAEX/5b+tgC4Ah0F8AXFAmUB8wE+Aw4FQQa0BeID9QTQBUEHrAiVBVwFUAiUCRUKDApBCYgK5g42DugJHgyBE3EXdBSfEVMUShkmGXwUZRVIGLIYFBt8HL4XtxEtFtIYABQhE9kRYxKZE5UQ4Ad2BQUJVgRYA5YCywKuAwz/3vrd+OP7Pfkg9iz3y/nj+uz1HPS59Qb4d/QZ9Yv4zfd8+Rf3+fim9m3wv/bq/Mb7Rfm9+Yr7pvrD9LjzK/ov/ZP6z/M99Gn7fvqj9M/xjvNg9qL0rvMv9rH1MfEb7ZjvZPJg8EHxS/Oe8DbtBO1P7tXx1u/G647vR/EB8bfwMfEU9L/zs+6h7YD1z/dK9DHy2vGN9OT1nPfx+aj67feC9WH7KQJdAPT76vzgAGADcQVCCYcI/gdDDt4PtQ8LE3UWnhi1FqwWzhqYHQkhZiNeIUIfiR7OIgMlmyTUJ40iSx7cICwiuSGFHEoZbRhtFocWexhmFKsMQAmFBoAGRAhZBn//I/mf+rf7N/dZ97L39u+P7R3zRfXa8d3ru+rP7hrvKu667kjvyu/d7ILu8vRz9TnxOe7X8bP3WPgY9xj3YvcT+Jn3Fvfz+dT8e/ve+sf6Ffhi+Qn8OP0N+Sf01Pt8/pb3OPSY9rn6rvbw9tH5RvLY7tTxo/T79lDzleyM68vwAPYq8lTvMvBA68jr5vB19tb1hOtW65Py4PPE9TH3YvZL+Hb1S/hp/kP+ov9T+gn80ATKBYsDLgT4CcsLhQh7B9QSNRuhFDcOVQsqEXMbHB5bHOIWnxRtG1MbHBuCHd0WaBY3HIcgbh2JFHsW/RZuD2UU4RukF+IQvwoSDeoRugyMCbkJxAdKCnALuwcjBP8ArAO4BukDMv87/zwEXgMr/gn8Iv3c/UL/zwFz/8f50/rCAUwASPkZ+P35sPx4/0v9l/e285v1Zfxw+z32zfUy85D0/PpV+fvwHfD79Z32h/O18O3yBfT578Dwi/MN803uGu7E8Hfxr/Mm777tR/LE8aXuy+zO8PP07/Do663wqfPO7ZTt/fGd82PxTe888Tz1k/aF8H3wz/et9hn1mvt7/yT55/Ss+QUBtgX1ApoBWQTfBI4G4gveD5MKjAc+D58T4RJWEWsUAhr6FvUV3BgNFLQStBuJH7UavBFvD60aNhnYEaQVMRL8DFMNjxIgGGMPAggYB58CbgjVC/4HygqGBfv/sQPcAqADMgFo/M8H0gQE+wcFQQMoAHf+wvjTAocHiwGCAmoAQP5BBGr/S/xeAukBawFiAKABJP7P93n8lv3L/JL8u/jN/En9zPVy91L4ZfRt9rT0wvXX+6vzwO3+8b3xGfDW8V/2+/Ka6pLqhfNa9onsvupa76LvaPFK8tXtcetl7HPsD+x97b71PPXl7eXtrOsJ7734Pvjj89jvFO5w+Y79Afry+LryO/hwAJT/u//0/2v/CQEqA8wG+wb+/7METAsrClcHtgRbDCUPzQohCxoIZwYsDoERsg2UB5AHDxLqELQL9wp+B/QM0hJIDXENMg8ECMgKvA40DfgMZQyeDfUJRgrxEDIPhAloCJ8IJxDiFZINRwgoCAwK6w6VEFEOkAglAikHgRIKErkIvQBvA8kJNAvDDUgOfQUa/MQBFgrrBKoCfwpdBcz6pvrn/HEEmwX7+IL0AvlD+e//4wFW9eHv/u208QH8HvmY8AHxNu8d627twu538rPxh+h263XyjO0y6FTp3e1A76Pq5uoZ8rjzf+r154PzKfjf7/bsCPEH9Bn4n/Vh9NL3QfMY9Ff/sgHy+Qv4xP2pA0ABw/w/AkcHcgPA/z0AuwMBC+MGvv0jBGEJ3AUMBoEFmgX8CGsENwQrDAwKKwLfAnAHsQbtBscJ3gdEAj4FughSCZgKlgTaA5QLEw85BbwE+hCIClkEtgprC/ALrw4aCSQKdAzCB5EQiQ+eBx8Orw0YD0gR3gYiCDMO+QwKDq8KaAyWDdMFSwkGDHsG1AqrBsgAUg0gCpoAdAHN/y8BQf/V/kICFP9v+Zf5e/3h+F3zRP00/NzqG/YPAIvwp/OS9Qjpv+7b+tL5k++P6XjwOPPh8LHwG+z274f1l/K88oTuYO3R9iP3Z/W68xrsNPQk/rr2l/Ol9oX1B/gj/Pj3vPL6+Dn+SvdQ+Qn99PgmAEoAIvRE9xECqgAF/YP7q/gi/4MEHf04+V7/4wA4A3UGxPyS/Q0JIQVx/8cBAQO3CB0PGQne/Yf9PQgMDzsNdgYzBJgJ8wxVDekLGAwYD/4J0AaMFBwTPgWyDP4PPgvOD0EQHQ/LD/MKZg2AE5QLKAcAEssWagtdB9MNVwt2CRcMlApECbUIGQi7CmoIRAJXA7IFcgkaCrP/S/q9AE8CVfvb/lAEbPyL+jL9VPuq/Yn7jvXU9kT3ifl6/oz4fvMR80Px9/oXACby/Org86790/uE8F3r8PJF/h/6TPC88A/z4PpT+wrxefCu9dn5gvpQ8g3xnvsW+mL6BPd66436swHz9WD1MPTW9YL9NfpB9BD1GvYz/zv/FvGV830ASAQ0/kv6Bv0BAR0C2/za+9L9afwCASIDyP/5BGgF/QA3CEIG//+PCIMJOgeFBwEDuwUzCCIIIguqCdsJ4w69B6QE0RF4D1sHHwmOCrMJXggHDjERbgmTB9YQTg5sBtIKSQ6RDzMKyQOQDPgMVAMZCK0LBQgcCXEItAoVD3AHmADKBHIHbQYMBJwGJQei/Gr9agTWBBUFYf9j/WADbQE7/hv/3vuV/cH8dfTO+D8A6wA9+jvtVPavAQr2E/cb+zHzDvVO9QX0+PnQ8n/wBvvE8xbwMfIb8d77rfmS76vxgPLE9ED0zuo49Fb8Me/p8uz2lPOm+Nbxq+sh9NT5Qfnr+Gf1UfKC9Xj56/k9/E7/wvk/+eb9IfmL/EkDCf88AYj/bPoJAxAG/gZFB67+RAd8DZAADwcCD1gGUgXqA+MLSxmJDaQGhQ35CAoLTRB/DXgPdg1nBgAGggu/EZsSqQwGDfsNmAlVErYVUw2QBgIEQAxnDqMJ2wd1CBAKAgcGBvILJxB7CwIG9wRUBvkHOAoQDT8FJfxT/jkArgTXCB0EhwH6/3L97/9MAxgDxv3W9Mr0HP+BA0X/Jfn8+bf57PVN+aX6U/2S+njw0vHb9DbzBfTq97T5ufJ06tLyqf3m9tnudO5P7U3s5/K4+Jr1Je8T7HvvZvRY+KD0EO+98QjwvvBL+oX6vvSb8FjwdvdBANsEzv0y9L/wsfdLB7EFwf0o/7b8hv0YAt8DkgmuC+0GMAS4AvEHfA82CmP+4/2qBdAL7xPOEacHLgNWAt8QHxqQCzgKUBAlCo0GyQNSCtQRfQh9BJMKLg9ZER4QQg2tCBkBnADwC1UVIhHaAkr+SgSACvQPiA1lBu7/pP3CA0ILlAnlAIr7uP/4B5wGBAbvCsYGevvS988B3QggAiv5Aflu+QT8RwLP/7P8DfrR+BIAMwFP+qP7Av0d9y7xmu2o9owAlPuv8p3tSfHa+SP7Hfj49KDvnO5L8hX29fV081nzs/MW9JLzFfgy/rj5cfCP7zL2Kfqt+Kv0W/XK9sr36/rh+qX87f5WAJYBeP3b+P36iv/C/2H+Bv07/6QCBwMMBHAC8f41/cEC4wnOBkQCrgIGAmD/oQLMB/sK4QldAsUBzwYOCBoHMQXzANf/dQGcBBUKgQlCBiMDSQV/CEEGvgV6Bf0F9wR7BJkFVAb4BooE9ARECh0MDQirBucHFgZ3A68EMgc6BgwDggG+BbULsg3eCsEF1AO0BE4ERQe1CHwCPADoAgQFzwanB2MEUgPlAjgAhAPQA1kC5/+h+tL4ovpnAOMAO/wb+i34FPco/U4A7frc9rjyC/LL9kf7C/q+9b3zx/Fz85f4tPoT95j1jPZ287HzVPXH9uP30fKI8gT2x/U/+EP7Nv22/Nr3OPWM+XX+0vyz+Zf4cvd99QX4Sf/GAbv/b/xU+q38EQEBBOcD6f0T+Dv84wFnBSkGAgIzAh4DzwIhBKMD6wIAAj4A6AAGBU0ItwqzCIMDBQWCCD0KtwqYB1MEFASqBngKZAo9CGEI9gaBBigIEQl9C5YMUAihAhwBuwXwDDkOyAg9A0sECgvcDTEKNwU9A3sFrQeHBccCCgNhBYMF3gEuAJ8DeQesBmEE9wCM/64CSQNsADD8w/r8/bgAhf5A+nn5LvwX/oD7afmo+Xf7Ufw6+Mz0+fPw9ff45Pe79UX20vZj9tD2V/ar9TP2U/XY82Dzv/Op9pL4cfZD9en1GfdL+RD5h/hC+/36eflM+Y/5Of1D/qT84/v1+xP9LP3Q/aH+z/8BAbMAFgDDAIkC1APSBJ0Cof+AANUB/gN/BhsF9QMWBnQH2Qg0CWMHNQjzCCUINwiiCDkJBgioBskHywm8CkwLpQuSChIJKAflBpUISgjYBjUFBgSlBKIE6wOwA44COgGmANEAcAENAGP8i/nF+Xn8Zf0M/Cn7Zvlk+DD58Pip+Bv5X/nc+Dj3Pfan9wf6H/ux+lr5MPo1/Sv+7/yS+rT5Tfxm/20Ayv+m/5n/RP8w/wv/VgGlBIkEcAINAb3/uv/mARMDlgIJAy0ELwSkA9MCnQFsANAALgNQBHwELAUkBHsCVwKmAsACWgMcBVwGwwaqBpoEUQLLAT4CIgT9Bj0IDAhLBiMDjgGFAUoCOQJuAPP+jv6i/tX8PvpM+VH4tPaP9ov3u/dl9mfzgvA373Lv5/C58iP06fNN8jDxCfHz8fPyOfS79uv4wvli+mj7gvv/+sH60vuy/48DKgWRBZgElQN9A4gDqQSDBnsHQgefBlgGKQU6BJ8EdwVhBQQEfwTQBcsFygRBAyIC+gHhAmUExAadCGMIYAeuBsEGtAchCb4KtwtgC3IKhQlVCbkKiwuoC90LEAu8CgYL3QkWCL8GawWUBOwE4AT0A5MDtwLfABX/CP72/Rz/YwCM/6/9Vvw2++36D/s0+xH8q/wy/AX7TfrL+pn7LPzG++76Nfub+2v7XPq9+K72IvXX9cz2M/cR99f1+/Qt9FrzgPPn88f0q/Ty8gHz7fRX9jH2ivS982b19vfB+bL6xPr8+fH5ZvtI/fD++v5R/oL/tQAGAJ7/FQGVAUYAqv8IAAkBRALoAq4CCQIgApAC5gIIBN8DNAKwAZACegP1A2QE8QQLBnMGKwaYBswHXwk2CfwHEgiICJQJOQpsCTAJYwmLCtkL4AtGC/AJfAlUCY0IOgi7BzoHlAamBSAFRwVsBdAE4ANDA5IDhQQlBecEOQSSBLIF1gXEBLcDlwNKBOQErASLBOIEjQUmBhYGfgWxBG8FfQbIBV8EDwLl/+r+lf27+0j64vgE98/1BPWY8/Lxuu/97CnriOqg6bjou+h26O/nG+hu6M7oqulA6qzqG+xn7cztge6m7xzxdvKz8xr1GvZh9kf2Nvff+H36yvup/NL9u/5p/6EAzgEhAhYC0QF/AUsCrgNTBMIEiQUdBkAH+ggrCosLGw2IDX8NDQ5cDrsNoA3EDuoP8BCiEWERLhGtEUMRdxBpEOMPYg8ZD2UOtg1mDeUMaAw6DP4KIwlcCJwIswhvCEoIUAgwCRsKKAqWCuQKTgqrCTAJBQlYCQcKawp0CmMK+gnACbsJggk5CcYIFgjyBlkFpQOvAVj/sfxF+nT4MPcM9srz7fCG7kXsMurQ6JTnBOYR5YfkDeRD5LLkbOS042jje+Mo5Jnl3ubS51novOgh6gnstO02777wHfJz8/30M/YZ98n3dfh8+af6vvuN/If9u/7R/xkBTAL0Ak0D6AOZBLcE4wQfBQ4FTgWsBcYF5gX0BbMFggV7BY8FrwWzBbUFngXoBXoGngZ6BkMGNAayBssHuwgpCcYJuwrYCyINSQ7cDlkPyw/aDyYQyxAiERYR4RDHENcQNhHBEdIRGRJdEhcSHhISEsERTRHCEFMQCRDiD8IP2g9JEFYQnQ8nD0QP8g7GDSsMmQo9CWEHfARqAf7+Ff3i+ob4BPYZ80Xw1O2u60Dpm+Ye5Bji3uAJ4IHfft+339vfXeCD4fXiVeRK5dflfeZQ55PoVerL6wrtS+6V7+DwSvKi81r0GvUQ9ir3VfgE+cj56foL/DL9Rv4P/6H/AAA4AN0AnAENAn0CkQJ1ApICjgJSAgcCTQFeANT/NP/F/sD+j/5W/hD+l/15/dP9Y/4Q/5D/+/+HAFgBTgJMAzAE2QTNBaoGiAe/CMgJhgojC74LKQyyDH0NGg6oDiQP1Q97EOUQdhEKEv8SOhRBFUIWIBf7F1sYpBhVGR0aFxvKGxQcIhzmG4cbyhrfGa8YHBdMFVoTYRHrDuALtgiRBa8Cxv/n/Of5PfZI8ofuIOsb6I/lM+P74FrfO9583bXcHNzc24rbgNve22rcK93t3bPeeN+k4G7iXeR05ovoM+q+64TtHe+08Gny7/Or9SH3Kvhl+aH6/ftj/Y7+n/+SAIMBYQIFA3EDmQPAAx4EqgQkBYAFrAV4BS4F5gSmBIcEdQRnBDsELwRfBIoEwAQIBWUFsgXxBUQGUgYxBvkFGAaSBvsGhgfBB9oHEAgVCAgI0gdwBxoH7waeBl8GdAZiBlIGega9BjUH7AfJCL0Jkwo8C/UL0gyYDUoOCA/lDwcRWBK1ExwVKxb9FqoXGxhSGN8X1haSFSAUexKKEGsO/AtyCawG5gNxAZb+XfsK+IX0NPFC7pnrVOmK50Pmj+UJ5bvkjuQ65Fjkv+QW5eLl7uYX6HDp5Op17BXuy+918bzykPNK9NP0UfXW9fj1EPZK9sr2nPd0+GP5Yfo/+9b7V/zu/HX9DP6e/gD/d/8PALMAaAEpAv0CxgNfBMQE1gS5BEEEfQP1AiUCVwHZAOn/Ff+L/ur9cv0F/YD8BvxW+5v6PPrb+WX5Dvnm+Cr5rPl2+oX7Xfz2/F/9m/0J/sL+pf+dAIsBbQJ1A6MEFAbPB7wJyAvlDTMQhRLGFMAWchgpGp0b7BxcHt8fRyHMIjwkOyXiJbclqyQPI+AgYR7hG0YZXxYeE3UPrgvVB+wDUwDQ/Cv5d/Wz8Sbu7eoQ6JflsONI4l7hG+H14NTgj+BW4FfgVeCt4FrhK+I045rkCOZj55TolOm46qPrleyg7YPueu9V8B7xD/JW89L0aPYt+LH5BPsq/EP9b/5+/8MAAAJPA78ELAa4B/gIHgohC64L/gskDCEM5AtZC6YK4gkhCXIIkweOBpoFkwSUA5ACVgEmAAP/5/0l/Yb85/uh+1X7HPs8+zv7KPv3+s36sPq0+tP6/vp++/r7q/xa/c/9Uv6x/m7/ewCvAWEDHwXhBrIIbwpEDAYOxw+FER0TixQGFnIX6hiQGuQbXh2aHiEfOR/CHtkdfBzOGswYlhYiFIoREw+YDBkKcweQBHIBRP4w+zz4wfWI8zbxX+/r7aXs2OtE68bqWOr36YnpMuke6VLp2+mc6oPrduyJ7b7u3+/X8LvxY/L48ojzzvNi9Dj1B/YJ9zb4X/lF+i778Pt5/Pr8P/2Y/dr99f0a/jv+WP44/gb+3/2x/Vn9+vyS/Aj8ovsE+yf6efnh+Ev44veY93T3qPfr92X4+PhS+Z/5r/nR+UL6vPph+0P8Ov1A/m7/kwCvAcsCmwOBBFEFywVzBg4H0AfWCMkJyQrXCxINfw4mEMARVRMVFY0W4RcWGWAa7RtPHaQe8x8oISciDiPYI0wkfyQ6JG4jPiKjIMge5RzkGqMY+hUaE0UQJA39CboGDgOA/wD8nPiC9azyMPC37Szr3Ojf5jrlJORU46biWeIv4hLiAOIc4nPi/+Ke40fkRuU/5jjnVOgp6cnpW+qt6sTqAOtH65XrLOzK7FHtDO4J7xjwMPFc8nrzofTB9bL2w/cA+XL6BfyI/R//pQDaAfYC9gPEBJAFEAZNBmYGVgYkBvEF5AWuBU8F+QSDBOcDlQNGA/sCBwMRAzkDbwPZA4MEDQWeBQcGUQbUBl4H8wesCI0JYQrwCooL5gvxC+ILjAsnC9kKzAryCoALdwxMDSkOEw8KEAkR1hFkEq4SXRNBFCIVUhZPF1cYTBkNGt4aIRvwGmwaQxnIFwoWCRQGEsMPQw22CisIqgURA1YAT/0V+u329fM98cTum+yp6troRecm5m/l1uRY5NDjSOMn40HjquNg5OrkduXu5VTmqObD5gDnaOfg5ybob+gX6dDpjupZ6zHsB+3E7ZTupu8T8cryofSO9nf4S/o0/DT+awCdAqgEnQYfCFcJUQoIC2kLjgt7C/sKWwqJCbAI5Qf1Bu0F1wTIA8cC5gEuAZEA5v83/7X+Zv5u/tn+U/+t/xQAfQD0AHYB5gFpAgsD4gPZBLIFgwZEB9oHWwinCMYIDwlfCaIJBAqHCmcLsQxdDlUQcxKYFIIWaxhZGjIcER70H4QhjiJVI/EjrCRqJcclmSXWJNwjuCJrIREgYB4PHBwZqRXfEQ0OcwrLBskCov5l+l32BPMP8EXtheqo5+fkNeLy31ne+NyY2/fZO9jZ1vHVmtW11drV/9Vf1hfXKdiG2fjaX9y/3RjfUeBd4bviW+QQ5hXoBOo+7NvudfEj9Ir27fh7+8D98v8fAjUEWwZCCPoJrQsKDfQNaA5pDkEOAQ7IDZcNPg2iDJMLSArICBIHOAVtA8EBFgCW/kD9Nvxp+9L6fPpf+nf6zfp9+3T8cf1h/mb/bgCAAZ4C9gOSBUgHEgmwCh0Mmw0sD8UQSxKcE6oUyBUzF78YtBq8HJkeiSA0Iqoj5CQvJsknMCluKlgr+ivLLIst/S0jLrkttyw1K0kpKieNJGIhvB1/GeUUOxCPC80GKAKO/f34hPQU8PjrF+gW5CzgR9yD2HTV0tKw0BvPkM0rzN/K1cmEyZfJyckfyoDKBcvSyw3Nhs420GbSg9Ro1nbYX9qt3GnfKeJB5VboXut77qfxO/Xs+Fr8lP99AjIFqgfoCQgMCg7kD3YR/hIBFDUU/xNRE4kSvRGJEDIP5A2GDCkLowndBzcGngTsAiYBcf/+/bH83fty+yn72fqT+mL6IvpN+uH6ofuS/Fz9Pv57/+AAvgKoBJYG7AhOC5wNsg+uEcITFRaQGPwaex0oIPIiEyaYKQ8tTTDtMvo0kDa8N/w4UDqSO5c8Hz0HPYM8dTt6Ofw29zNDMPMrCCfMISccTxZ+EIoKpQTr/jD5W/M07cPmZuBZ2srU5M+Qy7jHWMSawZS/Er71vBe8mLtSu0W7eLv8uxG9pb7HwBTDj8XuxznKycxUzzvSTNVo2J7bld614Svln+gw7MzvUPPc9kP6U/0UAHoCigSvBrQIaQofDK0N4A6XD94PDBA9EDgQIRDHD/0OMw4wDeULfwoXCdwHcwauBAYDrwHYAJcAkwDkAFQBwQHoAeMBNAKOAl0DrgQgBp8HDQm/CuwMng+dEnEVGxiOGpUcdx56INsiUyWZJ8kpzyuVLQovSjCdMVwzMzW2Nso3RzgFOCA37DWINH8z0jInMlsxvy8GLVYp8iR2IEoclhgYFYgRxA3ICJECrPtu9KftuOfS4pbejdpt1gzSjM0pyQzFesGWvkC8eroEuRG4mbfPt+G4mbrCvOS+3cCCwpvEIcfCyZfMPM//0eHUxNeq2tbdROGh5OTnGusU7vLw8vMN91T6Yv0YAEICMwRzBtMIVguRDS4PkhAFErUTIRZrGJ0ZbRkhGFgWIBSjEfIOPwyaCZoHBgZaBJsCtgCT/wH/hv5u/mP+vf0O/Wf82PtD/Iz91f/5AlsGSgnmCxoOWhCXE3cXzhvCH9UiwCRjJe0lCCddKL4p/Cq+K2wsQi3uLgEyTjbxOoU+R0DPP409mDo5OAg3UjemOIU5CTmUNlIyHy3yJ9ojxSDKHd4ZFRQaDJsBr/VV6pDgJNm303/Pcstcxo3AxLpwtWOx+q7mrViuYa9jsPCxjLN5tTq4qbv6vzvFFsv/0NbWldwu4j7nVuvc7gLy4PQG+HP7AP9RAukEngZDB9EGmgVYBEYD4gIfA0cDZAPlAmgB7/4G/C754/bz9Tz2cPeq+Dj5uPgm92b10fP18pLzb/Xq91D6yvtB/DD8PfzI/FT+CQFYBAIIAAusDPkM2gvlCSgI7Ae6CXkNLRJnFh4Z8BnpGBUX/xVYFooYqBzGITsm5CghKSgnJyWSJZwq8DQAQ9tRKl3ZYT5fEld5TclG20QcSDBO01I1UyRNEkGYMXkilxbuDjoLiAiTAxv6teql1u7BiLAMpaeg2aEcpYynk6dApeShkp89oF2koawVuHjEuNC52pvhE+ZJ6crsF/Js+eYBvwqiET4VvBRKEGwJMwKZ/Jn54vnm+gv6RPYu79HlbNzd1P/QiNKE2KvgDOj366nrhOjv5JrjL+bX7Cf2FwC6CKkN7g6sDfAKAwndCCAKiQwAD1MQABCGDYAIewFG+jD0ofAS8RH0k/f++Wj5ZfUE7+Lns+IV4ozmu+5G+HMAZgXXB1IJ3gqVDe4RBRfQHCIiASVCJjImQyZFKkszk0DpUQhiCGudazFk9lckTJtEJ0JyRFFIZknZRJI5JSkjFyoIO/+8/Dv+Kf86+2LwMt8Gy2m5wa7orPqygbzrxCfK+cuUy3/L281m0zXdC+v6+tcJ4RNTF0EVphBqDIsKQgsmDcUOtw6MC7ME/PlM7A7eSdLXy/DKjs7z0/3WI9ar0ZLLzcbMxfLJPtRU4xrzzP/BBrwHowRnANb9yv84Bp0OOhbcGSoYuxHiCIYAQfuX+VT6MfzB/Zf9/Prd9anuv+di47ji0+Zm7h729vs9/6j/X/4x/Vr9bQC5BoMPqRiXHmMfPRvAFI0PKw7HENsVxxo3HGUY3BDjCAMFeQq7GeownUxIZE1vrmo9WZxCDzH0KfItOjodR+5MDUdbNa8cQAVp9TnwkPVI/9IExQCc8XLazcJ0sGyorq2dvBTPgd5l5pbm/eEI3drbH+Az6uH4Xwm5GFQj8yblIh0a9hDGCSkGwQSqA/IBsP1S9mrr5txDzjHD/L17wAvJ59Nm3v7kO+Zj5LbhdeCX49fsCfsXDHgbLCREJcgfnBU5C/sDIgEiBNoJ7Q1nDlYJ3/7o8ffl+t0O3NjfpOaO7fjxGfHH6kfiuNqt14TbCuU28Zv8lgTxBr0EkADj+535j/sdAWEJqREaFUwT0A1UBTT+Gvvt+l3+vQN9BhAGCQNg/1kA4glEHIU2E1SzaQdwemYsUMo34iZtIOkliTKUPdpAZzeBIlIJ4PJ+5Xjkn+3M+TsBcv+287Lhcc+Lwj/AG8rg217vk/6PBn4HmgOK/nz7b/2nBWsSxSCNLOIwpCzwIFcR8ALH94Lwt+xE64nqlujG4/facc/MxEG+E75yxCjP3dsx6N3xJPfn9271qvG78FT1qv64C3kYRiCrIWkbDA99AaD2cvGO88T5gwAdBToEd/3D8trm29232wHhI+za+Q4FrAkgBhj8UvBd6ALoK/CZ/Z4LKhZJGVIUCAq4/UHzFu697l70Jf3wBEAI5wUV/vnz2utr6LPqePCA9lj6EPuJ++v/6Aq2HXs2yFA4ZZlrlGEMS5Uw9BpED2gPMhhxI5kqYSdhGcoFufJP5yfng/DC/QIH7AdFAf/1Uul/3h3ZeNxf54X1cQILCjgMfgp5Br0DlARgCQcS/xuPJNkpVClUIogWswgy+8zvtOe042nkcefn6LLmFeAH1wHQ0c200Yjb3+cU83L7Yf8W/2b8E/jl9Fj2a/yUBcsP6haZF00RHgUQ94jrCuX05F/qsPLU+tj+i/wp9WDryuKA3+bjte5n/GkIyQ0KC58B2/QU6qDlaOkU9G8BBA3cEogRpwlu/bvx9urn6xv0sf8kCuEOkgtkAc3zAOnD5FHnNe9T98T81vxt9ujvd+7c9j4Mmiq4TCxp4HNgaSVNlikFDJT7evuUCJsaZSg1Kj8f/wtc9+DovOSU7Lb8HAx6FZIVcgzY/TztJuHa3oLmyvQMAwcMeA5OCt8C3vyp+6cBVgxRFyEgRSV/JRUgnhV8CM/7XvHE6X/lNeVN54noIueJ4nfcc9cN1RzXvN3x5iXw9vVi+Of51fri+1D9PQBmBjIODRUMGMYUcQv0/Ynwn+er5OTmHusX7yzyr/Jy8D7spueH5j/qDfJB/FEFAgsCC0oEvfnk7s3n1eYd7Jb3xwU1ErgZlRnSEugHQvxw9Ub17PpyAx8JhglEBOL5RO7N5JrgrOLx5+PtLfJl8hXum+bY4Czkh/SJEIMze1WNa1Ju0lwkPVEcoAS2+t3/CQ+0IDQtyS3/InYSFwLZ94r2Wv2PCTcVJhpbFvwKjfoq6uHeJtxj42zvWfnx/hMAlf5z/QP+sgKWDBUYDCEPJQ8k/h/2GawRpAgKAAz46vAY6mPkPuA93Y7bEtu923Pd5N5G3xjf9d5B30/g3uMz6y72ogK1DE8T6BWaFJoRgAwVBi8AnPmO9E3yTfEm8p7yevEM8dLw4PD88TvzgfaB/CEDyQixC/0KegfmAQf7TvVE8jLyCvYJ/c0EGAzPD0wNYAYp/VH1CfJh8l/1sfnN/Db+gf1x+a7zSe7L6nfriO/78wb3vvbv8pPtq+YA4BPfWOm8AxcsqlSqbW1uFlnzOOYYLACY9Oj34gc+HmQw3jUHLawZtwQz9+zzivn3AgELQhAcERMLc/6F7rngjtrk2wThSOeE7an0qf2wB/sRHRv9H44fjhs4FygWLBhCGhYaSRbPDtADxvX/5u3a89RJ1iDdz+Vq693q9uRo3JDUhM81znrS3N187+sC9xGyGNAWjw/uB/kC2QGOA18F1QVgBC0BmPz89t7xUu8P8MHyAfWR9fP0NfTE9Jz25vjK+iL7yvmx90v2ufbw+EH8+ACvBvkLSQ9WDxcMFwcJAlr+FP0o/fL8+vsJ+gb4/vVK8gTt9Oco5Z3mS+uL8I30APXR8bvseecW5qXt8QHhI4ZLKGkccvljg0VsI10HjPcT+DQHrx0RMjk7IzYSJVwOVvrJ77zwZfkJBE4M1w9tDcwDmfTd5KXZCNZX2V/h5+w/+fID3gsEEHIS2BOCEmwPkwtgCdgK2A3TD1wO2we+/Y7xkeXD3FXYD9nL3dTjueiC6SnlFd261GvQVtF015viGfHZAC0OgRUwFvoQwAiWAWP+i/8iA34GvQd+BlkDEP8t+0X5xPli/I//kAFVAuoBigDO/un8bvuR+q/53/gi+CT40vm6/KkArQUxC2IQJRMuEmwOxwi/AlL9xfih9Vnz6/HJ8J7uzetu6PnkROIC4D/f0uB/5E7pzexT7ljv7vPTAOwYrzpJW8NtvmzFWRk+zSISDbMDfQmiGisvKzvtOH4qIRW7AXD1qPEE9aH50fxS/ib9bvnY8dTmztyh19bY3d6a5jzvS/ixAbMKrREOFloW1xI2DqML7AxUEAkT5xISD5UIef+v8zvnTtza1ULV19h63bbfT95G2gPWL9Q51WPZP+F/7DT6WgeoEBQUYxGvCwkGkAIDA90F/wjACosJ5AWqAIb7Z/gm+IX6Wf1h/o/82PhL9s32KPpo/hcBIAJjAU3/i/1N/M78AQDpBGoLSBKVF9YZfhfhEZALjQVbAPX7rfh+9p/0CvLm7Qfp3uMs3//bOdpG25HfYOU67Dry9/f0AdIStiyaSwxle3HEbP9ZL0HSJ+gUQQ59FOcjxjFsNNMpvxXXAHLyHu1j71PzPfQn8anrQ+aR4LzZENPizh7Qi9aU3gjmO+y68lj7VwWcD5UYLh5nIMwgjSAMIIQeVBsJFw0SIAzbBGv7QfAt5R/bhdPqzozMMswMzSPPTtNK2fvfQ+WX6IrsQvSG/7AKdBKDFa8VixXzFMAS7A1JBxwCFQCnAHICNwSpBVYGIgXnASr9gfcu85LyRPYT/e0DIwiECOgE+P4++Yf1//T4937+/AfyEQgZ3BoyF4EPZAaJ/WH2JfMo84v06fTh8b7rluMc27LUhNHB0hfYRN965/zv3PqYC+IhFTzmVNBkaWnrYgdVLkZROf8xMzKZNiM7uDmILrYbhQVM833qa+r87sPxt+7e5mXc4NFMyenDVMT/yQjTtN2i5n7svO7e7jrxC/hDA/YQRh7GKRkynDaINrkwPiYQGbcMHATY/sP7D/j58DvmSNh/ydi867SItJW7a8dD1fPhYesI8WrzFfXi+CkAagpHFfoeVSYfKq8p3yPbGS0PjgZyAkcDbwfnDBEQ0w3vBY/6Hu+45i3j2uQj6wb0JPw4AN3+Kvnh8RbsR+ph7TD10QAODuEZmSAWINcYEQ0NAd34afbR+Gn8pP2d+tjyaefj2kjQBMtrzNDRF9nm4K3qdPl2DEEjvzr/TOlWklbdTytJ90MkQpFE3UoqUzZWsE5DPGUjkQyr/Kv1v/VG9kfyuOa41XLFdLier4OrSKwWsx2+y8n104raht4/4kfoqPNLA84TxyIJL7I5lkKyRixEDzuXLq0jRByIF5ASagrs/ubwUOFa0ZLB9bOLq8SqFrO5wTPQT9kB24nYdNil3iPsTf7UEGEh2i2tNLc0ES40JNwbyxiIG18h4ybAKLAlGR7JErgE7PQm5uzbu9jk3OXkj+vJ7ADnz9y10vTMN8401ifjNPM1BPsSMhyNHWEXTw0vBMb/dgG/Bz4PSBTOEwgNcQHj8z7nkd1d2LbY1N5i6Tj2TgPsD+oagyFxInYfQB1EILoomjReQoBQfVw9YmJetVEeQVgymihpJHcjLyGNGfEKvfdP5GrTFcZXvLG2lrVet4q5QboMuYG3S7f2ucHAWMvM2OPnjfcEB+8UQR/IJHom1SayKDItwTJ/Nt01XC+pI18Vagb192XqyN7D1w7W6Ne12UDYENNLy+HDJsBOwknLp9n36v37OQmCEAIRbQ0sCt4KTxH3G+8nYjJsOaE8WztBNSIrix6uEkgKugW8A+8BM/7p937vheUK227R+MrZyd7OWdlV5vfxkfmr/D/9mv2f/poAkAOOB+cMDxOpGOAbDhtpFqMPPAkvBdsDhwSUBR0GJgZbBUYD1v/W+5v4bfc++XD+BQfcEFUZnR+hI7kmeim7K3AtDS7eLSQtKizZKtgnfCInG5MS3QmlAS76pvOb7aLnYuHU2pHU4M4Aym/G88RrxuvKS9Hi19rd7eKJ5/HrEfB+9GP5tv44BBsJ5gwZD2gPVw6GDHkK9wfCBIgB8P5F/WX8WPui+UX3wvS+8yH10/g1/XcATQIeAywEFAY8CAIKXQuFDB4O2BA9FGcXQRnPGPIWoRQQEgYPogqVBBv9dfXU7lTqkucJ5WTjrOKP4kDjiOMA5C7mKOl+7V/z0vn7ABYHowqOC4oKywlvChAMSQ67EDwUNRiAGqAaEBjaEwMQrwyjCqkJlgfRBKwBHv5F+8n4T/ce+CD7CgBVBpUMGxGBEuYQaQ1hCfQG+gZDCpwQvxccHs0hkyG8HaUX5hHkDkEPzxGQFBAVIhJSDN8EIf379RvwCOxf6qTqHexL7qnvL++z7NnoSuUu43riT+OW5enoAe2D8Azy4PAH7Troj+Sx4wHmcupc7+Pyx/SV9Uj2pvc/+fb60/xB/4ACwAXpBz4IwwZeBMoBLQCcAOoCxwY0CzMP/xE2EkIPnwmsAnj8lvhT9573FfgC+Jf3GfdT9j71SPRt9L71Mvi4+zb/SgJuBLYFtQbMBqIFnwOUAasA2gEcBWYJZQ3tD8IQGxADDgELuwfYBMMCbwHeAE4BOwLpAk0DbgPyA7IFzAjrDHARDBXGFj8WZxN2D9QLrAmRCUALSw6UEdUT3RM4EdgMIAiyBHYD2APYBGcFVwRzAU79FPln9tn1efeV+l/+LALCBKcFcgSZAVz+p/uB+vr6m/z8/nYBUwPkA/ICswAs/aL46vO/7wjtE+wu7PTsEu7Y7u3uf+4c7pTubPBX83D27/hQ+nb6r/kG+Mf1hvPF8ZLxlfOp98T8xQDRATL/6fno89Pu1Ov86uPr4O0N8Jnx1PHs8Ifvru6U71jyZPY7+xEAIQQdBxQJoAoGDDINAw4HDmANXQxvCxQLnQsRDa0O0A8lEJ0PpQ44DckKewfzAzYBVQBkAUEE/geiC7oOFxF5E9EVsxcNGW8ZGhmmGEMYWRidGCYY3hafFK4RsA7cC1oJpAbSA5cBBwAW/2H+Mf38+tL3VfSs8fnwq/L+9Zr5zvwY/6wAKQJyA4MEcwVABkAHlQjrCegKaQs8Cw8K2gfNBF4BAv7o+tX3a/TS8HjtJuto6iDr2Oxg7hfvfO8b8I/x0PPe9e324fYI9vb0J/QH9D/1HPif+9v+9wAMASj/Rfvm9QPwoerK5ubk8eRC5vXn5uhL6E/m6eON4i3jCeaH6tvvJvWP+aX8Vf47/1AAhQIqBq4K9g7bEeoSlRKCEYkQPxB0EMEQlxCjD9sNRwtMCGgFLAMWAkgCwANEBlAJfgx3DxMSlhQDF0YZRhsOHeIe7SAdI7YkSyXjJOcj0CJ5If4fdR5hHJwZVRa1EmQPzgxwCqQHPgRxAAb9zvrd+e35+/qN/O79/f7A/4MAfAFkAvICLQObA6QEbwa4CJgKLAspCsMHWgRsAF38iPg09ajyK/EH8dzx2PIu81fyrfCl7gztnuwm7Urun+/O8IHxS/FV8CHvq+6u7x3yfvWF+Pj5Tvlv9lTyMu786i7pr+gj6ePpm+oP60DrKuuj6iHqOOpN643tivBk83z1YPYn9qf1u/X59mH5X/xO/5cBDQPBA9IDawO8AvoBRwHjAJsAfAC3ACIBgwG/AQICXQLpAvYD2gWnCDoMMxDBE3MWcRgFGn4bPh0yHw8h/CLTJNUmESmoKiUrVio+KFolcSI4IM4eMx7bHfEc3hpCF6QS/g1ECuIHxQaeBt4GzQYYBtIEagNjAhUCfQKRA14FgAeMCR4LjAvvCqkJ6gcMBgQE+QEGABr+NfxG+oH44PY89VLzD/HI7vDsuOsa6/LqxOoe6sHoy+ac5NTiK+IK45rle+nc7dDxn/Tq9X/1v/Nu8Vfv9O1h7ZDtBe4z7vHtS+1Y7GHrlOr46a7ppunH6QPqIeoF6q3pZ+my6crqpuwA77vxgvQs97n59/ve/WH/lgC7AQIDWASVBZgGKAc/B+MGSQbwBSAG2QYiCNYJ0QvxDf8PmhGSEiITixMMFNQU+hWmF80ZbBwgHxAh+iHdIQUhGSCPH+Mf3SDuIbAihiINIU0e5BpxF2cUMRLGEBIQ/A8NEP4Piw+oDqwN4Ax7DJ4MJA2rDfENbA31CxMKCwgmBn4EKwNgAiUCAgKDAUQALP5l+zv4JfWA8n3w8u7v7XbtTe077QTtcOyN68PqcOr16lTsWO7A8PbyrPQB9tH2I/f09k72PfXz88byqvGy8PHvTu9y7lXtIuzh6tLp/uiE6HDoh+i06LPoSujH543nweev6Hrq/ewQ8FrzjfYy+f/6Cvyk/Fv9Wv6F/7cAwAGOAh0DVwNbAywD+AIgA8oDzAQGBloHnwgRCnkLyAwIDvEO2g/sEEoSBxS7FRUX7xcZGPsX9xc0GB0ZdBrmG+Mc/BxMHKAaeRg5FuoT+BF8ELEPxQ9hEAAROxEQEUAQBA8xDvoNVQ4MD18Q+REEE4wTqRICELYMsAlTB50FcARaA/MBwAAJADn/Sv4x/Qz87frP+dT4qffp9YDz9fDf7rrtvO377kXxA/SO9kH44/jX+ML42fhi+Ub67frg+u35cfjA9pn1YfUe9Wb0J/Nv8Z7vGe6I7Yzt1O3D7uXvifDP8K/wFPDD78Hv9O+z8ELyNfTO9YL3Dvlr+XD5CPvp+4f7Lf0Z/hT8PPoI+oH5AfjS9/b4Bvnq+Nb6Q/1J/uj+RwCRAGL/rP++AKsAqgA3ARICAgPmA0UFhAbRB54JeAs2DR4OIw4SDv4N9A2WDh0Pug5EDucNEw1JDF4MKw0JDkYOGQ07C3sJDAgcCEoKEQ6KElMWHBcOFNUO/gr2CQYKtgt/DmcPFg9vD38POA6QDL4MEA7qDngQOxHXDr4KygaEA8IBzQFBA0sFIQcpCOkG2gONAGb+1/3A/YX+zv+7/+j+F/7E/KP75Po9+tv5e/mn+A/36PRb89byBvN+9MD2TPhL+cP56fgk97D10fTY81nzPvPW8mXzAfWf9rT39PeA9xL2pfQq9InzY/JN8X7wI/B38F/xDvI/8kHye/IJ85nzMfTi9AD2h/fZ+Gn5vfiY9yr3P/cQ+Hb5gvoB+0L7FvwT/Xv9G/6a/hz/OQDLAPMArQDu/83/+P+jAEwC9wP1BJAF2QZuCHUJSQpgC+QMIQ4tD7AQnREwEbAQzxDzEHwReBKlEjQS+hGWESYRBhIZFAQW9hdzGcoZ/hlNGcYXSBcxF1QWeRU2FbYUexMPEjMQtg2YCzQKNAk0CJQH2gbIBIkB8v2E+sX3jvbH9mn3tvfl9xf4Sfgj+s/9bABfAdIBKAHIAC0CrwNMBegGdAejBw4IFQhnB4YF8gLZAQACzAHzABn/fvvg9iHyHu3v57niZd6M2/7ZoNni2DbW1dJS0ELPadBe04fXj9sX3k/grOJi5ODlkOdr6Yns1vGe+Jf/8AWqCu4NOxDoEMAQdhCzEC8SQRNcEyUSZA4yCYADOP5j+x76zPjV90v3PvcY95n2bPZ49oz3pPrz/hEEZgmyDCgOjQ/fEPIRRxOWFV8YFBshHgghryLTIk8ixCHNIWYiKyKxIFoeSBsJGOkUyRHzDlgMognvB/8H7AflBnwFigR/Bm4LRRN5HTYkuiX0JBAiux84ICUhjCI4Je4nOinJJ34jzhwhFYoPaw31DI8LagYG/U3xruT91wHMZ8Knu7O3XbbYtUy0g7A1q4mnL6iBrca2VMELy6LUR96p5yrw2PZA/O8BRQnSEp0clSNNJiYleSEbHXwZsBVWEFIKbgUlAUP8QfYW7n3lp96T2VjW0dOC0DPNm8vozITQotPc1FXVxdZD22bjnezz9P/78ABGBaUKdxAAFgobpCA1JzEtszCxMEQtYShoJCsiNSLzIkQiyx83G8cUiwwrBJb9pPma+sX+SwIDBFsDXQTjC5YaUi/OQflKK017SphGiEbiSUZPlVZfXudjjmObW+hM6DqMLFQl0CKQIO0YuQlr9AXbKMIQrVSeBpnImjWgMKW2pHieE5XtjoSSmaCztibO7uHR8u//vAlyElAZByDgKF4zZT/kSRFPmk25RMg38yqVHi8T1wk9Arv7lPTg6tLdps1Nveev1KZ9ohqhv6GfpfCrGbSFvAHCucS0xqDLVdYH5mP42QgiFJga0BwHHYQcExxeHrMivCdJK9Qp1yIhGPgMPQPM+2P3CPW99Eb18/Nx8fLsCeeW47/irOSR6eDuuPOF+DAACBEpLN1Jtl4lZutiFFq1U39S8VWpXy5r3nIOdLVqAlfqPCkjjxJCDBsLSwgm/83wSN4CyLWxpp8oldqSy5dTo+CvubZ1thixeK11swDDLdjf7qgDcxYTJ6M1vUD4RUlGh0NeQv9Gv01YUcxOBEUBN4knqRayBLjzluf34qnjbeRp4JXVx8Z0un22y7rpwmjLfNP13NvnR/F99hP28PK08lz4IANkDswUHhS+DWEGqgFk/3z+o/30+2P6NvfO73Ll6dnR0LPNHc/T0s7Wn9hB2IbXfNhI3YLlle199dH+Wgg1EmsZFRy7HikliDQeTGNhDW0ibVpkrVe+SlxBnjwKPRBBC0JaPIku2xgfAQHtyuDa3Wjewt3h2VHRI8fnvCy0/69Srzmzeb16yqLWNN+24nXkb+eh7OH18wK0EZAgRS7BOdRAbEKlPiY2Fy1XJnEjhSRyJdIishqMDYH+V+8z4g7a5tg03wvpHfA+8c/szuWv4ULk1+xJ+QAHnhP9HTckDCWPIiEe2xjAFrIZYSDtJ0wsDCutI1MXDAkn+3/vR+hH5EThgN1B1uvKUb1NsaWrV60QtNq8UMX0yyzQddPn1frXytzb5KzvgPvCBXsOkRP0FYQcOy0MSzhp8nUqcHJezku8P782fTEHMzM62kJoQxE2kxyE/BPhQtTe1z7jsug64+/VOsXOtd+pbaO4o0qqqbd7yK3YC+Vk5+zgz9qL3Bnr/gHFFh4nzjPOPIJCyEEGOasrSh/9GkchHSwdMvkrFxp3A0zv9uA/15rRdtAR03jZ6uBZ5dvjY9y72OTg3PLvCQcfWS4LOR0/z0FkQhFB9D5qPOA8MEJVRzZHIz1JKvsWbwaU+KDsDOBR1LLLHMdFxrzFLsL8uSiwLKvarYq2tsDOyLfQ59pp5YHtY/Ob+c8B1wpJFdQhQyudLaUqOC0eQmZfqm/caYdRXTbHIv4SZggAB34Npxi1H/EbwgzC8o/WlcVsxmLUYeKc5hrfpM/mv+mz7a1SrqazcMBn1GLr1P7PBMr8DfEX6uHtG/0CEekjIzFSNiY2dDCKJOsUqgSt+X34vv9dCWALWgGA7yndzdDQyl3IMsoF0j/fNO6T+d7+Dv5Q+fj2cv3VDkYmAzo4RLBFXELBPPg0uypHH1YXTRehHV4lOidfHe0Kkvcz6Qjj/eF74j/mg+3J9Z38JP9a/a/5Efdg+Ln+oQjkEaMY6R2SIPoeZhmyEcIM2gsWDFoMmQoCBRf7Z+yq3YTTsc0qzGfS8uaNCh4t7zv6MpcdFAtvAHv7Gf7uDBQn70EoTwdJajIAFND5SuzO7cL2X/t29wjsKtveyI+3HamKn3+aJJwcpL+v0rqSwSDFI8lTzvHV8OJ99UkMviJCNIVAC0d3SARG0UBaOwc4EDbaNF4ydizpIssVEAXp8nbiidVvzrTNaNEe14HbK9t416DUE9UA26rlofH1/JAG2A5RFv8a1BvoGyIesCO8K1YzfDe5NsYwjSY4HFIUEw2FBuMAnvyq+Hvzce2z523j7+Eg5Cbp5+8H9iX74ACoBZ0IEAtbDoMUJxyVIgko2CsBLfEpHyNSHO4XkRUtFFASJQ4eCCgAqPeI8PXqb+c75fjk/udc7pX1APoe+frz2e427e3umfIY+Mb9bALnBWwGPQNP/t/4HvXE9Hv2tfhX+eH2v/LM7jzrqOgY58XmhOiW6uHr5exD7SHtmO3I7ivx/vQS+WH8af6X/gv+av4TAPwBbAKWATsA9/4e/sX8/vpz+Zb4jfgz+Fv38faw9iL2ZfWi9MH0M/dM+z0AbQUcCtANEw/bDZkMxQ1sEjMYuRxLIC8iACLmH+cb+haxEYkMXAiJBvcH3wuWD94Q2Q0GB4H/6/k++Rv+1QbhEGAZBx6iHb4ZoRQxEDMOUg+AElcW6hnwGkEY8BEXCcj/5vdB8tXuhO2K7QHuR+5t7dnqVecI5BziIOO251PupvNm9h/3Yfck+Mz4Nfl/+rL+OQWrC/YPOhGsEPUOXAyPCTQHWQV4BKUEZwWgBakCbPxK80vpS+FM3N7au9wQ4GfjC+Y/5nLjWN9e3Evc89/q5obwBvtvA3YIbgpKC08LeAo2CdYINwvtD1IVIhk4GccUFQxpAdX3LvHA7X/tzO8z83r15fRw8dDslOib5iXpfvBw+icERAucD+ERyxLUEskS7hNjGDggfCiOLi4w6y2xKTclPSGzHcQa0he0FOgQlAtXBI77wvHO6Dvic94w3dHcXtxF22PZQ9bQ0CXJ1MEwwcTOgu0TF5w7YU1pSvk5BifJFzEOMRH1IylBzlxVaXliW0yoML4YHQlVAgEAu/3z+LTw9eX22V3Nzr/UsXKmO6LipZStYrXvu5HDBs4h2nzmT/H8+ScClQttF60ldTM2PppF5kgNSNxC3TlGLTkfUBP7C+sHPAIZ9svj0M80vniwUaYFoPmevaPUrXC8Ac013J7mJeut7HnwJfrWCVQcNi6NPWNI9U20TTpIgz/CNlswcixBKsEn0CJEG+kR/wYK/Bzxhua23UXYAtjj3KXkQOyQ8Uf0m/Tl82nzIvXu+lQEARD5G3UlCSucKyYnqyBYGyQZVxq2HBseAB5SG/AVHA46BE35R+8k6B/lE+aj6NHqjev76hLqaemY6KjmMOQK4wTle+qZ8e74nP+4AzwEjwGO/QT8Xv4cA3MI3AxwD6kPfw23CQIGCQSFBBMH0Qm9CiYJQQciB7MH4AY9A9/9DvnA9bX0bvaK+YT8h/2++4D48vU49eP2d/nD++T9qP93AVwDugSUBRwFggNLAHf7tPZS88nz5PjIALoI+wxKC5sFdf9x+/b54/n0+iD+7AI+B7IIdgV//hD3WvH47hHwvvNR+Vj/tAM5BNv/1vc27xXpeOeK6vPxj/zvBhkOyQ87DKcGHwGN/ST8xfwPATQIUw/PFDgXABZSEUEJzQFe/6YBnAZ7C5sOxw2+BnT74+8o6JLlfeai6ufvi/Pw9AHySeuv45TdENoU2enaMOS5/YgiYkJKU8ZQk0NjNs4mCBotGakliD7tVJNbRFMkPlIm1xN1Bm/+V/kl9tnyrOwc5QXdd9Zpz5bDs7kSt/K5b8CWxczKlNSF3yLole1z8EP1Ev/gC5QZkSXRKwstgSsyJ+UiGh/eGhgWQw+zBwwBifqs8n7nXtxU1hHUDNNj0WTPuc9k0SnT6tWG2nfhC+md8NH53QTODtcTmhIXDrQLcw24EY4Wahp/HLgc0RkWEpkGXvrF8MzsE+7Z8QP3v/u3/fP8NvrL9nf0V/QZ9+f+Cgs6F/of7CJ7IA8cSxdKE+oROBOtFtkbsiA3I/kh4huJErMIegB3+wj6aftC/lcBUQQgBs4E0P9K+B7yXvBr82b6uALdCUQP2xE1ESwNiAVp/SH5dvr7AAAJfA5REKgOBwpWA+372PV58qPyIPWx+BX9Lf8+/RT4DvG16yzpzudW6BLrne/i9Cn4W/dI80Durep36mDt5PH996H+QAQVCEEJpQhsBisC7Px5+GT2+PZd+Uv8If+hACn/U/t69gfyAPCM8aD20v29BMYJ/gxlDp0N8QmIBL7/1/zU/Bn/WgIyBRQGKQS9/0X5iPEm6jLlnuTB6JHvTfbL+kL8Ovz5/J//VgS9CRgP9BRCGxohBSW1Ja0j4h/RGn8VtRDQDBUKVAgnB30FigGB+p3xQun741zikeOj5j/q7u1u8p/3pfsq/XD9Gf61AU0IyQ4gFScaFxwgHFgZexT8Dx4MCwurDVYRRxR1FAwPMgQ+9lDowd0E2vPcJ+mu/rwSxR58H90VOgr5/fvx/u1b9D0EGhl8KQ0zrjRELpIkIBnMDo0Gd/4c+Rf2q/ON8pzwOe3/6CPihNrg0iDKPsPav8bBKMpA1P3efepz8975w/z3++T7gv5GBOINsRYlG2IbGxhmFd8SwA22By8A+Pi39IzxBPFd8iPxHu8R7YnqB+o86afoOOst7mrxnPVQ+cX9eQGLApgDTQS8A74CzAHJA40JHRAJFWUWDBTiD3ELighrCAkK5wyFEJwToRVZFYcSyg5hC+MJ7Qr0DYESjhZSGcEaIxrBF48Tyw3zCEQGEgYOCJgJdwqyChEKXAkZB8gCVv49+oX3ufb09k35L/3B/zz/yPqK83/sNefB5Nblt+n07sXzFvfu+EH5FvhR9vb0CvWh9tb4Z/ti/tQBYwXuBzsJgwgiBZIAcPzP+qH8WACqBKUH8wdRBiUDoADs/2f/iP+jAKwCUQaFCQ0LpQs0CjoHMgR6AYIBAgXfCSkPLxPuE0QRYAsDBDn++Prd+f34wPXI8H/r4ebj443he99p3lDeI99e4Ezh9+Gd4RHgh9513gzh7eUy7FXzOvrW/1UDjgQNBSQG+QfOCjgO5RAIElgRWA/+DHwK5gdsBloG9wd4C1oPORM9Fh0XlhZqFdMT9RKyE58VpRifG4Ad+h5qH14ePRzNGNAU6BD5DKwKewoYC9QLCgtlCHcE3/4q+X70uvHM8UHz5vWh+Uv8l/0R/d75RPUe8NProOpR7BLw0PT3+HH7jvpK9pPwIevJ5zbniumh7k/0evja+nP7qPsu/Eb7u/oX/JYALAzXGjkmYSwhK7kl2x/LFxgQcA0fEOgXYiCpJB8ldiC3FjIKkvtN7aPhfNmx1WvUn9ON0k/QTc19yY7EssCYvie+McFrx0TQntoW5HPt//Yd/0EFNQjlCQMOQRS2G2QiSCZSKBUoMiW3ID8aThTrEdcRmhKmEm8QNg38CNMBB/mV8DzqEOgk6STtD/Qo+48AcAOXA9MCnQGM/7v+KQCcA5QITw6lFDIaIh3+HEAauBZhE3gRKBIoFBoWFxdmFv8TaA8eCQEEbQGbAdIDkAZUCeILKg2lDK0KdgfxA2IBrQBSAmIFWQjyCdMINAVYAC/72fbC8zDyZ/Ii9NT21PjW+Nn29/JU7dvmE+F03SXdAeCj5H/pe+2k72HvDu1z6R/mf+Qj5ubsbfgUCHEX+iD1I5EgtxmWE7kP6g+GFFwajh9CIvsgMx0uFxwPewYm/c70ke/07LbrOule5IXe+tjZ1OPS49Kn1NjWENiC2GXYm9g02yTgf+Z97fDy4vbx+pH/GQU1CnkNKQ9AD3sOcA5mDzMRDhN7E4gSXhAaDkUNTQ2RDWgNFwwTC4QLDw2eD5MRBRLDEQMRLREdE+wVGxlfG8obuRqOGBwWExVUFUYWOBfkFp4V8BIUD30LZgi/BVMDBAEGADUADgC//tr7DfjI9GbyJ/Fn8YLyGvTV9WH3S/h/+Hb4vvh3+Xz6u/sl/Wv+Y/6Z/Iv5RfYd9Lfyz/EW8Zjviu2a60bqWurr6h7riOtJ7KntGfDD8ir1y/dr+3UCeguDE3EZQxxBHv0g5SK9IyckECSEJNMkUSRsI4cgVBv5FHwNRQWh+6PwteZJ3e/TKcyHxuTDocMuxLLF8cZHxzXIN8ohz9jXyeLn7rD64wShDYQUnhmKHSkg0SLSJUMokSlXKCAlQSH3G20VtQ4iCDcDjv8r/B35q/Xh8fTtbeqk6Orobupv7VLxH/UV+Tn9WAKCCEYOyRJzFdcWIRh2GSkb6BzvHToe+R0fHSQbWhcdEqUMRggIBk4FZQVmBcEDVQAB/Dr4PPbC9Yv22Pj2+5v/LAPBBUoHfQe+Bv8FHAWABL4EcwVwBrkGMAU5AoH+3frH9771vPQ+9Mnz4/IW8trwl+5N61bnFuTd4p3j/uaJ7aT2zgKpDxsZGB1dGwcYKBdQGDkaiBu8G4IcTx67H4kfhRsnFIELmwIC+oLw3OU73I3UDs9LyzDI3cVMxJLDj8R2xqfIisvDzsLTedpn4VzpdfJX/M4G8w93F78dgSL3JUonsCVqIjgezxtvHEoebB+YHegYlxJVC/wDCf299hvyXu9C7grv5vBi80n2cvhG+UD5iPmL+3v/DATtB3AKzgvxDDkO/A9LEpoUOBb6Fv4WrRaHFncWoxaGFtMV6BQAFDgTIhIbEJgNWAuYCaIHAQXJAaT+wvvp+Gn2GfQL8p7wpu8I7yzu6uzL68vqJuqT6azoD+gW6ODpj+2y8V/1mveu+LP5avr6+on7NPzr/dcAowQUCRQOIBRSG88hqyX8JNUfOBplF8sXlxlaGS4WUBKtEF0SsBQyFO0PVwltA1L/dvuN9qrvIehE4gbfid5t3xLgIuBF4BnhreFi4cTgU+Dk4P/iYOaW6gjvO/Pf9of5qfpI+hn5x/fn9kf2T/WQ9MH0DPb39y/5Bfmh97j1a/Qx9NL0K/bI97X5Tvwn/1wCxAXeCKoLgw2NDmAPzA/PD0cPgw4tDnsOUw94EKkRnRIsE5kTkRPHEu8QKw7KCxsLsgwCEJsTCha0Fm4W4hbwGLYbOR0qHDoZWxaxFKsUfBXfFU4VVRP3D8sLIQdXAgD+SPoF9y70EvJE8TzxMfEX8DjtU+mb5azjGOTp5e3nn+lV69ftcvGW9eP5iP5HBJYL7BKNF1sXsRI/DZoKqguEDiUQHxBjEJcShxYWGYwWfg5jA0f5t/Jh7+HsFumq42Len9u22zDdqN0O3LTZC9jb1+jXk9b905LRtdH61YTdOubC7cDyk/Ux9234gvmR+QT4c/Vy8/TzX/c4/CcAGQJ1AnACsQIeA2ADQAM5AzMEigYSCjoOHxIVFfwWMBg6GcsZrhmVGBYXOhZuFtMXwBlhG/QbRhupGfQX7BY1FuEUWBL+Dj0MhguzDF8OHg8oDjUMjgpICt4KCQuICYYGzAPQAjUEXwenCrwMzAz1Cg8INwU/AywCmAFnAYgBBALiAsoDLgSaA6sBzv7r+6T5hvg0+E34QPjN9yn3G/dB+GP7IQDXBLcHogfuBCICQwHWAsEFCAhPCWUK2Qt0DacNQQu3BmkBGP1p+tD4EvdH9K7wAO1z6Q3mceJw3vPav9iu1+zWG9WK0pTQm9AW09TWJdqe3PveIeI95ivqGO3C7mLvJvDU8XH0uveQ+mT8p/3d/koAJwF1APT9Cvow9iH0l/Qb92L6Tv2P/8oBggQ7B/YIEwnvB+kGdQe1CaAMGw9sEDsRZxIZFJkVJxY0Fl0WOBeCGG0ZPxnQFwkW2xRHFW0XphpHHkkhFCNPI1oiBSHqH2kfch/3H14hDCSVJ9MqOyy5KqgmuyGQHQobuBkEGB0VExGdDJEIRQVLAub+fPok9bHvNeut6O3nAehO6L3o/OmD7evzKPwuAxgGLgR6/7n7Wvtp/VL/Hv/C/br9bAA+BKsFwgJW/JX1zPCO7TzqWOWW31baitb504jR5s7IzETMVs1lzo3NMcr+xZ/Dv8Qbyc3OUtSN2RffU+XJ6/jw1PNO9O3yWPEi8S/zCPfv+pX97v7d/5ABjwPLAyMBQ/yo97j12fbf+Wf9wgDhA1cHHgtFDukPwQ/JDiMPThLsF+od5iFCI4kjzCTQJ3Arzy0BLgEt2yv6KiAqKSi1JKgggR2iHKQdQB+tH24eLhwJGXIVjREODoMM1w3BEUQWgRk7G1Mcix1jHuAdeRvnF54UVhKGEb8RBhJcEb0ORAolBdEAAf44/GX66ff79A7yKe9k7ILpMecG58TqMfPK/fYFGgjtA3T9XPkb+Xf75P2z/2QCTAbxCZ0KuQbw/0D5vfTP8ZLuQ+rr5BXfSth+0ADJocMRwvXDZ8f2ydXJ+sbRwpG/7r4UwfXEFcr8z4DWYt3W40rpNO3c7ifuNuzD6nbrku7P8oX28Phs+qb7jPwT/Pz5K/cS9T/1w/eZ+7v/JgMuBQoGRgYQB10JDw1oEaoVjBnuHGcfdyB6INYg/yLiJjQrfi6YL6AuNiz2KJAlrCKxIN0fXCAhIoYkTSaIJuMk+yHIHjgcyBqGGlIbEh2aH0EiQiTsJGskVyMuIh4hyR8YHi8ceRpuGe8YvBjxFzwW1BP1EGwOTww8Ci8IXAWGAeT8svfD8rHu3uv86rLsk/Fi+SgBCAX0AtD7vfP+7TTr++oa7Ibui/Kn9tH4FPff8JToXuFz3XrcNdwT21bY1tNYzrvIBcQ5wV7AfsEoxGHHzckMylfIGsblxLPFgsgIzcfSidlg4a/pI/G+9U/2KfTT8TnxB/M39pL5qfxu/4sBZAINAWv9kfid9KPzCfZ/+qX++QBDAZ4AegDUAZ8EZAhODUgTPRo5IScmpycXJsQjPSPCJdcqUzCCNJU2rzaaNV4zBjAMLCcogCW0JBMleiXOJKcibx93G54XTxSnER4Q6Q+sEWAVxxmxHRogsCAPIIYevhyAGwobahuXHGkeSiAnIasfDhwVGE4VFhStEiMPbQmDAvr7O/Zc8BXrPOgR63T1XgO1DSkPFgdq+v7tduQl4Fzh1OdZ8UP5tvxJ+v3ybOoR46Te8tyv2yLa0dfm06/ON8h1wZu85LpZvWzDYcrBztLNo8gaw5rAX8Jjx4/N2tNX2szhLOq88eH1HPUY8Wrt6OwN8On0gPhC+UX4f/eo96b3Hfae8qXuQ+zl7GvwQPVw+ZP7Kfzj/Hr/lAQEC+gQWRW/GJobFB4MIKkhgyMCJu8o0yudLtEwuzHlMB8u0CnmJPogSR/dH4YhISKGIJodyhooGacYiRjQGJEZgBp5G6kcLR55IA8jRiX9Jk4ocCkDKk4p8CcqJ28nTSiKKBEnniNUH38b1xjnFt4Tgg78BmT++vWy77Tu+PU0BZwX1yWvKQsi7RLCAZLzVeu36nrxOPxHBhoLLwgl/uzvheLe2iPa5N2h4VPhqdqOzZi8wqwlo82hTqf6rzi4Xb3uvZS6YbVRsSuxLbbmvwnMydfh4ITmWekd6tnp9ehY6NjosepI7fbul+7S66nnV+MY4PjeTeB14yznJ+qj6/nr5+s87NLtUvE+943/twkzFNIcCSKNI3AiOiGcIfYjQSiJLQkzBTi5Ohc6eDYfMYsrjycjJt8m0ijKKQgoqCPWHX8Y7xUOF4EbxyFwJ1MqbykeJfkeghkNF0cZJiBQKVQxXDVRNPMuBCdDHxcb4Rx0JJsuFzYFN6cwKyVnGOMNewZxAbH9S/rs98/3cfrq/xMIQhHwGLQbIRdxDFb/WPQl7wjxjfhZAmIJqAkrA+74Wu+T6XroBuug7bzr3OLr0/fBNbFdpVugZqINqkSze7lmuo61fK1Zps6jU6hOs3/BQM+q2cjfM+Ih4h7hm+CS4Z3ktemy7wL1/vca91fyhetu5SriSOLM5Aroe+qK623rAOtj6x7tgvDi9bT97gdDE3EdYCTnJvolwSP8ImolniqiMCQ1XjfeNzI3ZTU+MrEtwygkJQUjoSHRH24czhf4EswPcg+eEUQV6hiKG8McWRwwGskWhBP7EU4TbhcxHesiTCf3KKQntCTVIQ8hlyPwKBgvGzPlMg0uaSa1HtMYwBVOFf8VjBWkEiUN5QQP+2zy6e4f9d0FNxu+K3YwWCh+GIwIO/7I+9oAuwoaFUMbQBlTDjz9u+oj3UPYLNtt4S7lguJT2IPI3rbNpzyf0p56pX+vSrj9uyu5gLEYqUCkV6V0rKW3FcR6z+7X0dtY29bXn9OO0ZPT2NkY48/rWPDu7nHoCuCf2DfUmtPK1szcEuRn6mDue+8F7lLsSu2989AA5RGHIj0vaTZxONY2oDKDLb0pKylvLGcysDiTPBM8tzahLeoiJxnaEmkRFRSXGN0bsRvsF2wSSg5RDfIPlxVpHOYifSfXKR0qtCjzJkgmUShjLbkzBjlsO/g6HzmbN/w39TniO8M7CzkhNP8ttyapHVMTtAkXBBUEqAlSE80eWSqtMwI4ZjWBLJ8g1BWrD6kOjRHRFeQXJBZEENwGP/yU8sfruehc6Gzmat+60h7CbrFJpLec4JpZnRGhV6OdooeenJghk/KQUZT7nNmpb7ikxY/PCdWN1qbW8tdP21bgWeWk6OTpZOmg55XkhOCs3NXZuthP2WjbWN744E7iheLM4ibkXeeQ7Ir0mf+CDOEYxiI7KSwshyw9K4QqZCzkMIA2yDr5OwU6yDV2MKArBSlAKWAr2y2+LpksNSeLHwEXAxCyDNYN1RLQGb4fPSJrIGobmRauFMUW7hxWJWAtADOmNCYyjSw5Jrkh8SB3JMEqaTFYNRU0Ey0WIjcWjwySB0UHKwpKDegNcgszBhQALPz0/SUHThWIIlUpYicfHrARXQaY/3L/awX9DScUsRNMC0v9MO7v4mPeu9/s4i/k1OCJ2D3MbL1Fr+GkY6DioPujxKaTp0OmpKOIoemhQaayrte5d8UM0HjY+91T4FjgVd+V3gvfKuH85G7psOzE7AbpC+OR3I3XSdVb1svZ990q4TziQeJS4hPk9eiK8Vv90Qp2F6EhhyixK5grSSnTJnMmpinnLzA32zwRP5E8BjZMLbYkmh7BG3QcvB8gI18k2yEUHDoVBA+1CuwJDg1oE3Eb5CKqJ3UoByVBH6EZTBc0GnIh+ypqM004rDjYNMQuEClMJmcncytAML8zdzMoLRUhpREXAw77u/05DIwiEDl9RvVELzWuHeUHd/vr+0kHvhfHJaArmSfcG2kNeAG9+9z8wgGABRMDovgA55LRXL2orp2orqtlsyW6N7vytGWp6JwglLqRqpaFobivSr50ylLSTNVA1FPRjM8h0ejWvt+v6DTvW/FG7y3qVOTQ30Xd09z03ZLfBuEv4eDfb92f2rfYltj92j3gj+gC8wT+0wfnDuESfRQqFcgWGxtQIhkriDNkOdU60ze6MUEr8iYaJk4o6Sv1Lh8wHC85LP0nXiNBH1wccxuQHPoeTyHMIVsgtx1xGxYbaB1HIn0n4ConK18o/iPqH6MddB3CHkwg8SB1IKUe6BvVGAEWxxOvEo0S0xJ8EhARqg7jDPcNXxPIHHgmSCzrKigigRUOCuwD7wTWCzEVHR0zIEQdgBWjC78CivwD+SP3QvXe8Sjsn+M52JXLDMDMt3q0zrWouc+8MbxKt96vqKgxpPmjOqi8rzq5JsO3y4XRgtT31BjUEdMF007Uutbs2U/dgeDs4sPjcOJO3xvbwtYI0yzQVM7kzS3PMNKb1hvcluLI6QjxOfjC/lEEhwiTC7INUg+REecUXRl+Hkoj5ibXKL0p/yn2KToqkirHKsIqWSojKj8qYipwKggqsigIJ4QlIyVWJuMoAixkLmYvFjAjMZcySjR3NV41ITQ5MlYwMi/DLtMuwC68LeArRyktJjsibR3NF88RUQ2EC+8MOxEIF1gcTB/FHr8aURTrDOgGOARxBSUKDxEJGLYduCGzIxwkUyKAHrYYDhG7CFoArvgE8grs+eYj453fFNte1dvNY8THuVKvPKcAozWj46boq6qwwbNqtfG14LWztvK4pbw1wY/F7chZygHKfsg/x0HHOskIzbvR+NV32I/YO9b70RvNDMkfx+THEstMz2/T29ZG2W7bzN2k4Q7ncO0i9Lf6JwFeB04NmBIXF9gaDx58Id4lpSvqMZY3WjuFPJY76ziJNawyHzEHMc4yBDZpOUE77Dp3OHU0nzBWLp4uGDHDNLk4KDxMPtQ+4z2jO3E4qjQhMdUuWi6dL3MxhTKlMScvsSsRKCclFCOTIWogDiAhIb4j3ybdKCgoCyWcIIwclxraGiAd9R+sIbYhux+eHMkYuBTrEPsMWgnuBMf/HvoP9HDuTugI4uvb/NVf0D3KMcMHuzSyt6l+omSdtJrXmf2Z25rUnAeggaOxpn6oI6lpqeWp8qsqsAK2nrwqwkrF58VvxEbCC8EywQrDUsYSypzNrtDJ0mvT6tIG0gfS0NPa1+3dFOX764DxtfWR+Hz7WP8lBOYJrQ9xFMMX3BkYG0Ecjx2iHxMjpCcYLcUy3TduOzw9Xz3IPL08kz3VPyZD7UYuSglMDE2dTP1KxUiARndFSUYPSf5M2FDqUvRRJk7HRwJAnDibMrYudC1kLpMx/DXmORA8dTssOAUzZC0/KTEnEyeFKEsq7SuXLO8riCpjKKYl8CI+IHcdGBrCFNwNlQUH/YH1lu836zfnQePe3abWVM4axRS8HrTMrSGq26iFqYmq4ao4qi6ogaUho42i1qPIpmyrkbBwtgW8MMASwxvEvsP1wuTCH8S3xv/J1MxnzrrOJs950BXTLdfl2+Pf++EU4r/gn9703APdaN/x4/fqdvPU+/kC0wcnCqwKrwoKC9UMIBCYFLcZoB4FI1YmAylaK1AthC/JMS00SjZtN+43zzdUNw43LzewNxM57zqXPI09Pj1VPOE6SzkyOH43UzcHN542izW7M6Ixji9yLW4rLCp+KT0p4SnPKnUrmyvQKWUmUyJyHqYbZhpeGk4btBzyHdIeqR55HSsaSxXuD58K0QbkA0ABev6S+q/1fPDh677n1OPR3+PadtUF0M/KM8Zywm2/rLyMuiK5fbhzuG24F7gHtwq2ebWVtem2ULk6vDe/G8IUxBDFQsWYxNjDVcNbwx7Ew8VDyGzL0s4f0lHVCthU2nncBt+f4UnkWeeV6gruuvFX9Wr4cfuY/tYBTgW8CKYLKA6+D5kQrhBzEEQQRBAFEVkSWxQ/F4kaGx63Ic4k+ibvJwYoECisKKQqFS7fMvY3mzxMQJ1C60NTREREfERARYNGJ0jcSQZL/0o8Sg5J1keyR+dIO0sjTcpNDUwFSEdC4ztrNjwyky+zLggv9S+8MFcw0i0gKRsjmhwmFh8QpwoLBbD/jvpz9fLwUux850zik9z61o7RYcx3x7TC6b2AufS1YLNFsqWy2rOQtSi36bfjtxO317XEtFG0xrSptqe5v71rwmLGTsmpyvjKs8qHytfK+MvazZLQE9TM17Dbld9D43nmTOnq64PuBvFO8zb1efYz99H3tfiL+bf6FvxT/bP+r/94APkAJQFaAZ8B+QGKAiYD2QOyBHsFQQYaB/AHFQn4CoYNtxC7FP0Y/RzRIFIkaSdzKYQquiq6Kh0rDCwYLuEw3jNFNr83mzjBOH04JDg3ONs4Pzo0PF8+W0B+QY5Bq0D3Pjc9VTxAPCo9Wj6QP1tAOUDzPto7ijeNMq0tZikcJg8jwh9FG1wVGg9hCOkB8/u99jryL+526nXmBeIX3RjYUNMuzxrM9MnqyH3IVchHyA/IFsfdxaPEhcMFw0vDS8SpxfvG08clyNzHnMeZx2TI68k+zDDPCNIk1FjV9dUx1unWe9h82rbcCd9H4THj0uQq5kHnHOjW6EHp1elb6pfqIeri6D7na+XA407ikeHu4UfjROUU6ATrX+0w73PwQPHm8bDyQvRS98L7SQFiB4gNMBNNGO0cZiGoJacpVy2GMDszujW2N0g5+zrBPFQ/iEIQRshJDk1mT19R9lLxU71UMFWwVT9W+1ZvVwRXBVZiVHhSiVA6TjVLkkedQ30/tjveN6UzAy4eJ50fxRd9EDsKlgR5/7H69vVk8Xjspecm473eodrr1r7TKNEizx7Ojc0lzbPMF8wLy57J/8cvxvDEUsSLxD3FNsZGxw/Ircj9yDPJWsn7yTzLGM2Nz0TSO9UU2MbaI9273tffguA14WPiBeRP5tboHutK7I/sLOw+61Pqh+nw6BjoJOcm5kLlwOQ55JfjIuNv4njhUuHO4bziKuS05UPnpehV6mDs1u6c8WL0ZveN+qf9CAGPBAoIcQvtDpgS3RaXG3UgACUYKZ4sVy+gMa0zrTUCOI46xz1/QShFuUjTSx9OGVAXUuZTt1VmV2RYl1gXWBZXq1WvUzhRLU7+SgFIC0UhQpQ+bjquNVgw6ipzJZgfexkTE48MEgbk/zP6VPVr8d7ttupg5xfk4ODR3SHbcdjo1TLTudDHzkLNWcyzy4LLpssxzADNdM2lzZfNT80Bzf3MOc3azdzOR9DI0W7TKtXg1qTYbNrv2w/dQN5r34TgKOFF4ejgWeAr4F3gDeHJ4UPiXuIT4oDhluBy31reJd0i3GXby9qF2mLaY9pe2pjaMNsS3H/dh9/i4WTk2eZb6Srsye5r8Vf0sPdz+4f/7gNMCJAMGRHDFZgaRB+0I8wnyCuwL4gz5DYIOvA8uT+3Qt9F30jCS0BOf1CuUkBUk1VvVr1W61bwVrhWVlY/VVhTYVChTJ5Ig0SlQNw8ETlBNRkxjSx3J/QhPxwGFrQP3wmPBOj/4Pt/+E71BfLJ7nHrH+gJ5Tviw9/+3bLcudsB20HaydmD2VfZJtmq2BHYkNfo1ljW+9W21bfV/dV31jvXfdd6113XH9fZ1q3WutYi1wXYH9nU2nfc293O3t7eUN6I3Y7c1Nt924fbv9v62z7cG9y52wnbGdok2T7Ydtfn1pXWQNbm1ebVINYa193Y9tqS3STgZuLU5FLnNup87TPxQvVV+Yb90wHXBZ4JQg2TEOYTaRduG/Ef8yRLKp4vezSQOAY8rT7qQM5C50ROR+xJqExkT+RR+FOSVdFWzVcvWAhY11bfVJ9SxU+CTA1JCUUzQOc6djUiMMIqhCVlIAUbhhXWD1AKFAXs/137KPc989Hvkex36aPmIOQv4pzgct/C3n7eod7t3kjfKN+A3sXdct2w3VXeTd+h4Mrh3OLF41Xk2OQd5XHl6eVW5u3maecA6KDoHemQ6fPpHOoN6g3qMepY6vHpUOkp6KfmLOXX483iouFG4Ofep92U3N/bPNsJ2n7YB9ee1YHUB9T60yjUbNTf1FnV79WG1kfXYNjN2cnbUN494SrkDufg6aHsMO+o8ZD0Cvj0+/v/CwQQCBYMARBCFNcYjh17IswnOy29MkY4gz08QihGq0n0TAFQmlIAVQxXlljgWQ5b21v/Wy1bclnQVkpTXE/LSnxFtz8QOpo0Ri8BKlIkxx5tGWQUsA9AC4cGfwG1/Df4BfRH8OjsD+rZ5xHmOeT34avfgd3f28faOdoI2u3Z09l52Q7ZcNio1/jWsdZK15XYOtr4233d2t4U4KHhW+OX5Tro9+qu7TnwoPKr9Dr2OPfm97j43Pn7+qT7Vvsw+pX4zvbS9Kvy+e9h7IboM+VA4nPfwdzo2cPXatYl1XjTF9GWzsXMGsyQzNXNQc8S0XbTmNUV1xjYsdnP3DThEubZ6mXv+/K99Xv4e/u6/lkCBAekDI8SNhhYHZwiNyi0LaUygDdbPH1BdEdsTc1SSVebWjNdTV/xYDZi+WKAYyljd2FGXnBZzFOsTcpGKD8rNnUsSCO7GosSSArIAVX5e/F96ovkkt8/2zTX4dO60TfQO89ozuHNR86Cz9XR6tSA2DXcYt8h4q/kY+ej6jbuA/KB9b/4uftL/lcA/AHUA80FlAcUCUAKCAs/C5ALKgyEDMoLyAl7ByUFLAMbAdn+ePzj+SP3bvR+8ezt4+l25T7h7d0E2yvYZtXT0rzQ5M7KzCTLc8peyqrK08rKygHLLstSy7TLB8zXzGvOt9Cg08vWztkx3Jfe3OGV5e3oqevK7SfwTPMI9wr7Jf+FA00Isw20E7Yb7yU3L1o1uTiQO9c/bkVlS5hSKFvXYq9nqGlmad5npGXtY3Nk9Ga7Z2FjgVo7UK1GIj2wMoco+B94GJkQTweD/GPwZOMZ16TO5srNySLIc8Q9wNi8cbrZuDi4dLkGvUHCUMjjzlLVKdrP3IPfWORm61Hzlfr/AFIG5gmAC+YLWQwUDlUR5BS4GNEbiBywGjIX4RNKEhQS4hEBEnISCBLMD1ALVAVW/6P6sPfg9jP3y/aC9B7w4+o/5pbirt/k3RXd8dwC3VvcINrF1kHTvNBG0C/SUdWg1+fXO9Zp1DHToNJ1057Vwdja29zdeN6v3WLcBNzy3a7izeix7jDzqPW895/6hf7rA/UKRhOlHVopnjMDO0Q/oEHbRE5KUFH4WCNgzmUracBph2c2YydeIloVWMJX2laTUt9Jwj1BMBwjmRdUDl4H6ABh+Unwx+Wr2nDQYMiUw7/CTcQXxhfGDcRVwb2/rsBixGPKkNHj2GLfFuUa6qjuEfPV96D9QwT6CuAQKhWGF0kYQBjIGDsaTRwpHuYevx5dHZYa9BYyE58QKg9DDrMM1QlpBYf/cPk19FDw2O0Q7FXqc+jl5XTiWd4k2hjXe9UK1VzVAdam1vvWFtZ01FHTQ9Mz1JDVotcS2n7cLt6Z3kLeHN4u3grfaeF55TPqBe478LPww/DB8aLzT/ai+SH95QByBDkIewzSED4V5BlWICQpLzN1PE9DVUdqSexK9kwnUPxUnVrQXzxj6GPKYUFd6VdvU+pQtE/ATH5GMD2WMfEkTRjaCy0AkfWU63LiwdnR0FTHBr6VtUuv/KvLqk2qxakjqeCoGaourQ+yBLhZvj3F3czf1KjcnOPk6Rnwkfba/c4Fkw2XFEoa9R4hI0EnaiudL7IzpTf2Ol88LztRN48yMS4nK8sp2Cj/JtUjfB8yGjMUeA3qBiUBi/ws+ar1ufDd6urj3tyY1g3RD82IytTJRMriynnLVMvHylnKwcrazEjQa9Sc2BXcxN7F4DbituN05bfnxuqs7hDzLPeV+pX8JP1V/eX9V//rAVMFQQmrDRwSWBYaGpsdByLQJ3UuZDQBOEM5MToaPDc/JkOpRiRJkkqrSj5Jv0ZvQ9k/LzxBOGoziSyoI1kZ7g6ABXf9XPZl73zn3d5w1gLOPcYjv/q48rSEs8q0ErcLud+5rrmoufO6pL7bxMHM3dRq3BHj5+h87gb0LfpqAXYJgRHIGOcerCN+J6IqWi2yL+IxcDRNN+U60z5nQWdBZD5KOY8zLy4BKsEmUSNGH8cZsRKYCu8Be/ki8kbstOcL5Pvf49pq1UTQG8yqyCvGtMQtxBXF0cYxyQPM+M7+0b3VxNq94ITmcevM77zzkvdD+8L+VALcBdYIQAtLDcYOvQ/6D2UPKQ7MDJELbAo1Ce4HAgerBjcHeQgdCkEMgw/oE08YWxsJHLwbRBx1HtAhoiSzJp4o2SoTLSkusC1ZLAEr5imIKBsm6yFJHNwVIw+ECPUBg/sn9SPvsOnh5DfgJNul1WfQ5czDyznMqswjzD/L6soYzO3ORdLk1RLa2N7847Dpxe859a35kvy3/t0BbwYkDG8RYhULGAQawBt8HUYfLiEQIxol6CajJyAneCVZI+8gah75G60Z7xdpFlkUXREqDdUH7wGm+3v1hvBA7Vfr0um357vkMOGD3TDaytdg19rYzdtF3wzi1uPL5Izl5+Yq6d/s3vE290P8HwC8AnsEmQVLBgIHxwfwCHQK7wsdDZ0Nbw2hDEELuwmlCH0IOAlYCiUL7QrCCTwI5QYgBjgG5QYACEcJVQojC8gLTwwHDOQKcgncCI4J4QrTC2cMOA1RDi8P/g62DTQMmwsgDDgN9Q1uDa0LSgnLBp4EvgIMAUL/Uv1e+4v5rPdS9cTyZ/D67p7uyu4A7wzvBu/f7qnul+7g7pHvX/An8VHyIvRG9j34afm++cv5Hfr6+m/8L/7O/+4AgwFgAZoAlP/T/qX+J/8NAE0BvAL3A74E0wQ7BGwDxgKYAu0CrgOZBE0FngV1Bd8E9gMNA3QCVwK8AjcDbgNgA9QC1QGEABD/pP1C/A/7ifra+pH7Evzl+yj7RPpg+Q75nfka+zv9bv9HAWgCxgK9Ar0CPgNUBMcFTweaCCEJywj1B9kG0gXpBEMEpwMSA6cCMQKiAbUA4f59/Pf5zfd79gf2MfaD9sj22/by9l33c/gi+vX7h/3Q/vD/DwFZAvMD6AVnCEYLMw7hENUS7BNPFJAUFxUBFscWBxeoFtIV1BTUE9cSYxFgD/MMDwruBg8EgAFk/6T98vso+j74EPbd8+zxQ/DS7oTtTexK63/q4emt6Q3qwupc647rd+tr60jrM+tn6xfsUO1/7iTvWe9u74Tvhu+D78PvXvAs8Q7yufJK8/DzuvS89er2Qfi5+Wr7Vv1G//kASQJwA7wEYQacCFsLFQ58EDASHxOhE1IUixVFF2UZNRsQHcMe4B9zIFsgyR9GH8AeKh52HVkcqhpvGLsVxxK3D8gM2wn/BnYEsgHM/uD76/go9p/zSvFa75zt6+tW6tjooefu5rHm2+ZX5xvoDOki6iLrTOyO7dnu/e8K8THyQfOB9LT10vZI+OX55/sD/vj/1QGXA0kF8gZ9CG8KngzHDiURRhNIFfEWEhj/GJ0ZyBnVGasZZhkNGUEYMxfNFS8UeRJWEAIOtgtaCQkHqgQHAkz/dPyJ+dP2RPQX8mbw6O6a7Ubsx+o16bDnK+bj5OTjD+Mc4iDhB+D43greOd2G3PfbkdtW28nbmtyo3ereNOC84VrjYOUa6InrmO8K9Kb4I/2QAeEFQArZDrATvRiaHQUiryWUKO8qwSwaLhYvlC9TL3Mu+yzkKl0ojSWsIrwf4xwdGmQXwRRVEicQLA4YDLwJYQcdBREDmAGMANf/Uv/Y/j/+j/0M/Z78fPyk/L38wPxu/Nn79Pqa+VT4CPeV9V30RPM38lDxhPCb74HuNO3f68bq5OmW6ezpqeqW63bsRu0u7mjv+fD78j71rfcq+nn8ov6PAGICPARaBooIlgpxDPcN8w6ID9wP+Q/yD9YPhw8VD0kOQQ0TDK8KNgm9B04GpQTqAg4B+f7Y/Nn6B/lu9831UPTN8k3x4O9p7v/st+vB6ifq2+nU6RHqaerb6nTrJ+wP7STuZO/S8FHy5PN79Sv3G/kS+zz9cv9IAeoCJAQTBecFswZ7B1EIEgm6CW4K/QpYC4gLbwtjC00LVguqCyoMugxNDb8N9Q0jDj8OhQ4ED70PtxCsEYASIBOlEy4UrxQmFY4VoxV4FSAVoRTsExUTCRKwEDAPnw0QDLIKdQlGCBcH1gWVBDIDqwE2ANv+0f0F/Xz82PsW+2H6gvm++A34cfcD97v2l/Z89kL26fVs9Z30vfP+8mLy7fGX8WbxPfEt8d/wSPCp7+7uWu4F7vDtJO5y7tDuP++C75PvhO9L7x/vDu8/7+Tv6vAy8tPzhvUp94T4p/m5+t/7VP0c//8AzQJyBM8F5QbDB4AIGwmtCTcKkArpCjQLSwtGCwcLxwqdCngKUgoaCsgJVgnaCDIIdgeyBu0FUwXXBEMEoQPzAhUCBgHr/7X+h/2H/KP75/pR+tv5fvkv+Rr5JflO+aD5/Plj+gf71fvY/CP+cf+rANYB1gLpAwIFNwaIB+QIPAplC1QM+wyUDTIOAA8bEE4RYhJZExQUexSvFLMUgxSIFMsUEBVMFVkVFxWCFLIT2xL0ERwRMBAaD9ANTgzeCl8JtAcNBjMESwI+ABL+4vtQ+cv2XvT+8dLvpe1s6y7p8+bM5OziZeHp357ebN013BfbJdpL2abYXtiW2EfZhtot3N/dvN+04Z3jjeWg5/fplOxa71ryZ/Vy+Ln7Pf+2AicGUQkWDMkOUxGTE+oVKBiWGjQdeh9XIUwiaSLiIe0gzx+VHkwdnhtyGf4WahQTEvkP+A0PDPwJlgfoBAYCJP9m/Af6HfiH9jv1APT58ifym/Gf8e3xWfK78tzyFPO187f0GvbK92351/rO+yL8KPwa/C/8uvyU/aD+zP8KAT0CbwO6BO8F9gbjB6sIJAmYCf4JuQrBCw4Ncg7qD2ERexJwE/0T6BNgE5YS+xFyEQARnBAJEDcPHg7ZDCILJgk6BygFMgNXAXT/xv0d/Jb6HPnt9//2Pfay9fL06vOu8mLxSPB+7xTvJu+b72rwLvGy8f7x1PFk8eXwivBk8HnwuvDV8NrwsPB58FnwWfDC8GrxVPJ286D0s/WS9hL3SPdG90D3bffy9xz5Cfv0/VoBRQQsBrcGIQZ+BWMFXAZ+CFcLWQ7OEFoSkhKREQ8Q9Q7sDg4QvhHUEnkSZxAwDdYJCwcaBe8DLQNdAjMBXf/R/A36ufdw9mn2PfdN+AP5Ovn8+Ir4O/gI+AT4jfjN+b77Gv5hABYCPgMQBLYETQXWBRYGCgYFBk0GGgdCCEgJrwlTCWgIZAehBkQGSAZ4BrwGAQcDB7MG+AX3BA0EqgPvA4sEEgUkBbgE3wPrAiACbwEUAS0BmwETAjUCyQHVAMT/9P6U/pD+4f5Q/7b//v/q/2z/wP7r/Rj9t/zr/Kf9tv6x/yoA4f8C/+/9/fyW/LL8MP2+/d39Bf2u+in3mPMi8YLwT/GZ8oPztPPX8sDwDe596+TpAOpQ69DszO287fjsOexQ7AzuK/JG+M3++gMQBuUEOgLW/2n/0QHQBgMO4hUTHP4eEB6MGvwWNBX7FXMY2xoiHKobQBlSFVQQTwu8B18G1QamBykHmwQkAJf6OvUj8d3uiO6o73Tx0PL38t/x0O+Y7Rbs9uum7aHw/vPf9tT4Bfoe+6j8Z/4YAK4BSgNPBbIH7AmmC7sMiA0UDj0O+g1ODZoMSQxODPMM6w1dDg4OyQzcCuQIMAcbBrgFsQWwBRYFfgMMAYb+3vyq/L79Nf8HAG7/jP05+wf5fffl9h/3Ffha+Yv6jvsJ/NT7I/tW+vr5cvqR+7b8e/3e/Un+Yf7H/ZP8OPv/+jz8AP4W/7H+Hv1u+yn6wvi49lD0r/LO8i/0T/VF9Vr0KPP38X/wh+5Y7WHuzPEW9uf4Rvlp+Oz3LPjV+Jj5sfsZAYgJJhLUFoQVYRBPDKYM+hC1FncbPR99Io0ksSPZHvUXBxOiEvgVPRktGW4VEhA9C1kHKAPV/aP4XPWb9L70ePM68F/s9umX6cXp4OjL5u7kSeUZ6N3rxu4N8IDwafEo80n1T/f2+PH6/f15AVoE3wUcBucFzgUuBsYGMAeYB8MHKggaCd4J+wkrCeUHuAbZBUoFOwWiBTQGsAbiBrcGcAYeBsoFNAVoBOIDbgRXBt8I1Qr9ClQJAAf5BKkDAwOmAoIClAK9Ap0C4AF+ANH+eP3d/Mn8fPyZ+036GPlM+Nz3W/eW9uH14/Ws9nn3dfc59o/0pfNm9F32yvfF9wn36/YC+B355/iZ94n2Dffi+JL6SvtP+4v7t/xz/sv/EwBZ/6b+o/4s/+D/RwBlAA0BqQJuBGkFGQXRA1QCUAFNAZMCAwUTCKcK7wuuC0EKaQgBB6QGwgdACigN2A+VEQgSZhEeEOgOVA6TDmcPDBDRD24OHQxkCXgGhAPaAID+nvwo+835T/hx9k/0PvJS8IHuAO3b6yLrH+v264Ttiu9q8ZvyNfOt84X0Afb690T6iPyg/rsAlwL/AwAFvAWiBq0HnAgRCeMIYgj2B/UHIggcCLMHCAdYBtoFWAVxBC4DxAHMAIMAoQCzADUAMf8Q/iv9rfxv/P/7UPuo+mb62frP+7P8CP2k/NL7PPss+5v7Pfzc/Fj9xP08/qb+1/7T/qn+sv44/2UAFAKjA54E3ATKBP8EmgUrBnAGcQZtBr4GWQekBxMHjgWtA0ECyQFPAgkDogLhAIf+nvzB+2T7svpv+Sr4qvdZ+I/5MPqy+Tr4uPZI9gb3FPip+Jv4oPhr+eH6QvyK/Kn7ivos+nz7Wf6DAbkDgARPBCIEdwQTBWUFMwUdBQsGVAhEC2ENqg1eDO8KsAqlC6UMxQzQC5gKKwp1CuwKpQohCQEHAgWKA4kClQGKAJH/L/+Q//z/ov8C/nj7M/lq+D35pvp1+0771/qz+tf6gPo3+R/3J/Uq9FH0MvUb9jf2cvUO9Jjyv/Fj8UzxP/Fo8VTyePRE90v5tPnY+Ab4rvgQ+/39IwA6AQ4CdwPbBWkI1Qm1CewI6ghvCtcM1w6WD0oPAg9OD7cPZw/wDfQLkQpeCi0L8QvGC44KqQjhBqAFvgSzA1oCKAGhAN8AmQHsAR4BL//j/Cv7dvqr+gT7//oh+pX4K/dW9t71IPXO83nyCPLc8nj0t/XF9b70lPNR8zb0hfVl9o72hfYc97f4MPug/Sf/2P9dAGcBZwMSBpAICwpyCh4K4glRCkQLSAzfDAUNEA1iDRMOkQ48Dl8NlwyQDEQNpQ3yDBsLAAm6B5cH9gfOB5oGEgUpBBoENQRJA/QADf66+4T6tflZ+CD2uvMs8rTxlfG48LfuPexc6t3phOo662vrO+to65vsie5L8D/xmvFO8jX0Qvd7+uX8Tv5W/98AOgPXBbsHjgj5CPEJvwunDaoOyA6sDgsPIxAcEVQRzRDzD2sPRQ8DD1MOEA2OC0QKSAmhCPwH+AZ/BZcDsgEcADP/A//0/nr+dP0C/K/6+/m2+Ub5W/g/93v2svaZ9x34wPe/9gz2WPYo91v3ZPYR9fL0rPZX+UH7bvti+vX5VPv2/VgAMQG/ACgArQCuAhQFgwaHBpwFJQUbBqMHZwijB5oFYgRPBdEH/glqCXsGigO2AqMEFgckBzoEQQBK/rH/ZQKlA+QBY/5e/Dv9wP88AaX/5fvy+Pz4+fv3/lT/CP3U+af4tvo4/nQA2f8Y/ej6I/tV/Zv/3P+U/un9g/9TA3AGYQZXA7j/p/4FAW4EBwYtBDQAzf3R/kMC7QQzBI0AVfwt+tL6bvzV/Fv7aPni+IP6Pf3N/u79hPvg+aL6df0oAGAAFv7Q+yz8cv9aA+8E4gJp/wf+OQAsBBwGZgS0AK3+rwAVBf0H6QbcAsP/pwCZBBIIOAggBdcBEgH1AkMFegW7A9kBbgG4Av8DogPzAf7/Cv+y/9QAiAF0AYwA6P/i/ykArQDCAF8AzP8Z/wX/jP8TAF8Alf/l/aX8c/yF/df+wP4w/VH7nfqe+w39dv1K/Db6B/m0+Wz7yvzB/Kj70vo8+8/87v12/Q38/Pov+5b80v3O/dH8KvwN/UD/QAEdAhwCiAH/ABsBsAHxAqEE6gVdBi8GNwawBn4HCgj6B6kHhQfdBzkI4QeZBmgFoQUTB5cIKQk0CCkGKASiAq8BEQHIAI0AAQAs/xH+IP2l/Fn8t/uK+of4Vvbf9Cr0MfSJ9Lv03fQd9Xr1yPUF9nb2EffV97f4Tvn0+fL6K/yr/ev+uv8ZADQAwwC4AcwCrgMIBCUEfwQdBQ0G2QYFBwAHBwcxB7kHMQgkCLEHbAc5CKIJ8QqVC/MKxgkSCRsJcQkICasHGQbdBDAEyAMMA9sBawAk/yr+a/39/Dv8zvoT+Vv3gfbJ9kn3Fvfq9WH0qvMi9A/1m/Vv9fz02fRX9Qf2LvYm9mv2Pvfw+Iv6Z/ue+zH7yfoj+xr8a/2L/hL/Tf8yAAkD2wdwDaMR3xJ8EdMOhAxuCzgL4QsVDn8RKRVfF6sWCxT9EKEOOQ0hC0MHYAJh/bz5fPjo+F/65vs7/NT6WPeY8o3tjOl955TnTOnz6yLvFfIN9ej3ivoO/cv+Z/+C/mr8bfrX+d/7UgD7BVELCg9+EI4PsAy+CP4ENQJ+AO//tv9c/1X/uv/tAIwCrwN9A0wBPP1H+PHzdfG18S/0yvef+4z+HgBPAIb/Tf40/WL88fvb+wr81vyW/sQBQwbyCrgOcBB/D5AM4Ai1BZ4E2AWfCGIMqg/PEeYSoRJeEWAP6QwvCiIHygOoAJr+d/5NADgDrQVpBgsFCwKt/cX4cPT/8JHuB+0o7Ars6+y67gbx4/Lx8xL0F/Nw8Wbv+OxC6zXr2Oz676fzK/dP+hP9jv9aARsCLALeAbsBaALeA/8FiwghC9gNbBBlEpYToxNCElEQfQ6IDc4NuQ61D4wQ/xAAEYgQGw+wDEwJiQUaAhX/hPyA+iH5pfjs+JX5zfkq+ef3M/aL9CXzBfIQ8cTwdPE189T1r/g9+1393/7k/4UAYACK/zb+oPyI+2z7PPzk/dD/pgFWA4MEHQXiBK8D9wHh/9r9PPwg+9j6dfu+/Hj+PwCjAaUCEANFA7sDTASrBFgEJAOYAYcAdQC5AcQD2gWwB8EIEwm6CH8H1AU8BPUCaAJzArgCIwNwA3ADEAOtAUr/Svwl+cX2bvXN9MT0LvXd9Qb3q/h4+q/7pPtU+gP4wvVu9Hn0G/bH+XT/DgYSDRsTDBfvGKEYpRa6EwUQlgxPClkJ+QmjC8sNYBCCEqsTSRMAEA8KkAFW93rt6+Ro3t/aHdoW3GngYOW26QvsL+wM6ybpMefw5TjlkuVo55Hq5+849+f/XwkkEhoZlx02H8keCh3RGoYZahnZGWcatBqqGrIashrAGlgarxi6FVoRsQspBT7+pvdu8jLvwO2l7RzuJO5m7fvrNuqZ6HfnAOcb53LnxOci6NXoPeqX7AXwmPTU+Rr/xwOYB28KnAxmDtAPExFAEoMTbBT3FAcVnBRoFHwUsRS2FA4UlRJtEIUNKAqEBsgCSP8F/Cr5zPYJ9ezzJvNr8m3xI/Dv7vjtfu2N7bXt1+0U7kbux+7L7zzxQfN79bX36vkU/F7+twD4AicFMgchCQYLrAwSDkIP6w8jEBAQxQ+XD10PSQ+CD70P0g+WD8MOZQ3PCw0KZgjwBngFFASJAtkALf9u/Yv7r/nd90X22/ST80by3vCN72Huc+3V7MPsIO0C7pDvTfEC85f03fUY92n45Pm/+6/9pv+XAU0D0wQpBlkHdghkCR4KnArRCrwKbQqoCYcICwcUBRgDJwF3/1/+s/2F/a39xP3d/ff9/P1F/rj+Wf+DAMUB7gLIAx4EAQSPA0QDpQPwBDEHFArZDOkO+Q/WD6EOrAxaCg8I1QWXA1AB7P5p/Bv6I/iK9mv1fPSd87Dyv/FB8C/uE+y56a7nZeac5WPleOX/5X7naur57n31pf1xBnUPkhcmHt4iXyX2JVolNiQsI0wigSGUIDAfCh6MHZcd+R3pHRMcCBhvEc8H3/vd7h7iWdegzyHL7ch7yEDJ1MpdzVjRydZe3bnkxesO8hf3z/qc/ef/YQKQBaEJyw62FLwaiiB9JVgpMyyXLU0tNCsGJ9AgCxl4ELcHdP8o+F3yBO736iPpGeiB5zTnyOYV5u7kBuPU4KbeqdzM21zcTd6w4UTm5es78hD58P+mBuYMQhLRFlka2hyHHlYfeh8UH3YezB03HaYcORzIGxkbDRqsGOgWjRSSEc0NQQkeBIj+9fin89Hu5eoL6GjmMeZF54XpxuzP8F/1Afoe/ksBQQP5A64DugLNAU4BfwHgAjwFVgiwC8QOFBEUEo8RiA8cDKMHPgJu/Kj2QfEN7SnqjehI6MHouOnu6g7sBO387e3uJPC38YPzfvWU98H58Psz/osAEQOBBaoH6gnbC9MN9Q/YEaQTVRWjFoYX4xd+F6oWdxXYEz0SkBALD8UNowyvC2sKpAhqBqgDOgBs/If4tfRn8b/upews69rpp+hl5ybmCOUw5NTjwuP8423k9+SB5Wfm++dX6rTtsvHS9eH5mf3dAA4ELgdNCnoNbBACE/AUFhZmFhMWhRW8FAAUaBPREksSuBEuEZIQsw+fDmUN9ws2Cv8HcgXWAnYApP5y/QL9L/3h/ff+8f+7ABcBGgH2AIsAFwCU/xP/sP5o/nz+0v5Q/+n/RgBFAM7///7H/Yf8Z/sY+vn4FfhT9/r2x/aY9nL2Ffa69TT14/Te9NP0K/WX9a31ofUz9Zj0CvSS84bztPP082z0P/WD9uv4qfxTAoMJahGNGe4gCSeCKwcuYi7tLAIqCiaoIXAc4xamESkNhgpjCXoJDgoyCjoJmwZgAYj5kO8y5PvYmc6jxYi+c7nYtu628rkRwOXItNMx4D/tA/rZBdoPBhhXHqEiQCVMJtElTCQGImQfCR2nGzMbnRt1HN4cAxyiGVoVQg/UBzj/UvZr7czkHt0Q11rTBtJa0wXXYtwT4y7qC/FX97z8bAF0BeAI0gtTDlgQGxKsEz0V2RbdGA8baB3SH7Ih9yLxIowh5R7IGpcVXA9/CJ4BwPqs9L3v/est6tTpuOp07FjuUfDf8R3zA/Si9Cj1xfWn9vf33Pka/Nr+6gFBBQEJSwz4DtwQwBHWERIRHw9gDBUJLQVUAQv9tfjL9EDxue4v7V7sE+xg7D/tHe737o3v6+/47/Dv9e9A8AHxKvIa9PT2t/oN/6cDXwjxDB4RsRSEFy8ZkRleGJYVsxH7DLcHawJ6/R35/fUQ9Enzm/OA9O71nfdE+cv64/t4/OD8P/3H/bz+2P8KAU8CbgP9BNYG4wgICxwNIg/CELsR0hEeEeQPgQ73DGsLuglgB28EPgGC/kL8kvpt+Vz4/PY59fLyZ/D07drrXOqx6e7p8+rz7AHwT/Sy+en/qQaYDC0RDhQpFRoV7xNJEnMQXA5IDBEK5QfhBe4DeQKnAWUBSQHqAO3/Vv5e/ET6M/go9gv0+/E48OnuT+6U7sDvz/GA9Mr3XfvK/swBNQQxBscHNQmkChsMiA3EDuQPChEeEtISFBODEgIRpg50C8MHowNK/0H74fc49VrzPfLx8Vjy9PKm8170nvRa9MTzD/N38jvyIPKF8inzHfSN9Uz3ivnp+6b+uQG3BCsHBAkKCgEKlgjFBXcBBfzZ9VLvGemt4+HfC96j3u7hyucj8JD6Cwb8EW0dpCf8L301/zcxN1w0EzEuLdgo0CReId0eZx1sHHwb4xn3FpQSlAyJBBj6v+2y4NHTZccpvGqzqK3RqoerK7CmuLjENtOm4/H0qAUXFWEiOS0INXU5zjpkOf81uTAhKlAjMx0oGGQU2xEFENwNrwp2BhgBOvqp8ennyt2C1IvMEMbzwYTA/8HLxv7Op9l75WzxDP0LCN8RAhpfIBwlYigyKscqQypvKMElgSKqH9gdthyfGzkafxgTFswS1A4dCm8E/f0J9wzwbOlA4+ndUtry2J/ZXNxm4W7oVPBZ+AQAwQYcDMMPXxG/EFYOfwqxBckAFfwP+IH1gfQd9ZT2Efh6+Ub6WvrN+f/3AvV/8RbufOuV6WTobejl6T7tYvLM+Lf/RAaQDIQSmBdNG9scIB3UHMUbQxo1GI4VuRI2D0ELkgexA5n/KvsO90/0Y/Mk9Rz55f28AsQHCg7BFNIZ3htIGz0azBmlGGcVXxDsCgoHogUPBgQHvQZXBYgD6AAL/Bj06Ok934fVoMzSxOm+6rrtt7C2WblmwLDK2tbV45PxAgCcDeIZaCRKLJMx2TT8NvY2TzOtLFglLx8nGpkVtRECD48MqQm1BvIDbwEL/oL5yvTf733qreRh34bbp9nj2QXdUuP26nTyq/kbAd0IABCOFVYZoBuEHB0cWhvJGp0aSBpEGjwblBw6HRkcZhmuFZgRCQ1ZB6MAs/jB76znJeEk3IHYCNZy1TjXrdqL3h7iLeVB6MXreO/78sn15PeP+Xv7of2r/8UB8gNaBk8JtgxHEL8SmBO5ElwQeA1vCiMHLwPi/jT7GPl8+J/4Ofib9yv4f/os/vsBtgSfBmIIqQlJCtQJ2AiHCFIJtgtJELoXRSGjKgYyTTffO3s/mD+wOrExHic/HWoTGwgQ/H7wgOc54ivgc9/D3fba3tfo1PzQJssIxFG9PLfzsUqu86w0rjOxP7YqvyzNbN6L8CICZRKUIWUv2zpvQ6BHZ0fHRIlATDq0MW4n3x3JFvARog4cDIAJ/wWNAVf8y/Zh8NHoJeFY2uHUotAkzhTO4tDG1s3ffeun+BwGmBKsHQgnzy0lMhs0uDO/MZIuFiv8J6IkiiG8H0of0B+9H6Ee4xy+GcsUrg0EBY/7efHh5i7dx9Uf0frO6s7+0BnVndqQ4DXmQOvr70z0TPg7+6v8+vxC/T7+pv8hAeECOwUpCM8KiAz2DN8LaAmUBf4A9vs/9hTwW+mF42Lf+txQ3KHcB94n4T/msuzB8vP3yfz7AXQHGwxMD5cRmhPDFU0Y1hpnHewfWyJSJZQpBy9MNZM6fj1qPos+SD5aO4IzqCdrGz4RyQcz/b/xDOif4hDhx+ES42bjGeKd30vcp9cV0XHIdb9XuCS0arKZsi60H7fqvOTG+tTA5Efzcf+mCd0SJRuFIZslXSebJwAnuCXjI7QgUxwiGIgV2BQqFWYURRH3C5MFZ/+e+ZzzIe255l7hLN5U3Z3eFOJJ6ILxr/xOCJMSDxodH0IiEST1JIAkYiJRH2kc7BqPG2AerSL7J/kt0zNtOK061jlYNl8x7CqXIsIY0A10Aqn3fO6e6HTmVObx5sXnKOn/6tXryOog6NvkF+GX3CjX5NC3yt7Fi8NYxHrI287t1YXcKOIw5wXsD/Br8oTzDPQt9EfzK/EV77Ptiu2/7iXxpPQY+Ef6hPsn/fT/BwM1BUMGBwd6CDwKigtPDF8NnhB0Fn0dGySrKZEuMDOAOCg/OEaNS+FMiUo8R9RDlT5/NeopaSD9GoMXnxIfC2kDRP7o+2T6Nvcx8bro2d4L1HDIQ7wRsO+keZwAmFSXT5mdnPSgN6jbs+jC49I14YTtrPg5A3kN3RYHH8MliysPMUc2EjtiPus/pUDcQdtDXEWSRFZAwjhVL5slGBw9Eu0HtP3x9F/vCu0V7anuV/Ei9fH5ef+QBLAH8wcFBq4DBQJfAMH9fvrY95H3zPmY/VQCGAeuCxAQ6BPLFtgX3xY2FIwQtwzkCIoEOP80+aLz/e+67g7uqOys6uroMujw56LmZuMN3+La9Ner1WDTX9FC0CPR1tOb19XbR+C/5ALpnu2O8kz3H/vq/YEAiwMlB4gKWA3JD/sRkxNyFDoU6hL1EG8O/wupCrQKZwsoDIoMUw09D6kRyRMvFaMVkRUNFRMUWRJEECUOagxUDJ0OMxPoGCceDSLzJDwomiv2LN8qFCboIPkcdBm+FE0OHwg+BA8DdgMxA/QAHf02+DDyk+pe4RvXHsxowUi4nbGIrXGrYaqSq+GwobkRxNTNYtaC3rfmpO5t9VX6gf0uANkCgAVnCFELdg6EEqAXAB6hJFgqaS6wMC0yMDMUM18xui0RKUwkYiCjHaEbXRq8GcAZbRoyG1kbMBpdFyMTRg6LCWME+f1z9gbvYOku5v3kQOWU5gzpf+xX8Bn0gPcu+gz8uvyg/Fn8+fsI+yL5YPfv9mL4g/qd+8/7+PtV/N37H/pv92z0EPEp7QzpReV84sjgHeBu4GDhc+JZ4zrkXOWl5sbnBumJ6lbswe788Z/1Uvkv/XkBgAbqC3IQ6RNvFg8YyRgfGIQW+RRCFC8UWxSoFHEV7BYLGQwbfxxPHWAd0RyDG3UZNBccFcATlxM6FYYZ/B+XJikrey2SLkYvci5TKigjCBsUFD4O0ghRAyz+Yfpd+An4Z/jZ9430ue0/5KPZCc90xB25p61IpDOfup47oUGlnqrIso6+RMyh2b/kEu2587X5ev9xBc8K7A6CEYETqRaOGxohRCXyJ9YqTi5hMSYyci9DKjYkQB6MGBITzA0lCRIGBQXXBU0ItQsQDzMR0BH7ELEOYwrgAyz8BPWD7yTr4Oc95uDmuOks7oDzRvka/y0E4AcGCpkKlAlYB3MEngG7/8D+U/6W/qn/wQE1BC8GMgcXB0kGUATmAKP8wfem8oLtduhA5BrihuLK5Anoe+vC7mby/fUq+e/7Af7m/3MBewJzA2sE3AUECLgKBw6nET8V5Bf2GMwYzxeMFsYUGxIiD2MM5QmzB18FZAMXAgwBMgDh/iX9kftK+sr5q/rx/BMAeAOMB88N8xZZIeIp3i5AMb4yxzIgL1Innx0pFdUOgAn6A9L9//e085nxg/FE8f/tgubO223QFsaWvNayM6iSnjuZoZl5nsmkXqvBs4+/nc793e3qsfQ3/K8CRQlrEJ8XaB0YIR8kdCgmL6c2RjwwP2JANUE3Qdk+1ji9L8IlTRwfFDYNUweVAo//hv7G/2ID9QeYC/oMjgw1CzAJyQWjAMX6M/Zf9DT0tfTk9Zr4Wf06A9QISQ14EBYSoBH5Dg0LCAejA70ADP7E+4f6pvrY+x79Av4l/kf90vp49vzwjuuG5svhx90i29Xaltxz3wHjBufL67Lw5/Tf95X5ofp0+6z8fP7+AAcEywZSCScMkg9sE8cW/xjOGVYZVBhYFrQSHQ50CTYGsAT7A9sDdAOaAjQBjf+F/rn9bvw8+tv3b/YX94j5IPxp/noBAggmE08g0CqYL8Qv4S2VKpkjrhekCaD9j/Xe7ybqqOQJ4fbf++Dc4pPk0ePy3RTSu8KvtAGq06Frmw6YgZu5pvO2RMiV2F3p8fthDz0hiC6RNq86xTz5PotCv0cxTUtRzlIJUvtPLUwzRbI5LyocGbIH4PXZ4z7Ttsf8wprEtsp+0y7e5egw8ur6hQQSD30Y7x2WH9kfXSHXJPIouSyPMKs0hjcPN4gyQyoTH+0RBgTR9pjrDOIV2djQ48pByZrL4c931FXY8Nso33LhP+M45Z3o2e1P9HH7sgKTCdYPyBRiGHsaMRqUFkUP3AWf/Nb0OO6N6PDj1eCj3uHcb9um2qzalNpa2RvYUdi72t3f4eYL8GT7Ggi3FOceHyZBK74uhzBNMD4vgy5jLsEtnCuuJ7Ii+B1vGasUag+6CTQDxfyp+fH+OQ6gIdAwxjdzOTg6tTdALIEX/AAU8ijsiOjc4pPd49zv4d/o4e0S8IHt2uLXzky2SqLSl+eUKZYjnaStYMam4BL1YQIpDGwU6hlTG9YY1RRFEd8PkhP/HSYt+jtMQ+k/ZzSZJKQTsABV6mvUgcShvv/BP8sf2QLs/QJqGnwuDD2eRQ9Hb0GMONgyPTQjOl4/fELKRZRKC06OSvE9BypVERL19NWCuC+iYZUBkhGWaaEFtMTKy+Bw8Sr8EQMBB6sHswVYA64EMgwAGccoWjhfQ59GI0EKNHshfwsO87DZncJVsX2o6adqrK6zorzgxeTN7NHV0M/LlcWfwl7GkNJk5UP7TRFrJeA2nESrTNdN3EeRO70q6heJBij5cvE470jxHfa7/CwEvAnFCw0JUAPn/vT9fAFlB0EOwxaUIPwr6DmKTFxjWXf/fyN6bGmxU1Q5Txfq8MvPur2Ku6vAoMVIySvOntSx2KLYoNQXzLy9vKpcmZKTXp1+sy/Qx+6SDk8syUFGST9BXi+EGuUHYfmt7hvpD+kO7iz4wAVMEnsYzhEe/W/gv8OGr4qm/qYhsXvFWeMMB7Uoe0M6Vnlg4mFPWgJMmTvILO8hCB3hH88rJjw/Sc5Lb0EULQMTT/bi2Gq9E6fGmaqXaaGPtdnP2esqBI4VUR85I7EjbCFRHiYciBy+IEcnrS0kMXUwDiz7I+0XUgcL8j7aPsMCsG6kNqLJqAq0Br9+yJjQMtgs3xvkrOg+72r4gwMvDlQXqR8YJzcsJS21KaYiSBj+Cdv4+edn24PUZtEf0VnTGdcn2z7ei+AS5FvpffE8/TcMTB7hMKlBDFDYW7pkYWl+aAxiBVZhRlo1jSXfGy0dDircOoNFTkPBMysdcAJ14lvBMajZoPSsjcLm127o3vTh/tgEoATs/GHt79bMvGan0qD/q5TDQN5K9ckG3A/qDD38iOExxpiyJ6vbsATDEt9V/vQZZTCcQCZIGEM/LnEOIO7n1sDOKtUq5jH90ROMJckwfTMpLb8emQp19n7o4uTy6z/79BB8KTxCjVe6Y9xhslFON0IaNQH97lrknd9Q4KflqO0W93D+ugB5/MvzJusJ57Hor+5G908C6g/jHZwmKybeHV0RjgXZ/Hn35fWS90v6PvtA+pr3QfSM76vnDt6B1M3MzMgLydzNTteU4+/vs/rgAn0GhQN3/AP1y+8d7arrL+pC6dPq2+2r8BXzzfUH+Gr5uPn1+Sj9ZgJ5CKAOZhVqHVMlhCxhMbYyjzJuMu8yTjP/MPMrDyZxIRQhPCihON1O/GAaZbJY/kC+JwgNTu6Q1EPL/tmT93MQ3BudGv8S1wgs+YzmuNTLw8CxdZ+2lemcUrESx/bTIddY027Kj7tdqJyY9ZPrnD6yf9E79IIRSSP2KPUn7yMZHM0Ppf4B7izmLevJ/CcVQCufNzM3cy4cItoTfQXo+W313/oECC0YDScRMk03VTa8MNkoISLfG+kUKhDMEDQWTBw1H6EcBxSXBk34quyw5l7mkepS8/EA+xLSI6Uv+TMMMiErtR/aEEEDtvo/+YH9igMbCSgMmQp+A3D29ebZ16fNLsfHxCfHt81C1XLchOHR5qHnsOfc8Vz1Z/RB9QT2FPcX+W/6OPqc9670nvL88CTwde98747xi/RL9gH3i/ln/Gf+bQCtAs4FOgoFD/oTxxgxHJsdPx5CHdEb4Bm5FcwREQ/uDcgRBxy3KWMz9zJmKG8YQgnx+oDtcuUM5yLzxgJ1DUAQ2AtxBD/8gPPB60DmOeIU3nzafNu947nv+vig+jj2Yu925yTee9Wk0ajUgt0d6uT3zQRkDtMQRQ1oCF0GbgezBw0FnAEIAVEEYAqlD5URfw9CCvQDXACy/6UB+wTLCGkNtRFvFGEVpRP0D7cM4wv0DfURzxSwFSAVFBOvEBANAAjBAuP8affX82XzKvbD+ib/9gL8BbIHVgeXBYQDigEzAH4AGwL5BK0HLQktCbEH5QR+Aar9pvk69lTz0/DP7rXsBeuD6VDobOgW6j3ti/BN89v1v/ij+6D9b/4H/vf93v2E/RD94Pu4+Yf2VfKz7lPsK+vh6vXq0uwd8Sr2XPtE/w4CegS9BhAJBwy6D5QTphYMGekayhsyGzoZvhapFGcUKxgSImUuhTWxMT8jHBGRAgP4S/B/7E/wvPxeCwIVRhYjEH4GqfvT8WXs1+tp7RDtP+py6YXsBPGE8m7u+OZ239/YwtTi1EPaeeO87Cj0ePqn/2MCzQBn/If6sf2IBIILlQ8bENANqQllBakCtgHqAAX/M/0g/swBWgYHCqwLpgt/CjsIsga7BlkIJQuQDhwTHBltHnIhZiGAHosZ9RLyCxcGxgFi/gP7O/hv99D4O/tj/fP+MQDqAPQApwBUANf/3v5C/aj8RP6xAVwFTgcKB3kFkQO8AZf/ZfyT97DxE+wM6BvmjOVX5YDlKea55gHnQefT6KPs9fE09yT7Av5QAJcBCwGW/pn7n/kQ+fL4D/iH9pD1MPY0+Cr6X/ss/Nj8f/3W/YL+KwG6Bs0NExRAGDQaNhqOGGQWTRVdFqoZlh72JbMw9jroPe80/SFrDcj94fNg70Dx6/qKCS8VDhjaETwGHfkc7ZblnOUl7BP0H/h892b1+POV8qXvButV5mbiUt8u3pjfU+Oh54vq3exv7+3xCPTH9ez4dP53BDgJcAvVCsYHUQKG/EX5efnD+7j9Zv69/jP/wP5K/bf78frH+5n96wAYB2AO3xPCFR0UGxLnEVcTkRaVGkseaSC8Hu0ZzBM/Dc8G3ADY/DH8/P0MAFoAyv4b/fT7VPsg+y775/ut/Jb9y/+YAy0IngtRDPQK6giOBg4ElQGG/3z9s/rj9vzyr++G7BLpw+Ux48fhgeGy4ZLiaeTy5r/puOw28E30Jvig+pT7Jvx//Sn/ewD9AOIAHwEKAkUDHwQNBNwCoABV/p78P/wL/mIBBwV9CKkLng7SEJgRKBG0EKMRURUlHXIpmjeuQRtCojdNJo4UwQbx/ln+swRsD4gZKx2GF84J2/cJ6HPfjN/F5c3smPDb72rrneVs4LHd49223wriOeRq5rjoCerX6bPoX+h56g/vLvWq+5EBPwY3CeMJTQjrBFgAUvyg+mr8SAE2BtkH4wQM/qf1b+5h6trqrO8G97r+QQVGCqANlA4XDcIKkQrCDvkWgiBsKAotcS1LKb4h6hg0EQgMTAl2CPwIlQlHCM0DevyM9JnuwOsN7JTuvvEW9LL0PvTw9E/4+f1YBM0JxQ0bEIgQTQ/3DP8JpgbrAlf/ZfwL+sz3APUY8Srs5ebK4c/djNuA21zdHeB042vnA+x58LTzqvVj98H5zPyh/9YB0APZBRcI/AqvDgkSexM8EnAOpQmkBekC/QGSAswD6AQ1BbYE8ANQAyYDAAUhC/wW9iUoMVozniyDIX4X8BCeDhcRABdIHTogHB5sF9IMbP/g8n/sw+679af6Uvkm8SrlW9l20W3Q3tVO3hvmAeul7JrrZ+gi5EThIeKs557wlfo7A7EINQoJCCsE6AAs/5X+sf4OAC8D1gaNCI8GBAGe+Sfyk+zZ6jjtN/Ik90P64fu1/P38Dv3c/VwA8wQyC1oSvxmBIBklXiaSJMEhCCD+H9AgSSFTIEYdEBhPEcYKeQXoADv8f/fo86TxnO8Z7XnqRemJ6iHuPfNn+Cz8z/24/ab9jP/OAwAJCA3QDooOCQ01C1cJUgevBCoB/fwU+G3y2OvV5Ifex9m019XYBd2n4qHno+qW66nr7+vy7CDvwfIn+En/YAefD4oWlxrfGv4XjhTKEuQSzRPiEzsSDA/oCmwGJgJR/vz7a/1GBFoPyhiPGgwUmQkrATf+ZABFBykRixpIIJUg2Rv8E4cLswWEBdEKbhE3FA0QDwV49qDoaN/83AbgxuRM6JXoQ+W735jZwtQX033VGNyr5WTvbfb/+L/3EfWd8wb1Uvlq/2oFzgkjDGwMOQsOCSEG/AKbAA0ADQEOApwBNP/x+4z5N/lf+37/9gMFBwoIsgeFB3oIcgprDScRiRW2GrYfjiMdJb8jQiC4G4IXgxThEm8SNhLeEIwNjAimAvj8X/hI9bXzUfMe81jyHPGP78LuXu828Q307fYJ+Ur6dvrM+Tr5CvoS/bwBHAZCCPMGWgLl+0z16O9m7Azr0OtI7i7xLPN08zbyCvBb7f7qK+pV66nt8O/A8a3zo/be+vP/YgUUCoANaw8BEAMQBhBmEEYRJhJQEqoRNhD6DZULbgqjDFQSHxf4FuARvQpWBdICSwJJBHoIMwzEDHMJ4QPO/rX7p/sx/7wERQn1CS8G3f4a9hLvJuxT7nnzxvdQ+cH3OvRH8Jjs9+lA6WfqEO1V8B/ztPQb9cj0ZvTU9EH2H/ju+T77SPxR/RT+Kf+AAe8E7QfeCKUHsgXUAwICTwDA/1sByQSuCG4LVwxDC9kHaQNDAAMA1wLjBvgJsQvBDLQN/g4pEOwQihHoEf8RlBGaEEwP0w1hDF8LNQuvC9kLwAoECLMDs/4K+q72WfWe9ez2lPhE+X74B/Z58n/vse0f7ejtAfCM85H3v/py/FP84/pV+Y74/fip+eH4OvbP8ozw0vBA85/2i/kP++L6wPhZ9R/y5O9f78/wv/Mo+Dz9YAECBDoF6QUzB90IwQq9DIsO2w8hEIgPcw5fDasNxRDKFpcczB1yGaQRFAqMBckD8wQ/CbAOgRLaEeEL7gKS+lf2j/hRACYJIQ7UDLEFpftB8gHsUOoH7enxIvZe9+H0JfAU62TnYeYE6Fnr8e5W8SPySPLC8g70P/bN+CD76fwr/oT/aAGoA+0FBAgOCsELVAxyC3kJLQcLBZMDFAOlA+8EaQb1B6oIogcFBUsBN/5O/Uz+vACvA6MFXQZbBmIGRAfuCLoKpwyIDucPmRAxEOQOlg3fDPoMcA0qDb4LiQn0BiQEUgHT/hD9Cfww+9v53/dD9R3y8+4S7PXpNum86Tnr+uxm7sDvZPFr83z16/a19134Wfkq+hT6MPkP+P/3sflM/P3+4QAvAQ0A9/2c+/j5h/kn+qn7kf3w/rP/XwAyAVgCnwOWBLwFMAeMCOwJ+wpiC4ULkAtyC6cLWwz6DWcRQhWiFo8UdhD1DB8MyQz/DPIMqwzrC1IK/AZxAs3+lP2V/y4EsQjOCdIFrv049ObsSupx7GDxJfYI+Gf2QfIS7TToyeS+46blBOom7yPzzvQx9CnyJ/Ca7wnxafSS+CP8Hf+sAQsEKwakB5oIcglyCoQLPQxsDAcMYQvLCkYKAQo/CvMKowukC1AKwwffBJ4CcgEcAe0A0wASAecBHAP7AwMESQNaAv8BgwKKA60EkQUiBmwGXQb2BV0FkwToA6wDxgPxA+gDYwNYAgQBj/9E/l79d/xb+zn6CPnr95r2tPTV8r/x4vE48xv1AvdM+Ib4wPdh9j71wPTv9NT1afdE+eX67/tL/CX81fuW+6P7X/zK/bX/lgHSAlMDPQP6Au8CcwO9BIYGJQgBCQAJpwisCB8JqAkpCoQKxQrGCiYKDAkICDkIRwpCDbIPZxACD0gMOwlkBl4ErwNEBFUF3gVOBdkDVgJLAXwAaP/K/eX7X/o7+Tv4aPex9kP2MPYJ9sj1MPUD9KbyZPGp8FnwG/DQ70/vy+7A7oLvL/GX8wb24vcc+ST6S/vF/GP++/+lAVgD/gRcBkoH0AciCK0IlwnfCkwMYg3jDagNnQxHC28KXArMChYLjQoqCVsHogVABGcDWAPNA3wE8QSLBIEDJALWAEYAegA2ATQC+QJjA2sD9wIMAtMAaP8R/hT9dvxM/Ij8yfyi/Nr7Vfpp+In2A/UH9MHzUPSW9Uj3APk1+rf6kvoP+rv56PmF+lb7K/zV/GP9//2W/h7/iv+1/7j/1v8CAC0AOQAAALb/kf+0/wUAEgCx/zT/Mv8bAPQBLQTjBcMGxgYmBnIFHQVXBeoFbwbLBkYHNgikCRIL3guMCzIKQgg+Bo4ERwNgArkBOAHWAKIAlQCNADoAev9m/kb9gfwz/Dr8TPxj/In84PyW/ZP+lP9EAHYASQAHAPT/AgDF//b+rv0//Mr6a/k0+EP3tfaL9qb26vZw9zD48fh5+cD59Plu+ln7lPz5/Yn/IAGTArwDegT5BG8F1gVBBrQGHwdxB4UHOQdqBiwFvQNRAgkB/P8r/8H+wv5A/1YAwAEPA9sD6AN3A+gCcgIaAsoBqwHZAW8CSwMbBKkEyARnBK4D3gIeAnwB2wADANP+bf0s/EL7rvpW+hb69PkA+hT6JPop+h/6OfrA+s37JP1N/sf+af6B/ZP8HfxX/DP9df69/80AlAEJAgICfwGZAKL/9P6J/kn+Hf4q/rL+z/9gAd8CuQOjA7UCdAGSAGgA8QDrAQYDGgQVBeYFZgZ7Bv4F9wTQA8cCDgKuAWYBPAFIAYAB3AE5Ak4C9QFAAVQAXf+P/vr9bP3l/JX8ofwc/eD9hP7I/qb+U/4s/kr+kf62/m/+u/3o/Fz8U/zB/Gn9Af5k/qP+3v4z/4z/qv+X/3H/aP+o/xoAjgDwAD8BawGNAaIBkQFlASMB5ADWAAIBTgGsAQsCWQKJAqcCwALBApYCEQItAS8AUv/j/iL/8v8GAe8BOQK8AZgAKP/S/eD8i/zd/L39wv5o/3r/A/9a/uv9//2X/nn/VQC7AHsAxP/f/jf+Fv6I/nr/tQDgAZwCqAL8AdAAhf+G/ij+cv4u/wYApADUAJ8AOwDU/4n/Zf9R/zf/OP+B/xoA4ACUAQMCJgIPArcBPQHdAKUAuAAOAXwB9gFDAjoC3QE6AXcAxP9D//7+9f4V/0P/Yv9U/xX/u/5r/kz+df7e/kf/e/9//2n/V/9X/13/W/9U/0v/Rv9T/2X/bf9e/y//9f7U/t7+Bv9B/4j/z/8dAHEAnwCKACMAgP/+/vz+lf+YAJ8BTgJ0AiACkQEFAasAlwC7AP4AUwGmAeMB+gHQAXQBAAGMADMA9P/S/6//dv9M/03/lv8FAGYAmwCeAIUAZABQAFIAbgChAOgATwHPAVQCsAKzAlkCsQHiACMAo/9p/1j/UP8s/+3+m/4e/nr9yvw6/A78Tvzp/LP9Y/7O/tT+iP4u/vn9CP5P/rn+Q//U/1YApgCbADIAh//c/nr+i/4J/7z/WQCvALkAiwAzAND/df8w/xj/P/+s/1oAJwHaAUsCYgIwAtoBfAE3AR8BQAGgASoCswISAzYDCgOSAvkBdAE0AUcBowEpAqwC/AL6Ap4CCwJ2ARAB/gA3AYwBzgGwASgBZQCT/wf/3v4N/3r/zv/T/3T/wf7v/Sz9rfyO/Mr8Pf2w/fL93f16/ev8UPzV+6r74Pt3/FH9L/7P/hH/6P5+/hT+2f30/Wj+Hv/h/4kACQFUAXMBZQEvAe8AtgCaAJkApwDCANwAAwE7AYABzAHxAdQBegEaAesA/QBMAZ0B1AHvAe0B5gHbAcYBqAF7AU8BOwFSAZIB3gEpAlgCUQINApIB7gA+ALr/bP9x/87/UwDeADYBNAHMAAEA//4D/k79Dv1R/fT9tf5g/7T/lf8W/0v+c/3Z/Kf88/yv/Zv+bv/z/wkAyv9V/8r+Vf4M/gD+Sf7t/tj/4AC0ARAC1wEaASQAOv+b/m/+t/5X/xsAzgA0ATkB7gB0APz/nP9o/3H/p//5/00AkQDLAPsAKAFXAYEBrwHnASACWgKCApACjQJ0AlQCNgIlAiACHwIKAsYBXAHTAFYAAwDi//3/PgCJAKcAewACAEv/jv7q/YP9d/26/TH+sf4N/yz/+P6D/vH9bv0W/f38Hv1m/cL9Fv5n/rT+7f4K//v+zP6V/mP+Tv5t/rj+Kf+X/93/7f+2/0v/zv5r/kj+fv4L/7r/YQDTAP4A9wDMAK8AxAAMAX8B/gF0At0COAOGA7sD0wPKA5cDPwPGAkoC7AG+Ac4BCQJUAowCfQIbAnoBrwDj/zz/2P7C/u7+O/+E/6r/l/9P/9z+Z/4V/vf9Hv54/uP+Pf9u/3D/Pf/p/pL+Qv4N/g3+P/6g/ib/p/8JADgAKADt/4//MP/y/uT+E/9i/7L/6P/n/6z/Sf/h/pf+f/6g/uj+N/9q/2X/Iv/B/mv+Sv57/vP+jv8iAI4AxgDRALsAmgCNAJ8A0gAeAWcBmgGpAYsBUQEZAfoA+wAcAU0BfwGqAb4BuQGfAW8BMwHyALkAkQCBAIwAqQDJANAAsgByABEApf9H/wf/9f4F/yT/QP9I/zf/Df/o/t3+6P4Q/0n/f/+1/+f/GQBJAGoAcABOAA0Atf9L/+7+t/60/uL+Mv+J/8r/5P/E/23/AP+W/lP+P/5a/qT+B/9z/9L/CwAbAAAAyP+K/17/V/98/8r/MgCYAOAA/ADfAIoAFACe/0j/KP9P/7X/NQC3ABQBOQEpAe8AsQCJAJMA0wAtAZABzgHJAY4BJgG1AF8AMgAzAFcAgwCeAJsAbQAcALv/Wf8Y/wT/Hv9c/5v/wv/E/5n/UP8C/83+u/7L/vz+Q/+Q/8v/4v/N/5H/Q//7/s3+0/4R/3f/6f9FAHcAdQBRAB8A+/8FAEIApgAfAYcBvAG2AXoBKAHeALQAvQD2AEUBkwG5AasBdgEfAboAWAAPAPP/+/8dAEkAZgBoAEQAAACu/2H/LP8Y/xv/If8j/xP/6f62/oD+VP46/h3+CP4J/iH+Xv68/iD/hf/b/xQAOABGAD0AHgDx/8j/rv+w/9P/BQA+AGgAdABpAEQADwDd/7r/v//1/1EAvQAcAVkBZAFEAQYBugB2AEcAPgBkAKQA8AArAUMBOwEIAbMARgDL/17/Ev/2/g3/R/+S/9n/DAApADUAPAA/AEUAUQBXAF0AXgBSAEAAMAAnACcAMgBFAEwAQQAnAP7/zv+o/5f/o//G//n/KABCAEMAIADi/5//Y/88/zb/S/92/6b/zv/j/9z/uP9z/xn/xP6B/mP+bv6W/s/+Cf84/1f/Zf9o/2X/aP94/5P/vP/v/yIATwBtAHkAfAB2AGsAawByAIUAoAC5ANAA4QDuAPwADQEmAUIBWgFqAWsBWAEzAQEB0gCzAKoAswDFANQA2ADIAKIAaAAjANj/k/9h/z//MP80/0v/cv+c/8j/5P/q/93/sv98/0X/Ff/9/v3+E/85/2n/l/+q/6H/fP9E/w//5/7Z/uf+Ef9X/6L/3v8EABMACQDn/7X/hP9d/1H/bP+k/+v/LQBcAG4AWwArAO7/sP9//2P/Yv91/5n/yf/+/zAAXACAAJcApQCxAL4A0QDlAPEA+gAFARUBKQE9AUwBVgFaAVUBRAEmAQEB3QDAALcAwADWAO4ABgEcAR4BDQHnAKgAZAAmAP3/9P8AABIAIQAgAAkA3P+h/1b/Bv+3/nb+T/5H/l3+hP6r/sX+0P7O/r3+q/6s/sP+5P4H/yb/QP9Z/27/hf+a/5//mv+K/3L/VP84/yv/Mf9M/33/uP/0/ywAWwB1AHYAYgBKAEEASgBpAJcAxgDvAAQBCQECAfAA3ADJALMAmQB9AGQAXABpAIsAvADwACMBSAFYAUsBHQHoALsAoACgALIA0gDvAAQBBgHzANIAkwA8ANz/ef8l/+z+0f7W/uv+//4F//7+5f7B/p/+h/6B/o7+rP7Q/vb+F/8x/0P/Tf9X/2H/Zf9h/1b/TP9I/1D/Zf+E/6v/0P/7/ykAVAB7AJAAkgCFAHEAZQBzAKEA5gA1AXgBnwGhAXcBLQHUAIEAQQAcABgALgBUAH8AngCsAJgAZAAfANL/j/9i/03/Vv97/7D/6P8MABcABQDS/5D/T/8d/wb/DP8q/1L/fP+f/7b/wv/D/8L/w//M/9//9/8VADkAYwCMALAAzADZANgA0AC8AKMAhgBlAEYALwAiABsAHQAeABYAAADj/8r/sP+c/5L/iv+H/47/lv+h/6z/tf+6/7n/t/+w/57/iP92/2X/X/9j/3X/jv+r/87/7v8FABsALAA8AFQAewCuAOcAHwFHAVoBZQFxAY4BvAHrAQICAALvAdABtQGqAaoBsQG3AbABkwFlATQBBwHnANcAzQCzAHYAIgC5/0P/5P6m/oj+bf5M/hH+tv1V/QD9zPy9/NT8Bf0z/Vb9b/19/Yj9o/3W/RT+Wv6i/tr+C/88/27/rv/3/0QAkQDOAAEBKgE/AU0BYQF7AZkBvwHtARgCOwJNAk4CRAIzAhoCAQLtAdoByAGoAXUBMgHhAJUAVgAmAP7/1f+d/1v/D//E/ov+a/5s/n/+nv6+/tf+5P7i/tv+0v7M/tj+8f4V/0j/gf+6/+v/CwAhACQAHQAYABUAHQAvAEgAXgB/AKwA3AAPATMBNAEcAfMAyACrAJ8ApAC3ANAA5QDjAMAAfwAwAOf/rv+R/4v/kv+a/5f/hv9y/2v/dv+L/6f/vP+//6//lv90/1T/Rv9L/2H/hP+a/6L/kv9w/1H/Pf8+/1P/cf+M/6L/tP+8/83/6/8XAFoAoADcAP0A+ADlANAAzADsAB8BVAF7AYABXQEYAcYAiwByAIAAqADJAMwArQB3ACwA5P+x/4v/b/9Q/yT/7v64/of+Yv5K/jr+Mv4k/gn+6f3K/bL9qP2u/bz90P32/S/+eP7R/iz/g//L/wEAPgCCANYANAGKAcgB7QEGAh0CPAJdAnoCiAJ7AlECGQLlAcABtQHBAc4BzwG1AXkBKwHLAGwAJQD1/9z/y/+v/4b/UP8Y/+v+wv6R/mH+Of4b/hH+Jf5J/nb+r/7f/g//Sv+F/7z/6v8EAAwADQATACEAQwBzAKMA0QDoAOQAyACWAGIAOgApAC8ARABcAGkAYwBUAEoASQBOAFMAUgBHADAAEgD3/+L/2//d/+f/8v/y//H/7P/Y/7//pv+P/4T/fP9y/2L/Q/8q/xz/Gv8s/0P/XP9k/1v/Rf8n/xr/J/9K/3j/oP+4/8X/1v/8/zkAggDHAPcABgEFAQcBEwE9AYoB8QFNAnYCXwIOAq8BeAGCAb0B+AEAAr0BMAGIAPL/iP9V/0P/Nf/+/pb+F/6P/SX99Pzz/Bb9Ov1H/T/9JP0H/fz8E/1G/X79xf0Q/lX+oP7u/jX/bf+Q/6L/wv8HAHQA/QB9AdkBDAIhAiYCMgJPAnMCmgK7AsYCuwKcAnMCTwI3AiMCCwLfAZoBQgHmAKEAbwBOADUAEADt/9D/u/+3/63/lP9y/0H/Gf8T/yz/YP+i/97////9/93/nP9T/xT/8v74/hT/Lf80/yL/Af/i/tX+3/7q/u/+9f75/gn/JP9A/2D/d/+K/5f/mv+i/6r/n/+K/3T/W/9O/0j/Tf9k/4D/oP+4/8n/0v/X/+b/+/8WAEEAaACNALEAwADCAL8AqgCGAGIARgA2AEUAZgB9AIQAfQB5AIgArgDkAAcBCwH7AOQA8AAxAY0B4AEDAvUBygGjAaIBzgEfAnQCowKQAjgCyAFpAUUBXgGIAZEBTwHDAA0AXf/R/nf+Qv4V/tn9eP35/HD8//u0+5b7pPvG+9L7w/uj+3r7cPuc++b7Qfya/N78J/1//eD9S/65/hr/Zv+v/wYAfQARAawBNAKcAt0CDANAA4ADygMQBEYEXgRcBEcELwQmBCMEMwRDBD0ECgSrAzADqAJMAiYCHQIpAiYC4QFzAfEAYAD//9D/tf+4/7X/hf86/9j+gv5R/kj+Y/57/oD+V/4V/tz9t/28/dT94P3o/d/9zP3F/bj9qP2c/Y/9fv16/YX9kP2b/aP9pf2u/bn9v/3O/db91P3k/Qb+If5C/lf+ZP56/or+qf7Z/gL/JP9H/1L/VP9t/5z/5P8sAFoAcAB4AIoAswDvAEABogEBAlYCrQL5AkEDhQO/A/oDOQRxBKUE8ARGBacFDgZXBnsGfQZrBlsGawaTBs0GAwcUB+cGewbrBT0FpAQ9BPkDwANYA5kCmAFYAAv/6f31/C38fvvH+ur53/i495z2t/Uh9cP0ivRQ9AH0r/NS8wnz5PL38kbzwfNV9O70nPVJ9vP2o/c++Nv4mfmM+rD7+Pw8/lP/NgDqAIoBMQILAwsEIQVCBk4HJgjICE0JswkiCp0KOAvbC3EM2AwDDegMlQxEDAIM7wv5C/oLzQthC7QK4QkSCWII4AeBByoHsgbuBdEEhQM7AkIBrgBYAB4Aq//d/tH9uPzS+0L7/PrZ+qH6Rvqp+dL4DPh89yr3P/eN98v32/eh9zv3xPZs9lD2dPbH9iP3cveo98b3xvfA99v3GfiA+A/5kPnv+R76J/o1+mP6xfpk+yP8yvxY/cD9AP5x/gv/uP96ADUB3QF3Ah8DugNHBNQEdQUqBvQG0QeWCEQJ0Ak9Cq8KPAvfC38MAw1QDWMNTQ0vDQwNAw0cDTINGA3ODBkM/wrWCbgI0Qc9B8MGBAa8BPsC9wAO/5/9kPyr+8b6lfkB+E72ivTo8qbxuvAc8LHvTO/V7mHuCe7T7eXtPO667lPv7O938CTx8PHO8tDz5/QE9kb3mfj4+WT7wvwR/k3/ggC7AQIDXQS5BQIHOgg7CSMKCAvVC7AMiQ0/DtoOWA+cD7QPxA+qD34PSg/5DqMOVQ72DXsN6gwMDP0K9AneCOUHIwd5Bs0FCwULBOUCvgGzAOP/V//f/kj+iP2Z/J/7z/pG+uH5kPkm+Y348fdS98/2evZW9lf2a/Z69mn2SvYu9hH2IfZe9qr2AfdQ94H3vvf79y74avim+Ob4TPnR+Wb6A/tz+6b7t/vA++/7V/z5/Ln9aP7l/hL/Ef8Y/0z/xf91ACsB0QFhAs4CHwNqA7sDFwSkBGEFIAbcBnQHzgchCH0I7wieCWgKKgupC9ELtQuAC3ALiwvaC0YMiQx8DAEMLAswCkEJlwgrCNAHSwdZBgAFWAOlATcADf8j/lr9Xfwg+735RPjm9s31/PRm9PDzgvMF833y6/Fk8RLx/fA88cTxYvLr8lrztfMr9Nz0xPW69qL3Z/gY+c/5mfqL+5n8rf2+/sH/pQBtAUYCMAMhBC0FMwYcB+QHhQgYCa4JWAoPC70LOwx7DIYMaQxMDD0MQww/DBoMzAs/C4sKwwnsCCcIbAe1BgEGPAVjBGcDSgI0ATIAav/Z/mv+9f1b/Zv8wvvw+kr63PmN+T752PhX+Mj3Qvfp9sj20/b+9in3Pvc+9zr3MPc091f3tPdS+Ar5u/k/+pv63/oo+5j7MfzG/FP94v1O/qr++P4j/0z/gf/S/0cAywAyAWcBcQFiAVwBhQHPAUYC0gJIA60D7QMRBCoETQSDBN4EQwWeBdwF8QXzBeYF5QUABhsGSQZzBpcGvQbgBuIGrAZRBv8F2AXoBSkGfQavBqEGUgbcBWQFBgXUBMEEqASBBCkEewOEAm8BcgC1/zz/6v6L/un96PyX+y76+fgc+JP3Wfcu9932Zvar9dX0CPRs8z3zXvO88yn0aPRu9FD0LPRA9KH0RPUi9g/37Per+D75xPlZ+g379vsO/TH+aP+DAHEBLwLeApoDdgR9BZIGkwd1CCsJugkjCmgKqQrvCj4LjgvLC+0L5AuuC1ML6QqDCh8KxgldCfIIjgg2CN0HdQf3BlUGpgX9BGQE2gNZA9UCRQKUAdQAEgBP/6T+Av5t/eD8S/yg+9f6BfpP+cj4gvhz+Gf4RPj795/3Pvf09tb2zfbr9iP3aPe89wL4O/hg+Hz4vfgo+bn5Vfrd+kb7l/vo+z38ifzU/C39k/0b/rf+PP+n/+7/NgCcACEBuAFKAsICJwOfAx0EmwQbBXwFzQUlBoQG8AZhB7sH7gcFCPgHzgeaB3EHVwdfB34HmQebB2UH6QZMBqkFQAUTBQAF9gS5BDwEiAO7AvgBVAH7AMkAnwBPALf/4/7g/db8APxq+wX7u/pe+tz5O/mM+Nv3VPfz9rb2pvat9sr25vbu9uH2zPbF9un2TffY92r49/hk+bf5D/pi+sP6OvvC+2X8Jf3t/Zf+L/+z/y4A3gCnAYYCbQM7BPcElAUpBrkGRQfKB1II4Qh4CQgKcwqxCr4KsAqjCq0KwwrTCs0KlwosCqkJIQmXCAkIfQfvBmQG2AVIBaUE6wMlA18CmQHSAB0AW/+T/s39Cv1K/I370foL+kT5h/jn92r3Bfey9lb29vWW9T31BPXp9PH0JfWB9ej1O/Z09pj2sPbh9iX3hvcR+JX4Hfmm+Rb6h/r7+oP7K/zu/Nb9uP6T/1kA/ACFAQECggIhA94DmwRaBfsFeAbqBkYHnAfwBzgIhAjECAIJOwlVCV8JXwlQCT0JJgkJCeoIygiiCG0IEwidBxEHegbkBToFmwQBBG0D5QJUArgBDQFWAKH/DP+R/i7+4v18/Qb9dPzZ+0z70fqA+lT6PPop+gb6svlH+dP4dfhG+EH4a/ib+Lj4xvjB+L74z/j3+Ef5sfkl+qL6Fft8++f7U/zI/Er94v2b/l7/GgDKAE8BugEVAn4C9gJ9Aw4EhgTnBCgFUgV+BccFIQaDBtcGDwcjBxMH7wa7BnwGSwYXBs0FgAUhBboEUgTvA4sDKQPDAloC8AF+AQkBiAAHAIb/C/+j/jn+z/1m/fX8jfwp/Mn7e/tB+xD73/qs+nj6PPoF+tv5t/mm+aL5n/ma+Zn5oPm3+eD5H/pp+qP60/oC+zn7kfsE/IP8A/1v/dr9R/7G/lr/5/93APcAXQHAASEChwL1AmMDzwM9BLIELQWnBRAGhAb7BmIH1Ac6CIQIuQjeCAAJHwk4CUgJPAkPCcIIXgjrB28H+waDBgMGcwXQBB4EawO9AhECbQHUADoAjP/D/vT9H/1C/G37mPrT+TD5rvhK+PL3jvcf97b2YPYq9hT2DfYQ9iX2SPZ69sL2IPeT9wr4g/gE+Xz58fmD+jP76vuv/G/9If7O/m7/FgDNAIYBOALoAocDBQRyBMoEFgVqBb4FCAZSBpIGuAbKBskGsgaWBogGfQZjBjQG8gWUBScFvQRXBPkDpANMA+8CkwIxAsgBYgH7AJkAQQDt/5T/Qf/l/oL+K/7e/az9g/1h/T/9I/0g/SL9M/1E/T/9NP0s/S39PP1T/WP9af1v/Xz9jf2s/dX9BP41/l3+b/5q/mn+cP5//qj+3f4H/y3/Q/9F/0f/Vf9x/5//0v/6/xcAJwAyAEQAXACBALAA5AASATMBTwFsAZUB1QEZAmACogLEAtEC0wLaAvACGwNaA4wDnwOOA1gDFgP0AvkCFgNZA38DUQPmAlICrwEzAfoA5wDjANgAqwBVAN3/TP+9/k/+Fv77/dz9nv0a/Wv8tPsW+7f6pPrI+vj6F/sR++P6q/qU+qP67fpO+6b78fsF/Pb75/vm+w38dPwE/aL9Pv64/gv/Rv9//8D/EwCHABEBkwEbApgC8gI7A3MDqQPmAzYEnAQIBWcFoAWlBYUFUQUoBR0FHgUrBSwFDAXOBIIELgTmA7MDiwNtA1MDKgPdAnUC/QF/ARMB3ADTANYA1gC1AGoABwCr/2r/Nf/1/qj+Tv7t/Yv9LP3U/In8V/xE/Ez8ZvyD/If8dPxT/CT8Bvz3+/T7//sN/Bj8GfwT/Aj89vv2+wv8LPxU/Gj8aPxa/Er8Rfxi/Kj8Af1a/bT9Cv5X/rX+G/+D//H/XQDAACMBgwHdAS4CTgJTAlMCZQKoAgcDagPIAxoEWgSIBLgE5wQOBTwFaAWPBakFswWWBTMFqgRPBC8ENQRKBDcE6gN5AwYDoQJKAvUBqgFfAfgAgwD1/0//q/4i/tj91v3u/Q7+Gf7r/aL9Vf0H/cv8pvx+/Er8CPyz+1X7Cvu6+nn6VvpL+nb6w/oY+177iPuf+7z78ftG/Lf8Jf2J/dT9CP4r/lv+qf4B/2b/y/8lAHMAswDsABsBSQGBAckBGwJ6AuACOQOBA7YD5wMsBHwE0AQcBUYFZQWBBZQFpQWlBZoFhAVkBUMFCwXFBHIECgSkA0oD/AKzAnkCQALvAZABMQG8AEYA8v+v/4P/WP8M/6D+Gf6E/Qb9qfxr/D/8E/zY+4X7MPvg+qf6ivp6+oD6rvrb+uD6t/p3+kb6R/qJ+uX6O/tx+4n7lfuk+8D79vtE/Kj8FP1//c/9A/4P/gf+L/6K/hL/0P+CAAgBcAGxAfIBWgLyAqkDYwT0BEMFWwVaBVUFVwVxBa8F/gVEBmsGWQYYBt0F0AUBBmYGxAbxBtYGYwa6BSUFtgR1BGAEVgQ2BPMDgAPrAkMCsgFeATIBCAHGAFYAlP+r/tz9PP3e/Lr8pPxw/Bf8pPsT+3v6//m1+aL5svnJ+cb5nvlt+SP55fjY+Pb4Ovlo+XD5ZPla+XD5ufkS+nD63PpH+5375fsn/GD8vfxX/RP+0f6J/xwAiADXACQBiwETAroCYQP5A2UEtATsBC8FjQUBBqEGSgfMB/wH6we0B3sHewe/ByAIeAiRCFgI3AdBB7kGZAZCBjsGLAbtBWcFhgR9A4sCyAFMAf4AqAAaAEr/Q/4s/Uj8sfth+0n7Nvvy+nH6t/nk+Dv44PfZ9xf4Xfh4+Fn4E/jN97P33vdJ+OH4cPnS+fn58/nx+R76jfo/+xP83vx8/eH9Fv5H/qX+Tf8zACkB/gGYAuUC9gIAAy4DogNmBEUFAAZkBlQG/wWdBX0F3gWBBh8HkweKBxYHcgbTBX0FfQXMBTIGUQYKBmIFeASaAwoD4wINA0cDVAP/Ai8CIQE9AKH/Yv+E/6T/cv/p/hD+FP1D/Lv7ifuS+6f7oftR+8T6I/qc+Uv5Qfl5+cj56fmz+UP5xPhX+Db4Yvi6+C/5ovn8+S36LPof+k76uvp1+3D8UP36/ZH+/P5j//j/jQAmAcoBbQIMA6wDOwTJBFAFoAXjBUcGvAZLBxEI3giDCcEJmwlDCeMI6AhgCfAJWgpkCuQJAwkFCDUHyQa0BrgGnQYTBu8EZQOQAcz/iP7b/Y/9VP26/IT74vkk+LT2zfWF9dn1avbF9q72CfYR9Uj0EPSL9Jz11/bh92r4Rvje97z3LPg++bz6Nfxa/QD+Hv7s/cb9Df7u/joAnAHKAnEDiQNEA+gC2QJNAyQEKQX+BVwGNwakBeUEawRqBOkEtQVIBlcG2AXTBMsDUwNtA/cDoAQJBfIESwRRA1QCsgHLAXkCRgPjA/kDbAOIAqwBSQGiAVAC/AJoAzgDhgJ7AWIAr/9+/8z/YAC0AF4Ahf9L/uv8APzK+wr8d/zK/LD8Gfwa+yf6g/lC+Zv5Xfr9+in7xfrx+Rj5uvgV+f75G/sN/J78nPw3/Lr7dPv3+1b9Af+UAJYBpgE6AcAArQBUAY0CBARJBfkF/gWABdcEjgTuBAUGuQc4CYUJtAgpB4gF4QRnBYQGrQdXCC8IKAdgBUUDmAH0AH0BqQJdA8sC5wAI/iP7RvnU+Jr5vfpD+7/6Ovkc9w71mvMy8wP0y/Xd9zH5Avmr9wz2BfWB9YP3NvrR/IT+4f5D/nD9JP3n/Zb/wwEABKQFPQbDBaIEugOwA64EWwbyB9gI5ggsCPMGsAXIBJIEKwVEBjoHYQdrBqEEugJ7AUsBDAIlA+4D5QPvAm4B+P8T/+L+WP9aAG4B/wG/AcgAf/+M/nL+KP9eAIIBFgL9AS0B/v8P/8L+TP9vAIEB+QGQAWEA8v7g/YP96v3E/nL/lP/d/lz9qftF+pL5w/mL+oT7KPz/+xD7r/lk+L339vfw+EP6ZPvj+6L78PpP+jv64Pop/Lz9DP/d/zwANwAFAAgAeQB2Ad8CaQSeBRoGFgbSBYoFmQUMBrEGgwdWCO4IbAnDCYwJrgh7B38GVgYSBxUIuQiZCKYHLQZuBL4CkAEiAXwB/AHHAYQAMP5Y+8L4Afdf9qv2Svd797z2EfX58hrx1+9/7ynwuvHL8331BPZr9WX05/Pd9ET3V/pt/eT/TQHBAboB3wHPAqkEEAeWCaYLwAy3DL8LgwrGCRMKQguoDJcNmg2UDN4K/QhRByoGvgUKBpsGugbtBRgEqQGE/03+K/4E/z0A3ABqAPn+D/28+5b7Nvw6/Vz+Ov+H/xb/3v1d/I37D/x4/Q7/HwAlAGD/RP4k/ZT82Py0/dT+tv/u/1T/J/7Z/Ob7x/uJ/Mv96/5O/5j+DP16+4r6a/r9+ub7xvxT/Ur9iPxS+0j68fl3+qD76/wG/pP+UP57/ZT8S/zy/Dn+lf+aAE4B1wESAsQBAAFnAK0ACQLgA0cFxQV3BcQELgTVA6YDzQNPBPMEmgUuBsQGPQcDB/MFegRlA5wDEgXNBjMI5giwCK4H2AWWAwkCFQKeA4gFbAaPBTEDGAAY/ev6Bvp2+p77bvwP/D76d/ei9GzybPEY8j/05PbA+OD4aPdu9UD0nfRx9lD5jvxX//kATAF9AHL/KP/6/9YBRQSLBhQIXwheB8EFbQQCBJ4E3AUFB7UHuQcAB6kF8QNRAmUBgwFWAj0DmAMIA7IBAwB8/nb9Q/32/Rv/AAARAD//AP7x/Hn81/zx/Vz/gwDqAGkAU/9Y/hj+q/62/88AjwGyAVUBswDo/1P/Of+P/z8A7QAzAfEAOQA5/2P+F/5m/hL/gP9S/7/+Fv6I/S/9D/1E/dL9fP7y/g3/6P6x/nn+Sf5t/i3/MwD4ACkBwwAtAK7/Uv9F/5z/WwA4AZkBPQFbAHL/3P6u/t3+Pf9+/3z/Kf91/q39RP1N/bn9TP6i/qH+Sv7j/cH9FP4j/78ANQICA+YCKAKgAeMB4AJfBBkGlwd0CFAIOQfbBQkFMQUjBjEHogcOB4oFhQNvAdP/Ev/v/vj+1f40/gn9fvu0+fz32vbD9rH3Lflu+vL6nPrZ+Un5M/nG+Rf77vzi/nIAJwENAXgA4v/D/2YA0gGcAx0FyAVrBVoEJQMzAskBBQKzAo4DHATuA/sCgQH4/97+dP7L/pb/QQBdANH/0/7P/Rr97PxZ/UX+KP+R/0r/Yv5t/fb8H/3D/an+ff8fAHEASADM/2n/gP8aANMATwF4AX0BdgFRAfoAnwBzAH8AqADHANcA0ACZADUA4v/z/4QARwHZARACBQL7AQQCCQISAisCXQKNAqYCmwJtAhMCowFFARIB+QDEAFoA0v9o/yz/+f6a/gv+eP3p/Gj8E/z/+yb8Xfxu/EH85fty+wf7xPq0+vD6a/vz+0b8VPxI/Fr8lfzT/Av9SP2t/V7+av+oANMBdAJSAqoBAgElAVICEgTPBSYH4QfzB4YH6QZ4BpoGZQdqCBwJCQk/CPkGgQUiBBEDaAIJAq0BCgEGAM3+gf0T/J36h/kc+Vf57/lr+m76GfrO+c35E/qV+kv7GPzj/JP9If6I/t3+K/+G//n/gQAZAZwBEQKBAtoCDQP3AowCBgKsAaUB2wHxAbIBKQF2ANn/hv9//5r/oP9p//T+a/7//cT9tP2+/df96P3x/ff9+/0J/jf+hv7w/lb/i/+J/4D/s/83AOcAgQHWAQECLAJrAsoCNwOXA9cD8QP7Aw4ENwRVBD0E5wOQA28DkwO+A5wDNAO7AkgC1AFVAcYAQgDb/3z/Av9y/tP9Lf2P/Bj85/sE/Bb81vtm+xv7OPub+9X7uPuH+6P7Jfys/Pz8F/0d/TP9X/2f/fD9Sv6h/tH+yf61/sn+Dv9k/5P/of+z/9j/+f/1/9b/0/8TALEAfwFOAgIDfQO1A5oDTAMlA3MDRwRvBX8GLwdTB/wGUAZrBZ0EVgSoBEMFuAWcBc0EmwNAAsMAW/88/on9Sf0j/cf8LPxe+3z6r/kQ+cP47vhp+eL5IvpB+nL6zfpF+6T79vtv/DD9L/5C/0IAHQHAATECgwKsArgCwALVAv4CQAOAA5kDgwM8A94ChwJBAgECtwFjARwB5wC3AGQA4/9Y/9j+j/6D/qD+zP7s/uP+rP5t/ln+kf4D/4X/6v8gAEQAbACUALcA2QAYAYwBCwJaAlkCMgI2An0C0ALqAq4CRQLzAdYBzgGqAXkBbwGBAXoBIAF3AKb/+/6x/rb+9/5L/zr/fv6P/fH8//yj/Sv+Dv5q/cb8kfyX/Ef8gvv2+l77f/xz/Wr9ovwo/JL8gP0M/vj94f1Z/lH/DAD+/37/ZP8DAAUBywElAl0CmwLFAqUCUAI0AoECBwNdAzcDtQIqAr8BjAGCAZ4BAAKoAnYDFgQ1BK4DuALpAboBNwIZA+MDcgTGBLsEVQSAA2ECiQFcAcIBSwJFAm8BDwCK/jX9NfyL+yv78vrG+oP6HvqY+fH4XfgR+Cv4wPid+Zz6kvs3/Jr81vwP/Vn9vf1G/gD/4//FAIoBIQJkAlcCNQIUAiACaAK4AvQCGwMXA+QCiAIbArgBcAFVAXEBswHvAfcBtwFHAesAwQDDAOEAFAFuAd4BMQI/AuwBYAHiAJoAkwDKADEBmAHXAc8BgQE3ARYBJAFhAbAB+QE4Ai4CxAEkAXEA9v/S/+v/FwAsABcA0/9P/4n+uP0y/Rj9Nf0u/dX8Y/wI/Mr7kvtN+zb7f/sU/Lv8Jf08/Rb92Py0/L/8FP21/WX+4/4W/wv/AP8o/4D/2v8dAE4AjgD2AFUBZgE/ARABGAFvAcsBJwKNAuYCJAMlA+ICsAKcApYCoAK+AgwDdAOqA4gDLAPPAqMCiQJRAgYC0QHdASUCeQK/AtECpAI3Ap0BHwH6ADUBqAEXAmoClAJsAuwBKwFtABQAIgBBACMAo//f/gT+E/0j/GT70/pq+jr6LPoo+hn6xPkl+Yz4OfhT+NP4hPk2+s76QvuJ+7X73fsc/KT8gv2M/oz/WgDZAB0BRgF0Ab8BFAJpArsCAANTA7kD+wMTBBIEIARUBJYEywTiBNYEyQTHBMkEzAS5BJEEcgRpBHEEgAR3BEIE2wNYA+YCnQJtAi0C1QFvAQMBqgBUAOX/a/8E/8T+sP6X/lz+Cv6u/Xv9f/2V/Yv9Qv3Y/ID8TvxA/Dz8KPwM/PX7+vv8++P7yPu7+9f7FfxW/IH8g/xs/Gb8k/zu/GH9wv3q/er99P0o/nH+v/7f/s3+8/5Q/6b/7v/1/9v/BwB8APAAXQGpAcwB9AElAlcClALcAg0DVAPEAzwErATOBJkEWQRLBKAEMwWpBdQFrwVSBdIEQQTJA3gDXwOXAwwEjwS5BE0EWgMwAlcBJgGBAR0CngLAAo0CBAIZAQ4ALv+y/r7+AP8J/6f+w/17/Bz77vkk+cT4m/iF+HH4OPjX9073l/bY9Wr1dfX39dn2u/dk+ND4B/kn+WT5yvmL+rv7Lf2m/tr/pwAgAWcBpwEJApcCWQM2BBgF+QXEBmsH0wf0B/EH+gcZCFUIqAjqCPoI1gh6COcHVwfVBncGUAY1Bv0FlAX0BEEEvANlA/0ClgIOAkoBnAD0/1D/0/5p/g/+zP19/R/90fyc/H/8evxy/EX86vtu+/76x/rA+t76APsE+xH7H/s1+1P7Yvt9+6v79fsd/BH8/vv0+wP8Bvz9+yX8OfwM/OL73/tA/PX8a/1Y/R39I/2J/RL+Uv51/vT+wP+HABQBVQGRAfgBhAIoA+ADtQR+BRQGgwbWBgIH/QbmBuwGIweaBx8IawhgCBEImAclB64GOwbmBaoFnwXWBSMGNwbGBb0EZQNLAqgBbwGUAcAB3wHpAX0BdAAD/5f9tPyE/Mf8/fzJ/Az8w/o++ez3CPeL9jT27fW19Yj1SfXK9CP0jfNK82rzzPNZ9Oz0nfV29lr3Mvjn+IT5Ovow+3j87P1S/24AQQHiAZECfwN/BIcFegY2B9gHfAjxCCwJRwlNCWYJmAm4CcsJ4AnaCbQJbgndCCoIcgfSBnAGPQYFBpUF3gQLBFUD1QJ+AjwC6wGFAS0B0gBsAC4ACgD+//3/y/9m/+7+g/5w/rT+Dv9n/3T/K//O/on+Uf4b/tf9jP1W/Rv9zvyM/D78+vvB+4H7Rvsr+yL7Cfvn+pX6EPqb+WH5dvne+Rb6+/nJ+WT5IPkZ+SX5W/my+UT66fpO+2v7OfsP+zH7xfu8/MD9qP5u/xcAzQCZAVgCBwOvA1sELwULBsIGXAe6B/EHJwhUCJcI9whJCYMJmwmOCXUJowkDCkMKNAqMCUwI/gYBBpAFtwUnBpYGnAbVBU8EjwIhAWkAcgC7AMsAMwDd/hf9U/v/+Sv5mvgF+Fr3qPb89WT1zfQr9JPzIfPh8vXyWvPk84T0MfXm9Y72+fZV9/L35vgz+pX7vvyf/TP+sf5i/08AcQGLAlcDyQMVBIsENAXrBYEG6AY9B4oHzgcLCEAIYwhwCF8IGQidBxQHwQbEBugG8wagBusFIQWMBFoEnAQRBUAF8gRLBGMDlQIuAhoCSwKbAr4CqQIyAnAByABfAEcAUgBMABkAuP8x/5P+5v1F/Z785ftC+7r6U/r7+X75+fhi+M33Vffm9qP2lvac9qz2ovZ19lz2VvZu9qr26vYo91f3h/ff92T4EvnG+WL65/pN+8X7UPzb/IT9Sv4l/yMARAFiAmkDSATlBF8FzQVVBhQH9gfxCNQJfAraCu0KCgtYC9ILnwxkDeINJQ48DlEOkQ7ADrsOfA74DVoNwgw+DAAM2wuuCzAL/QlOCEcGVwTqAuIBHAEnALj+3/zA+rP46PZm9Q/0wPJr8SvwFu9E7q/tDe1a7KXrEOvZ6g3rtOu67PHt+O6z7x/wlvCP8QDz6vQN9/f4e/qj+538qv3w/msAAQKEA80E5QXHBo8HbAhNCTAK5ApBC14LXwtxC6YLBgxaDGQMAwxSC5AK9AmRCW0JVgkUCY8I0QcXB3gGFwbpBcwFsAVoBecESQSWAx4D8wIBA00DgwN+AzkDtAIaArcBigGIAagBogFzAQQBVACa/9r+Pf7I/VP9xfwK/Cj7Jfot+Vb4m/cG92j2uvUm9Z70IvS980LzvfJU8gTyB/Jf8tnyXPPL8//zHfRe9Lf0YPVO9k73Yvhq+Wn6dvuD/K79Bv9lAMMBEAM4BDQFTQaGB7cI4gnrCtgLxwywDaYOig9CEMcQDBFFEYcRwxEcEnMSoRKxEnwS7xEWEQ4Q4Q64DbAMxQv8Ci4KSwkmCJsGwgSuAqoA6P5s/Sn88PqC+c/3zvWh84rx1O997prt7uxG7JfryeoH6nLpLuk96ZfpLOr76gPsMO1Z7mjvZPBR8Wby2vN69Uz3SflD+x/9wP4uAG0BhQKeA84EEAZoB64I2AkSCzYMBQ2MDbYNrw2yDdwNTQ7aDj8PWQ//DmIOxw0qDcAMcAwFDJYLCwtUCoEJkwioB9oGQAbhBa0FdgUPBXEEqgOyAqwB3wBeAD8AYQCNAF4Axf/u/uf9BP1p/A785fvL+437HfuM+tv5Ivl1+ML3K/em9jP25PWW9UL13vRL9L7zPPPS8qfyqvK68try6/L28hPzSfO381X0GPXp9cb2mfdg+CH5+fn0+ir8hP3r/k4AmwHUAgoELQVbBpQH1ggvCoQLwwzVDcEOjA8tEM0QRxGxESQSaxKeEqUSgxIrEpIR2hAmEH8PDA+2Dj8Oig1pDO8KQAmNBwMGygTRA/YCCwLIACn/Sf1x+735bvh896P2zfXF9G/zBvKd8GTvhe707bztr+287aTtYO0T7cLsuuzp7FftJ+4l70PwePGT8o/zcfRB9Tr2V/eb+Bb6mfsd/Zb+6f8YASYCHQMeBDMFVQaDB6EIjAlOCvQKewsQDKIMKg2nDRAOdA7SDhEPOg88DxcP8w66Dm8OMQ7hDY8NNw3EDDEMawuUCrEJ1wgaCHIH1AYvBmYFegR9A3gCgQGtAPn/Vf+0/vz9K/1W/Ir73PpL+tH5P/mY+OD3D/dW9r31NPXD9GH09/Ok803zDPPj8p7yefJT8i/yLPJC8n7y7PJW883zTvTG9Fb16vV79iz33/ek+Ij5bPpe+zv8E/3v/dP+2f/qAPEB+wL4A+wE0wW6BqIHjAh1CWYKVAssDPUMjw38DVUOnQ7tDjsPlA/jD/YP3A+ND/UOPA5/DcIMKQysCzwLxwosCm8JbwhKBxcG2ATJA+YCKwKXAeYADQAQ/8z9ivxQ+0L6avmS+M33+/b79ff09PP38hvyUfGd8Cvw4u+k72/vPe8L7+vu9+5K7+zv5/AV8kPzYvRO9Rv2+vb39yr5g/r1+3j99P5EAGYBVwIlA+oDsASWBZEGlAeSCJ4JiwpKC9QLIQxODGMMfAy9DA8NXg2QDZoNdQ0aDbcMRQzaC3QLDAukCh8KjwnnCBwIRgdqBssFQQW/BFkEvgP6AiwCUAF6AMf/If+f/jX+rf0W/XH8jfuV+rD54fhK+Nr3dPcF94L25fVD9a30KfSt80zzCvP08gDzEfMh8yzzIfMs80Dzc/P58530X/U99gv3yPd0+BH5u/lz+mD7g/zB/f3+IQAsASoCFAP1A+QEwwXQBgMIJQlOCjgL1As5DGgMggy1DBgNlg0gDpEOtg59Dv4NUw25DEkM9Qu+C34LGAuECrsJvwiyB74G8AVIBckEYAQCBKcDJQNvApYBnACt//P+Zf4V/uD9h/0L/Wv8mfvM+vn5Lfl8+On3XffM9jz2h/XA9OvzFfNF8o7xA/Gm8JvwrfDF8NHwvPDG8P3wXfH08b3ynfOa9Lz15fYe+Gf5nvrR+/38HP5C/3sAxAEeA2oEmQWmBowHZAg6CQoKygqHCysMrQwMDUcNZg1zDXcNcQ1TDR4NxgxkDAQMtAtxCycLygpYCtUJUAnHCDYImgf4BlwGwgUuBZkE/QNjA8MCJgKVAfsAagDm/2r/3/5a/tn9Wf3I/Cj8hPvH+gX6Sfmf+An4iPcP96H2FPZw9dL0NPS282HzMPMt8z/zafOg89rz+fMA9Br0TPS39Fn1IPYC99z3qfhq+RP6y/qi+5H8n/3D/ub/+QAFAgMD7wPTBLAFjAZbByEI1wiSCUsKDQvAC0kMwgz5DAMNCg0IDQYNCw34DLwMXAzoC20L9QqJCgwKfAnUCBYISwdkBnkFggSKA54C0QEnAYwA8/9K/5X+yf3w/Cz8ffv1+nr6C/qo+U35+vip+Ej41vdu9+j2afb59Zf1SvUR9e/03PTN9L70tfSj9Jb0qPTU9Cn1m/Us9tn2gfcr+OH4ovmG+oT7i/yi/bn+tP+eAH8BTwImA/sDzQSdBWIGKwftB5kIKwmSCdwJEApECncKnQrICukKBgseCyoLIwv8CrMKPgrKCV4J9AigCE8I7wd7B+oGUAanBf0EVgTBAzMDuAJKAskBLwF1AJ//xf7t/SP9iPwC/JX7Lvu2+iX6e/nJ+Cr4rfdb9zb3FPfQ9m325PVO9dX0ffRO9EH0TPRe9Ir03vRA9ar1DvZr9s72P/fH9234MvkU+gv7Avzp/MT9if5Q/y0AFAEOAhEDAQTXBI8FNAbUBm4H/weGCP0IYAnVCU0KsAr7ChoLEAviCp0KXQonCv4J1AmkCUsJxggtCHsHwQYLBnoFCQWnBEoE3gNeA7MC+AE/AZcAGwDL/5T/cv9c/yz/4v5v/sb9Ev1w/O77rvud+6H7p/uy+7L7lftZ+xP7x/qC+lv6P/og+uX5ivkZ+af4Tvgd+CP4RPhq+IL4hfhx+Fb4VPhr+J344vg4+Zn5A/qA+v36cPvf+038y/xg/Qn+xv6D/0oAIwHvAbYCegMqBMgEYAXrBXgGAgeZBzIIswgqCZMJ6QkzCmQKhQqdCqMKnAp7CjoK6QmCCRYJuQhdCAcIowcoB44GyQXgBOcD/AIgAmIBwAAxAKH/Bf9f/q79+/w9/I377vpY+s75QfnC+Fn4A/jE93/3NPf19r/2l/aD9nj2cvZq9mT2cvaO9r72E/dz9933Wfjq+Iv5NPri+on7JPy//Gr9IP7q/sv/sgChAYkCUwP7A4YEFwW9BW4GJgfZB3QI/AhsCc8JHApBCj4KCAqsCTsJwwhMCM0HUgfIBjQGlwXiBC0EbwOeAssB6QAHADT/cv7L/Ur96Pyi/G38Nfzt+5L7Nfvd+pz6fPp5+pn61/pQ++77m/w9/an94P3x/Qj+Qv6U/v3+bv/Y/1cA7gB+AfIBNAI4Ag4CyQF7AR4BtwBcAP7/n/9I//T+of5P/v39qf1T/QH9rfxe/CX8APwL/Ev8r/wn/Z39Cv51/sv+DP86/0v/Y/+L/9z/UwDOAFEBzQFEArcCDQM5A0ADGwPrAskCuAK0ArwCzgLcAvICBQMeAzgDRQNFAyED4AKHAicC0QGLAV4BRQFFAVYBWgE0Ad4AXwDM/zL/kf76/Xv9Gv3p/Nb8xPyi/HT8Svw7/Ez8bvyU/LD8zPz3/DP9ef24/eX9Af4U/iv+Sf5s/pD+q/62/r/+2v4M/0v/jf/K/wAANwBqAJoAxwD2ACEBWgGoAfcBSgKWAtECBAMqAzEDIAP9AtMCuAKhAooCbgJHAiQCDAL0AcwBjwFDAfAAqABxAEQAEADC/1n/8P6a/lb+KP4E/tv9u/2t/a39qf2e/ZL9hP2B/ZD9rf3P/fv9JP5D/lf+W/5h/nL+oP4C/3n//f+FAPkAZAG+AfcBFQIYAisCWwKYAtoC+wILAxoDJAM2A0ADMwMNA84CfgIjAsgBcwEjAdYAkwBlAFgAYABgAEAA6f9f/8n+Of7H/Xz9Tv07/Tj9S/15/cD9Hf6H/uL+HP8w/yb/EP8E/xP/M/9h/5f/zf///x0AHQD//87/n/+K/5H/q//J/+D/8/8AAA4AGwAiABUA4v+Y/0P/9/7L/sb+2/7//iH/Mv81/xz/7f61/nj+Uf5H/lj+i/7V/jP/ov8UAIkA8QA9AW0BfQFwAVYBQwFMAYgB+QGKAhoDjgPgAxUELQQeBOkDlgM2A+ECpgJ8AlUCHgLSAYoBTgEuASABDAHZAHoA/P9u//H+kP5I/gj+1v3A/cT94/0J/iL+Hf70/bP9Zv0Z/d38tfym/Kv8tvza/BT9Yf2w/dr93P29/ZT9ff2F/aH9wP3k/Qz+P/6C/sz+G/9V/2//dv9k/0f/N/89/1//oP/w/zwAiQDRABQBSgFsAXYBbQFrAXcBmgHMAQkCZALgAl0DwQP5A/IDywOpA5IDigOPA6gD1AMJBDUESgQ9BBAE0QOQA1QDEQO6AkMCtgErAbMAUwAJAMj/ef8Z/5j+AP5r/dP8SvzY+3r7Qfst+zn7WPt3+5P7pvuy+7f7t/un+5T7kPuq++z7UvzR/FL90/08/on+wf7n/hP/Qf91/6T/zf8AAEEAjQDMAPUACQEOAQ4BEAEVARwBIwE5AVwBhQG4AesBFwIzAjcCIAL5Ac0BowGOAYgBmgHDAfgBPwKBArECyAK5AqQCoAKzAuECFAM3A14DiwPCAwEEKQQ0BBkE5gOZAzEDwQJHAtIBbgEfAcYAXQDo/17/3f5d/tL9Qf2y/CX8ofss+8j6evpG+iz6J/o4+kP6RvpG+kD6O/pB+lL6efq6+g/7gPv0+2f8z/wq/Xj9wv0U/mT+qP7p/iD/Sv98/7r/BQBaAJ8AygDlAPAAAAEXATcBXgGEAaoBzQH0ASUCWgKGAqsC1gIKA1UDswMYBGYEowTLBOUECgUzBVoFhQWpBcAF3wUMBkoGlQbDBsYGlQZHBvkFtwVsBQ8FpgQyBMsDewNDAwUDtgJGAqQB1ADm/+T+7f0c/Wr81PtW++n6i/ot+rv5KfmA+N33VPfw9rT2mPaY9rr2EPeK9wf4dvjH+Pj4H/k++WD5l/nt+V/66/qC+xz8vvxj/f/9Zv6Y/qr+tP7h/ir/h//z/2IA5gCTAVgCGwPSA20E6wRJBZcF2wUmBoAG3QY1B3sHrwfiBxUIQAhMCCwI7weuB3oHVgc8BxYH5AahBkgG2wVaBdAEQwSxAx8DjAL5AXgBHQHfAJkANgC9/zb/sv4+/sb9Rv3E/GP8Nfwg/B38EPzz+8H7gvs8+/36zfqe+nD6QPoP+uX50vnT+dz56/nv+eT5zfms+Y75d/l2+Zb55Pld+un6ZfvO+xf8S/yZ/Pf8YP3S/Tf+mf79/mf/1P87AKwAHwGKAe0BRAKQAtUCGgNXA6YDBgRtBNgEOQWRBdkFFAY6BlUGcAaQBqkGuQbNBuEG+wYcBzUHMQcJB8IGYAbyBYEFDAWVBBwEqANDA+0CtgKRAoECewJaAhYCjgHPAAYAS//I/o7+hP6Q/pb+ef41/ub9lf1H/fj8ivzu+xj7L/pX+c/4o/iy+NX40fiY+C34qvcq98b2nfbB9hD3bvfQ9yb4ifgG+aj5XvoG+4z76/tR/MX8Z/02/gr/2/+QACoBmQHeARECTQKaAgIDbgPTAzcEmQT7BFcFsAXwBR0GQAZKBlEGXgZqBnwGlwazBsQGvgaoBoYGbAZRBicG9gWvBVIF7ARwBOkDbgMNA8sCmgJwAi4C1gF7AS4BAAH8AAQB/gDgALMAfQBKABYAzP95/xf/ov4i/rf9cP1F/Rr90/xl/PH7nftE+9z6dPoM+sH5mvl5+Vb5QflF+WH5l/nb+ST6cfq6+vn6Lvtq+777PPzi/Ir9Jf6r/hr/cf+v/9z/9f8CABgAOABmAJoA0QAKAUMBfgGsAcoB6QEWAl0CrgLvAhIDEAMFAw8DLwNgA5YDxQPzAyYEYwSWBLAEvATGBNcE5QTeBMgEmgRbBBkEvwNWA+wCkgJQAjcCNgI4AhoCmwGpAFj/+/0Q/fP8+v31/yMClwOmA0ECMQBe/o79Kf74/1cCKQR1BPUCNQBf/Yb7Hvvs+z/9Sv5+/pn9t/tl+Vv3NfYc9tD26fcE+dT5Lfry+V75xviP+Bf5cfqB/N/++QBgAtUCeALEATkBKwGyAbIC3wPTBBcFdQQTA1IBxP/N/pj+Jf8XAP8AcQEgARgA1f7t/cn9gv7i/50BVAOfBDMF/AQ6BFoDxgLKAmsDfgShBWcGawaIBfYDJAKXAL//vf9mAFMB+wH8AT4B9/+K/l79wfzc/J/9/f6lABACyAJpAgcBUf/m/Vn9+P1+/0wBqwLUAokBO//D/Br71vr2+9b9m/95AAcAbf5A/Ej6Uvm7+VP7dv1W/0UABwDW/kH9A/yk+1v86P3B/1EBAgKzAbAAfv+v/p3+Pf9IAGEBKQJsAhgCTQFWAKz/qP9aAHwBgQLvAo4CfQEhAPr+Yv6X/nj/sADLAV8CVQKyAb0A4v9v/5z/ZgCaAeYCygP0A2IDJQKlAHj/8/5b/5YAEgIaAy0DLwKbACL/Vv6N/p7/8ADVAdUBzgBy/8P+Pf+6AI0CtQPTAyUDBgIUAccALQH5AZoCgQKHAREAzP4h/h3+W/5W/rD9Uvx0+pv4X/cI95L3oPi4+YH6yvqC+vL5mPnU+eH6n/yq/poAHAL4AicD5wKKAnUC7QLSA8QEdAWkBTwFXgQyA/UB5gAqAM//0P8QAE4AUQDp/yv/dv4V/ln+Sv+KAMIBrwIZAxQD5QK8AtsCYQMdBNQEUQVbBesEKQQzAyYCNgFkALL/P//n/pX+Rv7B/QP9MPxr+/n6/vp2+0j8YP1p/g7/O/8M/9P+G/8rAH4BrwJeAxoDRgJLAUcA0/8gAM8AjQHGAQgBnv8C/pn84Pvp+3X8Q/3x/SH+1f1Q/b38X/x1/Pb8yv3P/rX/RQCJAI8AcABZAH4A+ADPAeECpwO0AxID8QHfAGIAeADtAGkBhAE+AbkAGwCH/xH/xP6x/vD+XP/h/0kAaABHAP3/qv+X/+j/iABmATECnQKqAm4CGALyARACVgKxAggDKgMMA7ECFQI0AUUAc//+/iH/lP/2////e/+W/rn9+fyH/KD8Sf2k/mwA8wHCAm8CBwFh/0z+Vv62/84BvgPJBFgEhQIYAPT95fxG/ZD+1/9CAFH/Nv3R+tX44/dP+LH5avvd/Hj9Jf0q/BD7iPoS+9X8WP/5ATYEhgXdBYwF0AQ0BDcE6QQSBi0HhAfDBgsFwwKUAPn+H/70/Sr+Wv49/rf9yvyt+5j69Pkj+kj7Kf0+/+EAqwGjAR0BugDeALYBIgOeBLkFMgbeBdsEdAMIAgIBkgCdAMkAwQBOAHH/Qf7m/Jz7qfpn+un6+vsq/fv9L/4D/sn97/3D/gUAYQGdAnQD5QNdBMIEzgS7BF4EzQN8AyQDkwIRAowB4AATAOn+Zv0B/DH7Kfut+0z8iPwc/EP7dfoa+nH6dfvZ/Dj+dv9xAPQAGAEEAesAPQEoAoAD8wQBBlcG6QXSBI0DggLmAdoBGwJTAi8CYwHk//D9KPwd+/f6n/ug/GP9wf28/Ub9v/yB/Lb8m/0t//wAngKvA/gDnAP5AmgCOgJ4AucCQgNEA9QCAgLnAMb/1f4Q/pj9bP1D/R39BP3S/LL8vvyt/HT8Lvz8+2r87f0jAG0CJgSjBBcEKwNbAiwC3wJGBAIGdgfqBwUH9wR7AocAoP/R/6QAWgFPAT0AZP5E/Gn6Q/kS+c35MvvB/Or9Uv73/SH9XfxC/PP8aP5YAEUCvQN9BF0EkAONAswBqwE5AisD+gMcBF0D2QHw/zP+8Pwy/Ab8LvxU/Fn8DPxV+3j6s/lN+Z/5pPoW/LX9Hf8DAHwArADIABoBwAG2AtkD6ASpBeQFhwWrBJ8DvAI0Ag8CKgIyAvsBcwGVAJn/rv73/bf98v13/h7/pP/j/+j/wf+q/+L/fABlAVsCGgOUAwwEcASABEUEuAMXA90CzAKeAl8C2AEZAVsAa/9X/l79vvy5/Bz9qv3h/U79T/xN+5r6vvqI+3X8YP3u/Qj+8/3Q/bn93v1I/vX+0P+dABkBGAGVAN7/ZP9C/4L/8v8wAEYAPgD5/53/MP+j/iz+5/3t/Uz+y/44/2b/NP/T/mr+Iv48/rP+ef9rAEMB0AH1AcIBfwFbAXIB4gGaAmYDGARiBCQElQPzAnQCTgKHAv4CkAMDBP4DiAPIAu8BaQFQAYgB+AFnAs0CPwODA48DXAPPAjACuAF+AcgBagL3AhIDYAICAXf/Lf59/Xn97P17/qn+Mf4I/XP7A/oZ+cP46fhO+aP5tPmH+Sr5yvic+KD48fiQ+V36S/tC/AX9eP2n/Zf9hP2t/Sz+Df8XAPQAdwGHAUEB1ABvADsAWAC9ADYBlAGoAX4BIwGuAEUA8v/c//3/QAC1ADoBugEWAicCCgLnAdwBEgKJAiMD2QN6BOAEAwXTBHUEHgTwAwUEUwS8BB0FTgUzBd4EbQT6A6wDhgOEA5cDsgPHA8IDiQMgA5kCAwJ6AQ4BtQB4AEwADACy/zD/bP6I/bz8Jvzg+8z7yfu6+4H7Ifux+lH6DPrp+eH59vkg+k/6hvqv+sP6wfqu+qr6yfoU+4v7C/yE/N78HP1J/XL9pf3r/VP+0f5X/8z/JQBeAHUAjwCxAOgAHwFHAWABbwF8AYoBkwGOAYQBgQGOAbsB9wEmAkcCTQI3AhsCJAJnAtcCUgOtA9QDxAOpA54DvAMOBHkE0gTrBMMEYwTyA50DYgM/AzYDKwMPA94CiwIpAqsBFAGDAAUAtP+P/4n/bP8g/6f+Df58/R39Bf0y/ZX9/v1E/ln+KP7D/V/9I/07/bf9ev5P//P/KADn/1X/sv5S/kT+ef7N/v7+7v6d/h7+iv0E/ZD8N/z7+8z7ufvO+wT8Pfxb/Ev8CvzJ+6774Ptj/Cf9Af6z/h//RP9B/0X/gP///7AAeAEoAqMC5QL5AvYC9QIGAyoDZQOsA/UDMQRMBFAEMQTwA64DeQNcA10DbANxA14DJAPPAnUCFgLEAXwBPQEgARQBCAH4AM0AiQA6AO3/sv+Z/6X/xv/z/wUA7v+s/0T/6P61/rH+4P4Y/zv/Ov8Z/+3+x/7E/tT+6f7+/vH+1/7A/q7+qP6s/rL+s/60/rz+xv7X/ub+7f7q/t7+z/7B/q3+hP5V/iX+9/3q/fr9GP4+/lz+bP5y/nX+gP6Y/sD+8v4v/27/sv/9/0MAjgDiADABfAHIAQsCSgKGAq4CzQLfAt8C6wL7AgQDBQPqArgCfwJFAhQC6wG5AXUBKAHXAIEAMQDo/6L/av9G/zz/Tv9n/3f/f/+A/4X/lP+w/9r/BwA8AGcAcABkAEIAFAD0/+L/6P8BAB0ANAA3ABYAzP9n//7+pf51/m7+g/6i/q7+of6D/mH+R/5C/mb+tf4c/43/6f8cACgAEADy/+L/9P8vAIcA5QAwAVgBYAFAARIB6ADFAL8AxwDSANwA0ACsAHgAOgD4/7f/i/9x/2r/dv+E/47/iv94/2P/Uf9J/0//bv+f/9P/BwAxAEkAUwBOAFEAYgB7AJcAqwC1AKsAlAB4AFMAMgAQAOz/0v+5/6n/of+e/5//of+q/63/qv+n/5//nf+p/8X/8P8dAEMAXQBlAFUAPwAwACYANABUAHYAlwCjAJMAcAA/AA0A5v/P/8X/vP+5/6//oP+U/4D/b/9g/1j/X/9w/5f/x//6/y4ATgBgAGkAaAByAIoAsQDeAAgBJgEuASMBCwHnAMQApQCGAGwAUAAuAAkA2/+n/3T/Rv8i/wv/Av8E/w3/Gv8n/zr/TP9Y/2T/b/+A/5z/wP/p/w0ALgA9ADgAKAATAPz/6v/i/9r/0f/H/7X/nf98/1X/L/8P//r+8v7z/vj+/P79/vr+9/70/vP+AP8Z/z3/cv+r/+T/FwA9AFoAbgCAAJQAqgDGAN8A8AD5APMA4QDWANcA4QD0ABQBOQFVAWcBbAFgAUgBKwEKAe4A2QDNAMkAyQDLAMEApwCHAF4ANgAXAAUA///+/wAA/v/5/+//4P/T/8X/uP+u/6f/pf+p/7b/xv/W/+j/+P8EABAAFwAXABQAEgANAAIA+P/y//v/DAAnAEQASwA7ABMA2/+j/3P/Uv8//yz/E//2/tX+rP53/kP+DP7c/cf9xP3U/fL9EP4p/jv+Tf5m/o3+xv4O/2T/uf8BADoAXQBuAHQAdwCFAJwAvADjAP4ACAH7ANwAtACUAI8AmwC5AOMAAwEVARMB+ADNAKIAhAB4AIoAswDdAAYBGgESAQEB4wDLALwAtAC3ALoAvwDEAMMArgCDAEwACQDX/8z/4P8QAEoAcQCBAHIATwAlAAIA9//9/xYAOgBXAGkAbABeAEgAOQA8AEwAYwB3AIEAeQBeADsAFQDt/8f/qv+T/4P/cv9f/03/Nf8d/wr//P7w/u3+8f73/gP/Cv8L/wv/Af/0/u7+8P4I/zT/Y/+R/7D/vP/A/8L/xf/S/+f//P8VACsAPABIAEwATgBIAD8ANgAxADEANAA5AD4AQQBCAEAAPgA3ACkAHQAOAAgADQAXACYAMAAwACoAJAAqADkATABgAGkAZQBTADcAGAD+//D/8P/8/xIALAA/AEoATABFAD4AMAAgABMABQD8//r/AAANABsALQBBAEgARwBAADMAJgAiACgAKwAtACkAHgAQAAoADwAaACkANQA4ADIAJgAYAA8ACAAJABIAIAAzAEQAVABkAG4AewCCAIIAegBmAEwAMQAhACQAQABwAJsAtgC4AJ4AewBSADEAIAAYABgAFgAOAPz/2P+r/3L/Lv/3/tH+uf6u/qz+rv6v/rL+vP7J/tz+9v4P/yn/Pf9K/1j/Y/9s/3P/ef+F/5P/o/+0/8P/0f/X/9j/1f/K/8X/wv/I/+H/BQAyAGIAjACoAL0AzADSANcA2gDSAMUAtACnAJ8AnwCoALAAtwC/ALsAsgCnAI8AcQBdAE4ASQBVAGQAcgB+AIgAiwCNAJAAjwCOAJAAiwCEAH4AdQBpAFwAUwBLAEUARABEAEAAOgAwACUAHwAZABIACwD//+f/xf+e/3v/Yf9S/03/Tf9J/0D/Nf8u/yr/Lf85/0r/V/9f/17/WP9S/0//Uv9X/1v/Wv9R/0L/MP8j/x7/JP81/0r/YP90/4L/h/9//3H/Yv9W/1T/X/90/47/pv++/9X/6f8CACMAQgBfAHUAggCKAJEAmwCuAMYA3ADuAPgA+wD6APYA+AAHAR0BNAE/ATwBMAEYAQIB8QDiAN0A4QDsAPYA+AD0AOcA1gDHALsAtgCzAKsAnACDAGYASgAzACgAJwApACkAIgAPAPD/wv+O/1n/KP8E/+7+5v7r/u/+7f7m/tr+yv67/rH+rf6x/r7+3P4L/zv/c/+p/8b/0P/M/7v/qv+i/6n/x/8AAEIAfwCrAL4AtgCfAIcAeQB2AHcAcgBkAEEAEADe/6n/ev9V/zb/Gv/8/t/+wf6h/of+c/5r/n7+qf7r/jb/gv/M/wsARwB8AKIAwwDlAAsBMQFaAYUBpAG7AckBzAHPAc0ByQHIAcQBugGlAYEBTwEQAc4AkwBhADsAIwATAAAA5P/B/4//Wf8l//j+2v7Q/tX+4P7u/vz+Bv8T/x//Lv9B/1H/Zv+E/6r/0P/z/w4AHgAqADkARABSAF8AYgBbAEgAMAAcABUAIwBBAFkAXgBVADMAAADV/6z/iv+M/6T/xv/9/y8ARQBKAC8A7f+r/3r/Vv9Y/3n/nf/M////FAAZABwABADe/73/k/9v/27/eP+M/7H/yv/T/+H/6P/l//T/DQAnAFAAdACEAJAAkwCTAKUAwQDcAPMA+gDqANEAugCkAJcAmACdAKoAtwC1ALMAowB6AEsAFwDx/+b/6f8CACkAQQBGACsA4/+K/z//DP/7/g7/J/83/0L/PP8t/yj/L/87/0T/Rv8z/xn/Af/r/u7+Bf8k/1T/eP+G/5H/l/+k/7v/1v/o/+P/yf+c/2v/VP9o/7j/YwBdAVEC3wLeAlwCnwEFAbcAzABYASACzwItA/8CTAJjAZIAGgAZAGMAoQB7ANz/2v7F/QD9k/x5/LH8/vxA/Wz9Wf0K/aT8Yfxz/Pv84/3u/un/oAAMAU8BiwHKARwCdgLVAlADzwMmBD4EDASWAw4DkQIiAs4BjAFDAfQAkgAKAFv/hP6l/ff8pPy1/BP9fP2y/aT9X/0T/fD8D/1v/Qb+uf51/y0AxgAvAWIBZQFwAa0BKQLIAlgDqQObA0MDtwIbAp4BUwEzATkBSAEqAcQACQD9/uf9Jv3b/Af9cP27/b/9i/0q/eP89fxL/eP9o/5Y/97/MgBJABIA6/8TAIwAZwFBAqkCpQI6AqIBNQEJAQ4BJQE7ATEB6wB7AN7/Jv+f/lv+bf7U/kD/gf+P/1z/Fv/x/vf+LP+G/+X/TAC8ABkBUgFgAVABMwE+AXcBuQH1AewBjAESAYIA3/9a//r+zv73/k//jv+Y/0v/nP7X/Ub9I/2B/TL+4f5n/7D/yf/M/7D/n//B/ycA1QCTASUCYAI2AsoBSAHsANgA7AASASkBDgHEAFYAw/8f/6P+cf6O/uj+I/8F/6T+B/5t/VD9AP57/y4BUAJwAq8BsgAJAPL/nQDYAU4DtAROBc0EbwOoAU4A2P9BADcBBwIaAjMBkv/G/VX8g/s8+1/72ftt/Mb8mfzM+7/6E/o5+l77O/07/9IAqgHFAYABTAFwAfsBxQLBA8oEkAXRBVUFNgTTApoB0gCLAJwAtACkAFMAqf+0/oT9PPw5+7z68vq5+7D8bv25/aT9Xv09/YL9Nf5W/7MAAAISA7QD0QOTAysD3QL1AngDLgS+BMsEUQR0A2cCaAGEAOT/j/92/5H/nf9n/+n+KP5c/c38o/zp/HX9JP63/if/gv+i/6v/x//b/z4A/QCyAYICEQMlAwkDmgIOAqQBUwE2ASsBGQHaAEsAmP+n/rv9F/2v/Kn8v/y8/Iv8E/ym+237ivsi/O38zP2l/jf/uf84AJ4AHQGqAUAC7AJ2A8QDxAN1A+0CSwLAAVMBFAH5ANEAhQAEAEL/UP5V/Yv8K/xI/L38O/2G/Zz9kv2j/fv9i/5F/xMAxgBwARoCrAJBA8IDCQQrBBsE3gOzA5MDmQPNA9QDiwPZAtIB1AAjAN7/1v/H/3T/wP7d/ef8CvyR+3T7xftp/A79if2r/Xv9TP12/Uj+yP+NARgD6gPlA1sDsAJTAn0CJgMvBDYFsgVABdcD5wEjAB7/+f5g/6z/Vf8m/mX8kPo2+a348fjF+dH6wftT/GD88Ptv+0v73ftO/UP/OwHOApoDrgNYA/QC3gJRAzQEUgVjBusGnQZ6BcAD8gGgAO7/u/+9/3v/0v7P/Y/8ZfuF+hD6Jfq3+qH7p/x0/dn97f3z/U7+Kv9mANUBIQMDBHwEkgR0BE4EPgRiBKAE0wTKBFwEbQMcArMAfP/L/ov+eP5r/h/+g/3j/Fv87vvh+yL8kvxA/d39QP6E/rX+CP+g/3cARAHmAU8CbgKSAskCAwM0AyED0QJWAs4BWwHpAIIAHQC0/1T/8v57/gP+k/05/SL9Rv2E/dL9BP4L/hz+S/6Q/v/+f//2/4MAEAF6AdkBEgIhAigCHgITAgEC2wGSASoBsQA3AMX/Uv/h/nP+Hv7q/dH9yf3N/dn96v0H/iz+X/6s/hb/pf9BANIASgGMAaUBrAG8AfsBWQLDAhYDHQPgAmACswEOAYMAFgDP/4b/HP+R/vX9Xf3t/MH8xvzi/BT9O/1R/Xb9rP38/Yv+Zv9jAFoBFgJmAmsCggKvAjIDHQT9BKQFygUyBSUE+QIRAqkBtwH9AfIBVAEDACL+V/wN+4362vp++xz8Qfzh+zj7kPpo+uT65/tf/dn+IAAkAawB6AEGAisCogJqA14ETQXoBf4FdgV7BEUDGwJXAeQAoABhAMT/wv6A/SX8Fvtz+kv6hvrj+lP7p/vc+xj8VvzE/Hv9WP5m/4AAdgFDAtACGQNJA38DvwMYBHoErgSjBEMEhAOnAtMBFAGdAEIA1/9u/+P+QP69/VL9Ff0e/Vr9tP0a/mz+o/7L/v3+Sv+x/0QA4QBsAfABQgJmAnQCXgI8AjUCQgJPAlYCKAKkAfcAMwB7/wn/yf6s/pr+af4d/sP9cP0//T79bv3D/TT+qP4L/1L/eP+L/7f/EQCXADUBvQEOAiMCAwLJAZ8BigGLAZsBkAFJAcgAHgBl/9L+hP5t/oD+m/6I/kn+9P2J/UL9Pv1t/fT9sv5m/wEAWABbAEoAVwCcAD4BIwIBA6wD9AO+AzkDmAIIAr0BtQHIAdEBowEiAXAAqf/d/kD+2f2u/cD9+P0s/jT+//2a/TX9AP0e/Zz9Xf4r/9b/OQBQADsAKQBDAJ4ANQHfAV8CoAKTAjgC2QGNAV8BaAF7AXkBXQECAX8AAgCS/0T/Jf8X//r+zf6H/jL+9/3i/ez9Gv5R/n7+nv6g/pT+k/6s/uv+TP+//yQAaQCFAH4AbwB2AJIAywAfAWMBjAGQAVsBCQG2AHIAWABlAHQAbQBDAO//mv9l/1L/bP+j/87/6v/r/9X/wf+0/8z/GgCDAPYAUgF0AWEBJwHkAL4AxQDzADABWgFSARIBpQAsAM//n/+g/8H/5f/v/8z/dv8I/6T+af5x/rX+Gv+A/73/yf+3/5//of/P/xkAcQC5AMgApABaAPb/n/9w/2j/hf+u/8n/yv+k/2D/FP/X/rz+wP7Z/vv+Cv8D/+n+wf6q/rP+0/4O/1r/pv/p/x8AOwBFAFMAZwCSAN0AKQFwAacBsAGmAZ0BiwGBAXcBUwElAfIAwgCpAKEAjABeABkAu/9i/zH/Kv9X/6f/5v8EAP//0P+q/7L/6f9PAMwALgFkAXEBVwEqAQkBAQEWAUcBdwGMAXgBIQGVAAMAhf9B/0n/ef+v/7b/ZP/B/u79LP3G/Nb8T/0A/pP+zf6i/i7+t/2H/cX9dP5n/1IA9AAnAfIAjQA8ADMAkAA8AfIBcwKNAjAChQHHAC8A7P/9/0gAnwDGAJ0AHQBk/63+Lv4V/mz+/P6L/+f/6/+w/27/T/9u/9H/UADDABIBKwEWAfEAyQC5ANEA/wA8AWcBZgE+AdsAVgDf/4T/XP9o/43/tv+8/5T/TP/4/rn+qf7Q/iH/f//L/+//9P/j/8z/wv/L/+//JABeAJMArACgAHIAMAD7/9j/0P/c/+H/zv+c/0///v63/o7+iv6o/tr+DP8w/z7/QP9H/2P/o/8DAHcA6AA2AVkBUQEpAfkA3QDiAAABLgFaAWYBSgEBAZwAPQD///L/DgBDAHkAiQBpACQAzv+M/3H/gv/A/w4AUgB8AIMAZQA5ABEA/f8OADwAcwCsAMgAtgCHADoA6/+8/6//x//7/yMALgAUANH/e/8s//P+7P4R/0r/iv+o/5P/Wv8L/8P+pf7J/if/o/8RAEUAKQDL/1L/9/7h/hj/if8BAE0AVgAcAL7/aP87/03/nf8DAGAAmgCeAHcAPwARAAUAHQBIAHEAigCMAHMATAAjAAAA8P/z/wkANgBiAH4AiAB7AGEATQBCAEoAZQCCAJIAmACaAJUAkACUAKEAtwDQAN4A3wDUAL0AqgCcAJAAiwCEAHcAbABQACcA+v/G/5n/d/9t/4D/m/+t/7H/ov+E/2j/W/9m/4b/qv/G/9T/zv+8/5//f/9w/2j/ZP9v/37/kf+i/6b/n/+H/2L/Rv87/0z/c/+X/6//s/+j/47/h/+X/7n/5f8NAC0APgA+AD0ASABeAH4AoAC3AMEAvACmAIcAbQBRADcAKgAeABUADAD3/+D/xv+r/5z/nv+q/7L/rv+g/4z/eP93/5H/vv/2/yAANAAyABwABQD//w0AOAB2ALMA5AD4AOcAwwCjAJYApwDPAP4AHwEkAQkB2AChAHQAXwBpAIoArwDCALUAggAxAOb/sP+e/7H/2v/9/wkA9f+//3z/RP8t/0H/c/+q/9T/2P+5/4n/XP9L/17/if+7/9j/1P+z/4n/af9g/3D/j/+z/8b/wv+q/4n/cP9m/3P/jP+l/7r/wv/C/77/v//M/+j/CAAkADEAKAAQAPL/3P/Y/+r/EgA+AGAAcABiAEIAIwAQABYALwBaAIoAqACyAJ4AcgA/ABcABwARACwATABfAGEAWABHADsAOwBJAF0AcAB7AHgAZwBIACIAAADt/+r/9f8CAAYAAgD2/+b/3f/a/97/3//Y/8n/s/+c/4//j/+d/7P/wP++/63/iv9x/3H/iv+7/+n/AAD//+L/uv+Z/4z/mv+6/+D//f8GAPX/zf+o/4//j/+u/9z/BQAZABYA/P/e/9P/3f/+/yoAWQB5AIMAfgBrAFUARgBOAGgAhACaAJsAhQBfADYAHAAUACIAOgBUAGsAbwBmAFQAPwApABYACgAHAAgACAAEAP//+v/1//j/BwAdADUATwBgAGMAVgA+ACAACQD//wIAEwAlAC8AKAAQAPD/y/+y/6v/tP/H/9z/5P/a/8L/o/+G/3n/fP+M/6b/t/+7/7H/m/+D/2v/X/9i/3P/if+f/7H/sf+n/6H/nf+q/8P/4P8FACQANwA+ADIAGgD3/9f/zf/Y//n/IgBEAE0AOgAXAPT/3P/V/+H/8v8FAA8ACgAAAPL/6P/l/+3//f8NABoAHQAZABMADgARAB0AKAAqACkAIQAhAC0ARgBuAJAAoQCfAIkAbwBeAFkAYwB1AIYAiAB0AFMAKgAGAPb//v8bADwATwBOADYADgDu/+z/AQAlAEoAXgBUAC8A/f/J/6H/jf+S/6j/wf/P/87/vf+n/5b/mv+0/9v/DgA8AFQAVwBFACkABQDp/9v/2v/o//n/BAAEAPX/3v/G/7j/vP/J/9n/4v/e/8r/sP+W/4H/d/95/4j/m/+v/73/v/+6/7T/sf+y/7v/0P/o//3/CQAPABIAFgAeACwAOQBFAEoASgBJAEAAOwA7ADoAQABGAEgAPwAtABQA+//s/+j/7P/9/xEAIQApACgAIgAdAB4AJAAxAEMAUgBbAFgASwA0ABkAAwD4//r/CAAbACoANQAzACQAEQABAPf/+P8BAA0AFQAYAAkA6v/I/6v/nP+i/7r/2v/z////+f/h/7//ov+W/57/uv/j/wgAGwAaAAUA6f/P/8H/x//c//j/EQAhACQAGQAGAPH/2//M/8v/0//i//X/AAD+/+7/2//K/8H/x//a//X/FgAyAEQATwBMAEUAQgA/ADsANwAxACYAFwAKAP//+P/5//7/AAAAAPz/8f/e/8n/uP+t/6z/tv/F/9T/4P/m/+T/3//e/+T/7v/7/wYADgARABIAEwASAA4ADAANAA4ADgANAAgA/f/z/+v/6v/y//3/CgAUABQACQD6/+z/5P/k//D/AAATACMALQAtACoAKQAsADgASwBfAGwAbQBdAEAAIQAHAPX/9P/9/wkAFQAZABQABgD5/+//5//n/+z/8P/y/+r/3P/G/6v/nP+Y/6L/t//O/+D/6P/j/9f/yf+//7//y//g//b/BQANAAoA/v/w/+X/4v/q//3/EgAhACcAJAAcABUAEQAUAB0AKAAvACsAGgACAO//5v/o//f/CgAcACgAJwAcAAwAAAD7/wMAFgAsADsAPwA2ACcAFgAJAAUACwAWAB8AJAAjABwAEAAFAAAAAAAEAA0AFQAaAB0AGgASAAsACAAJAA8AEwAMAAQA/v/0/+7/7f/u/+3/6P/h/9f/zP/G/8P/xP/K/9P/3v/l/+n/6//o/+D/1f/Q/8//zf/P/9b/3P/i/+r/8f/0//j/9//1//f/+f/7//3/AAAHAAgACgAJAAYAAwADAA4AHQAsADwASABQAE0AQwA2ACcAGwAYABsAIQAmACkAJwAfABMABQD5//L/8f/4/wQAEAAXABYADQAAAPP/7P/p/+3/9f/7//3/+v/1/+r/2v/O/8f/yv/W/+f/9v/4/+//3P/E/7H/qf+v/8H/3P/2/wUABgD8/+3/5f/s/wUAKwBPAGkAcQBiAEUAHQD7/+f/4v/x/wgAHwAtACoAFwD7/+D/zv/N/+D//v8ZACcAIAAJAO7/1f/J/8r/2P/u/wQAFwAcABQABADx/+L/3//s/wMAHgAxADYALQAcAAoAAQAFABcAMABCAEsAQgArABEAAAD7/wUAGwAxADsANAAeAAAA4P/H/7//xP/X//H/BwAPAAYA7f/Q/77/vv/S//X/GwA6AEcAPgAlAAcA8f/m/+v/+v8HAA0ACwAAAPX/8f/2/wAADgAdACMAIQATAP//7f/h/97/5v/y//z/AQD///P/5//f/9z/4f/t//v//v/3/+v/3f/W/9z/7P8CABYAHgAeABUABgD6//H/7//z//r/AwAMABEAEAAJAP//9//7/wkAHAArAC4AJQASAPr/4//S/83/0v/f//L/AgASAB4AIgAiACEAIAAeAB4AHwAeABkAEQAHAP7/+v/7/wAACAAVACUAMwA7AD4AOgAyACsAJAAZABMADgAJAAMA/v/4//X/8f/s/+b/3v/X/9T/1P/W/93/5f/t//T/+f/4//L/6//l/+L/6P/x//j/+P/t/93/zf/B/7n/uP/B/9D/5v/9/w8AGQAYAA8ABwAAAPb/8P/x//n///8CAAEA///9//7/BQAQABwAJQAoACcAIQAXAAwAAQD6//T/8f/1//7/BQALAA0AEQAWABsAIwApACcAIQAaAA4A/v/v/+f/6f/0/wAADgAXABgAEgAGAPn/7//s//D/+f8FABEAFgATAAsAAAD1//L/+f8EABMAIQAkABwACwD4/+f/3v/f/+n/8P/v/+r/4f/Z/9P/0v/Y/+L/8P/+/wUABQD8//H/6v/t//n/BwAVAB0AHQAUAAYA+v/z//b/AwAXACoANQA1ACsAHQAPAAsAEwAjADUAQwBFADoAJAAJAPH/4P/d/+T/8/8BAAUA/f/r/9b/x//F/9D/4//1/wAAAAD0/9//yf+4/6//sP+8/87/3f/l/+P/2//T/9H/2f/r/wEAFQAgAB4AEAD+/+//7P/5/w0AIQArACcAFwAGAPf/8v/8/w8AKQBCAFAAUgBFADAAGQAJAAcAEwApAD8ATQBMAD0AJgAPAP//9v/2//v/AwAMABAACwAAAPP/5v/h/+n/+P8HABAAEAAFAPX/5f/e/+H/6//5/wQABQD+/+3/2f/L/8X/yf/V/+P/7v/x/+v/3//R/8v/0v/j//f/BgAOAAsAAQD2//D/8P/1//7/AwAEAAAA9v/p/93/2P/d/+j/9v8AAAQA/P/q/9f/x//B/8j/3P/0/wkAFwAbABcACwACAAEABAAMABYAHQAaABAAAQDz/+r/6f/y/wAAEgAgACUAHwAQAAAA8//v//b/BAAaAC0AOAA5ADAAIQATAAwADAAUACAAKAAoAB0ACAD4//D/9f8FABgAKQAvACoAHwARAAUAAwALABcAJQAtACsAIAALAPT/4v/e/+j/AAAbAC0AMgAoAA8A9f/g/9n/4v/3/w0AGwAdABAA9v/Z/8L/tv+9/9H/6/8BAAsACAD4/+L/0P/I/83/2P/m/+7/6//f/87/wP+6/7//0f/q/wEAEgAVAAoA9v/j/9n/1f/Y/9//4//m/+b/5P/h/97/3//k/+3/+f8DAAkACwAGAAQABgANABwAKgA0ADgANgAsAB4AEgAKAAUACAARABwAJQAqACoAIwAbABMADQAMABEAGAAdAB4AGwAWAA4ABgADAAIABQAKAA0ADgAIAAIA/v/7//7/AwANABYAIAAjACAAFgAEAPL/5P/a/+D/8f8HABwAJgAkABcABQD2/+3/6//v//X/+f/5//X/7v/q/+r/7v/0//n/+v/2/+z/2//G/7X/qf+p/7T/zf/u/woAHQAhABYAAgDu/+D/2v/Z/9z/4P/h/+H/4v/k/+f/8f8AABEAHwAnACQAFgAFAPf/7v/u//n/BgARABUAEAAHAP7/+P/5/wAACwAYACMAKQApACUAHgAWABAADwASABcAFwATAAsAAQD6//n//f8GAA4AEAAOAAgAAAD6//b/9//8/wMADAAVABsAHgAcABYADwALAAsADwAQAA0ABgD6/+7/5v/l/+n/8P/6/wMABgAGAAMA///8//z///8CAAgACQAGAAAA9//x//H/+P8BAAsAEwATAA0AAQD2/+7/6//w//n/AAADAAIA///3/+//6P/k/+f/7//3//3/AAAAAPn/7//p/+j/8P/6/wMACwAMAAYAAAD8//n//v8EAAsADwARABAADQALAAkACAAJAAsADQALAAQA/v/z/+n/4//i/+n/8////wgADQAMAAcA///3//f//v8JABgAIwAoACMAFwAIAPv/7v/m/+H/4//q//H/+v8BAAoAEwAaAB0AHQAcABoAFgARAA0ABgAAAPz/+f/2//T/9P/0//L/7v/p/+X/3//c/9z/3v/k/+3/9/8AAAUABwAIAAcABAADAP//+f/x/+n/4f/c/9j/1v/Y/93/5P/u//j/AQAJABAAFQAZAB0AHwAfAB4AGgAVAA8ACQAGAAUABgAIAAoADQASABQAFgAbAB8AIwAmACcAIwAcABUADAAGAAIAAAAAAP7/+v/1/+//6//q/+v/8//9/wMACgAMAAkAAAD3/+3/5f/j/+T/5//t//L/8//y//L/8f/0//b/9v/0//D/6v/j/+D/4f/o//P//v8HAAsACgAFAP//9//w/+z/6v/s//D/8//3//f/+P/6//3/AQAGAAkACQADAPr/8P/m/+L/4//o/+3/8P/z//X/9v/5//z/AQAFAAYABAD///j/9P/0//n/AwAPABoAIwAkACAAFwAMAAMA/////wAAAAAAAP7/+f/3//n//f8DAA4AGgAhACMAIAAYABEACQAGAAcACQAOABIAEgASABEADwASABgAHQAkACcAKwAsACoAKQAlACIAHgAXABAABgAAAPr/9f/z//T/+f///wQABgADAP7/9f/r/+P/3f/Z/9b/1P/T/9T/1f/X/9f/1f/T/9T/1P/W/9n/3v/l/+v/8f/2//v//v8AAP//+//4//T/8f/w//L/8//1//f/+f/7//3/AAAEAAgADgAVABkAGgAbABsAFgAQAAkAAAD7//f/9v/4//n//f8AAAEAAAD9//n/9v/3//z/AAACAAYACQANABIAFwAbACAAJgAqACwALQAtAC4AMAAzADkAPgBBAEIAQQA9ADcANQA1ADQANwA5ADcANQAvACYAHAAUAA8ADAANAA0ACQAEAP//9//x/+z/6P/n/+X/3//W/87/xf+7/7T/s/+3/7//yP/P/9H/zf/G/7//uf+3/7X/tv+5/7r/v//D/8b/zP/P/9H/0//W/9r/4P/n/+7/9P/5//r//P8AAAYAEQAhADAAOwBCAEUARQBGAEkASwBKAEcAPwA1AC0AJAAdABcAFAAVABgAHAAgACIAIgAbABQADgALAAsADgAPAA4ACgACAPn/7//o/+P/4v/k/+T/5v/l/+L/3v/c/93/4P/l/+3/8P/w/+3/5//g/9n/1v/V/9b/1v/X/9r/3f/j/+r/8f/6/wEACAANAA8ADgAIAAAA/f/7//7/BQAQABsAJQArAC4ALwAtAC0AMAA0ADgAPAA+AD8APAA4ADMALAAmAB4AGQAUAA8ACwAHAAMA///9//3///8AAAAA/f/3/+7/5f/d/9n/1//Z/9v/3P/c/9v/2P/X/9T/0v/R/9L/1v/Y/9z/4P/j/+X/6P/q/+v/7f/v//D/8v/z//T/9P/z//L/9P/5//7/AwAKABEAFgAYABgAFgAXABgAGwAgACQAKQAqACoAKgAqACsALgAyADYANgAzAC8AKgAkACIAHwAbABYAEAAJAAIA/v/8//r/+P/z/+3/5v/f/9n/1v/X/9n/2//f/+P/5f/n/+X/4v/f/93/3f/g/+L/4//k/+P/4v/j/+b/6f/t//P/+v8DAAwAEwAWABIACAD+//T/8//6/wQAFQAjACsALQAqACgAJwAqAC8ANAA4ADYAMgAqACMAHgAbABwAHgAfABwAGAARAAgA///2//H/7P/p/+X/4f/e/9z/2P/U/9P/z//N/8z/yv/M/87/0P/S/9T/1f/X/9j/2f/a/9n/2P/X/9f/2f/c/+T/7f/2//3/AwAJAA0AEgAYAB0AIQAhAB4AGAAQAAgAAgAAAAEABQAMABMAGgAhACcALAAuAC8ALAAoACQAHwAbABYAEAAKAAUAAwAFAAoAEQAXABwAHQAaABUAEAALAAgACAALAA8AEwATABEACwACAPv/9//2//j/+v/6//j/8//w//D/8//5////AAAAAP3/9//w/+v/5//l/+T/4f/h/+T/5v/q/+//8P/t/+r/6P/n/+f/6P/n/+T/3v/X/9P/0//Z/+P/7v/4/wAABAAFAAUAAwAAAP7/+v/3//X/9P/3//3/BwATAB8AKQAwADUANQAzADEALAAlAB8AFgAKAAEA/P/5//r//v8DAAYACAAIAAgABQABAP7//P/2//D/6//m/+X/5v/q//D/9f/4//r//P/8//z//P/+/wAAAAD///3/+v/1//P/9v/6/wAABQALAA8AEAAQABEAEgATABQAFAARAA4ACQAHAAcACQAMAA0ADQAMAAoACwAKAAkABwABAPr/8P/p/+T/5P/o/+7/9f/4//f/9f/y/+//8v/3//7/AwAHAAkACgAKAAsADAAOAA0ADAAJAAcABQAGAAsAEAAZACEAJgApACsAKwArACkAJgAgABkAEAAIAAMAAAD+//3/+//4//T/8v/z//X/9v/1//H/6//l/+D/3P/c/93/3v/e/9n/0//O/8v/zv/S/9r/4P/l/+j/6v/t//P/+f/+/wEAAQAAAAAA//8AAAUACwASABYAHAAfACEAIwAkACQAJAAiAB0AFwARAA0ACgALAA8AEgAVABcAFgAUABIAEAAQAA8ACwADAPv/8//r/+b/5f/p/+3/8v/y/+3/6f/m/+b/6v/v//H/8P/s/+j/5f/n/+3/+f8FABAAFwAcAB8AHQAaABYAEwAPAAgABQACAAAAAQADAAcACgANAA4AEAARABAADwAJAAQA/v/5//b/9f/3//n/+//+/wAAAwAAAP3/9//x/+3/6v/q/+v/7f/u/+//8v/3//3/AwAJAA0ADQAKAAQA/P/z/+r/4//e/93/2v/Y/9r/3f/i/+n/8P/1//n/+//6//f/9P/x/+//7//w//L/9f/5//3/AQAGAAoADgANAAsABgACAAAA+//4//f/9//3//j/+v/9/wAAAQADAAQABQAHAAoADQAQABIAEgASABAAEQAVABgAHAAgACIAIgAiACMAJAAlACYAJQAkACMAHwAdABsAGgAZABcAFAARAA8ACwAIAAYAAwAAAPv/9//0//T/9//7//3/+//3//H/7P/q/+f/5v/l/+P/4f/f/9//3//g/+P/5v/n/+f/6P/o/+j/6v/t//D/9P/3//f/9//3//j/+//9/wAAAwAHAAwAEgAXABkAHQAiACUAKAAqACsAKQAkABwAEwANAAgABgAGAAkADgAVABgAFwAUAAwAAgD3/+3/4//b/9f/1v/X/9f/2v/g/+b/7v/3//7/AQABAP7/9//w/+n/5f/k/+X/6f/v//T/+f/9////AAD///3//f/8//z//P/+/wAAAwAHAAwAEwAZACIAKgAxADUANgA0ADAAKwAlAB8AGwAYABUAFAAUABMAEAAMAAcAAQD8//v//P/+/wAAAgADAAMAAQAAAP///v8AAAQABQAGAAYAAQD+//j/8//v/+7/7P/q/+j/5P/h/97/3f/e/+D/5v/t//P/+P/8//7//P/7//r/+f/4//b/9f/1//T/9P/1//X/9//6//v//v8CAAUABgAGAAYABQAFAAUABgAFAAUABAADAAMAAwACAAIAAwAEAAYABwAJAAoACAAHAAUAAAD9//v/+f/8/wAABgANABEAEwAUABMAEAAMAAUAAAD7//b/8P/u/+3/7P/u//D/8v/1//n//v8CAAUACAAHAAMA/f/3//L/7v/t/+//8v/4//3/AAAEAAcACwAQABYAGgAcAB0AGwAVAA8ACgAFAAMABAAEAAUABQAEAAEAAQABAAIABgAKAA4AEAARABMAEgAQAA8ACwAHAAMA///6//T/8P/u/+z/7P/u//H/9P/5//3///////z/+P/0//H/7//u//H/9f/6//7/AAABAAAA/v/7//n/9//1//P/8v/v/+7/7v/x//P/9P/1//b/9f/1//f/+v8AAAcADgATABUAFAASAA8ACgAJAAgABgADAAAA///8//r/+v/8/wAAAwAIAAwADgAPAA8ADQALAAgABgAGAAcACAAJAAgABgAFAAMAAQACAAMAAQD///z/+P/2//r//v8CAAcACAAIAAYABgAGAAgACwAMAAoABgAAAPj/8f/r/+n/6v/t/+//7//x//L/9f/7/wAABAAIAAgABQAAAPr/9P/w/+//7//w//H/9P/0//X/+P/7//7/AgAHAAkACgAJAAYAAQD9//n/9v/3//j/+v/8//z//f///wAABAAIAAoADQAPAA4ADgANAAsACAAHAAYAAwABAP7/+f/1//P/8v/x//T/9v/6////AgAHAAoADQAOAA0ACAACAPz/9P/u/+r/6P/n/+n/7P/w//X/+/8AAAQABQAHAAkACgALAAoACgAKAAgACAAGAAYABQADAAMABAAFAAoADQARABIAEQANAAwADAALAAwACwAJAAUAAAD8//z//f/+/wIABgAJAAkACAAEAAAA/f/7//r/9//0//L/7v/q/+j/6f/v//f//v8AAAAA/v/4//T/9f/5/wAABQAIAAcABAAAAAAAAAABAAMABgAEAAAA/v/6//n/+f/7//7////+//3//P/7//z//v8AAAMABwAKAAsADQANAAoABwACAP//+//2//P/8//0//j//P8AAAMABQAGAAYABAACAAAA/f/7//r//P8AAAUACwASABYAFwAXABMADgAIAAAA+P/x/+z/5//n/+j/7P/x//j/AAAIAA8AEwATABMAEQALAAUAAAD6//P/7//t/+3/7//z//f/+v/7//v/+//6//r/+//7//n/+f/5//f/9//7//3/AAADAAYACAAKAAoACgAIAAQAAAD8//r/+f/6//v//P/8//7/AAAFAAsAEAASABMAEwARABAADQAMAAwADAAMAAsACQAEAAEA///9//3//v8AAAMABgAHAAYABAAAAP///////wAAAAD+//3//P/7//z//v///wAAAAAAAP///f/8//v/+//8//z/+v/4//b/9v/4//n//P/+//3//f/+//3//v8AAAAAAQACAAIAAwAEAAYABgAFAAMAAAAAAAAA/////wAAAAAAAP///v/8//v/+f/5//r/+//8//3///8BAAMABQAHAAgABQACAAEAAAD///3/+//4//j/+v/9//7/AAABAAIAAQAAAP3/+P/0//X/+v8AAAQACAAJAAcABQAEAAUACgALAA0ADQAKAAkABwAEAAQABAAEAAYABwAIAAgABwAHAAcABgAHAAkACgALAAoACAAEAAEAAAABAAIAAgACAAMAAgAAAP7//P/5//j/9f/z//L/8P/v//H/8//2//r//v8AAAIAAQAAAP///f/8//v/+//5//j/+P/3//f/9//5//r//P/+//7/AAAAAAAA///9//v/+v/6//3/AQAHAAwADQAMAAkABAAAAP7//f///wAAAgAFAAYACAAMAA8AEgASABEADgALAAkACAAFAAQABAAEAAcACAAIAAYABAADAAIAAwAFAAUABgAGAAUABAAEAAQABAAFAAUABAADAAEA///8//v//P/8//3//v///////v/+//7//v///wAAAQAAAAAA///9//v/+f/3//f/+f/6//z//v////////8AAAEAAwADAAMAAQD///v/+P/1//T/9f/2//b/9//4//v/AAACAAQABwAGAAYABAACAAAA//8AAAAAAQADAAUABwAHAAYABAADAAIAAgACAAMABAAEAAIAAAD9//v/+//7//7/AQAEAAcACQAKAAsACgAHAAEA/f/5//X/8//z//T/9f/5////AwAGAAcABgAFAAYABQAEAAEAAAD///7//f/9//z/+//8//z//v///wMABwAHAAcABQACAAEAAAAAAAEAAwADAAIAAAD+//3//f/+/wAAAQABAAEAAgAAAAAAAAAAAAEAAQABAAEAAAD+//z/+//5//f/+v/8//3///8AAAEAAQAAAP7//v8AAAIABAAEAAMAAAD8//n/9f/1//b/+f/9//7//////wAAAQADAAQAAwACAP//+//4//j/+f/8/wAAAQADAAMAAgABAAEAAQADAAQAAwACAAAAAAAAAAAAAQACAAMAAwACAAEA///6//f/9v/2//j/+//+/wAAAwAGAAgACAAGAAQAAAD9//3//f/9//3/AAAAAAEABAAFAAQAAwADAAQABQAGAAcABwAFAAEA///8//v/+//8////AQABAAIABAAFAAUABAACAAAA/f/9//7////9//v/+v/6//v//f///wEABAAFAAcABwAHAAUAAgAAAAAA//////////8AAAAA///9//v/+P/3//j/+f/8////AgAFAAcACAAHAAUAAwAAAP7//P/8//z/+//9//7//v/9//7///8AAAAAAQABAAAAAAAAAAAA/v/9//v/+v/6//3/AAAEAAUABgAEAAIAAgABAP///v/8//n/+f/8//3///8AAAAAAAADAAQAAwAAAPv/+P/3//X/+P/6//v//v8AAAMABgAIAAsACwAIAAUAAgAAAP///v///wAAAAACAAMABAAEAAQABgAHAAcABgAEAAIA///9//z/+//9////AAABAAIAAgABAAAA///9//7////+/wAAAAAAAAIABAAFAAMAAgAAAPv/9//1//X/9v/4//r//v8AAAIABAAEAAQABAAEAAUAAwAEAAQABAADAAIAAQABAAEAAQACAAQABAAEAAUABQAEAAMAAQD///3//P/6//n/+v/5//j/9//3//b/+P/5//v//v///wAAAAAAAAAAAAD///7//P/8//z/+//7//n/+f/6//r/+v/6//v//f8AAAIABAAGAAYABgAFAAMAAQAAAP///f/8//v//P/9/wAAAgAHAAoADQAQABAADwAMAAsACgAGAAUAAwABAAAAAAD///////8AAAAAAAABAAAAAAD///3//P/8//z//v///wAAAAAAAP///P/5//f/9f/z//P/8v/z//X/9v/5//v///8AAAEAAgACAAEAAQAAAAEAAwAEAAYABQAEAAIAAQAAAP7//v8AAAAAAQACAAEAAAD///7/+//7//v/+f/4//j/9v/1//X/9f/3//r//P/8//3//P/6//n/+P/3//j/+v/7////AQACAAQABgAJAAwADQAPAA8ADgAKAAcABAABAAEAAQACAAQABgAIAAkACQAIAAgABwAJAAkADAAOAA4ADQAKAAkACAAGAAQAAwACAAEAAAAAAP///v/9//v/+f/3//b/9//2//j/+f/7//7/AAADAAYABwAIAAUAAgAAAP3/+v/4//j/+f/5//n/+f/5//j/9//2//b/9//6//3/AAAEAAcACQAMAA0ADAALAAgABAABAP//AAAAAAAAAgACAAIAAQABAAEAAAAAAAAAAAD/////AAAAAAAAAQAAAP7//P/5//b/8//w//H/8f/x//P/9f/2//f/+P/6//z//v8AAAEAAgACAAMAAQD///z/+v/6//r//f8AAAAAAQABAAAA//////7//v8AAAMABgAJAAwADAAMAAsACgAKAAkACAAIAAcABwAHAAYABQADAAIAAAD///3//f/9////AAABAAEAAgACAAIAAgAAAAAAAAD/////AAAAAAMAAgABAP//+//4//f/9v/2//f/+v/9////AAACAAIAAgAAAAAA/v///wAAAgAEAAcACQAKAAkABwAEAAAA///9//7/AAACAAYABwAHAAYAAgAAAP3/+v/5//n/+f/7//v/+//6//n/+P/4//j/+v/7//z//v8AAAIABAAFAAYABwAGAAYABQADAAIAAAD/////AAAAAP/////9//r/+f/6//n/+v/6//n/+f/4//f/9//3//j/+f/5//r/+//7//3//v8AAAEABAAIAAoACwAMAAwADAAMAA0ADwARABMAEwATABMAEAANAAoABgACAP///P/6//n/+f/6//n/+v/5//f/9v/0//P/8//z//b/+P/6//7/AAAAAAAAAAD///3/+f/4//f/9//6//3/AQAEAAcACAAHAAUAAgAAAP3//P/+/wAAAwAGAAgACgAJAAcAAwAAAP///v/+////AAABAAMAAgACAAIAAAABAAEAAgACAAIAAwADAAMAAwABAAAAAAD+//3//P/8//z/+//8//v/+//7//n/+f/5//n/+v/6//r//f/+/wAAAQAEAAUABQAFAAQABAACAAEAAQABAAEAAAAAAP7//f/7//v//P/9////AAAAAP///v/8//z//P/+/wIABQAHAAgACAAGAAQAAQD///7//f/8//7/AAAAAAMABQAHAAgACQAKAAoACQAHAAcABgAHAAgACQAKAAoACQAJAAcABgAEAAIA///9//n/9v/1//X/9v/2//f/9v/1//X/9f/3//j/+v/8////AgADAAMAAwACAAEAAAAAAAEAAQACAAIAAgACAAEAAgADAAMAAAAAAP///f/8//z//P/9/wAAAQACAAIAAAD///z/+f/5//v//P///wIABQAGAAYABgAEAAIAAQAAAAAAAQACAAEAAQACAAEAAAAAAAAAAAD+//3//P/7//v//P/+/wAAAAABAAAA///+//3//f/9//3//f/9//3//f/8//v/+f/5//n//P///wMACAALAA4AEAASABMAEgARAAwABwADAP7/+//4//j/9//3//f/9//5//v//f/+/wAAAAD//wAAAwAFAAgADQASABMAEgAQAAsABwAAAPj/8//u/+v/7P/v//T/+f/+/wEAAQACAAEAAAD//wAAAQADAAUACAAJAAkACAAFAAAA/P/3//P/8P/x//P/9v/6//3/AAABAAIAAgACAAIAAQAAAAAAAAABAAIAAwAEAAYABgAFAAQAAAD+//v/+P/4//r//f8AAAIAAwAAAP7/+v/3//b/9//5//z/AAADAAQABAACAAIAAQACAAIAAgADAAEAAAAAAAEAAgAEAAUABQAGAAYABwAFAAMAAQAAAAAAAAAAAAEAAQAAAP///f/7//r/+P/3//j/+v/7//z//f/9//3//P/9/wAAAgAFAAkADAANAAwACgAGAAIA///7//j/9//4//n/+v/+/wEABAAGAAgABwAGAAMAAwADAAEAAAD+//z/+//5//j/9//3//f/9v/2//X/9f/2//j/+/8AAAgADgATABUAFQAUABAADAAHAAMAAAD9//r/+P/5//n/+v/8//3///8AAAIAAwABAAAA/v/8//r/+//8//3///8AAAIABAAEAAIAAgACAAIAAQABAAAA///8//n/9v/0//T/9f/4//v///8CAAUACAAJAAkABwAFAAMAAgABAAAA///+////AAAAAAEAAQACAAIAAQABAP///f///wAAAwAHAAkACgAIAAMAAgACAAEAAgADAAIAAgAAAP3/+//5//n/+//9//////8AAP/////9//v/+v/4//f/9//2//f/9f/z//T/8//1//f/+P/6//v/+//8//7/AAABAAMAAwADAAUABgAHAAcABwAGAAYABwAIAAgACAAGAAMAAQAAAP3/+//7//3///8CAAcACQALAAsACgAIAAYABQAEAAIAAAD//wAAAQACAAIAAwABAAAA/v/6//j/9f/z//P/9P/0//b/9v/4//r/+v/6//r/+P/4//n/+v/9//7///8AAAAAAAAAAP7//v/9//3//f/+//7/AAAAAAIABAAFAAcABwAHAAcABgAGAAcACAAJAAoACgAKAAkABwAEAAEAAQAAAAAA///9//z//f/9////AQACAAQABAADAAEAAAAAAAAAAAABAAMABgAJAAoACwAIAAMAAAD6//X/9P/z//T/9//5//z///8AAAMABAAEAAIAAAD+//z/+//8//7/AAACAAQABQADAAEA/v/5//b/8//z//X/+v/+/wAAAgAEAAMAAgABAAAAAAD+//3//v///wAAAQACAAIAAwACAAAA//////////8AAAEAAQACAAQABAAEAAMAAQAAAP7//v/9////AgAEAAgACQAJAAgABgAEAAQAAwABAAAAAAAAAAIAAwADAAQABAAEAAMAAgAAAP3/+//5//n/+f/6//z//P/+/wAAAQABAAAAAAD//////v/9//3/+//6//r/+//8////AQAEAAcACQAIAAYABAABAAAAAAD/////////////AAABAAIABAAFAAQAAgAAAP7//f/6//j/+P/5//r//f8AAAMABQAHAAYABQAEAAMAAQABAAAAAAD+//3//P/8//3//f/9//z/+//7//r/+v/6//r/+//9/wAAAQADAAQABAAEAAQABAAEAAMAAQAAAP7//P/7//z//P/9////AQACAAQABAAEAAMAAgABAAIAAgAEAAUABQAGAAYAAwABAAAA/v/9//v/+//6//v//f/+//7//v/+/////f/7//r/+f/5//r/+//8//3//////wAAAAABAAAAAAAAAAAAAQACAAQABQAHAAgACAAIAAcABgAFAAQAAwACAAIAAQAAAAEAAQABAAIAAgACAAEAAQABAAAAAAAAAP///f/6//r/+v/7//z//P/9//3//f/9//z//f/7//n/+f/3//n/+//8//7/AAAAAAIAAgAAAAAA///9//z/+//8//3//v8AAAIABwAKAAsADAAMAAsACgAJAAgABwAJAAgACgALAAwADAALAAoABwAFAAQAAgABAAAAAAABAAEAAgACAAAA/f/7//n/9//1//T/8//y//H/8P/y//L/8//0//X/9f/2//b/+P/6//v//P/+/wAAAAABAAIABAAFAAYABgAIAAgACAAKAAoACwALAAoACwAKAAkACgALAAsACgAKAAgACAAIAAYABQACAAEAAAABAAEAAQACAAIAAQAAAP7//P/6//f/9v/2//j/+P/6//z//f/8//n/+f/3//X/8//y//L/8v/z//T/9f/2//f/9//3//j/+P/3//b/+P/5//r//P/+/wAAAAABAAQABAAEAAQAAwACAAEAAQACAAIAAwAGAAcACAAKAAoACQAIAAYABgAFAAUABQAEAAUABQAFAAUABgAFAAMAAgABAAIAAgADAAMAAwACAAAA///9//z//P/8//3//v/+/////v/9//z/+//6//j/+P/2//X/9v/3//n/+v/6//z/+//6//r/+v/5//j/+f/6//r/+//9//7///8AAAEAAAAAAAAAAQACAAIAAwAGAAcACAAIAAcABgAFAAUABgAGAAcABwAHAAcABwAHAAUAAwACAAEAAAAAAAAAAgADAAMABQAGAAQABAAEAAEAAAAAAAAAAAAAAAAAAQACAAIAAwACAAEAAAD9//v/+//6//v/+//6//r/+f/4//f/9//3//b/9//2//f/9//2//f/9//4//j/+P/4//f/+P/6//r/+//9//7//f/9/////v///wAAAgADAAMABQAGAAYABwAJAAoADAANAAwADQANAAwADAAMAAwADAANAAwACwAMAAwADAALAAsACQAHAAYABAACAAIAAgADAAIAAQAAAP///f/7//n/9f/0//P/8f/w//D/8f/x//H/8v/y//H/8v/w/+//8P/w//H/8//1//f/+P/4//n/+//8//3//v/+//3///8AAAAAAgAEAAcACQALAAoACgAKAAoACgALAAsADAAMAA8AEAAPAA8ADgANAAwACgAKAAgACAAJAAgACAAHAAcABQAEAAMAAQAAAP///f/8//z//P/7//v/+v/5//n/+P/3//f/9//2//b/9//4//f/+P/4//f/9//3//f/+f/5//r/+//7//z//v8AAAAAAAABAAIAAwACAAQABAADAAQABQAGAAYACAAJAAgACAAIAAkACAAHAAcABQADAAQABQAEAAUABgAFAAYABQAFAAQAAgAAAAAAAQABAAIAAQABAAEAAQABAAAAAAAAAP7//f/+////AAAAAAEAAQABAAEAAAAAAAAAAAD/////AAAAAAEAAQABAAEAAAAAAP7//v/+//7//v/9//z//f/9//z//P/6//r/+v/5//r/+f/6//v/+v/7//z/+//7//r/+v/5//n/+f/6//v//P/8//3//v/9//v/+//8//3//f/+/wAAAQADAAQABQAGAAUABQAHAAcABgAHAAgACQAKAAwADQAMAAsACgAJAAgACAAHAAYACAAIAAgABwAHAAYABQAEAAEAAAD//////f/8//3/+//6//j/+P/2//X/9v/z//L/8v/z//L/8//x//H/8f/w//D/8P/z//X/9P/2//j/+v/8//v//f/+//7/AAAAAAIAAgAEAAYACAAJAAkACgAKAAsACwAKAAwACwALAA0ADAANAA0ADQAMAAwADAAMAAkACAAHAAUABQAEAAIAAgAAAP////////z//P/7//v/+v/5//n/9//3//f/+P/4//b/9//4//n/+f/6//r/+//8//z/+//9//////8AAAAAAAABAAAA//////7//v///wAAAAAAAAEA//////7//f/9//3//f/8//3//f/+////AAAAAAEAAAAAAAAAAAABAAEABAAFAAcACQAMAAwADQANAA0ADQANAA0ADgAOAA4AEAARABEAEQAQAA8ADgALAAoACAAHAAgABwAGAAYABAACAAAA/f/6//f/9v/0//L/8P/w//D/8f/w//D/8P/u/+3/7f/t/+z/7//v//H/8v/z//X/9v/2//b/9//3//n/+//9////AAACAAUABgAHAAgACQAKAAsADAAMAA8AEAARABMAEwATABIAEgAQAA8ADgANAAwACwAJAAkACAAGAAYABAADAAMAAQAAAAAA/P/7//r/9//2//T/8//z//L/8f/x//D/8P/x/+//7//v/+7/7f/t/+7/7//w//H/8//0//T/9f/2//f/+P/4//n/+//8//7///8AAAEAAgAEAAUABQAGAAcABwAJAAoADAANAA8AEQAOAA4ADwANAA0ADAAMAA0ACwAMAAsACQAJAAcABgAFAAMAAAAAAP///f/8//v/+//6//r/+v/5//n/+P/2//b/9v/2//X/9P/1//X/9f/1//X/9//3//f/9//2//b/9v/3//n/+v/8//z//v/+//7/AAD///7//v/8//z//P/8//3//P/9//z//f/9//3//v/9////AAAAAAAAAQADAAQABQAEAAUABAAEAAUABQAFAAUABAAEAAUABQAGAAcABwAJAAgACQAKAAkACgALAAkACQAJAAgACAAGAAYABgAFAAUABAADAAIAAQAAAAEAAAD+//3/+//7//r/+f/5//b/9v/0//P/8//0//T/9P/z//P/9P/0//X/8//0//T/9P/1//b/9v/3//n/+v/8//7/AAAAAAAAAQABAAEAAgACAAMABQAEAAYABgAHAAcABwAIAAkACQAIAAcACAAHAAYABwAGAAYABAACAAIAAgABAAAAAAAAAAAAAAAAAAAA///+//3//f/+//7//f/9//z//P/9//3//f/+//7//f/9//z//P/7//z//P//////AAAAAP////////3//P/9//3//f/9//3//v////7//v/+//7//v/9//3//f/+//3//f//////AAAAAAAAAQABAAEAAgACAAEAAgACAAIAAwADAAMABAADAAQABQAFAAYABwAHAAcABwAHAAYABQAFAAMAAgACAAEAAAAAAAAAAAAAAAAAAAD///3//P/8//r/+f/5//j/+f/5//j/+f/6//r/+//5//r/+v/5//v/+//7//z/+//7//v/+//9//7//v8AAAEAAQABAAEAAQACAAIAAwAEAAQAAwADAAMAAgADAAQABAAFAAYABgAHAAYABgAGAAYABQAEAAMAAgABAAAAAAAAAAAAAAAAAAAAAAAAAP///////////v/+//3//f/8//3//f/9//7//v/+//3//f/9//7//v///wAA/////////v/9//7///8AAAAAAAABAAAA////////AAAAAP//AAAAAAAAAAAAAAAAAAAAAAAAAQABAAAAAAAAAAEAAgACAAMAAwADAAMAAwAEAAQABAAEAAMAAgACAAMABAAEAAQABQAEAAMAAgABAAAAAAABAAAAAAD//wAA/v/9//7//v////7//v/+//z//P/6//n/+v/6//r/+v/6//r/+f/6//v/+//8//7//v/+////AAD//////////wAAAQACAAMABAAEAAUABgAHAAgACAAIAAgACAAJAAgACAAHAAcABwAGAAcABgAGAAYABQAEAAMAAwADAAIAAwABAAAAAAAAAAAAAAAAAAAA//////7//v////7//v/+//7//f/9//3//f/8//3//f/+//7///8AAP/////+///////+//3//v/9//z//v/9//7//////wAA///+//7//f/9////AAAAAAAAAAAAAAAAAAAAAAAAAAAAAAAAAAAAAAAAAAABAAAAAQABAAIAAgABAAEAAgABAAEAAQABAAEAAQAAAAAAAAAAAAAAAQABAAIAAgACAAEAAQABAAAAAAD////////+//7//f/9//3//f/+/////////////////////v///////v8AAAAA/////wAA/////wAAAAAAAAAAAAAAAAAAAQABAAIAAQABAAMAAgABAAIAAgACAAEAAQAAAAAAAAAAAAAAAAAAAAAAAAAAAAAAAAAAAAAAAQAAAAAAAAD///3//v/+//3//v///wAAAAD///////8AAAAAAAAAAAAAAQAAAAAA//8AAAAAAAAAAAAA//8AAAAA//////7///8AAAAAAAAAAAAA///////////+//3//v////////////////////7////+/wAAAAAAAAAAAAAAAAAAAAAAAAAAAAAAAAAAAAAAAAEAAAABAAEAAQADAAEAAQABAAIAAQABAAEAAgACAAIAAgABAAEAAQAAAAEAAQABAAIAAgACAAEAAAAAAP///v////7//v/+//7///////7//v/+//z//f/9//7//v///////////////////wAAAAAAAAAAAAAAAAAAAQABAAIAAQABAAIAAQABAAEAAQACAAIAAgACAAIAAgACAAIAAgABAAAAAAAAAAAAAAAAAAAAAQD/////AAD/////////////AAAAAAAAAAD//wAA////////AAAAAAAAAAABAAEAAQABAAEAAgABAAAAAQAAAAEAAQAAAAAAAAABAAEAAAAAAAAAAAAAAAEAAAABAAEAAAAAAAAAAAAAAP7///////7//v/+//7//f/+//7//v/+//////8AAAAAAAAAAP/////+//7//////wAAAAAAAAAAAAABAAAAAAABAAIAAgACAAIAAgACAAAAAQABAAAAAQAAAAAAAQAAAAAAAQAAAAAAAAAAAAAAAQAAAAAAAAAAAP///v/+//7//v/+//7//v/+//7////+///////////////+//7//////wAAAAAAAAAAAAABAAEAAQABAAIAAgABAAEAAQABAAAAAQAAAAAAAAABAAAAAQAAAAEAAQAAAAEAAAAAAAAAAAD+//7////+/////////////v///wAA//8AAAAAAAAAAP7//v/+//7///8AAAAAAAAAAAAAAQABAAEAAAAAAAEAAQAAAAAAAAAAAAAAAAABAAAAAAAAAAAAAAAAAAAAAAABAAAAAAAAAP//AAD/////////////AAD///7///8AAAAAAAAAAAAAAAAAAAAAAAAAAAAAAQABAAAAAAAAAAAAAQABAAIAAgACAAIAAgABAAEAAgABAAAAAAD//////v/+//7//v///wAAAAAAAAAAAAAAAAEAAAAAAP7//v////7//////////////wAAAAAAAAEAAQABAAEAAAAAAAEAAAAAAAAAAQD///3//v///wAAAAD//wAAAAAAAAEAAAAAAAAA/////////v/+////AAAAAAAAAAAAAAAAAAABAAEAAAAAAAAAAAAAAAAA//8AAAAAAAAAAAAAAAAAAAAAAQABAAEAAgAAAAAAAQABAAAAAAAAAAAAAAAAAAAAAAAAAAAAAQAAAAAAAQAAAAAAAQABAAAAAQABAP//AAD///7//v/+////AAAAAAAAAAAAAAAAAAAAAAAAAQAAAAAAAAD//wAAAAD//wAAAAAAAAAAAAAAAAEAAAAAAAEAAQAAAAEAAAD//////v///wAAAAAAAAAAAAAAAAAAAAAAAAAAAAAAAAAA//////////////7//////wAAAAAAAAEAAAAAAAEAAAAAAAAAAAAAAAAAAAAAAAAA//8AAAAAAAABAAAAAQABAAEAAQABAAAAAAABAAAAAAAAAAAAAAAAAP//AAAAAAAAAAABAAEAAQABAAIAAQABAAEAAAAAAAAAAAAAAAAAAAAAAAAAAAAAAAAAAAAAAAAAAAAAAAAAAAAAAP7/AAD//wAAAAAAAAAAAAAAAAAAAQAAAAAAAAAAAAAA//8AAP///v/+////AAAAAP///////wAAAAD//wAAAAAAAAAAAAD///7////+//7//v8AAAAAAAAAAAAAAAAAAAAAAAAAAP//AAD//wAAAAAAAP//AAAAAAAAAAAAAAAAAAAAAAAAAAABAAEAAAAAAAAAAAAAAAAAAAAAAAAAAAAAAAAAAAABAAAAAAAAAAAAAAAAAAAAAAAAAAAAAAAAAAAAAAAAAAAAAAAAAAAAAAAAAAAAAAAAAAAAAAAAAAAAAAAAAAAAAAAAAAAAAAAAAAAAAAAAAAAAAAAAAAEAAQAAAAAAAAAAAAAA/v/+/////v/+//7///8AAAAAAAAAAAAAAAABAP////////7//v////////8AAAAAAAAAAAAAAAAAAAAAAAAAAAAA////////AAAAAAAAAAAAAAEAAAAAAAEAAAAAAAAAAAAAAAAAAAAAAAAAAAAAAAAAAAAAAAAAAAAAAAAAAAAAAAAAAAAAAAAA//8AAAAA/////wAA/////wAAAAAAAAAAAAAAAAAAAAAAAAAAAAAAAAAAAAAAAAAAAAAAAAAAAQABAAAAAAAAAAAAAAAAAAEAAAAAAAAAAAAAAAAAAAAAAAAAAAAAAAAAAAAAAAAAAAAAAAAAAAAAAAAAAAAAAAAAAAAAAAAAAAAAAAAAAAAAAAAA//////////8AAAAAAAAAAAAAAAAAAAAAAAAAAAAAAAAAAAAAAAAAAAAAAAAAAAAAAAAAAAAAAAAAAAAAAAAAAAAAAAAAAAAAAAAAAAAAAAAAAAAAAAAAAAEAAQAAAAAAAAAAAP///////wAAAAAAAAAAAAAAAAAAAAAAAAAAAAAAAAAAAAAAAAAAAAAAAAAAAAAAAAAAAAAAAAAAAAAAAAAAAQAAAAAAAAAAAAAAAAAAAAAAAAAAAAAAAAAAAAAAAAAAAAAAAAD//wAAAAAAAAAAAAAAAAAAAAAAAAAAAAAAAAAAAAABAAEAAAAAAAAAAAAAAAAAAAAAAP////8AAP//AAAAAAAAAAAAAAAAAAAAAAAAAAABAAAAAAAAAAAAAAD///7/////////AAAAAAAAAAAAAAAAAAAAAAAAAAAAAAAAAAAAAAAA//8AAAAAAAAAAAAAAAAAAAAAAAAAAAEAAQAAAAAAAAAAAAAAAAAAAAAAAAAAAAEAAAAAAAAAAAAAAAAAAQAAAAAAAQAAAAAAAAAAAAAAAAAAAAAAAQABAAEAAQABAAEAAQAAAAAAAAAAAAAAAAAAAAAAAAAAAAAAAAAAAP//AAAAAAAAAAAAAAAAAAABAAAAAAABAAEAAQAAAAAAAAAAAAAAAAAAAAAA/////////v///////v/////////////////+////AAAAAAAAAAAAAAAAAAAAAAAAAQAAAAAAAAAAAAAA/////wAA//8AAP//AAAAAAAAAAD/////AAAAAAAAAAAAAAAAAAAAAAAAAAAAAAAAAAAAAAAAAAABAAAAAAAAAAAAAAAAAAAAAAAAAAAAAQAAAAAAAAABAAAAAQABAAEAAQAAAAAAAAAAAAAAAAAAAAAAAAAAAAAAAAAAAAAAAAAAAAAAAAAAAAAAAAAAAAAAAAAAAAAAAAD/////AAAAAP//////////AAAAAAAAAAAAAP////////////8AAAAAAAAAAAAAAAAAAP//AAAAAAAAAAAAAAAAAQAAAAAAAQAAAAAAAQABAAEAAAABAAAAAAD/////AAD//wAAAAAAAAAAAAAAAAEAAQABAAIAAgABAAEAAQACAAEAAQAAAAAAAAAAAAAAAAAAAAAAAAAAAAAAAAAAAAAAAAAAAAAAAAAAAAAAAAAAAAAAAAAAAAAAAAAAAAAAAQAAAAAAAAAAAAAAAAAAAAAAAAAAAP///v////7//v///////v/+//7///8AAAAAAAAAAAAAAAAAAAAAAAAAAAAAAAAAAAAAAAAAAAAAAAAAAAEAAQABAAEAAAAAAAAAAAAAAAAAAAAAAP//AAAAAAAAAAAAAAAAAAAAAAAAAQACAAEAAgACAAIAAgACAAAAAAAAAAAAAAAAAAAA/////////////////////wAAAAAAAAAAAAAAAAAAAAAAAP///////////////wAAAAAAAAAAAAAAAAAA//8AAAAA//8AAAAA/////wAAAAD///////8AAAAAAAAAAAAAAAABAAEAAQABAAEAAQABAAEAAAABAAAAAAAAAAAAAAAAAAAAAAAAAP////8AAP//////////////////AAAAAAAAAAAAAAAAAAAAAAAAAQAAAAAAAQAAAAAAAQAAAAAAAAAAAP////8AAAAA//8AAAAAAAAAAAAAAAAAAAAAAAAAAAEAAQABAAEAAQABAAEAAQABAAEAAAAAAAAAAAD//////////////v////7//v/+//7/AAAAAAAAAAAAAAAAAAAAAAAAAAAAAAAAAAAAAAAAAAAAAAAAAQABAAAAAQAAAAAAAAAAAAAAAAAAAAAAAAAAAAAAAAAAAAAAAAAAAAAAAAD/////AAAAAAAAAAAAAAAAAAAAAAAAAAAAAAAAAQAAAAAAAAAAAAAAAAAAAAAAAAAAAAAAAAAAAAAAAAAAAAAAAAAAAAAA//8AAAAAAAAAAAAAAAAAAAAAAAAAAAAAAAAAAAAA//8AAAAAAAAAAAAAAAAAAAAAAAAAAAAAAAAAAAAA////////AAABAAAAAAAAAAAAAAAAAAAAAAAAAAAAAAD//wAAAAAAAAAAAAAAAAAAAAAAAAAAAAABAAAAAAAAAAAAAAD/////AAAAAAAAAAAAAAAAAAAAAAAAAAAAAAAAAAAAAAEAAQABAAAAAAAAAAAAAAABAAEAAAABAAEAAQABAAAAAAABAAEAAAAAAAAAAAAAAAAAAAAAAAAAAAAAAAAA/////wAAAAD//////f/+//7//v/+//7//v/+//7//f/+//7//v/+//3//f/9//7////+/////v/+//////8AAAAAAAAAAAAAAAAAAAAAAAAAAAAAAAD///////8AAP//AAD//wAAAAD//wAAAAD//wAAAAAAAAAAAAAAAAAAAAAAAAAAAAAAAAAAAAAAAAAAAAAAAAAAAAAAAAAAAAAAAAAAAAAAAAAAAAAAAAAAAAAAAAAAAAAAAAAAAAAAAAAAAAAAAAAAAAAAAAAAAAAAAAAAAAAAAAAAAAAAAAAAAAAAAAAAAAABAAAAAAAAAAAAAAAAAAAAAAAAAAAAAAAAAAAAAAAAAAAAAAAAAAEAAAAAAAAAAQAAAAAAAAAAAAAAAAAAAAAAAAAAAAAAAQAAAAAAAAAAAAAAAAAAAAAAAAAAAAAAAAAAAAAAAAAAAAAAAAAAAAAAAAAAAAAAAAAAAAAAAAAAAAAAAAAAAAAAAAAAAAAAAAAAAAAAAAAAAAAAAAAAAAEAAAAAAAEAAAAAAAEAAAAAAAAAAAAAAAAAAAAAAAAAAAAAAAAAAQAAAAAAAAAAAAAAAAAAAP///v////7//v/+//7/AAAAAAAAAAAAAAAAAAAAAAAAAAAAAAAAAAAAAAAAAAAAAAAAAQAAAAAAAAAAAAAAAAAAAAEAAQABAAEAAQABAAAAAAAAAAAAAAABAAAAAAAAAAAAAAAAAAAAAAAAAAAAAAAAAAAAAAAAAAAAAAD///7//v///////////wAA///+//////8AAAAAAAAAAAAAAQAAAAAAAAAAAAAAAAAAAAAAAAAAAAAAAAAAAAEAAAABAAEAAQABAAEAAAAAAAAAAQABAAEAAAAAAAAAAAAAAAAAAAAAAAAAAAAAAAAAAAAAAAAAAAAAAAAAAAAAAAAAAAD///7//v/+//7///8AAAAAAAAAAAAAAAD/////AAAAAAAAAAAAAAAAAAAAAAAAAAAAAAAAAAAAAAAAAAAAAAAAAAAAAAAAAAAAAAEAAAAAAAAAAAAAAAAAAAAAAAAAAAAAAAAAAAAAAAAAAAAAAAAAAAAAAAAAAAAAAAAAAAAAAAAAAAAAAAAAAAAAAAAAAAAAAAAAAAAAAAAAAAAAAAAAAAAAAAAAAAAAAAAAAAAAAAAAAAAAAAAAAAAAAAAAAAAAAAAAAAAAAAAAAAAAAAAAAAAAAAAAAAAAAAAAAAAAAAAAAAAAAAAAAAAAAAAAAAAAAAAAAAAAAAAAAAAAAP//AAAAAAAAAAAAAAAAAAAAAAAAAAAAAAAAAAAAAAAAAAAAAAAAAAAAAAAAAAAAAAAAAAAAAAAAAAAAAAAAAAAAAAAAAAAAAAAAAAAAAAAAAAAAAAAAAAAAAAAAAAAAAAAAAAAAAAAAAAAAAAAAAAAAAAAAAAAAAAAAAAAAAAAAAAAAAAAAAAAAAAAAAAAAAAAAAAAAAAAAAAAAAAAAAAAAAAAAAAAAAAAAAAAAAAAAAAAAAAAAAAAAAAAAAAAAAAEAAAAAAAAAAAAAAAAAAAAAAAAAAAAAAAAAAAAAAAAAAAAAAAAAAAAAAAAAAAAAAAAAAAAAAAAAAAAAAAAAAAAAAAAAAAAAAP//AAAAAAAAAAAAAAAAAAAAAAAAAAAAAAAAAAAAAAAAAAAAAAAAAAAAAAAAAAAAAAAAAAAAAAAAAAAAAAAAAAAAAAAAAAAAAAAAAAAAAAAAAAAAAAAAAAAAAAAAAAAAAAAAAAAAAAAAAAAAAAAAAAAAAAAAAAAAAAAAAAAAAAAAAAAAAAAAAAAAAAAAAAAAAAAAAAAAAAAAAAAAAAAAAAAAAAAAAAAAAAAAAAAAAAAAAAAAAAAAAAAAAAAAAAAAAAAAAAAAAAAAAAAAAAAAAAAAAAAAAAAAAAAAAAAAAAAAAAAAAAAAAAD//////////wAAAAAAAAAA//8AAAAAAAAAAAAAAAAAAAAAAAAAAAAAAAAAAAAAAAAAAAAAAAAAAAAAAAAAAAAAAAAAAAAAAAAAAAAAAQABAAEAAAAAAAAAAAAAAP////////////8AAAAAAAAAAAAAAAAAAAAAAAAAAAAAAAD////////+//7////+/wAAAAAAAAAAAAAAAAAAAAAAAAAAAAAAAAAAAAAAAAAAAAAAAAAAAAAAAAAAAAAAAAAAAAAAAAAAAAAAAAAAAAAAAAAAAAAAAAAAAAAAAP///////wAAAAAAAAAAAAAAAAAAAAAAAAAAAAAAAP//AAAAAAAAAAAAAAAA///+/////v///wAAAAAAAAAAAAAAAAAA//////////8AAAAAAAAAAAAAAAAAAAAAAAAAAAAAAAAAAAAAAAAAAAAAAQABAAAAAAAAAAAAAAAAAAAAAAAAAAAAAAAAAAAAAAAAAAAAAAAAAAAAAAAAAAAAAAAAAAAAAAAAAAAAAAAAAAAAAAAAAAAAAAABAAEAAAAAAAAAAAAAAAAAAAAAAAAAAAAAAP///v/+//7//v/+//7//v////7//////////////wAA/////wAAAQAAAAAAAAAAAAAAAAABAAEAAAABAAAAAAAAAAAAAAAAAAAAAAAAAAAAAAAAAAEAAAAAAAAAAQAAAAAAAAAAAAAAAAAAAAEAAAAAAAAAAAAAAAAAAAAAAAAAAAAAAP//AAAAAP///////wAAAAAAAAAAAAAAAAAAAAAAAAAAAAAAAAAAAAAAAAAAAAAAAAEAAAAAAAAAAAAAAAAAAAAAAAAAAAAAAAAAAAAAAAAAAAAAAAAAAAAAAAEAAAAAAAAAAAAAAAAAAAAAAAAAAAAAAAAAAAABAAAAAAAAAAAAAAAAAAAAAAAAAAAAAAAAAAAAAAAAAAAAAAAAAAAAAAAAAAAAAAAAAAAA///+//////8AAAAAAAD//wAAAAAAAAAAAAAAAAAAAAAAAAAAAAAAAAAAAAAAAAAAAAAAAAAAAAD//wAAAAD//wAAAAAAAAAAAAAAAAAAAAAAAAEAAQABAAEAAAAAAAAAAAABAAAAAAAAAAAAAAAAAAAAAAAAAAAAAAAAAP//AAAAAAAAAAAAAAAAAAAAAP7//v/+/////////////v///////v/+//////8AAAAAAAAAAAAAAAAAAAAAAAAAAAAAAAAAAAAAAAAAAAAAAAAAAAAAAAAAAAAAAAAAAAAAAAAAAAAAAAAAAAAAAAAAAAAAAAAAAAAAAAAAAAAAAAAAAAAAAAAAAAAAAAAAAAAAAAAAAAAAAAAAAAAAAAAAAAAAAAAAAAAAAAAAAAAAAAAAAAAAAAAAAAAAAAAAAAAAAAAAAAAAAAAAAAAAAAAAAAAAAAAAAAAAAAAAAAAAAAAAAAAAAAAAAAAAAAAAAAAAAAAAAAAAAAAAAAAAAAAAAAAAAAAAAAAAAAAAAAAAAAAAAAAAAAAAAAAAAAAAAAAAAAAAAAAAAAAAAAAAAAAAAAAAAAAAAAAAAAAAAAAAAAAAAAAAAAAAAAAAAAAAAAAAAAAAAAAAAAAAAAAAAAAAAAAAAAAAAAAAAAAAAAAAAAAAAAAAAAAAAAAAAAAAAAAAAAAAAAAAAAAAAAAAAAAAAAAAAAAAAAAAAAAAAAAAAAAAAAAAAAAAAAAAAAAAAAAAAAAAAAAAAAAAAAAAAAAAAAAAAAAAAAAAAAAAAAAAAAAAAAAAAAAAAAAAAAAAAAAAAAAAAAAAAAAAAAAAAAAAAAAAAAAAAAAAAAAAAAAAAAAAAAAAAAAAAAAAAAAAAAAAAAAAAAAAAAAAAAAAAAAAAAAAAAAAAAAAAAAAAAAAAAAAAAAAAAAAAAAAAAAAAAAAAAAAAAAAAAAAAAAAAAAAAAAAAAAAAAAAAAAAAAAAAAAAAAAAAAAAAAAAAAAAAAAAAAAAAAAAAAAAAAAAAAAAAAAAAAAAAAAAAAAAAAAAAAAAAAAAAAAAAAAAAAAAAAAAAAAAAAAAAAAAAAAAAAAAAAAAAAAAAAAAAAAAAAAAAAAAAAAAAAAAAAAAAAAAAAAAAAAAAAAAAAAAAAAAAAAAAAAAAAAAAAAAAAAAAAAAAAAAAAAAAAAAAAAAAAAAAAAAAAAAAAAAAAAAAAAAAAABAAEAAQAAAAAAAAAAAAAAAAAAAAAAAAAAAAAAAAAAAAAAAAAAAAAAAAAAAAAAAAAAAAAAAAAAAAAAAAAAAAAAAAAAAAAAAAAAAAAAAAAAAAAAAAAAAAAAAAAAAAAAAAAAAAAAAAAAAAAAAAAAAAAAAAAAAAAAAAAAAAAAAAAAAAAAAAAAAAAAAAAAAAAAAAAAAAAAAAAAAAAAAAAAAAAAAAAAAAAAAAAAAAAAAAAAAAAAAAAAAAAAAAAAAAAAAAAAAAAAAAAAAAAAAAAAAAAAAAAAAAAAAAAAAAAAAAAAAAAAAAAAAAAAAAAAAAAAAAAAAAAAAAAAAAAAAAAAAAAAAQAAAAAAAAAAAAAAAAAAAAAAAAAAAAAAAAAAAAAAAAAAAAAAAAAAAAAAAAAAAAAAAAAAAAAAAAAAAAAAAAAAAAAAAAAAAAAAAAAAAAAA//////////8AAAAAAAAAAAAAAAAAAAAAAAAAAAAAAAAAAAAAAAAAAAAAAAAAAAAAAAAAAAAAAAAAAAAAAAAAAAAAAAAAAAAAAAD//wAAAAAAAAAAAAAAAAAAAAAAAAAAAAAAAAAAAAAAAAAAAAAAAAAAAAAAAAAAAAAAAAAAAAAAAAEAAAAAAAAAAAAAAAAAAAAAAAAAAAAAAAAAAAAAAAAAAAAAAAAAAAAAAAAAAAAAAAAAAAAAAAAAAAAAAAAAAAAAAAAAAAAAAAAAAAAAAAAAAAAAAAAAAAAAAAAAAAAAAAAAAAAAAAAAAAAAAAAAAAAAAAAAAAAAAAAAAAAAAAAAAAAAAAAAAAAAAAAAAAAAAAAAAAAAAAAAAAAAAAAAAAAAAAAAAAAAAAAAAAAAAAAAAAAAAAAAAAAAAAAAAAAAAAAAAAAAAAAAAAAAAAAAAAAAAAAAAAAAAAAAAAAAAAAAAAAAAAAAAAAAAAAAAAAAAAAAAAAAAAAAAAAAAAAAAAAAAAAAAAAAAAAAAAAAAAAAAAAAAAAAAAAAAAAAAAAAAAAAAAAAAAAAAAAAAAAAAAAAAAAAAAAAAAAAAAAAAAAAAAAAAAAAAAAAAAAAAAAAAAAAAAAAAAAAAAAAAAAAAAAAAAAAAAAAAAAAAAAAAAAAAAAAAAAAAAAAAAAAAAAAAAAAAAAAAAAAAAAAAAAAAAAAAAAAAAAAAAAAAAAAAAAAAAAAAAAAAAAAAAAAAAAAAAAAAAAAAAAAAAAAAAAAAAAAAAAAAAAAAAAAAAAAAAAAAAAAAAAAAAAAAAAAAAAAAAAAAAAAAAAAAAAAAAAAAAAAAAAAAAAAAAAAAAAAAAAAAAAAAAAAAAAAAAAAAAAAAAAAAAAAAAAAAAAAAAAAAAAAAAAAAAAAAAAAAAAAAAAAAAAAAAAAAAAAAAAAAAAAAAAAAAAAAAAAAAAAAAAAAAAAAAAAAAAAAAAAAAAAAAAAAAAAAAAAAAAAAAAAAAAAAAAAAAAAAAAAAAAAAAAAAAAAAAAAAAAAAAAAAAAAAAAAAAAAAAAAAAAAAAAAAAAAAAAAAAAAAAAAAAAAAAAAAAAAAAAAAAAAAAAAAAAAAAAAAAAAAAAAAAAAAAAAAAAAAAAAAAAAAAAAAAAAAAAAAAAAAAAAAAAAAAAAAAAAAAAAAAAAAAAAAAAAAAAAAAAAAAAAAAAAAAAAAAAAAAAAAAAAAAAAAAAAAAAAAAAAAAAAAAAAAAAAAAAAAAAAAAAAAAAAAAAAAAAAAAAAAAAAAAAAAAAAAAAAAAAAAAAAAAAAAAAAAAAAAAAAAAAAAAAAAAAAAAAAAAAAAAAAAAAAAAAAAAAAAAAAAAAAAAAAAAAAAAAAAAAAAAAAAAAAAAAAAAAAAAAAAAAAAAAAAAAAAAAAAAAAAAAAAAAAAAAAAAAAAAAAAAAAAAAAAAAAAAAAAAAAAAAAAAAAAAAAAAAAAAAAAAAAAAAAAAAAAAAAAAAAAAAAAAAAAAAAAAAAAAAAAAAAAAAAAAAAAAAAAAAAAAAAAAAAAAAAAAAAAAAAAAAAAAAAAAAAAAAAAAAAAAAAAAAAAAAAAAAAAAAAAAAAAAAAAAAAAAAAAAAAAAAAAAAAAAAAAAAAAAAAAAAAAAAAAAAAAAAAAAAAAAAAAAAAAAAAAAAAAAAAAAAAAAAAAAAAAAAAAAAAAAAAAAAAAAAAAAAAAAAAAAAAAAAAAAAAAAAAAAAAAAAAAAAAAAAAAAAAAAAAAAAAAAAAAAAAAAAAAAAAAAAAAAAAAAAAAAAAAAAAAAAAAAAAAAAAAAAAAAAAAAAAAAAAAAAAAAAAAAAAAAAAAAAAAAAAAAAAAAAAAAAAAAAAAAAAAAAAAAAAAAAAAAAAAAAAAAAAAAAAAAAAAAAAAAAAAAAAAAAAAAAAAAAAAAAAAAAAAAAAAAAAAAAAAAAAAAAAAAAAAAAAAAAAAAAAAAAAAAAAAAAAAAAAAAAAAAAAAAAAAAAAAAAAAAAAAAAAAAAAAAAAAAAAAAAAAAAAAAAAAAAAAAAAAAAAAAAAAAAAAAAAAAAAAAAAAAAAAAAAAAAAAAAAAAAAAAAAAAAAAAABAAEAAAAAAAAAAAAAAAAAAAAAAAAAAAAAAAAAAAAAAAAAAAAAAAEAAQABAAAAAAAAAAAAAAAAAAAAAAAAAAAAAAAAAAAAAAAAAAAAAAAAAAAAAAAAAAAAAAAAAAEAAAD//////////wAA///+///////+//7///8AAAAAAAAAAAAAAAAAAAAAAAAAAAAAAAAAAAAAAAAAAAAAAQABAAAAAAAAAAAAAAAAAAAAAAAAAAAAAAAAAAAAAAAAAAAAAAAAAAAAAAAAAAAAAAAAAAAAAAAAAAAA//8AAAAAAAAAAAAAAAAAAAAAAAAAAAAAAAAAAAAAAAAAAAAAAAAAAAAAAAAAAAAAAAAAAAAAAAAAAAAAAAAAAAAAAAAAAAAAAAAAAAAAAAAAAAAAAAAAAAAAAAAAAAAAAAAAAAAAAAAAAAAAAAAAAAAAAAAAAAAAAAAAAAAAAAAAAAAAAAAAAAAAAAAAAAAAAAAAAAAAAAAAAAAAAAAAAAAAAAAAAAAAAAAAAAAAAAAAAAAAAAAAAAAAAAAAAAAAAAAAAAAAAAAAAAAAAAAAAAAAAAAAAAAAAAAAAAAAAAAAAAAAAAAAAAAAAAAAAAAAAAAAAAAAAAAAAAAAAAAAAAAAAAAAAAAAAAAAAAEAAAAAAAAAAAAAAAAAAAAAAAAAAAAAAAAAAAAAAAAAAAAAAAAAAAAAAAAAAAABAAAAAAAAAAAAAAAAAAAAAAAAAAAAAAAAAAAAAAAAAAAAAAAAAAAAAAAAAAAAAAAAAAAAAQAAAAAAAAAAAAAAAAAAAAAAAAAAAAAAAAAAAAAAAAAAAAAAAAAAAAAAAAAAAAAAAAAAAAAAAAAAAAAAAAAAAAAAAAAAAAAAAAAAAAAAAAAAAAAAAAAAAAAAAAAAAAAAAAAAAAAAAAAAAAAAAAAAAAAAAAAAAAAAAAAAAAAAAAAAAAAAAAAAAAAAAAAAAAAAAAAAAAAAAAAAAAAAAAAAAAAAAAAAAAAAAAAAAAAAAAAAAAAAAAAAAAAAAAAAAAAAAAAAAAAAAAAAAAAAAAAAAAAAAAAAAAAAAAAAAAAAAAAAAAAAAAAAAAAAAAAAAAAAAAAAAAAAAAAAAAAAAAAAAAAAAAAAAAAAAAAAAAAAAAAAAAAAAAAAAAAAAAAAAAAAAAAAAAAAAAAAAAAAAAAAAAAAAAAAAAAAAAAAAAAAAAAAAAAAAAAAAAAAAAAAAAAAAAAAAAAAAAAAAAAAAAAAAAAAAAD//wAAAAAAAAAAAAAAAAAAAAAAAAAAAAAAAAAAAAAAAAAAAAAAAAAAAAAAAAAAAAAAAAAAAAAAAAAAAAAAAAAAAAAAAAAAAAAAAAAAAAAAAAAAAAAAAAAAAAAAAAEAAAAAAAAAAAAAAAAAAQAAAAEAAQAAAAAAAAAAAAAAAAAAAAAAAAAAAAAAAAAAAAAAAAAAAAAAAAAAAAAAAAAAAAAAAAAAAAAAAAAAAAAAAAAAAAAAAAAAAP//AAAAAAAAAAAAAAAA//8AAAAAAAAAAAAAAAAAAAAAAAAAAAAAAAAAAAAAAAAAAAAAAAAAAAAAAAAAAAAAAAAAAAAAAAAAAAAAAAAAAAAAAAAAAAAAAAAAAAAAAAAAAAAAAAAAAAAAAAAAAAAAAAAAAAAAAAAAAAAAAAAAAAAAAQAAAAAAAAAAAAAAAAAAAAAAAAAAAAAAAAAAAAAAAAAAAAAAAAAAAAAAAAAAAAAAAAAAAAAAAAABAAAAAAAAAAAAAAAAAAAAAAAAAAAA//8AAAAAAAAAAAAAAAD+//////8AAAAAAAAAAAAA/////////////wAAAAD///////8AAAAAAAAAAAAAAAAAAAAAAAAAAAAAAAAAAAAAAAAAAAAAAAAAAAAAAAABAAEAAQAAAAAAAAAAAAAAAAABAAAAAAAAAAAAAQABAAAAAQABAAAAAAAAAAEAAAAAAAAAAAAAAAAAAAAAAAAAAAAAAAAAAAAAAAAAAQAAAP/////+////AAAAAAAAAAAAAAAAAAAAAAAAAAD//////v/+//7//v//////AAD//wAAAAAAAAAAAAAAAAAAAAAAAAAAAAAAAAAAAAAAAAAAAAAAAAAAAAAAAAAAAAAAAAAAAAAAAAAAAAAAAAAAAAAAAAAAAAAAAAAAAAABAAAAAAAAAAAAAAAAAAAAAAAAAAAAAAAAAAAAAAAAAAAAAAAAAAAAAAAAAAAAAAAAAAAAAAAAAAAAAAAAAAAAAAAAAAEAAQAAAAAAAAAAAAAAAQAAAAAAAAAAAAAAAAAAAP////8AAP///////wAAAAAAAAAAAAAAAAAAAAAAAAAAAAAAAAAAAAAAAAAAAAD///7//v///////v///////v///wAA//8AAAAA//8AAAAA//8AAAAAAAAAAAAAAAAAAAAAAAAAAAAAAAAAAAAAAAAAAAAAAAAAAAAAAAAAAAAAAAAAAAAAAAAAAAAAAQAAAAAAAAAAAAAAAAAAAAEAAAABAAEAAAAAAAAAAAAAAAAAAAAAAAAAAAAAAAAAAAAAAAAA////////AAD//wAAAAAAAAAAAAAAAAAAAAAAAAAAAAAAAAAAAAAAAAAAAAAAAAAAAAAAAAAAAAAAAAAA/v/+///////+//7//////wAAAAAAAAAAAAAAAAAAAAAAAAAAAAAAAAAAAAAAAAAAAAAAAAAAAAAAAAAAAAAAAAAAAAAAAAAAAAAAAP///////wAA/////wAAAAAAAAEAAQAAAAAAAQABAAAAAAABAAEAAQAAAAAAAAAAAAAAAAD//wAAAAAAAAAAAAAAAAAAAAAAAAAAAAAAAAAAAAAAAAAAAAAAAAAAAAAAAAAA///+//////8AAP////////7//v/+//7//v/9//7//v///wAAAAAAAAAAAAAAAAAAAAAAAAAAAAAAAAAAAAAAAAAAAAAAAAAAAAAAAAAAAAAAAAAAAAAAAAAAAAAAAAAAAAAAAAEAAQABAAEAAQACAAEAAQAAAAAAAAAAAAAAAAAAAAAAAAAAAAAAAAAAAAAAAAAAAAAAAAAAAAAAAAD//wAAAAAAAAAA//8AAAAAAAAAAAAAAAAAAAAAAAAAAAAAAAAAAP///////////////////v/+//7//v/+//7///8AAP//////////AAAAAAAA//8AAAAAAAAAAAAAAAAAAAAAAAAAAAAAAAAAAAAAAAAAAAAAAAAAAAAAAAAAAAEAAQAAAAAAAAAAAAAAAAAAAAAAAAAAAAAAAAAAAAAAAAD///////8AAAAA////////AAAAAAAAAAAAAP//AAAAAAAAAAAAAP///////////////wAA//8AAAAAAAAAAAAAAAAAAAAAAAAAAAAAAAAAAAAAAAAAAAAAAAAAAAAAAAAAAAAAAAAAAAAAAAAAAAAAAAAAAAAAAAAAAAAAAAAAAAAAAAD//wAAAAD//wAAAAAAAAAAAAD/////////////////////AAAAAAAAAAAAAAAAAAAAAAAAAAAAAAAAAAAAAAAAAAAAAAAAAAAAAAAAAAD/////AAAAAAAAAAAAAAAAAAAAAAAAAAAAAAEAAQABAAEAAQAAAAAAAAAAAAAAAAAAAAAAAAAAAAAAAAAAAAAAAAAAAAAAAAAAAAAAAAAAAAAAAAAAAAAAAAAAAAAAAAAAAAAAAAAAAAAAAAAAAAAAAAAAAAAAAAAAAP//AAAAAAAAAAAAAAAAAAAAAAAAAAAAAAAAAAAAAAAAAAAAAAAAAAAAAAAAAAAAAAAAAAAAAAAAAAAAAAAAAAAAAAAAAAAAAAAAAAAAAAAAAAAAAAAAAAAAAAAAAAAAAAAAAAAAAAAAAAAAAAAAAAAAAAAAAAAAAAAAAAAAAAAAAAD////////+/wAAAAAAAAAAAAAAAAAAAAAAAAAAAAAAAAAAAAAAAAAAAAAAAAAAAAAAAAAAAAAAAAAAAAAAAAAAAAAAAAAAAAAAAAAAAAAAAAAAAAAAAAAAAAAAAAAAAAABAAAAAAAAAAAAAAAAAAAAAAAAAAAAAAAAAAAAAAAAAAAAAAAAAAAAAAAAAAAAAAAAAAAAAAAAAAAAAAAAAAAAAAAAAAAAAAAAAAAAAAAAAAAAAAAAAAEAAAAAAAAAAAAAAAAAAQAAAAAAAAAAAAAAAAAAAAAAAAAAAAAAAAAAAAAAAAABAAAAAAAAAAAAAAAAAAAAAAAAAAAAAAAAAAAAAAAAAAAAAAAAAAAAAAAAAAAAAAAAAAAAAAAAAAAAAAAAAAAAAAAAAAAAAAAAAAAAAAAAAAAAAAAAAAAA//8AAAAAAAAAAAAAAAD//wAAAAAAAAAAAAAAAAAAAAAAAAAAAAAAAAAAAAAAAAAAAAAAAAAAAAAAAAAAAAAAAAAAAAAAAAAAAAAAAAAAAAAAAAAAAQABAAAAAAAAAAAAAAAAAAAAAAAAAAAAAAAAAAAAAAAAAAAAAAAAAAAAAAAAAAAAAAAAAAAAAAAAAAAAAAAAAAAAAAAAAAAAAAAAAAAAAAAAAAAAAAAAAAAAAAAAAAAAAAAAAAAAAAAAAAAAAAAAAAAAAAAAAAAAAAAAAAAAAAAAAAAAAAAAAAAAAAAAAAAAAQAAAAAAAAAAAAAAAAAAAAAAAAAAAAAAAAAAAAAAAAD///////8AAP//////////AAAAAP//AAAAAAAAAAAAAAAAAAAAAAAAAAAAAAAAAAAAAAEAAQABAAEAAAAAAAEAAAAAAAAAAAAAAAAAAAAAAAAAAAAAAAAAAAAAAAEAAAAAAP///////////////////v/+/////v//////AAAAAAAAAAAAAAAAAAAAAAAAAAAAAAAAAAAAAAAAAAAAAAAAAAAAAAAAAAAAAP//AAAAAAAAAAAAAAAAAAAAAAAAAAAAAAAAAAAAAAAAAAAAAAAAAAAAAAAAAAAAAAAAAAAAAAAAAAAAAAAAAAAAAAAAAAAAAAAAAAAAAAAAAQABAAEAAAABAAAAAAAAAAAAAAAAAAAAAAAAAAAA////////AAAAAAAAAAAAAAAAAAAAAAAAAAAAAAAAAAAAAAAAAQAAAAAAAAABAAAAAAAAAAAAAAAAAAAAAAAAAAAAAAAAAAAAAAAAAAAAAAAAAAAAAAAAAAAAAAAAAAAAAAAAAAAAAAAAAAAAAAAAAAAAAAAAAAAAAAAAAAAAAAAAAAAAAAAAAAAAAAAAAAAAAAAAAAAAAAAAAAAAAAAAAAAAAAAAAAAAAAAAAP//AAAAAAAAAAAAAAAAAAAAAAAAAAAAAAAAAAAAAAAAAAAAAAAAAAAAAAAAAAAAAAAAAAAAAAAAAAAAAAAAAAAAAAAA//////////////////////7/AAAAAAAA////////AAAAAAAAAAAAAAAAAAABAAAAAAAAAAAAAAAAAAAAAAAAAAAAAAAAAAAAAAAAAAAAAAAAAAAAAAAAAAAAAAAAAAAAAAAAAAAAAAABAAAAAAABAAAAAAABAAEAAAAAAAAAAAAAAAAAAAD//wAAAAAAAAAAAAAAAAAAAAAAAAAAAAAAAAAAAAAAAAAAAAAAAAAAAAAAAAAAAAAAAAAAAAAAAAAAAAAAAAAAAAAAAAAAAAAAAAAAAAAAAAAAAAAAAAAAAAAAAAAAAAAAAAAAAAAAAAAAAAAAAAAAAAAAAAAAAAAAAAAAAAAAAAAAAAAAAAAAAAAAAAAAAAAAAAAAAAAAAAAAAAAAAAAAAAAAAAAAAAAAAAAAAAAAAAAAAAAAAAAAAAAAAAAAAAAAAAAAAAAAAAAAAAAAAAAAAAAAAAAAAAAAAAAAAAAAAAAAAAAAAAAAAAAAAAAAAAAAAAAAAAAAAAAAAAAAAAAAAAAAAAAAAAAAAAAAAAAAAAAAAAAAAAAAAAAAAAAAAAAAAAAAAAAAAAAAAAAAAAAAAAAAAAAAAAAAAAAAAAAAAAAAAAAAAAAAAAAAAAAAAAAAAAAAAAAAAAAAAAAAAAAAAAAAAAAAAAAAAAAAAAAAAAAAAAAAAAAAAAAAAAAAAAAAAAAAAAAAAAAAAAAAAAAAAAAAAAAAAAAAAAAAAAAAAAAAAAAAAAAAAAAAAAAAAAAAAAAAAAAAAAAAAAAAAAAAAAAAAAAAAAAAAAAAAAAAAAAAAAAAAAAAAAAAAAAAAAAAAAAAAAAAAAAAAAAAAAAAAAAAAAAAAAAAAAAAAAAAAAAAAAAAAAAAAAAAAAAAAAAAAAAAAAAAAAAAAAAAAAAAAAAAAAAAAAAAAAAAAAAAAAAAAAAAAAAAAAAAAAAAAAAAAAAAAAAAAAAAAAAAAAAAAAAAAAAAAAAAAAAAAAAAAAAAAAAAAAAAAAAAAAAAAAAAAAAAAAAAAAAAAAAAAAAAAAAAAAAAAAAAAAAAAAAAAAAAAAAAAAAAAAAAAAAAAAAAAAAAAAAAAAAAAAAAAAAAAAAAAAAAAAAAAAAAAAAAAAAAAAAAAAAAAAAAAAAAAAAAAAAAAAAAAAAAAAAAAAAAAAAAAAAAAAAAAAAAAAAAAAAAAAAAAAAAAAAAAAAAAAAAAAAAAAAAAAAAAAAAAAAAAAAAAAAAAAAAAAAAAAAAAAAAAAAAAAAAAAAAAAAAAAAAAAAAAAAAAAAAAAAAAAAAAAAAAAAAAAAAAAAAAAAAAAAAAAAAAAAAAAAAAAAAAAAAAAAAAAAAAAAAAAAAAAAAAAAAAAAAAAAAAAAAAAAAAAAAAAAAAAAAAAAAAAAAAAAAAAAAAAAAAAAAAAAAAAAAAAAAAAAAAAAAAAAAAAAAAAAAAAAAAAAAAAAAAAAAAAAAAAAAAAAAAAAAAAAAAAAAAAAAAAAAAAAAAAAAAAAAAAAAAAAAAAAAAAAAAAAAAAAAAAAAAAAAAAAAAAAAAAAAAAAAAAAAAAAAAAAAAAAAAAAAAAAAAAAAAAAAAAAAAAAAAAAAAAAAAAAAAAAAAAAAAAAAAAAAAAAAAAAAAAAAAAAAAAAAAAAAAAAAAAAAAAAAAAAAAAAAAAAAAAAAAAAAAAAAAAAAAAAAAAAAAAAAAAAAAAAAAAAAAAAAAAAAAAAAAAAAAAAAAAAAAAAAAAAAAAAAAAAAAAAAAAAAAAAAAAAAAAAAAAAAAAAAAAAAAAAAAAAAAAAAAAAAAAAAAAAAAAAAAAAAAAAAAAAAAAAAAAAAAAAAAAAAAAAAAAAAAAAAAAAAAAAAAAAAAAAAAAAAAAAAAAAAAAAAAAAAAAAAAAAAAAAAAAAAAAAAAAAAAAAAAAAAAAAAAAAAAAAAAAAAAAAAAAAAAAAAAAAAAAAAAAAAAAAAAAAAAAAAAAAAAAAAAAAAAAAAAAAAAAAAAAAAAAAAAAAAAAAAAAAAAAAAAAAAAAAAAAAAAAAAAAAAAAAAAAAAAAAAAAAAAAAAAAAAAAAAAAAAAAAAAAAAAAAAAAAAAAAAAAAAAAAAAAAAAAAAAAAAAAAAAAAAAAAAAAAAAAAAAAAAAAAAAAAAAAAAAAAAAAAAAAAAAAAAAAAAAAAAAAAAAAAAAAAAAAAAAAAAAAAAAAAAAAAAAAAAAAAAAAAAAAAAAAAAAAAAAAAAAAAAAAAAAAAAAAAAAAAAAAAAAAAAAAAAAAAAAAAAAAAAAAAAAAAAAAAAAAAAAAAAAAAAAAAAAAAAAAAAAAAAAAAAAAAAAAAAAAAAAAAAAAAAAAAAAAAAAAAAAAAAAAAAAAAAAAAAAAAAAAAAAAAAAAAAAAAAAAAAAAAAAAAAAAAAAAAAAAAAAAAAAAAAAAAAAAAAAAAAAAAAAAAAAAAAAAAAAAAAAAAAAAAAAAAAAAAAAAAAAAAAAAAAAAAAAAAAAAAAAAAAAAAAAAAAAAAAAAAAAAAAAAAAAAAAAAAAAAAAAAAAAAAAAAAAAAAAAAAAAAAAAAAAAAAAAAAAAAAAAAAAAAAAAAAAAAAAAAAAAAAAAAAAAAAAAAAAAAAAAAAAAAAAAAAAAAAAAAAAAAAAAAAAAAAAAAAAAAAAAAAAAAAAAAAAAAAAAAAAAAAAAAAAAAAAAAAAAAAAAAAAAAAAAAAAAAAAAAAAAAAAAAAAAAAAAAAAAAAAAAAAAAAAAAAAAAAAAAAAAAAAAAAAAAAAAAAAAAAAAAAAAAAAAAAAAAAAAAAAAAAAAAAAAAAAAAAAAAAAAAAAAAAAAAAAAAAAAAAAAAAAAAAAAAAAAAAAAAAAAAAAAAAAAAAAAAAAAAAAAAAAAAAAAAAAAAAAAAAAAAAAAAAAAAAAAAAAAAAAAAAAAAAAAAAAAAAAAAAAAAAAAAAAAAAAAAAAAAAAAAAAAAAAAAAAAAAAAAAAAAAAAAAAAAAAAAAAAAAAAAAAAAAAAAAAAAAAAAAAAAAAAAAAAAAAAAAAAAAAAAAAAAAAAAAAAAAAAAAAAAAAAAAAAAAAAAAAAAAAAAAAAAAAAAAAAAAAAAAAAAAAAAAAAAAAAAAAAAAAAAAAAAAAAAAAAAAAAAAAAAAAAAAAAAAAAAAAAAAAAAAAAAAAAAAAAAAAAAAAAAAAAAAAAAAAAAAAAAAAAAAAAAAAAAAAAAAAAAAAAAAAAAAAAAAAAAAAAAAAAAAAAAAAAAAAAAAAAAAAAAAAAAAAAAAAAAAAAAAAAAAAAAAAAAAAAAAAAAAAAAAAAAAAAAAAAAAAAAAAAAAAAAAAAAAAAAAAAAAAAAAAAAAAAAAAAAAAAAAAAAAAAAAAAAAAAAAAAAAAAAAAAAAAAAAAAAAAAAAAAAAAAAAAAAAAAAAAAAAAAAAAAAAAAAAAAAAAAAAAAAAAAAAAAAAAAAAAAAAAAAAAAAAAAAAAAAAAAAAAAAAAAAAAAAAAAAAAAAAAAAAAAAAAAAAAAAAAAAAAAAAAAAAAAAAAAAAAAAAAAAAAAAAAAAAAAAAAAAAAAAAAAAAAAAAAAAAAAAAAAAAAAAAAAAAAAAAAAAAAAAAAAAAAAAAAAAAAAAAAAAAAAAAAAAAAAAAAAAAAAAAAAAAAAAAAAAAAAAAAAAAAAAAAAAAAAAAAAAAAAAAAAAAAAAAAAAAAAAAAAAAAAAAAAAAAAAAAAAAAAAAAAAAAAAAAAAAAAAAAAAAAAAAAAAAAAAAAAAAAAAAAAAAAAAAAAAAAAAAAAAAAAAAAAAAAAAAAAAAAAAAAAAAAAAAAAAAAAAAAAAAAAAAAAAAAAAAAAAAAAAAAAAAAAAAAAAAAAAAAAAAAAAAAAAAAAAAAAAAAAAAAAAAAAAAAAAAAAAAAAAAAAAAAAAAAAAAAAAAAAAAAAAAAAAAAAAAAAAAAAAAAAAAAAAAAAAAAAAAAAAAAAAAAAAAAAAAAAAAAAAAAAAAAAAAAAAAAAAAAAAAAAAAAAAAAAAAAAAAAAAAAAAAAAAAAAAAAAAAAAAAAAAAAAAAAAAAAAAAAAAAAAAAAAAAAAAAAAAAAAAAAAAAAAAAAAAAAAAAAAAAAAAAAAAAAAAAAAAAAAAAAAAAAAAAAAAAAAAAAAAAAAAAAAAAAAAAAAAAAAAAAAAAAAAAAAAAAAAAAAAAAAAAAAAAAAAAAAAAAAAAAAAAAAAAAAAAAAAAAAAAAAAAAAAAAAAAAAAAAAAAAAAAAAAAAAAAAAAAAAAAAAAAAAAAAAAAAAAAAAAAAAAAAAAAAAAAAAAAAAAAAAAAAAAAAAAAAAAAAAAAAAAAAAAAAAAAAAAAAAAAAAAAAAAAAAAAAAAAAAAAAAAAAAAAAAAAAAAAAAAAAAAAAAAAAAAAAAAAAAAAAAAAAAAAAAAAAAAAAAAAAAAAAAAAAAAAAAAAAAAAAAAAAAAAAAAAAAAAAAAAAAAAAAAAAAAAAAAAAAAAAAAAAAAAAAAAAAAAAAAAAAAAAAAAAAAAAAAAAAAAAAAAAAAAAAAAAAAAAAAAAAAAAAAAAAAAAAAAAAAAAAAAAAAAAAAAAAAAAAAAAAAAAAAAAAAAAAAAAAAAAAAAAAAAAAAAAAAAAAAAAAAAAAAAAAAAAAAAAAAAAAAAAAAAAAAAAAAAAAAAAAAAAAAAAAAAAAAAAAAAAAAAAAAAAAAAAAAAAAAAAAAAAAAAAAAAAAAAAAAAAAAAAAAAAAAAAAAAAAAAAAAAAAAAAAAAAAAAAAAAAAAAAAAAAAAAAAAAAAAAAAAAAAAAAAAAAAAAAAAAAAAAAAAAAAAAAAAAAAAAAAAAAAAAAAAAAAAAAAAAAAAAAAAAAAAAAAAAAAAAAAAAAAAAAAAAAAAAAAAAAAAAAAAAAAAAAAAAAAAAAAAAAAAAAAAAAAAAAAAAAAAAAAAAAAAAAAAAAAAAAAAAAAAAAAAAAAAAAAAAAAAAAAAAAAAAAAAAAAAAAAAAAAAAAAAAAAAAAAAAAAAAAAAAAAAAAAAAAAAAAAAAAAAAAAAAAAAAAAAAAAAAAAAAAAAAAAQAAAAAAAAAAAAAAAAAAAAEAAAAAAAAAAAAAAAAAAAAAAAAAAAAAAAAAAAAAAAAAAAAAAAAAAAAAAAAAAAAAAAAAAAAAAAAAAAAAAAAAAAAAAAAAAAAAAAAAAAAAAAAAAAAAAAAAAAAAAAAAAAAAAAAAAAAAAP//AAAAAAAAAQAAAAAAAAAAAAAAAAAAAAAAAAAAAAAAAAAAAAAAAAAAAAEAAQABAAAAAAAAAAAAAAAAAAAAAAAAAAAAAAAAAAAAAAAAAAAAAAAAAAAAAAAAAAAAAAAAAAAAAAAAAP//AAD//wAAAAD//wAAAAAAAAAAAAAAAAAAAAAAAAAAAAAAAAAAAAAAAAAAAAAAAAEAAQABAAEAAAAAAAAAAAAAAAAAAAAAAAAAAAAAAAAAAAAAAAAAAAAAAAAAAAAAAAAAAAAAAAAAAAAAAP//AAAAAAAAAAAAAAAAAAAAAAAAAAAAAAAAAAAAAAAAAAAAAAAAAAAAAAAAAAAAAAAAAAAAAAAA/////wAAAAAAAAAAAAAAAAAAAAAAAAAAAAAAAAAAAAAAAAAAAAAAAAAAAAAAAAAAAAAAAAAAAAAAAAAAAAAAAAAAAAAAAAAAAAAAAAAAAAAAAAAAAAAAAAAAAAAAAAAAAAAAAAAAAAAAAAAAAAAAAAAAAAAAAAAAAAAAAAAAAAAAAAAAAAAAAAAAAAAAAAAAAAAAAAAAAAAAAAAAAAAAAAAAAAAAAAAAAAAAAAAAAAAAAAAAAAAAAAAAAAAAAAAAAAAAAAAAAAAAAAAAAAAAAAAAAAAAAAAAAAAAAAAAAAAAAAAAAAAAAAAAAAAAAAAAAAAAAAAAAAAAAAAAAAAAAAAAAAAAAAAAAAAAAAAAAAAAAAAAAAAAAAAAAAAAAAAAAAAAAAAAAAAAAAAAAAAAAAAAAAAAAAAAAAAAAAAAAAAAAAAAAAAAAAAAAAAAAAAAAAAAAAAAAAAAAAAAAAAAAAAAAAAAAAAAAAAAAAAAAAAAAAAAAAAAAAAAAAAAAAAAAAAAAAAAAAAAAAAAAAAAAAAAAAAAAAAAAAAAAAAAAAAAAAAAAAAAAAAAAAAAAAAAAAAAAAAAAAAAAAAAAAAAAAAAAAAAAAAAAAAAAAAAAAAAAAAAAAAAAAAAAAAAAAAAAAAAAAAAAAAAAAAAAAAAAAAAAAAAAAAAAAAAAAAAAAAAAAAAAAAAAAAAAAAAAAAAAAAAAAAAAAAAAAAAAAAAAAAAAAAAAAAAAAAAAAAAAAAAAAAAAAAAAAAAAAAAAAAAAAAAAAAAAAAAAAAAAAAAAAAAAAAAAAAAAAAAAAAAAAAAAAAAAAAAAAAAAAAAAAAAAAAAAAAAAAAAAAAAAAAAAAAAAAAAAAAAAAAAAAAAAAAAAAAAAAAAAAAAAAAAAAAAAAAAAAAAAAAAAAAAAAAAAAAAAAAAAAAAAAAAAAAAAAAAAAAAAAAAAAAAAAAAAAAAAAAAAAAAAAAAAAAAAAAAAAAAAAAAAAAAAAAAAAAAAAAAAAAAAAAAAAAAAAAAAAAAAAAAAAAAAAAAAAAAAAAAAAAAAAAAAAAAAAAAAAAAAAAAAAAAAAAAAAAAAAAAAAAAAAAAAAAAAAAAAAAAAAAAAAAAAAAAAAAAAAAAAAAAAAAAAAAAAAAAAAAAAAAAAAAAAAAAAAAAAAAAAAAAAAAAAAAAAAAAAAAAAAAAAAAAAAAAAAAAAAAAAAAAAAAAAAAAAAAAAAAAAAAAAAAAAAAAAAAAAAAAAAAAAAAAAAAAAAAAAAAAAAAAAAAAAAAAAAAAAAAAAAAAAAAAAAAAAAAAAAAAAAAAAAAAAAAAAAAAAAAAAAAAAAAAAAAAAAAAAAAAAAAAAAAAAAAAAAAAAAAAAAAAAAAAAAAAAAAAAAAAAAAAAAAAAAAAAAAAAAAAAAAAAAAAAAAAAAAAAAAAAAAAAAAAAAAAAAAAAAAAAAAAAAAAAAAAAAAAAAAAAAAAAAAAAAAAAAAAAAAAAAAAAAAAAAAAAAAAAAAAAAAAAAAAAAAAAAAAAAAAAAAAAAAAAAAAAAAAAAAAAAAAAAAAAAAAAAAAAAAAAAAAAAAAAAAAAAAAAAAAAAAAAAAAAAAAAAAAAAAAAAAAAAAAAAAAAAAAAAAAAAAAAAAAAAAAAAAAAAAAAAAAAAAAAAAAAAAAAAAAAAAAAAAAAAAAAAAAAAAAAAAAAAAAAAAAAAAAAAAAAAAAAAAAAAAAAAAAAAAAAAAAAAAAAAAAAAAAAAAAAAAAAAAAAAAAAAAAAAAAAAAAAAAAAAAAAAAAAAAAAAAAAAAAAAAAAAAAAAAAAAAAAAAAAAAAAAAAAAAAAAAAAAAAAAAAAAAAAAAAAAAAAAAAAAAAAAAAAAAAAAAAAAAAAAAAAAAAAAAAAAAAAAAAAAAAAAAAAAAAAAAAAAAAAAAAAAAAAAAAAAAAAAAAAAAAAAAAAAAAAAAAAAAAAAAAAAAAAAAAAAAAAAAAAAAAAAAAAAAAAAAAAAAAAAAAAAAAAAAAAAAAAAAAAAAAAAAAAAAAAAAAAAAAAAAAAAAAAAAAAAAAAAAAAAAAAAAAAAAAAAAAAAAAAAAAAAAAAAAAAAAAAAAAAAAAAAAAAAAAAAAAAAAAAAAAAAAAAAAAAAAAAAAAAAAAAAAAAAAAAAAAAAAAAAAAAAAAAAAAAAAAAAAAAAAAAAAAAAAAAAAAAAAAAAAAAAAAAAAAAAAAAAAAAAAAAAAAAAAAAAAAAAAAAAAAAAAAAAAAAAAAAAAAAAAAAAAAAAAAAAAAAAAAAAAAAAAAAAAAAAAAAAAAAAAAAAAAAAAAAAAAAAAAAAAAAAAAAAAAAAAAAAAAAAAAAAAAAAAAAAAAAAAAAAAAAAAAAAAAAAAAAAAAAAAAAAAAAAAAAAAAAAAAAAAAAAAAAAAAAAAAAAAAAAAAAAAAAAAAAAAAAAAAAAAAAAAAAAAAAAAAAAAAAAAAAAAAAAAAAAAAAAAAAAAAAAAAAAAAAAAAAAAAAAAAAAAAAAAAAAAAAAAAAAAAAAAAAAAAAAAAAAAAAAAAAAAAAAAAAAAAAAAAAAAAAAAAAAAAAAAAAAAAAAAAAAAAAAAAAAAAAAAAAAAAAAAAAAAAAAAAAAAAAAAAAAAAAAAAAAAAAAAAAAAAAAAAAAAAAAAAAAAAAAAAAAAAAAAAAAAAAAAAAAAAAAAAAAAAAAAAAAAAAAAAAAAAAAAAAAAAAAAAAAAAAAAAAAAAAAAAAAAAAAAAAAAAAAAAAAAAAAAAAAAAAAAAAAAAAAAAAAAAAAAAAAAAAAAAAAAAAAAAAAAAAAAAAAAAAAAAAAAAAAAAAAAAAAAAAAAAAAAAAAAAAAAAAAAAAAAAAAAAAAAAAAAAAAAAAAAAAAAAAAAAAAAAAAAAAAAAAAAAAAAAAAAAAAAAAAAAAAAAAAAAAAAAAAAAAAAAAAAAAAAAAAAAAAAAAAAAAAAAAAAAAAAAAAAAAAAAAAAAAAAAAAAAAAAAAAAAAAAAAAAAAAAAAAAAAAAAAAAAAAAAAAAAAAAAAAAAAAAAAAAAAAAAAAAAAAAAAAAAAAAAAAAAAAAAAAAAAAAAAAAAAAAAAAAAAAAAAAAAAAAAAAAAAAAAAAAAAAAAAAAAAAAAAAAAAAAAAAAAAAAAAAAAAAAAAAAAAAAAAAAAAAAAAAAAAAAAAAAAAAAAAAAAAAAAAAAAAAAAAAAAAAAAAAAAAAAAAAAAAAAAAAAAAAAAAAAAAAAAAAAAAAAAAAAAAAAAAAAAAAAAAAAAAAAAAAAAAAAAAAAAAAAAAAAAAAAAAAAAAAAAAAAAAAAAAAAAAAAAAAAAAAAAAAAAAAAAAAAAAAAAAAAAAAAAAAAAAAAAAAAAAAAAAAAAAAAAAAAAAAAAAAAAAAAAAAAAAAAAAAAAAAAAAAAAAAAAAAAAAAAAAAAAAAAAAAAAAAAAAAAAAAAAAAAAAAAAAAAAAAAAAAAAAAAAAAAAAAAAAAAAAAAAAAAAAAAAAAAAAAAAAAAAAAAAAAAAAAAAAAAAAAAAAAAAAAAAAAAAAAAAAAAAAAAAAAAAAAAAAAAAAAAAAAAAAAAAAAAAAAAAAAAAAAAAAAAAAAAAAAAAAAAAAAAAAAAAAAAAAAAAAAAAAAAAAAAAAAAAAAAAAAAAAAAAAAAAAAAAAAAAAAAAAAAAAAAAAAAAAAAAAAAAAAAAAAAAAAAAAAAAAAAAAAAAAAAAAAAAAAAAAAAAAAAAAAAAAAAAAAAAAAAAAAAAAAAAAAAAAAAAAAAAAAAAAAAAAAAAAAAAAAAAAAAAAAAAAAAAAAAAAAAAAAAAAAAAAAAAAAAAAAAAAAAAAAAAAAAAAAAAAAAAAAAAAAAAAAAAAAAAAAAAAAAAAAAAAAAAAAAAAAAAAAAAAAAAAAAAAAAAAAAAAAAAAAAAAAAAAAAAAAAAAAAAAAAAAAAAAAAAAAAAAAAAAAAAAAAAAAAAAAAAAAAAAAAAAAAAAAAAAAAAAAAAAAAAAAAAAAAAAAAAAAAAAAAAAAAAAAAAAAAAAAAAAAAAAAAAAAAAAAAAAAAAAAAAAAAAAAAAAAAAAAAAAAAAAAAAAAAAAAAAAAAAAAAAAAAAAAAAAAAAAAAAAAAAAAAAAAAAAAAAAAAAAAAAAAAAAAAAAAAAAAAAAAAAAAAAAAAAAAAAAAAAAAAAAAAAAAAAAAAAAAAAAAAAAAAAAAAAAAAAAAAAAAAAAAAAAAAAAAAAAAAAAAAAAAAAAAAAAAAAAAAAAAAAAAAAAAAAAAAAAAAAAAAAAAAAAAAAAAAAAAAAAAAAAAAAAAAAAAAAAAAAAAAAAAAAAAAAAAAAAAAAAAAAAAAAAAAAAAAAAAAAAAAAAAAAAAAAAAAAAAAAAAAAAAAAAAAAAAAAAAAAAAAAAAAAAAAAAAAAAAAAAAAAAAAAAAAAAAAAAAAAAAAAAAAAAAAAAAAAAAAAAAAAAAAAAAAAAAAAAAAAAAAAAAAAAAAAAAAAAAAAAAAAAAAAAAAAAAAAAAAAAAAAAAAAAAAAAAAAAAAAAAAAAAAAAAAAAAAAAAAAAAAAAAAAAAAAAAAAAAAAAAAAAAAAAAAAAAAAAAAAAAAAAAAAAAAAAAAAAAAAAAAAAAAAAAAAAAAAAAAAAAAAAAAAAAAAAAAAAAAAAAAAAAAAAAAAAAAAAAAAAAAAAAAAAAAAAAAAAAAAAAAAAAAAAAAAAAAAAAAAAAAAAAAAAAAAAAAAAAAAAAAAAAAAAAAAAAAAAAAAAAAAAAAAAAAAAAAAAAAAAAAAAAAAAAAAAAAAAAAAAAAAAAAAAAAAAAAAAAAAAAAAAAAAAAAAAAAAAAAAAAAAAAAAAAAAAAAAAAAAAAAAAAAAAAAAAAAAAAAAAAAAAAAAAAAAAAAAAAAAAAAAAAAAAAAAAAAAAAAAAAAAAAAAAAAAAAAAAAAAAAAAAAAAAAAAAAAAAAAAAAAAAAAAAAAAAAAAAAAAAAAAAAAAAAAAAAAAAAAAAAAAAAAAAAAAAAAAAAAAAAAAAAAAAAAAAAAAAAAAAAAAAAAAAAAAAAAAAAAAAAAAAAAAAAAAAAAAAAAAAAAAAAAAAAAAAAAAAAAAAAAAAAAAAAAAAAAAAAAAAAAAAAAAAAAAAAAAAAAAAAAAAAAAAAAAAAAAAAAAAAAAAAAAAAAAAAAAAAAAAAAAAAAAAAAAAAAAAAAAAAAAAAAAAAAAAAAAAAAAAAAAAAAAAAAAAAAAAAAAAAAAAAAAAAAAAAAAAAAAAAAAAAAAAAAAAAAAAAAAAAAAAAAAAAAAAAAAAAAAAAAAAAAAAAAAAAAAAAAAAAAAAAAAAAAAAAAAAAAAAAAAAAAAAAAAAAAAAAAAAAAAAAAAAAAAAAAAAAAAAAAAAAAAAAAAAAAAAAAAAAAAAAAAAAAAAAAAAAAAAAAAAAAAAAAAAAAAAAAAAAAAAAAAAAAAAAAAAAAAAAAAAAAAAAAAAAAAAAAAAAAAAAAAAAAAAAAAAAAAAAAAAAAAAAAAAAAAAAAAAAAAAAAAAAAAAAAAAAAAAAAAAAAAAAAAAAAAAAAAAAAAAAAAAAAAAAAAAAAAAAAAAAAAAAAAAAAAAAAAAAAAAAAAAAAAAAAAAAAAAAAAAAAAAAAAAAAAAAAAAAAAAAAAAAAAAAAAAAAAAAAAAAAAAAAAAAAAAAAAAAAAAAAAAAAAAAAAAAAAAAAAAAAAAAAAAAAAAAAAAAAAAAAAAAAAAAAAAAAAAAAAAAAAAAAAAAAAAAAAAAAAAAAAAAAAAAAAAAAAAAAAAAAAAAAAAAAAAAAAAAAAAAAAAAAAAAAAAAAAAAAAAAAAAAAAAAAAAAAAAAAAAAAAAAAAAAAAAAAAAAAAAAAAAAAAAAAAAAAAAAAAAAAAAAAAAAAAAAAAAAAAAAAAAAAAAAAAAAAAAAAAAAAAAAAAAAAAAAAAAAAAAAAAAAAAAAAAAAAAAAAAAAAAAAAAAAAAAAAAAAAAAAAAAAAAAAAAAAAAAAAAAAAAAAAAAAAAAAAAAAAAAAAAAAAAAAAAAAAAAAAAAAAAAAAAAAAAAAAAAAAAAAAAAAAAAAAAAAAAAAAAAAAAAAAAAAAAAAAAAAAAAAAAAAAAAAAAAAAAAAAAAAAAAAAAAAAAAAAAAAAAAAAAAAAAAAAAAAAAAAAAAAAAAAAAAAAAAAAAAAAAAAAAAAAAAAAAAAAAAAAAAAAAAAAAAAAAAAAAAAAAAAAAAAAAAAAAAAAAAAAAAAAAAAAAAAAAAAAAAAAAAAAAAAAAAAAAAAAAAAAAAAAAAAAAAAAAAAAAAAAAAAAAAAAAAAAAAAAAAAAAAAAAAAAAAAAAAAAAAAAAAAAAAAAAAAAAAAAAAAAAAAAAAAAAAAAAAAAAAAAAAAAAAAAAAAAAAAAAAAAAAAAAAAAAAAAAAAAAAAAAAAAAAAAAAAAAAAAAAAAAAAAAAAAAAAAAAAAAAAAAAAAAAAAAAAAAAAAAAAAAAAAAAAAAAAAAAAAAAAAAAAAAAAAAAAAAAAAAAAAAAAAAAAAAAAAAAAAAAAAAAAAAAAAAAAAAAAAAAAAAAAAAAAAAAAAAAAAAAAAAAAAAAAAAAAAAAAAAAAAAAAAAAAAAAAAAAAAAAAAAAAAAAAAAAAAAAAAAAAAAAAAAAAAAAAAAAAAAAAAAAAAAAAAAAAAAAAAAAAAAAAAAAAAAAAAAAAAAAAAAAAAAAAAAAAAAAAAAAAAAAAAAAAAAAAAAAAAAAAAAAAAAAAAAAAAAAAAAAAAAAAAAAAAAAAAAAAAAAAAAAAAAAAAAAAAAAAAAAAAAAAAAAAAAAAAAAAAAAAAAAAAAAAAAAAAAAAAAAAAAAAAAAAAAAAAAAAAAAAAAAAAAAAAAAAAAAAAAAAAAAAAAAAAAAAAAAAAAAAAAAAAAAAAAAAAAAAAAAAAAAAAAAAAAAAAAAAAAAAAAAAAAAAAAAAAAAAAAAAAAAAAAAAAAAAAAAAAAAAAAAAAAAAAAAAAAAAAAAAAAAAAAAAAAAAAAAAAAAAAAAAAAAAAAAAAAAAAAAAAAAAAAAAAAAAAAAAAAAAAAAAAAAAAAAAAAAAAAAAAAAAAAAAAAAAAAAAAAAAAAAAAAAAAAAAAAAAAAAAAAAAAAAAAAAAAAAAAAAAAAAAAAAAAAAAAAAAAAAAAAAAAAAAAAAAAAAAAAAAAAAAAAAAAAAAAAAAAAAAAAAAAAAAAAAAAAAAAAAAAAAAAAAAAAAAAAAAAAAAAAAAAAAAAAAAAAAAAAAAAAAAAAAAAAAAAAAAAAAAAAAAAAAAAAAAAAAAAAAAAAAAAAAAAAAAAAAAAAAAAAAAAAAAAAAAAAAAAAAAAAAAAAAAAAAAAAAAAAAAAAAAAAAAAAAAAAAAAAAAAAAAAAAAAAAAAAAAAAAAAAAAAAAAAAAAAAAAAAAAAAAAAAAAAAAAAAAAAAAAAAAAAAAAAAAAAAAAAAAAAAAAAAAAAAAAAAAAAAAAAAAAAAAAAAAAAAAAAAAAAAAAAAAAAAAAAAAAAAAAAAAAAAAAAAAAAAAAAAAAAAAAAAAAAAAAAAAAAAAAAAAAAAAAAAAAAAAAAAAAAAAAAAAAAAAAAAAAAAAAAAAAAAAAAAAAAAAAAAAAAAAAAAAAAAAAAAAAAAAAAAAAAAAAAAAAAAAAAAAAAAAAAAAAAAAAAAAAAAAAAAAAAAAAAAAAAAAAAAAAAAAAAAAAAAAAAAAAAAAAAAAAAAAAAAAAAAAAAAAAAAAAAAAAAAAAAAAAAAAAAAAAAAAAAAAAAAAAAAAAAAAAAAAAAAAAAAAAAAAAAAAAAAAAAAAAAAAAAAAAAAAAAAAAAAAAAAAAAAAAAAAAAAAAAAAAAAAAAAAAAAAAAAAAAAAAAAAAAAAAAAAAAAAAAAAAAAAAAAAAAAAAAAAAAAAAAAAAAAAAAAAAAAAAAAAAAAAAAAAAAAAAAAAAAAAAAAAAAAAAAAAAAAAAAAAAAAAAAAAAAAAAAAAAAAAAAAAAAAAAAAAAAAAAAAAAAAAAAAAAAAAAAAAAAAAAAAAAAAAAAAAAAAAAAAAAAAAAAAAAAAAAAAAAAAAAAAAAAAAAAAAAAAAAAAAAAAAAAAAAAAAAAAAAAAAAAAAAAAAAAAAAAAAAAAAAAAAAAAAAAAAAAAAAAAAAAAAAAAAAAAAAAAAAAAAAAAAAAAAAAAAAAAAAAAAAAAAAAAAAAAAAAAAAAAAAAAAAAAAAAAAAAAAAAAAAAAAAAAAAAAAAAAAAAAAAAAAAAAAAAAAAAAAAAAAAAAAAAAAAAAAAAAAAAAAAAAAAAAAAAAAAAAAAAAAAAAAAAAAAAAAAAAAAAAAAAAAAAAAAAAAAAAAAAAAAAAAAAAAAAAAAAAAAAAAAAAAAAAAAAAAAAAAAAAAAAAAAAAAAAAAAAAAAAAAAAAAAAAAAAAAAAAAAAAAAAAAAAAAAAAAAAAAAAAAAAAAAAAAAAAAAAAAAAAAAAAAAAAAAAAAAAAAAAAAAAAAAAAAAAAAAAAAAAAAAAAAAAAAAAAAAAAAAAAAAAAAAAAAAAAAAAAAAAAAAAAAAAAAAAAAAAAAAAAAAAAAAAAAAAAAAAAAAAAAAAAAAAAAAAAAAAAAAAAAAAAAAAAAAAAAAAAAAAAAAAAAAAAAAAAAAAAAAAAAAAAAAAAAAAAAAAAAAAAAAAAAAAAAAAAAAAAAAAAAAAAAAAAAAAAAAAAAAAAAAAAAAAAAAAAAAAAAAAAAAAAAAAAAAAAAAAAAAAAAAAAAAAAAAAAAAAAAAAAAAAAAAAAAAAAAAAAAAAAAAAAAAAAAAAAAAAAAAAAAAAAAAAAAAAAAAAAAAAAAAAAAAAAAAAAAAAAAAAAAAAAAAAAAAAAAAAAAAAAAAAAAAAAAAAAAAAAAAAAAAAAAAAAAAAAAAAAAAAAAAAAAAAAAAAAAAAAAAAAAAAAAAAAAAAAAAAAAAAAAAAAAAAAAAAAAAAAAAAAAAAAAAAAAAAAAAAAAAAAAAAAAAAAAAAAAAAAAAAAAAAAAAAAAAAAAAAAAAAAAAAAAAAAAAAAAAAAAAAAAAAAAAAAAAAAAAAAAAAAAAAAAAAAAAAAAAAAAAAAAAAAAAAAAAAAAAAAAAAAAAAAAAAAAAAAAAAAAAAAAAAAAAAAAAAAAAAAAAAAAAAAAAAAAAAAAAAAAAAAAAAAAAAAAAAAAAAAAAAAAAAAAAAAAAAAAAAAAAAAAAAAAAAAAAAAAAAAAAAAAAAAAAAAAAAAAAAAAAAAAAAAAAAAAAAAAAAAAAAAAAAAAAAAAAAAAAAAAAAAAAAAAAAAAAAAAAAAAAAAAAAAAAAAAAAAAAAAAAAAAAAAAAAAAAAAAAAAAAAAAAAAAAAAAAAAAAAAAAAAAAAAAAAAAAAAAAAAAAAAAAAAAAAAAAAAAAAAAAAAAAAAAAAAAAAAAAAAAAAAAAAAAAAAAAAAAAAAAAAAAAAAAAAAAAAAAAAAAAAAAAAAAAAAAAAAAAAAAAAAAAAAAAAAAAAAAAAAAAAAAAAAAAAAAAAAAAAAAAAAAAAAAAAAAAAAAAAAAAAAAAAAAAAAAAAAAAAAAAAAAAAAAAAAAAAAAAAAAAAAAAAAAAAAAAAAAAAAAAAAAAAAAAAAAAAAAAAAAAAAAAAAAAAAAAAAAAAAAAAAAAAAAAAAAAAAAAAAAAAAAAAAAAAAAAAAAAAAAAAAAAAAAAAAAAAAAAAAAAAAAAAAAAAAAAAAAAAAAAAAAAAAAAAAAAAAAAAAAAAAAAAAAAAAAAAAAAAAAAAAAAAAAAAAAAAAAAAAAAAAAAAAAAAAAAAAAAAAAAAAAAAAAAAAAAAAAAAAAAAAAAAAAAAAAAAAAAAAAAAAAAAAAAAAAAAAAAAAAAAAAAAAAAAAAAAAAAAAAAAAAAAAAAAAAAAAAAAAAAAAAAAAAAAAAAAAAAAAAAAAAAAAAAAAAAAAAAAAAAAAAAAAAAAAAAAAAAAAAAAAAAAAAAAAAAAAAAAAAAAAAAAAAAAAAAAAAAAAAAAAAAAAAAAAAAAAAAAAAAAAAAAAAAAAAAAAAAAAAAAAAAAAAAAAAAAAAAAAAAAAAAAAAAAAAAAAAAAAAAAAAAAAAAAAAAAAAAAAAAAAAAAAAAAAAAAAAAAAAAAAAAAAAAAAAAAAAAAAAAAAAAAAAAAAAAAAAAAAAAAAAAAAAAAAAAAAAAAAAAAAAAAAAAAAAAAAAAAAAAAAAAAAAAAAAAAAAAAAAAAAAAAAAAAAAAAAAAAAAAAAAAAAAAAAAAAAAAAAAAAAAAAAAAAAAAAAAAAAAAAAAAAAAAAAAAAAAAAAAAAAAAAAAAAAAAAAAAAAAAAAAAAAAAAAAAAAAAAAAAAAAAAAAAAAAAAAAAAAAAAAAAAAAAAAAAAAAAAAAAAAAAAAAAAAAAAAAAAAAAAAAAAAAAAAAAAAAAAAAAAAAAAAAAAAAAAAAAAAAAAAAAAAAAAAAAAAAAAAAAAAAAAAAAAAAAAAAAAAAAAAAAAAAAAAAAAAAAAAAAAAAAAAAAAAAAAAAAAAAAAAAAAAAAAAAAAAAAAAAAAAAAAAAAAAAAAAAAAAAAAAAAAAAAAAAAAAAAAAAAAAAAAAAAAAAAAAAAAAAAAAAAAAAAAAAAAAAAAAAAAAAAAAAAAAAAAAAAAAAAAAAAAAAAAAAAAAAAAAAAAAAAAAAAAAAAAAAAAAAAAAAAAAAAAAAAAAAAAAAAAAAAAAAAAAAAAAAAAAAAAAAAAAAAAAAAAAAAAAAAAAAAAAAAAAAAAAAAAAAAAAAAAAAAAAAAAAAAAAAAAAAAAAAAAAAAAAAAAAAAAAAAAAAAAAAAAAAAAAAAAAAAAAAAAAAAAAAAAAAAAAAAAAAAAAAAAAAAAAAAAAAAAAAAAAAAAAAAAAAAAAAAAAAAAAAAAAAAAAAAAAAAAAAAAAAAAAAAAAAAAAAAAAAAAAAAAAAAAAAAAAAAAAAAAAAAAAAAAAAAAAAAAAAAAAAAAAAAAAAAAAAAAAAAAAAAAAAAAAAAAAAAAAAAAAAAAAAAAAAAAAAAAAAAAAAAAAAAAAAAAAAAAAAAAAAAAAAAAAAAAAAAAAAAAAAAAAAAAAAAAAAAAAAAAAAAAAAAAAAAAAAAAAAAAAAAAAAAAAAAAAAAAAAAAAAAAAAAAAAAAAAAAAAAAAAAAAAAAAAAAAAAAAAAAAAAAAAAAAAAAAAAAAAAAAAAAAAAAAAAAAAAAAAAAAAAAAAAAAAAAAAAAAAAAAAAAAAAAAAAAAAAAAAAAAAAAAAAAAAAAAAAAAAAAAAAAAAAAAAAAAAAAAAAAAAAAAAAAAAAAAAAAAAAAAAAAAAAAAAAAAAAAAAAAAAAAAAAAAAAAAAAAAAAAAAAAAAAAAAAAAAAAAAAAAAAAAAAAAAAAAAAAAAAAAAAAAAAAAAAAAAAAAAAAAAAAAAAAAAAAAAAAAAAAAAAAAAAAAAAAAAAAAAAAAAAAAAAAAAAAAAAAAAAAAAAAAAAAAAAAAAAAAAAAAAAAAAAAAAAAAAAAAAAAAAAAAAAAAAAAAAAAAAAAAAAAAAAAAAAAAAAAAAAAAAAAAAAAAAAAAAAAAAAAAAAAAAAAAAAAAAAAAAAAAAAAAAAAAAAAAAAAAAAAAAAAAAAAAAAAAAAAAAAAAAAAAAAAAAAAAAAAAAAAAAAAAAAAAAAAAAAAAAAAAAAAAAAAAAAAAAAAAAAAAAAAAAAAAAAAAAAAAAAAAAAAAAAAAAAAAAAAAAAAAAAAAAAAAAAAAAAAAAAAAAAAAAAAAAAAAAAAAAAAAAAAAAAAAAAAAAAAAAAAAAAAAAAAAAAAAAAAAAAAAAAAAAAAAAAAAAAAAAAAAAAAAAAAAAAAAAAAAAAAAAAAAAAAAAAAAAAAAAAAAAAAAAAAAAAAAAAAAAAAAAAAAAAAAAAAAAAAAAAAAAAAAAAAAAAAAAAAAAAAAAAAAAAAAAAAAAAAAAAAAAAAAAAAAAAAAAAAAAAAAAAAAAAAAAAAAAAAAAAAAAAAAAAAAAAAAAAAAAAAAAAAAAAAAAAAAAAAAAAAAAAAAAAAAAAAAAAAAAAAAAAAAAAAAAAAAAAAAAAAAAAAAAAAAAAAAAAAAAAAAAAAAAAAAAAAAAAAAAAAAAAAAAAAAAAAAAAAAAAAAAAAAAAAAAAAAAAAAAAAAAAAAAAAAAAAAAAAAAAAAAAAAAAAAAAAAAAAAAAAAAAAAAAAAAAAAAAAAAAAAAAAAAAAAAAAAAAAAAAAAAAAAAAAAAAAAAAAAAAAAAAAAAAAAAAAAAAAAAAAAAAAAAAAAAAAAAAAAAAAAAAAAAAAAAAAAAAAAAAAAAAAAAAAAAAAAAAAAAAAAAAAAAAAAAAAAAAAAAAAAAAAAAAAAAAAAAAAAAAAAAAAAAAAAAAAAAAAAAAAAAAAAAAAAAAAAAAAAAAAAAAAAAAAAAAAAAAAAAAAAAAAAAAAAAAAAAAAAAAAAAAAAAAAAAAAAAAAAAAAAAAAAAAAAAAAAAAAAAAAAAAAAAAAAAAAAAAAAAAAAAAAAAAAAAAAAAAAAAAAAAAAAAAAAAAAAAAAAAAAAAAAAAAAAAAAAAAAAAAAAAAAAAAAAAAAAAAAAAAAAAAAAAAAAAAAAAAAAAAAAAAAAAAAAAAAAAAAAAAAAAAAAAAAAAAAAAAAAAAAAAAAAAAAAAAAAAAAAAAAAAAAAAAAAAAAAAAAAAAAAAAAAAAAAAAAAAAAAAAAAAAAAAAAAAAAAAAAAAAAAAAAAAAAAAAAAAAAAAAAAAAAAAAAAAAAAAAAAAAAAAAAAAAAAAAAAAAAAAAAAAAAAAAAAAAAAAAAAAAAAAAAAAAAAAAAAAAAAAAAAAAAAAAAAAAAAAAAAAAAAAAAAAAAAAAAAAAAAAAAAAAAAAAAAAAAAAAAAAAAAAAAAAAAAAAAAAAAAAAAAAAAAAAAAAAAAAAAAAAAAAAAAAAAAAAAAAAAAAAAAAAAAAAAAAAAAAAAAAAAAAAAAAAAAAAAAAAAAAAAAAAAAAAAAAAAAAAAAAAAAAAAAAAAAAAAAAAAAAAAAAAAAAAAAAAAAAAAAAAAAAAAAAAAAAAAAAAAAAAAAAAAAAAAAAAAAAAAAAAAAAAAAAAAAAAAAAAAAAAAAAAAAAAAAAAAAAAAAAAAAAAAAAAAAAAAAAAAAAAAAAAAAAAAAAAAAAAAAAAAAAAAAAAAAAAAAAAAAAAAAAAAAAAAAAAAAAAAAAAAAAAAAAAAAAAAAAAAAAAAAAAAAAAAAAAAAAAAAAAAAAAAAAAAAAAAAAAAAAAAAAAAAAAAAAAAAAAAAAAAAAAAAAAAAAAAAAAAAAAAAAAAAAAAAAAAAAAAAAAAAAAAAAAAAAAAAAAAAAAAAAAAAAAAAAAAAAAAAAAAAAAAAAAAAAAAAAAAAAAAAAAAAAAAAAAAAAAAAAAAAAAAAAAAAAAAAAAAAAAAAAAAAAAAAAAAAAAAAAAAAAAAAAAAAAAAAAAAAAAAAAAAAAAAAAAAAAAAAAAAAAAAAAAAAAAAAAAAAAAAAAAAAAAAAAAAAAAAAAAAAAAAAAAAAAAAAAAAAAAAAAAAAAAAAAAAAAAAAAAAAAAAAAAAAAAAAAAAAAAAAAAAAAAAAAAAAAAAAAAAAAAAAAAAAAAAAAAAAAAAAAAAAAAAAAAAAAAAAAAAAAAAAAAAAAAAAAAAAAAAAAAAAAAAAAAAAAAAAAAAAAAAAAAAAAAAAAAAAAAAAAAAAAAAAAAAAAAAAAAAAAAAAAAAAAAAAAAAAAAAAAAAAAAAAAAAAAAAAAAAAAAAAAAAAAAAAAAAAAAAAAAAAAAAAAAAAAAAAAAAAAAAAAAAAAAAAAAAAAAAAAAAAAAAAAAAAAAAAAAAAAAAAAAAAAAAAAAAAAAAAAAAAAAAAAAAAAAAAAAAAAAAAAAAAAAAAAAAAAAAAAAAAAAAAAAAAAAAAAAAAAAAAAAAAAAAAAAAAAAAAAAAAAAAAAAAAAAAAAAAAAAAAAAAAAAAAAAAAAAAAAAAAAAAAAAAAAAAAAAAAAAAAAAAAAAAAAAAAAAAAAAAAAAAAAAAAAAAAAAAAAAAAAAAAAAAAAAAAAAAAAAAAAAAAAAAAAAAAAAAAAAAAAAAAAAAAAAAAAAAAAAAAAAAAAAAAAAAAAAAAAAAAAAAAAAAAAAAAAAAAAAAAAAAAAAAAAAAAAAAAAAAAAAAAAAAAAAAAAAAAAAAAAAAAAAAAAAAAAAAAAAAAAAAAAAAAAAAAAAAAAAAAAAAAAAAAAAAAAAAAAAAAAAAAAAAAAAAAAAAAAAAAAAAAAAAAAAAAAAAAAAAAAAAAAAAAAAAAAAAAAAAAAAAAAAAAAAAAAAAAAAAAAAAAAAAAAAAAAAAAAAAAAAAAAAAAAAAAAAAAAAAAAAAAAAAAAAAAAAAAAAAAAAAAAAAAAAAAAAAAAAAAAAAAAAAAAAAAAAAAAAAAAAAAAAAAAAAAAAAAAAAAAAAAAAAAAAAAAAAAAAAAAAAAAAAAAAAAAAAAAAAAAAAAAAAAAAAAAAAAAAAAAAAAAAAAAAAAAAAAAAAAAAAAAAAAAAAAAAAAAAAAAAAAAAAAAAAAAAAAAAAAAAAAAAAAAAAAAAAAAAAAAAAAAAAAAAAAAAAAAAAAAAAAAAAAAAAAAAAAAAAAAAAAAAAAAAAAAAAAAAAAAAAAAAAAAAAAAAAAAAAAAAAAAAAAAAAAAAAAAAAAAAAAAAAAAAAAAAAAAAAAAAAAAAAAAAAAAAAAAAAAAAAAAAAAAAAAAAAAAAAAAAAAAAAAAAAAAAAAAAAAAAAAAAAAAAAAAAAAAAAAAAAAAAAAAAAAAAAAAAAAAAAAAAAAAAAAAAAAAAAAAAAAAAAAAAAAAAAAAAAAAAAAAAAAAAAAAAAAAAAAAAAAAAAAAAAAAAAAAAAAAAAAAAAAAAAAAAAAAAAAAAAAAAAAAAAAAAAAAAAAAAAAAAAAAAAAAAAAAAAAAAAAAAAAAAAAAAAAAAAAAAAAAAAAAAAAAAAAAAAAAAAAAAAAAAAAAAAAAP//AAAAAAAAAAAAAAAAAAAAAAAAAAAAAAAAAAAAAAAA//8AAAAAAAAAAAAAAQABAAEAAAAAAAAA//8AAAAAAAAAAAAAAAAAAAAAAAAAAAAAAAAAAAEAAAAAAAAAAAAAAAAAAAAAAAAAAAAAAAAAAAAAAAAAAAAAAAAAAAAAAAAAAAAAAAAAAAAAAAAAAAAAAAAAAAABAAEAAAAAAAAAAAAAAAAAAAAAAAAAAAD///7///8AAAAAAAAAAAAAAAAAAAAAAAAAAAAAAAAAAAAAAAAAAAAAAAAAAAEAAAAAAAAA///+//7///8AAAAAAAAAAAAAAAAAAAAAAAAAAAEAAQACAAEAAAAAAP///v/+///////9//7/AAAAAAAAAQACAAEAAgABAAAA///+//7//f///wAAAAAAAAEAAAD//////v/+////AAAAAAEAAQAAAP///f/9//3//v8AAAEAAgABAAAAAAD/////AAAAAAEAAQABAAAA/v/9//3///8AAAAAAQABAAAA///9//7/AAAAAAEAAgABAAAAAAD+//7//////wAAAAAAAAAAAAAAAAAAAQABAAIAAgABAAAAAAD//////v////////8AAAAAAAAAAAAAAAABAAAAAAAAAAAAAAAAAAAAAAAAAAAAAAAAAAAAAAD/////////////AAAAAAAAAQACAAEAAQAAAP//AAAAAAAAAAAAAAAAAAAAAAAAAAAAAAAAAAAAAAAAAAAAAAAAAAAAAAAAAAAAAAAAAAABAAEAAAAAAAAAAQAAAAAA//////7////+////AAAAAAAAAAAAAAAAAAAAAP//AAAAAAAAAQAAAAAAAAD///7//v/+////AAAAAAAAAQAAAAAAAQAAAAAAAAAAAAAA//////7//v/+//7///8AAAAAAAAAAAEAAAAAAAAAAAAAAAAAAAABAAAAAAAAAAAAAAAAAAAAAQACAAEAAAAAAP7//v///wAAAAABAAAAAAAAAAAAAAABAAIAAgACAAEAAQAAAP///v/+/////////wAAAAD+//7//////wAAAAABAAEAAQAAAAEAAQAAAAAA/////wAAAAD/////AAAAAAAAAAAAAAAAAAAAAP///////wAA//////////8AAAAAAAAAAP/////+////AAAAAAAAAQABAAAAAAD+////AAAAAAEAAAAAAAAAAAAAAAAAAAABAAEAAQAAAP//AAAAAAAAAAAAAAEAAQABAAEAAQAAAAAA///+//7//v/+//////8AAAAAAAAAAAAAAAABAAEAAAAAAAAA//8AAAAAAAAAAAAAAAAAAAAA///+//7////+/wAAAAAAAAAAAAABAAEAAQAAAAAAAAAAAAAAAAAAAAAAAAAAAAAAAAABAAAA//////////8AAAAAAAAAAAAAAAAAAP////8AAAAAAAAAAAAAAAD//wAAAAAAAAAA/////////v///wAAAAAAAAAAAAAAAAAA//////////8AAAAAAAAAAAAAAQABAAEAAQABAAAA///+//7//v//////AAAAAAAAAAD//wAAAAAAAP//AAAAAAAAAAAAAAAAAQACAAEAAQABAAEAAAAAAAAAAAAAAP///v//////AAD/////AAAAAAAAAAAAAAEAAAABAAAAAQABAAEAAQAAAAAAAAAAAAAAAAAAAAAAAAAAAAAAAAAAAAAA///+//7//v//////AAD////////+//7//v8AAAAAAAAAAAAAAAAAAAAAAAAAAAAAAAAAAAAAAAAAAAAAAAAAAAAAAAAAAAEAAAAAAAAAAAD//////v/+//7///8AAAAAAAAAAAAAAAAAAAAAAAAAAAAAAAAAAAAA///////////+//7/////////AAAAAAAAAAAAAAAAAAAAAAAA//8AAAAAAAAAAP////8AAAAAAAAAAAAAAAAAAAAAAAAAAAAAAAAAAAAAAAAAAAAAAAAAAAAAAAAAAAAAAAD///7///8AAAAAAQABAAAAAAABAAAAAAAAAAAAAAAAAAAA//8AAP///////wAAAAAAAAAAAAAAAAEAAAAAAAEAAQAAAAAAAAAAAP////////7/AAAAAAAAAAAAAAEAAAABAAAAAAAAAAAA//////7/////////////////AAAAAAAAAAAAAAAAAAAAAAAAAAAAAAAAAAAAAAAAAAAAAAAAAAAAAAAAAAAAAAAAAAAAAAAAAAAAAAAAAAAAAAAAAAAAAP///////////////wAAAAAAAAAAAQABAAAAAQAAAAAAAAAAAAAAAAAAAAAAAAAAAAAAAAAAAAAAAAAAAAAAAAAAAAAAAAABAAAAAAAAAAAAAAAAAAAAAAAAAAAAAAAAAAAA///+//7//v////////8AAAAAAAAAAAEAAAABAAEAAQABAAAAAAAAAAAA//8AAP//AAAAAAAAAAAAAAAAAAABAAAAAAAAAP////////7//f/+//7//v///wAAAAAAAAEAAQABAAEAAAAAAAAAAAAAAP//AAAAAAAAAAAAAAAAAAAAAAAAAAAAAAAAAAAAAAAA///+//7//////////////wAAAAAAAAAAAAAAAAAAAAD///////////7///8AAP//AAAAAAAAAAD//wAAAAAAAAAAAAAAAAAAAAAAAAAAAAAAAAAAAAAAAAAAAQABAAEAAQAAAAAAAAAAAAAAAAAAAAAAAAAAAAAAAAAAAAAAAAAAAAAAAAAAAAAAAAAAAAAAAAAAAAAAAAD///7//v/+//7//f/9//7//v/+//7//v///wAAAAAAAAAAAAAAAAAAAAABAAAAAAAAAAAAAAAAAAAAAAAAAAAAAAAAAAEAAAAAAAAAAQABAAEAAQABAAEAAAABAAAAAAABAAAAAAAAAAAAAAABAAAAAAAAAAAAAAD/////AAAAAAAAAAAAAAAAAAD////////+//7///8AAAAAAAAAAAAAAAAAAAAAAAAAAAAA//8AAAAA//8AAAAAAAABAAAAAAAAAAAAAAAAAAAAAAAAAAEAAQAAAAAAAAAAAAAAAAAAAAAAAAAAAAAA//8AAAAAAAAAAAAAAAAAAAAAAAAAAAAAAAAAAP////////7///8AAAAAAAAAAAAAAAAAAAAAAAAAAAAAAAD////////+//7//v8AAAAAAAAAAAAAAAAAAAIAAQAAAAAAAAAAAAAA/v/+/wAAAAAAAAAAAAAAAAAAAQAAAAAAAQABAAEAAAAAAAAAAAAAAAAAAAAAAP//AAAAAAAAAAAAAAAAAAAAAAAAAAAAAAAAAAAAAAAAAAAAAAAAAAAAAAAAAQAAAAEAAQAAAAAAAAAAAAAAAAD///7//v///wAAAAAAAAAAAAAAAAAAAAAAAAAAAQAAAAAAAAAAAAEAAAAAAAAAAAAAAP//AAAAAP////8AAAAAAAAAAAAAAAAAAAAAAAABAAAAAAAAAAAAAAAAAAAAAAAAAAAAAQABAAEAAAAAAAAAAAAAAP////8AAAAA//8AAAAAAAAAAAAAAAAAAAAAAAAAAAAAAAAAAAAAAAAAAP///////////v//////AAAAAAAAAAABAAEAAAAAAAAAAAAAAAAAAAAAAAAAAAD//wAAAAAAAAAA//8AAAAAAAAAAAAAAAAAAAAAAAAAAAAAAAAAAAAAAAAAAAAAAAAAAAAAAAAAAAAAAAD//wAAAAAAAAAAAAAAAAEAAAAAAAAAAAAAAAAAAAD///////8AAAAAAAAAAP///////wAAAQAAAAAAAQABAAAAAAAAAAAAAAAAAP///v///////v////////8AAAAAAAAAAAAAAQABAAAAAAAAAAAAAAAAAAAAAAD///////////////8AAP//AAAAAAAAAQABAAAAAAAAAAAAAAAAAAAAAAAAAAAAAAAAAAAAAAAAAAAAAAAAAAAAAAABAAAAAAAAAAAAAAAAAAEAAQABAAEAAAAAAAAAAAAAAAAAAAAAAAAAAAAAAAAAAAAAAAAAAAAAAAAAAAD//wAAAAD//wAAAAAAAAAAAAAAAAAAAAAAAAEAAAAAAAAAAAAAAAAAAAAAAAAAAAAAAAAAAAAAAAAAAAAAAAAAAAAAAAEAAAAAAAAAAAAAAAAAAAAAAAAAAAAAAAAAAAABAAAAAAAAAAAAAAAAAAAAAAAAAAAAAAAAAAAAAAAAAAAAAAAAAAEAAAAAAAAAAAAAAAAAAAAAAAAAAAAAAAAAAAAAAAAAAAAAAAAAAAAAAAAAAAD//wAAAAAAAAAAAAAAAAEAAQABAAEAAgABAAAAAAAAAAAAAAAAAP//AAAAAAAAAAAAAAAAAAAAAAAAAAABAAEAAQABAAEAAQABAAAAAAAAAAAAAAAAAAAAAAAAAAAAAAAAAAAAAAAAAAAAAAAAAAAAAAAAAAAAAAAAAAAAAQAAAAAAAAAAAAAAAAAAAP///v////////8AAAAAAAAAAAAAAAAAAAAAAAAAAAAAAAAAAAAAAAAAAAAAAAAAAAEAAQAAAAAAAAAAAAAAAAAAAAAAAAAAAAAAAAAAAAEAAQAAAAAAAAABAAEAAQABAAAAAAABAAAAAAAAAAAAAAAAAP////8AAAAAAAAAAAAAAAAAAAAAAAAAAAAAAAAAAAAAAAAAAAAAAAAAAAAAAAAAAAAAAAAAAAAAAAAAAP7//v/+//7/AAAAAAAAAAAAAAAAAAAAAAAAAAAAAAAAAAAAAAAAAAAAAAAAAAAAAAAAAAAAAAAAAAAAAAAAAAAAAAAAAAD//wAAAAD//wAAAAAAAAAAAAAAAAAAAAAAAAAAAAAAAAAAAAAAAAAAAAAAAAAAAAAAAAAAAAAAAAAAAAAAAAAAAAAAAAAAAAAAAAAAAAAAAAAAAAAAAAAAAAAAAAAAAAAAAAAAAAAAAAAAAAAAAAAAAAAAAAAAAAAAAAAAAAAAAAAAAAAAAAAAAAAAAAAAAAAAAAAAAAAAAAAAAAAAAAAAAAAAAAAAAAAAAAAAAAAAAAAAAAAAAAAAAAAAAAAAAAAAAAAAAAAAAAAAAAAAAAAAAAABAAAAAAAAAAAAAAAAAAAAAAAAAAAAAAAAAAAAAAAAAAAAAAAAAAAAAAAAAAAAAAAAAAAAAAAAAAEAAAAAAAAAAAAAAAAAAAAAAAAAAAAAAP//AAAAAAAAAAAAAAAAAAAAAAAAAAAAAAAAAAAAAAAAAAAAAAAAAQABAAAAAAAAAAAAAAAAAAAAAAAAAAAAAAAAAAAAAQAAAAAAAAAAAAAAAAAAAAAAAAAAAAAAAAAAAAAAAAAAAAAAAAAAAAAA/v/+/////////wAAAAAAAAAAAAAAAAAAAAAAAAAAAAAAAAAAAAAAAAAAAAAAAAAAAAAAAAEAAAAAAAAAAAAAAAAAAAAAAAAAAAAAAAAAAAAAAAAAAAAAAAAAAAAAAP//AAAAAAAAAAAAAAAAAAAAAAAAAAAAAAAAAAAAAAAAAAAAAAAAAAAAAAAAAAAAAAAAAAAAAAAAAAAAAAAAAAAAAAAAAAAAAAAAAAAAAAAAAAAAAAAAAAAAAAAAAAAAAAAAAAAAAAAAAAAAAAAAAAAAAAAAAAAAAAAAAAAAAAAAAAAAAAAAAAAAAAAAAAAAAAAAAAAAAP//AAAAAAAAAAAAAAAAAAAAAAAAAAAAAAEAAQAAAAAAAAAAAAAAAAAAAAAAAAAAAAAAAAAAAAAAAAAAAAAAAAAAAAAAAAAAAAAAAAAAAAAAAAAAAAAAAAAAAAAAAAAAAAAAAAAAAAAAAAAAAAAAAAAAAAAAAAAAAAAAAAAAAAAAAAAAAAAAAAAAAAAAAAAAAAAAAAAAAAAAAAAAAAAAAAAAAAAAAAAAAAAAAAAAAAAAAAAAAAAAAAAAAAAAAAAAAAAAAAAAAAAAAAAAAAAAAAAAAAAAAAAAAAAAAAAAAAAAAAAAAAAAAAAAAAAAAAAAAAAAAAAAAAAAAAAAAAAAAAAAAAAAAAAAAAAAAAAAAAAAAAAAAAAAAAAAAAAAAAAAAAAAAAAAAAAAAAAAAAAAAAAAAAAAAAAAAAAAAAAAAAAAAAAAAAAAAAAAAAAAAAAAAAAAAAAAAAAAAAAAAAAAAAAAAAAAAAAAAAAAAAAAAAAAAAAAAAAAAAAAAAAAAAAAAAAAAAAAAAAAAAAAAAAAAAAAAAAAAAAAAAAAAAAAAAAAAAAAAAAAAAAAAAAAAAAAAAAAAAAAAAAAAAD//wAAAAAAAAAAAAAAAAAAAAAAAAAAAAAAAAAAAAAAAAAAAAAAAAAAAAAAAAAAAAAAAAAAAAAAAAAAAAAAAAAAAAAAAAAAAAAAAAAAAAAAAAAAAAAAAAAAAAAAAAAAAAAAAAAAAAAAAAAAAAAAAAAAAAAAAAAAAAAAAAAAAAAAAAAAAAAAAAAAAAAAAAAAAAAAAAAAAAAAAAAAAAAAAAAAAAAAAAAAAAAAAAAAAAAAAAAAAAAAAAAAAAAAAAAAAAAAAAAAAAAAAAAAAAAAAAAAAAAAAAAAAAAAAAAAAAAAAAAAAAAAAAAAAAAAAAAAAAAAAAAAAAAAAAAAAAAAAAAAAAAAAAAAAAAAAAAAAAAAAAAAAAAAAAAAAAAAAAAAAAAAAAAAAAAAAAAAAAAAAAAAAAAAAAAAAAAAAAAAAAAAAAAAAAAAAAAAAAAAAAAAAAAAAAAAAAAAAAAAAAAAAAAAAAAAAAAAAAAAAAAAAAAAAAAAAAAAAAAAAAAAAP//AAAAAAAAAAAAAAAAAAAAAAAAAAAAAAAAAAAAAAAAAAAAAAAAAAAAAAAAAAAAAAAAAAAAAAAAAAAAAAAAAAAAAAAAAAAAAAAAAAAAAAAAAAAAAAAAAAAAAAAAAAAAAAAAAAAAAAAAAAAAAAAAAAAAAAAAAAAAAAAAAAAAAAAAAAAAAAAAAAAAAAAAAAAAAAAAAAAAAAAAAAAAAAAAAAAAAAAAAAAAAAAAAAAAAAAAAAAAAAAAAAAAAAAAAAAAAAAAAAAAAAAAAAAAAAAAAAAAAAAAAAAAAAAAAAAAAAAAAAAAAAAAAAAAAAAAAAAAAAAAAAAAAAAAAAAAAAAAAAAAAAAAAAAAAAAAAAAAAAAAAAAAAAAAAAAAAAAAAAAAAAAAAAAAAAAAAAAAAAAAAAAAAAAAAAAAAAAAAAAAAAAAAAAAAAAAAAAAAAAAAAAAAAAAAAAAAAAAAAAAAAAAAAAAAAAAAAAAAAAAAAAAAAAAAAAAAAAAAAAAAAAAAAAAAAAAAAAAAAAAAAAAAAAAAAAAAAAAAAAAAAAAAAAAAAAAAAAAAAAAAAAAAAAAAAAAAAAAAAAAAAAAAAAAAAAAAAAAAAAAAAAAAAAAAAAAAAAAAAAAAAAAAAAAAAAAAAAAAAAAAAAAAAAAAAAAAAAAAAAAAAAAAAAAAAAAAAAAAAAAAAAAAAAAAAAAAAAAAAAAAAAAAAAAAAAAAAAAAAAAAAAAAAAAAAAAAAAAAAAAAAAAAAAAAAAAAAAAAAAAAAAAAAAAAAAAAAAAAAAAAAAAAAAAAAAAAAAAAAAAAAAAAAAAAAAAAAAAAAAAAAAAAAAAAAAAAAAAAAAAAAAAAAAAAAAAAAAAAAAAAAAAAAAAAAAAAAAAAAAAAAAAAAAAAAAAAAAAAAAAAAAAAAAAAAAAAAAAAAAAAAAAAAAAAAAAAAAAAAAAAAAAAAAAAAAAAAAAAAAAAAAAAAAAAAAAAAAAAAAAAAAAAAAAAAAAAAAAAAAAAAAAAAAAAAAAAAAAAAAAAAAAAAAAAAAAAAAAAAAAAAAAAAAAAAAAAAAAAAAAAAAAAAAAAAAAAAAAAAAAAAAAAAAAAAAAAAAAAAAAAAAAAAAAAAAAAAAAAAAAAAAAAAAAAAAAAAAAAAAAAAAAAAAAAAAAAAAAAAAAAAAAAAAAAAAAAAAAAAAAAAAAAAAAAAAAAAAAAAAAAAAAAAAAAAAAAAAAAAAAAAAAAAAAAAAAAAAAAAAAAAAAAAAAAAAAAAAAAAAAAAAAAAAAAAAAAAAAAAAAAAAAAAAAAAAAAAAAAAAAAAAAAAAAAAAAAAAAAAAAAAAAAAAAAAAAAAAAAAAAAAAAAAAAAAAAAAAAAAAAAAAAAAAAAAAAAAAAAAAAAAAAAAAAAAAAAAAAAAAAAAAAAAAAAAAAAAAAAAAAAAAAAAAAAAAAAAAAAAAAAAAAAAAAAAAAAAAAAAAAAAAAAAAAAAAAAAAAAAAAAAAAAAAAAAAAAAAAAAAAAAAAAAAAAAAAAAAAAAAAAAAAAAAAAAAAAAAAAAAAAAAAAAAAAAAAAAAAAAAAAAAAAAAAAAAAAAAAAAAAAAAAAAAAAAAAAAAAAAAAAAAAAAAAAAAAAAAAAAAAAAAAAAAAAAAAAAAAAAAAAAAAAAAAAAAAAAAAAAAAAAAAAAAAAAAAAAAAAAAAAAAAAAAAAAAAAAAAAAAAAAAAAAAAAAAAAAAAAAAAAAAAAAAAAAAAAAAAAAAAAAAAAAAAAAAAAAAAAAAAAAAAAAAAAAAAAAAAAAAAAAAAAAAAAAAAAAAAAAAAAAAAAAAAAAAAAAAAAAAAAAAAAAAAAAAAAAAAAAAAAAAAAAAAAAAAAAAAAAAAAAAAAAAAAAAAAAAAAAAAAAAAAAAAAAAAAAAAAAAAAAAAAAAAAAAAAAAAAAAAAAAAAAAAAAAAAAAAAAAAAAAAAAAAAAAAAAAAAAAAAAAAAAAAAAAAAAAAAAAAAAAAAAAAAAAAAAAAAAAAAAAAAAAAAAAAAAAAAAAAAAAAAAAAAAAAAAAAAAAAAAAAAAAAAAAAAAAAAAAAAAAAAAAAAAAAAAAAAAAAAAAAAAAAAAAAAAAAAAAAAAAAAAAAAAAAAAAAAAAAAAAAAAAAAAAAAAAAAAAAAAAAAAAAAAAAAAAAAAAAAAAAAAAAAAAAAAAAAAAAAAAAAAAAAAAAAAAAAAAAAAAAAAAAAAAAAAAAAAAAAAAAAAAAAAAAAAAAAAAAAAAAAAAAAAAAAAAAAAAAAAAAAAAAAAAAAAAAAAAAAAAAAAAAAAAAAAAAAAAAAAAAAAAAAAAAAAAAAAAAAAAAAAAAAAAAAAAAAAAAAAAAAAAAAAAAAAAAAAAAAAAAAAAAAAAAAAAAAAAAAAAAAAAAAAAAAAAAAAAAAAAAAAAAAAAAAAAAAAAAAAAAAAAAAAAAAAAAAAAAAAAAAAAAAAAAAAAAAAAAAAAAAAAAAAAAAAAAAAAAAAAAAAAAAAAAAAAAAAAAAAAAAAAAAAAAAAAAAAAAAAAAAAAAAAAAAAAAAAAAAAAAAAAAAAAAAAAAAAAAAAAAAAAAAAAAAAAAAAAAAAAAAAAAAAAAAAAAAAAAAAAAAAAAAAAAAAAAAAAAAAAAAAAAAAAAAAAAAAAAAAAAAAAAAAAAAAAAAAAAAAAAAAAAAAAAAAAAAAAAAAAAAAAAAAAAAAAAAAAAAAAAAAAAAAAAAAAAAAAAAAAAAAAAAAAAAAAAAAAAAAAAAAAAAAAAAAAAAAAAAAAAAAAAAAAAAAAAAAAAAAAAAAAAAAAAAAAAAAAAAAAAAAAAAAAAAAAAAAAAAAAAAAAAAAAAAAAAAAAAAAAAAAAAAAAAAAAAAAAAAAAAAAAAAAAAAAAAAAAAAAAAAAAAAAAAAAAAAAAAAAAAAAAAAAAAAAAAAAAAAAAAAAAAAAAAAAAAAAAAAAAAAAAAAAAAAAAAAAAAAAAAAAAAAAAAAAAAAAAAAAAAAAAAAAAAAAAAAAAAAAAAAAAAAAAAAAAAAAAAAAAAAAAAAAAAAAAAAAAAAAAAAAAAAAAAAAAAAAAAAAAAAAAAAAAAAAAAAAAAAAAAAAAAAAAAAAAAAAAAAAAAAAAAAAAAAAAAAAAAAAAAAAAAAAAAAAAAAAAAAAAAAAAAAAAAAAAAAAAAAAAAAAAAAAAAAAAAAAAAAAAAAAAAAAAAAAAAAAAAAAAAAAAAAAAAAAAAAAAAAAAAAAAAAAAAAAAAAAAAAAAAAAAAAAAAAAAAAAAAAAAAAAAAAAAAAAAAAAAAAAAAAAAAAAAAAAAAAAAAAAAAAAAAAAAAAAAAAAAAAAAAAAAAAAAAAAAAAAAAAAAAAAAAAAAAAAAAAAAAAAAAAAAAAAAAAAAAAAAAAAAAAAAAAAAAAAAAAAAAAAAAAAAAAAAAAAAAAAAAAAAAAAAAAAAAAAAAAAAAAAAAAAAAAAAAAAAAAAAAAAAAAAAAAAAAAAAAAAAAAAAAAAAAAAAAAAAAAAAAAAAAAAAAAAAAAAAAAAAAAAAAAAAAAAAAAAAAAAAAAAAAAAAAAAAAAAAAAAAAAAAAAAAAAAAAAAAAAAAAAAAAAAAAAAAAAAAAAAAAAAAAAAAAAAAAAAAAAAAAAAAAAAAAAAAAAAAAAAAAAAAAAAAAAAAAAAAAAAAAAAAAAAAAAAAAAAAAAAAAAAAAAAAAAAAAAAAAAAAAAAAAAAAAAAAAAAAAAAAAAAAAAAAAAAAAAAAAAAAAAAAAAAAAAAAAAAAAAAAAAAAAAAAAAAAAAAAAAAAAAAAAAAAAAAAAAAAAAAAAAAAAAAAAAAAAAAAAAAAAAAAAAAAAAAAAAAAAAAAAAAAAAAAAAAAAAAAAAAAAAAAAAAAAAAAAAAAAAAAAAAAAAAAAAAAAAAAAAAAAAAAAAAAAAAAAAAAAAAAAAAAAAAAAAAAAAAAAAAAAAAAAAAAAAAAAAAAAAAAAAAAAAAAAAAAAAAAAAAAAAAAAAAAAAAAAAAAAAAAAAAAAAAAAAAAAAAAAAAAAAAAAAAAAAAAAAAAAAAAAAAAAAAAAAAAAAAAAAAAAAAAAAAAAAAAAAAAAAAAAAAAAAAAAAAAAAAAAAAAAAAAAAAAAAAAAAAAAAAAAAAAAAAAAAAAAAAAAAAAAAAAAAAAAAAAAAAAAAAAAAAAAAAAAAAAAAAAAAAAAAAAAAAAAAAAAAAAAAAAAAAAAAAAAAAAAAAAAAAAAAAAAAAAAAAAAAAAAAAAAAAAAAAAAAAAAAAAAAAAAAAAAAAAAAAAAAAAAAAAAAAAAAAAAAAAAAAAAAAAAAAAAAAAAAAAAAAAAAAAAAAAAAAAAAAAAAAAAAAAAAAAAAAAAAAAAAAAAAAAAAAAAAAAAAAAAAAAAAAAAAAAAAAAAAAAAAAAAAAAAAAAAAAAAAAAAAAAAAAAAAAAAAAAAAAAAAAAAAAAAAAAAAAAAAAAAAAAAAAAAAAAAAAAAAAAAAAAAAAAAAAAAAAAAAAAAAAAAAAAAAAAAAAAAAAAAAAAAAAAAAAAAAAAAAAAAAAAAAAAAAAAAAAAAAAAAAAAAAAAAAAAAAAAAAAAAAAAAAAAAAAAAAAAAAAAAAAAAAAAAAAAAAAAAAAAAAAAAAAAAAAAAAAAAAAAAAAAAAAAAAAAAAAAAAAAAAAAAAAAAAAAAAAAAAAAAAAAAAAAAAAAAAAAAAAAAAAAAAAAAAAAAAAAAAAAAAAAAAAAAAAAAAAAAAAAAAAAAAAAAAAAAAAAAAAAAAAAAAAAAAAAAAAAAAAAAAAAAAAAAAAAAAAAAAAAAAAAAAAAAAAAAAAAAAAAAAAAAAAAAAAAAAAAAAAAAAAAAAAAAAAAAAAAAAAAAAAAAAAAAAAAAAAAAAAAAAAAAAAAAAAAAAAAAAAAAAAAAAAAAAAAAAAAAAAAAAAAAAAAAAAAAAAAAAAAAAAAAAAAAAAAAAAAAAAAAAAAAAAAAAAAAAAAAAAAAAAAAAAAAAAAAAAAAAAAAAAAAAAAAAAAAAAAAAAAAAAAAAAAAAAAAAAAAAAAAAAAAAAAAAAAAAAAAAAAAAAAAAAAAAAAAAAAAAAAAAAAAAAAAAAAAAAAAAAAAAAAAAAAAAAAAAAAAAAAAAAAAAAAAAAAAAAAAAAAAAAAAAAAAAAAAAAAAAAAAAAAAAAAAAAAAAAAAAAAAAAAAAAAAAAAAAAAAAAAAAAAAAAAAAAAAAAAAAAAAAAAAAAAAAAAAAAAAAAAAAAAAAAAAAAAAAAAAAAAAAAAAAAAAAAAAAAAAAAAAAAAAAAAAAAAAAAAAAAAAAAAAAAAAAAAAAAAAAAAAAAAAAAAAAAAAAAAAAAAAAAAAAAAAAAAAAAAAAAAAAAAAAAAAAAAAAAAAAAAAAAAAAAAAAAAAAAAAAAAAAAAAAAAAAAAAAAAAAAAAAAAAAAAAAAAAAAAAAAAAAAAAAAAAAAAAAAAAAAAAAAAAAAAAAAAAAAAAAAAAAAAAAAAAAAAAAAAAAAAAAAAAAAAAAAAAAAAAAAAAAAAAAAAAAAAAAAAAAAAAAAAAAAAAAAAAAAAAAAAAAAAAAAAAAAAAAAAAAAAAAAAAAAAAAAAAAAAAAAAAAAAAAAAAAAAAAAAAAAAAAAAAAAAAAAAAAAAAAAAAAAAAAAAAAAAAAAAAAAAAAAAAAAAAAAAAAAAAAAAAAAAAAAAAAAAAAAAAAAAAAAAAAAAAAAAAAAAAAAAAAAAAAAAAAAAAAAAAAAAAAAAAAAAAAAAAAAAAAAAAAAAAAAAAAAAAAAAAAAAAAAAAAAAAAAAAAAAAAAAAAAAAAAAAAAAAAAAAAAAAAAAAAAAAAAAAAAAAAAAAAAAAAAAAAAAAAAAAAAAAAAAAAAAAAAAAAAAAAAAAAAAAAAAAAAAAAAAAAAAAAAAAAAAAAAAAAAAAAAAAAAAAAAAAAAAAAAAAAAAAAAAAAAAAAAAAAAAAAAAAAAAAAAAAAAAAAAAAAAAAAAAAAAAAAAAAAAAAAAAAAAAAAAAAAAAAAAAAAAAAAAAAAAAAAAAAAAAAAAAAAAAAAAAAAAAAAAAAAAAAAAAAAAAAAAAAAAAAAAAAAAAAAAAAAAAAAAAAAAAAAAAAAAAAAAAAAAAAAAAAAAAAAAAAAAAAAAAAAAAAAAAAAAAAAAAAAAAAAAAAAAAAAAAAAAAAAAAAAAAAAAAAAAAAAAAAAAAAAAAAAAAAAAAAAAAAAAAAAAAAAAAAAAAAAAAAAAAAAAAAAAAAAAAAAAAAAAAAAAAAAAAAAAAAAAAAAAAAAAAAAAAAAAAAAAAAAAAAAAAAAAAAAAAAAAAAAAAAAAAAAAAAAAAAAAAAAAAAAAAAAAAAAAAAAAAAAAAAAAAAAAAAAAAAAAAAAAAAAAAAAAAAAAAAAAAAAAAAAAAAAAAAAAAAAAAAAAAAAAAAAAAAAAAAAAAAAAAAAAAAAAAAAAAAAAAAAAAAAAAAAAAAAAAAAAAAAAAAAAAAAAAAAAAAAAAAAAAAAAAAAAAAAAAAAAAAAAAAAAAAAAAAAAAAAAAAAAAAAAAAAAAAAAAAAAAAAAAAAAAAAAAAAAAAAAAAAAAAAAAAAAAAAAAAAAAAAAAAAAAAAAAAAAAAAAAAAAAAAAAAAAAAAAAAAAAAAAAAAAAAAAAAAAAAAAAAAAAAAAAAAAAAAAAAAAAAAAAAAAAAAAAAAAAAAAAAAAAAAAAAAAAAAAAAAAAAAAAAAAAAAAAAAAAAAAAAAAAAAAAAAAAAAAAAAAAAAAAAAAAAAAAAAAAAAAAAAAAAAAAAAAAAAAAAAAAAAAAAAAAAAAAAAAAAAAAAAAAAAAAAAAAAAAAAAAAAAAAAAAAAAAAAAAAAAAAAAAAAAAAAAAAAAAAAAAAAAAAAAAAAAAAAAAAAAAAAAAAAAAAAAAAAAAAAAAAAAAAAAAAAAAAAAAAAAAAAAAAAAAAAAAAAAAAAAAAAAAAAAAAAAAAAAAAAAAAAAAAAAAAAAAAAAAAAAAAAAAAAAAAAAAAAAAAAAAAAAAAAAAAAAAAAAAAAAAAAAAAAAAAAAAAAAAAAAAAAAAAAAAAAAAAAAAAAAAAAAAAAAAAAAAAAAAAAAAAAAAAAAAAAAAAAAAAAAAAAAAAAAAAAAAAAAAAAAAAAAAAAAAAAAAAAAAAAAAAAAAAAAAAAAAAAAAAAAAAAAAAAAAAAAAAAAAAAAAAAAAAAAAAAAAAAAAAAAAAAAAAAAAAAAAAAAAAAAAAAAAAAAAAAAAAAAAAAAAAAAAAAAAAAAAAAAAAAAAAAAAAAAAAAAAAAAAAAAAAAAAAAAAAAAAAAAAAAAAAAAAAAAAAAAAAAAAAAAAAAAAAAAAAAAAAAAAAAAAAAAAAAAAAAAAAAAAAAAAAAAAAAAAAAAAAAAAAAAAAAAAAAAAAAAAAAAAAAAAAAAAAAAAAAAAAAAAAAAAAAAAAAAAAAAAAAAAAAAAAAAAAAAAAAAAAAAAAAAAAAAAAAAAAAAAAAAAAAAAAAAAAAAAAAAAAAAAAAAAAAAAAAAAAAAAAAAAAAAAAAAAAAAAAAAAAAAAAAAAAAAAAAAAAAAAAAAAAAAAAAAAAAAAAAAAAAAAAAAAAAAAAAAAAAAAAAAAAAAAAAAAAAAAAAAAAAAAAAAAAAAAAAAAAAAAAAAAAAAAAAAAAAAAAAAAAAAAAAAAAAAAAAAAAAAAAAAAAAAAAAAAAAAAAAAAAAAAAAAAAAAAAAAAAAAAAAAAAAAAAAAAAAAAAAAAAAAAAAAAAAAAAAAAAAAAAAAAAAAAAAAAAAAAAAAAAAAAAAAAAAAAAAAAAAAAAAAAAAAAAAAAAAAAAAAAAAAAAAAAAAAAAAAAAAAAAAAAAAAAAAAAAAAAAAAAAAAAAAAAAAAAAAAAAAAAAAAAAAAAAAAAAAAAAAAAAAAAAAAAAAAAAAAAAAAAAAAAAAAAAAAAAAAAAAAAAAAAAAAAAAAAAAAAAAAAAAAAAAAAAAAAAAAAAAAAAAAAAAAAAAAAAAAAAAAAAAAAAAAAAAAAAAAAAAAAAAAAAAAAAAAAAAAAAAAAAAAAAAAAAAAAAAAAAAAAAAAAAAAAAAAAAAAAAAAAAAAAAAAAAAAAAAAAAAAAAAAAAAAAAAAAAAAAAAAAAAAAAAAAAAAAAAAAAAAAAAAAAAAAAAAAAAAAAAAAAAAAAAAAAAAAAAAAAAAAAAAAAAAAAAAAAAAAAAAAAAAAAAAAAAAAAAAAAAAAAAAAAAAAAAAAAAAAAAAAAAAAAAAAAAAAAAAAAAAAAAAAAAAAAAAAAAAAAAAAAAAAAAAAAAAAAAAAAAAAAAAAAAAAAAAAAAAAAAAAAAAAAAAAAAAAAAAAAAAAAAAAAAAAAAAAAAAAAAAAAAAAAAAAAAAAAAAAAAAAAAAAAAAAAAAAAAAAAAAAAAAAAAAAAAAAAAAAAAAAAAAAAAAAAAAAAAAAAAAAAAAAAAAAAAAAAAAAAAAAAAAAAAAAAAAAAAAAAAAAAAAAAAAAAAAAAAAAAAAAAAAAAAAAAAAAAAAAAAAAAAAAAAAAAAAAAAAAAAAAAAAAAAAAAAAAAAAAAAAAAAAAAAAAAAAAAAAAAAAAAAAAAAAAAAAAAAAAAAAAAAAAAAAAAAAAAAAAAAAAAAAAAAAAAAAAAAAAAAAAAAAAAAAAAAAAAAAAAAAAAAAAAAAAAAAAAAAAAAAAAAAAAAAAAAAAAAAAAAAAAAAAAAAAAAAAAAAAAAAAAAAAAAAAAAAAAAAAAAAAAAAAAAAAAAAAAAAAAAAAAAAAAAAAAAAAAAAAAAAAAAAAAAAAAAAAAAAAAAAAAAAAAAAAAAAAAAAAAAAAAAAAAAAAAAAAAAAAAAAAAAAAAAAAAAAAAAAAAAAAAAAAAAAAAAAAAAAAAAAAAAAAAAAAAAAAAAAAAAAAAAAAAAAAAAAAAAAAAAAAAAAAAAAAAAAAAAAAAAAAAAAAAAAAAAAAAAAAAAAAAAAAAAAAAAAAAAAAAAAAAAAAAAAAAAAAAAAAAAAAAAAAAAAAAAAAAAAAAAAAAAAAAAAAAAAAAAAAAAAAAAAAAAAAAAAAAAAAAAAAAAAAAAAAAAAAAAAAAAAAAAAAAAAAAAAAAAAAAAAAAAAAAAAAAAAAAAAAAAAAAAAAAAAAAAAAAAAAAAAAAAAAAAAAAAAAAAAAAAAAAAAAAAAAAAAAAAAAAAAAAAAAAAAAAAAAAAAAAAAAAAAAAAAAAAAAAAAAAAAAAAAAAAAAAAAAAAAAAAAAAAAAAAAAAAAAAAAAAAAAAAAAAAAAAAAAAAAAAAAAAAAAAAAAAAAAAAAAAAAAAAAAAAAAAAAAAAAAAAAAAAAAAAAAAAAAAAAAAAAAAAAAAAAAAAAAAAAAAAAAAAAAAAAAAAAAAAAAAAAAAAAAAAAAAAAAAAAAAAAAAAAAAAAAAAAAAAAAA=\" type=\"audio/wav\" />\n",
       "                    Your browser does not support the audio element.\n",
       "                </audio>\n",
       "              "
      ],
      "text/plain": [
       "<IPython.lib.display.Audio object>"
      ]
     },
     "execution_count": 72,
     "metadata": {},
     "output_type": "execute_result"
    }
   ],
   "source": [
    "import IPython.display as ipd\n",
    "import numpy as np\n",
    "import random\n",
    "\n",
    "rand_int = random.randint(0, len(common_voice_train)-1)\n",
    "\n",
    "print(common_voice_train[rand_int][\"sentence\"])\n",
    "ipd.Audio(data=common_voice_train[rand_int][\"audio\"][\"array\"], autoplay=True, rate=16000)"
   ]
  },
  {
   "cell_type": "markdown",
   "metadata": {
    "id": "gY8m3vARHYTa"
   },
   "source": [
    "It seems like the data is now correctly loaded and resampled. "
   ]
  },
  {
   "cell_type": "markdown",
   "metadata": {
    "id": "1MaL9J2dNVtG"
   },
   "source": [
    "It can be heard, that the speakers change along with their speaking rate, accent, and background environment, etc. Overall, the recordings sound acceptably clear though, which is to be expected from a crowd-sourced read speech corpus.\n",
    "\n",
    "Let's do a final check that the data is correctly prepared, by printing the shape of the speech input, its transcription, and the corresponding sampling rate.\n",
    "\n",
    "**Note**: *You can click the following cell a couple of times to verify multiple samples.*"
   ]
  },
  {
   "cell_type": "code",
   "execution_count": null,
   "metadata": {
    "colab": {
     "base_uri": "https://localhost:8080/"
    },
    "id": "1Po2g7YPuRTx",
    "outputId": "df268899-0558-4f55-d9ce-68a2e6148186"
   },
   "outputs": [
    {
     "name": "stdout",
     "output_type": "stream",
     "text": [
      "Target text: çok güzel \n",
      "Input array shape: (34560,)\n",
      "Sampling rate: 16000\n"
     ]
    }
   ],
   "source": [
    "rand_int = random.randint(0, len(common_voice_train)-1)\n",
    "\n",
    "print(\"Target text:\", common_voice_train[rand_int][\"sentence\"])\n",
    "print(\"Input array shape:\", common_voice_train[rand_int][\"audio\"][\"array\"].shape)\n",
    "print(\"Sampling rate:\", common_voice_train[rand_int][\"audio\"][\"sampling_rate\"])"
   ]
  },
  {
   "cell_type": "markdown",
   "metadata": {
    "id": "M9teZcSwOBJ4"
   },
   "source": [
    "Good! Everything looks fine - the data is a 1-dimensional array, the sampling rate always corresponds to 16kHz, and the target text is normalized.\n",
    "\n",
    "Next, we should process the data with the model's feature extractor. Let's load the feature extractor"
   ]
  },
  {
   "cell_type": "code",
   "execution_count": null,
   "metadata": {
    "colab": {
     "base_uri": "https://localhost:8080/",
     "height": 1000,
     "referenced_widgets": [
      "f5ed78d4c93d4ad8a3c36e9c6be42954",
      "5923ee1f3d31466c949f9abb7f98ee48",
      "4201952adf02450bb106bc90b65b21a8",
      "136e3698e7ae4f37b2b6eaabd74fff37",
      "bb2ce51969174648805e61c6fe5bbc26",
      "1eb0e9573a374f36a9c23ff9be46eec5",
      "92b6d40d90b74f1ab3085fd39ae7fb8a",
      "20da06bc68034ad889ee2d243c1871a6",
      "b37445039fca441aac2eba6153b52e41",
      "b74262bbe4ba4798b737eb687c77493f",
      "10d392f730e24029a1d0cf27de2f757b"
     ]
    },
    "id": "UuA-9bgBYT4x",
    "outputId": "3c13fd12-3982-42ce-db39-b42d75e77b83"
   },
   "outputs": [
    {
     "name": "stderr",
     "output_type": "stream",
     "text": [
      "loading configuration file https://huggingface.co/facebook/wav2vec2-large-xlsr-53/resolve/main/config.json from cache at /root/.cache/huggingface/transformers/8508c73cd595eb416a1d517b90762416c0bc6cfbef529578079aeae4d8c14336.7581ed2ee0c677f1e933180df51bd1a668c4a2b6d5fd1297d32069373dac097c\n",
      "Model config Wav2Vec2Config {\n",
      "  \"activation_dropout\": 0.0,\n",
      "  \"apply_spec_augment\": true,\n",
      "  \"architectures\": [\n",
      "    \"Wav2Vec2ForPreTraining\"\n",
      "  ],\n",
      "  \"attention_dropout\": 0.1,\n",
      "  \"bos_token_id\": 1,\n",
      "  \"classifier_proj_size\": 256,\n",
      "  \"codevector_dim\": 768,\n",
      "  \"contrastive_logits_temperature\": 0.1,\n",
      "  \"conv_bias\": true,\n",
      "  \"conv_dim\": [\n",
      "    512,\n",
      "    512,\n",
      "    512,\n",
      "    512,\n",
      "    512,\n",
      "    512,\n",
      "    512\n",
      "  ],\n",
      "  \"conv_kernel\": [\n",
      "    10,\n",
      "    3,\n",
      "    3,\n",
      "    3,\n",
      "    3,\n",
      "    2,\n",
      "    2\n",
      "  ],\n",
      "  \"conv_stride\": [\n",
      "    5,\n",
      "    2,\n",
      "    2,\n",
      "    2,\n",
      "    2,\n",
      "    2,\n",
      "    2\n",
      "  ],\n",
      "  \"ctc_loss_reduction\": \"sum\",\n",
      "  \"ctc_zero_infinity\": false,\n",
      "  \"diversity_loss_weight\": 0.1,\n",
      "  \"do_stable_layer_norm\": true,\n",
      "  \"eos_token_id\": 2,\n",
      "  \"feat_extract_activation\": \"gelu\",\n",
      "  \"feat_extract_dropout\": 0.0,\n",
      "  \"feat_extract_norm\": \"layer\",\n",
      "  \"feat_proj_dropout\": 0.1,\n",
      "  \"feat_quantizer_dropout\": 0.0,\n",
      "  \"final_dropout\": 0.0,\n",
      "  \"gradient_checkpointing\": false,\n",
      "  \"hidden_act\": \"gelu\",\n",
      "  \"hidden_dropout\": 0.1,\n",
      "  \"hidden_size\": 1024,\n",
      "  \"initializer_range\": 0.02,\n",
      "  \"intermediate_size\": 4096,\n",
      "  \"layer_norm_eps\": 1e-05,\n",
      "  \"layerdrop\": 0.1,\n",
      "  \"mask_channel_length\": 10,\n",
      "  \"mask_channel_min_space\": 1,\n",
      "  \"mask_channel_other\": 0.0,\n",
      "  \"mask_channel_prob\": 0.0,\n",
      "  \"mask_channel_selection\": \"static\",\n",
      "  \"mask_feature_length\": 10,\n",
      "  \"mask_feature_prob\": 0.0,\n",
      "  \"mask_time_length\": 10,\n",
      "  \"mask_time_min_space\": 1,\n",
      "  \"mask_time_other\": 0.0,\n",
      "  \"mask_time_prob\": 0.075,\n",
      "  \"mask_time_selection\": \"static\",\n",
      "  \"model_type\": \"wav2vec2\",\n",
      "  \"num_attention_heads\": 16,\n",
      "  \"num_codevector_groups\": 2,\n",
      "  \"num_codevectors_per_group\": 320,\n",
      "  \"num_conv_pos_embedding_groups\": 16,\n",
      "  \"num_conv_pos_embeddings\": 128,\n",
      "  \"num_feat_extract_layers\": 7,\n",
      "  \"num_hidden_layers\": 24,\n",
      "  \"num_negatives\": 100,\n",
      "  \"pad_token_id\": 0,\n",
      "  \"proj_codevector_dim\": 768,\n",
      "  \"transformers_version\": \"4.12.0.dev0\",\n",
      "  \"use_weighted_layer_sum\": false,\n",
      "  \"vocab_size\": 32\n",
      "}\n",
      "\n",
      "https://huggingface.co/facebook/wav2vec2-large-xlsr-53/resolve/main/preprocessor_config.json not found in cache or force_download set to True, downloading to /root/.cache/huggingface/transformers/tmpupzebk0d\n"
     ]
    },
    {
     "data": {
      "application/vnd.jupyter.widget-view+json": {
       "model_id": "f5ed78d4c93d4ad8a3c36e9c6be42954",
       "version_major": 2,
       "version_minor": 0
      },
      "text/plain": [
       "Downloading:   0%|          | 0.00/212 [00:00<?, ?B/s]"
      ]
     },
     "metadata": {},
     "output_type": "display_data"
    },
    {
     "name": "stderr",
     "output_type": "stream",
     "text": [
      "storing https://huggingface.co/facebook/wav2vec2-large-xlsr-53/resolve/main/preprocessor_config.json in cache at /root/.cache/huggingface/transformers/281aea0033110ab616ee4c2840ee83ed30496bb549916b8aec6c5668109f9e79.d4484dc1c81456a2461485e7168b04347a7b9a4e3b1ef3aba723323b33e12326\n",
      "creating metadata file for /root/.cache/huggingface/transformers/281aea0033110ab616ee4c2840ee83ed30496bb549916b8aec6c5668109f9e79.d4484dc1c81456a2461485e7168b04347a7b9a4e3b1ef3aba723323b33e12326\n",
      "loading feature extractor configuration file https://huggingface.co/facebook/wav2vec2-large-xlsr-53/resolve/main/preprocessor_config.json from cache at /root/.cache/huggingface/transformers/281aea0033110ab616ee4c2840ee83ed30496bb549916b8aec6c5668109f9e79.d4484dc1c81456a2461485e7168b04347a7b9a4e3b1ef3aba723323b33e12326\n",
      "Feature extractor Wav2Vec2FeatureExtractor {\n",
      "  \"do_normalize\": true,\n",
      "  \"feature_extractor_type\": \"Wav2Vec2FeatureExtractor\",\n",
      "  \"feature_size\": 1,\n",
      "  \"padding_side\": \"right\",\n",
      "  \"padding_value\": 0,\n",
      "  \"return_attention_mask\": true,\n",
      "  \"sampling_rate\": 16000\n",
      "}\n",
      "\n"
     ]
    }
   ],
   "source": [
    "from transformers import AutoFeatureExtractor\n",
    "\n",
    "feature_extractor = AutoFeatureExtractor.from_pretrained(model_checkpoint)"
   ]
  },
  {
   "cell_type": "markdown",
   "metadata": {
    "id": "VgcfxUSAYaCQ"
   },
   "source": [
    "and wrap it into a `Wav2Vec2Processor` together with the tokenizer."
   ]
  },
  {
   "cell_type": "code",
   "execution_count": null,
   "metadata": {
    "id": "byshSGTjYcdu"
   },
   "outputs": [],
   "source": [
    "from transformers import Wav2Vec2Processor\n",
    "\n",
    "processor = Wav2Vec2Processor(feature_extractor=feature_extractor, tokenizer=tokenizer)"
   ]
  },
  {
   "cell_type": "markdown",
   "metadata": {
    "id": "GNFuvi26Yiw6"
   },
   "source": [
    "Finally, we can leverage `Wav2Vec2Processor` to process the data to the format expected by the model for training. To do so let's make use of Dataset's [`map(...)`](https://huggingface.co/docs/datasets/package_reference/main_classes.html?highlight=map#datasets.DatasetDict.map) function.\n",
    "\n",
    "First, we load and resample the audio data, simply by calling `batch[\"audio\"]`.\n",
    "Second, we extract the `input_values` from the loaded audio file. In our case, the `Wav2Vec2Processor` only normalizes the data. For other speech models, however, this step can include more complex feature extraction, such as [Log-Mel feature extraction](https://en.wikipedia.org/wiki/Mel-frequency_cepstrum). \n",
    "Third, we encode the transcriptions to label ids."
   ]
  },
  {
   "cell_type": "code",
   "execution_count": null,
   "metadata": {
    "id": "eJY7I0XAwe9p"
   },
   "outputs": [],
   "source": [
    "def prepare_dataset(batch):\n",
    "    audio = batch[\"audio\"]\n",
    "\n",
    "    # batched output is \"un-batched\"\n",
    "    batch[\"input_values\"] = processor(audio[\"array\"], sampling_rate=audio[\"sampling_rate\"]).input_values[0]\n",
    "    batch[\"input_length\"] = len(batch[\"input_values\"])\n",
    "    \n",
    "    with processor.as_target_processor():\n",
    "        batch[\"labels\"] = processor(batch[\"sentence\"]).input_ids\n",
    "    return batch"
   ]
  },
  {
   "cell_type": "markdown",
   "metadata": {
    "id": "q6Pg_WR3OGAP"
   },
   "source": [
    "Let's apply the data preparation function to all examples."
   ]
  },
  {
   "cell_type": "code",
   "execution_count": null,
   "metadata": {
    "colab": {
     "base_uri": "https://localhost:8080/",
     "height": 81,
     "referenced_widgets": [
      "144dd5676314431da0e494ba978ec0a1",
      "c92fc9f4171745019c3592a4b01c2946",
      "576e9c1052e9495ca876e5a4115663b7",
      "28d1258eaf5e43749a7bfce801e549f9",
      "e74c961d20b140cbb94bd72516ac48a2",
      "90eb745a344d445c931a9137c934425d",
      "378cb60374e845beb48b5c932559e790",
      "423f0635aa8c43168698a2d19d13a2ac",
      "131a84000f7b40b3a377f8dbbacd021f",
      "e503697e790f4ea29d3990511b66d0a5",
      "3bef5063e30846cba297864f19318422",
      "0e966f3ae41a49388a815b2f91bc8a75",
      "c38c64906e6f4f6388a1405085e31044",
      "beeff20aaf3b4a6d8340a2f13afc4ae9",
      "d94984fdc6694752921fd45b7b8de36c",
      "4b9862982b2c4d16ac3c5c14231a899e",
      "70d9885aa6024eebbcb099c715bbae31",
      "4c94411b85644270a88227f9b5d988e3",
      "948b7538f7d24589823797f8612dcfed",
      "9c33ab076757490a84d507772dc4b69d",
      "182667b08f604c7786034c7959887540",
      "972b8b46f0e8440b96a8d31cd29acc39"
     ]
    },
    "id": "-np9xYK-wl8q",
    "outputId": "bbea1c00-d7b0-4f5d-c432-33d6d3e31015"
   },
   "outputs": [
    {
     "data": {
      "application/vnd.jupyter.widget-view+json": {
       "model_id": "144dd5676314431da0e494ba978ec0a1",
       "version_major": 2,
       "version_minor": 0
      },
      "text/plain": [
       "  0%|          | 0/3478 [00:00<?, ?ex/s]"
      ]
     },
     "metadata": {},
     "output_type": "display_data"
    },
    {
     "data": {
      "application/vnd.jupyter.widget-view+json": {
       "model_id": "0e966f3ae41a49388a815b2f91bc8a75",
       "version_major": 2,
       "version_minor": 0
      },
      "text/plain": [
       "  0%|          | 0/1647 [00:00<?, ?ex/s]"
      ]
     },
     "metadata": {},
     "output_type": "display_data"
    }
   ],
   "source": [
    "common_voice_train = common_voice_train.map(prepare_dataset, remove_columns=common_voice_train.column_names)\n",
    "common_voice_test = common_voice_test.map(prepare_dataset, remove_columns=common_voice_test.column_names)"
   ]
  },
  {
   "cell_type": "markdown",
   "metadata": {
    "id": "nKcEWHvKI1by"
   },
   "source": [
    "**Note**: Currently `datasets` make use of [`torchaudio`](https://pytorch.org/audio/stable/index.html) and [`librosa`](https://librosa.org/doc/latest/index.html) for audio loading and resampling. If you wish to implement your own costumized data loading/sampling, feel free to just make use of the `\"path\"` column instead and disregard the `\"audio\"` column."
   ]
  },
  {
   "cell_type": "markdown",
   "metadata": {
    "id": "24CxHd5ewI4T"
   },
   "source": [
    "Long input sequences require a lot of memory. Since speech models in `transformers` are based on `self-attention` the memory requirement scales quadratically with the input length for long input sequences (*cf.* with [this](https://www.reddit.com/r/MachineLearning/comments/genjvb/d_why_is_the_maximum_input_sequence_length_of/) reddit post). For this demo, let's filter all sequences that are longer than 5\n",
    " seconds out of the training dataset."
   ]
  },
  {
   "cell_type": "code",
   "execution_count": null,
   "metadata": {
    "colab": {
     "base_uri": "https://localhost:8080/",
     "height": 49,
     "referenced_widgets": [
      "ad41cc5b839f4281909a8c65bbd5a008",
      "90bb1aed51c04ec99751b8d172c29b55",
      "950f1414639144bbb6786c58352d9c1a",
      "ee52775961e747fdacefbbdd072ec160",
      "3746981577a24096a433853e7ed5f0b3",
      "96eeb24890794cc8a59296489bcaac5f",
      "b1ef4b2244ac4afc90429cb3b42ccc41",
      "e700980cde0a43668dc6f3a055bba5b3",
      "1d21f7ad244041028f5f9cce8ea428c3",
      "c4f5dc0bd3be4aa891091e43deadbc48",
      "a3ff24e18e6041b88b718e11c3af0642"
     ]
    },
    "id": "tdHfbUJ_09iA",
    "outputId": "b1ba1e24-e3f3-4ab9-d5d1-da76c271c604"
   },
   "outputs": [
    {
     "data": {
      "application/vnd.jupyter.widget-view+json": {
       "model_id": "ad41cc5b839f4281909a8c65bbd5a008",
       "version_major": 2,
       "version_minor": 0
      },
      "text/plain": [
       "  0%|          | 0/4 [00:00<?, ?ba/s]"
      ]
     },
     "metadata": {},
     "output_type": "display_data"
    }
   ],
   "source": [
    "max_input_length_in_sec = 5.0\n",
    "common_voice_train = common_voice_train.filter(lambda x: x < max_input_length_in_sec * processor.feature_extractor.sampling_rate, input_columns=[\"input_length\"])"
   ]
  },
  {
   "cell_type": "markdown",
   "metadata": {
    "id": "1ZWDCCKqwcfS"
   },
   "source": [
    "Awesome, now we are ready to start training!"
   ]
  },
  {
   "cell_type": "markdown",
   "metadata": {
    "id": "gYlQkKVoRUos"
   },
   "source": [
    "## Training\n",
    "\n",
    "The data is processed so that we are ready to start setting up the training pipeline. We will make use of 🤗's [Trainer](https://huggingface.co/transformers/master/main_classes/trainer.html?highlight=trainer) for which we essentially need to do the following:\n",
    "\n",
    "- Define a data collator. In contrast to most NLP models, speech models usually have a much larger input length than output length. *E.g.*, a sample of input length 50000 for XLSR-Wav2Vec2 has an output length of no more than 100. Given the large input sizes, it is much more efficient to pad the training batches dynamically meaning that all training samples should only be padded to the longest sample in their batch and not the overall longest sample. Therefore, fine-tuning speech models requires a special padding data collator, which we will define below\n",
    "\n",
    "- Evaluation metric. During training, the model should be evaluated on the word error rate. We should define a `compute_metrics` function accordingly\n",
    "\n",
    "- Load a pretrained checkpoint. We need to load a pretrained checkpoint and configure it correctly for training.\n",
    "\n",
    "- Define the training configuration.\n",
    "\n",
    "After having fine-tuned the model, we will correctly evaluate it on the test data and verify that it has indeed learned to correctly transcribe speech."
   ]
  },
  {
   "cell_type": "markdown",
   "metadata": {
    "id": "Slk403unUS91"
   },
   "source": [
    "### Set-up Trainer\n",
    "\n",
    "Let's start by defining the data collator. The code for the data collator was copied from [this example](https://github.com/huggingface/transformers/blob/9a06b6b11bdfc42eea08fa91d0c737d1863c99e3/examples/research_projects/wav2vec2/run_asr.py#L81).\n",
    "\n",
    "Without going into too many details, in contrast to the common data collators, this data collator treats the `input_values` and `labels` differently and thus applies to separate padding functions on them. This is necessary because in speech input and output are of different modalities meaning that they should not be treated by the same padding function.\n",
    "Analogous to the common data collators, the padding tokens in the labels with `-100` so that those tokens are **not** taken into account when computing the loss."
   ]
  },
  {
   "cell_type": "code",
   "execution_count": null,
   "metadata": {
    "id": "tborvC9hx88e"
   },
   "outputs": [],
   "source": [
    "import torch\n",
    "\n",
    "from dataclasses import dataclass, field\n",
    "from typing import Any, Dict, List, Optional, Union\n",
    "\n",
    "@dataclass\n",
    "class DataCollatorCTCWithPadding:\n",
    "    \"\"\"\n",
    "    Data collator that will dynamically pad the inputs received.\n",
    "    Args:\n",
    "        processor (:class:`~transformers.Wav2Vec2Processor`)\n",
    "            The processor used for proccessing the data.\n",
    "        padding (:obj:`bool`, :obj:`str` or :class:`~transformers.tokenization_utils_base.PaddingStrategy`, `optional`, defaults to :obj:`True`):\n",
    "            Select a strategy to pad the returned sequences (according to the model's padding side and padding index)\n",
    "            among:\n",
    "            * :obj:`True` or :obj:`'longest'`: Pad to the longest sequence in the batch (or no padding if only a single\n",
    "              sequence if provided).\n",
    "            * :obj:`'max_length'`: Pad to a maximum length specified with the argument :obj:`max_length` or to the\n",
    "              maximum acceptable input length for the model if that argument is not provided.\n",
    "            * :obj:`False` or :obj:`'do_not_pad'` (default): No padding (i.e., can output a batch with sequences of\n",
    "              different lengths).\n",
    "        max_length (:obj:`int`, `optional`):\n",
    "            Maximum length of the ``input_values`` of the returned list and optionally padding length (see above).\n",
    "        max_length_labels (:obj:`int`, `optional`):\n",
    "            Maximum length of the ``labels`` returned list and optionally padding length (see above).\n",
    "        pad_to_multiple_of (:obj:`int`, `optional`):\n",
    "            If set will pad the sequence to a multiple of the provided value.\n",
    "            This is especially useful to enable the use of Tensor Cores on NVIDIA hardware with compute capability >=\n",
    "            7.5 (Volta).\n",
    "    \"\"\"\n",
    "\n",
    "    processor: Wav2Vec2Processor\n",
    "    padding: Union[bool, str] = True\n",
    "    max_length: Optional[int] = None\n",
    "    max_length_labels: Optional[int] = None\n",
    "    pad_to_multiple_of: Optional[int] = None\n",
    "    pad_to_multiple_of_labels: Optional[int] = None\n",
    "\n",
    "    def __call__(self, features: List[Dict[str, Union[List[int], torch.Tensor]]]) -> Dict[str, torch.Tensor]:\n",
    "        # split inputs and labels since they have to be of different lenghts and need\n",
    "        # different padding methods\n",
    "        input_features = [{\"input_values\": feature[\"input_values\"]} for feature in features]\n",
    "        label_features = [{\"input_ids\": feature[\"labels\"]} for feature in features]\n",
    "\n",
    "        batch = self.processor.pad(\n",
    "            input_features,\n",
    "            padding=self.padding,\n",
    "            max_length=self.max_length,\n",
    "            pad_to_multiple_of=self.pad_to_multiple_of,\n",
    "            return_tensors=\"pt\",\n",
    "        )\n",
    "        with self.processor.as_target_processor():\n",
    "            labels_batch = self.processor.pad(\n",
    "                label_features,\n",
    "                padding=self.padding,\n",
    "                max_length=self.max_length_labels,\n",
    "                pad_to_multiple_of=self.pad_to_multiple_of_labels,\n",
    "                return_tensors=\"pt\",\n",
    "            )\n",
    "\n",
    "        # replace padding with -100 to ignore loss correctly\n",
    "        labels = labels_batch[\"input_ids\"].masked_fill(labels_batch.attention_mask.ne(1), -100)\n",
    "\n",
    "        batch[\"labels\"] = labels\n",
    "\n",
    "        return batch"
   ]
  },
  {
   "cell_type": "code",
   "execution_count": null,
   "metadata": {
    "id": "lbQf5GuZyQ4_"
   },
   "outputs": [],
   "source": [
    "data_collator = DataCollatorCTCWithPadding(processor=processor, padding=True)"
   ]
  },
  {
   "cell_type": "markdown",
   "metadata": {
    "id": "xO-Zdj-5cxXp"
   },
   "source": [
    "Next, the evaluation metric is defined. As mentioned earlier, the \n",
    "predominant metric in ASR is the word error rate (WER), hence we will use it in this notebook as well."
   ]
  },
  {
   "cell_type": "code",
   "execution_count": null,
   "metadata": {
    "id": "9Xsux2gmyXso"
   },
   "outputs": [],
   "source": [
    "wer_metric = load_metric(\"wer\")"
   ]
  },
  {
   "cell_type": "markdown",
   "metadata": {
    "id": "E1qZU5p-deqB"
   },
   "source": [
    "The model will return a sequence of logit vectors:\n",
    "$\\mathbf{y}_1, \\ldots, \\mathbf{y}_m$ with $\\mathbf{y}_1 = f_{\\theta}(x_1, \\ldots, x_n)[0]$ and $n >> m$.\n",
    "\n",
    "A logit vector $\\mathbf{y}_1$ contains the log-odds for each word in the vocabulary we defined earlier, thus $\\text{len}(\\mathbf{y}_i) =$ `config.vocab_size`. We are interested in the most likely prediction of the model and thus take the `argmax(...)` of the logits. Also, we transform the encoded labels back to the original string by replacing `-100` with the `pad_token_id` and decoding the ids while making sure that consecutive tokens are **not** grouped to the same token in CTC style ${}^1$."
   ]
  },
  {
   "cell_type": "code",
   "execution_count": null,
   "metadata": {
    "id": "1XZ-kjweyTy_"
   },
   "outputs": [],
   "source": [
    "def compute_metrics(pred):\n",
    "    pred_logits = pred.predictions\n",
    "    pred_ids = np.argmax(pred_logits, axis=-1)\n",
    "\n",
    "    pred.label_ids[pred.label_ids == -100] = processor.tokenizer.pad_token_id\n",
    "\n",
    "    pred_str = processor.batch_decode(pred_ids)\n",
    "    # we do not want to group tokens when computing the metrics\n",
    "    label_str = processor.batch_decode(pred.label_ids, group_tokens=False)\n",
    "\n",
    "    wer = wer_metric.compute(predictions=pred_str, references=label_str)\n",
    "\n",
    "    return {\"wer\": wer}"
   ]
  },
  {
   "cell_type": "markdown",
   "metadata": {
    "id": "Xmgrx4bRwLIH"
   },
   "source": [
    "Now, we can load the pretrained speech checkpoint. The tokenizer's `pad_token_id` must be to define the model's `pad_token_id` or in the case of a CTC speech model also CTC's *blank token* ${}^2$.\n",
    "\n",
    "Because the dataset is quite small (~6h of training data) and because Common Voice is quite noisy, fine-tuning might require some hyper-parameter tuning, which is why a couple of hyperparameters are set in the following.\n",
    "\n",
    "**Note**: When using this notebook to train speech models on another language of Common Voice those hyper-parameter settings might not work very well. Feel free to adapt those depending on your use case. "
   ]
  },
  {
   "cell_type": "code",
   "execution_count": null,
   "metadata": {
    "colab": {
     "base_uri": "https://localhost:8080/",
     "height": 1000,
     "referenced_widgets": [
      "4fe9e026e1e74cf4ba5554e7a0460c2f",
      "521e2c26f96a4de79782855121ea0766",
      "db21a864f02e438dafefbf2ecf4192ae",
      "fbd3b32a954c45c788eb8967103dec9d",
      "f6c41bd10465450287aa50dd569a96a9",
      "5799f1ce85ec4722a48d45a666aee28b",
      "762da8b71d714f3c9898d54c26ded701",
      "34cf654ccffa445c92307c28e74496db",
      "218f3651b2f84f15b4b3c7bb2c05e260",
      "36bd4de2f3974c39ba1c8becb10001aa",
      "db84a3fcf62e41318e13d4f36efee8c9"
     ]
    },
    "id": "e7cqAWIayn6w",
    "outputId": "a8bb67d5-2b38-4170-82b5-c76ceb53483e"
   },
   "outputs": [
    {
     "name": "stderr",
     "output_type": "stream",
     "text": [
      "loading configuration file https://huggingface.co/facebook/wav2vec2-large-xlsr-53/resolve/main/config.json from cache at /root/.cache/huggingface/transformers/8508c73cd595eb416a1d517b90762416c0bc6cfbef529578079aeae4d8c14336.7581ed2ee0c677f1e933180df51bd1a668c4a2b6d5fd1297d32069373dac097c\n",
      "Model config Wav2Vec2Config {\n",
      "  \"activation_dropout\": 0.0,\n",
      "  \"apply_spec_augment\": true,\n",
      "  \"architectures\": [\n",
      "    \"Wav2Vec2ForPreTraining\"\n",
      "  ],\n",
      "  \"attention_dropout\": 0.1,\n",
      "  \"bos_token_id\": 1,\n",
      "  \"classifier_proj_size\": 256,\n",
      "  \"codevector_dim\": 768,\n",
      "  \"contrastive_logits_temperature\": 0.1,\n",
      "  \"conv_bias\": true,\n",
      "  \"conv_dim\": [\n",
      "    512,\n",
      "    512,\n",
      "    512,\n",
      "    512,\n",
      "    512,\n",
      "    512,\n",
      "    512\n",
      "  ],\n",
      "  \"conv_kernel\": [\n",
      "    10,\n",
      "    3,\n",
      "    3,\n",
      "    3,\n",
      "    3,\n",
      "    2,\n",
      "    2\n",
      "  ],\n",
      "  \"conv_stride\": [\n",
      "    5,\n",
      "    2,\n",
      "    2,\n",
      "    2,\n",
      "    2,\n",
      "    2,\n",
      "    2\n",
      "  ],\n",
      "  \"ctc_loss_reduction\": \"mean\",\n",
      "  \"ctc_zero_infinity\": false,\n",
      "  \"diversity_loss_weight\": 0.1,\n",
      "  \"do_stable_layer_norm\": true,\n",
      "  \"eos_token_id\": 2,\n",
      "  \"feat_extract_activation\": \"gelu\",\n",
      "  \"feat_extract_dropout\": 0.0,\n",
      "  \"feat_extract_norm\": \"layer\",\n",
      "  \"feat_proj_dropout\": 0.0,\n",
      "  \"feat_quantizer_dropout\": 0.0,\n",
      "  \"final_dropout\": 0.0,\n",
      "  \"gradient_checkpointing\": false,\n",
      "  \"hidden_act\": \"gelu\",\n",
      "  \"hidden_dropout\": 0.1,\n",
      "  \"hidden_size\": 1024,\n",
      "  \"initializer_range\": 0.02,\n",
      "  \"intermediate_size\": 4096,\n",
      "  \"layer_norm_eps\": 1e-05,\n",
      "  \"layerdrop\": 0.1,\n",
      "  \"mask_channel_length\": 10,\n",
      "  \"mask_channel_min_space\": 1,\n",
      "  \"mask_channel_other\": 0.0,\n",
      "  \"mask_channel_prob\": 0.0,\n",
      "  \"mask_channel_selection\": \"static\",\n",
      "  \"mask_feature_length\": 10,\n",
      "  \"mask_feature_prob\": 0.0,\n",
      "  \"mask_time_length\": 10,\n",
      "  \"mask_time_min_space\": 1,\n",
      "  \"mask_time_other\": 0.0,\n",
      "  \"mask_time_prob\": 0.05,\n",
      "  \"mask_time_selection\": \"static\",\n",
      "  \"model_type\": \"wav2vec2\",\n",
      "  \"num_attention_heads\": 16,\n",
      "  \"num_codevector_groups\": 2,\n",
      "  \"num_codevectors_per_group\": 320,\n",
      "  \"num_conv_pos_embedding_groups\": 16,\n",
      "  \"num_conv_pos_embeddings\": 128,\n",
      "  \"num_feat_extract_layers\": 7,\n",
      "  \"num_hidden_layers\": 24,\n",
      "  \"num_negatives\": 100,\n",
      "  \"pad_token_id\": 39,\n",
      "  \"proj_codevector_dim\": 768,\n",
      "  \"transformers_version\": \"4.12.0.dev0\",\n",
      "  \"use_weighted_layer_sum\": false,\n",
      "  \"vocab_size\": 42\n",
      "}\n",
      "\n",
      "https://huggingface.co/facebook/wav2vec2-large-xlsr-53/resolve/main/pytorch_model.bin not found in cache or force_download set to True, downloading to /root/.cache/huggingface/transformers/tmppd8nibgp\n"
     ]
    },
    {
     "data": {
      "application/vnd.jupyter.widget-view+json": {
       "model_id": "4fe9e026e1e74cf4ba5554e7a0460c2f",
       "version_major": 2,
       "version_minor": 0
      },
      "text/plain": [
       "Downloading:   0%|          | 0.00/1.18G [00:00<?, ?B/s]"
      ]
     },
     "metadata": {},
     "output_type": "display_data"
    },
    {
     "name": "stderr",
     "output_type": "stream",
     "text": [
      "storing https://huggingface.co/facebook/wav2vec2-large-xlsr-53/resolve/main/pytorch_model.bin in cache at /root/.cache/huggingface/transformers/5d2a20b45a1689a376ec4a6282b9d9be42f931cdf8daf07c3668ba1070a059d9.622b46163a38532eae8ac5423b0481dfc0b9ea401af488b5141772bdff889079\n",
      "creating metadata file for /root/.cache/huggingface/transformers/5d2a20b45a1689a376ec4a6282b9d9be42f931cdf8daf07c3668ba1070a059d9.622b46163a38532eae8ac5423b0481dfc0b9ea401af488b5141772bdff889079\n",
      "loading weights file https://huggingface.co/facebook/wav2vec2-large-xlsr-53/resolve/main/pytorch_model.bin from cache at /root/.cache/huggingface/transformers/5d2a20b45a1689a376ec4a6282b9d9be42f931cdf8daf07c3668ba1070a059d9.622b46163a38532eae8ac5423b0481dfc0b9ea401af488b5141772bdff889079\n",
      "Some weights of the model checkpoint at facebook/wav2vec2-large-xlsr-53 were not used when initializing Wav2Vec2ForCTC: ['project_hid.bias', 'project_q.weight', 'quantizer.codevectors', 'quantizer.weight_proj.weight', 'project_hid.weight', 'project_q.bias', 'quantizer.weight_proj.bias']\n",
      "- This IS expected if you are initializing Wav2Vec2ForCTC from the checkpoint of a model trained on another task or with another architecture (e.g. initializing a BertForSequenceClassification model from a BertForPreTraining model).\n",
      "- This IS NOT expected if you are initializing Wav2Vec2ForCTC from the checkpoint of a model that you expect to be exactly identical (initializing a BertForSequenceClassification model from a BertForSequenceClassification model).\n",
      "Some weights of Wav2Vec2ForCTC were not initialized from the model checkpoint at facebook/wav2vec2-large-xlsr-53 and are newly initialized: ['lm_head.weight', 'lm_head.bias']\n",
      "You should probably TRAIN this model on a down-stream task to be able to use it for predictions and inference.\n"
     ]
    }
   ],
   "source": [
    "from transformers import AutoModelForCTC\n",
    "\n",
    "model = AutoModelForCTC.from_pretrained(\n",
    "    model_checkpoint,\n",
    "    attention_dropout=0.1,\n",
    "    hidden_dropout=0.1,\n",
    "    feat_proj_dropout=0.0,\n",
    "    mask_time_prob=0.05,\n",
    "    layerdrop=0.1,\n",
    "    ctc_loss_reduction=\"mean\", \n",
    "    pad_token_id=processor.tokenizer.pad_token_id,\n",
    "    vocab_size=len(processor.tokenizer)\n",
    ")"
   ]
  },
  {
   "cell_type": "markdown",
   "metadata": {
    "id": "1DwR3XLSzGDD"
   },
   "source": [
    "The first component of most transformer-based speech models consists of a stack of CNN layers that are used to extract acoustically meaningful - but contextually independent - features from the raw speech signal. This part of the model has already been sufficiently trained during pretraining and as stated in the [paper](https://arxiv.org/pdf/2006.13979.pdf) does not need to be fine-tuned anymore. \n",
    "Thus, we can set the `requires_grad` to `False` for all parameters of the *feature extraction* part."
   ]
  },
  {
   "cell_type": "code",
   "execution_count": null,
   "metadata": {
    "id": "oGI8zObtZ3V0"
   },
   "outputs": [],
   "source": [
    "if hasattr(model, \"freeze_feature_extractor\"):\n",
    "  model.freeze_feature_extractor()"
   ]
  },
  {
   "cell_type": "markdown",
   "metadata": {
    "id": "lD4aGhQM0K-D"
   },
   "source": [
    "In a final step, we define all parameters related to training. \n",
    "To give more explanation on some of the parameters:\n",
    "- `group_by_length` makes training more efficient by grouping training samples of similar input length into one batch. This can significantly speed up training time by heavily reducing the overall number of useless padding tokens that are passed through the model\n",
    "- `learning_rate` and `weight_decay` were heuristically tuned until fine-tuning has become stable. Note that those parameters strongly depend on the Common Voice dataset and might be suboptimal for other speech datasets.\n",
    "\n",
    "For more explanations on other parameters, one can take a look at the [docs](https://huggingface.co/transformers/master/main_classes/trainer.html?highlight=trainer#trainingarguments).\n",
    "\n",
    "During training, a checkpoint will be uploaded asynchronously to the hub every 400 training steps. It allows you to also play around with the demo widget even while your model is still training.\n",
    "\n",
    "**Note**: If one does not want to upload the model checkpoints to the hub, simply set `push_to_hub=False`."
   ]
  },
  {
   "cell_type": "code",
   "execution_count": null,
   "metadata": {
    "colab": {
     "base_uri": "https://localhost:8080/"
    },
    "id": "KbeKSV7uzGPP",
    "outputId": "979d5708-4436-4fd3-b9a6-4140a39e258f"
   },
   "outputs": [
    {
     "name": "stderr",
     "output_type": "stream",
     "text": [
      "PyTorch: setting up devices\n",
      "The default value for the training argument `--report_to` will change in v5 (from all installed integrations to none). In v5, you will need to use `--report_to all` to get the same behavior as now. You should start updating your code and make this info disappear :-).\n"
     ]
    }
   ],
   "source": [
    "from transformers import TrainingArguments\n",
    "\n",
    "training_args = TrainingArguments(\n",
    "  output_dir=repo_name,\n",
    "  group_by_length=True,\n",
    "  per_device_train_batch_size=batch_size,\n",
    "  gradient_accumulation_steps=2,\n",
    "  eval_strategy=\"steps\",\n",
    "  num_train_epochs=30,\n",
    "  gradient_checkpointing=True,\n",
    "  fp16=True,\n",
    "  save_steps=400,\n",
    "  eval_steps=400,\n",
    "  logging_steps=400,\n",
    "  learning_rate=3e-4,\n",
    "  warmup_steps=500,\n",
    "  save_total_limit=2,\n",
    "  push_to_hub=True,\n",
    ")"
   ]
  },
  {
   "cell_type": "markdown",
   "metadata": {
    "id": "OsW-WZcL1ZtN"
   },
   "source": [
    "Now, all instances can be passed to Trainer and we are ready to start training!"
   ]
  },
  {
   "cell_type": "code",
   "execution_count": null,
   "metadata": {
    "colab": {
     "base_uri": "https://localhost:8080/"
    },
    "id": "rY7vBmFCPFgC",
    "outputId": "36c002c7-3d0b-4cc7-dda2-942c7f1f3ee5"
   },
   "outputs": [
    {
     "name": "stderr",
     "output_type": "stream",
     "text": [
      "/content/wav2vec2-large-xlsr-53-demo-colab is already a clone of https://huggingface.co/patrickvonplaten/wav2vec2-large-xlsr-53-demo-colab. Make sure you pull the latest changes with `repo.git_pull()`.\n",
      "Using amp fp16 backend\n"
     ]
    }
   ],
   "source": [
    "from transformers import Trainer\n",
    "\n",
    "trainer = Trainer(\n",
    "    model=model,\n",
    "    data_collator=data_collator,\n",
    "    args=training_args,\n",
    "    compute_metrics=compute_metrics,\n",
    "    train_dataset=common_voice_train,\n",
    "    eval_dataset=common_voice_test,\n",
    "    tokenizer=processor.feature_extractor,\n",
    ")"
   ]
  },
  {
   "cell_type": "markdown",
   "metadata": {
    "id": "UoXBx1JAA0DX"
   },
   "source": [
    "\n",
    "\n",
    "---\n",
    "\n",
    "${}^1$ To allow models to become independent of the speaker rate, in CTC, consecutive tokens that are identical are simply grouped as a single token. However, the encoded labels should not be grouped when decoding since they don't correspond to the predicted tokens of the model, which is why the `group_tokens=False` parameter has to be passed. If we wouldn't pass this parameter a word like `\"hello\"` would incorrectly be encoded, and decoded as `\"helo\"`.\n",
    "\n",
    "${}^2$ The blank token allows the model to predict a word, such as `\"hello\"` by forcing it to insert the blank token between the two l's. A CTC-conform prediction of `\"hello\"` of our model would be `[PAD] [PAD] \"h\" \"e\" \"e\" \"l\" \"l\" [PAD] \"l\" \"o\" \"o\" [PAD]`."
   ]
  },
  {
   "cell_type": "markdown",
   "metadata": {
    "id": "rpvZHM1xReIW"
   },
   "source": [
    "### Training"
   ]
  },
  {
   "cell_type": "markdown",
   "metadata": {
    "id": "j-3oKSzZ1hGq"
   },
   "source": [
    "Training will take multiple hours depending on the GPU allocated to this notebook. Every `save_steps`, the current checkpoint will be uploaded to the Hub."
   ]
  },
  {
   "cell_type": "code",
   "execution_count": null,
   "metadata": {
    "colab": {
     "base_uri": "https://localhost:8080/",
     "height": 1000
    },
    "id": "d2G6z5RGAq5p",
    "outputId": "900eab68-7219-4c6c-88f6-8ff278e51376"
   },
   "outputs": [
    {
     "name": "stderr",
     "output_type": "stream",
     "text": [
      "The following columns in the training set  don't have a corresponding argument in `Wav2Vec2ForCTC.forward` and have been ignored: input_length.\n",
      "***** Running training *****\n",
      "  Num examples = 3027\n",
      "  Num Epochs = 30\n",
      "  Instantaneous batch size per device = 16\n",
      "  Total train batch size (w. parallel, distributed & accumulation) = 32\n",
      "  Gradient Accumulation steps = 2\n",
      "  Total optimization steps = 2850\n",
      "/usr/local/lib/python3.7/dist-packages/transformers/trainer.py:1357: FutureWarning: Non-finite norm encountered in torch.nn.utils.clip_grad_norm_; continuing anyway. Note that the default behavior will change in a future release to error out if a non-finite total norm is encountered. At that point, setting error_if_nonfinite=false will be required to retain the old behavior.\n",
      "  args.max_grad_norm,\n"
     ]
    },
    {
     "data": {
      "text/html": [
       "\n",
       "    <div>\n",
       "      \n",
       "      <progress value='2850' max='2850' style='width:300px; height:20px; vertical-align: middle;'></progress>\n",
       "      [2850/2850 1:44:25, Epoch 30/30]\n",
       "    </div>\n",
       "    <table border=\"1\" class=\"dataframe\">\n",
       "  <thead>\n",
       "    <tr style=\"text-align: left;\">\n",
       "      <th>Step</th>\n",
       "      <th>Training Loss</th>\n",
       "      <th>Validation Loss</th>\n",
       "      <th>Wer</th>\n",
       "    </tr>\n",
       "  </thead>\n",
       "  <tbody>\n",
       "    <tr>\n",
       "      <td>400</td>\n",
       "      <td>5.017900</td>\n",
       "      <td>1.493541</td>\n",
       "      <td>1.024921</td>\n",
       "    </tr>\n",
       "    <tr>\n",
       "      <td>800</td>\n",
       "      <td>0.707500</td>\n",
       "      <td>0.454609</td>\n",
       "      <td>0.607088</td>\n",
       "    </tr>\n",
       "    <tr>\n",
       "      <td>1200</td>\n",
       "      <td>0.307200</td>\n",
       "      <td>0.394686</td>\n",
       "      <td>0.540088</td>\n",
       "    </tr>\n",
       "    <tr>\n",
       "      <td>1600</td>\n",
       "      <td>0.214500</td>\n",
       "      <td>0.404922</td>\n",
       "      <td>0.519355</td>\n",
       "    </tr>\n",
       "    <tr>\n",
       "      <td>2000</td>\n",
       "      <td>0.164700</td>\n",
       "      <td>0.419937</td>\n",
       "      <td>0.500255</td>\n",
       "    </tr>\n",
       "    <tr>\n",
       "      <td>2400</td>\n",
       "      <td>0.133800</td>\n",
       "      <td>0.414401</td>\n",
       "      <td>0.485854</td>\n",
       "    </tr>\n",
       "    <tr>\n",
       "      <td>2800</td>\n",
       "      <td>0.116000</td>\n",
       "      <td>0.405531</td>\n",
       "      <td>0.480033</td>\n",
       "    </tr>\n",
       "  </tbody>\n",
       "</table><p>"
      ],
      "text/plain": [
       "<IPython.core.display.HTML object>"
      ]
     },
     "metadata": {},
     "output_type": "display_data"
    },
    {
     "name": "stderr",
     "output_type": "stream",
     "text": [
      "The following columns in the evaluation set  don't have a corresponding argument in `Wav2Vec2ForCTC.forward` and have been ignored: input_length.\n",
      "***** Running Evaluation *****\n",
      "  Num examples = 1647\n",
      "  Batch size = 8\n",
      "Saving model checkpoint to wav2vec2-large-xlsr-turkish-demo-colab/checkpoint-400\n",
      "Configuration saved in wav2vec2-large-xlsr-turkish-demo-colab/checkpoint-400/config.json\n",
      "Model weights saved in wav2vec2-large-xlsr-turkish-demo-colab/checkpoint-400/pytorch_model.bin\n",
      "Configuration saved in wav2vec2-large-xlsr-turkish-demo-colab/checkpoint-400/preprocessor_config.json\n",
      "Configuration saved in wav2vec2-large-xlsr-turkish-demo-colab/preprocessor_config.json\n",
      "The following columns in the evaluation set  don't have a corresponding argument in `Wav2Vec2ForCTC.forward` and have been ignored: input_length.\n",
      "***** Running Evaluation *****\n",
      "  Num examples = 1647\n",
      "  Batch size = 8\n",
      "Saving model checkpoint to wav2vec2-large-xlsr-turkish-demo-colab/checkpoint-800\n",
      "Configuration saved in wav2vec2-large-xlsr-turkish-demo-colab/checkpoint-800/config.json\n",
      "Model weights saved in wav2vec2-large-xlsr-turkish-demo-colab/checkpoint-800/pytorch_model.bin\n",
      "Configuration saved in wav2vec2-large-xlsr-turkish-demo-colab/checkpoint-800/preprocessor_config.json\n",
      "The following columns in the evaluation set  don't have a corresponding argument in `Wav2Vec2ForCTC.forward` and have been ignored: input_length.\n",
      "***** Running Evaluation *****\n",
      "  Num examples = 1647\n",
      "  Batch size = 8\n",
      "Saving model checkpoint to wav2vec2-large-xlsr-turkish-demo-colab/checkpoint-1200\n",
      "Configuration saved in wav2vec2-large-xlsr-turkish-demo-colab/checkpoint-1200/config.json\n",
      "Model weights saved in wav2vec2-large-xlsr-turkish-demo-colab/checkpoint-1200/pytorch_model.bin\n",
      "Configuration saved in wav2vec2-large-xlsr-turkish-demo-colab/checkpoint-1200/preprocessor_config.json\n",
      "Deleting older checkpoint [wav2vec2-large-xlsr-turkish-demo-colab/checkpoint-400] due to args.save_total_limit\n",
      "The following columns in the evaluation set  don't have a corresponding argument in `Wav2Vec2ForCTC.forward` and have been ignored: input_length.\n",
      "***** Running Evaluation *****\n",
      "  Num examples = 1647\n",
      "  Batch size = 8\n",
      "Saving model checkpoint to wav2vec2-large-xlsr-turkish-demo-colab/checkpoint-1600\n",
      "Configuration saved in wav2vec2-large-xlsr-turkish-demo-colab/checkpoint-1600/config.json\n",
      "Model weights saved in wav2vec2-large-xlsr-turkish-demo-colab/checkpoint-1600/pytorch_model.bin\n",
      "Configuration saved in wav2vec2-large-xlsr-turkish-demo-colab/checkpoint-1600/preprocessor_config.json\n",
      "Deleting older checkpoint [wav2vec2-large-xlsr-turkish-demo-colab/checkpoint-800] due to args.save_total_limit\n",
      "The following columns in the evaluation set  don't have a corresponding argument in `Wav2Vec2ForCTC.forward` and have been ignored: input_length.\n",
      "***** Running Evaluation *****\n",
      "  Num examples = 1647\n",
      "  Batch size = 8\n",
      "Saving model checkpoint to wav2vec2-large-xlsr-turkish-demo-colab/checkpoint-2000\n",
      "Configuration saved in wav2vec2-large-xlsr-turkish-demo-colab/checkpoint-2000/config.json\n",
      "Model weights saved in wav2vec2-large-xlsr-turkish-demo-colab/checkpoint-2000/pytorch_model.bin\n",
      "Configuration saved in wav2vec2-large-xlsr-turkish-demo-colab/checkpoint-2000/preprocessor_config.json\n",
      "Deleting older checkpoint [wav2vec2-large-xlsr-turkish-demo-colab/checkpoint-1200] due to args.save_total_limit\n",
      "The following columns in the evaluation set  don't have a corresponding argument in `Wav2Vec2ForCTC.forward` and have been ignored: input_length.\n",
      "***** Running Evaluation *****\n",
      "  Num examples = 1647\n",
      "  Batch size = 8\n",
      "Saving model checkpoint to wav2vec2-large-xlsr-turkish-demo-colab/checkpoint-2400\n",
      "Configuration saved in wav2vec2-large-xlsr-turkish-demo-colab/checkpoint-2400/config.json\n",
      "Model weights saved in wav2vec2-large-xlsr-turkish-demo-colab/checkpoint-2400/pytorch_model.bin\n",
      "Configuration saved in wav2vec2-large-xlsr-turkish-demo-colab/checkpoint-2400/preprocessor_config.json\n",
      "Deleting older checkpoint [wav2vec2-large-xlsr-turkish-demo-colab/checkpoint-1600] due to args.save_total_limit\n",
      "The following columns in the evaluation set  don't have a corresponding argument in `Wav2Vec2ForCTC.forward` and have been ignored: input_length.\n",
      "***** Running Evaluation *****\n",
      "  Num examples = 1647\n",
      "  Batch size = 8\n",
      "Saving model checkpoint to wav2vec2-large-xlsr-turkish-demo-colab/checkpoint-2800\n",
      "Configuration saved in wav2vec2-large-xlsr-turkish-demo-colab/checkpoint-2800/config.json\n",
      "Model weights saved in wav2vec2-large-xlsr-turkish-demo-colab/checkpoint-2800/pytorch_model.bin\n",
      "Configuration saved in wav2vec2-large-xlsr-turkish-demo-colab/checkpoint-2800/preprocessor_config.json\n",
      "Deleting older checkpoint [wav2vec2-large-xlsr-turkish-demo-colab/checkpoint-2000] due to args.save_total_limit\n",
      "\n",
      "\n",
      "Training completed. Do not forget to share your model on huggingface.co/models =)\n",
      "\n",
      "\n"
     ]
    },
    {
     "data": {
      "text/plain": [
       "TrainOutput(global_step=2850, training_loss=0.9370169477295457, metrics={'train_runtime': 6267.5878, 'train_samples_per_second': 14.489, 'train_steps_per_second': 0.455, 'total_flos': 1.0303791368179046e+19, 'train_loss': 0.9370169477295457, 'epoch': 30.0})"
      ]
     },
     "execution_count": 80,
     "metadata": {},
     "output_type": "execute_result"
    }
   ],
   "source": [
    "trainer.train()"
   ]
  },
  {
   "cell_type": "markdown",
   "metadata": {
    "id": "kPNxoqifM7R3"
   },
   "source": [
    "You can now upload the final result of the training to the Hub. Just execute this instruction:"
   ]
  },
  {
   "cell_type": "code",
   "execution_count": null,
   "metadata": {
    "colab": {
     "base_uri": "https://localhost:8080/",
     "height": 351,
     "referenced_widgets": [
      "4014d89119054c25ac0d1938ac4e2f8a",
      "c8db6791b1e64c62b6df2f098738eaa4",
      "fa08a1c6fc6f49038a878076ae2809c5",
      "f8e74bf4449f4d55bfc52d765ba44882",
      "115ae9ce4fcd4ff5b5c18648e034c446",
      "953293c28fa14e71a8e354ea1b844b75",
      "e84826abaf754217b98672dfd41d35fc",
      "d506cfa68fef41b6933a71d6d00b7b1e",
      "946ad0cbe0eb4ee3af73d2b1de3ea95a",
      "7a16d09a448d47938a4c016a54522ae3",
      "5738d171b6744ae2a991751a6bc2d850",
      "5ac1a0aaf868461ca207a09079ca6c53",
      "5e9e02a9b0bd473081cafbd5bf128507",
      "2ea0e8ecacb74670b9f9a3455e496eda",
      "a89587d630fa44bab17fed5a58ebb68b",
      "7ca6e27713b54a03b5bd52e626f33fc7",
      "222eef3cbb084b3d8a5ffe8068060340",
      "cb4652f2b0974680b9f224ef1ef97ddb",
      "678ac926ffa64e4482f0461aecbf4484",
      "b46ceb3a5c0d4f4eb7d222f1639c88f5",
      "2896391751074c528768de57d29d807e",
      "de70b5deb8894bf8ab9f75a79a228f8d"
     ]
    },
    "id": "FKgqc1FhAxAP",
    "outputId": "cac62ad7-d950-43b6-e6cb-d5d76a721f38"
   },
   "outputs": [
    {
     "name": "stderr",
     "output_type": "stream",
     "text": [
      "Saving model checkpoint to wav2vec2-large-xlsr-turkish-demo-colab\n",
      "Configuration saved in wav2vec2-large-xlsr-turkish-demo-colab/config.json\n",
      "Model weights saved in wav2vec2-large-xlsr-turkish-demo-colab/pytorch_model.bin\n",
      "Configuration saved in wav2vec2-large-xlsr-turkish-demo-colab/preprocessor_config.json\n",
      "Several commits (2) will be pushed upstream.\n",
      "The progress bars may be unreliable.\n"
     ]
    },
    {
     "data": {
      "application/vnd.jupyter.widget-view+json": {
       "model_id": "4014d89119054c25ac0d1938ac4e2f8a",
       "version_major": 2,
       "version_minor": 0
      },
      "text/plain": [
       "Upload file pytorch_model.bin:   0%|          | 3.36k/1.18G [00:00<?, ?B/s]"
      ]
     },
     "metadata": {},
     "output_type": "display_data"
    },
    {
     "data": {
      "application/vnd.jupyter.widget-view+json": {
       "model_id": "5ac1a0aaf868461ca207a09079ca6c53",
       "version_major": 2,
       "version_minor": 0
      },
      "text/plain": [
       "Upload file runs/Oct19_15-15-25_6f3d3f817ea9/events.out.tfevents.1634656604.6f3d3f817ea9.701.2:  42%|####2    …"
      ]
     },
     "metadata": {},
     "output_type": "display_data"
    },
    {
     "name": "stderr",
     "output_type": "stream",
     "text": [
      "To https://huggingface.co/patrickvonplaten/wav2vec2-large-xlsr-turkish-demo-colab\n",
      "   18eefaa..f642252  main -> main\n",
      "\n",
      "Dropping the following result as it does not have all the necessary field:\n",
      "{'dataset': {'name': 'common_voice', 'type': 'common_voice', 'args': 'tr'}}\n",
      "To https://huggingface.co/patrickvonplaten/wav2vec2-large-xlsr-turkish-demo-colab\n",
      "   f642252..38e6fca  main -> main\n",
      "\n"
     ]
    },
    {
     "data": {
      "application/vnd.google.colaboratory.intrinsic+json": {
       "type": "string"
      },
      "text/plain": [
       "'https://huggingface.co/patrickvonplaten/wav2vec2-large-xlsr-turkish-demo-colab/commit/f64225259534e44179de0f715b96ada1a621551f'"
      ]
     },
     "execution_count": 81,
     "metadata": {},
     "output_type": "execute_result"
    }
   ],
   "source": [
    "trainer.push_to_hub()"
   ]
  },
  {
   "cell_type": "markdown",
   "metadata": {
    "id": "gKSOruDqNJxO"
   },
   "source": [
    "You can now share this model with all your friends, family, favorite pets: they can all load it with the identifier \"your-username/the-name-you-picked\" so for instance:"
   ]
  },
  {
   "cell_type": "markdown",
   "metadata": {
    "id": "2x-GybJDNQoH"
   },
   "source": [
    "```python\n",
    "from transformers import AutoModelForCTC, Wav2Vec2Processor\n",
    "\n",
    "model = AutoModelForCTC.from_pretrained(\"patrickvonplaten/wav2vec2-large-xlsr-turkish-demo-colab\")\n",
    "processor = Wav2Vec2Processor.from_pretrained(\"patrickvonplaten/wav2vec2-large-xlsr-turkish-demo-colab\")\n",
    "```"
   ]
  },
  {
   "cell_type": "markdown",
   "metadata": {
    "id": "RHIVc44_fY2N"
   },
   "source": [
    "To fine-tune larger models on larger datasets using CTC loss, one should take a look at the official speech-recognition examples [here](https://github.com/huggingface/transformers/tree/master/examples/pytorch/speech-recognition#connectionist-temporal-classification-without-language-model-ctc-wo-lm) 🤗."
   ]
  }
 ],
 "metadata": {
  "accelerator": "GPU",
  "colab": {
   "collapsed_sections": [],
   "include_colab_link": true,
   "machine_shape": "hm",
   "name": "Fine-Tune Multi-Lingual Speech Recognition Model with 🤗 Transformers using CTC.ipynb",
   "provenance": []
  },
  "kernelspec": {
   "display_name": "Python 3 (ipykernel)",
   "language": "python",
   "name": "python3"
  },
  "language_info": {
   "codemirror_mode": {
    "name": "ipython",
    "version": 3
   },
   "file_extension": ".py",
   "mimetype": "text/x-python",
   "name": "python",
   "nbconvert_exporter": "python",
   "pygments_lexer": "ipython3",
   "version": "3.10.8"
  },
  "widgets": {
   "application/vnd.jupyter.widget-state+json": {
    "02ff08729ba843c3a01a4ba2af056a39": {
     "model_module": "@jupyter-widgets/base",
     "model_module_version": "1.2.0",
     "model_name": "LayoutModel",
     "state": {
      "_model_module": "@jupyter-widgets/base",
      "_model_module_version": "1.2.0",
      "_model_name": "LayoutModel",
      "_view_count": null,
      "_view_module": "@jupyter-widgets/base",
      "_view_module_version": "1.2.0",
      "_view_name": "LayoutView",
      "align_content": null,
      "align_items": null,
      "align_self": null,
      "border": null,
      "bottom": null,
      "display": null,
      "flex": null,
      "flex_flow": null,
      "grid_area": null,
      "grid_auto_columns": null,
      "grid_auto_flow": null,
      "grid_auto_rows": null,
      "grid_column": null,
      "grid_gap": null,
      "grid_row": null,
      "grid_template_areas": null,
      "grid_template_columns": null,
      "grid_template_rows": null,
      "height": null,
      "justify_content": null,
      "justify_items": null,
      "left": null,
      "margin": null,
      "max_height": null,
      "max_width": null,
      "min_height": null,
      "min_width": null,
      "object_fit": null,
      "object_position": null,
      "order": null,
      "overflow": null,
      "overflow_x": null,
      "overflow_y": null,
      "padding": null,
      "right": null,
      "top": null,
      "visibility": null,
      "width": null
     }
    },
    "03a0603fd2ce4871b51b6b50e4f97e90": {
     "model_module": "@jupyter-widgets/controls",
     "model_module_version": "1.5.0",
     "model_name": "DescriptionStyleModel",
     "state": {
      "_model_module": "@jupyter-widgets/controls",
      "_model_module_version": "1.5.0",
      "_model_name": "DescriptionStyleModel",
      "_view_count": null,
      "_view_module": "@jupyter-widgets/base",
      "_view_module_version": "1.2.0",
      "_view_name": "StyleView",
      "description_width": ""
     }
    },
    "05af76b0c4fc410685102102cf39c2af": {
     "model_module": "@jupyter-widgets/controls",
     "model_module_version": "1.5.0",
     "model_name": "ProgressStyleModel",
     "state": {
      "_model_module": "@jupyter-widgets/controls",
      "_model_module_version": "1.5.0",
      "_model_name": "ProgressStyleModel",
      "_view_count": null,
      "_view_module": "@jupyter-widgets/base",
      "_view_module_version": "1.2.0",
      "_view_name": "StyleView",
      "bar_color": null,
      "description_width": ""
     }
    },
    "06052adc53ee427596e52aebe39af942": {
     "model_module": "@jupyter-widgets/controls",
     "model_module_version": "1.5.0",
     "model_name": "DescriptionStyleModel",
     "state": {
      "_model_module": "@jupyter-widgets/controls",
      "_model_module_version": "1.5.0",
      "_model_name": "DescriptionStyleModel",
      "_view_count": null,
      "_view_module": "@jupyter-widgets/base",
      "_view_module_version": "1.2.0",
      "_view_name": "StyleView",
      "description_width": ""
     }
    },
    "08fff1d8450b4c11abc1af2a51de810b": {
     "model_module": "@jupyter-widgets/controls",
     "model_module_version": "1.5.0",
     "model_name": "ProgressStyleModel",
     "state": {
      "_model_module": "@jupyter-widgets/controls",
      "_model_module_version": "1.5.0",
      "_model_name": "ProgressStyleModel",
      "_view_count": null,
      "_view_module": "@jupyter-widgets/base",
      "_view_module_version": "1.2.0",
      "_view_name": "StyleView",
      "bar_color": null,
      "description_width": ""
     }
    },
    "0945eebd6624416a82b94c11d1f46e75": {
     "model_module": "@jupyter-widgets/controls",
     "model_module_version": "1.5.0",
     "model_name": "FloatProgressModel",
     "state": {
      "_dom_classes": [],
      "_model_module": "@jupyter-widgets/controls",
      "_model_module_version": "1.5.0",
      "_model_name": "FloatProgressModel",
      "_view_count": null,
      "_view_module": "@jupyter-widgets/controls",
      "_view_module_version": "1.5.0",
      "_view_name": "ProgressView",
      "bar_style": "success",
      "description": "",
      "description_tooltip": null,
      "layout": "IPY_MODEL_6c0b90a363434052999ec37f4590f355",
      "max": 3478,
      "min": 0,
      "orientation": "horizontal",
      "style": "IPY_MODEL_05af76b0c4fc410685102102cf39c2af",
      "value": 3478
     }
    },
    "09c559b8ca434f85a0753aad822b9aba": {
     "model_module": "@jupyter-widgets/controls",
     "model_module_version": "1.5.0",
     "model_name": "HBoxModel",
     "state": {
      "_dom_classes": [],
      "_model_module": "@jupyter-widgets/controls",
      "_model_module_version": "1.5.0",
      "_model_name": "HBoxModel",
      "_view_count": null,
      "_view_module": "@jupyter-widgets/controls",
      "_view_module_version": "1.5.0",
      "_view_name": "HBoxView",
      "box_style": "",
      "children": [
       "IPY_MODEL_d74de43eeacb4ad0995ec45d88d6304c",
       "IPY_MODEL_1dfa2774f2a247dabec705160d9c0058",
       "IPY_MODEL_b30ae3ba8e384671bca4fbfef7ca6a42"
      ],
      "layout": "IPY_MODEL_79bc4834446d4b358814b7ed7046972c"
     }
    },
    "09de7a45bdcf43019fac8faf21d37f4d": {
     "model_module": "@jupyter-widgets/controls",
     "model_module_version": "1.5.0",
     "model_name": "ButtonModel",
     "state": {
      "_dom_classes": [],
      "_model_module": "@jupyter-widgets/controls",
      "_model_module_version": "1.5.0",
      "_model_name": "ButtonModel",
      "_view_count": null,
      "_view_module": "@jupyter-widgets/controls",
      "_view_module_version": "1.5.0",
      "_view_name": "ButtonView",
      "button_style": "",
      "description": "Login",
      "disabled": false,
      "icon": "",
      "layout": "IPY_MODEL_17252e60e7c8408588fc6f81ba8d262e",
      "style": "IPY_MODEL_4338db0dd26a4c11828326ca20ee4fde",
      "tooltip": ""
     }
    },
    "0c219edc78ea47ee86d100109107f9e6": {
     "model_module": "@jupyter-widgets/base",
     "model_module_version": "1.2.0",
     "model_name": "LayoutModel",
     "state": {
      "_model_module": "@jupyter-widgets/base",
      "_model_module_version": "1.2.0",
      "_model_name": "LayoutModel",
      "_view_count": null,
      "_view_module": "@jupyter-widgets/base",
      "_view_module_version": "1.2.0",
      "_view_name": "LayoutView",
      "align_content": null,
      "align_items": null,
      "align_self": null,
      "border": null,
      "bottom": null,
      "display": null,
      "flex": null,
      "flex_flow": null,
      "grid_area": null,
      "grid_auto_columns": null,
      "grid_auto_flow": null,
      "grid_auto_rows": null,
      "grid_column": null,
      "grid_gap": null,
      "grid_row": null,
      "grid_template_areas": null,
      "grid_template_columns": null,
      "grid_template_rows": null,
      "height": null,
      "justify_content": null,
      "justify_items": null,
      "left": null,
      "margin": null,
      "max_height": null,
      "max_width": null,
      "min_height": null,
      "min_width": null,
      "object_fit": null,
      "object_position": null,
      "order": null,
      "overflow": null,
      "overflow_x": null,
      "overflow_y": null,
      "padding": null,
      "right": null,
      "top": null,
      "visibility": null,
      "width": null
     }
    },
    "0cc8170d04624602b6fcb913046065b9": {
     "model_module": "@jupyter-widgets/controls",
     "model_module_version": "1.5.0",
     "model_name": "TextModel",
     "state": {
      "_dom_classes": [],
      "_model_module": "@jupyter-widgets/controls",
      "_model_module_version": "1.5.0",
      "_model_name": "TextModel",
      "_view_count": null,
      "_view_module": "@jupyter-widgets/controls",
      "_view_module_version": "1.5.0",
      "_view_name": "TextView",
      "continuous_update": true,
      "description": "Username:",
      "description_tooltip": null,
      "disabled": false,
      "layout": "IPY_MODEL_b18eb056b44e419692f3c08b34a7cc81",
      "placeholder": "​",
      "style": "IPY_MODEL_aac4d40371604e1599d7748e57ecf464",
      "value": ""
     }
    },
    "0d17008b61f043adba012a654eab9c73": {
     "model_module": "@jupyter-widgets/base",
     "model_module_version": "1.2.0",
     "model_name": "LayoutModel",
     "state": {
      "_model_module": "@jupyter-widgets/base",
      "_model_module_version": "1.2.0",
      "_model_name": "LayoutModel",
      "_view_count": null,
      "_view_module": "@jupyter-widgets/base",
      "_view_module_version": "1.2.0",
      "_view_name": "LayoutView",
      "align_content": null,
      "align_items": null,
      "align_self": null,
      "border": null,
      "bottom": null,
      "display": null,
      "flex": null,
      "flex_flow": null,
      "grid_area": null,
      "grid_auto_columns": null,
      "grid_auto_flow": null,
      "grid_auto_rows": null,
      "grid_column": null,
      "grid_gap": null,
      "grid_row": null,
      "grid_template_areas": null,
      "grid_template_columns": null,
      "grid_template_rows": null,
      "height": null,
      "justify_content": null,
      "justify_items": null,
      "left": null,
      "margin": null,
      "max_height": null,
      "max_width": null,
      "min_height": null,
      "min_width": null,
      "object_fit": null,
      "object_position": null,
      "order": null,
      "overflow": null,
      "overflow_x": null,
      "overflow_y": null,
      "padding": null,
      "right": null,
      "top": null,
      "visibility": null,
      "width": null
     }
    },
    "0d518bc066b748abb06eb2771c08de2d": {
     "model_module": "@jupyter-widgets/controls",
     "model_module_version": "1.5.0",
     "model_name": "DescriptionStyleModel",
     "state": {
      "_model_module": "@jupyter-widgets/controls",
      "_model_module_version": "1.5.0",
      "_model_name": "DescriptionStyleModel",
      "_view_count": null,
      "_view_module": "@jupyter-widgets/base",
      "_view_module_version": "1.2.0",
      "_view_name": "StyleView",
      "description_width": ""
     }
    },
    "0e966f3ae41a49388a815b2f91bc8a75": {
     "model_module": "@jupyter-widgets/controls",
     "model_module_version": "1.5.0",
     "model_name": "HBoxModel",
     "state": {
      "_dom_classes": [],
      "_model_module": "@jupyter-widgets/controls",
      "_model_module_version": "1.5.0",
      "_model_name": "HBoxModel",
      "_view_count": null,
      "_view_module": "@jupyter-widgets/controls",
      "_view_module_version": "1.5.0",
      "_view_name": "HBoxView",
      "box_style": "",
      "children": [
       "IPY_MODEL_beeff20aaf3b4a6d8340a2f13afc4ae9",
       "IPY_MODEL_d94984fdc6694752921fd45b7b8de36c",
       "IPY_MODEL_4b9862982b2c4d16ac3c5c14231a899e"
      ],
      "layout": "IPY_MODEL_c38c64906e6f4f6388a1405085e31044"
     }
    },
    "10d392f730e24029a1d0cf27de2f757b": {
     "model_module": "@jupyter-widgets/base",
     "model_module_version": "1.2.0",
     "model_name": "LayoutModel",
     "state": {
      "_model_module": "@jupyter-widgets/base",
      "_model_module_version": "1.2.0",
      "_model_name": "LayoutModel",
      "_view_count": null,
      "_view_module": "@jupyter-widgets/base",
      "_view_module_version": "1.2.0",
      "_view_name": "LayoutView",
      "align_content": null,
      "align_items": null,
      "align_self": null,
      "border": null,
      "bottom": null,
      "display": null,
      "flex": null,
      "flex_flow": null,
      "grid_area": null,
      "grid_auto_columns": null,
      "grid_auto_flow": null,
      "grid_auto_rows": null,
      "grid_column": null,
      "grid_gap": null,
      "grid_row": null,
      "grid_template_areas": null,
      "grid_template_columns": null,
      "grid_template_rows": null,
      "height": null,
      "justify_content": null,
      "justify_items": null,
      "left": null,
      "margin": null,
      "max_height": null,
      "max_width": null,
      "min_height": null,
      "min_width": null,
      "object_fit": null,
      "object_position": null,
      "order": null,
      "overflow": null,
      "overflow_x": null,
      "overflow_y": null,
      "padding": null,
      "right": null,
      "top": null,
      "visibility": null,
      "width": null
     }
    },
    "115ae9ce4fcd4ff5b5c18648e034c446": {
     "model_module": "@jupyter-widgets/controls",
     "model_module_version": "1.5.0",
     "model_name": "HTMLModel",
     "state": {
      "_dom_classes": [],
      "_model_module": "@jupyter-widgets/controls",
      "_model_module_version": "1.5.0",
      "_model_name": "HTMLModel",
      "_view_count": null,
      "_view_module": "@jupyter-widgets/controls",
      "_view_module_version": "1.5.0",
      "_view_name": "HTMLView",
      "description": "",
      "description_tooltip": null,
      "layout": "IPY_MODEL_5738d171b6744ae2a991751a6bc2d850",
      "placeholder": "​",
      "style": "IPY_MODEL_7a16d09a448d47938a4c016a54522ae3",
      "value": " 1.18G/1.18G [16:45&lt;00:00, 1.15MB/s]"
     }
    },
    "11f365b7fb7d4aeaa20cd0cdf19ccdc0": {
     "model_module": "@jupyter-widgets/base",
     "model_module_version": "1.2.0",
     "model_name": "LayoutModel",
     "state": {
      "_model_module": "@jupyter-widgets/base",
      "_model_module_version": "1.2.0",
      "_model_name": "LayoutModel",
      "_view_count": null,
      "_view_module": "@jupyter-widgets/base",
      "_view_module_version": "1.2.0",
      "_view_name": "LayoutView",
      "align_content": null,
      "align_items": null,
      "align_self": null,
      "border": null,
      "bottom": null,
      "display": null,
      "flex": null,
      "flex_flow": null,
      "grid_area": null,
      "grid_auto_columns": null,
      "grid_auto_flow": null,
      "grid_auto_rows": null,
      "grid_column": null,
      "grid_gap": null,
      "grid_row": null,
      "grid_template_areas": null,
      "grid_template_columns": null,
      "grid_template_rows": null,
      "height": null,
      "justify_content": null,
      "justify_items": null,
      "left": null,
      "margin": null,
      "max_height": null,
      "max_width": null,
      "min_height": null,
      "min_width": null,
      "object_fit": null,
      "object_position": null,
      "order": null,
      "overflow": null,
      "overflow_x": null,
      "overflow_y": null,
      "padding": null,
      "right": null,
      "top": null,
      "visibility": null,
      "width": null
     }
    },
    "12fb2cf3482b458ca85abcbbb7e98e2a": {
     "model_module": "@jupyter-widgets/base",
     "model_module_version": "1.2.0",
     "model_name": "LayoutModel",
     "state": {
      "_model_module": "@jupyter-widgets/base",
      "_model_module_version": "1.2.0",
      "_model_name": "LayoutModel",
      "_view_count": null,
      "_view_module": "@jupyter-widgets/base",
      "_view_module_version": "1.2.0",
      "_view_name": "LayoutView",
      "align_content": null,
      "align_items": null,
      "align_self": null,
      "border": null,
      "bottom": null,
      "display": null,
      "flex": null,
      "flex_flow": null,
      "grid_area": null,
      "grid_auto_columns": null,
      "grid_auto_flow": null,
      "grid_auto_rows": null,
      "grid_column": null,
      "grid_gap": null,
      "grid_row": null,
      "grid_template_areas": null,
      "grid_template_columns": null,
      "grid_template_rows": null,
      "height": null,
      "justify_content": null,
      "justify_items": null,
      "left": null,
      "margin": null,
      "max_height": null,
      "max_width": null,
      "min_height": null,
      "min_width": null,
      "object_fit": null,
      "object_position": null,
      "order": null,
      "overflow": null,
      "overflow_x": null,
      "overflow_y": null,
      "padding": null,
      "right": null,
      "top": null,
      "visibility": null,
      "width": "20px"
     }
    },
    "131a84000f7b40b3a377f8dbbacd021f": {
     "model_module": "@jupyter-widgets/base",
     "model_module_version": "1.2.0",
     "model_name": "LayoutModel",
     "state": {
      "_model_module": "@jupyter-widgets/base",
      "_model_module_version": "1.2.0",
      "_model_name": "LayoutModel",
      "_view_count": null,
      "_view_module": "@jupyter-widgets/base",
      "_view_module_version": "1.2.0",
      "_view_name": "LayoutView",
      "align_content": null,
      "align_items": null,
      "align_self": null,
      "border": null,
      "bottom": null,
      "display": null,
      "flex": null,
      "flex_flow": null,
      "grid_area": null,
      "grid_auto_columns": null,
      "grid_auto_flow": null,
      "grid_auto_rows": null,
      "grid_column": null,
      "grid_gap": null,
      "grid_row": null,
      "grid_template_areas": null,
      "grid_template_columns": null,
      "grid_template_rows": null,
      "height": null,
      "justify_content": null,
      "justify_items": null,
      "left": null,
      "margin": null,
      "max_height": null,
      "max_width": null,
      "min_height": null,
      "min_width": null,
      "object_fit": null,
      "object_position": null,
      "order": null,
      "overflow": null,
      "overflow_x": null,
      "overflow_y": null,
      "padding": null,
      "right": null,
      "top": null,
      "visibility": null,
      "width": null
     }
    },
    "136e3698e7ae4f37b2b6eaabd74fff37": {
     "model_module": "@jupyter-widgets/controls",
     "model_module_version": "1.5.0",
     "model_name": "FloatProgressModel",
     "state": {
      "_dom_classes": [],
      "_model_module": "@jupyter-widgets/controls",
      "_model_module_version": "1.5.0",
      "_model_name": "FloatProgressModel",
      "_view_count": null,
      "_view_module": "@jupyter-widgets/controls",
      "_view_module_version": "1.5.0",
      "_view_name": "ProgressView",
      "bar_style": "success",
      "description": "",
      "description_tooltip": null,
      "layout": "IPY_MODEL_b37445039fca441aac2eba6153b52e41",
      "max": 212,
      "min": 0,
      "orientation": "horizontal",
      "style": "IPY_MODEL_20da06bc68034ad889ee2d243c1871a6",
      "value": 212
     }
    },
    "144dd5676314431da0e494ba978ec0a1": {
     "model_module": "@jupyter-widgets/controls",
     "model_module_version": "1.5.0",
     "model_name": "HBoxModel",
     "state": {
      "_dom_classes": [],
      "_model_module": "@jupyter-widgets/controls",
      "_model_module_version": "1.5.0",
      "_model_name": "HBoxModel",
      "_view_count": null,
      "_view_module": "@jupyter-widgets/controls",
      "_view_module_version": "1.5.0",
      "_view_name": "HBoxView",
      "box_style": "",
      "children": [
       "IPY_MODEL_576e9c1052e9495ca876e5a4115663b7",
       "IPY_MODEL_28d1258eaf5e43749a7bfce801e549f9",
       "IPY_MODEL_e74c961d20b140cbb94bd72516ac48a2"
      ],
      "layout": "IPY_MODEL_c92fc9f4171745019c3592a4b01c2946"
     }
    },
    "1561e222b8f1499ab229eb1bb79a5af2": {
     "model_module": "@jupyter-widgets/controls",
     "model_module_version": "1.5.0",
     "model_name": "HTMLModel",
     "state": {
      "_dom_classes": [],
      "_model_module": "@jupyter-widgets/controls",
      "_model_module_version": "1.5.0",
      "_model_name": "HTMLModel",
      "_view_count": null,
      "_view_module": "@jupyter-widgets/controls",
      "_view_module_version": "1.5.0",
      "_view_name": "HTMLView",
      "description": "",
      "description_tooltip": null,
      "layout": "IPY_MODEL_02ff08729ba843c3a01a4ba2af056a39",
      "placeholder": "​",
      "style": "IPY_MODEL_2892c1b31e1d4edc899a86e861eeb759",
      "value": " 22.5k/? [00:00&lt;00:00, 615kB/s]"
     }
    },
    "17252e60e7c8408588fc6f81ba8d262e": {
     "model_module": "@jupyter-widgets/base",
     "model_module_version": "1.2.0",
     "model_name": "LayoutModel",
     "state": {
      "_model_module": "@jupyter-widgets/base",
      "_model_module_version": "1.2.0",
      "_model_name": "LayoutModel",
      "_view_count": null,
      "_view_module": "@jupyter-widgets/base",
      "_view_module_version": "1.2.0",
      "_view_name": "LayoutView",
      "align_content": null,
      "align_items": null,
      "align_self": null,
      "border": null,
      "bottom": null,
      "display": null,
      "flex": null,
      "flex_flow": null,
      "grid_area": null,
      "grid_auto_columns": null,
      "grid_auto_flow": null,
      "grid_auto_rows": null,
      "grid_column": null,
      "grid_gap": null,
      "grid_row": null,
      "grid_template_areas": null,
      "grid_template_columns": null,
      "grid_template_rows": null,
      "height": null,
      "justify_content": null,
      "justify_items": null,
      "left": null,
      "margin": null,
      "max_height": null,
      "max_width": null,
      "min_height": null,
      "min_width": null,
      "object_fit": null,
      "object_position": null,
      "order": null,
      "overflow": null,
      "overflow_x": null,
      "overflow_y": null,
      "padding": null,
      "right": null,
      "top": null,
      "visibility": null,
      "width": null
     }
    },
    "18171383454a4366a9ed7f32742df20f": {
     "model_module": "@jupyter-widgets/controls",
     "model_module_version": "1.5.0",
     "model_name": "HTMLModel",
     "state": {
      "_dom_classes": [],
      "_model_module": "@jupyter-widgets/controls",
      "_model_module_version": "1.5.0",
      "_model_name": "HTMLModel",
      "_view_count": null,
      "_view_module": "@jupyter-widgets/controls",
      "_view_module_version": "1.5.0",
      "_view_name": "HTMLView",
      "description": "",
      "description_tooltip": null,
      "layout": "IPY_MODEL_2b0e6d44103247acbd04ace9352207d6",
      "placeholder": "​",
      "style": "IPY_MODEL_06052adc53ee427596e52aebe39af942",
      "value": " 621M/621M [00:19&lt;00:00, 34.3MB/s]"
     }
    },
    "182667b08f604c7786034c7959887540": {
     "model_module": "@jupyter-widgets/controls",
     "model_module_version": "1.5.0",
     "model_name": "DescriptionStyleModel",
     "state": {
      "_model_module": "@jupyter-widgets/controls",
      "_model_module_version": "1.5.0",
      "_model_name": "DescriptionStyleModel",
      "_view_count": null,
      "_view_module": "@jupyter-widgets/base",
      "_view_module_version": "1.2.0",
      "_view_name": "StyleView",
      "description_width": ""
     }
    },
    "1d21f7ad244041028f5f9cce8ea428c3": {
     "model_module": "@jupyter-widgets/base",
     "model_module_version": "1.2.0",
     "model_name": "LayoutModel",
     "state": {
      "_model_module": "@jupyter-widgets/base",
      "_model_module_version": "1.2.0",
      "_model_name": "LayoutModel",
      "_view_count": null,
      "_view_module": "@jupyter-widgets/base",
      "_view_module_version": "1.2.0",
      "_view_name": "LayoutView",
      "align_content": null,
      "align_items": null,
      "align_self": null,
      "border": null,
      "bottom": null,
      "display": null,
      "flex": null,
      "flex_flow": null,
      "grid_area": null,
      "grid_auto_columns": null,
      "grid_auto_flow": null,
      "grid_auto_rows": null,
      "grid_column": null,
      "grid_gap": null,
      "grid_row": null,
      "grid_template_areas": null,
      "grid_template_columns": null,
      "grid_template_rows": null,
      "height": null,
      "justify_content": null,
      "justify_items": null,
      "left": null,
      "margin": null,
      "max_height": null,
      "max_width": null,
      "min_height": null,
      "min_width": null,
      "object_fit": null,
      "object_position": null,
      "order": null,
      "overflow": null,
      "overflow_x": null,
      "overflow_y": null,
      "padding": null,
      "right": null,
      "top": null,
      "visibility": null,
      "width": null
     }
    },
    "1dfa2774f2a247dabec705160d9c0058": {
     "model_module": "@jupyter-widgets/controls",
     "model_module_version": "1.5.0",
     "model_name": "FloatProgressModel",
     "state": {
      "_dom_classes": [],
      "_model_module": "@jupyter-widgets/controls",
      "_model_module_version": "1.5.0",
      "_model_name": "FloatProgressModel",
      "_view_count": null,
      "_view_module": "@jupyter-widgets/controls",
      "_view_module_version": "1.5.0",
      "_view_name": "ProgressView",
      "bar_style": "info",
      "description": "",
      "description_tooltip": null,
      "layout": "IPY_MODEL_12fb2cf3482b458ca85abcbbb7e98e2a",
      "max": 1,
      "min": 0,
      "orientation": "horizontal",
      "style": "IPY_MODEL_af379da49784490e8e6bdc249c3be969",
      "value": 1
     }
    },
    "1eb0e9573a374f36a9c23ff9be46eec5": {
     "model_module": "@jupyter-widgets/controls",
     "model_module_version": "1.5.0",
     "model_name": "DescriptionStyleModel",
     "state": {
      "_model_module": "@jupyter-widgets/controls",
      "_model_module_version": "1.5.0",
      "_model_name": "DescriptionStyleModel",
      "_view_count": null,
      "_view_module": "@jupyter-widgets/base",
      "_view_module_version": "1.2.0",
      "_view_name": "StyleView",
      "description_width": ""
     }
    },
    "204723b0f09d4bf9ab57fd77c764eb18": {
     "model_module": "@jupyter-widgets/controls",
     "model_module_version": "1.5.0",
     "model_name": "FloatProgressModel",
     "state": {
      "_dom_classes": [],
      "_model_module": "@jupyter-widgets/controls",
      "_model_module_version": "1.5.0",
      "_model_name": "FloatProgressModel",
      "_view_count": null,
      "_view_module": "@jupyter-widgets/controls",
      "_view_module_version": "1.5.0",
      "_view_name": "ProgressView",
      "bar_style": "success",
      "description": "",
      "description_tooltip": null,
      "layout": "IPY_MODEL_6a86593225b145f4b8116df9e6b0888e",
      "max": 1647,
      "min": 0,
      "orientation": "horizontal",
      "style": "IPY_MODEL_9658824e0065469f8cf73d8c4d0fa93b",
      "value": 1647
     }
    },
    "209efc5b56eb4acda1a59bdc50040da6": {
     "model_module": "@jupyter-widgets/controls",
     "model_module_version": "1.5.0",
     "model_name": "HTMLModel",
     "state": {
      "_dom_classes": [],
      "_model_module": "@jupyter-widgets/controls",
      "_model_module_version": "1.5.0",
      "_model_name": "HTMLModel",
      "_view_count": null,
      "_view_module": "@jupyter-widgets/controls",
      "_view_module_version": "1.5.0",
      "_view_name": "HTMLView",
      "description": "",
      "description_tooltip": null,
      "layout": "IPY_MODEL_d77d2d03adff4193a1b48194341221b3",
      "placeholder": "​",
      "style": "IPY_MODEL_66dbc3cb68e549788aca9b885916ac21",
      "value": "100%"
     }
    },
    "20da06bc68034ad889ee2d243c1871a6": {
     "model_module": "@jupyter-widgets/controls",
     "model_module_version": "1.5.0",
     "model_name": "ProgressStyleModel",
     "state": {
      "_model_module": "@jupyter-widgets/controls",
      "_model_module_version": "1.5.0",
      "_model_name": "ProgressStyleModel",
      "_view_count": null,
      "_view_module": "@jupyter-widgets/base",
      "_view_module_version": "1.2.0",
      "_view_name": "StyleView",
      "bar_color": null,
      "description_width": ""
     }
    },
    "2159b14e0b5e4489a6154fc01a9da2b4": {
     "model_module": "@jupyter-widgets/controls",
     "model_module_version": "1.5.0",
     "model_name": "HBoxModel",
     "state": {
      "_dom_classes": [],
      "_model_module": "@jupyter-widgets/controls",
      "_model_module_version": "1.5.0",
      "_model_name": "HBoxModel",
      "_view_count": null,
      "_view_module": "@jupyter-widgets/controls",
      "_view_module_version": "1.5.0",
      "_view_name": "HBoxView",
      "box_style": "",
      "children": [
       "IPY_MODEL_90079dbd404042588892cca4f82ecaa5",
       "IPY_MODEL_97868fbcf5eb43529dab41983141400b",
       "IPY_MODEL_cbde7ca853ae472f8234a465e7e0ddb8"
      ],
      "layout": "IPY_MODEL_3523d19d816245619af97a8a9ea62010"
     }
    },
    "218f3651b2f84f15b4b3c7bb2c05e260": {
     "model_module": "@jupyter-widgets/base",
     "model_module_version": "1.2.0",
     "model_name": "LayoutModel",
     "state": {
      "_model_module": "@jupyter-widgets/base",
      "_model_module_version": "1.2.0",
      "_model_name": "LayoutModel",
      "_view_count": null,
      "_view_module": "@jupyter-widgets/base",
      "_view_module_version": "1.2.0",
      "_view_name": "LayoutView",
      "align_content": null,
      "align_items": null,
      "align_self": null,
      "border": null,
      "bottom": null,
      "display": null,
      "flex": null,
      "flex_flow": null,
      "grid_area": null,
      "grid_auto_columns": null,
      "grid_auto_flow": null,
      "grid_auto_rows": null,
      "grid_column": null,
      "grid_gap": null,
      "grid_row": null,
      "grid_template_areas": null,
      "grid_template_columns": null,
      "grid_template_rows": null,
      "height": null,
      "justify_content": null,
      "justify_items": null,
      "left": null,
      "margin": null,
      "max_height": null,
      "max_width": null,
      "min_height": null,
      "min_width": null,
      "object_fit": null,
      "object_position": null,
      "order": null,
      "overflow": null,
      "overflow_x": null,
      "overflow_y": null,
      "padding": null,
      "right": null,
      "top": null,
      "visibility": null,
      "width": null
     }
    },
    "222eef3cbb084b3d8a5ffe8068060340": {
     "model_module": "@jupyter-widgets/controls",
     "model_module_version": "1.5.0",
     "model_name": "DescriptionStyleModel",
     "state": {
      "_model_module": "@jupyter-widgets/controls",
      "_model_module_version": "1.5.0",
      "_model_name": "DescriptionStyleModel",
      "_view_count": null,
      "_view_module": "@jupyter-widgets/base",
      "_view_module_version": "1.2.0",
      "_view_name": "StyleView",
      "description_width": ""
     }
    },
    "225f9449901d4ceea038c6b8573181ed": {
     "model_module": "@jupyter-widgets/base",
     "model_module_version": "1.2.0",
     "model_name": "LayoutModel",
     "state": {
      "_model_module": "@jupyter-widgets/base",
      "_model_module_version": "1.2.0",
      "_model_name": "LayoutModel",
      "_view_count": null,
      "_view_module": "@jupyter-widgets/base",
      "_view_module_version": "1.2.0",
      "_view_name": "LayoutView",
      "align_content": null,
      "align_items": null,
      "align_self": null,
      "border": null,
      "bottom": null,
      "display": null,
      "flex": null,
      "flex_flow": null,
      "grid_area": null,
      "grid_auto_columns": null,
      "grid_auto_flow": null,
      "grid_auto_rows": null,
      "grid_column": null,
      "grid_gap": null,
      "grid_row": null,
      "grid_template_areas": null,
      "grid_template_columns": null,
      "grid_template_rows": null,
      "height": null,
      "justify_content": null,
      "justify_items": null,
      "left": null,
      "margin": null,
      "max_height": null,
      "max_width": null,
      "min_height": null,
      "min_width": null,
      "object_fit": null,
      "object_position": null,
      "order": null,
      "overflow": null,
      "overflow_x": null,
      "overflow_y": null,
      "padding": null,
      "right": null,
      "top": null,
      "visibility": null,
      "width": null
     }
    },
    "26a58d21df4e4388b5b8bede6f2ca22f": {
     "model_module": "@jupyter-widgets/controls",
     "model_module_version": "1.5.0",
     "model_name": "FloatProgressModel",
     "state": {
      "_dom_classes": [],
      "_model_module": "@jupyter-widgets/controls",
      "_model_module_version": "1.5.0",
      "_model_name": "FloatProgressModel",
      "_view_count": null,
      "_view_module": "@jupyter-widgets/controls",
      "_view_module_version": "1.5.0",
      "_view_name": "ProgressView",
      "bar_style": "success",
      "description": "",
      "description_tooltip": null,
      "layout": "IPY_MODEL_e878264e9f8c4ba0866d1afb6af9ccc6",
      "max": 4444,
      "min": 0,
      "orientation": "horizontal",
      "style": "IPY_MODEL_6be66d664dc64027953e5fb9eed3571c",
      "value": 4444
     }
    },
    "2725828ab1c042fc91b26eee8a3d241a": {
     "model_module": "@jupyter-widgets/controls",
     "model_module_version": "1.5.0",
     "model_name": "HBoxModel",
     "state": {
      "_dom_classes": [],
      "_model_module": "@jupyter-widgets/controls",
      "_model_module_version": "1.5.0",
      "_model_name": "HBoxModel",
      "_view_count": null,
      "_view_module": "@jupyter-widgets/controls",
      "_view_module_version": "1.5.0",
      "_view_name": "HBoxView",
      "box_style": "",
      "children": [
       "IPY_MODEL_f9277b3fe673450a881681a63d4195aa",
       "IPY_MODEL_c032cdd160fc40eaa06a8a4d5f55d1ca",
       "IPY_MODEL_b1e3f54448f34983b4118f543c4cb749"
      ],
      "layout": "IPY_MODEL_11f365b7fb7d4aeaa20cd0cdf19ccdc0"
     }
    },
    "2892c1b31e1d4edc899a86e861eeb759": {
     "model_module": "@jupyter-widgets/controls",
     "model_module_version": "1.5.0",
     "model_name": "DescriptionStyleModel",
     "state": {
      "_model_module": "@jupyter-widgets/controls",
      "_model_module_version": "1.5.0",
      "_model_name": "DescriptionStyleModel",
      "_view_count": null,
      "_view_module": "@jupyter-widgets/base",
      "_view_module_version": "1.2.0",
      "_view_name": "StyleView",
      "description_width": ""
     }
    },
    "2896391751074c528768de57d29d807e": {
     "model_module": "@jupyter-widgets/controls",
     "model_module_version": "1.5.0",
     "model_name": "DescriptionStyleModel",
     "state": {
      "_model_module": "@jupyter-widgets/controls",
      "_model_module_version": "1.5.0",
      "_model_name": "DescriptionStyleModel",
      "_view_count": null,
      "_view_module": "@jupyter-widgets/base",
      "_view_module_version": "1.2.0",
      "_view_name": "StyleView",
      "description_width": ""
     }
    },
    "28d1258eaf5e43749a7bfce801e549f9": {
     "model_module": "@jupyter-widgets/controls",
     "model_module_version": "1.5.0",
     "model_name": "FloatProgressModel",
     "state": {
      "_dom_classes": [],
      "_model_module": "@jupyter-widgets/controls",
      "_model_module_version": "1.5.0",
      "_model_name": "FloatProgressModel",
      "_view_count": null,
      "_view_module": "@jupyter-widgets/controls",
      "_view_module_version": "1.5.0",
      "_view_name": "ProgressView",
      "bar_style": "success",
      "description": "",
      "description_tooltip": null,
      "layout": "IPY_MODEL_131a84000f7b40b3a377f8dbbacd021f",
      "max": 3478,
      "min": 0,
      "orientation": "horizontal",
      "style": "IPY_MODEL_423f0635aa8c43168698a2d19d13a2ac",
      "value": 3478
     }
    },
    "28e0bf7007664d528ab282d9dce4ca08": {
     "model_module": "@jupyter-widgets/base",
     "model_module_version": "1.2.0",
     "model_name": "LayoutModel",
     "state": {
      "_model_module": "@jupyter-widgets/base",
      "_model_module_version": "1.2.0",
      "_model_name": "LayoutModel",
      "_view_count": null,
      "_view_module": "@jupyter-widgets/base",
      "_view_module_version": "1.2.0",
      "_view_name": "LayoutView",
      "align_content": null,
      "align_items": null,
      "align_self": null,
      "border": null,
      "bottom": null,
      "display": null,
      "flex": null,
      "flex_flow": null,
      "grid_area": null,
      "grid_auto_columns": null,
      "grid_auto_flow": null,
      "grid_auto_rows": null,
      "grid_column": null,
      "grid_gap": null,
      "grid_row": null,
      "grid_template_areas": null,
      "grid_template_columns": null,
      "grid_template_rows": null,
      "height": null,
      "justify_content": null,
      "justify_items": null,
      "left": null,
      "margin": null,
      "max_height": null,
      "max_width": null,
      "min_height": null,
      "min_width": null,
      "object_fit": null,
      "object_position": null,
      "order": null,
      "overflow": null,
      "overflow_x": null,
      "overflow_y": null,
      "padding": null,
      "right": null,
      "top": null,
      "visibility": null,
      "width": null
     }
    },
    "29a58c0cbf4d4dc3943bbd22c4b74881": {
     "model_module": "@jupyter-widgets/base",
     "model_module_version": "1.2.0",
     "model_name": "LayoutModel",
     "state": {
      "_model_module": "@jupyter-widgets/base",
      "_model_module_version": "1.2.0",
      "_model_name": "LayoutModel",
      "_view_count": null,
      "_view_module": "@jupyter-widgets/base",
      "_view_module_version": "1.2.0",
      "_view_name": "LayoutView",
      "align_content": null,
      "align_items": null,
      "align_self": null,
      "border": null,
      "bottom": null,
      "display": null,
      "flex": null,
      "flex_flow": null,
      "grid_area": null,
      "grid_auto_columns": null,
      "grid_auto_flow": null,
      "grid_auto_rows": null,
      "grid_column": null,
      "grid_gap": null,
      "grid_row": null,
      "grid_template_areas": null,
      "grid_template_columns": null,
      "grid_template_rows": null,
      "height": null,
      "justify_content": null,
      "justify_items": null,
      "left": null,
      "margin": null,
      "max_height": null,
      "max_width": null,
      "min_height": null,
      "min_width": null,
      "object_fit": null,
      "object_position": null,
      "order": null,
      "overflow": null,
      "overflow_x": null,
      "overflow_y": null,
      "padding": null,
      "right": null,
      "top": null,
      "visibility": null,
      "width": null
     }
    },
    "2ab34edf1481420f9dd350b1d8b8767c": {
     "model_module": "@jupyter-widgets/base",
     "model_module_version": "1.2.0",
     "model_name": "LayoutModel",
     "state": {
      "_model_module": "@jupyter-widgets/base",
      "_model_module_version": "1.2.0",
      "_model_name": "LayoutModel",
      "_view_count": null,
      "_view_module": "@jupyter-widgets/base",
      "_view_module_version": "1.2.0",
      "_view_name": "LayoutView",
      "align_content": null,
      "align_items": null,
      "align_self": null,
      "border": null,
      "bottom": null,
      "display": null,
      "flex": null,
      "flex_flow": null,
      "grid_area": null,
      "grid_auto_columns": null,
      "grid_auto_flow": null,
      "grid_auto_rows": null,
      "grid_column": null,
      "grid_gap": null,
      "grid_row": null,
      "grid_template_areas": null,
      "grid_template_columns": null,
      "grid_template_rows": null,
      "height": null,
      "justify_content": null,
      "justify_items": null,
      "left": null,
      "margin": null,
      "max_height": null,
      "max_width": null,
      "min_height": null,
      "min_width": null,
      "object_fit": null,
      "object_position": null,
      "order": null,
      "overflow": null,
      "overflow_x": null,
      "overflow_y": null,
      "padding": null,
      "right": null,
      "top": null,
      "visibility": null,
      "width": null
     }
    },
    "2b0e6d44103247acbd04ace9352207d6": {
     "model_module": "@jupyter-widgets/base",
     "model_module_version": "1.2.0",
     "model_name": "LayoutModel",
     "state": {
      "_model_module": "@jupyter-widgets/base",
      "_model_module_version": "1.2.0",
      "_model_name": "LayoutModel",
      "_view_count": null,
      "_view_module": "@jupyter-widgets/base",
      "_view_module_version": "1.2.0",
      "_view_name": "LayoutView",
      "align_content": null,
      "align_items": null,
      "align_self": null,
      "border": null,
      "bottom": null,
      "display": null,
      "flex": null,
      "flex_flow": null,
      "grid_area": null,
      "grid_auto_columns": null,
      "grid_auto_flow": null,
      "grid_auto_rows": null,
      "grid_column": null,
      "grid_gap": null,
      "grid_row": null,
      "grid_template_areas": null,
      "grid_template_columns": null,
      "grid_template_rows": null,
      "height": null,
      "justify_content": null,
      "justify_items": null,
      "left": null,
      "margin": null,
      "max_height": null,
      "max_width": null,
      "min_height": null,
      "min_width": null,
      "object_fit": null,
      "object_position": null,
      "order": null,
      "overflow": null,
      "overflow_x": null,
      "overflow_y": null,
      "padding": null,
      "right": null,
      "top": null,
      "visibility": null,
      "width": null
     }
    },
    "2bf825a1eed84df7b3aca522a1fb3296": {
     "model_module": "@jupyter-widgets/base",
     "model_module_version": "1.2.0",
     "model_name": "LayoutModel",
     "state": {
      "_model_module": "@jupyter-widgets/base",
      "_model_module_version": "1.2.0",
      "_model_name": "LayoutModel",
      "_view_count": null,
      "_view_module": "@jupyter-widgets/base",
      "_view_module_version": "1.2.0",
      "_view_name": "LayoutView",
      "align_content": null,
      "align_items": null,
      "align_self": null,
      "border": null,
      "bottom": null,
      "display": null,
      "flex": null,
      "flex_flow": null,
      "grid_area": null,
      "grid_auto_columns": null,
      "grid_auto_flow": null,
      "grid_auto_rows": null,
      "grid_column": null,
      "grid_gap": null,
      "grid_row": null,
      "grid_template_areas": null,
      "grid_template_columns": null,
      "grid_template_rows": null,
      "height": null,
      "justify_content": null,
      "justify_items": null,
      "left": null,
      "margin": null,
      "max_height": null,
      "max_width": null,
      "min_height": null,
      "min_width": null,
      "object_fit": null,
      "object_position": null,
      "order": null,
      "overflow": null,
      "overflow_x": null,
      "overflow_y": null,
      "padding": null,
      "right": null,
      "top": null,
      "visibility": null,
      "width": null
     }
    },
    "2ea0e8ecacb74670b9f9a3455e496eda": {
     "model_module": "@jupyter-widgets/controls",
     "model_module_version": "1.5.0",
     "model_name": "HTMLModel",
     "state": {
      "_dom_classes": [],
      "_model_module": "@jupyter-widgets/controls",
      "_model_module_version": "1.5.0",
      "_model_name": "HTMLModel",
      "_view_count": null,
      "_view_module": "@jupyter-widgets/controls",
      "_view_module_version": "1.5.0",
      "_view_name": "HTMLView",
      "description": "",
      "description_tooltip": null,
      "layout": "IPY_MODEL_cb4652f2b0974680b9f224ef1ef97ddb",
      "placeholder": "​",
      "style": "IPY_MODEL_222eef3cbb084b3d8a5ffe8068060340",
      "value": "Upload file runs/Oct19_15-15-25_6f3d3f817ea9/events.out.tfevents.1634656604.6f3d3f817ea9.701.2: 100%"
     }
    },
    "3035c0d0e8c44bb8ae229b3c8cf62087": {
     "model_module": "@jupyter-widgets/controls",
     "model_module_version": "1.5.0",
     "model_name": "HTMLModel",
     "state": {
      "_dom_classes": [],
      "_model_module": "@jupyter-widgets/controls",
      "_model_module_version": "1.5.0",
      "_model_name": "HTMLModel",
      "_view_count": null,
      "_view_module": "@jupyter-widgets/controls",
      "_view_module_version": "1.5.0",
      "_view_name": "HTMLView",
      "description": "",
      "description_tooltip": null,
      "layout": "IPY_MODEL_b617a527f91c4248a83e748f5eec5471",
      "placeholder": "​",
      "style": "IPY_MODEL_767a77c2f6ea45aca7fc1796a349afbc",
      "value": ""
     }
    },
    "32234e5488dc4e958a7b4edf284085b1": {
     "model_module": "@jupyter-widgets/base",
     "model_module_version": "1.2.0",
     "model_name": "LayoutModel",
     "state": {
      "_model_module": "@jupyter-widgets/base",
      "_model_module_version": "1.2.0",
      "_model_name": "LayoutModel",
      "_view_count": null,
      "_view_module": "@jupyter-widgets/base",
      "_view_module_version": "1.2.0",
      "_view_name": "LayoutView",
      "align_content": null,
      "align_items": null,
      "align_self": null,
      "border": null,
      "bottom": null,
      "display": null,
      "flex": null,
      "flex_flow": null,
      "grid_area": null,
      "grid_auto_columns": null,
      "grid_auto_flow": null,
      "grid_auto_rows": null,
      "grid_column": null,
      "grid_gap": null,
      "grid_row": null,
      "grid_template_areas": null,
      "grid_template_columns": null,
      "grid_template_rows": null,
      "height": null,
      "justify_content": null,
      "justify_items": null,
      "left": null,
      "margin": null,
      "max_height": null,
      "max_width": null,
      "min_height": null,
      "min_width": null,
      "object_fit": null,
      "object_position": null,
      "order": null,
      "overflow": null,
      "overflow_x": null,
      "overflow_y": null,
      "padding": null,
      "right": null,
      "top": null,
      "visibility": null,
      "width": null
     }
    },
    "341963d8b96a4aebbaa0bb813c896ae4": {
     "model_module": "@jupyter-widgets/controls",
     "model_module_version": "1.5.0",
     "model_name": "DescriptionStyleModel",
     "state": {
      "_model_module": "@jupyter-widgets/controls",
      "_model_module_version": "1.5.0",
      "_model_name": "DescriptionStyleModel",
      "_view_count": null,
      "_view_module": "@jupyter-widgets/base",
      "_view_module_version": "1.2.0",
      "_view_name": "StyleView",
      "description_width": ""
     }
    },
    "34cf654ccffa445c92307c28e74496db": {
     "model_module": "@jupyter-widgets/controls",
     "model_module_version": "1.5.0",
     "model_name": "ProgressStyleModel",
     "state": {
      "_model_module": "@jupyter-widgets/controls",
      "_model_module_version": "1.5.0",
      "_model_name": "ProgressStyleModel",
      "_view_count": null,
      "_view_module": "@jupyter-widgets/base",
      "_view_module_version": "1.2.0",
      "_view_name": "StyleView",
      "bar_color": null,
      "description_width": ""
     }
    },
    "34f5c9847be647c2bee711dd612d4e48": {
     "model_module": "@jupyter-widgets/controls",
     "model_module_version": "1.5.0",
     "model_name": "DescriptionStyleModel",
     "state": {
      "_model_module": "@jupyter-widgets/controls",
      "_model_module_version": "1.5.0",
      "_model_name": "DescriptionStyleModel",
      "_view_count": null,
      "_view_module": "@jupyter-widgets/base",
      "_view_module_version": "1.2.0",
      "_view_name": "StyleView",
      "description_width": ""
     }
    },
    "351d19b5adea4c079620c665671d848e": {
     "model_module": "@jupyter-widgets/controls",
     "model_module_version": "1.5.0",
     "model_name": "DescriptionStyleModel",
     "state": {
      "_model_module": "@jupyter-widgets/controls",
      "_model_module_version": "1.5.0",
      "_model_name": "DescriptionStyleModel",
      "_view_count": null,
      "_view_module": "@jupyter-widgets/base",
      "_view_module_version": "1.2.0",
      "_view_name": "StyleView",
      "description_width": ""
     }
    },
    "3523d19d816245619af97a8a9ea62010": {
     "model_module": "@jupyter-widgets/base",
     "model_module_version": "1.2.0",
     "model_name": "LayoutModel",
     "state": {
      "_model_module": "@jupyter-widgets/base",
      "_model_module_version": "1.2.0",
      "_model_name": "LayoutModel",
      "_view_count": null,
      "_view_module": "@jupyter-widgets/base",
      "_view_module_version": "1.2.0",
      "_view_name": "LayoutView",
      "align_content": null,
      "align_items": null,
      "align_self": null,
      "border": null,
      "bottom": null,
      "display": null,
      "flex": null,
      "flex_flow": null,
      "grid_area": null,
      "grid_auto_columns": null,
      "grid_auto_flow": null,
      "grid_auto_rows": null,
      "grid_column": null,
      "grid_gap": null,
      "grid_row": null,
      "grid_template_areas": null,
      "grid_template_columns": null,
      "grid_template_rows": null,
      "height": null,
      "justify_content": null,
      "justify_items": null,
      "left": null,
      "margin": null,
      "max_height": null,
      "max_width": null,
      "min_height": null,
      "min_width": null,
      "object_fit": null,
      "object_position": null,
      "order": null,
      "overflow": null,
      "overflow_x": null,
      "overflow_y": null,
      "padding": null,
      "right": null,
      "top": null,
      "visibility": null,
      "width": null
     }
    },
    "36bd4de2f3974c39ba1c8becb10001aa": {
     "model_module": "@jupyter-widgets/controls",
     "model_module_version": "1.5.0",
     "model_name": "DescriptionStyleModel",
     "state": {
      "_model_module": "@jupyter-widgets/controls",
      "_model_module_version": "1.5.0",
      "_model_name": "DescriptionStyleModel",
      "_view_count": null,
      "_view_module": "@jupyter-widgets/base",
      "_view_module_version": "1.2.0",
      "_view_name": "StyleView",
      "description_width": ""
     }
    },
    "3746981577a24096a433853e7ed5f0b3": {
     "model_module": "@jupyter-widgets/controls",
     "model_module_version": "1.5.0",
     "model_name": "HTMLModel",
     "state": {
      "_dom_classes": [],
      "_model_module": "@jupyter-widgets/controls",
      "_model_module_version": "1.5.0",
      "_model_name": "HTMLModel",
      "_view_count": null,
      "_view_module": "@jupyter-widgets/controls",
      "_view_module_version": "1.5.0",
      "_view_name": "HTMLView",
      "description": "",
      "description_tooltip": null,
      "layout": "IPY_MODEL_a3ff24e18e6041b88b718e11c3af0642",
      "placeholder": "​",
      "style": "IPY_MODEL_c4f5dc0bd3be4aa891091e43deadbc48",
      "value": " 4/4 [00:00&lt;00:00, 74.32ba/s]"
     }
    },
    "378cb60374e845beb48b5c932559e790": {
     "model_module": "@jupyter-widgets/base",
     "model_module_version": "1.2.0",
     "model_name": "LayoutModel",
     "state": {
      "_model_module": "@jupyter-widgets/base",
      "_model_module_version": "1.2.0",
      "_model_name": "LayoutModel",
      "_view_count": null,
      "_view_module": "@jupyter-widgets/base",
      "_view_module_version": "1.2.0",
      "_view_name": "LayoutView",
      "align_content": null,
      "align_items": null,
      "align_self": null,
      "border": null,
      "bottom": null,
      "display": null,
      "flex": null,
      "flex_flow": null,
      "grid_area": null,
      "grid_auto_columns": null,
      "grid_auto_flow": null,
      "grid_auto_rows": null,
      "grid_column": null,
      "grid_gap": null,
      "grid_row": null,
      "grid_template_areas": null,
      "grid_template_columns": null,
      "grid_template_rows": null,
      "height": null,
      "justify_content": null,
      "justify_items": null,
      "left": null,
      "margin": null,
      "max_height": null,
      "max_width": null,
      "min_height": null,
      "min_width": null,
      "object_fit": null,
      "object_position": null,
      "order": null,
      "overflow": null,
      "overflow_x": null,
      "overflow_y": null,
      "padding": null,
      "right": null,
      "top": null,
      "visibility": null,
      "width": null
     }
    },
    "3bef5063e30846cba297864f19318422": {
     "model_module": "@jupyter-widgets/base",
     "model_module_version": "1.2.0",
     "model_name": "LayoutModel",
     "state": {
      "_model_module": "@jupyter-widgets/base",
      "_model_module_version": "1.2.0",
      "_model_name": "LayoutModel",
      "_view_count": null,
      "_view_module": "@jupyter-widgets/base",
      "_view_module_version": "1.2.0",
      "_view_name": "LayoutView",
      "align_content": null,
      "align_items": null,
      "align_self": null,
      "border": null,
      "bottom": null,
      "display": null,
      "flex": null,
      "flex_flow": null,
      "grid_area": null,
      "grid_auto_columns": null,
      "grid_auto_flow": null,
      "grid_auto_rows": null,
      "grid_column": null,
      "grid_gap": null,
      "grid_row": null,
      "grid_template_areas": null,
      "grid_template_columns": null,
      "grid_template_rows": null,
      "height": null,
      "justify_content": null,
      "justify_items": null,
      "left": null,
      "margin": null,
      "max_height": null,
      "max_width": null,
      "min_height": null,
      "min_width": null,
      "object_fit": null,
      "object_position": null,
      "order": null,
      "overflow": null,
      "overflow_x": null,
      "overflow_y": null,
      "padding": null,
      "right": null,
      "top": null,
      "visibility": null,
      "width": null
     }
    },
    "3ccfaa3ba3ad4baaa68b4b2ca3f396a7": {
     "model_module": "@jupyter-widgets/controls",
     "model_module_version": "1.5.0",
     "model_name": "DescriptionStyleModel",
     "state": {
      "_model_module": "@jupyter-widgets/controls",
      "_model_module_version": "1.5.0",
      "_model_name": "DescriptionStyleModel",
      "_view_count": null,
      "_view_module": "@jupyter-widgets/base",
      "_view_module_version": "1.2.0",
      "_view_name": "StyleView",
      "description_width": ""
     }
    },
    "3f1d57e62b8c45bf83f2107e5803c430": {
     "model_module": "@jupyter-widgets/controls",
     "model_module_version": "1.5.0",
     "model_name": "HBoxModel",
     "state": {
      "_dom_classes": [],
      "_model_module": "@jupyter-widgets/controls",
      "_model_module_version": "1.5.0",
      "_model_name": "HBoxModel",
      "_view_count": null,
      "_view_module": "@jupyter-widgets/controls",
      "_view_module_version": "1.5.0",
      "_view_name": "HBoxView",
      "box_style": "",
      "children": [
       "IPY_MODEL_719906e201484ded9b781b9dad38f934",
       "IPY_MODEL_204723b0f09d4bf9ab57fd77c764eb18",
       "IPY_MODEL_98b226199dc54316b771f143c3009cc9"
      ],
      "layout": "IPY_MODEL_a52c9d7c77154b558535321558a99f82"
     }
    },
    "4014d89119054c25ac0d1938ac4e2f8a": {
     "model_module": "@jupyter-widgets/controls",
     "model_module_version": "1.5.0",
     "model_name": "HBoxModel",
     "state": {
      "_dom_classes": [],
      "_model_module": "@jupyter-widgets/controls",
      "_model_module_version": "1.5.0",
      "_model_name": "HBoxModel",
      "_view_count": null,
      "_view_module": "@jupyter-widgets/controls",
      "_view_module_version": "1.5.0",
      "_view_name": "HBoxView",
      "box_style": "",
      "children": [
       "IPY_MODEL_fa08a1c6fc6f49038a878076ae2809c5",
       "IPY_MODEL_f8e74bf4449f4d55bfc52d765ba44882",
       "IPY_MODEL_115ae9ce4fcd4ff5b5c18648e034c446"
      ],
      "layout": "IPY_MODEL_c8db6791b1e64c62b6df2f098738eaa4"
     }
    },
    "4201952adf02450bb106bc90b65b21a8": {
     "model_module": "@jupyter-widgets/controls",
     "model_module_version": "1.5.0",
     "model_name": "HTMLModel",
     "state": {
      "_dom_classes": [],
      "_model_module": "@jupyter-widgets/controls",
      "_model_module_version": "1.5.0",
      "_model_name": "HTMLModel",
      "_view_count": null,
      "_view_module": "@jupyter-widgets/controls",
      "_view_module_version": "1.5.0",
      "_view_name": "HTMLView",
      "description": "",
      "description_tooltip": null,
      "layout": "IPY_MODEL_92b6d40d90b74f1ab3085fd39ae7fb8a",
      "placeholder": "​",
      "style": "IPY_MODEL_1eb0e9573a374f36a9c23ff9be46eec5",
      "value": "Downloading: 100%"
     }
    },
    "423f0635aa8c43168698a2d19d13a2ac": {
     "model_module": "@jupyter-widgets/controls",
     "model_module_version": "1.5.0",
     "model_name": "ProgressStyleModel",
     "state": {
      "_model_module": "@jupyter-widgets/controls",
      "_model_module_version": "1.5.0",
      "_model_name": "ProgressStyleModel",
      "_view_count": null,
      "_view_module": "@jupyter-widgets/base",
      "_view_module_version": "1.2.0",
      "_view_name": "StyleView",
      "bar_color": null,
      "description_width": ""
     }
    },
    "4338db0dd26a4c11828326ca20ee4fde": {
     "model_module": "@jupyter-widgets/controls",
     "model_module_version": "1.5.0",
     "model_name": "ButtonStyleModel",
     "state": {
      "_model_module": "@jupyter-widgets/controls",
      "_model_module_version": "1.5.0",
      "_model_name": "ButtonStyleModel",
      "_view_count": null,
      "_view_module": "@jupyter-widgets/base",
      "_view_module_version": "1.2.0",
      "_view_name": "StyleView",
      "button_color": null,
      "font_weight": ""
     }
    },
    "44f30bfe15914a0991c82652cb7ba884": {
     "model_module": "@jupyter-widgets/controls",
     "model_module_version": "1.5.0",
     "model_name": "ProgressStyleModel",
     "state": {
      "_model_module": "@jupyter-widgets/controls",
      "_model_module_version": "1.5.0",
      "_model_name": "ProgressStyleModel",
      "_view_count": null,
      "_view_module": "@jupyter-widgets/base",
      "_view_module_version": "1.2.0",
      "_view_name": "StyleView",
      "bar_color": null,
      "description_width": ""
     }
    },
    "4597fce67897473a8e0dc6604002d3ae": {
     "model_module": "@jupyter-widgets/controls",
     "model_module_version": "1.5.0",
     "model_name": "VBoxModel",
     "state": {
      "_dom_classes": [],
      "_model_module": "@jupyter-widgets/controls",
      "_model_module_version": "1.5.0",
      "_model_name": "VBoxModel",
      "_view_count": null,
      "_view_module": "@jupyter-widgets/controls",
      "_view_module_version": "1.5.0",
      "_view_name": "VBoxView",
      "box_style": "",
      "children": [
       "IPY_MODEL_70619a1016d347bd9191267dcd005b56",
       "IPY_MODEL_c18dfdb314284e2a9d9c07bb4dcf1d49",
       "IPY_MODEL_09de7a45bdcf43019fac8faf21d37f4d"
      ],
      "layout": "IPY_MODEL_b449fbbb6b1b471a8d50eb9d6c26af09"
     }
    },
    "4ab5e489e07b41eba96d4c9fa9422973": {
     "model_module": "@jupyter-widgets/base",
     "model_module_version": "1.2.0",
     "model_name": "LayoutModel",
     "state": {
      "_model_module": "@jupyter-widgets/base",
      "_model_module_version": "1.2.0",
      "_model_name": "LayoutModel",
      "_view_count": null,
      "_view_module": "@jupyter-widgets/base",
      "_view_module_version": "1.2.0",
      "_view_name": "LayoutView",
      "align_content": null,
      "align_items": null,
      "align_self": null,
      "border": null,
      "bottom": null,
      "display": null,
      "flex": null,
      "flex_flow": null,
      "grid_area": null,
      "grid_auto_columns": null,
      "grid_auto_flow": null,
      "grid_auto_rows": null,
      "grid_column": null,
      "grid_gap": null,
      "grid_row": null,
      "grid_template_areas": null,
      "grid_template_columns": null,
      "grid_template_rows": null,
      "height": null,
      "justify_content": null,
      "justify_items": null,
      "left": null,
      "margin": null,
      "max_height": null,
      "max_width": null,
      "min_height": null,
      "min_width": null,
      "object_fit": null,
      "object_position": null,
      "order": null,
      "overflow": null,
      "overflow_x": null,
      "overflow_y": null,
      "padding": null,
      "right": null,
      "top": null,
      "visibility": null,
      "width": null
     }
    },
    "4b9862982b2c4d16ac3c5c14231a899e": {
     "model_module": "@jupyter-widgets/controls",
     "model_module_version": "1.5.0",
     "model_name": "HTMLModel",
     "state": {
      "_dom_classes": [],
      "_model_module": "@jupyter-widgets/controls",
      "_model_module_version": "1.5.0",
      "_model_name": "HTMLModel",
      "_view_count": null,
      "_view_module": "@jupyter-widgets/controls",
      "_view_module_version": "1.5.0",
      "_view_name": "HTMLView",
      "description": "",
      "description_tooltip": null,
      "layout": "IPY_MODEL_972b8b46f0e8440b96a8d31cd29acc39",
      "placeholder": "​",
      "style": "IPY_MODEL_182667b08f604c7786034c7959887540",
      "value": " 1647/1647 [00:18&lt;00:00, 104.34ex/s]"
     }
    },
    "4c8ef8e507f74ac795705a747df28a53": {
     "model_module": "@jupyter-widgets/controls",
     "model_module_version": "1.5.0",
     "model_name": "DescriptionStyleModel",
     "state": {
      "_model_module": "@jupyter-widgets/controls",
      "_model_module_version": "1.5.0",
      "_model_name": "DescriptionStyleModel",
      "_view_count": null,
      "_view_module": "@jupyter-widgets/base",
      "_view_module_version": "1.2.0",
      "_view_name": "StyleView",
      "description_width": ""
     }
    },
    "4c94411b85644270a88227f9b5d988e3": {
     "model_module": "@jupyter-widgets/base",
     "model_module_version": "1.2.0",
     "model_name": "LayoutModel",
     "state": {
      "_model_module": "@jupyter-widgets/base",
      "_model_module_version": "1.2.0",
      "_model_name": "LayoutModel",
      "_view_count": null,
      "_view_module": "@jupyter-widgets/base",
      "_view_module_version": "1.2.0",
      "_view_name": "LayoutView",
      "align_content": null,
      "align_items": null,
      "align_self": null,
      "border": null,
      "bottom": null,
      "display": null,
      "flex": null,
      "flex_flow": null,
      "grid_area": null,
      "grid_auto_columns": null,
      "grid_auto_flow": null,
      "grid_auto_rows": null,
      "grid_column": null,
      "grid_gap": null,
      "grid_row": null,
      "grid_template_areas": null,
      "grid_template_columns": null,
      "grid_template_rows": null,
      "height": null,
      "justify_content": null,
      "justify_items": null,
      "left": null,
      "margin": null,
      "max_height": null,
      "max_width": null,
      "min_height": null,
      "min_width": null,
      "object_fit": null,
      "object_position": null,
      "order": null,
      "overflow": null,
      "overflow_x": null,
      "overflow_y": null,
      "padding": null,
      "right": null,
      "top": null,
      "visibility": null,
      "width": null
     }
    },
    "4efa6acce72a4ae0adcc343a3ee12c03": {
     "model_module": "@jupyter-widgets/controls",
     "model_module_version": "1.5.0",
     "model_name": "HBoxModel",
     "state": {
      "_dom_classes": [],
      "_model_module": "@jupyter-widgets/controls",
      "_model_module_version": "1.5.0",
      "_model_name": "HBoxModel",
      "_view_count": null,
      "_view_module": "@jupyter-widgets/controls",
      "_view_module_version": "1.5.0",
      "_view_name": "HBoxView",
      "box_style": "",
      "children": [
       "IPY_MODEL_9f6f339043824c02b69b6bce5cadd778",
       "IPY_MODEL_26a58d21df4e4388b5b8bede6f2ca22f",
       "IPY_MODEL_1561e222b8f1499ab229eb1bb79a5af2"
      ],
      "layout": "IPY_MODEL_c7f85f54330841139e154a2662577896"
     }
    },
    "4fe9e026e1e74cf4ba5554e7a0460c2f": {
     "model_module": "@jupyter-widgets/controls",
     "model_module_version": "1.5.0",
     "model_name": "HBoxModel",
     "state": {
      "_dom_classes": [],
      "_model_module": "@jupyter-widgets/controls",
      "_model_module_version": "1.5.0",
      "_model_name": "HBoxModel",
      "_view_count": null,
      "_view_module": "@jupyter-widgets/controls",
      "_view_module_version": "1.5.0",
      "_view_name": "HBoxView",
      "box_style": "",
      "children": [
       "IPY_MODEL_db21a864f02e438dafefbf2ecf4192ae",
       "IPY_MODEL_fbd3b32a954c45c788eb8967103dec9d",
       "IPY_MODEL_f6c41bd10465450287aa50dd569a96a9"
      ],
      "layout": "IPY_MODEL_521e2c26f96a4de79782855121ea0766"
     }
    },
    "50c3d4631d34422d9527d93c3e19c052": {
     "model_module": "@jupyter-widgets/controls",
     "model_module_version": "1.5.0",
     "model_name": "HBoxModel",
     "state": {
      "_dom_classes": [],
      "_model_module": "@jupyter-widgets/controls",
      "_model_module_version": "1.5.0",
      "_model_name": "HBoxModel",
      "_view_count": null,
      "_view_module": "@jupyter-widgets/controls",
      "_view_module_version": "1.5.0",
      "_view_name": "HBoxView",
      "box_style": "",
      "children": [
       "IPY_MODEL_3035c0d0e8c44bb8ae229b3c8cf62087",
       "IPY_MODEL_c15dfe81f654439cb0d07ccaedceb070",
       "IPY_MODEL_9df48c7829a94c46adbff3d5a65520c7"
      ],
      "layout": "IPY_MODEL_ff7fef6949d9444aad4cda50971bf9da"
     }
    },
    "51bcae99621e4e0593d7e8923172e956": {
     "model_module": "@jupyter-widgets/controls",
     "model_module_version": "1.5.0",
     "model_name": "DescriptionStyleModel",
     "state": {
      "_model_module": "@jupyter-widgets/controls",
      "_model_module_version": "1.5.0",
      "_model_name": "DescriptionStyleModel",
      "_view_count": null,
      "_view_module": "@jupyter-widgets/base",
      "_view_module_version": "1.2.0",
      "_view_name": "StyleView",
      "description_width": ""
     }
    },
    "51ca68f7b0704d89964a5cbf9bf299bc": {
     "model_module": "@jupyter-widgets/controls",
     "model_module_version": "1.5.0",
     "model_name": "HTMLModel",
     "state": {
      "_dom_classes": [],
      "_model_module": "@jupyter-widgets/controls",
      "_model_module_version": "1.5.0",
      "_model_name": "HTMLModel",
      "_view_count": null,
      "_view_module": "@jupyter-widgets/controls",
      "_view_module_version": "1.5.0",
      "_view_name": "HTMLView",
      "description": "",
      "description_tooltip": null,
      "layout": "IPY_MODEL_9dca599b51a54c4287552abb939884d7",
      "placeholder": "​",
      "style": "IPY_MODEL_9db4eccd1dc247b295cfc18d259f5885",
      "value": "Downloading: 100%"
     }
    },
    "521e2c26f96a4de79782855121ea0766": {
     "model_module": "@jupyter-widgets/base",
     "model_module_version": "1.2.0",
     "model_name": "LayoutModel",
     "state": {
      "_model_module": "@jupyter-widgets/base",
      "_model_module_version": "1.2.0",
      "_model_name": "LayoutModel",
      "_view_count": null,
      "_view_module": "@jupyter-widgets/base",
      "_view_module_version": "1.2.0",
      "_view_name": "LayoutView",
      "align_content": null,
      "align_items": null,
      "align_self": null,
      "border": null,
      "bottom": null,
      "display": null,
      "flex": null,
      "flex_flow": null,
      "grid_area": null,
      "grid_auto_columns": null,
      "grid_auto_flow": null,
      "grid_auto_rows": null,
      "grid_column": null,
      "grid_gap": null,
      "grid_row": null,
      "grid_template_areas": null,
      "grid_template_columns": null,
      "grid_template_rows": null,
      "height": null,
      "justify_content": null,
      "justify_items": null,
      "left": null,
      "margin": null,
      "max_height": null,
      "max_width": null,
      "min_height": null,
      "min_width": null,
      "object_fit": null,
      "object_position": null,
      "order": null,
      "overflow": null,
      "overflow_x": null,
      "overflow_y": null,
      "padding": null,
      "right": null,
      "top": null,
      "visibility": null,
      "width": null
     }
    },
    "536cf457443a4a729af9ec7a33b06dfc": {
     "model_module": "@jupyter-widgets/controls",
     "model_module_version": "1.5.0",
     "model_name": "ProgressStyleModel",
     "state": {
      "_model_module": "@jupyter-widgets/controls",
      "_model_module_version": "1.5.0",
      "_model_name": "ProgressStyleModel",
      "_view_count": null,
      "_view_module": "@jupyter-widgets/base",
      "_view_module_version": "1.2.0",
      "_view_name": "StyleView",
      "bar_color": null,
      "description_width": ""
     }
    },
    "562b1a7721654e5190079e152a25f900": {
     "model_module": "@jupyter-widgets/controls",
     "model_module_version": "1.5.0",
     "model_name": "DescriptionStyleModel",
     "state": {
      "_model_module": "@jupyter-widgets/controls",
      "_model_module_version": "1.5.0",
      "_model_name": "DescriptionStyleModel",
      "_view_count": null,
      "_view_module": "@jupyter-widgets/base",
      "_view_module_version": "1.2.0",
      "_view_name": "StyleView",
      "description_width": ""
     }
    },
    "5738d171b6744ae2a991751a6bc2d850": {
     "model_module": "@jupyter-widgets/base",
     "model_module_version": "1.2.0",
     "model_name": "LayoutModel",
     "state": {
      "_model_module": "@jupyter-widgets/base",
      "_model_module_version": "1.2.0",
      "_model_name": "LayoutModel",
      "_view_count": null,
      "_view_module": "@jupyter-widgets/base",
      "_view_module_version": "1.2.0",
      "_view_name": "LayoutView",
      "align_content": null,
      "align_items": null,
      "align_self": null,
      "border": null,
      "bottom": null,
      "display": null,
      "flex": null,
      "flex_flow": null,
      "grid_area": null,
      "grid_auto_columns": null,
      "grid_auto_flow": null,
      "grid_auto_rows": null,
      "grid_column": null,
      "grid_gap": null,
      "grid_row": null,
      "grid_template_areas": null,
      "grid_template_columns": null,
      "grid_template_rows": null,
      "height": null,
      "justify_content": null,
      "justify_items": null,
      "left": null,
      "margin": null,
      "max_height": null,
      "max_width": null,
      "min_height": null,
      "min_width": null,
      "object_fit": null,
      "object_position": null,
      "order": null,
      "overflow": null,
      "overflow_x": null,
      "overflow_y": null,
      "padding": null,
      "right": null,
      "top": null,
      "visibility": null,
      "width": null
     }
    },
    "576e9c1052e9495ca876e5a4115663b7": {
     "model_module": "@jupyter-widgets/controls",
     "model_module_version": "1.5.0",
     "model_name": "HTMLModel",
     "state": {
      "_dom_classes": [],
      "_model_module": "@jupyter-widgets/controls",
      "_model_module_version": "1.5.0",
      "_model_name": "HTMLModel",
      "_view_count": null,
      "_view_module": "@jupyter-widgets/controls",
      "_view_module_version": "1.5.0",
      "_view_name": "HTMLView",
      "description": "",
      "description_tooltip": null,
      "layout": "IPY_MODEL_378cb60374e845beb48b5c932559e790",
      "placeholder": "​",
      "style": "IPY_MODEL_90eb745a344d445c931a9137c934425d",
      "value": "100%"
     }
    },
    "5799f1ce85ec4722a48d45a666aee28b": {
     "model_module": "@jupyter-widgets/controls",
     "model_module_version": "1.5.0",
     "model_name": "DescriptionStyleModel",
     "state": {
      "_model_module": "@jupyter-widgets/controls",
      "_model_module_version": "1.5.0",
      "_model_name": "DescriptionStyleModel",
      "_view_count": null,
      "_view_module": "@jupyter-widgets/base",
      "_view_module_version": "1.2.0",
      "_view_name": "StyleView",
      "description_width": ""
     }
    },
    "5923ee1f3d31466c949f9abb7f98ee48": {
     "model_module": "@jupyter-widgets/base",
     "model_module_version": "1.2.0",
     "model_name": "LayoutModel",
     "state": {
      "_model_module": "@jupyter-widgets/base",
      "_model_module_version": "1.2.0",
      "_model_name": "LayoutModel",
      "_view_count": null,
      "_view_module": "@jupyter-widgets/base",
      "_view_module_version": "1.2.0",
      "_view_name": "LayoutView",
      "align_content": null,
      "align_items": null,
      "align_self": null,
      "border": null,
      "bottom": null,
      "display": null,
      "flex": null,
      "flex_flow": null,
      "grid_area": null,
      "grid_auto_columns": null,
      "grid_auto_flow": null,
      "grid_auto_rows": null,
      "grid_column": null,
      "grid_gap": null,
      "grid_row": null,
      "grid_template_areas": null,
      "grid_template_columns": null,
      "grid_template_rows": null,
      "height": null,
      "justify_content": null,
      "justify_items": null,
      "left": null,
      "margin": null,
      "max_height": null,
      "max_width": null,
      "min_height": null,
      "min_width": null,
      "object_fit": null,
      "object_position": null,
      "order": null,
      "overflow": null,
      "overflow_x": null,
      "overflow_y": null,
      "padding": null,
      "right": null,
      "top": null,
      "visibility": null,
      "width": null
     }
    },
    "5ac1a0aaf868461ca207a09079ca6c53": {
     "model_module": "@jupyter-widgets/controls",
     "model_module_version": "1.5.0",
     "model_name": "HBoxModel",
     "state": {
      "_dom_classes": [],
      "_model_module": "@jupyter-widgets/controls",
      "_model_module_version": "1.5.0",
      "_model_name": "HBoxModel",
      "_view_count": null,
      "_view_module": "@jupyter-widgets/controls",
      "_view_module_version": "1.5.0",
      "_view_name": "HBoxView",
      "box_style": "",
      "children": [
       "IPY_MODEL_2ea0e8ecacb74670b9f9a3455e496eda",
       "IPY_MODEL_a89587d630fa44bab17fed5a58ebb68b",
       "IPY_MODEL_7ca6e27713b54a03b5bd52e626f33fc7"
      ],
      "layout": "IPY_MODEL_5e9e02a9b0bd473081cafbd5bf128507"
     }
    },
    "5e9a5207f2ff4bb3a85c5c445be7fa96": {
     "model_module": "@jupyter-widgets/base",
     "model_module_version": "1.2.0",
     "model_name": "LayoutModel",
     "state": {
      "_model_module": "@jupyter-widgets/base",
      "_model_module_version": "1.2.0",
      "_model_name": "LayoutModel",
      "_view_count": null,
      "_view_module": "@jupyter-widgets/base",
      "_view_module_version": "1.2.0",
      "_view_name": "LayoutView",
      "align_content": null,
      "align_items": null,
      "align_self": null,
      "border": null,
      "bottom": null,
      "display": null,
      "flex": null,
      "flex_flow": null,
      "grid_area": null,
      "grid_auto_columns": null,
      "grid_auto_flow": null,
      "grid_auto_rows": null,
      "grid_column": null,
      "grid_gap": null,
      "grid_row": null,
      "grid_template_areas": null,
      "grid_template_columns": null,
      "grid_template_rows": null,
      "height": null,
      "justify_content": null,
      "justify_items": null,
      "left": null,
      "margin": null,
      "max_height": null,
      "max_width": null,
      "min_height": null,
      "min_width": null,
      "object_fit": null,
      "object_position": null,
      "order": null,
      "overflow": null,
      "overflow_x": null,
      "overflow_y": null,
      "padding": null,
      "right": null,
      "top": null,
      "visibility": null,
      "width": null
     }
    },
    "5e9e02a9b0bd473081cafbd5bf128507": {
     "model_module": "@jupyter-widgets/base",
     "model_module_version": "1.2.0",
     "model_name": "LayoutModel",
     "state": {
      "_model_module": "@jupyter-widgets/base",
      "_model_module_version": "1.2.0",
      "_model_name": "LayoutModel",
      "_view_count": null,
      "_view_module": "@jupyter-widgets/base",
      "_view_module_version": "1.2.0",
      "_view_name": "LayoutView",
      "align_content": null,
      "align_items": null,
      "align_self": null,
      "border": null,
      "bottom": null,
      "display": null,
      "flex": null,
      "flex_flow": null,
      "grid_area": null,
      "grid_auto_columns": null,
      "grid_auto_flow": null,
      "grid_auto_rows": null,
      "grid_column": null,
      "grid_gap": null,
      "grid_row": null,
      "grid_template_areas": null,
      "grid_template_columns": null,
      "grid_template_rows": null,
      "height": null,
      "justify_content": null,
      "justify_items": null,
      "left": null,
      "margin": null,
      "max_height": null,
      "max_width": null,
      "min_height": null,
      "min_width": null,
      "object_fit": null,
      "object_position": null,
      "order": null,
      "overflow": null,
      "overflow_x": null,
      "overflow_y": null,
      "padding": null,
      "right": null,
      "top": null,
      "visibility": null,
      "width": null
     }
    },
    "604598e08be24d8daee5193119855567": {
     "model_module": "@jupyter-widgets/base",
     "model_module_version": "1.2.0",
     "model_name": "LayoutModel",
     "state": {
      "_model_module": "@jupyter-widgets/base",
      "_model_module_version": "1.2.0",
      "_model_name": "LayoutModel",
      "_view_count": null,
      "_view_module": "@jupyter-widgets/base",
      "_view_module_version": "1.2.0",
      "_view_name": "LayoutView",
      "align_content": null,
      "align_items": null,
      "align_self": null,
      "border": null,
      "bottom": null,
      "display": null,
      "flex": null,
      "flex_flow": null,
      "grid_area": null,
      "grid_auto_columns": null,
      "grid_auto_flow": null,
      "grid_auto_rows": null,
      "grid_column": null,
      "grid_gap": null,
      "grid_row": null,
      "grid_template_areas": null,
      "grid_template_columns": null,
      "grid_template_rows": null,
      "height": null,
      "justify_content": null,
      "justify_items": null,
      "left": null,
      "margin": null,
      "max_height": null,
      "max_width": null,
      "min_height": null,
      "min_width": null,
      "object_fit": null,
      "object_position": null,
      "order": null,
      "overflow": null,
      "overflow_x": null,
      "overflow_y": null,
      "padding": null,
      "right": null,
      "top": null,
      "visibility": null,
      "width": null
     }
    },
    "60edc69af033421c9aba4fc943f2c216": {
     "model_module": "@jupyter-widgets/controls",
     "model_module_version": "1.5.0",
     "model_name": "FloatProgressModel",
     "state": {
      "_dom_classes": [],
      "_model_module": "@jupyter-widgets/controls",
      "_model_module_version": "1.5.0",
      "_model_name": "FloatProgressModel",
      "_view_count": null,
      "_view_module": "@jupyter-widgets/controls",
      "_view_module_version": "1.5.0",
      "_view_name": "ProgressView",
      "bar_style": "success",
      "description": "",
      "description_tooltip": null,
      "layout": "IPY_MODEL_9ead4f9338b54d3099708b011af67d23",
      "max": 1768,
      "min": 0,
      "orientation": "horizontal",
      "style": "IPY_MODEL_8dc8b6250b434548b0458a21da8adf84",
      "value": 1768
     }
    },
    "6500309e31d74e639af7ca5ca459ed2e": {
     "model_module": "@jupyter-widgets/controls",
     "model_module_version": "1.5.0",
     "model_name": "DescriptionStyleModel",
     "state": {
      "_model_module": "@jupyter-widgets/controls",
      "_model_module_version": "1.5.0",
      "_model_name": "DescriptionStyleModel",
      "_view_count": null,
      "_view_module": "@jupyter-widgets/base",
      "_view_module_version": "1.2.0",
      "_view_name": "StyleView",
      "description_width": ""
     }
    },
    "65638636bae241c4854bc4f4a5072df9": {
     "model_module": "@jupyter-widgets/base",
     "model_module_version": "1.2.0",
     "model_name": "LayoutModel",
     "state": {
      "_model_module": "@jupyter-widgets/base",
      "_model_module_version": "1.2.0",
      "_model_name": "LayoutModel",
      "_view_count": null,
      "_view_module": "@jupyter-widgets/base",
      "_view_module_version": "1.2.0",
      "_view_name": "LayoutView",
      "align_content": null,
      "align_items": null,
      "align_self": null,
      "border": null,
      "bottom": null,
      "display": null,
      "flex": null,
      "flex_flow": null,
      "grid_area": null,
      "grid_auto_columns": null,
      "grid_auto_flow": null,
      "grid_auto_rows": null,
      "grid_column": null,
      "grid_gap": null,
      "grid_row": null,
      "grid_template_areas": null,
      "grid_template_columns": null,
      "grid_template_rows": null,
      "height": null,
      "justify_content": null,
      "justify_items": null,
      "left": null,
      "margin": null,
      "max_height": null,
      "max_width": null,
      "min_height": null,
      "min_width": null,
      "object_fit": null,
      "object_position": null,
      "order": null,
      "overflow": null,
      "overflow_x": null,
      "overflow_y": null,
      "padding": null,
      "right": null,
      "top": null,
      "visibility": null,
      "width": null
     }
    },
    "65ef2d455e674db88519c460d0791716": {
     "model_module": "@jupyter-widgets/base",
     "model_module_version": "1.2.0",
     "model_name": "LayoutModel",
     "state": {
      "_model_module": "@jupyter-widgets/base",
      "_model_module_version": "1.2.0",
      "_model_name": "LayoutModel",
      "_view_count": null,
      "_view_module": "@jupyter-widgets/base",
      "_view_module_version": "1.2.0",
      "_view_name": "LayoutView",
      "align_content": null,
      "align_items": null,
      "align_self": null,
      "border": null,
      "bottom": null,
      "display": null,
      "flex": null,
      "flex_flow": null,
      "grid_area": null,
      "grid_auto_columns": null,
      "grid_auto_flow": null,
      "grid_auto_rows": null,
      "grid_column": null,
      "grid_gap": null,
      "grid_row": null,
      "grid_template_areas": null,
      "grid_template_columns": null,
      "grid_template_rows": null,
      "height": null,
      "justify_content": null,
      "justify_items": null,
      "left": null,
      "margin": null,
      "max_height": null,
      "max_width": null,
      "min_height": null,
      "min_width": null,
      "object_fit": null,
      "object_position": null,
      "order": null,
      "overflow": null,
      "overflow_x": null,
      "overflow_y": null,
      "padding": null,
      "right": null,
      "top": null,
      "visibility": null,
      "width": null
     }
    },
    "66dbc3cb68e549788aca9b885916ac21": {
     "model_module": "@jupyter-widgets/controls",
     "model_module_version": "1.5.0",
     "model_name": "DescriptionStyleModel",
     "state": {
      "_model_module": "@jupyter-widgets/controls",
      "_model_module_version": "1.5.0",
      "_model_name": "DescriptionStyleModel",
      "_view_count": null,
      "_view_module": "@jupyter-widgets/base",
      "_view_module_version": "1.2.0",
      "_view_name": "StyleView",
      "description_width": ""
     }
    },
    "678ac926ffa64e4482f0461aecbf4484": {
     "model_module": "@jupyter-widgets/controls",
     "model_module_version": "1.5.0",
     "model_name": "ProgressStyleModel",
     "state": {
      "_model_module": "@jupyter-widgets/controls",
      "_model_module_version": "1.5.0",
      "_model_name": "ProgressStyleModel",
      "_view_count": null,
      "_view_module": "@jupyter-widgets/base",
      "_view_module_version": "1.2.0",
      "_view_name": "StyleView",
      "bar_color": null,
      "description_width": ""
     }
    },
    "68830a2f931548aca647cb67ec1f7d22": {
     "model_module": "@jupyter-widgets/base",
     "model_module_version": "1.2.0",
     "model_name": "LayoutModel",
     "state": {
      "_model_module": "@jupyter-widgets/base",
      "_model_module_version": "1.2.0",
      "_model_name": "LayoutModel",
      "_view_count": null,
      "_view_module": "@jupyter-widgets/base",
      "_view_module_version": "1.2.0",
      "_view_name": "LayoutView",
      "align_content": null,
      "align_items": null,
      "align_self": null,
      "border": null,
      "bottom": null,
      "display": null,
      "flex": null,
      "flex_flow": null,
      "grid_area": null,
      "grid_auto_columns": null,
      "grid_auto_flow": null,
      "grid_auto_rows": null,
      "grid_column": null,
      "grid_gap": null,
      "grid_row": null,
      "grid_template_areas": null,
      "grid_template_columns": null,
      "grid_template_rows": null,
      "height": null,
      "justify_content": null,
      "justify_items": null,
      "left": null,
      "margin": null,
      "max_height": null,
      "max_width": null,
      "min_height": null,
      "min_width": null,
      "object_fit": null,
      "object_position": null,
      "order": null,
      "overflow": null,
      "overflow_x": null,
      "overflow_y": null,
      "padding": null,
      "right": null,
      "top": null,
      "visibility": null,
      "width": null
     }
    },
    "68dd5b7aa43e4156b72db64761cf66e4": {
     "model_module": "@jupyter-widgets/controls",
     "model_module_version": "1.5.0",
     "model_name": "DescriptionStyleModel",
     "state": {
      "_model_module": "@jupyter-widgets/controls",
      "_model_module_version": "1.5.0",
      "_model_name": "DescriptionStyleModel",
      "_view_count": null,
      "_view_module": "@jupyter-widgets/base",
      "_view_module_version": "1.2.0",
      "_view_name": "StyleView",
      "description_width": ""
     }
    },
    "6a86593225b145f4b8116df9e6b0888e": {
     "model_module": "@jupyter-widgets/base",
     "model_module_version": "1.2.0",
     "model_name": "LayoutModel",
     "state": {
      "_model_module": "@jupyter-widgets/base",
      "_model_module_version": "1.2.0",
      "_model_name": "LayoutModel",
      "_view_count": null,
      "_view_module": "@jupyter-widgets/base",
      "_view_module_version": "1.2.0",
      "_view_name": "LayoutView",
      "align_content": null,
      "align_items": null,
      "align_self": null,
      "border": null,
      "bottom": null,
      "display": null,
      "flex": null,
      "flex_flow": null,
      "grid_area": null,
      "grid_auto_columns": null,
      "grid_auto_flow": null,
      "grid_auto_rows": null,
      "grid_column": null,
      "grid_gap": null,
      "grid_row": null,
      "grid_template_areas": null,
      "grid_template_columns": null,
      "grid_template_rows": null,
      "height": null,
      "justify_content": null,
      "justify_items": null,
      "left": null,
      "margin": null,
      "max_height": null,
      "max_width": null,
      "min_height": null,
      "min_width": null,
      "object_fit": null,
      "object_position": null,
      "order": null,
      "overflow": null,
      "overflow_x": null,
      "overflow_y": null,
      "padding": null,
      "right": null,
      "top": null,
      "visibility": null,
      "width": null
     }
    },
    "6be66d664dc64027953e5fb9eed3571c": {
     "model_module": "@jupyter-widgets/controls",
     "model_module_version": "1.5.0",
     "model_name": "ProgressStyleModel",
     "state": {
      "_model_module": "@jupyter-widgets/controls",
      "_model_module_version": "1.5.0",
      "_model_name": "ProgressStyleModel",
      "_view_count": null,
      "_view_module": "@jupyter-widgets/base",
      "_view_module_version": "1.2.0",
      "_view_name": "StyleView",
      "bar_color": null,
      "description_width": ""
     }
    },
    "6c0b90a363434052999ec37f4590f355": {
     "model_module": "@jupyter-widgets/base",
     "model_module_version": "1.2.0",
     "model_name": "LayoutModel",
     "state": {
      "_model_module": "@jupyter-widgets/base",
      "_model_module_version": "1.2.0",
      "_model_name": "LayoutModel",
      "_view_count": null,
      "_view_module": "@jupyter-widgets/base",
      "_view_module_version": "1.2.0",
      "_view_name": "LayoutView",
      "align_content": null,
      "align_items": null,
      "align_self": null,
      "border": null,
      "bottom": null,
      "display": null,
      "flex": null,
      "flex_flow": null,
      "grid_area": null,
      "grid_auto_columns": null,
      "grid_auto_flow": null,
      "grid_auto_rows": null,
      "grid_column": null,
      "grid_gap": null,
      "grid_row": null,
      "grid_template_areas": null,
      "grid_template_columns": null,
      "grid_template_rows": null,
      "height": null,
      "justify_content": null,
      "justify_items": null,
      "left": null,
      "margin": null,
      "max_height": null,
      "max_width": null,
      "min_height": null,
      "min_width": null,
      "object_fit": null,
      "object_position": null,
      "order": null,
      "overflow": null,
      "overflow_x": null,
      "overflow_y": null,
      "padding": null,
      "right": null,
      "top": null,
      "visibility": null,
      "width": null
     }
    },
    "6fe9c246de494ca9a7b631604504c47a": {
     "model_module": "@jupyter-widgets/controls",
     "model_module_version": "1.5.0",
     "model_name": "ProgressStyleModel",
     "state": {
      "_model_module": "@jupyter-widgets/controls",
      "_model_module_version": "1.5.0",
      "_model_name": "ProgressStyleModel",
      "_view_count": null,
      "_view_module": "@jupyter-widgets/base",
      "_view_module_version": "1.2.0",
      "_view_name": "StyleView",
      "bar_color": null,
      "description_width": ""
     }
    },
    "70619a1016d347bd9191267dcd005b56": {
     "model_module": "@jupyter-widgets/controls",
     "model_module_version": "1.5.0",
     "model_name": "HTMLModel",
     "state": {
      "_dom_classes": [],
      "_model_module": "@jupyter-widgets/controls",
      "_model_module_version": "1.5.0",
      "_model_name": "HTMLModel",
      "_view_count": null,
      "_view_module": "@jupyter-widgets/controls",
      "_view_module_version": "1.5.0",
      "_view_name": "HTMLView",
      "description": "",
      "description_tooltip": null,
      "layout": "IPY_MODEL_32234e5488dc4e958a7b4edf284085b1",
      "placeholder": "​",
      "style": "IPY_MODEL_68dd5b7aa43e4156b72db64761cf66e4",
      "value": "<center>\n<img src=https://huggingface.co/front/assets/huggingface_logo-noborder.svg alt='Hugging Face'>\n<br>\n<b>The AI community building the future</b>\n<br>\nImmediately click login after typing your password or it might be stored in plain text in this notebook file.\n</center>"
     }
    },
    "70d9885aa6024eebbcb099c715bbae31": {
     "model_module": "@jupyter-widgets/controls",
     "model_module_version": "1.5.0",
     "model_name": "DescriptionStyleModel",
     "state": {
      "_model_module": "@jupyter-widgets/controls",
      "_model_module_version": "1.5.0",
      "_model_name": "DescriptionStyleModel",
      "_view_count": null,
      "_view_module": "@jupyter-widgets/base",
      "_view_module_version": "1.2.0",
      "_view_name": "StyleView",
      "description_width": ""
     }
    },
    "719906e201484ded9b781b9dad38f934": {
     "model_module": "@jupyter-widgets/controls",
     "model_module_version": "1.5.0",
     "model_name": "HTMLModel",
     "state": {
      "_dom_classes": [],
      "_model_module": "@jupyter-widgets/controls",
      "_model_module_version": "1.5.0",
      "_model_name": "HTMLModel",
      "_view_count": null,
      "_view_module": "@jupyter-widgets/controls",
      "_view_module_version": "1.5.0",
      "_view_name": "HTMLView",
      "description": "",
      "description_tooltip": null,
      "layout": "IPY_MODEL_a0f19ef147eb458b9e8b31e080acf150",
      "placeholder": "​",
      "style": "IPY_MODEL_d258296f72f541c291db35ea264527de",
      "value": "100%"
     }
    },
    "762da8b71d714f3c9898d54c26ded701": {
     "model_module": "@jupyter-widgets/base",
     "model_module_version": "1.2.0",
     "model_name": "LayoutModel",
     "state": {
      "_model_module": "@jupyter-widgets/base",
      "_model_module_version": "1.2.0",
      "_model_name": "LayoutModel",
      "_view_count": null,
      "_view_module": "@jupyter-widgets/base",
      "_view_module_version": "1.2.0",
      "_view_name": "LayoutView",
      "align_content": null,
      "align_items": null,
      "align_self": null,
      "border": null,
      "bottom": null,
      "display": null,
      "flex": null,
      "flex_flow": null,
      "grid_area": null,
      "grid_auto_columns": null,
      "grid_auto_flow": null,
      "grid_auto_rows": null,
      "grid_column": null,
      "grid_gap": null,
      "grid_row": null,
      "grid_template_areas": null,
      "grid_template_columns": null,
      "grid_template_rows": null,
      "height": null,
      "justify_content": null,
      "justify_items": null,
      "left": null,
      "margin": null,
      "max_height": null,
      "max_width": null,
      "min_height": null,
      "min_width": null,
      "object_fit": null,
      "object_position": null,
      "order": null,
      "overflow": null,
      "overflow_x": null,
      "overflow_y": null,
      "padding": null,
      "right": null,
      "top": null,
      "visibility": null,
      "width": null
     }
    },
    "767a77c2f6ea45aca7fc1796a349afbc": {
     "model_module": "@jupyter-widgets/controls",
     "model_module_version": "1.5.0",
     "model_name": "DescriptionStyleModel",
     "state": {
      "_model_module": "@jupyter-widgets/controls",
      "_model_module_version": "1.5.0",
      "_model_name": "DescriptionStyleModel",
      "_view_count": null,
      "_view_module": "@jupyter-widgets/base",
      "_view_module_version": "1.2.0",
      "_view_name": "StyleView",
      "description_width": ""
     }
    },
    "7716e1bdb2fa48caa0e5b747d8417ed9": {
     "model_module": "@jupyter-widgets/base",
     "model_module_version": "1.2.0",
     "model_name": "LayoutModel",
     "state": {
      "_model_module": "@jupyter-widgets/base",
      "_model_module_version": "1.2.0",
      "_model_name": "LayoutModel",
      "_view_count": null,
      "_view_module": "@jupyter-widgets/base",
      "_view_module_version": "1.2.0",
      "_view_name": "LayoutView",
      "align_content": null,
      "align_items": null,
      "align_self": null,
      "border": null,
      "bottom": null,
      "display": null,
      "flex": null,
      "flex_flow": null,
      "grid_area": null,
      "grid_auto_columns": null,
      "grid_auto_flow": null,
      "grid_auto_rows": null,
      "grid_column": null,
      "grid_gap": null,
      "grid_row": null,
      "grid_template_areas": null,
      "grid_template_columns": null,
      "grid_template_rows": null,
      "height": null,
      "justify_content": null,
      "justify_items": null,
      "left": null,
      "margin": null,
      "max_height": null,
      "max_width": null,
      "min_height": null,
      "min_width": null,
      "object_fit": null,
      "object_position": null,
      "order": null,
      "overflow": null,
      "overflow_x": null,
      "overflow_y": null,
      "padding": null,
      "right": null,
      "top": null,
      "visibility": null,
      "width": null
     }
    },
    "77f181b4a00249a1b87089c1abe7b211": {
     "model_module": "@jupyter-widgets/base",
     "model_module_version": "1.2.0",
     "model_name": "LayoutModel",
     "state": {
      "_model_module": "@jupyter-widgets/base",
      "_model_module_version": "1.2.0",
      "_model_name": "LayoutModel",
      "_view_count": null,
      "_view_module": "@jupyter-widgets/base",
      "_view_module_version": "1.2.0",
      "_view_name": "LayoutView",
      "align_content": null,
      "align_items": null,
      "align_self": null,
      "border": null,
      "bottom": null,
      "display": null,
      "flex": null,
      "flex_flow": null,
      "grid_area": null,
      "grid_auto_columns": null,
      "grid_auto_flow": null,
      "grid_auto_rows": null,
      "grid_column": null,
      "grid_gap": null,
      "grid_row": null,
      "grid_template_areas": null,
      "grid_template_columns": null,
      "grid_template_rows": null,
      "height": null,
      "justify_content": null,
      "justify_items": null,
      "left": null,
      "margin": null,
      "max_height": null,
      "max_width": null,
      "min_height": null,
      "min_width": null,
      "object_fit": null,
      "object_position": null,
      "order": null,
      "overflow": null,
      "overflow_x": null,
      "overflow_y": null,
      "padding": null,
      "right": null,
      "top": null,
      "visibility": null,
      "width": null
     }
    },
    "79bc4834446d4b358814b7ed7046972c": {
     "model_module": "@jupyter-widgets/base",
     "model_module_version": "1.2.0",
     "model_name": "LayoutModel",
     "state": {
      "_model_module": "@jupyter-widgets/base",
      "_model_module_version": "1.2.0",
      "_model_name": "LayoutModel",
      "_view_count": null,
      "_view_module": "@jupyter-widgets/base",
      "_view_module_version": "1.2.0",
      "_view_name": "LayoutView",
      "align_content": null,
      "align_items": null,
      "align_self": null,
      "border": null,
      "bottom": null,
      "display": null,
      "flex": null,
      "flex_flow": null,
      "grid_area": null,
      "grid_auto_columns": null,
      "grid_auto_flow": null,
      "grid_auto_rows": null,
      "grid_column": null,
      "grid_gap": null,
      "grid_row": null,
      "grid_template_areas": null,
      "grid_template_columns": null,
      "grid_template_rows": null,
      "height": null,
      "justify_content": null,
      "justify_items": null,
      "left": null,
      "margin": null,
      "max_height": null,
      "max_width": null,
      "min_height": null,
      "min_width": null,
      "object_fit": null,
      "object_position": null,
      "order": null,
      "overflow": null,
      "overflow_x": null,
      "overflow_y": null,
      "padding": null,
      "right": null,
      "top": null,
      "visibility": null,
      "width": null
     }
    },
    "7a16d09a448d47938a4c016a54522ae3": {
     "model_module": "@jupyter-widgets/controls",
     "model_module_version": "1.5.0",
     "model_name": "DescriptionStyleModel",
     "state": {
      "_model_module": "@jupyter-widgets/controls",
      "_model_module_version": "1.5.0",
      "_model_name": "DescriptionStyleModel",
      "_view_count": null,
      "_view_module": "@jupyter-widgets/base",
      "_view_module_version": "1.2.0",
      "_view_name": "StyleView",
      "description_width": ""
     }
    },
    "7ca6e27713b54a03b5bd52e626f33fc7": {
     "model_module": "@jupyter-widgets/controls",
     "model_module_version": "1.5.0",
     "model_name": "HTMLModel",
     "state": {
      "_dom_classes": [],
      "_model_module": "@jupyter-widgets/controls",
      "_model_module_version": "1.5.0",
      "_model_name": "HTMLModel",
      "_view_count": null,
      "_view_module": "@jupyter-widgets/controls",
      "_view_module_version": "1.5.0",
      "_view_name": "HTMLView",
      "description": "",
      "description_tooltip": null,
      "layout": "IPY_MODEL_de70b5deb8894bf8ab9f75a79a228f8d",
      "placeholder": "​",
      "style": "IPY_MODEL_2896391751074c528768de57d29d807e",
      "value": " 7.94k/7.94k [16:45&lt;00:00, 4.66B/s]"
     }
    },
    "7ca9f1f85e714dce8eeda6d4f6d50992": {
     "model_module": "@jupyter-widgets/base",
     "model_module_version": "1.2.0",
     "model_name": "LayoutModel",
     "state": {
      "_model_module": "@jupyter-widgets/base",
      "_model_module_version": "1.2.0",
      "_model_name": "LayoutModel",
      "_view_count": null,
      "_view_module": "@jupyter-widgets/base",
      "_view_module_version": "1.2.0",
      "_view_name": "LayoutView",
      "align_content": null,
      "align_items": null,
      "align_self": null,
      "border": null,
      "bottom": null,
      "display": null,
      "flex": null,
      "flex_flow": null,
      "grid_area": null,
      "grid_auto_columns": null,
      "grid_auto_flow": null,
      "grid_auto_rows": null,
      "grid_column": null,
      "grid_gap": null,
      "grid_row": null,
      "grid_template_areas": null,
      "grid_template_columns": null,
      "grid_template_rows": null,
      "height": null,
      "justify_content": null,
      "justify_items": null,
      "left": null,
      "margin": null,
      "max_height": null,
      "max_width": null,
      "min_height": null,
      "min_width": null,
      "object_fit": null,
      "object_position": null,
      "order": null,
      "overflow": null,
      "overflow_x": null,
      "overflow_y": null,
      "padding": null,
      "right": null,
      "top": null,
      "visibility": null,
      "width": null
     }
    },
    "8230dbb52f644499b6220614180f762f": {
     "model_module": "@jupyter-widgets/base",
     "model_module_version": "1.2.0",
     "model_name": "LayoutModel",
     "state": {
      "_model_module": "@jupyter-widgets/base",
      "_model_module_version": "1.2.0",
      "_model_name": "LayoutModel",
      "_view_count": null,
      "_view_module": "@jupyter-widgets/base",
      "_view_module_version": "1.2.0",
      "_view_name": "LayoutView",
      "align_content": null,
      "align_items": null,
      "align_self": null,
      "border": null,
      "bottom": null,
      "display": null,
      "flex": null,
      "flex_flow": null,
      "grid_area": null,
      "grid_auto_columns": null,
      "grid_auto_flow": null,
      "grid_auto_rows": null,
      "grid_column": null,
      "grid_gap": null,
      "grid_row": null,
      "grid_template_areas": null,
      "grid_template_columns": null,
      "grid_template_rows": null,
      "height": null,
      "justify_content": null,
      "justify_items": null,
      "left": null,
      "margin": null,
      "max_height": null,
      "max_width": null,
      "min_height": null,
      "min_width": null,
      "object_fit": null,
      "object_position": null,
      "order": null,
      "overflow": null,
      "overflow_x": null,
      "overflow_y": null,
      "padding": null,
      "right": null,
      "top": null,
      "visibility": null,
      "width": null
     }
    },
    "858a60a2f21040d184801808810ed4e3": {
     "model_module": "@jupyter-widgets/base",
     "model_module_version": "1.2.0",
     "model_name": "LayoutModel",
     "state": {
      "_model_module": "@jupyter-widgets/base",
      "_model_module_version": "1.2.0",
      "_model_name": "LayoutModel",
      "_view_count": null,
      "_view_module": "@jupyter-widgets/base",
      "_view_module_version": "1.2.0",
      "_view_name": "LayoutView",
      "align_content": null,
      "align_items": null,
      "align_self": null,
      "border": null,
      "bottom": null,
      "display": null,
      "flex": null,
      "flex_flow": null,
      "grid_area": null,
      "grid_auto_columns": null,
      "grid_auto_flow": null,
      "grid_auto_rows": null,
      "grid_column": null,
      "grid_gap": null,
      "grid_row": null,
      "grid_template_areas": null,
      "grid_template_columns": null,
      "grid_template_rows": null,
      "height": null,
      "justify_content": null,
      "justify_items": null,
      "left": null,
      "margin": null,
      "max_height": null,
      "max_width": null,
      "min_height": null,
      "min_width": null,
      "object_fit": null,
      "object_position": null,
      "order": null,
      "overflow": null,
      "overflow_x": null,
      "overflow_y": null,
      "padding": null,
      "right": null,
      "top": null,
      "visibility": null,
      "width": null
     }
    },
    "859fd7b86695498bb5516beda397f3d3": {
     "model_module": "@jupyter-widgets/base",
     "model_module_version": "1.2.0",
     "model_name": "LayoutModel",
     "state": {
      "_model_module": "@jupyter-widgets/base",
      "_model_module_version": "1.2.0",
      "_model_name": "LayoutModel",
      "_view_count": null,
      "_view_module": "@jupyter-widgets/base",
      "_view_module_version": "1.2.0",
      "_view_name": "LayoutView",
      "align_content": null,
      "align_items": null,
      "align_self": null,
      "border": null,
      "bottom": null,
      "display": null,
      "flex": null,
      "flex_flow": null,
      "grid_area": null,
      "grid_auto_columns": null,
      "grid_auto_flow": null,
      "grid_auto_rows": null,
      "grid_column": null,
      "grid_gap": null,
      "grid_row": null,
      "grid_template_areas": null,
      "grid_template_columns": null,
      "grid_template_rows": null,
      "height": null,
      "justify_content": null,
      "justify_items": null,
      "left": null,
      "margin": null,
      "max_height": null,
      "max_width": null,
      "min_height": null,
      "min_width": null,
      "object_fit": null,
      "object_position": null,
      "order": null,
      "overflow": null,
      "overflow_x": null,
      "overflow_y": null,
      "padding": null,
      "right": null,
      "top": null,
      "visibility": null,
      "width": null
     }
    },
    "86659529dd1b49d19b5da9d7a07e59a0": {
     "model_module": "@jupyter-widgets/controls",
     "model_module_version": "1.5.0",
     "model_name": "FloatProgressModel",
     "state": {
      "_dom_classes": [],
      "_model_module": "@jupyter-widgets/controls",
      "_model_module_version": "1.5.0",
      "_model_name": "FloatProgressModel",
      "_view_count": null,
      "_view_module": "@jupyter-widgets/controls",
      "_view_module_version": "1.5.0",
      "_view_name": "ProgressView",
      "bar_style": "info",
      "description": "",
      "description_tooltip": null,
      "layout": "IPY_MODEL_d11b7ef0b216454eb70d146ccbb46204",
      "max": 1,
      "min": 0,
      "orientation": "horizontal",
      "style": "IPY_MODEL_b04f0efe3c3546ebbae97d292beab944",
      "value": 1
     }
    },
    "866bdbdda70f4377a1d41de89e02e685": {
     "model_module": "@jupyter-widgets/controls",
     "model_module_version": "1.5.0",
     "model_name": "HTMLModel",
     "state": {
      "_dom_classes": [],
      "_model_module": "@jupyter-widgets/controls",
      "_model_module_version": "1.5.0",
      "_model_name": "HTMLModel",
      "_view_count": null,
      "_view_module": "@jupyter-widgets/controls",
      "_view_module_version": "1.5.0",
      "_view_name": "HTMLView",
      "description": "",
      "description_tooltip": null,
      "layout": "IPY_MODEL_0d17008b61f043adba012a654eab9c73",
      "placeholder": "​",
      "style": "IPY_MODEL_ee9d0fc762d94aa4b2725b9c2826034b",
      "value": " 1/1 [00:00&lt;00:00, 19.37ba/s]"
     }
    },
    "880133b6a504420abd5baac3c5089b2d": {
     "model_module": "@jupyter-widgets/base",
     "model_module_version": "1.2.0",
     "model_name": "LayoutModel",
     "state": {
      "_model_module": "@jupyter-widgets/base",
      "_model_module_version": "1.2.0",
      "_model_name": "LayoutModel",
      "_view_count": null,
      "_view_module": "@jupyter-widgets/base",
      "_view_module_version": "1.2.0",
      "_view_name": "LayoutView",
      "align_content": null,
      "align_items": null,
      "align_self": null,
      "border": null,
      "bottom": null,
      "display": null,
      "flex": null,
      "flex_flow": null,
      "grid_area": null,
      "grid_auto_columns": null,
      "grid_auto_flow": null,
      "grid_auto_rows": null,
      "grid_column": null,
      "grid_gap": null,
      "grid_row": null,
      "grid_template_areas": null,
      "grid_template_columns": null,
      "grid_template_rows": null,
      "height": null,
      "justify_content": null,
      "justify_items": null,
      "left": null,
      "margin": null,
      "max_height": null,
      "max_width": null,
      "min_height": null,
      "min_width": null,
      "object_fit": null,
      "object_position": null,
      "order": null,
      "overflow": null,
      "overflow_x": null,
      "overflow_y": null,
      "padding": null,
      "right": null,
      "top": null,
      "visibility": null,
      "width": null
     }
    },
    "8a35a86fdd7d4e54b8b1a8e69dd77d7c": {
     "model_module": "@jupyter-widgets/controls",
     "model_module_version": "1.5.0",
     "model_name": "ProgressStyleModel",
     "state": {
      "_model_module": "@jupyter-widgets/controls",
      "_model_module_version": "1.5.0",
      "_model_name": "ProgressStyleModel",
      "_view_count": null,
      "_view_module": "@jupyter-widgets/base",
      "_view_module_version": "1.2.0",
      "_view_name": "StyleView",
      "bar_color": null,
      "description_width": ""
     }
    },
    "8dc8b6250b434548b0458a21da8adf84": {
     "model_module": "@jupyter-widgets/controls",
     "model_module_version": "1.5.0",
     "model_name": "ProgressStyleModel",
     "state": {
      "_model_module": "@jupyter-widgets/controls",
      "_model_module_version": "1.5.0",
      "_model_name": "ProgressStyleModel",
      "_view_count": null,
      "_view_module": "@jupyter-widgets/base",
      "_view_module_version": "1.2.0",
      "_view_name": "StyleView",
      "bar_color": null,
      "description_width": ""
     }
    },
    "8fd31916b9a34145844878916488ac3e": {
     "model_module": "@jupyter-widgets/base",
     "model_module_version": "1.2.0",
     "model_name": "LayoutModel",
     "state": {
      "_model_module": "@jupyter-widgets/base",
      "_model_module_version": "1.2.0",
      "_model_name": "LayoutModel",
      "_view_count": null,
      "_view_module": "@jupyter-widgets/base",
      "_view_module_version": "1.2.0",
      "_view_name": "LayoutView",
      "align_content": null,
      "align_items": null,
      "align_self": null,
      "border": null,
      "bottom": null,
      "display": null,
      "flex": null,
      "flex_flow": null,
      "grid_area": null,
      "grid_auto_columns": null,
      "grid_auto_flow": null,
      "grid_auto_rows": null,
      "grid_column": null,
      "grid_gap": null,
      "grid_row": null,
      "grid_template_areas": null,
      "grid_template_columns": null,
      "grid_template_rows": null,
      "height": null,
      "justify_content": null,
      "justify_items": null,
      "left": null,
      "margin": null,
      "max_height": null,
      "max_width": null,
      "min_height": null,
      "min_width": null,
      "object_fit": null,
      "object_position": null,
      "order": null,
      "overflow": null,
      "overflow_x": null,
      "overflow_y": null,
      "padding": null,
      "right": null,
      "top": null,
      "visibility": null,
      "width": null
     }
    },
    "90079dbd404042588892cca4f82ecaa5": {
     "model_module": "@jupyter-widgets/controls",
     "model_module_version": "1.5.0",
     "model_name": "HTMLModel",
     "state": {
      "_dom_classes": [],
      "_model_module": "@jupyter-widgets/controls",
      "_model_module_version": "1.5.0",
      "_model_name": "HTMLModel",
      "_view_count": null,
      "_view_module": "@jupyter-widgets/controls",
      "_view_module_version": "1.5.0",
      "_view_name": "HTMLView",
      "description": "",
      "description_tooltip": null,
      "layout": "IPY_MODEL_5e9a5207f2ff4bb3a85c5c445be7fa96",
      "placeholder": "​",
      "style": "IPY_MODEL_351d19b5adea4c079620c665671d848e",
      "value": ""
     }
    },
    "90ba1f42d4f14030978d5cb801ed7aee": {
     "model_module": "@jupyter-widgets/controls",
     "model_module_version": "1.5.0",
     "model_name": "DescriptionStyleModel",
     "state": {
      "_model_module": "@jupyter-widgets/controls",
      "_model_module_version": "1.5.0",
      "_model_name": "DescriptionStyleModel",
      "_view_count": null,
      "_view_module": "@jupyter-widgets/base",
      "_view_module_version": "1.2.0",
      "_view_name": "StyleView",
      "description_width": ""
     }
    },
    "90bb1aed51c04ec99751b8d172c29b55": {
     "model_module": "@jupyter-widgets/base",
     "model_module_version": "1.2.0",
     "model_name": "LayoutModel",
     "state": {
      "_model_module": "@jupyter-widgets/base",
      "_model_module_version": "1.2.0",
      "_model_name": "LayoutModel",
      "_view_count": null,
      "_view_module": "@jupyter-widgets/base",
      "_view_module_version": "1.2.0",
      "_view_name": "LayoutView",
      "align_content": null,
      "align_items": null,
      "align_self": null,
      "border": null,
      "bottom": null,
      "display": null,
      "flex": null,
      "flex_flow": null,
      "grid_area": null,
      "grid_auto_columns": null,
      "grid_auto_flow": null,
      "grid_auto_rows": null,
      "grid_column": null,
      "grid_gap": null,
      "grid_row": null,
      "grid_template_areas": null,
      "grid_template_columns": null,
      "grid_template_rows": null,
      "height": null,
      "justify_content": null,
      "justify_items": null,
      "left": null,
      "margin": null,
      "max_height": null,
      "max_width": null,
      "min_height": null,
      "min_width": null,
      "object_fit": null,
      "object_position": null,
      "order": null,
      "overflow": null,
      "overflow_x": null,
      "overflow_y": null,
      "padding": null,
      "right": null,
      "top": null,
      "visibility": null,
      "width": null
     }
    },
    "90eb745a344d445c931a9137c934425d": {
     "model_module": "@jupyter-widgets/controls",
     "model_module_version": "1.5.0",
     "model_name": "DescriptionStyleModel",
     "state": {
      "_model_module": "@jupyter-widgets/controls",
      "_model_module_version": "1.5.0",
      "_model_name": "DescriptionStyleModel",
      "_view_count": null,
      "_view_module": "@jupyter-widgets/base",
      "_view_module_version": "1.2.0",
      "_view_name": "StyleView",
      "description_width": ""
     }
    },
    "91116d7ec8c74ad5829a6bbf6096b43c": {
     "model_module": "@jupyter-widgets/controls",
     "model_module_version": "1.5.0",
     "model_name": "DescriptionStyleModel",
     "state": {
      "_model_module": "@jupyter-widgets/controls",
      "_model_module_version": "1.5.0",
      "_model_name": "DescriptionStyleModel",
      "_view_count": null,
      "_view_module": "@jupyter-widgets/base",
      "_view_module_version": "1.2.0",
      "_view_name": "StyleView",
      "description_width": ""
     }
    },
    "92494242428b4d04a14f648500de31ba": {
     "model_module": "@jupyter-widgets/base",
     "model_module_version": "1.2.0",
     "model_name": "LayoutModel",
     "state": {
      "_model_module": "@jupyter-widgets/base",
      "_model_module_version": "1.2.0",
      "_model_name": "LayoutModel",
      "_view_count": null,
      "_view_module": "@jupyter-widgets/base",
      "_view_module_version": "1.2.0",
      "_view_name": "LayoutView",
      "align_content": null,
      "align_items": null,
      "align_self": null,
      "border": null,
      "bottom": null,
      "display": null,
      "flex": null,
      "flex_flow": null,
      "grid_area": null,
      "grid_auto_columns": null,
      "grid_auto_flow": null,
      "grid_auto_rows": null,
      "grid_column": null,
      "grid_gap": null,
      "grid_row": null,
      "grid_template_areas": null,
      "grid_template_columns": null,
      "grid_template_rows": null,
      "height": null,
      "justify_content": null,
      "justify_items": null,
      "left": null,
      "margin": null,
      "max_height": null,
      "max_width": null,
      "min_height": null,
      "min_width": null,
      "object_fit": null,
      "object_position": null,
      "order": null,
      "overflow": null,
      "overflow_x": null,
      "overflow_y": null,
      "padding": null,
      "right": null,
      "top": null,
      "visibility": null,
      "width": "20px"
     }
    },
    "92b6d40d90b74f1ab3085fd39ae7fb8a": {
     "model_module": "@jupyter-widgets/base",
     "model_module_version": "1.2.0",
     "model_name": "LayoutModel",
     "state": {
      "_model_module": "@jupyter-widgets/base",
      "_model_module_version": "1.2.0",
      "_model_name": "LayoutModel",
      "_view_count": null,
      "_view_module": "@jupyter-widgets/base",
      "_view_module_version": "1.2.0",
      "_view_name": "LayoutView",
      "align_content": null,
      "align_items": null,
      "align_self": null,
      "border": null,
      "bottom": null,
      "display": null,
      "flex": null,
      "flex_flow": null,
      "grid_area": null,
      "grid_auto_columns": null,
      "grid_auto_flow": null,
      "grid_auto_rows": null,
      "grid_column": null,
      "grid_gap": null,
      "grid_row": null,
      "grid_template_areas": null,
      "grid_template_columns": null,
      "grid_template_rows": null,
      "height": null,
      "justify_content": null,
      "justify_items": null,
      "left": null,
      "margin": null,
      "max_height": null,
      "max_width": null,
      "min_height": null,
      "min_width": null,
      "object_fit": null,
      "object_position": null,
      "order": null,
      "overflow": null,
      "overflow_x": null,
      "overflow_y": null,
      "padding": null,
      "right": null,
      "top": null,
      "visibility": null,
      "width": null
     }
    },
    "946ad0cbe0eb4ee3af73d2b1de3ea95a": {
     "model_module": "@jupyter-widgets/base",
     "model_module_version": "1.2.0",
     "model_name": "LayoutModel",
     "state": {
      "_model_module": "@jupyter-widgets/base",
      "_model_module_version": "1.2.0",
      "_model_name": "LayoutModel",
      "_view_count": null,
      "_view_module": "@jupyter-widgets/base",
      "_view_module_version": "1.2.0",
      "_view_name": "LayoutView",
      "align_content": null,
      "align_items": null,
      "align_self": null,
      "border": null,
      "bottom": null,
      "display": null,
      "flex": null,
      "flex_flow": null,
      "grid_area": null,
      "grid_auto_columns": null,
      "grid_auto_flow": null,
      "grid_auto_rows": null,
      "grid_column": null,
      "grid_gap": null,
      "grid_row": null,
      "grid_template_areas": null,
      "grid_template_columns": null,
      "grid_template_rows": null,
      "height": null,
      "justify_content": null,
      "justify_items": null,
      "left": null,
      "margin": null,
      "max_height": null,
      "max_width": null,
      "min_height": null,
      "min_width": null,
      "object_fit": null,
      "object_position": null,
      "order": null,
      "overflow": null,
      "overflow_x": null,
      "overflow_y": null,
      "padding": null,
      "right": null,
      "top": null,
      "visibility": null,
      "width": null
     }
    },
    "948b7538f7d24589823797f8612dcfed": {
     "model_module": "@jupyter-widgets/controls",
     "model_module_version": "1.5.0",
     "model_name": "ProgressStyleModel",
     "state": {
      "_model_module": "@jupyter-widgets/controls",
      "_model_module_version": "1.5.0",
      "_model_name": "ProgressStyleModel",
      "_view_count": null,
      "_view_module": "@jupyter-widgets/base",
      "_view_module_version": "1.2.0",
      "_view_name": "StyleView",
      "bar_color": null,
      "description_width": ""
     }
    },
    "950f1414639144bbb6786c58352d9c1a": {
     "model_module": "@jupyter-widgets/controls",
     "model_module_version": "1.5.0",
     "model_name": "HTMLModel",
     "state": {
      "_dom_classes": [],
      "_model_module": "@jupyter-widgets/controls",
      "_model_module_version": "1.5.0",
      "_model_name": "HTMLModel",
      "_view_count": null,
      "_view_module": "@jupyter-widgets/controls",
      "_view_module_version": "1.5.0",
      "_view_name": "HTMLView",
      "description": "",
      "description_tooltip": null,
      "layout": "IPY_MODEL_b1ef4b2244ac4afc90429cb3b42ccc41",
      "placeholder": "​",
      "style": "IPY_MODEL_96eeb24890794cc8a59296489bcaac5f",
      "value": "100%"
     }
    },
    "953293c28fa14e71a8e354ea1b844b75": {
     "model_module": "@jupyter-widgets/controls",
     "model_module_version": "1.5.0",
     "model_name": "DescriptionStyleModel",
     "state": {
      "_model_module": "@jupyter-widgets/controls",
      "_model_module_version": "1.5.0",
      "_model_name": "DescriptionStyleModel",
      "_view_count": null,
      "_view_module": "@jupyter-widgets/base",
      "_view_module_version": "1.2.0",
      "_view_name": "StyleView",
      "description_width": ""
     }
    },
    "9658824e0065469f8cf73d8c4d0fa93b": {
     "model_module": "@jupyter-widgets/controls",
     "model_module_version": "1.5.0",
     "model_name": "ProgressStyleModel",
     "state": {
      "_model_module": "@jupyter-widgets/controls",
      "_model_module_version": "1.5.0",
      "_model_name": "ProgressStyleModel",
      "_view_count": null,
      "_view_module": "@jupyter-widgets/base",
      "_view_module_version": "1.2.0",
      "_view_name": "StyleView",
      "bar_color": null,
      "description_width": ""
     }
    },
    "96eeb24890794cc8a59296489bcaac5f": {
     "model_module": "@jupyter-widgets/controls",
     "model_module_version": "1.5.0",
     "model_name": "DescriptionStyleModel",
     "state": {
      "_model_module": "@jupyter-widgets/controls",
      "_model_module_version": "1.5.0",
      "_model_name": "DescriptionStyleModel",
      "_view_count": null,
      "_view_module": "@jupyter-widgets/base",
      "_view_module_version": "1.2.0",
      "_view_name": "StyleView",
      "description_width": ""
     }
    },
    "972b8b46f0e8440b96a8d31cd29acc39": {
     "model_module": "@jupyter-widgets/base",
     "model_module_version": "1.2.0",
     "model_name": "LayoutModel",
     "state": {
      "_model_module": "@jupyter-widgets/base",
      "_model_module_version": "1.2.0",
      "_model_name": "LayoutModel",
      "_view_count": null,
      "_view_module": "@jupyter-widgets/base",
      "_view_module_version": "1.2.0",
      "_view_name": "LayoutView",
      "align_content": null,
      "align_items": null,
      "align_self": null,
      "border": null,
      "bottom": null,
      "display": null,
      "flex": null,
      "flex_flow": null,
      "grid_area": null,
      "grid_auto_columns": null,
      "grid_auto_flow": null,
      "grid_auto_rows": null,
      "grid_column": null,
      "grid_gap": null,
      "grid_row": null,
      "grid_template_areas": null,
      "grid_template_columns": null,
      "grid_template_rows": null,
      "height": null,
      "justify_content": null,
      "justify_items": null,
      "left": null,
      "margin": null,
      "max_height": null,
      "max_width": null,
      "min_height": null,
      "min_width": null,
      "object_fit": null,
      "object_position": null,
      "order": null,
      "overflow": null,
      "overflow_x": null,
      "overflow_y": null,
      "padding": null,
      "right": null,
      "top": null,
      "visibility": null,
      "width": null
     }
    },
    "97668f7e04794b7882d9f7886307d69d": {
     "model_module": "@jupyter-widgets/controls",
     "model_module_version": "1.5.0",
     "model_name": "DescriptionStyleModel",
     "state": {
      "_model_module": "@jupyter-widgets/controls",
      "_model_module_version": "1.5.0",
      "_model_name": "DescriptionStyleModel",
      "_view_count": null,
      "_view_module": "@jupyter-widgets/base",
      "_view_module_version": "1.2.0",
      "_view_name": "StyleView",
      "description_width": ""
     }
    },
    "97868fbcf5eb43529dab41983141400b": {
     "model_module": "@jupyter-widgets/controls",
     "model_module_version": "1.5.0",
     "model_name": "FloatProgressModel",
     "state": {
      "_dom_classes": [],
      "_model_module": "@jupyter-widgets/controls",
      "_model_module_version": "1.5.0",
      "_model_name": "FloatProgressModel",
      "_view_count": null,
      "_view_module": "@jupyter-widgets/controls",
      "_view_module_version": "1.5.0",
      "_view_name": "ProgressView",
      "bar_style": "info",
      "description": "",
      "description_tooltip": null,
      "layout": "IPY_MODEL_92494242428b4d04a14f648500de31ba",
      "max": 1,
      "min": 0,
      "orientation": "horizontal",
      "style": "IPY_MODEL_08fff1d8450b4c11abc1af2a51de810b",
      "value": 1
     }
    },
    "980fc9d1dad044568f2cf09c5aabe851": {
     "model_module": "@jupyter-widgets/controls",
     "model_module_version": "1.5.0",
     "model_name": "DescriptionStyleModel",
     "state": {
      "_model_module": "@jupyter-widgets/controls",
      "_model_module_version": "1.5.0",
      "_model_name": "DescriptionStyleModel",
      "_view_count": null,
      "_view_module": "@jupyter-widgets/base",
      "_view_module_version": "1.2.0",
      "_view_name": "StyleView",
      "description_width": ""
     }
    },
    "98b226199dc54316b771f143c3009cc9": {
     "model_module": "@jupyter-widgets/controls",
     "model_module_version": "1.5.0",
     "model_name": "HTMLModel",
     "state": {
      "_dom_classes": [],
      "_model_module": "@jupyter-widgets/controls",
      "_model_module_version": "1.5.0",
      "_model_name": "HTMLModel",
      "_view_count": null,
      "_view_module": "@jupyter-widgets/controls",
      "_view_module_version": "1.5.0",
      "_view_name": "HTMLView",
      "description": "",
      "description_tooltip": null,
      "layout": "IPY_MODEL_0c219edc78ea47ee86d100109107f9e6",
      "placeholder": "​",
      "style": "IPY_MODEL_562b1a7721654e5190079e152a25f900",
      "value": " 1647/1647 [00:00&lt;00:00, 6218.98ex/s]"
     }
    },
    "9a40a16f3560482bb5e2f6105cc27f39": {
     "model_module": "@jupyter-widgets/base",
     "model_module_version": "1.2.0",
     "model_name": "LayoutModel",
     "state": {
      "_model_module": "@jupyter-widgets/base",
      "_model_module_version": "1.2.0",
      "_model_name": "LayoutModel",
      "_view_count": null,
      "_view_module": "@jupyter-widgets/base",
      "_view_module_version": "1.2.0",
      "_view_name": "LayoutView",
      "align_content": null,
      "align_items": null,
      "align_self": null,
      "border": null,
      "bottom": null,
      "display": null,
      "flex": null,
      "flex_flow": null,
      "grid_area": null,
      "grid_auto_columns": null,
      "grid_auto_flow": null,
      "grid_auto_rows": null,
      "grid_column": null,
      "grid_gap": null,
      "grid_row": null,
      "grid_template_areas": null,
      "grid_template_columns": null,
      "grid_template_rows": null,
      "height": null,
      "justify_content": null,
      "justify_items": null,
      "left": null,
      "margin": null,
      "max_height": null,
      "max_width": null,
      "min_height": null,
      "min_width": null,
      "object_fit": null,
      "object_position": null,
      "order": null,
      "overflow": null,
      "overflow_x": null,
      "overflow_y": null,
      "padding": null,
      "right": null,
      "top": null,
      "visibility": null,
      "width": null
     }
    },
    "9a5fabb2d35f44db8d7a9c07a5d5a9ab": {
     "model_module": "@jupyter-widgets/controls",
     "model_module_version": "1.5.0",
     "model_name": "FloatProgressModel",
     "state": {
      "_dom_classes": [],
      "_model_module": "@jupyter-widgets/controls",
      "_model_module_version": "1.5.0",
      "_model_name": "FloatProgressModel",
      "_view_count": null,
      "_view_module": "@jupyter-widgets/controls",
      "_view_module_version": "1.5.0",
      "_view_name": "ProgressView",
      "bar_style": "success",
      "description": "",
      "description_tooltip": null,
      "layout": "IPY_MODEL_b17cd944f08d45bd82c52d3aa2e4b64b",
      "max": 10151,
      "min": 0,
      "orientation": "horizontal",
      "style": "IPY_MODEL_8a35a86fdd7d4e54b8b1a8e69dd77d7c",
      "value": 10151
     }
    },
    "9c33ab076757490a84d507772dc4b69d": {
     "model_module": "@jupyter-widgets/base",
     "model_module_version": "1.2.0",
     "model_name": "LayoutModel",
     "state": {
      "_model_module": "@jupyter-widgets/base",
      "_model_module_version": "1.2.0",
      "_model_name": "LayoutModel",
      "_view_count": null,
      "_view_module": "@jupyter-widgets/base",
      "_view_module_version": "1.2.0",
      "_view_name": "LayoutView",
      "align_content": null,
      "align_items": null,
      "align_self": null,
      "border": null,
      "bottom": null,
      "display": null,
      "flex": null,
      "flex_flow": null,
      "grid_area": null,
      "grid_auto_columns": null,
      "grid_auto_flow": null,
      "grid_auto_rows": null,
      "grid_column": null,
      "grid_gap": null,
      "grid_row": null,
      "grid_template_areas": null,
      "grid_template_columns": null,
      "grid_template_rows": null,
      "height": null,
      "justify_content": null,
      "justify_items": null,
      "left": null,
      "margin": null,
      "max_height": null,
      "max_width": null,
      "min_height": null,
      "min_width": null,
      "object_fit": null,
      "object_position": null,
      "order": null,
      "overflow": null,
      "overflow_x": null,
      "overflow_y": null,
      "padding": null,
      "right": null,
      "top": null,
      "visibility": null,
      "width": null
     }
    },
    "9db4eccd1dc247b295cfc18d259f5885": {
     "model_module": "@jupyter-widgets/controls",
     "model_module_version": "1.5.0",
     "model_name": "DescriptionStyleModel",
     "state": {
      "_model_module": "@jupyter-widgets/controls",
      "_model_module_version": "1.5.0",
      "_model_name": "DescriptionStyleModel",
      "_view_count": null,
      "_view_module": "@jupyter-widgets/base",
      "_view_module_version": "1.2.0",
      "_view_name": "StyleView",
      "description_width": ""
     }
    },
    "9dca599b51a54c4287552abb939884d7": {
     "model_module": "@jupyter-widgets/base",
     "model_module_version": "1.2.0",
     "model_name": "LayoutModel",
     "state": {
      "_model_module": "@jupyter-widgets/base",
      "_model_module_version": "1.2.0",
      "_model_name": "LayoutModel",
      "_view_count": null,
      "_view_module": "@jupyter-widgets/base",
      "_view_module_version": "1.2.0",
      "_view_name": "LayoutView",
      "align_content": null,
      "align_items": null,
      "align_self": null,
      "border": null,
      "bottom": null,
      "display": null,
      "flex": null,
      "flex_flow": null,
      "grid_area": null,
      "grid_auto_columns": null,
      "grid_auto_flow": null,
      "grid_auto_rows": null,
      "grid_column": null,
      "grid_gap": null,
      "grid_row": null,
      "grid_template_areas": null,
      "grid_template_columns": null,
      "grid_template_rows": null,
      "height": null,
      "justify_content": null,
      "justify_items": null,
      "left": null,
      "margin": null,
      "max_height": null,
      "max_width": null,
      "min_height": null,
      "min_width": null,
      "object_fit": null,
      "object_position": null,
      "order": null,
      "overflow": null,
      "overflow_x": null,
      "overflow_y": null,
      "padding": null,
      "right": null,
      "top": null,
      "visibility": null,
      "width": null
     }
    },
    "9df48c7829a94c46adbff3d5a65520c7": {
     "model_module": "@jupyter-widgets/controls",
     "model_module_version": "1.5.0",
     "model_name": "HTMLModel",
     "state": {
      "_dom_classes": [],
      "_model_module": "@jupyter-widgets/controls",
      "_model_module_version": "1.5.0",
      "_model_name": "HTMLModel",
      "_view_count": null,
      "_view_module": "@jupyter-widgets/controls",
      "_view_module_version": "1.5.0",
      "_view_name": "HTMLView",
      "description": "",
      "description_tooltip": null,
      "layout": "IPY_MODEL_7ca9f1f85e714dce8eeda6d4f6d50992",
      "placeholder": "​",
      "style": "IPY_MODEL_e5bb1f992b0e48cd929406fbe2c00657",
      "value": " 1479/0 [00:00&lt;00:00, 8040.23 examples/s]"
     }
    },
    "9ead4f9338b54d3099708b011af67d23": {
     "model_module": "@jupyter-widgets/base",
     "model_module_version": "1.2.0",
     "model_name": "LayoutModel",
     "state": {
      "_model_module": "@jupyter-widgets/base",
      "_model_module_version": "1.2.0",
      "_model_name": "LayoutModel",
      "_view_count": null,
      "_view_module": "@jupyter-widgets/base",
      "_view_module_version": "1.2.0",
      "_view_name": "LayoutView",
      "align_content": null,
      "align_items": null,
      "align_self": null,
      "border": null,
      "bottom": null,
      "display": null,
      "flex": null,
      "flex_flow": null,
      "grid_area": null,
      "grid_auto_columns": null,
      "grid_auto_flow": null,
      "grid_auto_rows": null,
      "grid_column": null,
      "grid_gap": null,
      "grid_row": null,
      "grid_template_areas": null,
      "grid_template_columns": null,
      "grid_template_rows": null,
      "height": null,
      "justify_content": null,
      "justify_items": null,
      "left": null,
      "margin": null,
      "max_height": null,
      "max_width": null,
      "min_height": null,
      "min_width": null,
      "object_fit": null,
      "object_position": null,
      "order": null,
      "overflow": null,
      "overflow_x": null,
      "overflow_y": null,
      "padding": null,
      "right": null,
      "top": null,
      "visibility": null,
      "width": null
     }
    },
    "9ef6e52b7c594014b528dd4d0d4b001c": {
     "model_module": "@jupyter-widgets/controls",
     "model_module_version": "1.5.0",
     "model_name": "HTMLModel",
     "state": {
      "_dom_classes": [],
      "_model_module": "@jupyter-widgets/controls",
      "_model_module_version": "1.5.0",
      "_model_name": "HTMLModel",
      "_view_count": null,
      "_view_module": "@jupyter-widgets/controls",
      "_view_module_version": "1.5.0",
      "_view_name": "HTMLView",
      "description": "",
      "description_tooltip": null,
      "layout": "IPY_MODEL_ec764431ff01437da54daf9018a47d07",
      "placeholder": "​",
      "style": "IPY_MODEL_51bcae99621e4e0593d7e8923172e956",
      "value": "Downloading: "
     }
    },
    "9efbcc95e2424818813a676fc3326869": {
     "model_module": "@jupyter-widgets/controls",
     "model_module_version": "1.5.0",
     "model_name": "DescriptionStyleModel",
     "state": {
      "_model_module": "@jupyter-widgets/controls",
      "_model_module_version": "1.5.0",
      "_model_name": "DescriptionStyleModel",
      "_view_count": null,
      "_view_module": "@jupyter-widgets/base",
      "_view_module_version": "1.2.0",
      "_view_name": "StyleView",
      "description_width": ""
     }
    },
    "9f6f339043824c02b69b6bce5cadd778": {
     "model_module": "@jupyter-widgets/controls",
     "model_module_version": "1.5.0",
     "model_name": "HTMLModel",
     "state": {
      "_dom_classes": [],
      "_model_module": "@jupyter-widgets/controls",
      "_model_module_version": "1.5.0",
      "_model_name": "HTMLModel",
      "_view_count": null,
      "_view_module": "@jupyter-widgets/controls",
      "_view_module_version": "1.5.0",
      "_view_name": "HTMLView",
      "description": "",
      "description_tooltip": null,
      "layout": "IPY_MODEL_9a40a16f3560482bb5e2f6105cc27f39",
      "placeholder": "​",
      "style": "IPY_MODEL_341963d8b96a4aebbaa0bb813c896ae4",
      "value": "Downloading: "
     }
    },
    "a0f19ef147eb458b9e8b31e080acf150": {
     "model_module": "@jupyter-widgets/base",
     "model_module_version": "1.2.0",
     "model_name": "LayoutModel",
     "state": {
      "_model_module": "@jupyter-widgets/base",
      "_model_module_version": "1.2.0",
      "_model_name": "LayoutModel",
      "_view_count": null,
      "_view_module": "@jupyter-widgets/base",
      "_view_module_version": "1.2.0",
      "_view_name": "LayoutView",
      "align_content": null,
      "align_items": null,
      "align_self": null,
      "border": null,
      "bottom": null,
      "display": null,
      "flex": null,
      "flex_flow": null,
      "grid_area": null,
      "grid_auto_columns": null,
      "grid_auto_flow": null,
      "grid_auto_rows": null,
      "grid_column": null,
      "grid_gap": null,
      "grid_row": null,
      "grid_template_areas": null,
      "grid_template_columns": null,
      "grid_template_rows": null,
      "height": null,
      "justify_content": null,
      "justify_items": null,
      "left": null,
      "margin": null,
      "max_height": null,
      "max_width": null,
      "min_height": null,
      "min_width": null,
      "object_fit": null,
      "object_position": null,
      "order": null,
      "overflow": null,
      "overflow_x": null,
      "overflow_y": null,
      "padding": null,
      "right": null,
      "top": null,
      "visibility": null,
      "width": null
     }
    },
    "a3ff24e18e6041b88b718e11c3af0642": {
     "model_module": "@jupyter-widgets/base",
     "model_module_version": "1.2.0",
     "model_name": "LayoutModel",
     "state": {
      "_model_module": "@jupyter-widgets/base",
      "_model_module_version": "1.2.0",
      "_model_name": "LayoutModel",
      "_view_count": null,
      "_view_module": "@jupyter-widgets/base",
      "_view_module_version": "1.2.0",
      "_view_name": "LayoutView",
      "align_content": null,
      "align_items": null,
      "align_self": null,
      "border": null,
      "bottom": null,
      "display": null,
      "flex": null,
      "flex_flow": null,
      "grid_area": null,
      "grid_auto_columns": null,
      "grid_auto_flow": null,
      "grid_auto_rows": null,
      "grid_column": null,
      "grid_gap": null,
      "grid_row": null,
      "grid_template_areas": null,
      "grid_template_columns": null,
      "grid_template_rows": null,
      "height": null,
      "justify_content": null,
      "justify_items": null,
      "left": null,
      "margin": null,
      "max_height": null,
      "max_width": null,
      "min_height": null,
      "min_width": null,
      "object_fit": null,
      "object_position": null,
      "order": null,
      "overflow": null,
      "overflow_x": null,
      "overflow_y": null,
      "padding": null,
      "right": null,
      "top": null,
      "visibility": null,
      "width": null
     }
    },
    "a4771dd55eec4bd4abb1470d30a9d59b": {
     "model_module": "@jupyter-widgets/controls",
     "model_module_version": "1.5.0",
     "model_name": "HBoxModel",
     "state": {
      "_dom_classes": [],
      "_model_module": "@jupyter-widgets/controls",
      "_model_module_version": "1.5.0",
      "_model_name": "HBoxModel",
      "_view_count": null,
      "_view_module": "@jupyter-widgets/controls",
      "_view_module_version": "1.5.0",
      "_view_name": "HBoxView",
      "box_style": "",
      "children": [
       "IPY_MODEL_bc30c95e7dbc402d85ebce78a367d33f",
       "IPY_MODEL_86659529dd1b49d19b5da9d7a07e59a0",
       "IPY_MODEL_cbef6f7398674c0da9326c8138878b08"
      ],
      "layout": "IPY_MODEL_68830a2f931548aca647cb67ec1f7d22"
     }
    },
    "a52c9d7c77154b558535321558a99f82": {
     "model_module": "@jupyter-widgets/base",
     "model_module_version": "1.2.0",
     "model_name": "LayoutModel",
     "state": {
      "_model_module": "@jupyter-widgets/base",
      "_model_module_version": "1.2.0",
      "_model_name": "LayoutModel",
      "_view_count": null,
      "_view_module": "@jupyter-widgets/base",
      "_view_module_version": "1.2.0",
      "_view_name": "LayoutView",
      "align_content": null,
      "align_items": null,
      "align_self": null,
      "border": null,
      "bottom": null,
      "display": null,
      "flex": null,
      "flex_flow": null,
      "grid_area": null,
      "grid_auto_columns": null,
      "grid_auto_flow": null,
      "grid_auto_rows": null,
      "grid_column": null,
      "grid_gap": null,
      "grid_row": null,
      "grid_template_areas": null,
      "grid_template_columns": null,
      "grid_template_rows": null,
      "height": null,
      "justify_content": null,
      "justify_items": null,
      "left": null,
      "margin": null,
      "max_height": null,
      "max_width": null,
      "min_height": null,
      "min_width": null,
      "object_fit": null,
      "object_position": null,
      "order": null,
      "overflow": null,
      "overflow_x": null,
      "overflow_y": null,
      "padding": null,
      "right": null,
      "top": null,
      "visibility": null,
      "width": null
     }
    },
    "a89587d630fa44bab17fed5a58ebb68b": {
     "model_module": "@jupyter-widgets/controls",
     "model_module_version": "1.5.0",
     "model_name": "FloatProgressModel",
     "state": {
      "_dom_classes": [],
      "_model_module": "@jupyter-widgets/controls",
      "_model_module_version": "1.5.0",
      "_model_name": "FloatProgressModel",
      "_view_count": null,
      "_view_module": "@jupyter-widgets/controls",
      "_view_module_version": "1.5.0",
      "_view_name": "ProgressView",
      "bar_style": "success",
      "description": "",
      "description_tooltip": null,
      "layout": "IPY_MODEL_b46ceb3a5c0d4f4eb7d222f1639c88f5",
      "max": 8132,
      "min": 0,
      "orientation": "horizontal",
      "style": "IPY_MODEL_678ac926ffa64e4482f0461aecbf4484",
      "value": 8132
     }
    },
    "aac4d40371604e1599d7748e57ecf464": {
     "model_module": "@jupyter-widgets/controls",
     "model_module_version": "1.5.0",
     "model_name": "DescriptionStyleModel",
     "state": {
      "_model_module": "@jupyter-widgets/controls",
      "_model_module_version": "1.5.0",
      "_model_name": "DescriptionStyleModel",
      "_view_count": null,
      "_view_module": "@jupyter-widgets/base",
      "_view_module_version": "1.2.0",
      "_view_name": "StyleView",
      "description_width": ""
     }
    },
    "ad41cc5b839f4281909a8c65bbd5a008": {
     "model_module": "@jupyter-widgets/controls",
     "model_module_version": "1.5.0",
     "model_name": "HBoxModel",
     "state": {
      "_dom_classes": [],
      "_model_module": "@jupyter-widgets/controls",
      "_model_module_version": "1.5.0",
      "_model_name": "HBoxModel",
      "_view_count": null,
      "_view_module": "@jupyter-widgets/controls",
      "_view_module_version": "1.5.0",
      "_view_name": "HBoxView",
      "box_style": "",
      "children": [
       "IPY_MODEL_950f1414639144bbb6786c58352d9c1a",
       "IPY_MODEL_ee52775961e747fdacefbbdd072ec160",
       "IPY_MODEL_3746981577a24096a433853e7ed5f0b3"
      ],
      "layout": "IPY_MODEL_90bb1aed51c04ec99751b8d172c29b55"
     }
    },
    "af379da49784490e8e6bdc249c3be969": {
     "model_module": "@jupyter-widgets/controls",
     "model_module_version": "1.5.0",
     "model_name": "ProgressStyleModel",
     "state": {
      "_model_module": "@jupyter-widgets/controls",
      "_model_module_version": "1.5.0",
      "_model_name": "ProgressStyleModel",
      "_view_count": null,
      "_view_module": "@jupyter-widgets/base",
      "_view_module_version": "1.2.0",
      "_view_name": "StyleView",
      "bar_color": null,
      "description_width": ""
     }
    },
    "b04f0efe3c3546ebbae97d292beab944": {
     "model_module": "@jupyter-widgets/controls",
     "model_module_version": "1.5.0",
     "model_name": "ProgressStyleModel",
     "state": {
      "_model_module": "@jupyter-widgets/controls",
      "_model_module_version": "1.5.0",
      "_model_name": "ProgressStyleModel",
      "_view_count": null,
      "_view_module": "@jupyter-widgets/base",
      "_view_module_version": "1.2.0",
      "_view_name": "StyleView",
      "bar_color": null,
      "description_width": ""
     }
    },
    "b115da2b43d0491fb33da0fea4d749e4": {
     "model_module": "@jupyter-widgets/base",
     "model_module_version": "1.2.0",
     "model_name": "LayoutModel",
     "state": {
      "_model_module": "@jupyter-widgets/base",
      "_model_module_version": "1.2.0",
      "_model_name": "LayoutModel",
      "_view_count": null,
      "_view_module": "@jupyter-widgets/base",
      "_view_module_version": "1.2.0",
      "_view_name": "LayoutView",
      "align_content": null,
      "align_items": null,
      "align_self": null,
      "border": null,
      "bottom": null,
      "display": null,
      "flex": null,
      "flex_flow": null,
      "grid_area": null,
      "grid_auto_columns": null,
      "grid_auto_flow": null,
      "grid_auto_rows": null,
      "grid_column": null,
      "grid_gap": null,
      "grid_row": null,
      "grid_template_areas": null,
      "grid_template_columns": null,
      "grid_template_rows": null,
      "height": null,
      "justify_content": null,
      "justify_items": null,
      "left": null,
      "margin": null,
      "max_height": null,
      "max_width": null,
      "min_height": null,
      "min_width": null,
      "object_fit": null,
      "object_position": null,
      "order": null,
      "overflow": null,
      "overflow_x": null,
      "overflow_y": null,
      "padding": null,
      "right": null,
      "top": null,
      "visibility": null,
      "width": null
     }
    },
    "b17cd944f08d45bd82c52d3aa2e4b64b": {
     "model_module": "@jupyter-widgets/base",
     "model_module_version": "1.2.0",
     "model_name": "LayoutModel",
     "state": {
      "_model_module": "@jupyter-widgets/base",
      "_model_module_version": "1.2.0",
      "_model_name": "LayoutModel",
      "_view_count": null,
      "_view_module": "@jupyter-widgets/base",
      "_view_module_version": "1.2.0",
      "_view_name": "LayoutView",
      "align_content": null,
      "align_items": null,
      "align_self": null,
      "border": null,
      "bottom": null,
      "display": null,
      "flex": null,
      "flex_flow": null,
      "grid_area": null,
      "grid_auto_columns": null,
      "grid_auto_flow": null,
      "grid_auto_rows": null,
      "grid_column": null,
      "grid_gap": null,
      "grid_row": null,
      "grid_template_areas": null,
      "grid_template_columns": null,
      "grid_template_rows": null,
      "height": null,
      "justify_content": null,
      "justify_items": null,
      "left": null,
      "margin": null,
      "max_height": null,
      "max_width": null,
      "min_height": null,
      "min_width": null,
      "object_fit": null,
      "object_position": null,
      "order": null,
      "overflow": null,
      "overflow_x": null,
      "overflow_y": null,
      "padding": null,
      "right": null,
      "top": null,
      "visibility": null,
      "width": null
     }
    },
    "b18db8e171bd49009f89d0f961915dfc": {
     "model_module": "@jupyter-widgets/controls",
     "model_module_version": "1.5.0",
     "model_name": "HTMLModel",
     "state": {
      "_dom_classes": [],
      "_model_module": "@jupyter-widgets/controls",
      "_model_module_version": "1.5.0",
      "_model_name": "HTMLModel",
      "_view_count": null,
      "_view_module": "@jupyter-widgets/controls",
      "_view_module_version": "1.5.0",
      "_view_name": "HTMLView",
      "description": "",
      "description_tooltip": null,
      "layout": "IPY_MODEL_225f9449901d4ceea038c6b8573181ed",
      "placeholder": "​",
      "style": "IPY_MODEL_97668f7e04794b7882d9f7886307d69d",
      "value": " 1.73k/1.73k [00:00&lt;00:00, 51.8kB/s]"
     }
    },
    "b18eb056b44e419692f3c08b34a7cc81": {
     "model_module": "@jupyter-widgets/base",
     "model_module_version": "1.2.0",
     "model_name": "LayoutModel",
     "state": {
      "_model_module": "@jupyter-widgets/base",
      "_model_module_version": "1.2.0",
      "_model_name": "LayoutModel",
      "_view_count": null,
      "_view_module": "@jupyter-widgets/base",
      "_view_module_version": "1.2.0",
      "_view_name": "LayoutView",
      "align_content": null,
      "align_items": null,
      "align_self": null,
      "border": null,
      "bottom": null,
      "display": null,
      "flex": null,
      "flex_flow": null,
      "grid_area": null,
      "grid_auto_columns": null,
      "grid_auto_flow": null,
      "grid_auto_rows": null,
      "grid_column": null,
      "grid_gap": null,
      "grid_row": null,
      "grid_template_areas": null,
      "grid_template_columns": null,
      "grid_template_rows": null,
      "height": null,
      "justify_content": null,
      "justify_items": null,
      "left": null,
      "margin": null,
      "max_height": null,
      "max_width": null,
      "min_height": null,
      "min_width": null,
      "object_fit": null,
      "object_position": null,
      "order": null,
      "overflow": null,
      "overflow_x": null,
      "overflow_y": null,
      "padding": null,
      "right": null,
      "top": null,
      "visibility": null,
      "width": null
     }
    },
    "b1e3f54448f34983b4118f543c4cb749": {
     "model_module": "@jupyter-widgets/controls",
     "model_module_version": "1.5.0",
     "model_name": "HTMLModel",
     "state": {
      "_dom_classes": [],
      "_model_module": "@jupyter-widgets/controls",
      "_model_module_version": "1.5.0",
      "_model_name": "HTMLModel",
      "_view_count": null,
      "_view_module": "@jupyter-widgets/controls",
      "_view_module_version": "1.5.0",
      "_view_name": "HTMLView",
      "description": "",
      "description_tooltip": null,
      "layout": "IPY_MODEL_f2682efb6aa444bc8bf36ebfd6668a43",
      "placeholder": "​",
      "style": "IPY_MODEL_91116d7ec8c74ad5829a6bbf6096b43c",
      "value": " 0/0 [00:00&lt;?, ? examples/s]"
     }
    },
    "b1ef4b2244ac4afc90429cb3b42ccc41": {
     "model_module": "@jupyter-widgets/base",
     "model_module_version": "1.2.0",
     "model_name": "LayoutModel",
     "state": {
      "_model_module": "@jupyter-widgets/base",
      "_model_module_version": "1.2.0",
      "_model_name": "LayoutModel",
      "_view_count": null,
      "_view_module": "@jupyter-widgets/base",
      "_view_module_version": "1.2.0",
      "_view_name": "LayoutView",
      "align_content": null,
      "align_items": null,
      "align_self": null,
      "border": null,
      "bottom": null,
      "display": null,
      "flex": null,
      "flex_flow": null,
      "grid_area": null,
      "grid_auto_columns": null,
      "grid_auto_flow": null,
      "grid_auto_rows": null,
      "grid_column": null,
      "grid_gap": null,
      "grid_row": null,
      "grid_template_areas": null,
      "grid_template_columns": null,
      "grid_template_rows": null,
      "height": null,
      "justify_content": null,
      "justify_items": null,
      "left": null,
      "margin": null,
      "max_height": null,
      "max_width": null,
      "min_height": null,
      "min_width": null,
      "object_fit": null,
      "object_position": null,
      "order": null,
      "overflow": null,
      "overflow_x": null,
      "overflow_y": null,
      "padding": null,
      "right": null,
      "top": null,
      "visibility": null,
      "width": null
     }
    },
    "b25d7d91d7a6424b95cf52c88c331853": {
     "model_module": "@jupyter-widgets/controls",
     "model_module_version": "1.5.0",
     "model_name": "HBoxModel",
     "state": {
      "_dom_classes": [],
      "_model_module": "@jupyter-widgets/controls",
      "_model_module_version": "1.5.0",
      "_model_name": "HBoxModel",
      "_view_count": null,
      "_view_module": "@jupyter-widgets/controls",
      "_view_module_version": "1.5.0",
      "_view_name": "HBoxView",
      "box_style": "",
      "children": [
       "IPY_MODEL_209efc5b56eb4acda1a59bdc50040da6",
       "IPY_MODEL_fe928771f52d4e0aaa69cd59a8d32f06",
       "IPY_MODEL_d0cbd8d8f5c44ce18fe3c56898032531"
      ],
      "layout": "IPY_MODEL_f2479f0a421e43aca3f0507a195623ef"
     }
    },
    "b30ae3ba8e384671bca4fbfef7ca6a42": {
     "model_module": "@jupyter-widgets/controls",
     "model_module_version": "1.5.0",
     "model_name": "HTMLModel",
     "state": {
      "_dom_classes": [],
      "_model_module": "@jupyter-widgets/controls",
      "_model_module_version": "1.5.0",
      "_model_name": "HTMLModel",
      "_view_count": null,
      "_view_module": "@jupyter-widgets/controls",
      "_view_module_version": "1.5.0",
      "_view_name": "HTMLView",
      "description": "",
      "description_tooltip": null,
      "layout": "IPY_MODEL_ea6d1950ca604da59c4cbdd9b910b903",
      "placeholder": "​",
      "style": "IPY_MODEL_f2ec5a28737045aaa9231d2e7997e042",
      "value": " 1721/0 [00:00&lt;00:00, 9425.05 examples/s]"
     }
    },
    "b37445039fca441aac2eba6153b52e41": {
     "model_module": "@jupyter-widgets/base",
     "model_module_version": "1.2.0",
     "model_name": "LayoutModel",
     "state": {
      "_model_module": "@jupyter-widgets/base",
      "_model_module_version": "1.2.0",
      "_model_name": "LayoutModel",
      "_view_count": null,
      "_view_module": "@jupyter-widgets/base",
      "_view_module_version": "1.2.0",
      "_view_name": "LayoutView",
      "align_content": null,
      "align_items": null,
      "align_self": null,
      "border": null,
      "bottom": null,
      "display": null,
      "flex": null,
      "flex_flow": null,
      "grid_area": null,
      "grid_auto_columns": null,
      "grid_auto_flow": null,
      "grid_auto_rows": null,
      "grid_column": null,
      "grid_gap": null,
      "grid_row": null,
      "grid_template_areas": null,
      "grid_template_columns": null,
      "grid_template_rows": null,
      "height": null,
      "justify_content": null,
      "justify_items": null,
      "left": null,
      "margin": null,
      "max_height": null,
      "max_width": null,
      "min_height": null,
      "min_width": null,
      "object_fit": null,
      "object_position": null,
      "order": null,
      "overflow": null,
      "overflow_x": null,
      "overflow_y": null,
      "padding": null,
      "right": null,
      "top": null,
      "visibility": null,
      "width": null
     }
    },
    "b449fbbb6b1b471a8d50eb9d6c26af09": {
     "model_module": "@jupyter-widgets/base",
     "model_module_version": "1.2.0",
     "model_name": "LayoutModel",
     "state": {
      "_model_module": "@jupyter-widgets/base",
      "_model_module_version": "1.2.0",
      "_model_name": "LayoutModel",
      "_view_count": null,
      "_view_module": "@jupyter-widgets/base",
      "_view_module_version": "1.2.0",
      "_view_name": "LayoutView",
      "align_content": null,
      "align_items": "center",
      "align_self": null,
      "border": null,
      "bottom": null,
      "display": "flex",
      "flex": null,
      "flex_flow": "column",
      "grid_area": null,
      "grid_auto_columns": null,
      "grid_auto_flow": null,
      "grid_auto_rows": null,
      "grid_column": null,
      "grid_gap": null,
      "grid_row": null,
      "grid_template_areas": null,
      "grid_template_columns": null,
      "grid_template_rows": null,
      "height": null,
      "justify_content": null,
      "justify_items": null,
      "left": null,
      "margin": null,
      "max_height": null,
      "max_width": null,
      "min_height": null,
      "min_width": null,
      "object_fit": null,
      "object_position": null,
      "order": null,
      "overflow": null,
      "overflow_x": null,
      "overflow_y": null,
      "padding": null,
      "right": null,
      "top": null,
      "visibility": null,
      "width": "50%"
     }
    },
    "b46ceb3a5c0d4f4eb7d222f1639c88f5": {
     "model_module": "@jupyter-widgets/base",
     "model_module_version": "1.2.0",
     "model_name": "LayoutModel",
     "state": {
      "_model_module": "@jupyter-widgets/base",
      "_model_module_version": "1.2.0",
      "_model_name": "LayoutModel",
      "_view_count": null,
      "_view_module": "@jupyter-widgets/base",
      "_view_module_version": "1.2.0",
      "_view_name": "LayoutView",
      "align_content": null,
      "align_items": null,
      "align_self": null,
      "border": null,
      "bottom": null,
      "display": null,
      "flex": null,
      "flex_flow": null,
      "grid_area": null,
      "grid_auto_columns": null,
      "grid_auto_flow": null,
      "grid_auto_rows": null,
      "grid_column": null,
      "grid_gap": null,
      "grid_row": null,
      "grid_template_areas": null,
      "grid_template_columns": null,
      "grid_template_rows": null,
      "height": null,
      "justify_content": null,
      "justify_items": null,
      "left": null,
      "margin": null,
      "max_height": null,
      "max_width": null,
      "min_height": null,
      "min_width": null,
      "object_fit": null,
      "object_position": null,
      "order": null,
      "overflow": null,
      "overflow_x": null,
      "overflow_y": null,
      "padding": null,
      "right": null,
      "top": null,
      "visibility": null,
      "width": null
     }
    },
    "b5abb72f4d7144929607dc680992ad67": {
     "model_module": "@jupyter-widgets/controls",
     "model_module_version": "1.5.0",
     "model_name": "HBoxModel",
     "state": {
      "_dom_classes": [],
      "_model_module": "@jupyter-widgets/controls",
      "_model_module_version": "1.5.0",
      "_model_name": "HBoxModel",
      "_view_count": null,
      "_view_module": "@jupyter-widgets/controls",
      "_view_module_version": "1.5.0",
      "_view_name": "HBoxView",
      "box_style": "",
      "children": [
       "IPY_MODEL_9ef6e52b7c594014b528dd4d0d4b001c",
       "IPY_MODEL_9a5fabb2d35f44db8d7a9c07a5d5a9ab",
       "IPY_MODEL_cdbfe296652042f5b3f6da33699bfd7e"
      ],
      "layout": "IPY_MODEL_4ab5e489e07b41eba96d4c9fa9422973"
     }
    },
    "b617a527f91c4248a83e748f5eec5471": {
     "model_module": "@jupyter-widgets/base",
     "model_module_version": "1.2.0",
     "model_name": "LayoutModel",
     "state": {
      "_model_module": "@jupyter-widgets/base",
      "_model_module_version": "1.2.0",
      "_model_name": "LayoutModel",
      "_view_count": null,
      "_view_module": "@jupyter-widgets/base",
      "_view_module_version": "1.2.0",
      "_view_name": "LayoutView",
      "align_content": null,
      "align_items": null,
      "align_self": null,
      "border": null,
      "bottom": null,
      "display": null,
      "flex": null,
      "flex_flow": null,
      "grid_area": null,
      "grid_auto_columns": null,
      "grid_auto_flow": null,
      "grid_auto_rows": null,
      "grid_column": null,
      "grid_gap": null,
      "grid_row": null,
      "grid_template_areas": null,
      "grid_template_columns": null,
      "grid_template_rows": null,
      "height": null,
      "justify_content": null,
      "justify_items": null,
      "left": null,
      "margin": null,
      "max_height": null,
      "max_width": null,
      "min_height": null,
      "min_width": null,
      "object_fit": null,
      "object_position": null,
      "order": null,
      "overflow": null,
      "overflow_x": null,
      "overflow_y": null,
      "padding": null,
      "right": null,
      "top": null,
      "visibility": null,
      "width": null
     }
    },
    "b74262bbe4ba4798b737eb687c77493f": {
     "model_module": "@jupyter-widgets/controls",
     "model_module_version": "1.5.0",
     "model_name": "DescriptionStyleModel",
     "state": {
      "_model_module": "@jupyter-widgets/controls",
      "_model_module_version": "1.5.0",
      "_model_name": "DescriptionStyleModel",
      "_view_count": null,
      "_view_module": "@jupyter-widgets/base",
      "_view_module_version": "1.2.0",
      "_view_name": "StyleView",
      "description_width": ""
     }
    },
    "bb2ce51969174648805e61c6fe5bbc26": {
     "model_module": "@jupyter-widgets/controls",
     "model_module_version": "1.5.0",
     "model_name": "HTMLModel",
     "state": {
      "_dom_classes": [],
      "_model_module": "@jupyter-widgets/controls",
      "_model_module_version": "1.5.0",
      "_model_name": "HTMLModel",
      "_view_count": null,
      "_view_module": "@jupyter-widgets/controls",
      "_view_module_version": "1.5.0",
      "_view_name": "HTMLView",
      "description": "",
      "description_tooltip": null,
      "layout": "IPY_MODEL_10d392f730e24029a1d0cf27de2f757b",
      "placeholder": "​",
      "style": "IPY_MODEL_b74262bbe4ba4798b737eb687c77493f",
      "value": " 212/212 [00:00&lt;00:00, 6.00kB/s]"
     }
    },
    "bb7cca1dbee0473f9ffa601f26de2bff": {
     "model_module": "@jupyter-widgets/controls",
     "model_module_version": "1.5.0",
     "model_name": "HBoxModel",
     "state": {
      "_dom_classes": [],
      "_model_module": "@jupyter-widgets/controls",
      "_model_module_version": "1.5.0",
      "_model_name": "HBoxModel",
      "_view_count": null,
      "_view_module": "@jupyter-widgets/controls",
      "_view_module_version": "1.5.0",
      "_view_name": "HBoxView",
      "box_style": "",
      "children": [
       "IPY_MODEL_ec0643d015f0466a8f6178a191d78978",
       "IPY_MODEL_cd98ac18cda14f1191d8be051b0b99f9",
       "IPY_MODEL_866bdbdda70f4377a1d41de89e02e685"
      ],
      "layout": "IPY_MODEL_fcb420f307994c76bf477fe2007a2cfc"
     }
    },
    "bc30c95e7dbc402d85ebce78a367d33f": {
     "model_module": "@jupyter-widgets/controls",
     "model_module_version": "1.5.0",
     "model_name": "HTMLModel",
     "state": {
      "_dom_classes": [],
      "_model_module": "@jupyter-widgets/controls",
      "_model_module_version": "1.5.0",
      "_model_name": "HTMLModel",
      "_view_count": null,
      "_view_module": "@jupyter-widgets/controls",
      "_view_module_version": "1.5.0",
      "_view_name": "HTMLView",
      "description": "",
      "description_tooltip": null,
      "layout": "IPY_MODEL_8230dbb52f644499b6220614180f762f",
      "placeholder": "​",
      "style": "IPY_MODEL_dd72106b4b1a42dc902c77e632b52866",
      "value": ""
     }
    },
    "beeff20aaf3b4a6d8340a2f13afc4ae9": {
     "model_module": "@jupyter-widgets/controls",
     "model_module_version": "1.5.0",
     "model_name": "HTMLModel",
     "state": {
      "_dom_classes": [],
      "_model_module": "@jupyter-widgets/controls",
      "_model_module_version": "1.5.0",
      "_model_name": "HTMLModel",
      "_view_count": null,
      "_view_module": "@jupyter-widgets/controls",
      "_view_module_version": "1.5.0",
      "_view_name": "HTMLView",
      "description": "",
      "description_tooltip": null,
      "layout": "IPY_MODEL_4c94411b85644270a88227f9b5d988e3",
      "placeholder": "​",
      "style": "IPY_MODEL_70d9885aa6024eebbcb099c715bbae31",
      "value": "100%"
     }
    },
    "c032cdd160fc40eaa06a8a4d5f55d1ca": {
     "model_module": "@jupyter-widgets/controls",
     "model_module_version": "1.5.0",
     "model_name": "FloatProgressModel",
     "state": {
      "_dom_classes": [],
      "_model_module": "@jupyter-widgets/controls",
      "_model_module_version": "1.5.0",
      "_model_name": "FloatProgressModel",
      "_view_count": null,
      "_view_module": "@jupyter-widgets/controls",
      "_view_module_version": "1.5.0",
      "_view_name": "ProgressView",
      "bar_style": "info",
      "description": "",
      "description_tooltip": null,
      "layout": "IPY_MODEL_fa08a259ad534048baed7c94f748fb78",
      "max": 1,
      "min": 0,
      "orientation": "horizontal",
      "style": "IPY_MODEL_c434a50e99fb46a5bc443415e4cc627b",
      "value": 1
     }
    },
    "c03c80a730eb4e77926d202999355433": {
     "model_module": "@jupyter-widgets/controls",
     "model_module_version": "1.5.0",
     "model_name": "ProgressStyleModel",
     "state": {
      "_model_module": "@jupyter-widgets/controls",
      "_model_module_version": "1.5.0",
      "_model_name": "ProgressStyleModel",
      "_view_count": null,
      "_view_module": "@jupyter-widgets/base",
      "_view_module_version": "1.2.0",
      "_view_name": "StyleView",
      "bar_color": null,
      "description_width": ""
     }
    },
    "c15dfe81f654439cb0d07ccaedceb070": {
     "model_module": "@jupyter-widgets/controls",
     "model_module_version": "1.5.0",
     "model_name": "FloatProgressModel",
     "state": {
      "_dom_classes": [],
      "_model_module": "@jupyter-widgets/controls",
      "_model_module_version": "1.5.0",
      "_model_name": "FloatProgressModel",
      "_view_count": null,
      "_view_module": "@jupyter-widgets/controls",
      "_view_module_version": "1.5.0",
      "_view_name": "ProgressView",
      "bar_style": "info",
      "description": "",
      "description_tooltip": null,
      "layout": "IPY_MODEL_eb7e72cc13454fe5b69cd11c1b26009d",
      "max": 1,
      "min": 0,
      "orientation": "horizontal",
      "style": "IPY_MODEL_536cf457443a4a729af9ec7a33b06dfc",
      "value": 1
     }
    },
    "c18dfdb314284e2a9d9c07bb4dcf1d49": {
     "model_module": "@jupyter-widgets/controls",
     "model_module_version": "1.5.0",
     "model_name": "HBoxModel",
     "state": {
      "_dom_classes": [],
      "_model_module": "@jupyter-widgets/controls",
      "_model_module_version": "1.5.0",
      "_model_name": "HBoxModel",
      "_view_count": null,
      "_view_module": "@jupyter-widgets/controls",
      "_view_module_version": "1.5.0",
      "_view_name": "HBoxView",
      "box_style": "",
      "children": [
       "IPY_MODEL_0cc8170d04624602b6fcb913046065b9",
       "IPY_MODEL_d493bfc3e89147c4b423d9001519d62f"
      ],
      "layout": "IPY_MODEL_604598e08be24d8daee5193119855567"
     }
    },
    "c38c64906e6f4f6388a1405085e31044": {
     "model_module": "@jupyter-widgets/base",
     "model_module_version": "1.2.0",
     "model_name": "LayoutModel",
     "state": {
      "_model_module": "@jupyter-widgets/base",
      "_model_module_version": "1.2.0",
      "_model_name": "LayoutModel",
      "_view_count": null,
      "_view_module": "@jupyter-widgets/base",
      "_view_module_version": "1.2.0",
      "_view_name": "LayoutView",
      "align_content": null,
      "align_items": null,
      "align_self": null,
      "border": null,
      "bottom": null,
      "display": null,
      "flex": null,
      "flex_flow": null,
      "grid_area": null,
      "grid_auto_columns": null,
      "grid_auto_flow": null,
      "grid_auto_rows": null,
      "grid_column": null,
      "grid_gap": null,
      "grid_row": null,
      "grid_template_areas": null,
      "grid_template_columns": null,
      "grid_template_rows": null,
      "height": null,
      "justify_content": null,
      "justify_items": null,
      "left": null,
      "margin": null,
      "max_height": null,
      "max_width": null,
      "min_height": null,
      "min_width": null,
      "object_fit": null,
      "object_position": null,
      "order": null,
      "overflow": null,
      "overflow_x": null,
      "overflow_y": null,
      "padding": null,
      "right": null,
      "top": null,
      "visibility": null,
      "width": null
     }
    },
    "c434a50e99fb46a5bc443415e4cc627b": {
     "model_module": "@jupyter-widgets/controls",
     "model_module_version": "1.5.0",
     "model_name": "ProgressStyleModel",
     "state": {
      "_model_module": "@jupyter-widgets/controls",
      "_model_module_version": "1.5.0",
      "_model_name": "ProgressStyleModel",
      "_view_count": null,
      "_view_module": "@jupyter-widgets/base",
      "_view_module_version": "1.2.0",
      "_view_name": "StyleView",
      "bar_color": null,
      "description_width": ""
     }
    },
    "c4f5dc0bd3be4aa891091e43deadbc48": {
     "model_module": "@jupyter-widgets/controls",
     "model_module_version": "1.5.0",
     "model_name": "DescriptionStyleModel",
     "state": {
      "_model_module": "@jupyter-widgets/controls",
      "_model_module_version": "1.5.0",
      "_model_name": "DescriptionStyleModel",
      "_view_count": null,
      "_view_module": "@jupyter-widgets/base",
      "_view_module_version": "1.2.0",
      "_view_name": "StyleView",
      "description_width": ""
     }
    },
    "c7f85f54330841139e154a2662577896": {
     "model_module": "@jupyter-widgets/base",
     "model_module_version": "1.2.0",
     "model_name": "LayoutModel",
     "state": {
      "_model_module": "@jupyter-widgets/base",
      "_model_module_version": "1.2.0",
      "_model_name": "LayoutModel",
      "_view_count": null,
      "_view_module": "@jupyter-widgets/base",
      "_view_module_version": "1.2.0",
      "_view_name": "LayoutView",
      "align_content": null,
      "align_items": null,
      "align_self": null,
      "border": null,
      "bottom": null,
      "display": null,
      "flex": null,
      "flex_flow": null,
      "grid_area": null,
      "grid_auto_columns": null,
      "grid_auto_flow": null,
      "grid_auto_rows": null,
      "grid_column": null,
      "grid_gap": null,
      "grid_row": null,
      "grid_template_areas": null,
      "grid_template_columns": null,
      "grid_template_rows": null,
      "height": null,
      "justify_content": null,
      "justify_items": null,
      "left": null,
      "margin": null,
      "max_height": null,
      "max_width": null,
      "min_height": null,
      "min_width": null,
      "object_fit": null,
      "object_position": null,
      "order": null,
      "overflow": null,
      "overflow_x": null,
      "overflow_y": null,
      "padding": null,
      "right": null,
      "top": null,
      "visibility": null,
      "width": null
     }
    },
    "c8db6791b1e64c62b6df2f098738eaa4": {
     "model_module": "@jupyter-widgets/base",
     "model_module_version": "1.2.0",
     "model_name": "LayoutModel",
     "state": {
      "_model_module": "@jupyter-widgets/base",
      "_model_module_version": "1.2.0",
      "_model_name": "LayoutModel",
      "_view_count": null,
      "_view_module": "@jupyter-widgets/base",
      "_view_module_version": "1.2.0",
      "_view_name": "LayoutView",
      "align_content": null,
      "align_items": null,
      "align_self": null,
      "border": null,
      "bottom": null,
      "display": null,
      "flex": null,
      "flex_flow": null,
      "grid_area": null,
      "grid_auto_columns": null,
      "grid_auto_flow": null,
      "grid_auto_rows": null,
      "grid_column": null,
      "grid_gap": null,
      "grid_row": null,
      "grid_template_areas": null,
      "grid_template_columns": null,
      "grid_template_rows": null,
      "height": null,
      "justify_content": null,
      "justify_items": null,
      "left": null,
      "margin": null,
      "max_height": null,
      "max_width": null,
      "min_height": null,
      "min_width": null,
      "object_fit": null,
      "object_position": null,
      "order": null,
      "overflow": null,
      "overflow_x": null,
      "overflow_y": null,
      "padding": null,
      "right": null,
      "top": null,
      "visibility": null,
      "width": null
     }
    },
    "c92fc9f4171745019c3592a4b01c2946": {
     "model_module": "@jupyter-widgets/base",
     "model_module_version": "1.2.0",
     "model_name": "LayoutModel",
     "state": {
      "_model_module": "@jupyter-widgets/base",
      "_model_module_version": "1.2.0",
      "_model_name": "LayoutModel",
      "_view_count": null,
      "_view_module": "@jupyter-widgets/base",
      "_view_module_version": "1.2.0",
      "_view_name": "LayoutView",
      "align_content": null,
      "align_items": null,
      "align_self": null,
      "border": null,
      "bottom": null,
      "display": null,
      "flex": null,
      "flex_flow": null,
      "grid_area": null,
      "grid_auto_columns": null,
      "grid_auto_flow": null,
      "grid_auto_rows": null,
      "grid_column": null,
      "grid_gap": null,
      "grid_row": null,
      "grid_template_areas": null,
      "grid_template_columns": null,
      "grid_template_rows": null,
      "height": null,
      "justify_content": null,
      "justify_items": null,
      "left": null,
      "margin": null,
      "max_height": null,
      "max_width": null,
      "min_height": null,
      "min_width": null,
      "object_fit": null,
      "object_position": null,
      "order": null,
      "overflow": null,
      "overflow_x": null,
      "overflow_y": null,
      "padding": null,
      "right": null,
      "top": null,
      "visibility": null,
      "width": null
     }
    },
    "cb4652f2b0974680b9f224ef1ef97ddb": {
     "model_module": "@jupyter-widgets/base",
     "model_module_version": "1.2.0",
     "model_name": "LayoutModel",
     "state": {
      "_model_module": "@jupyter-widgets/base",
      "_model_module_version": "1.2.0",
      "_model_name": "LayoutModel",
      "_view_count": null,
      "_view_module": "@jupyter-widgets/base",
      "_view_module_version": "1.2.0",
      "_view_name": "LayoutView",
      "align_content": null,
      "align_items": null,
      "align_self": null,
      "border": null,
      "bottom": null,
      "display": null,
      "flex": null,
      "flex_flow": null,
      "grid_area": null,
      "grid_auto_columns": null,
      "grid_auto_flow": null,
      "grid_auto_rows": null,
      "grid_column": null,
      "grid_gap": null,
      "grid_row": null,
      "grid_template_areas": null,
      "grid_template_columns": null,
      "grid_template_rows": null,
      "height": null,
      "justify_content": null,
      "justify_items": null,
      "left": null,
      "margin": null,
      "max_height": null,
      "max_width": null,
      "min_height": null,
      "min_width": null,
      "object_fit": null,
      "object_position": null,
      "order": null,
      "overflow": null,
      "overflow_x": null,
      "overflow_y": null,
      "padding": null,
      "right": null,
      "top": null,
      "visibility": null,
      "width": null
     }
    },
    "cbde7ca853ae472f8234a465e7e0ddb8": {
     "model_module": "@jupyter-widgets/controls",
     "model_module_version": "1.5.0",
     "model_name": "HTMLModel",
     "state": {
      "_dom_classes": [],
      "_model_module": "@jupyter-widgets/controls",
      "_model_module_version": "1.5.0",
      "_model_name": "HTMLModel",
      "_view_count": null,
      "_view_module": "@jupyter-widgets/controls",
      "_view_module_version": "1.5.0",
      "_view_name": "HTMLView",
      "description": "",
      "description_tooltip": null,
      "layout": "IPY_MODEL_858a60a2f21040d184801808810ed4e3",
      "placeholder": "​",
      "style": "IPY_MODEL_4c8ef8e507f74ac795705a747df28a53",
      "value": " 694/0 [00:00&lt;00:00, 6938.09 examples/s]"
     }
    },
    "cbef6f7398674c0da9326c8138878b08": {
     "model_module": "@jupyter-widgets/controls",
     "model_module_version": "1.5.0",
     "model_name": "HTMLModel",
     "state": {
      "_dom_classes": [],
      "_model_module": "@jupyter-widgets/controls",
      "_model_module_version": "1.5.0",
      "_model_name": "HTMLModel",
      "_view_count": null,
      "_view_module": "@jupyter-widgets/controls",
      "_view_module_version": "1.5.0",
      "_view_name": "HTMLView",
      "description": "",
      "description_tooltip": null,
      "layout": "IPY_MODEL_fae3163dd70549e19f208d18a6ebadee",
      "placeholder": "​",
      "style": "IPY_MODEL_6500309e31d74e639af7ca5ca459ed2e",
      "value": " 635/0 [00:00&lt;00:00, 6348.08 examples/s]"
     }
    },
    "cd98ac18cda14f1191d8be051b0b99f9": {
     "model_module": "@jupyter-widgets/controls",
     "model_module_version": "1.5.0",
     "model_name": "FloatProgressModel",
     "state": {
      "_dom_classes": [],
      "_model_module": "@jupyter-widgets/controls",
      "_model_module_version": "1.5.0",
      "_model_name": "FloatProgressModel",
      "_view_count": null,
      "_view_module": "@jupyter-widgets/controls",
      "_view_module_version": "1.5.0",
      "_view_name": "ProgressView",
      "bar_style": "success",
      "description": "",
      "description_tooltip": null,
      "layout": "IPY_MODEL_b115da2b43d0491fb33da0fea4d749e4",
      "max": 1,
      "min": 0,
      "orientation": "horizontal",
      "style": "IPY_MODEL_44f30bfe15914a0991c82652cb7ba884",
      "value": 1
     }
    },
    "cdb1234dfc50408eadeef7bbfb1b388b": {
     "model_module": "@jupyter-widgets/base",
     "model_module_version": "1.2.0",
     "model_name": "LayoutModel",
     "state": {
      "_model_module": "@jupyter-widgets/base",
      "_model_module_version": "1.2.0",
      "_model_name": "LayoutModel",
      "_view_count": null,
      "_view_module": "@jupyter-widgets/base",
      "_view_module_version": "1.2.0",
      "_view_name": "LayoutView",
      "align_content": null,
      "align_items": null,
      "align_self": null,
      "border": null,
      "bottom": null,
      "display": null,
      "flex": null,
      "flex_flow": null,
      "grid_area": null,
      "grid_auto_columns": null,
      "grid_auto_flow": null,
      "grid_auto_rows": null,
      "grid_column": null,
      "grid_gap": null,
      "grid_row": null,
      "grid_template_areas": null,
      "grid_template_columns": null,
      "grid_template_rows": null,
      "height": null,
      "justify_content": null,
      "justify_items": null,
      "left": null,
      "margin": null,
      "max_height": null,
      "max_width": null,
      "min_height": null,
      "min_width": null,
      "object_fit": null,
      "object_position": null,
      "order": null,
      "overflow": null,
      "overflow_x": null,
      "overflow_y": null,
      "padding": null,
      "right": null,
      "top": null,
      "visibility": null,
      "width": null
     }
    },
    "cdbfe296652042f5b3f6da33699bfd7e": {
     "model_module": "@jupyter-widgets/controls",
     "model_module_version": "1.5.0",
     "model_name": "HTMLModel",
     "state": {
      "_dom_classes": [],
      "_model_module": "@jupyter-widgets/controls",
      "_model_module_version": "1.5.0",
      "_model_name": "HTMLModel",
      "_view_count": null,
      "_view_module": "@jupyter-widgets/controls",
      "_view_module_version": "1.5.0",
      "_view_name": "HTMLView",
      "description": "",
      "description_tooltip": null,
      "layout": "IPY_MODEL_d9d0ab02f5564ff4b7b88b55102fa51f",
      "placeholder": "​",
      "style": "IPY_MODEL_9efbcc95e2424818813a676fc3326869",
      "value": " 161k/? [00:00&lt;00:00, 5.36MB/s]"
     }
    },
    "ce11a521ee08472580ec9873f6f2c8ff": {
     "model_module": "@jupyter-widgets/controls",
     "model_module_version": "1.5.0",
     "model_name": "HTMLModel",
     "state": {
      "_dom_classes": [],
      "_model_module": "@jupyter-widgets/controls",
      "_model_module_version": "1.5.0",
      "_model_name": "HTMLModel",
      "_view_count": null,
      "_view_module": "@jupyter-widgets/controls",
      "_view_module_version": "1.5.0",
      "_view_name": "HTMLView",
      "description": "",
      "description_tooltip": null,
      "layout": "IPY_MODEL_7716e1bdb2fa48caa0e5b747d8417ed9",
      "placeholder": "​",
      "style": "IPY_MODEL_980fc9d1dad044568f2cf09c5aabe851",
      "value": "100%"
     }
    },
    "d0cbd8d8f5c44ce18fe3c56898032531": {
     "model_module": "@jupyter-widgets/controls",
     "model_module_version": "1.5.0",
     "model_name": "HTMLModel",
     "state": {
      "_dom_classes": [],
      "_model_module": "@jupyter-widgets/controls",
      "_model_module_version": "1.5.0",
      "_model_name": "HTMLModel",
      "_view_count": null,
      "_view_module": "@jupyter-widgets/controls",
      "_view_module_version": "1.5.0",
      "_view_name": "HTMLView",
      "description": "",
      "description_tooltip": null,
      "layout": "IPY_MODEL_8fd31916b9a34145844878916488ac3e",
      "placeholder": "​",
      "style": "IPY_MODEL_34f5c9847be647c2bee711dd612d4e48",
      "value": " 1/1 [00:00&lt;00:00, 15.48ba/s]"
     }
    },
    "d11b7ef0b216454eb70d146ccbb46204": {
     "model_module": "@jupyter-widgets/base",
     "model_module_version": "1.2.0",
     "model_name": "LayoutModel",
     "state": {
      "_model_module": "@jupyter-widgets/base",
      "_model_module_version": "1.2.0",
      "_model_name": "LayoutModel",
      "_view_count": null,
      "_view_module": "@jupyter-widgets/base",
      "_view_module_version": "1.2.0",
      "_view_name": "LayoutView",
      "align_content": null,
      "align_items": null,
      "align_self": null,
      "border": null,
      "bottom": null,
      "display": null,
      "flex": null,
      "flex_flow": null,
      "grid_area": null,
      "grid_auto_columns": null,
      "grid_auto_flow": null,
      "grid_auto_rows": null,
      "grid_column": null,
      "grid_gap": null,
      "grid_row": null,
      "grid_template_areas": null,
      "grid_template_columns": null,
      "grid_template_rows": null,
      "height": null,
      "justify_content": null,
      "justify_items": null,
      "left": null,
      "margin": null,
      "max_height": null,
      "max_width": null,
      "min_height": null,
      "min_width": null,
      "object_fit": null,
      "object_position": null,
      "order": null,
      "overflow": null,
      "overflow_x": null,
      "overflow_y": null,
      "padding": null,
      "right": null,
      "top": null,
      "visibility": null,
      "width": "20px"
     }
    },
    "d22042dd9c614f249d4177cd162edb9d": {
     "model_module": "@jupyter-widgets/base",
     "model_module_version": "1.2.0",
     "model_name": "LayoutModel",
     "state": {
      "_model_module": "@jupyter-widgets/base",
      "_model_module_version": "1.2.0",
      "_model_name": "LayoutModel",
      "_view_count": null,
      "_view_module": "@jupyter-widgets/base",
      "_view_module_version": "1.2.0",
      "_view_name": "LayoutView",
      "align_content": null,
      "align_items": null,
      "align_self": null,
      "border": null,
      "bottom": null,
      "display": null,
      "flex": null,
      "flex_flow": null,
      "grid_area": null,
      "grid_auto_columns": null,
      "grid_auto_flow": null,
      "grid_auto_rows": null,
      "grid_column": null,
      "grid_gap": null,
      "grid_row": null,
      "grid_template_areas": null,
      "grid_template_columns": null,
      "grid_template_rows": null,
      "height": null,
      "justify_content": null,
      "justify_items": null,
      "left": null,
      "margin": null,
      "max_height": null,
      "max_width": null,
      "min_height": null,
      "min_width": null,
      "object_fit": null,
      "object_position": null,
      "order": null,
      "overflow": null,
      "overflow_x": null,
      "overflow_y": null,
      "padding": null,
      "right": null,
      "top": null,
      "visibility": null,
      "width": null
     }
    },
    "d258296f72f541c291db35ea264527de": {
     "model_module": "@jupyter-widgets/controls",
     "model_module_version": "1.5.0",
     "model_name": "DescriptionStyleModel",
     "state": {
      "_model_module": "@jupyter-widgets/controls",
      "_model_module_version": "1.5.0",
      "_model_name": "DescriptionStyleModel",
      "_view_count": null,
      "_view_module": "@jupyter-widgets/base",
      "_view_module_version": "1.2.0",
      "_view_name": "StyleView",
      "description_width": ""
     }
    },
    "d445ed26cd1d40818c365692d1571680": {
     "model_module": "@jupyter-widgets/controls",
     "model_module_version": "1.5.0",
     "model_name": "HBoxModel",
     "state": {
      "_dom_classes": [],
      "_model_module": "@jupyter-widgets/controls",
      "_model_module_version": "1.5.0",
      "_model_name": "HBoxModel",
      "_view_count": null,
      "_view_module": "@jupyter-widgets/controls",
      "_view_module_version": "1.5.0",
      "_view_name": "HBoxView",
      "box_style": "",
      "children": [
       "IPY_MODEL_f3f0679acbf142bf9acc2f46701e83f8",
       "IPY_MODEL_60edc69af033421c9aba4fc943f2c216",
       "IPY_MODEL_b18db8e171bd49009f89d0f961915dfc"
      ],
      "layout": "IPY_MODEL_65638636bae241c4854bc4f4a5072df9"
     }
    },
    "d493bfc3e89147c4b423d9001519d62f": {
     "model_module": "@jupyter-widgets/controls",
     "model_module_version": "1.5.0",
     "model_name": "PasswordModel",
     "state": {
      "_dom_classes": [],
      "_model_module": "@jupyter-widgets/controls",
      "_model_module_version": "1.5.0",
      "_model_name": "PasswordModel",
      "_view_count": null,
      "_view_module": "@jupyter-widgets/controls",
      "_view_module_version": "1.5.0",
      "_view_name": "PasswordView",
      "continuous_update": true,
      "description": "Password:",
      "description_tooltip": null,
      "disabled": false,
      "layout": "IPY_MODEL_cdb1234dfc50408eadeef7bbfb1b388b",
      "placeholder": "​",
      "style": "IPY_MODEL_d537ad0980dc41889484f227eba49b51",
      "value": ""
     }
    },
    "d506cfa68fef41b6933a71d6d00b7b1e": {
     "model_module": "@jupyter-widgets/controls",
     "model_module_version": "1.5.0",
     "model_name": "ProgressStyleModel",
     "state": {
      "_model_module": "@jupyter-widgets/controls",
      "_model_module_version": "1.5.0",
      "_model_name": "ProgressStyleModel",
      "_view_count": null,
      "_view_module": "@jupyter-widgets/base",
      "_view_module_version": "1.2.0",
      "_view_name": "StyleView",
      "bar_color": null,
      "description_width": ""
     }
    },
    "d537ad0980dc41889484f227eba49b51": {
     "model_module": "@jupyter-widgets/controls",
     "model_module_version": "1.5.0",
     "model_name": "DescriptionStyleModel",
     "state": {
      "_model_module": "@jupyter-widgets/controls",
      "_model_module_version": "1.5.0",
      "_model_name": "DescriptionStyleModel",
      "_view_count": null,
      "_view_module": "@jupyter-widgets/base",
      "_view_module_version": "1.2.0",
      "_view_name": "StyleView",
      "description_width": ""
     }
    },
    "d5b0abeb23b14aff98e4a0796aaf6a4b": {
     "model_module": "@jupyter-widgets/controls",
     "model_module_version": "1.5.0",
     "model_name": "FloatProgressModel",
     "state": {
      "_dom_classes": [],
      "_model_module": "@jupyter-widgets/controls",
      "_model_module_version": "1.5.0",
      "_model_name": "FloatProgressModel",
      "_view_count": null,
      "_view_module": "@jupyter-widgets/controls",
      "_view_module_version": "1.5.0",
      "_view_name": "ProgressView",
      "bar_style": "success",
      "description": "",
      "description_tooltip": null,
      "layout": "IPY_MODEL_65ef2d455e674db88519c460d0791716",
      "max": 620848700,
      "min": 0,
      "orientation": "horizontal",
      "style": "IPY_MODEL_6fe9c246de494ca9a7b631604504c47a",
      "value": 620848700
     }
    },
    "d74de43eeacb4ad0995ec45d88d6304c": {
     "model_module": "@jupyter-widgets/controls",
     "model_module_version": "1.5.0",
     "model_name": "HTMLModel",
     "state": {
      "_dom_classes": [],
      "_model_module": "@jupyter-widgets/controls",
      "_model_module_version": "1.5.0",
      "_model_name": "HTMLModel",
      "_view_count": null,
      "_view_module": "@jupyter-widgets/controls",
      "_view_module_version": "1.5.0",
      "_view_name": "HTMLView",
      "description": "",
      "description_tooltip": null,
      "layout": "IPY_MODEL_880133b6a504420abd5baac3c5089b2d",
      "placeholder": "​",
      "style": "IPY_MODEL_03a0603fd2ce4871b51b6b50e4f97e90",
      "value": ""
     }
    },
    "d77d2d03adff4193a1b48194341221b3": {
     "model_module": "@jupyter-widgets/base",
     "model_module_version": "1.2.0",
     "model_name": "LayoutModel",
     "state": {
      "_model_module": "@jupyter-widgets/base",
      "_model_module_version": "1.2.0",
      "_model_name": "LayoutModel",
      "_view_count": null,
      "_view_module": "@jupyter-widgets/base",
      "_view_module_version": "1.2.0",
      "_view_name": "LayoutView",
      "align_content": null,
      "align_items": null,
      "align_self": null,
      "border": null,
      "bottom": null,
      "display": null,
      "flex": null,
      "flex_flow": null,
      "grid_area": null,
      "grid_auto_columns": null,
      "grid_auto_flow": null,
      "grid_auto_rows": null,
      "grid_column": null,
      "grid_gap": null,
      "grid_row": null,
      "grid_template_areas": null,
      "grid_template_columns": null,
      "grid_template_rows": null,
      "height": null,
      "justify_content": null,
      "justify_items": null,
      "left": null,
      "margin": null,
      "max_height": null,
      "max_width": null,
      "min_height": null,
      "min_width": null,
      "object_fit": null,
      "object_position": null,
      "order": null,
      "overflow": null,
      "overflow_x": null,
      "overflow_y": null,
      "padding": null,
      "right": null,
      "top": null,
      "visibility": null,
      "width": null
     }
    },
    "d94984fdc6694752921fd45b7b8de36c": {
     "model_module": "@jupyter-widgets/controls",
     "model_module_version": "1.5.0",
     "model_name": "FloatProgressModel",
     "state": {
      "_dom_classes": [],
      "_model_module": "@jupyter-widgets/controls",
      "_model_module_version": "1.5.0",
      "_model_name": "FloatProgressModel",
      "_view_count": null,
      "_view_module": "@jupyter-widgets/controls",
      "_view_module_version": "1.5.0",
      "_view_name": "ProgressView",
      "bar_style": "success",
      "description": "",
      "description_tooltip": null,
      "layout": "IPY_MODEL_9c33ab076757490a84d507772dc4b69d",
      "max": 1647,
      "min": 0,
      "orientation": "horizontal",
      "style": "IPY_MODEL_948b7538f7d24589823797f8612dcfed",
      "value": 1647
     }
    },
    "d9d0ab02f5564ff4b7b88b55102fa51f": {
     "model_module": "@jupyter-widgets/base",
     "model_module_version": "1.2.0",
     "model_name": "LayoutModel",
     "state": {
      "_model_module": "@jupyter-widgets/base",
      "_model_module_version": "1.2.0",
      "_model_name": "LayoutModel",
      "_view_count": null,
      "_view_module": "@jupyter-widgets/base",
      "_view_module_version": "1.2.0",
      "_view_name": "LayoutView",
      "align_content": null,
      "align_items": null,
      "align_self": null,
      "border": null,
      "bottom": null,
      "display": null,
      "flex": null,
      "flex_flow": null,
      "grid_area": null,
      "grid_auto_columns": null,
      "grid_auto_flow": null,
      "grid_auto_rows": null,
      "grid_column": null,
      "grid_gap": null,
      "grid_row": null,
      "grid_template_areas": null,
      "grid_template_columns": null,
      "grid_template_rows": null,
      "height": null,
      "justify_content": null,
      "justify_items": null,
      "left": null,
      "margin": null,
      "max_height": null,
      "max_width": null,
      "min_height": null,
      "min_width": null,
      "object_fit": null,
      "object_position": null,
      "order": null,
      "overflow": null,
      "overflow_x": null,
      "overflow_y": null,
      "padding": null,
      "right": null,
      "top": null,
      "visibility": null,
      "width": null
     }
    },
    "db21a864f02e438dafefbf2ecf4192ae": {
     "model_module": "@jupyter-widgets/controls",
     "model_module_version": "1.5.0",
     "model_name": "HTMLModel",
     "state": {
      "_dom_classes": [],
      "_model_module": "@jupyter-widgets/controls",
      "_model_module_version": "1.5.0",
      "_model_name": "HTMLModel",
      "_view_count": null,
      "_view_module": "@jupyter-widgets/controls",
      "_view_module_version": "1.5.0",
      "_view_name": "HTMLView",
      "description": "",
      "description_tooltip": null,
      "layout": "IPY_MODEL_762da8b71d714f3c9898d54c26ded701",
      "placeholder": "​",
      "style": "IPY_MODEL_5799f1ce85ec4722a48d45a666aee28b",
      "value": "Downloading: 100%"
     }
    },
    "db84a3fcf62e41318e13d4f36efee8c9": {
     "model_module": "@jupyter-widgets/base",
     "model_module_version": "1.2.0",
     "model_name": "LayoutModel",
     "state": {
      "_model_module": "@jupyter-widgets/base",
      "_model_module_version": "1.2.0",
      "_model_name": "LayoutModel",
      "_view_count": null,
      "_view_module": "@jupyter-widgets/base",
      "_view_module_version": "1.2.0",
      "_view_name": "LayoutView",
      "align_content": null,
      "align_items": null,
      "align_self": null,
      "border": null,
      "bottom": null,
      "display": null,
      "flex": null,
      "flex_flow": null,
      "grid_area": null,
      "grid_auto_columns": null,
      "grid_auto_flow": null,
      "grid_auto_rows": null,
      "grid_column": null,
      "grid_gap": null,
      "grid_row": null,
      "grid_template_areas": null,
      "grid_template_columns": null,
      "grid_template_rows": null,
      "height": null,
      "justify_content": null,
      "justify_items": null,
      "left": null,
      "margin": null,
      "max_height": null,
      "max_width": null,
      "min_height": null,
      "min_width": null,
      "object_fit": null,
      "object_position": null,
      "order": null,
      "overflow": null,
      "overflow_x": null,
      "overflow_y": null,
      "padding": null,
      "right": null,
      "top": null,
      "visibility": null,
      "width": null
     }
    },
    "dd72106b4b1a42dc902c77e632b52866": {
     "model_module": "@jupyter-widgets/controls",
     "model_module_version": "1.5.0",
     "model_name": "DescriptionStyleModel",
     "state": {
      "_model_module": "@jupyter-widgets/controls",
      "_model_module_version": "1.5.0",
      "_model_name": "DescriptionStyleModel",
      "_view_count": null,
      "_view_module": "@jupyter-widgets/base",
      "_view_module_version": "1.2.0",
      "_view_name": "StyleView",
      "description_width": ""
     }
    },
    "de70b5deb8894bf8ab9f75a79a228f8d": {
     "model_module": "@jupyter-widgets/base",
     "model_module_version": "1.2.0",
     "model_name": "LayoutModel",
     "state": {
      "_model_module": "@jupyter-widgets/base",
      "_model_module_version": "1.2.0",
      "_model_name": "LayoutModel",
      "_view_count": null,
      "_view_module": "@jupyter-widgets/base",
      "_view_module_version": "1.2.0",
      "_view_name": "LayoutView",
      "align_content": null,
      "align_items": null,
      "align_self": null,
      "border": null,
      "bottom": null,
      "display": null,
      "flex": null,
      "flex_flow": null,
      "grid_area": null,
      "grid_auto_columns": null,
      "grid_auto_flow": null,
      "grid_auto_rows": null,
      "grid_column": null,
      "grid_gap": null,
      "grid_row": null,
      "grid_template_areas": null,
      "grid_template_columns": null,
      "grid_template_rows": null,
      "height": null,
      "justify_content": null,
      "justify_items": null,
      "left": null,
      "margin": null,
      "max_height": null,
      "max_width": null,
      "min_height": null,
      "min_width": null,
      "object_fit": null,
      "object_position": null,
      "order": null,
      "overflow": null,
      "overflow_x": null,
      "overflow_y": null,
      "padding": null,
      "right": null,
      "top": null,
      "visibility": null,
      "width": null
     }
    },
    "e3a3083b43784898acb579cea2fc0c9b": {
     "model_module": "@jupyter-widgets/controls",
     "model_module_version": "1.5.0",
     "model_name": "HBoxModel",
     "state": {
      "_dom_classes": [],
      "_model_module": "@jupyter-widgets/controls",
      "_model_module_version": "1.5.0",
      "_model_name": "HBoxModel",
      "_view_count": null,
      "_view_module": "@jupyter-widgets/controls",
      "_view_module_version": "1.5.0",
      "_view_name": "HBoxView",
      "box_style": "",
      "children": [
       "IPY_MODEL_ce11a521ee08472580ec9873f6f2c8ff",
       "IPY_MODEL_0945eebd6624416a82b94c11d1f46e75",
       "IPY_MODEL_f6d66815620f44e98305e0c3eb5a10b4"
      ],
      "layout": "IPY_MODEL_d22042dd9c614f249d4177cd162edb9d"
     }
    },
    "e503697e790f4ea29d3990511b66d0a5": {
     "model_module": "@jupyter-widgets/controls",
     "model_module_version": "1.5.0",
     "model_name": "DescriptionStyleModel",
     "state": {
      "_model_module": "@jupyter-widgets/controls",
      "_model_module_version": "1.5.0",
      "_model_name": "DescriptionStyleModel",
      "_view_count": null,
      "_view_module": "@jupyter-widgets/base",
      "_view_module_version": "1.2.0",
      "_view_name": "StyleView",
      "description_width": ""
     }
    },
    "e5bb1f992b0e48cd929406fbe2c00657": {
     "model_module": "@jupyter-widgets/controls",
     "model_module_version": "1.5.0",
     "model_name": "DescriptionStyleModel",
     "state": {
      "_model_module": "@jupyter-widgets/controls",
      "_model_module_version": "1.5.0",
      "_model_name": "DescriptionStyleModel",
      "_view_count": null,
      "_view_module": "@jupyter-widgets/base",
      "_view_module_version": "1.2.0",
      "_view_name": "StyleView",
      "description_width": ""
     }
    },
    "e700980cde0a43668dc6f3a055bba5b3": {
     "model_module": "@jupyter-widgets/controls",
     "model_module_version": "1.5.0",
     "model_name": "ProgressStyleModel",
     "state": {
      "_model_module": "@jupyter-widgets/controls",
      "_model_module_version": "1.5.0",
      "_model_name": "ProgressStyleModel",
      "_view_count": null,
      "_view_module": "@jupyter-widgets/base",
      "_view_module_version": "1.2.0",
      "_view_name": "StyleView",
      "bar_color": null,
      "description_width": ""
     }
    },
    "e74c961d20b140cbb94bd72516ac48a2": {
     "model_module": "@jupyter-widgets/controls",
     "model_module_version": "1.5.0",
     "model_name": "HTMLModel",
     "state": {
      "_dom_classes": [],
      "_model_module": "@jupyter-widgets/controls",
      "_model_module_version": "1.5.0",
      "_model_name": "HTMLModel",
      "_view_count": null,
      "_view_module": "@jupyter-widgets/controls",
      "_view_module_version": "1.5.0",
      "_view_name": "HTMLView",
      "description": "",
      "description_tooltip": null,
      "layout": "IPY_MODEL_3bef5063e30846cba297864f19318422",
      "placeholder": "​",
      "style": "IPY_MODEL_e503697e790f4ea29d3990511b66d0a5",
      "value": " 3478/3478 [00:44&lt;00:00, 91.04ex/s]"
     }
    },
    "e84826abaf754217b98672dfd41d35fc": {
     "model_module": "@jupyter-widgets/base",
     "model_module_version": "1.2.0",
     "model_name": "LayoutModel",
     "state": {
      "_model_module": "@jupyter-widgets/base",
      "_model_module_version": "1.2.0",
      "_model_name": "LayoutModel",
      "_view_count": null,
      "_view_module": "@jupyter-widgets/base",
      "_view_module_version": "1.2.0",
      "_view_name": "LayoutView",
      "align_content": null,
      "align_items": null,
      "align_self": null,
      "border": null,
      "bottom": null,
      "display": null,
      "flex": null,
      "flex_flow": null,
      "grid_area": null,
      "grid_auto_columns": null,
      "grid_auto_flow": null,
      "grid_auto_rows": null,
      "grid_column": null,
      "grid_gap": null,
      "grid_row": null,
      "grid_template_areas": null,
      "grid_template_columns": null,
      "grid_template_rows": null,
      "height": null,
      "justify_content": null,
      "justify_items": null,
      "left": null,
      "margin": null,
      "max_height": null,
      "max_width": null,
      "min_height": null,
      "min_width": null,
      "object_fit": null,
      "object_position": null,
      "order": null,
      "overflow": null,
      "overflow_x": null,
      "overflow_y": null,
      "padding": null,
      "right": null,
      "top": null,
      "visibility": null,
      "width": null
     }
    },
    "e878264e9f8c4ba0866d1afb6af9ccc6": {
     "model_module": "@jupyter-widgets/base",
     "model_module_version": "1.2.0",
     "model_name": "LayoutModel",
     "state": {
      "_model_module": "@jupyter-widgets/base",
      "_model_module_version": "1.2.0",
      "_model_name": "LayoutModel",
      "_view_count": null,
      "_view_module": "@jupyter-widgets/base",
      "_view_module_version": "1.2.0",
      "_view_name": "LayoutView",
      "align_content": null,
      "align_items": null,
      "align_self": null,
      "border": null,
      "bottom": null,
      "display": null,
      "flex": null,
      "flex_flow": null,
      "grid_area": null,
      "grid_auto_columns": null,
      "grid_auto_flow": null,
      "grid_auto_rows": null,
      "grid_column": null,
      "grid_gap": null,
      "grid_row": null,
      "grid_template_areas": null,
      "grid_template_columns": null,
      "grid_template_rows": null,
      "height": null,
      "justify_content": null,
      "justify_items": null,
      "left": null,
      "margin": null,
      "max_height": null,
      "max_width": null,
      "min_height": null,
      "min_width": null,
      "object_fit": null,
      "object_position": null,
      "order": null,
      "overflow": null,
      "overflow_x": null,
      "overflow_y": null,
      "padding": null,
      "right": null,
      "top": null,
      "visibility": null,
      "width": null
     }
    },
    "ea6d1950ca604da59c4cbdd9b910b903": {
     "model_module": "@jupyter-widgets/base",
     "model_module_version": "1.2.0",
     "model_name": "LayoutModel",
     "state": {
      "_model_module": "@jupyter-widgets/base",
      "_model_module_version": "1.2.0",
      "_model_name": "LayoutModel",
      "_view_count": null,
      "_view_module": "@jupyter-widgets/base",
      "_view_module_version": "1.2.0",
      "_view_name": "LayoutView",
      "align_content": null,
      "align_items": null,
      "align_self": null,
      "border": null,
      "bottom": null,
      "display": null,
      "flex": null,
      "flex_flow": null,
      "grid_area": null,
      "grid_auto_columns": null,
      "grid_auto_flow": null,
      "grid_auto_rows": null,
      "grid_column": null,
      "grid_gap": null,
      "grid_row": null,
      "grid_template_areas": null,
      "grid_template_columns": null,
      "grid_template_rows": null,
      "height": null,
      "justify_content": null,
      "justify_items": null,
      "left": null,
      "margin": null,
      "max_height": null,
      "max_width": null,
      "min_height": null,
      "min_width": null,
      "object_fit": null,
      "object_position": null,
      "order": null,
      "overflow": null,
      "overflow_x": null,
      "overflow_y": null,
      "padding": null,
      "right": null,
      "top": null,
      "visibility": null,
      "width": null
     }
    },
    "eb7e72cc13454fe5b69cd11c1b26009d": {
     "model_module": "@jupyter-widgets/base",
     "model_module_version": "1.2.0",
     "model_name": "LayoutModel",
     "state": {
      "_model_module": "@jupyter-widgets/base",
      "_model_module_version": "1.2.0",
      "_model_name": "LayoutModel",
      "_view_count": null,
      "_view_module": "@jupyter-widgets/base",
      "_view_module_version": "1.2.0",
      "_view_name": "LayoutView",
      "align_content": null,
      "align_items": null,
      "align_self": null,
      "border": null,
      "bottom": null,
      "display": null,
      "flex": null,
      "flex_flow": null,
      "grid_area": null,
      "grid_auto_columns": null,
      "grid_auto_flow": null,
      "grid_auto_rows": null,
      "grid_column": null,
      "grid_gap": null,
      "grid_row": null,
      "grid_template_areas": null,
      "grid_template_columns": null,
      "grid_template_rows": null,
      "height": null,
      "justify_content": null,
      "justify_items": null,
      "left": null,
      "margin": null,
      "max_height": null,
      "max_width": null,
      "min_height": null,
      "min_width": null,
      "object_fit": null,
      "object_position": null,
      "order": null,
      "overflow": null,
      "overflow_x": null,
      "overflow_y": null,
      "padding": null,
      "right": null,
      "top": null,
      "visibility": null,
      "width": "20px"
     }
    },
    "ec0643d015f0466a8f6178a191d78978": {
     "model_module": "@jupyter-widgets/controls",
     "model_module_version": "1.5.0",
     "model_name": "HTMLModel",
     "state": {
      "_dom_classes": [],
      "_model_module": "@jupyter-widgets/controls",
      "_model_module_version": "1.5.0",
      "_model_name": "HTMLModel",
      "_view_count": null,
      "_view_module": "@jupyter-widgets/controls",
      "_view_module_version": "1.5.0",
      "_view_name": "HTMLView",
      "description": "",
      "description_tooltip": null,
      "layout": "IPY_MODEL_29a58c0cbf4d4dc3943bbd22c4b74881",
      "placeholder": "​",
      "style": "IPY_MODEL_90ba1f42d4f14030978d5cb801ed7aee",
      "value": "100%"
     }
    },
    "ec764431ff01437da54daf9018a47d07": {
     "model_module": "@jupyter-widgets/base",
     "model_module_version": "1.2.0",
     "model_name": "LayoutModel",
     "state": {
      "_model_module": "@jupyter-widgets/base",
      "_model_module_version": "1.2.0",
      "_model_name": "LayoutModel",
      "_view_count": null,
      "_view_module": "@jupyter-widgets/base",
      "_view_module_version": "1.2.0",
      "_view_name": "LayoutView",
      "align_content": null,
      "align_items": null,
      "align_self": null,
      "border": null,
      "bottom": null,
      "display": null,
      "flex": null,
      "flex_flow": null,
      "grid_area": null,
      "grid_auto_columns": null,
      "grid_auto_flow": null,
      "grid_auto_rows": null,
      "grid_column": null,
      "grid_gap": null,
      "grid_row": null,
      "grid_template_areas": null,
      "grid_template_columns": null,
      "grid_template_rows": null,
      "height": null,
      "justify_content": null,
      "justify_items": null,
      "left": null,
      "margin": null,
      "max_height": null,
      "max_width": null,
      "min_height": null,
      "min_width": null,
      "object_fit": null,
      "object_position": null,
      "order": null,
      "overflow": null,
      "overflow_x": null,
      "overflow_y": null,
      "padding": null,
      "right": null,
      "top": null,
      "visibility": null,
      "width": null
     }
    },
    "ee52775961e747fdacefbbdd072ec160": {
     "model_module": "@jupyter-widgets/controls",
     "model_module_version": "1.5.0",
     "model_name": "FloatProgressModel",
     "state": {
      "_dom_classes": [],
      "_model_module": "@jupyter-widgets/controls",
      "_model_module_version": "1.5.0",
      "_model_name": "FloatProgressModel",
      "_view_count": null,
      "_view_module": "@jupyter-widgets/controls",
      "_view_module_version": "1.5.0",
      "_view_name": "ProgressView",
      "bar_style": "success",
      "description": "",
      "description_tooltip": null,
      "layout": "IPY_MODEL_1d21f7ad244041028f5f9cce8ea428c3",
      "max": 4,
      "min": 0,
      "orientation": "horizontal",
      "style": "IPY_MODEL_e700980cde0a43668dc6f3a055bba5b3",
      "value": 4
     }
    },
    "ee6355429fd1446d89335b149efff7e5": {
     "model_module": "@jupyter-widgets/controls",
     "model_module_version": "1.5.0",
     "model_name": "DescriptionStyleModel",
     "state": {
      "_model_module": "@jupyter-widgets/controls",
      "_model_module_version": "1.5.0",
      "_model_name": "DescriptionStyleModel",
      "_view_count": null,
      "_view_module": "@jupyter-widgets/base",
      "_view_module_version": "1.2.0",
      "_view_name": "StyleView",
      "description_width": ""
     }
    },
    "ee9d0fc762d94aa4b2725b9c2826034b": {
     "model_module": "@jupyter-widgets/controls",
     "model_module_version": "1.5.0",
     "model_name": "DescriptionStyleModel",
     "state": {
      "_model_module": "@jupyter-widgets/controls",
      "_model_module_version": "1.5.0",
      "_model_name": "DescriptionStyleModel",
      "_view_count": null,
      "_view_module": "@jupyter-widgets/base",
      "_view_module_version": "1.2.0",
      "_view_name": "StyleView",
      "description_width": ""
     }
    },
    "f2479f0a421e43aca3f0507a195623ef": {
     "model_module": "@jupyter-widgets/base",
     "model_module_version": "1.2.0",
     "model_name": "LayoutModel",
     "state": {
      "_model_module": "@jupyter-widgets/base",
      "_model_module_version": "1.2.0",
      "_model_name": "LayoutModel",
      "_view_count": null,
      "_view_module": "@jupyter-widgets/base",
      "_view_module_version": "1.2.0",
      "_view_name": "LayoutView",
      "align_content": null,
      "align_items": null,
      "align_self": null,
      "border": null,
      "bottom": null,
      "display": null,
      "flex": null,
      "flex_flow": null,
      "grid_area": null,
      "grid_auto_columns": null,
      "grid_auto_flow": null,
      "grid_auto_rows": null,
      "grid_column": null,
      "grid_gap": null,
      "grid_row": null,
      "grid_template_areas": null,
      "grid_template_columns": null,
      "grid_template_rows": null,
      "height": null,
      "justify_content": null,
      "justify_items": null,
      "left": null,
      "margin": null,
      "max_height": null,
      "max_width": null,
      "min_height": null,
      "min_width": null,
      "object_fit": null,
      "object_position": null,
      "order": null,
      "overflow": null,
      "overflow_x": null,
      "overflow_y": null,
      "padding": null,
      "right": null,
      "top": null,
      "visibility": null,
      "width": null
     }
    },
    "f2682efb6aa444bc8bf36ebfd6668a43": {
     "model_module": "@jupyter-widgets/base",
     "model_module_version": "1.2.0",
     "model_name": "LayoutModel",
     "state": {
      "_model_module": "@jupyter-widgets/base",
      "_model_module_version": "1.2.0",
      "_model_name": "LayoutModel",
      "_view_count": null,
      "_view_module": "@jupyter-widgets/base",
      "_view_module_version": "1.2.0",
      "_view_name": "LayoutView",
      "align_content": null,
      "align_items": null,
      "align_self": null,
      "border": null,
      "bottom": null,
      "display": null,
      "flex": null,
      "flex_flow": null,
      "grid_area": null,
      "grid_auto_columns": null,
      "grid_auto_flow": null,
      "grid_auto_rows": null,
      "grid_column": null,
      "grid_gap": null,
      "grid_row": null,
      "grid_template_areas": null,
      "grid_template_columns": null,
      "grid_template_rows": null,
      "height": null,
      "justify_content": null,
      "justify_items": null,
      "left": null,
      "margin": null,
      "max_height": null,
      "max_width": null,
      "min_height": null,
      "min_width": null,
      "object_fit": null,
      "object_position": null,
      "order": null,
      "overflow": null,
      "overflow_x": null,
      "overflow_y": null,
      "padding": null,
      "right": null,
      "top": null,
      "visibility": null,
      "width": null
     }
    },
    "f2ec5a28737045aaa9231d2e7997e042": {
     "model_module": "@jupyter-widgets/controls",
     "model_module_version": "1.5.0",
     "model_name": "DescriptionStyleModel",
     "state": {
      "_model_module": "@jupyter-widgets/controls",
      "_model_module_version": "1.5.0",
      "_model_name": "DescriptionStyleModel",
      "_view_count": null,
      "_view_module": "@jupyter-widgets/base",
      "_view_module_version": "1.2.0",
      "_view_name": "StyleView",
      "description_width": ""
     }
    },
    "f3f0679acbf142bf9acc2f46701e83f8": {
     "model_module": "@jupyter-widgets/controls",
     "model_module_version": "1.5.0",
     "model_name": "HTMLModel",
     "state": {
      "_dom_classes": [],
      "_model_module": "@jupyter-widgets/controls",
      "_model_module_version": "1.5.0",
      "_model_name": "HTMLModel",
      "_view_count": null,
      "_view_module": "@jupyter-widgets/controls",
      "_view_module_version": "1.5.0",
      "_view_name": "HTMLView",
      "description": "",
      "description_tooltip": null,
      "layout": "IPY_MODEL_77f181b4a00249a1b87089c1abe7b211",
      "placeholder": "​",
      "style": "IPY_MODEL_0d518bc066b748abb06eb2771c08de2d",
      "value": "Downloading: 100%"
     }
    },
    "f5ed78d4c93d4ad8a3c36e9c6be42954": {
     "model_module": "@jupyter-widgets/controls",
     "model_module_version": "1.5.0",
     "model_name": "HBoxModel",
     "state": {
      "_dom_classes": [],
      "_model_module": "@jupyter-widgets/controls",
      "_model_module_version": "1.5.0",
      "_model_name": "HBoxModel",
      "_view_count": null,
      "_view_module": "@jupyter-widgets/controls",
      "_view_module_version": "1.5.0",
      "_view_name": "HBoxView",
      "box_style": "",
      "children": [
       "IPY_MODEL_4201952adf02450bb106bc90b65b21a8",
       "IPY_MODEL_136e3698e7ae4f37b2b6eaabd74fff37",
       "IPY_MODEL_bb2ce51969174648805e61c6fe5bbc26"
      ],
      "layout": "IPY_MODEL_5923ee1f3d31466c949f9abb7f98ee48"
     }
    },
    "f6c41bd10465450287aa50dd569a96a9": {
     "model_module": "@jupyter-widgets/controls",
     "model_module_version": "1.5.0",
     "model_name": "HTMLModel",
     "state": {
      "_dom_classes": [],
      "_model_module": "@jupyter-widgets/controls",
      "_model_module_version": "1.5.0",
      "_model_name": "HTMLModel",
      "_view_count": null,
      "_view_module": "@jupyter-widgets/controls",
      "_view_module_version": "1.5.0",
      "_view_name": "HTMLView",
      "description": "",
      "description_tooltip": null,
      "layout": "IPY_MODEL_db84a3fcf62e41318e13d4f36efee8c9",
      "placeholder": "​",
      "style": "IPY_MODEL_36bd4de2f3974c39ba1c8becb10001aa",
      "value": " 1.18G/1.18G [00:26&lt;00:00, 45.4MB/s]"
     }
    },
    "f6d66815620f44e98305e0c3eb5a10b4": {
     "model_module": "@jupyter-widgets/controls",
     "model_module_version": "1.5.0",
     "model_name": "HTMLModel",
     "state": {
      "_dom_classes": [],
      "_model_module": "@jupyter-widgets/controls",
      "_model_module_version": "1.5.0",
      "_model_name": "HTMLModel",
      "_view_count": null,
      "_view_module": "@jupyter-widgets/controls",
      "_view_module_version": "1.5.0",
      "_view_name": "HTMLView",
      "description": "",
      "description_tooltip": null,
      "layout": "IPY_MODEL_28e0bf7007664d528ab282d9dce4ca08",
      "placeholder": "​",
      "style": "IPY_MODEL_3ccfaa3ba3ad4baaa68b4b2ca3f396a7",
      "value": " 3478/3478 [00:00&lt;00:00, 8370.79ex/s]"
     }
    },
    "f8e74bf4449f4d55bfc52d765ba44882": {
     "model_module": "@jupyter-widgets/controls",
     "model_module_version": "1.5.0",
     "model_name": "FloatProgressModel",
     "state": {
      "_dom_classes": [],
      "_model_module": "@jupyter-widgets/controls",
      "_model_module_version": "1.5.0",
      "_model_name": "FloatProgressModel",
      "_view_count": null,
      "_view_module": "@jupyter-widgets/controls",
      "_view_module_version": "1.5.0",
      "_view_name": "ProgressView",
      "bar_style": "success",
      "description": "",
      "description_tooltip": null,
      "layout": "IPY_MODEL_946ad0cbe0eb4ee3af73d2b1de3ea95a",
      "max": 1262087665,
      "min": 0,
      "orientation": "horizontal",
      "style": "IPY_MODEL_d506cfa68fef41b6933a71d6d00b7b1e",
      "value": 1262087665
     }
    },
    "f9277b3fe673450a881681a63d4195aa": {
     "model_module": "@jupyter-widgets/controls",
     "model_module_version": "1.5.0",
     "model_name": "HTMLModel",
     "state": {
      "_dom_classes": [],
      "_model_module": "@jupyter-widgets/controls",
      "_model_module_version": "1.5.0",
      "_model_name": "HTMLModel",
      "_view_count": null,
      "_view_module": "@jupyter-widgets/controls",
      "_view_module_version": "1.5.0",
      "_view_name": "HTMLView",
      "description": "",
      "description_tooltip": null,
      "layout": "IPY_MODEL_2bf825a1eed84df7b3aca522a1fb3296",
      "placeholder": "​",
      "style": "IPY_MODEL_ee6355429fd1446d89335b149efff7e5",
      "value": ""
     }
    },
    "f9c824702b414a7092fc81a2c98e9781": {
     "model_module": "@jupyter-widgets/controls",
     "model_module_version": "1.5.0",
     "model_name": "HBoxModel",
     "state": {
      "_dom_classes": [],
      "_model_module": "@jupyter-widgets/controls",
      "_model_module_version": "1.5.0",
      "_model_name": "HBoxModel",
      "_view_count": null,
      "_view_module": "@jupyter-widgets/controls",
      "_view_module_version": "1.5.0",
      "_view_name": "HBoxView",
      "box_style": "",
      "children": [
       "IPY_MODEL_51ca68f7b0704d89964a5cbf9bf299bc",
       "IPY_MODEL_d5b0abeb23b14aff98e4a0796aaf6a4b",
       "IPY_MODEL_18171383454a4366a9ed7f32742df20f"
      ],
      "layout": "IPY_MODEL_859fd7b86695498bb5516beda397f3d3"
     }
    },
    "fa08a1c6fc6f49038a878076ae2809c5": {
     "model_module": "@jupyter-widgets/controls",
     "model_module_version": "1.5.0",
     "model_name": "HTMLModel",
     "state": {
      "_dom_classes": [],
      "_model_module": "@jupyter-widgets/controls",
      "_model_module_version": "1.5.0",
      "_model_name": "HTMLModel",
      "_view_count": null,
      "_view_module": "@jupyter-widgets/controls",
      "_view_module_version": "1.5.0",
      "_view_name": "HTMLView",
      "description": "",
      "description_tooltip": null,
      "layout": "IPY_MODEL_e84826abaf754217b98672dfd41d35fc",
      "placeholder": "​",
      "style": "IPY_MODEL_953293c28fa14e71a8e354ea1b844b75",
      "value": "Upload file pytorch_model.bin: 100%"
     }
    },
    "fa08a259ad534048baed7c94f748fb78": {
     "model_module": "@jupyter-widgets/base",
     "model_module_version": "1.2.0",
     "model_name": "LayoutModel",
     "state": {
      "_model_module": "@jupyter-widgets/base",
      "_model_module_version": "1.2.0",
      "_model_name": "LayoutModel",
      "_view_count": null,
      "_view_module": "@jupyter-widgets/base",
      "_view_module_version": "1.2.0",
      "_view_name": "LayoutView",
      "align_content": null,
      "align_items": null,
      "align_self": null,
      "border": null,
      "bottom": null,
      "display": null,
      "flex": null,
      "flex_flow": null,
      "grid_area": null,
      "grid_auto_columns": null,
      "grid_auto_flow": null,
      "grid_auto_rows": null,
      "grid_column": null,
      "grid_gap": null,
      "grid_row": null,
      "grid_template_areas": null,
      "grid_template_columns": null,
      "grid_template_rows": null,
      "height": null,
      "justify_content": null,
      "justify_items": null,
      "left": null,
      "margin": null,
      "max_height": null,
      "max_width": null,
      "min_height": null,
      "min_width": null,
      "object_fit": null,
      "object_position": null,
      "order": null,
      "overflow": null,
      "overflow_x": null,
      "overflow_y": null,
      "padding": null,
      "right": null,
      "top": null,
      "visibility": null,
      "width": "20px"
     }
    },
    "fae3163dd70549e19f208d18a6ebadee": {
     "model_module": "@jupyter-widgets/base",
     "model_module_version": "1.2.0",
     "model_name": "LayoutModel",
     "state": {
      "_model_module": "@jupyter-widgets/base",
      "_model_module_version": "1.2.0",
      "_model_name": "LayoutModel",
      "_view_count": null,
      "_view_module": "@jupyter-widgets/base",
      "_view_module_version": "1.2.0",
      "_view_name": "LayoutView",
      "align_content": null,
      "align_items": null,
      "align_self": null,
      "border": null,
      "bottom": null,
      "display": null,
      "flex": null,
      "flex_flow": null,
      "grid_area": null,
      "grid_auto_columns": null,
      "grid_auto_flow": null,
      "grid_auto_rows": null,
      "grid_column": null,
      "grid_gap": null,
      "grid_row": null,
      "grid_template_areas": null,
      "grid_template_columns": null,
      "grid_template_rows": null,
      "height": null,
      "justify_content": null,
      "justify_items": null,
      "left": null,
      "margin": null,
      "max_height": null,
      "max_width": null,
      "min_height": null,
      "min_width": null,
      "object_fit": null,
      "object_position": null,
      "order": null,
      "overflow": null,
      "overflow_x": null,
      "overflow_y": null,
      "padding": null,
      "right": null,
      "top": null,
      "visibility": null,
      "width": null
     }
    },
    "fbd3b32a954c45c788eb8967103dec9d": {
     "model_module": "@jupyter-widgets/controls",
     "model_module_version": "1.5.0",
     "model_name": "FloatProgressModel",
     "state": {
      "_dom_classes": [],
      "_model_module": "@jupyter-widgets/controls",
      "_model_module_version": "1.5.0",
      "_model_name": "FloatProgressModel",
      "_view_count": null,
      "_view_module": "@jupyter-widgets/controls",
      "_view_module_version": "1.5.0",
      "_view_name": "ProgressView",
      "bar_style": "success",
      "description": "",
      "description_tooltip": null,
      "layout": "IPY_MODEL_218f3651b2f84f15b4b3c7bb2c05e260",
      "max": 1269737156,
      "min": 0,
      "orientation": "horizontal",
      "style": "IPY_MODEL_34cf654ccffa445c92307c28e74496db",
      "value": 1269737156
     }
    },
    "fcb420f307994c76bf477fe2007a2cfc": {
     "model_module": "@jupyter-widgets/base",
     "model_module_version": "1.2.0",
     "model_name": "LayoutModel",
     "state": {
      "_model_module": "@jupyter-widgets/base",
      "_model_module_version": "1.2.0",
      "_model_name": "LayoutModel",
      "_view_count": null,
      "_view_module": "@jupyter-widgets/base",
      "_view_module_version": "1.2.0",
      "_view_name": "LayoutView",
      "align_content": null,
      "align_items": null,
      "align_self": null,
      "border": null,
      "bottom": null,
      "display": null,
      "flex": null,
      "flex_flow": null,
      "grid_area": null,
      "grid_auto_columns": null,
      "grid_auto_flow": null,
      "grid_auto_rows": null,
      "grid_column": null,
      "grid_gap": null,
      "grid_row": null,
      "grid_template_areas": null,
      "grid_template_columns": null,
      "grid_template_rows": null,
      "height": null,
      "justify_content": null,
      "justify_items": null,
      "left": null,
      "margin": null,
      "max_height": null,
      "max_width": null,
      "min_height": null,
      "min_width": null,
      "object_fit": null,
      "object_position": null,
      "order": null,
      "overflow": null,
      "overflow_x": null,
      "overflow_y": null,
      "padding": null,
      "right": null,
      "top": null,
      "visibility": null,
      "width": null
     }
    },
    "fe928771f52d4e0aaa69cd59a8d32f06": {
     "model_module": "@jupyter-widgets/controls",
     "model_module_version": "1.5.0",
     "model_name": "FloatProgressModel",
     "state": {
      "_dom_classes": [],
      "_model_module": "@jupyter-widgets/controls",
      "_model_module_version": "1.5.0",
      "_model_name": "FloatProgressModel",
      "_view_count": null,
      "_view_module": "@jupyter-widgets/controls",
      "_view_module_version": "1.5.0",
      "_view_name": "ProgressView",
      "bar_style": "success",
      "description": "",
      "description_tooltip": null,
      "layout": "IPY_MODEL_2ab34edf1481420f9dd350b1d8b8767c",
      "max": 1,
      "min": 0,
      "orientation": "horizontal",
      "style": "IPY_MODEL_c03c80a730eb4e77926d202999355433",
      "value": 1
     }
    },
    "ff7fef6949d9444aad4cda50971bf9da": {
     "model_module": "@jupyter-widgets/base",
     "model_module_version": "1.2.0",
     "model_name": "LayoutModel",
     "state": {
      "_model_module": "@jupyter-widgets/base",
      "_model_module_version": "1.2.0",
      "_model_name": "LayoutModel",
      "_view_count": null,
      "_view_module": "@jupyter-widgets/base",
      "_view_module_version": "1.2.0",
      "_view_name": "LayoutView",
      "align_content": null,
      "align_items": null,
      "align_self": null,
      "border": null,
      "bottom": null,
      "display": null,
      "flex": null,
      "flex_flow": null,
      "grid_area": null,
      "grid_auto_columns": null,
      "grid_auto_flow": null,
      "grid_auto_rows": null,
      "grid_column": null,
      "grid_gap": null,
      "grid_row": null,
      "grid_template_areas": null,
      "grid_template_columns": null,
      "grid_template_rows": null,
      "height": null,
      "justify_content": null,
      "justify_items": null,
      "left": null,
      "margin": null,
      "max_height": null,
      "max_width": null,
      "min_height": null,
      "min_width": null,
      "object_fit": null,
      "object_position": null,
      "order": null,
      "overflow": null,
      "overflow_x": null,
      "overflow_y": null,
      "padding": null,
      "right": null,
      "top": null,
      "visibility": null,
      "width": null
     }
    }
   }
  }
 },
 "nbformat": 4,
 "nbformat_minor": 1
}
