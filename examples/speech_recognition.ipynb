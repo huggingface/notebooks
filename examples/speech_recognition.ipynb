{
 "cells": [
  {
   "cell_type": "markdown",
   "metadata": {
    "colab_type": "text",
    "id": "view-in-github"
   },
   "source": [
    "<a href=\"https://colab.research.google.com/github/huggingface/notebooks/blob/add_wav2vec2/examples/speech_recognition.ipynb\" target=\"_parent\"><img src=\"https://colab.research.google.com/assets/colab-badge.svg\" alt=\"Open In Colab\"/></a>"
   ]
  },
  {
   "cell_type": "markdown",
   "metadata": {
    "id": "LBSYoWbi-45k"
   },
   "source": [
    "# **Fine-tuning Speech Model with 🤗 Transformers**"
   ]
  },
  {
   "cell_type": "markdown",
   "metadata": {
    "id": "fWj4gag6uH2I"
   },
   "source": [
    "This notebook shows how to fine-tune multi-lingual pretrained speech models for Automatic Speech Recognition."
   ]
  },
  {
   "cell_type": "markdown",
   "metadata": {
    "id": "MnXLL0QhuMBD"
   },
   "source": [
    "This notebook is built to run on the [TIMIT dataset](https://huggingface.co/datasets/timit) with any speech model checkpoint from the [Model Hub](https://huggingface.co/models?pipeline_tag=automatic-speech-recognition&sort=downloads) as long as that model has a version with a Connectionist Temporal Classification (CTC) head. Depending on the model and the GPU you are using, you might need to adjust the batch size to avoid out-of-memory errors. Set those two parameters, then the rest of the notebook should run smoothly:"
   ]
  },
  {
   "cell_type": "code",
   "execution_count": 1,
   "metadata": {
    "id": "v7CftmzCuKYl"
   },
   "outputs": [],
   "source": [
    "model_checkpoint = \"facebook/wav2vec2-base\"\n",
    "batch_size = 32"
   ]
  },
  {
   "cell_type": "markdown",
   "metadata": {
    "id": "HTSa1gvYuUX0"
   },
   "source": [
    "For a more in-detail explanation of how multi-lingual pretrained speech models function, please take a look at the [🤗 Blog](https://huggingface.co/blog/fine-tune-wav2vec2-english)."
   ]
  },
  {
   "cell_type": "markdown",
   "metadata": {
    "id": "e335hPmdtASZ"
   },
   "source": [
    "Before we start, let's install both `datasets` and `transformers` from master. Also, we need the `librosa` package to load audio files and the `jiwer` to evaluate our fine-tuned model using the [word error rate (WER)](https://huggingface.co/metrics/wer) metric ${}^1$."
   ]
  },
  {
   "cell_type": "code",
   "execution_count": 2,
   "metadata": {
    "id": "c8eh87Hoee5d"
   },
   "outputs": [],
   "source": [
    "%%capture\n",
    "!pip install datasets==1.14\n",
    "!pip install transformers==4.11.3\n",
    "!pip install librosa\n",
    "!pip install jiwer"
   ]
  },
  {
   "cell_type": "markdown",
   "metadata": {
    "id": "8_6kYmDMH9lR"
   },
   "source": [
    "Next we strongly suggest to upload your training checkpoints directly to the [🤗 Hub](https://huggingface.co/) while training. The [🤗 Hub](https://huggingface.co/) has integrated version control so you can be sure that no model checkpoint is getting lost during training. \n",
    "\n",
    "To do so you have to store your authentication token from the Hugging Face website (sign up [here](https://huggingface.co/join) if you haven't already!)"
   ]
  },
  {
   "cell_type": "code",
   "execution_count": 3,
   "metadata": {
    "colab": {
     "base_uri": "https://localhost:8080/",
     "height": 239,
     "referenced_widgets": [
      "1e0fc323b5744fa4a9f52e19ed17e51f",
      "e009bda61c6844d7a195937cd3edc69d",
      "e8efe81123244cdc9d923f213a28cc0f",
      "bdbf48017d7b46aa9175d60413d596ba",
      "f6f802e961ef4be6a7c3df9edd382497",
      "aa560b9c74c648968dc9e06d3f779b1b",
      "68742324ad074322b18d26db0a6887e6",
      "eaf82b66a8dc4024823253ee260f79b5",
      "20aa14cdf93848969cb5fc746c12f476",
      "1a6890f25d1346b9ac9c503f07d3c415",
      "de28bc73b90b4b7d854106dcc8d315f3",
      "9d15a9f1b03546fea5fbca5e39e9daaa",
      "c3fa5eee9e544fc2a8faf9eef90d4131",
      "966a899fc3d345329c577a10234892df",
      "e09c7201febc4d58bce738e843ba61b8",
      "4d01d067330840b1927ab1da60d1e4bb"
     ]
    },
    "id": "zFLBDyzQIA3R",
    "outputId": "ca186839-e9ec-4013-a9ec-2a10d4ec117b"
   },
   "outputs": [
    {
     "data": {
      "application/vnd.jupyter.widget-view+json": {
       "model_id": "1e0fc323b5744fa4a9f52e19ed17e51f",
       "version_major": 2,
       "version_minor": 0
      },
      "text/plain": [
       "VBox(children=(HTML(value=\"<center>\\n<img src=https://huggingface.co/front/assets/huggingface_logo-noborder.sv…"
      ]
     },
     "metadata": {},
     "output_type": "display_data"
    }
   ],
   "source": [
    "from huggingface_hub import notebook_login\n",
    "\n",
    "notebook_login()"
   ]
  },
  {
   "cell_type": "markdown",
   "metadata": {
    "id": "zCyw5D23IQ1F"
   },
   "source": [
    "\n",
    "Then you need to install Git-LFS to upload your model checkpoints:"
   ]
  },
  {
   "cell_type": "code",
   "execution_count": 4,
   "metadata": {
    "id": "Q9BnQDhOITBC"
   },
   "outputs": [],
   "source": [
    "%%capture\n",
    "!apt install git-lfs"
   ]
  },
  {
   "cell_type": "markdown",
   "metadata": {
    "id": "Mn9swf6EQ9Vd"
   },
   "source": [
    "\n",
    "\n",
    "\n",
    "---\n",
    "\n",
    "${}^1$ Timit is usually evaluated using the phoneme error rate (PER), but by far the most common metric in ASR is the word error rate (WER). To keep this notebook as general as possible we decided to evaluate the model using WER."
   ]
  },
  {
   "cell_type": "markdown",
   "metadata": {},
   "source": [
    "We also quickly upload some telemetry - this tells us which examples and software versions are getting used so we know where to prioritize our maintenance efforts. We don't collect (or care about) any personally identifiable information, but if you'd prefer not to be counted, feel free to skip this step or delete this cell entirely."
   ]
  },
  {
   "cell_type": "code",
   "execution_count": null,
   "metadata": {},
   "outputs": [],
   "source": [
    "from transformers.utils import send_example_telemetry\n",
    "\n",
    "send_example_telemetry(\"speech_recognition_notebook\", framework=\"pytorch\")"
   ]
  },
  {
   "cell_type": "markdown",
   "metadata": {
    "id": "0mW-C1Nt-j7k"
   },
   "source": [
    "## Prepare Data, Tokenizer, Feature Extractor"
   ]
  },
  {
   "cell_type": "markdown",
   "metadata": {
    "id": "BeBosnY9BH3e"
   },
   "source": [
    "ASR models transcribe speech to text, which means that we both need a feature extractor that processes the speech signal to the model's input format, *e.g.* a feature vector, and a tokenizer that processes the model's output format to text. \n",
    "\n",
    "In 🤗 Transformers, speech recognition models are thus accompanied by both a tokenizer, and a feature extractor.\n",
    "\n",
    "Let's start by creating the tokenizer responsible for decoding the model's predictions."
   ]
  },
  {
   "cell_type": "markdown",
   "metadata": {
    "id": "sEXEWEJGQPqD"
   },
   "source": [
    "### Create Wav2Vec2CTCTokenizer"
   ]
  },
  {
   "cell_type": "markdown",
   "metadata": {
    "id": "bee4g9rpLxll"
   },
   "source": [
    "Let's start by loading the [TIMIT dataset](https://huggingface.co/datasets/timit) and taking a look at its structure.\n",
    "\n",
    "If you wish to fine-tune the model on a different [speech dataset](https://huggingface.co/datasets?task_categories=task_categories:speech-processing&sort=downloads) feel free to adapt this part."
   ]
  },
  {
   "cell_type": "code",
   "execution_count": 5,
   "metadata": {
    "colab": {
     "base_uri": "https://localhost:8080/",
     "height": 201,
     "referenced_widgets": [
      "adada709fe414160939dcc1d44f2e74a",
      "6271769606d549bd8451215a0a4db43f",
      "c5e956ae90484ceb9dc3cabdd30bf683",
      "47311a5998b846ecbb30b6d6e169901a",
      "30851cd4ca67464e87281e6f8d88be51",
      "ec3d0cbc0afc43c9ab68b457be93288b",
      "2e05bffaad464fd4a5e675b471a7d3ea",
      "75ef4755edcd4ae5856cc806e364eed0",
      "fc320dc40e63481ba4ae0a7b099ca82d",
      "4bc0369817c24794a63ee9e10daba10f",
      "c8691b011b8b43388e9055adfb2d3d5f",
      "a64b1616c09d46c5a5285552c6c3bcd7",
      "60806d2f4227496c9c151d8c10e630f3",
      "7c8198a86f2b403e9886511cba17b706",
      "452c7233639f46358bcc113016c59162",
      "107c22566a0548aa9f2ad08b274b1da5",
      "4f7c9867b4a147988d48fcb19f97fd62",
      "e6a15bdebd184bdab4c82caf543189a7",
      "51f5dfa5ad944ff3a835b99e9831f36f",
      "ae679628e44c48c88c9e873450cd974a",
      "a95ce2b4a9cb4db1a95d00a49815e45c",
      "34d7ede5ed08409494c9b05025799fdd",
      "6defeac97f774e71855f85269e4b806f",
      "ed099636e26f4dd881e82ce679c19979",
      "1c7b304622504a5daee3f974e1945aea",
      "4bf227aba7724867af83900194a8cae8",
      "64629939a48a48b08b1bafdcca11ae96",
      "37acc809a37a40af9e5377141eb7682b",
      "5aee700403574a8d839b95f7ea340da3",
      "8759291f45de49418c529eee014f6d3b",
      "651ac019eeeb408da7541bcc1fa399fe",
      "47a1cc95ad2f4b55972c0115c9495c75",
      "5b64863889794975be425492ac9e41b8",
      "0f8d01377c2a444bba88bb359dd158d1",
      "5afda1e3cce048618d3192b8b8a9ff4b",
      "85879304d4b24872a84500cf2a93564b",
      "93cb19300e0c4182bf0ebaca55a19cd3",
      "852290b2f6ed4b5c8cde1d9910ab62b2",
      "e8e152cb774942ccb2d2d772b8f859ca",
      "83edddb33009473bbc4a578e209040e8",
      "9a25b140584f410c95987bf4e02988c8",
      "7a5867ec51b14e72bd96c8648a995597",
      "4f7c65a1823a465aab05bed2ec2e4d09",
      "c37f83f4ccfb41ae850c812e1f5f59e8",
      "eafba377b54048dfa009934c3c928e4d",
      "84faec9de63d4577b857cb7ca7c39a6d",
      "c8ec8b2d7c3146eba8cca46c26e96ee6",
      "9c15a6c5673640d59602ddae4e0fef0b",
      "7c59ead8d64545529fb5cf0f00764298",
      "3bad55bd774a49869f2640e71c66057f",
      "c72fa9a3ad844f1a83bada8eee4abb73",
      "6c91efcb5cf44dd0af8d1ac8ffb4f0f3",
      "1d3035aaa2d24bacae7a92dff13ba216",
      "c5e9524a9c3d41f6b818eaad95ae882f",
      "62d480ad2ea24b3da1ed117affba98fc",
      "c6c5318aede74a19bbf6b585f05eda8a",
      "ae8f27595e944a7386c2c0527a276926",
      "3e973f1a760d4784b9535363415d3603",
      "8e9960e611bf4b70bcd14c1d8ee63d6a",
      "acf11817f5d9454e8f0b5114e2112d11",
      "568437b1a2fa404c9097bd841cab4982",
      "856f08301f0b464e8750fd4e63b19da9",
      "b1176b3f4cb44df69639c8beed699f2a",
      "7eed91dbac224066af794464b7e7d87b",
      "c5a41c0f412f49b0b96f450ac81009a1",
      "db3a439bcaa0446da45b550ae88cf8db"
     ]
    },
    "id": "2MMXcWFFgCXU",
    "outputId": "270bb094-b9f9-451c-f619-1018b922163f"
   },
   "outputs": [
    {
     "data": {
      "application/vnd.jupyter.widget-view+json": {
       "model_id": "adada709fe414160939dcc1d44f2e74a",
       "version_major": 2,
       "version_minor": 0
      },
      "text/plain": [
       "Downloading:   0%|          | 0.00/2.40k [00:00<?, ?B/s]"
      ]
     },
     "metadata": {},
     "output_type": "display_data"
    },
    {
     "data": {
      "application/vnd.jupyter.widget-view+json": {
       "model_id": "a64b1616c09d46c5a5285552c6c3bcd7",
       "version_major": 2,
       "version_minor": 0
      },
      "text/plain": [
       "Downloading:   0%|          | 0.00/1.06k [00:00<?, ?B/s]"
      ]
     },
     "metadata": {},
     "output_type": "display_data"
    },
    {
     "name": "stdout",
     "output_type": "stream",
     "text": [
      "Downloading and preparing dataset timit_asr/clean (download: 828.75 MiB, generated: 7.90 MiB, post-processed: Unknown size, total: 836.65 MiB) to /root/.cache/huggingface/datasets/timit_asr/clean/2.0.1/5bebea6cd9df0fc2c8c871250de23293a94c1dc49324182b330b6759ae6718f8...\n"
     ]
    },
    {
     "data": {
      "application/vnd.jupyter.widget-view+json": {
       "model_id": "6defeac97f774e71855f85269e4b806f",
       "version_major": 2,
       "version_minor": 0
      },
      "text/plain": [
       "Downloading:   0%|          | 0.00/869M [00:00<?, ?B/s]"
      ]
     },
     "metadata": {},
     "output_type": "display_data"
    },
    {
     "data": {
      "application/vnd.jupyter.widget-view+json": {
       "model_id": "0f8d01377c2a444bba88bb359dd158d1",
       "version_major": 2,
       "version_minor": 0
      },
      "text/plain": [
       "0 examples [00:00, ? examples/s]"
      ]
     },
     "metadata": {},
     "output_type": "display_data"
    },
    {
     "data": {
      "application/vnd.jupyter.widget-view+json": {
       "model_id": "eafba377b54048dfa009934c3c928e4d",
       "version_major": 2,
       "version_minor": 0
      },
      "text/plain": [
       "0 examples [00:00, ? examples/s]"
      ]
     },
     "metadata": {},
     "output_type": "display_data"
    },
    {
     "name": "stdout",
     "output_type": "stream",
     "text": [
      "Dataset timit_asr downloaded and prepared to /root/.cache/huggingface/datasets/timit_asr/clean/2.0.1/5bebea6cd9df0fc2c8c871250de23293a94c1dc49324182b330b6759ae6718f8. Subsequent calls will reuse this data.\n"
     ]
    },
    {
     "data": {
      "application/vnd.jupyter.widget-view+json": {
       "model_id": "c6c5318aede74a19bbf6b585f05eda8a",
       "version_major": 2,
       "version_minor": 0
      },
      "text/plain": [
       "  0%|          | 0/2 [00:00<?, ?it/s]"
      ]
     },
     "metadata": {},
     "output_type": "display_data"
    }
   ],
   "source": [
    "from datasets import load_dataset, load_metric\n",
    "\n",
    "timit = load_dataset(\"timit_asr\")"
   ]
  },
  {
   "cell_type": "code",
   "execution_count": 6,
   "metadata": {
    "colab": {
     "base_uri": "https://localhost:8080/"
    },
    "id": "QbIM-L0xdvf4",
    "outputId": "11028ffa-9f1a-49b0-dda1-0f5f79b0d76b"
   },
   "outputs": [
    {
     "data": {
      "text/plain": [
       "DatasetDict({\n",
       "    train: Dataset({\n",
       "        features: ['file', 'audio', 'text', 'phonetic_detail', 'word_detail', 'dialect_region', 'sentence_type', 'speaker_id', 'id'],\n",
       "        num_rows: 4620\n",
       "    })\n",
       "    test: Dataset({\n",
       "        features: ['file', 'audio', 'text', 'phonetic_detail', 'word_detail', 'dialect_region', 'sentence_type', 'speaker_id', 'id'],\n",
       "        num_rows: 1680\n",
       "    })\n",
       "})"
      ]
     },
     "execution_count": 6,
     "metadata": {},
     "output_type": "execute_result"
    }
   ],
   "source": [
    "timit"
   ]
  },
  {
   "cell_type": "markdown",
   "metadata": {
    "id": "ri5y5N_HMANq"
   },
   "source": [
    "Many ASR datasets only provide the target text, `'text'` for each audio `'audio'` and file `'file'`. Timit actually provides much more information about each audio file, such as the `'phonetic_detail'`, etc., which is why many researchers choose to evaluate their models on phoneme classification instead of speech recognition when working with Timit. However, we want to keep the notebook as general as possible, so that we will only consider the transcribed text for fine-tuning.\n",
    "\n"
   ]
  },
  {
   "cell_type": "code",
   "execution_count": 7,
   "metadata": {
    "id": "kbyq6lDgQc2a"
   },
   "outputs": [],
   "source": [
    "timit = timit.remove_columns([\"phonetic_detail\", \"word_detail\", \"dialect_region\", \"id\", \"sentence_type\", \"speaker_id\"])"
   ]
  },
  {
   "cell_type": "markdown",
   "metadata": {
    "id": "Go9Hq4e4NDT9"
   },
   "source": [
    "Let's write a short function to display some random samples of the dataset and run it a couple of times to get a feeling for the transcriptions."
   ]
  },
  {
   "cell_type": "code",
   "execution_count": 8,
   "metadata": {
    "id": "72737oog2F6U"
   },
   "outputs": [],
   "source": [
    "from datasets import ClassLabel\n",
    "import random\n",
    "import pandas as pd\n",
    "from IPython.display import display, HTML\n",
    "\n",
    "def show_random_elements(dataset, num_examples=10):\n",
    "    assert num_examples <= len(dataset), \"Can't pick more elements than there are in the dataset.\"\n",
    "    picks = []\n",
    "    for _ in range(num_examples):\n",
    "        pick = random.randint(0, len(dataset)-1)\n",
    "        while pick in picks:\n",
    "            pick = random.randint(0, len(dataset)-1)\n",
    "        picks.append(pick)\n",
    "    \n",
    "    df = pd.DataFrame(dataset[picks])\n",
    "    display(HTML(df.to_html()))"
   ]
  },
  {
   "cell_type": "code",
   "execution_count": 9,
   "metadata": {
    "colab": {
     "base_uri": "https://localhost:8080/",
     "height": 359
    },
    "id": "K_JUmf3G3b9S",
    "outputId": "8b83ad11-d459-41a5-e12a-e1dbdf1ab35a"
   },
   "outputs": [
    {
     "data": {
      "text/html": [
       "<table border=\"1\" class=\"dataframe\">\n",
       "  <thead>\n",
       "    <tr style=\"text-align: right;\">\n",
       "      <th></th>\n",
       "      <th>text</th>\n",
       "    </tr>\n",
       "  </thead>\n",
       "  <tbody>\n",
       "    <tr>\n",
       "      <th>0</th>\n",
       "      <td>Help celebrate your brother's success.</td>\n",
       "    </tr>\n",
       "    <tr>\n",
       "      <th>1</th>\n",
       "      <td>His black hat with its wide brim, high crown, and fur trim rode high.</td>\n",
       "    </tr>\n",
       "    <tr>\n",
       "      <th>2</th>\n",
       "      <td>Remember to allow identical twins to enter freely.</td>\n",
       "    </tr>\n",
       "    <tr>\n",
       "      <th>3</th>\n",
       "      <td>We experience distress and frustration obtaining our degrees.</td>\n",
       "    </tr>\n",
       "    <tr>\n",
       "      <th>4</th>\n",
       "      <td>First add milk to the shredded cheese.</td>\n",
       "    </tr>\n",
       "    <tr>\n",
       "      <th>5</th>\n",
       "      <td>Tiny bodies, dropped onto a dry leaf, made a pile as big as a small apple.</td>\n",
       "    </tr>\n",
       "    <tr>\n",
       "      <th>6</th>\n",
       "      <td>But it must be remembered that the plan should not be oriented geographically.</td>\n",
       "    </tr>\n",
       "    <tr>\n",
       "      <th>7</th>\n",
       "      <td>How would you evaluate this algebraic expression?</td>\n",
       "    </tr>\n",
       "    <tr>\n",
       "      <th>8</th>\n",
       "      <td>Academic aptitude guarantees your diploma.</td>\n",
       "    </tr>\n",
       "    <tr>\n",
       "      <th>9</th>\n",
       "      <td>Serve in frankfurter buns or as a meat dish.</td>\n",
       "    </tr>\n",
       "  </tbody>\n",
       "</table>"
      ],
      "text/plain": [
       "<IPython.core.display.HTML object>"
      ]
     },
     "metadata": {},
     "output_type": "display_data"
    }
   ],
   "source": [
    "show_random_elements(timit[\"train\"].remove_columns([\"audio\", \"file\"]), num_examples=10)"
   ]
  },
  {
   "cell_type": "markdown",
   "metadata": {
    "id": "fowcOllGNNju"
   },
   "source": [
    "Alright! The transcriptions look very clean and the language seems to correspond more to written text than dialogue. This makes sense taking into account that [Timit](https://huggingface.co/datasets/timit_asr) is a read speech corpus."
   ]
  },
  {
   "cell_type": "markdown",
   "metadata": {
    "id": "vq7OR50LN49m"
   },
   "source": [
    "We can see that the transcriptions contain some special characters, such as `,.?!;:`. Without a language model, it is much harder to classify speech chunks to such special characters because they don't really correspond to a characteristic sound unit. *E.g.*, the letter `\"s\"` has a more or less clear sound, whereas the special character `\".\"` does not.\n",
    "Also in order to understand the meaning of a speech signal, it is usually not necessary to include special characters in the transcription.\n",
    "\n",
    "In addition, we normalize the text to only have lower case letters and append a word separator token at the end."
   ]
  },
  {
   "cell_type": "code",
   "execution_count": 10,
   "metadata": {
    "id": "svKzVJ_hQGK6"
   },
   "outputs": [],
   "source": [
    "import re\n",
    "chars_to_ignore_regex = '[\\,\\?\\.\\!\\-\\;\\:\\\"]'\n",
    "\n",
    "def remove_special_characters(batch):\n",
    "    batch[\"text\"] = re.sub(chars_to_ignore_regex, '', batch[\"text\"]).lower() + \" \"\n",
    "    return batch"
   ]
  },
  {
   "cell_type": "code",
   "execution_count": 11,
   "metadata": {
    "colab": {
     "base_uri": "https://localhost:8080/",
     "height": 81,
     "referenced_widgets": [
      "30f8754cdd4d42d18af21e4db16b615c",
      "ebd5afd701624f289204d48638ed2fbc",
      "c2c33b1d592b4b06a7b7e6f6056abae0",
      "af35e4473888416a9419c65fe7e56859",
      "bfb469bf394a4aa288444a43e55ca707",
      "01ae96853d54497f9108870821c45470",
      "f2a98ab2360c418cb7c7d5a71b3d1361",
      "355b32da63cc40ce9c644a3986f1340d",
      "b6fa9dd697cd47f59ba0af7602feabbe",
      "de9fd72fa9444ac4bc6f88242f20126b",
      "05c060b08e2e4040ae380608a4642167",
      "46efc2b990144d689404717608fc7d7b",
      "978effc6f8a34fbf9b2f2b407a1f005a",
      "905011f308344ad88703b8169d3378fa",
      "d2a85d56e6f6498ab331d5f893a80f9a",
      "87a281d8e1104b5ab9c705d28804692f",
      "22b4067dd7774910b6ccd0a422e9aa02",
      "ac812fac6aca4242b8b43f61e251be1c",
      "ee3b7afab0f349b2a8a7a2c0e157f851",
      "2559c18dea0a428697b916de32e1bc0d",
      "b3871236afda4d6a84413d1b8e833c38",
      "d30cf357ba084b15a0ab7c785cd632f5"
     ]
    },
    "id": "XIHocAuTQbBR",
    "outputId": "219d5e95-d26e-491b-c2a4-5120eb131086"
   },
   "outputs": [
    {
     "data": {
      "application/vnd.jupyter.widget-view+json": {
       "model_id": "30f8754cdd4d42d18af21e4db16b615c",
       "version_major": 2,
       "version_minor": 0
      },
      "text/plain": [
       "  0%|          | 0/4620 [00:00<?, ?ex/s]"
      ]
     },
     "metadata": {},
     "output_type": "display_data"
    },
    {
     "data": {
      "application/vnd.jupyter.widget-view+json": {
       "model_id": "46efc2b990144d689404717608fc7d7b",
       "version_major": 2,
       "version_minor": 0
      },
      "text/plain": [
       "  0%|          | 0/1680 [00:00<?, ?ex/s]"
      ]
     },
     "metadata": {},
     "output_type": "display_data"
    }
   ],
   "source": [
    "timit = timit.map(remove_special_characters)"
   ]
  },
  {
   "cell_type": "code",
   "execution_count": 12,
   "metadata": {
    "colab": {
     "base_uri": "https://localhost:8080/",
     "height": 359
    },
    "id": "RBDRAAYxRE6n",
    "outputId": "f2e4b793-ecf2-41b1-f3d3-5f230585cb5c"
   },
   "outputs": [
    {
     "data": {
      "text/html": [
       "<table border=\"1\" class=\"dataframe\">\n",
       "  <thead>\n",
       "    <tr style=\"text-align: right;\">\n",
       "      <th></th>\n",
       "      <th>text</th>\n",
       "    </tr>\n",
       "  </thead>\n",
       "  <tbody>\n",
       "    <tr>\n",
       "      <th>0</th>\n",
       "      <td>don't ask me to carry an oily rag like that</td>\n",
       "    </tr>\n",
       "    <tr>\n",
       "      <th>1</th>\n",
       "      <td>porcupines resemble sea urchins</td>\n",
       "    </tr>\n",
       "    <tr>\n",
       "      <th>2</th>\n",
       "      <td>challenge each general's intelligence</td>\n",
       "    </tr>\n",
       "    <tr>\n",
       "      <th>3</th>\n",
       "      <td>like enough we'll all be up on top by sundown</td>\n",
       "    </tr>\n",
       "    <tr>\n",
       "      <th>4</th>\n",
       "      <td>the courier was a dwarf</td>\n",
       "    </tr>\n",
       "    <tr>\n",
       "      <th>5</th>\n",
       "      <td>civilization is what man has made of himself</td>\n",
       "    </tr>\n",
       "    <tr>\n",
       "      <th>6</th>\n",
       "      <td>may i order a strawberry sundae after i eat dinner</td>\n",
       "    </tr>\n",
       "    <tr>\n",
       "      <th>7</th>\n",
       "      <td>she had your dark suit in greasy wash water all year</td>\n",
       "    </tr>\n",
       "    <tr>\n",
       "      <th>8</th>\n",
       "      <td>my ideal morning begins with hot coffee</td>\n",
       "    </tr>\n",
       "    <tr>\n",
       "      <th>9</th>\n",
       "      <td>she uses both names interchangeably</td>\n",
       "    </tr>\n",
       "  </tbody>\n",
       "</table>"
      ],
      "text/plain": [
       "<IPython.core.display.HTML object>"
      ]
     },
     "metadata": {},
     "output_type": "display_data"
    }
   ],
   "source": [
    "show_random_elements(timit[\"train\"].remove_columns([\"audio\", \"file\"]))"
   ]
  },
  {
   "cell_type": "markdown",
   "metadata": {
    "id": "jwfaptH5RJwA"
   },
   "source": [
    "Good! This looks better. We have removed most special characters from transcriptions and normalized them to lower-case only.\n",
    "\n",
    "In CTC, it is common to classify speech chunks into letters, so we will do the same here. \n",
    "Let's extract all distinct letters of the training and test data and build our vocabulary from this set of letters.\n",
    "\n",
    "We write a mapping function that concatenates all transcriptions into one long transcription and then transforms the string into a set of chars. \n",
    "It is important to pass the argument `batched=True` to the `map(...)` function so that the mapping function has access to all transcriptions at once."
   ]
  },
  {
   "cell_type": "code",
   "execution_count": 13,
   "metadata": {
    "id": "LwCshNbbeRZR"
   },
   "outputs": [],
   "source": [
    "def extract_all_chars(batch):\n",
    "  all_text = \" \".join(batch[\"text\"])\n",
    "  vocab = list(set(all_text))\n",
    "  return {\"vocab\": [vocab], \"all_text\": [all_text]}"
   ]
  },
  {
   "cell_type": "code",
   "execution_count": 14,
   "metadata": {
    "colab": {
     "base_uri": "https://localhost:8080/",
     "height": 81,
     "referenced_widgets": [
      "f67c747217894a0fb1ab34baadf0599f",
      "94435d4e63bd4d96acc8cf2cd5a13972",
      "eae6bab3eaf144a09787d03b0ca098d6",
      "456331da10564aa38300266f8fbbb51d",
      "7292b33c3cba4b17b1244304d3ce3085",
      "e4c489c42f2741b8afbef75d3a434084",
      "fdd3ffacd3f34c66964b6f85402540fd",
      "e85f07ee767c4f1e89b9b58c528e9502",
      "5c72edf8f3624a4c80a0724280514c7c",
      "f7dc013178f5427aab2a5caf9ce36dbf",
      "cf93cf23940847c3b402c367f49d2aad",
      "0ccb540f2e4e4366afbf6f3c7b6a1891",
      "8bd3a4b8a3954fcdba93dd67ff9a6461",
      "61e6f51635824da78940b6cd88a74a51",
      "de7353a43be34e5f9251f8173f82b5d7",
      "b3fa310071864a698c6af603130cabaf",
      "d717063846d849b6aa383e50f5c93aea",
      "96700aa06f35440384cf99ee2cb3aeaa",
      "7940a72efa9b47ba9ed97668ed090bcf",
      "9522fbb829c940d78c6ad7dae3faf8b1",
      "32606f13dfd9459db69cfa912949629a",
      "76f870c8d7d7400fa9fecf4dc46212dc"
     ]
    },
    "id": "_m6uUjjcfbjH",
    "outputId": "c08d0157-9d33-4938-e56d-3bbe1c08093d"
   },
   "outputs": [
    {
     "data": {
      "application/vnd.jupyter.widget-view+json": {
       "model_id": "f67c747217894a0fb1ab34baadf0599f",
       "version_major": 2,
       "version_minor": 0
      },
      "text/plain": [
       "  0%|          | 0/1 [00:00<?, ?ba/s]"
      ]
     },
     "metadata": {},
     "output_type": "display_data"
    },
    {
     "data": {
      "application/vnd.jupyter.widget-view+json": {
       "model_id": "0ccb540f2e4e4366afbf6f3c7b6a1891",
       "version_major": 2,
       "version_minor": 0
      },
      "text/plain": [
       "  0%|          | 0/1 [00:00<?, ?ba/s]"
      ]
     },
     "metadata": {},
     "output_type": "display_data"
    }
   ],
   "source": [
    "vocabs = timit.map(\n",
    "  extract_all_chars,\n",
    "  batched=True,\n",
    "  batch_size=-1,\n",
    "  keep_in_memory=True, \n",
    "  remove_columns=timit.column_names[\"train\"]\n",
    ")"
   ]
  },
  {
   "cell_type": "markdown",
   "metadata": {
    "id": "7oVgE8RZSJNP"
   },
   "source": [
    "Now, we create the union of all distinct letters in the training dataset and test dataset and convert the resulting list into an enumerated dictionary."
   ]
  },
  {
   "cell_type": "code",
   "execution_count": 15,
   "metadata": {
    "id": "aQfneNsmlJI0"
   },
   "outputs": [],
   "source": [
    "vocab_list = list(set(vocabs[\"train\"][\"vocab\"][0]) | set(vocabs[\"test\"][\"vocab\"][0]))"
   ]
  },
  {
   "cell_type": "code",
   "execution_count": 16,
   "metadata": {
    "colab": {
     "base_uri": "https://localhost:8080/"
    },
    "id": "_0kRndSvqaKk",
    "outputId": "296ea664-8c47-40d6-960a-2640aa0c485f"
   },
   "outputs": [
    {
     "data": {
      "text/plain": [
       "{' ': 19,\n",
       " \"'\": 21,\n",
       " 'a': 1,\n",
       " 'b': 0,\n",
       " 'c': 4,\n",
       " 'd': 13,\n",
       " 'e': 15,\n",
       " 'f': 3,\n",
       " 'g': 26,\n",
       " 'h': 24,\n",
       " 'i': 10,\n",
       " 'j': 11,\n",
       " 'k': 17,\n",
       " 'l': 6,\n",
       " 'm': 5,\n",
       " 'n': 14,\n",
       " 'o': 18,\n",
       " 'p': 7,\n",
       " 'q': 16,\n",
       " 'r': 20,\n",
       " 's': 2,\n",
       " 't': 8,\n",
       " 'u': 9,\n",
       " 'v': 27,\n",
       " 'w': 25,\n",
       " 'x': 22,\n",
       " 'y': 12,\n",
       " 'z': 23}"
      ]
     },
     "execution_count": 16,
     "metadata": {},
     "output_type": "execute_result"
    }
   ],
   "source": [
    "vocab_dict = {v: k for k, v in enumerate(vocab_list)}\n",
    "vocab_dict"
   ]
  },
  {
   "cell_type": "markdown",
   "metadata": {
    "id": "JOSzbvs9SXT1"
   },
   "source": [
    "Cool, we see that all letters of the alphabet occur in the dataset (which is not really surprising) and we also extracted the special characters `\" \"` and `'`. Note that we did not exclude those special characters because: \n",
    "\n",
    "- The model has to learn to predict when a word finished or else the model prediction would always be a sequence of chars which would make it impossible to separate words from each other.\n",
    "- In English, we need to keep the `'` character to differentiate between words, *e.g.*, `\"it's\"` and `\"its\"` which have very different meanings."
   ]
  },
  {
   "cell_type": "markdown",
   "metadata": {
    "id": "b1fBRCn-TRaO"
   },
   "source": [
    "To make it clearer that `\" \"` has its own token class, we give it a more visible character `|`. In addition, we also add an \"unknown\" token so that the model can later deal with characters not encountered in Timit's training set. \n",
    "\n",
    "Finally, we also add a padding token that corresponds to CTC's \"*blank token*\". The \"blank token\" is a core component of the CTC algorithm. For more information, please take a look at the \"Alignment\" section [here](https://distill.pub/2017/ctc/)."
   ]
  },
  {
   "cell_type": "code",
   "execution_count": 17,
   "metadata": {
    "id": "npbIbBoLgaFX"
   },
   "outputs": [],
   "source": [
    "vocab_dict[\"|\"] = vocab_dict[\" \"]\n",
    "del vocab_dict[\" \"]"
   ]
  },
  {
   "cell_type": "code",
   "execution_count": 18,
   "metadata": {
    "colab": {
     "base_uri": "https://localhost:8080/"
    },
    "id": "znF0bNunsjbl",
    "outputId": "d7fb946c-665f-43f8-b643-4dfb9132a1e4"
   },
   "outputs": [
    {
     "data": {
      "text/plain": [
       "30"
      ]
     },
     "execution_count": 18,
     "metadata": {},
     "output_type": "execute_result"
    }
   ],
   "source": [
    "vocab_dict[\"[UNK]\"] = len(vocab_dict)\n",
    "vocab_dict[\"[PAD]\"] = len(vocab_dict)\n",
    "len(vocab_dict)"
   ]
  },
  {
   "cell_type": "markdown",
   "metadata": {
    "id": "SFPGfet8U5sL"
   },
   "source": [
    "Cool, now our vocabulary is complete and consists of 30 tokens, which means that the linear layer that we will add on top of the pretrained speech checkpoint will have an output dimension of 30."
   ]
  },
  {
   "cell_type": "markdown",
   "metadata": {
    "id": "1CujRgBNVRaD"
   },
   "source": [
    "Let's now save the vocabulary as a json file."
   ]
  },
  {
   "cell_type": "code",
   "execution_count": 19,
   "metadata": {
    "id": "ehyUoh9vk191"
   },
   "outputs": [],
   "source": [
    "import json\n",
    "with open('vocab.json', 'w') as vocab_file:\n",
    "    json.dump(vocab_dict, vocab_file)"
   ]
  },
  {
   "cell_type": "markdown",
   "metadata": {
    "id": "SHJDaKlIVVim"
   },
   "source": [
    "In a final step, we use the json file to instantiate a tokenizer object with the just created vocabulary file. The correct `tokenizer_type` can be retrieved from the model configuration. If a `tokenizer_class` is defined in the config, we can use it, else we assume the `tokenizer_type` corresponds to the `model_type`."
   ]
  },
  {
   "cell_type": "code",
   "execution_count": 20,
   "metadata": {
    "colab": {
     "base_uri": "https://localhost:8080/",
     "height": 105,
     "referenced_widgets": [
      "69341e639ad24da5a5df7ba333648d76",
      "48c35cc59e0d4cadadbbf75656255e64",
      "c5a203521c5d4872988179de343ad7ca",
      "c64445fb30de40658c222a525f9bdcd4",
      "e623bc2daf6b4a8380484e5eaf1c4847",
      "2b492bcf145a4f82b8f2ba666ae7f902",
      "c7f1e3faf4f94304b5608de6eacfb263",
      "8e2b47e41c5741f3886e6d314ec1e9ee",
      "49a3daba7a964972b39c0d2b869524d8",
      "e38f94630c5544a6b481e37e2369d5f5",
      "b9aed47df52e4688aa77b7881a0b5b50"
     ]
    },
    "id": "Sx5010dnDTz1",
    "outputId": "5bd832ce-3abc-4073-e630-a3cec31f9526"
   },
   "outputs": [
    {
     "data": {
      "application/vnd.jupyter.widget-view+json": {
       "model_id": "69341e639ad24da5a5df7ba333648d76",
       "version_major": 2,
       "version_minor": 0
      },
      "text/plain": [
       "Downloading:   0%|          | 0.00/1.80k [00:00<?, ?B/s]"
      ]
     },
     "metadata": {},
     "output_type": "display_data"
    },
    {
     "name": "stderr",
     "output_type": "stream",
     "text": [
      "/usr/local/lib/python3.7/dist-packages/transformers/configuration_utils.py:337: UserWarning: Passing `gradient_checkpointing` to a config initialization is deprecated and will be removed in v5 Transformers. Using `model.gradient_checkpointing_enable()` instead, or if you are using the `Trainer` API, pass `gradient_checkpointing=True` in your `TrainingArguments`.\n",
      "  \"Passing `gradient_checkpointing` to a config initialization is deprecated and will be removed in v5 \"\n"
     ]
    }
   ],
   "source": [
    "from transformers import AutoConfig\n",
    "\n",
    "config = AutoConfig.from_pretrained(model_checkpoint)\n",
    "\n",
    "tokenizer_type = config.model_type if config.tokenizer_class is None else None\n",
    "config = config if config.tokenizer_class is not None else None"
   ]
  },
  {
   "cell_type": "markdown",
   "metadata": {
    "id": "RhID90DZDWta"
   },
   "source": [
    "Now we can instantiate a tokenizer using `AutoTokenizer`. Additionally, we set the tokenizer's special tokens."
   ]
  },
  {
   "cell_type": "code",
   "execution_count": 21,
   "metadata": {
    "colab": {
     "base_uri": "https://localhost:8080/"
    },
    "id": "xriFGEWQkO4M",
    "outputId": "b413d1f6-dd82-458c-93ae-4f81c9968ef8"
   },
   "outputs": [
    {
     "name": "stderr",
     "output_type": "stream",
     "text": [
      "file ./config.json not found\n",
      "Special tokens have been added in the vocabulary, make sure the associated word embeddings are fine-tuned or trained.\n"
     ]
    }
   ],
   "source": [
    "from transformers import AutoTokenizer\n",
    "\n",
    "tokenizer = AutoTokenizer.from_pretrained(\n",
    "  \"./\",\n",
    "  config=config,\n",
    "  tokenizer_type=tokenizer_type,\n",
    "  unk_token=\"[UNK]\",\n",
    "  pad_token=\"[PAD]\",\n",
    "  word_delimiter_token=\"|\",\n",
    ")"
   ]
  },
  {
   "cell_type": "markdown",
   "metadata": {
    "id": "P6L2EVWwIazG"
   },
   "source": [
    "If one wants to re-use the just created tokenizer with the fine-tuned model of this notebook, it is strongly advised to upload the `tokenizer` to the [🤗 Hub](https://huggingface.co/). Let's call the repo to which we will upload the files\n",
    "`\"wav2vec2-base-timit-demo-colab\"`:"
   ]
  },
  {
   "cell_type": "code",
   "execution_count": null,
   "metadata": {
    "id": "1mbffBdxIl0M"
   },
   "outputs": [],
   "source": [
    "model_checkpoint_name = model_checkpoint.split(\"/\")[-1]\n",
    "repo_name = f\"{model_checkpoint_name}-demo-colab\""
   ]
  },
  {
   "cell_type": "markdown",
   "metadata": {
    "id": "pmpG2ftFIu3B"
   },
   "source": [
    "and upload the tokenizer to the [🤗 Hub](https://huggingface.co/)."
   ]
  },
  {
   "cell_type": "code",
   "execution_count": null,
   "metadata": {
    "colab": {
     "base_uri": "https://localhost:8080/",
     "height": 143
    },
    "id": "ScBMUz8jIxJi",
    "outputId": "3ef47edf-e24a-46c1-a477-f368dd9920e9"
   },
   "outputs": [
    {
     "name": "stderr",
     "output_type": "stream",
     "text": [
      "Cloning https://huggingface.co/patrickvonplaten/wav2vec2-base-timit-demo-colab into local empty directory.\n",
      "tokenizer config file saved in wav2vec2-base-timit-demo-colab/tokenizer_config.json\n",
      "Special tokens file saved in wav2vec2-base-timit-demo-colab/special_tokens_map.json\n",
      "To https://huggingface.co/patrickvonplaten/wav2vec2-base-timit-demo-colab\n",
      "   6aaf3f9..870c48e  main -> main\n",
      "\n"
     ]
    },
    {
     "data": {
      "application/vnd.google.colaboratory.intrinsic+json": {
       "type": "string"
      },
      "text/plain": [
       "'https://huggingface.co/patrickvonplaten/wav2vec2-base-timit-demo-colab/commit/870c48e622b77a3b27d61c094165c51d4aef9283'"
      ]
     },
     "execution_count": 40,
     "metadata": {},
     "output_type": "execute_result"
    }
   ],
   "source": [
    "tokenizer.push_to_hub(repo_name)"
   ]
  },
  {
   "cell_type": "markdown",
   "metadata": {
    "id": "KvL12DrNV4cx"
   },
   "source": [
    "Great, you can see the just created repository under `https://huggingface.co/<your-username>/wav2vec2-base-timit-demo-colab`"
   ]
  },
  {
   "cell_type": "markdown",
   "metadata": {
    "id": "YFmShnl7RE35"
   },
   "source": [
    "### Preprocess Data\n",
    "\n",
    "So far, we have not looked at the actual values of the speech signal but just the transcription. In addition to `'text'`, our datasets include two more column names `'file'` and `'audio'`. `'file'` states the absolute path of the audio file. Let's take a look."
   ]
  },
  {
   "cell_type": "code",
   "execution_count": null,
   "metadata": {
    "colab": {
     "base_uri": "https://localhost:8080/",
     "height": 35
    },
    "id": "TTCS7W6XJ9BG",
    "outputId": "5d936122-6479-4f3c-84d8-896dfcebcd3c"
   },
   "outputs": [
    {
     "data": {
      "application/vnd.google.colaboratory.intrinsic+json": {
       "type": "string"
      },
      "text/plain": [
       "'/root/.cache/huggingface/datasets/downloads/extracted/404950a46da14eac65eb4e2a8317b1372fb3971d980d91d5d5b221275b1fd7e0/data/TRAIN/DR4/MMDM0/SI681.WAV'"
      ]
     },
     "execution_count": 21,
     "metadata": {},
     "output_type": "execute_result"
    }
   ],
   "source": [
    "timit[\"train\"][0][\"file\"]"
   ]
  },
  {
   "cell_type": "markdown",
   "metadata": {
    "id": "BwxprOw4Nzrl"
   },
   "source": [
    "`Wav2Vec2` expects the input in the format of a 1-dimensional array of 16 kHz. This means that the audio file has to be loaded and resampled.\n",
    "\n",
    " Thankfully, `datasets` does this automatically when calling the column `audio`. Let try it out. "
   ]
  },
  {
   "cell_type": "code",
   "execution_count": null,
   "metadata": {
    "colab": {
     "base_uri": "https://localhost:8080/"
    },
    "id": "mk9QHuSsN7lf",
    "outputId": "c49d2f4d-6e9a-489e-a419-772954f80bf1"
   },
   "outputs": [
    {
     "data": {
      "text/plain": [
       "{'array': array([-2.1362305e-04,  6.1035156e-05,  3.0517578e-05, ...,\n",
       "        -3.0517578e-05, -9.1552734e-05, -6.1035156e-05], dtype=float32),\n",
       " 'path': '/root/.cache/huggingface/datasets/downloads/extracted/404950a46da14eac65eb4e2a8317b1372fb3971d980d91d5d5b221275b1fd7e0/data/TRAIN/DR4/MMDM0/SI681.WAV',\n",
       " 'sampling_rate': 16000}"
      ]
     },
     "execution_count": 22,
     "metadata": {},
     "output_type": "execute_result"
    }
   ],
   "source": [
    "timit[\"train\"][0][\"audio\"]"
   ]
  },
  {
   "cell_type": "markdown",
   "metadata": {
    "id": "wSBIGEiaKHMn"
   },
   "source": [
    "We can see that the audio file has automatically been loaded. This is thanks to the new [`\"Audio\"` feature](https://huggingface.co/docs/datasets/package_reference/main_classes.html?highlight=audio#datasets.Audio) introduced in `datasets == 1.13.3`, which loads and resamples audio files on-the-fly upon calling.\n",
    "\n",
    "The sampling rate is set to 16kHz which is what `Wav2Vec2` expects as an input."
   ]
  },
  {
   "cell_type": "markdown",
   "metadata": {
    "id": "SOckzFd4Mbzq"
   },
   "source": [
    "Great, let's listen to a couple of audio files to better understand the dataset and verify that the audio was correctly loaded. \n",
    "\n",
    "**Note**: *You can click the following cell a couple of times to listen to different speech samples.*"
   ]
  },
  {
   "cell_type": "code",
   "execution_count": null,
   "metadata": {
    "colab": {
     "base_uri": "https://localhost:8080/",
     "height": 92
    },
    "id": "dueM6U7Ev0OA",
    "outputId": "17d78b9b-a940-47e5-f546-87fac22b036e"
   },
   "outputs": [
    {
     "name": "stdout",
     "output_type": "stream",
     "text": [
      "the triumphant warrior exhibited naive heroism \n"
     ]
    },
    {
     "data": {
      "text/html": [
       "\n",
       "                <audio controls=\"controls\" autoplay=\"autoplay\">\n",
       "                    <source src=\"data:audio/wav;base64,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\" type=\"audio/wav\" />\n",
       "                    Your browser does not support the audio element.\n",
       "                </audio>\n",
       "              "
      ],
      "text/plain": [
       "<IPython.lib.display.Audio object>"
      ]
     },
     "execution_count": 23,
     "metadata": {},
     "output_type": "execute_result"
    }
   ],
   "source": [
    "import IPython.display as ipd\n",
    "import numpy as np\n",
    "import random\n",
    "\n",
    "rand_int = random.randint(0, len(timit[\"train\"]))\n",
    "\n",
    "print(timit[\"train\"][rand_int][\"text\"])\n",
    "ipd.Audio(data=np.asarray(timit[\"train\"][rand_int][\"audio\"][\"array\"]), autoplay=True, rate=16000)"
   ]
  },
  {
   "cell_type": "markdown",
   "metadata": {
    "id": "1MaL9J2dNVtG"
   },
   "source": [
    "It can be heard, that the speakers change along with their speaking rate, accent, etc. Overall, the recordings sound relatively clear though, which is to be expected from a read speech corpus.\n",
    "\n",
    "Let's do a final check that the data is correctly prepared, by printing the shape of the speech input, its transcription, and the corresponding sampling rate.\n",
    "\n",
    "**Note**: *You can click the following cell a couple of times to verify multiple samples.*"
   ]
  },
  {
   "cell_type": "code",
   "execution_count": null,
   "metadata": {
    "colab": {
     "base_uri": "https://localhost:8080/"
    },
    "id": "1Po2g7YPuRTx",
    "outputId": "3b0417f4-9e15-44d0-f95f-2de657016c41"
   },
   "outputs": [
    {
     "name": "stdout",
     "output_type": "stream",
     "text": [
      "Target text: she had your dark suit in greasy wash water all year \n",
      "Input array shape: (57242,)\n",
      "Sampling rate: 16000\n"
     ]
    }
   ],
   "source": [
    "rand_int = random.randint(0, len(timit[\"train\"]))\n",
    "\n",
    "print(\"Target text:\", timit[\"train\"][rand_int][\"text\"])\n",
    "print(\"Input array shape:\", np.asarray(timit[\"train\"][rand_int][\"audio\"][\"array\"]).shape)\n",
    "print(\"Sampling rate:\", timit[\"train\"][rand_int][\"audio\"][\"sampling_rate\"])"
   ]
  },
  {
   "cell_type": "markdown",
   "metadata": {
    "id": "M9teZcSwOBJ4"
   },
   "source": [
    "Good! Everything looks fine - the data is a 1-dimensional array, the sampling rate always corresponds to 16kHz, and the target text is normalized.\n",
    "\n",
    "Next, we should process the data with the model's feature extractor. Let's load the feature extractor"
   ]
  },
  {
   "cell_type": "code",
   "execution_count": null,
   "metadata": {
    "id": "FFQCC3A9vz2r"
   },
   "outputs": [],
   "source": [
    "from transformers import AutoFeatureExtractor\n",
    "\n",
    "feature_extractor = AutoFeatureExtractor.from_pretrained(model_checkpoint)"
   ]
  },
  {
   "cell_type": "markdown",
   "metadata": {
    "id": "BpJDkK8Pv4cM"
   },
   "source": [
    "and wrap it into a Wav2Vec2Processor together with the tokenizer."
   ]
  },
  {
   "cell_type": "code",
   "execution_count": null,
   "metadata": {
    "id": "d-EuXD_rv7FP"
   },
   "outputs": [],
   "source": [
    "from transformers import Wav2Vec2Processor\n",
    "\n",
    "processor = Wav2Vec2Processor(feature_extractor=feature_extractor, tokenizer=tokenizer)"
   ]
  },
  {
   "cell_type": "markdown",
   "metadata": {
    "id": "HfD3cVnSv9Tp"
   },
   "source": [
    "Finally, we can leverage `Wav2Vec2Processor` to process the data to the format expected by the model for training. To do so let's make use of Dataset's [`map(...)`](https://huggingface.co/docs/datasets/package_reference/main_classes.html?highlight=map#datasets.DatasetDict.map) function.\n",
    "\n",
    "First, we load and resample the audio data, simply by calling `batch[\"audio\"]`.\n",
    "Second, we extract the `input_values` from the loaded audio file. In our case, the `Wav2Vec2Processor` only normalizes the data. For other speech models, however, this step can include more complex feature extraction, such as [Log-Mel feature extraction](https://en.wikipedia.org/wiki/Mel-frequency_cepstrum). \n",
    "Third, we encode the transcriptions to label ids."
   ]
  },
  {
   "cell_type": "code",
   "execution_count": null,
   "metadata": {
    "id": "eJY7I0XAwe9p"
   },
   "outputs": [],
   "source": [
    "def prepare_dataset(batch):\n",
    "    audio = batch[\"audio\"]\n",
    "\n",
    "    # batched output is \"un-batched\" to ensure mapping is correct\n",
    "    batch[\"input_values\"] = processor(audio[\"array\"], sampling_rate=audio[\"sampling_rate\"]).input_values[0]\n",
    "    batch[\"input_length\"] = len(batch[\"input_values\"])\n",
    "    \n",
    "    with processor.as_target_processor():\n",
    "        batch[\"labels\"] = processor(batch[\"text\"]).input_ids\n",
    "    return batch"
   ]
  },
  {
   "cell_type": "markdown",
   "metadata": {
    "id": "hVMZhH4-nP8-"
   },
   "source": [
    "Let's apply the data preparation function to all examples."
   ]
  },
  {
   "cell_type": "code",
   "execution_count": null,
   "metadata": {
    "id": "-np9xYK-wl8q"
   },
   "outputs": [],
   "source": [
    "timit = timit.map(prepare_dataset, remove_columns=timit.column_names[\"train\"], num_proc=4)"
   ]
  },
  {
   "cell_type": "markdown",
   "metadata": {
    "id": "p_MuJSH8nTuQ"
   },
   "source": [
    "**Note**: Currently `datasets` make use of [`torchaudio`](https://pytorch.org/audio/stable/index.html) and [`librosa`](https://librosa.org/doc/latest/index.html) for audio loading and resampling. If you wish to implement your own costumized data loading/sampling, feel free to just make use of the `\"path\"` column instead and disregard the `\"audio\"` column."
   ]
  },
  {
   "cell_type": "markdown",
   "metadata": {
    "id": "M4J0bU1WsvAg"
   },
   "source": [
    "Long input sequences require a lot of memory. Since `Wav2Vec2` is based on `self-attention` the memory requirement scales quadratically with the input length for long input sequences (*cf.* with [this](https://www.reddit.com/r/MachineLearning/comments/genjvb/d_why_is_the_maximum_input_sequence_length_of/) reddit post). For this demo, let's filter all sequences that are longer than 4 seconds out of the training dataset."
   ]
  },
  {
   "cell_type": "code",
   "execution_count": null,
   "metadata": {
    "colab": {
     "base_uri": "https://localhost:8080/",
     "height": 49,
     "referenced_widgets": [
      "d896231bf5824211a55d494d48626fc6",
      "14dae264619940beab57908b986aa6bb",
      "2392ea8eae7c4dbebc0e218cd7c5ce23",
      "effd4c06dcdb44ae9027dbe846438c83",
      "3d0635b79b6342b78a9689e092f60872",
      "2d77f792dd6048b39d0f14ebf4f80614",
      "d16ea3ef10684bf1b1092345ca92897a",
      "d7a01acdb98f435489fed6bf1a5b3e4f",
      "9ceca09d9fdb4a0495d33bf3eef7e65e",
      "29105b8924d949b99cc0bf317d63b25c",
      "d1693414e7964bfcbe95f6d95d5d4204"
     ]
    },
    "id": "nqGobEPUvG3v",
    "outputId": "3be8c879-ed75-468b-b86a-50b2d64607a9"
   },
   "outputs": [
    {
     "data": {
      "application/vnd.jupyter.widget-view+json": {
       "model_id": "d896231bf5824211a55d494d48626fc6",
       "version_major": 2,
       "version_minor": 0
      },
      "text/plain": [
       "  0%|          | 0/5 [00:00<?, ?ba/s]"
      ]
     },
     "metadata": {},
     "output_type": "display_data"
    }
   ],
   "source": [
    "max_input_length_in_sec = 4.0\n",
    "timit[\"train\"] = timit[\"train\"].filter(lambda x: x < max_input_length_in_sec * processor.feature_extractor.sampling_rate, input_columns=[\"input_length\"])"
   ]
  },
  {
   "cell_type": "markdown",
   "metadata": {
    "id": "25Genil2v_Br"
   },
   "source": [
    "Awesome, now we are ready to start training!"
   ]
  },
  {
   "cell_type": "markdown",
   "metadata": {
    "id": "gYlQkKVoRUos"
   },
   "source": [
    "## Training\n",
    "\n",
    "The data is processed so that we are ready to start setting up the training pipeline. We will make use of 🤗's [Trainer](https://huggingface.co/transformers/master/main_classes/trainer.html?highlight=trainer) for which we essentially need to do the following:\n",
    "\n",
    "- Define a data collator. In contrast to most NLP models, speech models usually have a much larger input length than output length. *E.g.*, a sample of input length 50000 for Wav2Vec2 has an output length of no more than 100. Given the large input sizes, it is much more efficient to pad the training batches dynamically meaning that all training samples should only be padded to the longest sample in their batch and not the overall longest sample. Therefore, fine-tuning speech models requires a special padding data collator, which we will define below\n",
    "\n",
    "- Evaluation metric. During training, the model should be evaluated on the word error rate. We should define a `compute_metrics` function accordingly\n",
    "\n",
    "- Load a pretrained checkpoint. We need to load a pretrained checkpoint and configure it correctly for training.\n",
    "\n",
    "- Define the training configuration.\n",
    "\n",
    "After having fine-tuned the model, we will correctly evaluate it on the test data and verify that it has indeed learned to correctly transcribe speech."
   ]
  },
  {
   "cell_type": "markdown",
   "metadata": {
    "id": "Slk403unUS91"
   },
   "source": [
    "### Set-up Trainer\n",
    "\n",
    "Let's start by defining the data collator. The code for the data collator was copied from [this example](https://github.com/huggingface/transformers/blob/9a06b6b11bdfc42eea08fa91d0c737d1863c99e3/examples/research_projects/wav2vec2/run_asr.py#L81).\n",
    "\n",
    "Without going into too many details, in contrast to the common data collators, this data collator treats the `input_values` and `labels` differently and thus applies to separate padding functions on them. This is necessary because in speech input and output are of different modalities meaning that they should not be treated by the same padding function.\n",
    "Analogous to the common data collators, the padding tokens in the labels with `-100` so that those tokens are **not** taken into account when computing the loss."
   ]
  },
  {
   "cell_type": "code",
   "execution_count": null,
   "metadata": {
    "id": "tborvC9hx88e"
   },
   "outputs": [],
   "source": [
    "import torch\n",
    "\n",
    "from dataclasses import dataclass, field\n",
    "from typing import Any, Dict, List, Optional, Union\n",
    "\n",
    "@dataclass\n",
    "class DataCollatorCTCWithPadding:\n",
    "    \"\"\"\n",
    "    Data collator that will dynamically pad the inputs received.\n",
    "    Args:\n",
    "        processor (:class:`~transformers.Wav2Vec2Processor`)\n",
    "            The processor used for proccessing the data.\n",
    "        padding (:obj:`bool`, :obj:`str` or :class:`~transformers.tokenization_utils_base.PaddingStrategy`, `optional`, defaults to :obj:`True`):\n",
    "            Select a strategy to pad the returned sequences (according to the model's padding side and padding index)\n",
    "            among:\n",
    "            * :obj:`True` or :obj:`'longest'`: Pad to the longest sequence in the batch (or no padding if only a single\n",
    "              sequence if provided).\n",
    "            * :obj:`'max_length'`: Pad to a maximum length specified with the argument :obj:`max_length` or to the\n",
    "              maximum acceptable input length for the model if that argument is not provided.\n",
    "            * :obj:`False` or :obj:`'do_not_pad'` (default): No padding (i.e., can output a batch with sequences of\n",
    "              different lengths).\n",
    "        max_length (:obj:`int`, `optional`):\n",
    "            Maximum length of the ``input_values`` of the returned list and optionally padding length (see above).\n",
    "        max_length_labels (:obj:`int`, `optional`):\n",
    "            Maximum length of the ``labels`` returned list and optionally padding length (see above).\n",
    "        pad_to_multiple_of (:obj:`int`, `optional`):\n",
    "            If set will pad the sequence to a multiple of the provided value.\n",
    "            This is especially useful to enable the use of Tensor Cores on NVIDIA hardware with compute capability >=\n",
    "            7.5 (Volta).\n",
    "    \"\"\"\n",
    "\n",
    "    processor: Wav2Vec2Processor\n",
    "    padding: Union[bool, str] = True\n",
    "    max_length: Optional[int] = None\n",
    "    max_length_labels: Optional[int] = None\n",
    "    pad_to_multiple_of: Optional[int] = None\n",
    "    pad_to_multiple_of_labels: Optional[int] = None\n",
    "\n",
    "    def __call__(self, features: List[Dict[str, Union[List[int], torch.Tensor]]]) -> Dict[str, torch.Tensor]:\n",
    "        # split inputs and labels since they have to be of different lenghts and need\n",
    "        # different padding methods\n",
    "        input_features = [{\"input_values\": feature[\"input_values\"]} for feature in features]\n",
    "        label_features = [{\"input_ids\": feature[\"labels\"]} for feature in features]\n",
    "\n",
    "        batch = self.processor.pad(\n",
    "            input_features,\n",
    "            padding=self.padding,\n",
    "            max_length=self.max_length,\n",
    "            pad_to_multiple_of=self.pad_to_multiple_of,\n",
    "            return_tensors=\"pt\",\n",
    "        )\n",
    "        with self.processor.as_target_processor():\n",
    "            labels_batch = self.processor.pad(\n",
    "                label_features,\n",
    "                padding=self.padding,\n",
    "                max_length=self.max_length_labels,\n",
    "                pad_to_multiple_of=self.pad_to_multiple_of_labels,\n",
    "                return_tensors=\"pt\",\n",
    "            )\n",
    "\n",
    "        # replace padding with -100 to ignore loss correctly\n",
    "        labels = labels_batch[\"input_ids\"].masked_fill(labels_batch.attention_mask.ne(1), -100)\n",
    "\n",
    "        batch[\"labels\"] = labels\n",
    "\n",
    "        return batch"
   ]
  },
  {
   "cell_type": "code",
   "execution_count": null,
   "metadata": {
    "id": "lbQf5GuZyQ4_"
   },
   "outputs": [],
   "source": [
    "data_collator = DataCollatorCTCWithPadding(processor=processor, padding=True)"
   ]
  },
  {
   "cell_type": "markdown",
   "metadata": {
    "id": "xO-Zdj-5cxXp"
   },
   "source": [
    "Next, the evaluation metric is defined. As mentioned earlier, the \n",
    "predominant metric in ASR is the word error rate (WER), hence we will use it in this notebook as well."
   ]
  },
  {
   "cell_type": "code",
   "execution_count": null,
   "metadata": {
    "colab": {
     "base_uri": "https://localhost:8080/",
     "height": 49,
     "referenced_widgets": [
      "fd43a043ce7c4b878ade15f6bbf55977",
      "b362a9179f894ff5b879bbae73fe41b2",
      "e0888123f0d2455d9f565939a8abda4e",
      "3544f17e723f4ade9356e0eacd57c4f5",
      "df32789a34fe494c9a8791a8d8c70c69",
      "2e27a56468684597ba7084d662a92309",
      "57cd1596aead47ad85987147a0f1bb75",
      "4ab4afbba4a940cba487688b298092cf",
      "a5858da3495c4995adf804fc96ef938f",
      "a6e7f6bb9bf5486389689d79e499869b",
      "b5f579a82ca745e1b8baeff5df14e6b3"
     ]
    },
    "id": "9Xsux2gmyXso",
    "outputId": "d05825d4-1e5e-47c4-e494-a28e33a20534"
   },
   "outputs": [
    {
     "data": {
      "application/vnd.jupyter.widget-view+json": {
       "model_id": "fd43a043ce7c4b878ade15f6bbf55977",
       "version_major": 2,
       "version_minor": 0
      },
      "text/plain": [
       "Downloading:   0%|          | 0.00/1.95k [00:00<?, ?B/s]"
      ]
     },
     "metadata": {},
     "output_type": "display_data"
    }
   ],
   "source": [
    "wer_metric = load_metric(\"wer\")"
   ]
  },
  {
   "cell_type": "markdown",
   "metadata": {
    "id": "E1qZU5p-deqB"
   },
   "source": [
    "The model will return a sequence of logit vectors:\n",
    "$\\mathbf{y}_1, \\ldots, \\mathbf{y}_m$ with $\\mathbf{y}_1 = f_{\\theta}(x_1, \\ldots, x_n)[0]$ and $n >> m$.\n",
    "\n",
    "A logit vector $\\mathbf{y}_1$ contains the log-odds for each word in the vocabulary we defined earlier, thus $\\text{len}(\\mathbf{y}_i) =$ `config.vocab_size`. We are interested in the most likely prediction of the model and thus take the `argmax(...)` of the logits. Also, we transform the encoded labels back to the original string by replacing `-100` with the `pad_token_id` and decoding the ids while making sure that consecutive tokens are **not** grouped to the same token in CTC style ${}^1$."
   ]
  },
  {
   "cell_type": "code",
   "execution_count": null,
   "metadata": {
    "id": "1XZ-kjweyTy_"
   },
   "outputs": [],
   "source": [
    "def compute_metrics(pred):\n",
    "    pred_logits = pred.predictions\n",
    "    pred_ids = np.argmax(pred_logits, axis=-1)\n",
    "\n",
    "    pred.label_ids[pred.label_ids == -100] = processor.tokenizer.pad_token_id\n",
    "\n",
    "    pred_str = processor.batch_decode(pred_ids)\n",
    "    # we do not want to group tokens when computing the metrics\n",
    "    label_str = processor.batch_decode(pred.label_ids, group_tokens=False)\n",
    "\n",
    "    wer = wer_metric.compute(predictions=pred_str, references=label_str)\n",
    "\n",
    "    return {\"wer\": wer}"
   ]
  },
  {
   "cell_type": "markdown",
   "metadata": {
    "id": "Xmgrx4bRwLIH"
   },
   "source": [
    "Now, we can load the pretrained `Wav2Vec2` checkpoint. The tokenizer's `pad_token_id` must be to define the model's `pad_token_id` or in the case of a CTC speech model also CTC's *blank token* ${}^2$."
   ]
  },
  {
   "cell_type": "code",
   "execution_count": null,
   "metadata": {
    "colab": {
     "base_uri": "https://localhost:8080/"
    },
    "id": "e7cqAWIayn6w",
    "outputId": "937bae2c-2922-4f76-80f1-1986a4084cec"
   },
   "outputs": [
    {
     "name": "stderr",
     "output_type": "stream",
     "text": [
      "loading configuration file https://huggingface.co/facebook/wav2vec2-base/resolve/main/config.json from cache at /root/.cache/huggingface/transformers/c7746642f045322fd01afa31271dd490e677ea11999e68660a92619ec7c892b4.02212753c42f07ecd65bbe35175ac4866badb735f9dae5bf2ae455c57db4dbb7\n",
      "/usr/local/lib/python3.7/dist-packages/transformers/configuration_utils.py:337: UserWarning: Passing `gradient_checkpointing` to a config initialization is deprecated and will be removed in v5 Transformers. Using `model.gradient_checkpointing_enable()` instead, or if you are using the `Trainer` API, pass `gradient_checkpointing=True` in your `TrainingArguments`.\n",
      "  \"Passing `gradient_checkpointing` to a config initialization is deprecated and will be removed in v5 \"\n",
      "Model config Wav2Vec2Config {\n",
      "  \"activation_dropout\": 0.0,\n",
      "  \"apply_spec_augment\": true,\n",
      "  \"architectures\": [\n",
      "    \"Wav2Vec2ForPreTraining\"\n",
      "  ],\n",
      "  \"attention_dropout\": 0.1,\n",
      "  \"bos_token_id\": 1,\n",
      "  \"classifier_proj_size\": 256,\n",
      "  \"codevector_dim\": 256,\n",
      "  \"contrastive_logits_temperature\": 0.1,\n",
      "  \"conv_bias\": false,\n",
      "  \"conv_dim\": [\n",
      "    512,\n",
      "    512,\n",
      "    512,\n",
      "    512,\n",
      "    512,\n",
      "    512,\n",
      "    512\n",
      "  ],\n",
      "  \"conv_kernel\": [\n",
      "    10,\n",
      "    3,\n",
      "    3,\n",
      "    3,\n",
      "    3,\n",
      "    2,\n",
      "    2\n",
      "  ],\n",
      "  \"conv_stride\": [\n",
      "    5,\n",
      "    2,\n",
      "    2,\n",
      "    2,\n",
      "    2,\n",
      "    2,\n",
      "    2\n",
      "  ],\n",
      "  \"ctc_loss_reduction\": \"mean\",\n",
      "  \"ctc_zero_infinity\": false,\n",
      "  \"diversity_loss_weight\": 0.1,\n",
      "  \"do_stable_layer_norm\": false,\n",
      "  \"eos_token_id\": 2,\n",
      "  \"feat_extract_activation\": \"gelu\",\n",
      "  \"feat_extract_norm\": \"group\",\n",
      "  \"feat_proj_dropout\": 0.1,\n",
      "  \"feat_quantizer_dropout\": 0.0,\n",
      "  \"final_dropout\": 0.0,\n",
      "  \"freeze_feat_extract_train\": true,\n",
      "  \"gradient_checkpointing\": true,\n",
      "  \"hidden_act\": \"gelu\",\n",
      "  \"hidden_dropout\": 0.1,\n",
      "  \"hidden_size\": 768,\n",
      "  \"initializer_range\": 0.02,\n",
      "  \"intermediate_size\": 3072,\n",
      "  \"layer_norm_eps\": 1e-05,\n",
      "  \"layerdrop\": 0.05,\n",
      "  \"mask_channel_length\": 10,\n",
      "  \"mask_channel_min_space\": 1,\n",
      "  \"mask_channel_other\": 0.0,\n",
      "  \"mask_channel_prob\": 0.0,\n",
      "  \"mask_channel_selection\": \"static\",\n",
      "  \"mask_feature_length\": 10,\n",
      "  \"mask_feature_prob\": 0.0,\n",
      "  \"mask_time_length\": 10,\n",
      "  \"mask_time_min_space\": 1,\n",
      "  \"mask_time_other\": 0.0,\n",
      "  \"mask_time_prob\": 0.05,\n",
      "  \"mask_time_selection\": \"static\",\n",
      "  \"model_type\": \"wav2vec2\",\n",
      "  \"no_mask_channel_overlap\": false,\n",
      "  \"no_mask_time_overlap\": false,\n",
      "  \"num_attention_heads\": 12,\n",
      "  \"num_codevector_groups\": 2,\n",
      "  \"num_codevectors_per_group\": 320,\n",
      "  \"num_conv_pos_embedding_groups\": 16,\n",
      "  \"num_conv_pos_embeddings\": 128,\n",
      "  \"num_feat_extract_layers\": 7,\n",
      "  \"num_hidden_layers\": 12,\n",
      "  \"num_negatives\": 100,\n",
      "  \"pad_token_id\": 29,\n",
      "  \"proj_codevector_dim\": 256,\n",
      "  \"transformers_version\": \"4.11.3\",\n",
      "  \"use_weighted_layer_sum\": false,\n",
      "  \"vocab_size\": 32\n",
      "}\n",
      "\n",
      "loading weights file https://huggingface.co/facebook/wav2vec2-base/resolve/main/pytorch_model.bin from cache at /root/.cache/huggingface/transformers/ef45231897ce572a660ebc5a63d3702f1a6041c4c5fb78cbec330708531939b3.fcae05302a685f7904c551c8ea571e8bc2a2c4a1777ea81ad66e47f7883a650a\n",
      "Some weights of the model checkpoint at facebook/wav2vec2-base were not used when initializing Wav2Vec2ForCTC: ['quantizer.codevectors', 'project_hid.weight', 'quantizer.weight_proj.bias', 'project_q.weight', 'project_q.bias', 'project_hid.bias', 'quantizer.weight_proj.weight']\n",
      "- This IS expected if you are initializing Wav2Vec2ForCTC from the checkpoint of a model trained on another task or with another architecture (e.g. initializing a BertForSequenceClassification model from a BertForPreTraining model).\n",
      "- This IS NOT expected if you are initializing Wav2Vec2ForCTC from the checkpoint of a model that you expect to be exactly identical (initializing a BertForSequenceClassification model from a BertForSequenceClassification model).\n",
      "Some weights of Wav2Vec2ForCTC were not initialized from the model checkpoint at facebook/wav2vec2-base and are newly initialized: ['lm_head.bias', 'lm_head.weight']\n",
      "You should probably TRAIN this model on a down-stream task to be able to use it for predictions and inference.\n"
     ]
    }
   ],
   "source": [
    "from transformers import AutoModelForCTC\n",
    "\n",
    "model = AutoModelForCTC.from_pretrained(\n",
    "    model_checkpoint, \n",
    "    ctc_loss_reduction=\"mean\", \n",
    "    pad_token_id=processor.tokenizer.pad_token_id,\n",
    ")"
   ]
  },
  {
   "cell_type": "markdown",
   "metadata": {
    "id": "2PDAoxYzwb-U"
   },
   "source": [
    "The first component of most transformer-based speech models consists of a stack of CNN layers that are used to extract acoustically meaningful - but contextually independent - features from the raw speech signal. This part of the model has already been sufficiently trained during pretraining and as stated in the [paper](https://arxiv.org/pdf/2006.13979.pdf) does not need to be fine-tuned anymore. \n",
    "Thus, we can set the `requires_grad` to `False` for all parameters of the *feature extraction* part."
   ]
  },
  {
   "cell_type": "markdown",
   "metadata": {
    "id": "lD4aGhQM0K-D"
   },
   "source": [
    "In a final step, we define all parameters related to training. \n",
    "To give more explanation on some of the parameters:\n",
    "- `group_by_length` makes training more efficient by grouping training samples of similar input length into one batch. This can significantly speed up training time by heavily reducing the overall number of useless padding tokens that are passed through the model\n",
    "- `learning_rate` and `weight_decay` were heuristically tuned until fine-tuning has become stable. Note that those parameters strongly depend on the Timit dataset and might be suboptimal for other speech datasets.\n",
    "\n",
    "For more explanations on other parameters, one can take a look at the [docs](https://huggingface.co/transformers/master/main_classes/trainer.html?highlight=trainer#trainingarguments).\n",
    "\n",
    "During training, a checkpoint will be uploaded asynchronously to the hub every 400 training steps. It allows you to also play around with the demo widget even while your model is still training.\n",
    "\n",
    "**Note**: If one does not want to upload the model checkpoints to the hub, simply set `push_to_hub=False`."
   ]
  },
  {
   "cell_type": "code",
   "execution_count": null,
   "metadata": {
    "colab": {
     "base_uri": "https://localhost:8080/"
    },
    "id": "KbeKSV7uzGPP",
    "outputId": "4dcce61c-fc4b-44bb-a774-70ff20971031"
   },
   "outputs": [
    {
     "name": "stderr",
     "output_type": "stream",
     "text": [
      "PyTorch: setting up devices\n",
      "The default value for the training argument `--report_to` will change in v5 (from all installed integrations to none). In v5, you will need to use `--report_to all` to get the same behavior as now. You should start updating your code and make this info disappear :-).\n"
     ]
    }
   ],
   "source": [
    "from transformers import TrainingArguments\n",
    "\n",
    "training_args = TrainingArguments(\n",
    "  output_dir=repo_name,\n",
    "  group_by_length=True,\n",
    "  per_device_train_batch_size=32,\n",
    "  eval_strategy=\"steps\",\n",
    "  num_train_epochs=30,\n",
    "  fp16=True,\n",
    "  gradient_checkpointing=True,\n",
    "  save_steps=500,\n",
    "  eval_steps=500,\n",
    "  logging_steps=500,\n",
    "  learning_rate=1e-4,\n",
    "  weight_decay=0.005,\n",
    "  warmup_steps=1000,\n",
    "  save_total_limit=2,\n",
    "  push_to_hub=True,\n",
    ")"
   ]
  },
  {
   "cell_type": "markdown",
   "metadata": {
    "id": "OsW-WZcL1ZtN"
   },
   "source": [
    "Now, all instances can be passed to Trainer and we are ready to start training!"
   ]
  },
  {
   "cell_type": "code",
   "execution_count": null,
   "metadata": {
    "colab": {
     "base_uri": "https://localhost:8080/"
    },
    "id": "rY7vBmFCPFgC",
    "outputId": "191b231d-70c1-4315-bdd6-ea2a5d106537"
   },
   "outputs": [
    {
     "name": "stderr",
     "output_type": "stream",
     "text": [
      "/content/wav2vec2-base-timit-demo-colab is already a clone of https://huggingface.co/patrickvonplaten/wav2vec2-base-timit-demo-colab. Make sure you pull the latest changes with `repo.git_pull()`.\n",
      "Using amp fp16 backend\n"
     ]
    }
   ],
   "source": [
    "from transformers import Trainer\n",
    "\n",
    "trainer = Trainer(\n",
    "    model=model,\n",
    "    data_collator=data_collator,\n",
    "    args=training_args,\n",
    "    compute_metrics=compute_metrics,\n",
    "    train_dataset=timit[\"train\"],\n",
    "    eval_dataset=timit[\"test\"],\n",
    "    tokenizer=processor.feature_extractor,\n",
    ")"
   ]
  },
  {
   "cell_type": "markdown",
   "metadata": {
    "id": "UoXBx1JAA0DX"
   },
   "source": [
    "\n",
    "\n",
    "---\n",
    "\n",
    "${}^1$ To allow models to become independent of the speaker rate, in CTC, consecutive tokens that are identical are simply grouped as a single token. However, the encoded labels should not be grouped when decoding since they don't correspond to the predicted tokens of the model, which is why the `group_tokens=False` parameter has to be passed. If we wouldn't pass this parameter a word like `\"hello\"` would incorrectly be encoded, and decoded as `\"helo\"`.\n",
    "\n",
    "${}^2$ The blank token allows the model to predict a word, such as `\"hello\"` by forcing it to insert the blank token between the two l's. A CTC-conform prediction of `\"hello\"` of our model would be `[PAD] [PAD] \"h\" \"e\" \"e\" \"l\" \"l\" [PAD] \"l\" \"o\" \"o\" [PAD]`."
   ]
  },
  {
   "cell_type": "markdown",
   "metadata": {
    "id": "rpvZHM1xReIW"
   },
   "source": [
    "### Training"
   ]
  },
  {
   "cell_type": "markdown",
   "metadata": {
    "id": "j-3oKSzZ1hGq"
   },
   "source": [
    "Training will take a couple of hours depending on the GPU allocated to this notebook."
   ]
  },
  {
   "cell_type": "code",
   "execution_count": null,
   "metadata": {
    "colab": {
     "base_uri": "https://localhost:8080/",
     "height": 1000
    },
    "id": "_UEjJqGsQw24",
    "outputId": "e76688f4-e32d-4de2-e3cb-fa1b942a93e6"
   },
   "outputs": [
    {
     "name": "stderr",
     "output_type": "stream",
     "text": [
      "The following columns in the training set  don't have a corresponding argument in `Wav2Vec2ForCTC.forward` and have been ignored: input_length.\n",
      "***** Running training *****\n",
      "  Num examples = 3978\n",
      "  Num Epochs = 30\n",
      "  Instantaneous batch size per device = 32\n",
      "  Total train batch size (w. parallel, distributed & accumulation) = 32\n",
      "  Gradient Accumulation steps = 1\n",
      "  Total optimization steps = 3750\n"
     ]
    },
    {
     "data": {
      "text/html": [
       "\n",
       "    <div>\n",
       "      \n",
       "      <progress value='3750' max='3750' style='width:300px; height:20px; vertical-align: middle;'></progress>\n",
       "      [3750/3750 1:46:22, Epoch 30/30]\n",
       "    </div>\n",
       "    <table border=\"1\" class=\"dataframe\">\n",
       "  <thead>\n",
       "    <tr style=\"text-align: left;\">\n",
       "      <th>Step</th>\n",
       "      <th>Training Loss</th>\n",
       "      <th>Validation Loss</th>\n",
       "      <th>Wer</th>\n",
       "    </tr>\n",
       "  </thead>\n",
       "  <tbody>\n",
       "    <tr>\n",
       "      <td>500</td>\n",
       "      <td>0.113400</td>\n",
       "      <td>0.425030</td>\n",
       "      <td>0.362621</td>\n",
       "    </tr>\n",
       "    <tr>\n",
       "      <td>1000</td>\n",
       "      <td>0.103500</td>\n",
       "      <td>0.497975</td>\n",
       "      <td>0.364965</td>\n",
       "    </tr>\n",
       "    <tr>\n",
       "      <td>1500</td>\n",
       "      <td>0.080100</td>\n",
       "      <td>0.556286</td>\n",
       "      <td>0.363242</td>\n",
       "    </tr>\n",
       "    <tr>\n",
       "      <td>2000</td>\n",
       "      <td>0.059200</td>\n",
       "      <td>0.622184</td>\n",
       "      <td>0.360692</td>\n",
       "    </tr>\n",
       "    <tr>\n",
       "      <td>2500</td>\n",
       "      <td>0.056300</td>\n",
       "      <td>0.476272</td>\n",
       "      <td>0.345738</td>\n",
       "    </tr>\n",
       "    <tr>\n",
       "      <td>3000</td>\n",
       "      <td>0.061100</td>\n",
       "      <td>0.493821</td>\n",
       "      <td>0.348908</td>\n",
       "    </tr>\n",
       "    <tr>\n",
       "      <td>3500</td>\n",
       "      <td>0.047500</td>\n",
       "      <td>0.488801</td>\n",
       "      <td>0.339191</td>\n",
       "    </tr>\n",
       "  </tbody>\n",
       "</table><p>"
      ],
      "text/plain": [
       "<IPython.core.display.HTML object>"
      ]
     },
     "metadata": {},
     "output_type": "display_data"
    },
    {
     "name": "stderr",
     "output_type": "stream",
     "text": [
      "/usr/local/lib/python3.7/dist-packages/transformers/trainer.py:1357: FutureWarning: Non-finite norm encountered in torch.nn.utils.clip_grad_norm_; continuing anyway. Note that the default behavior will change in a future release to error out if a non-finite total norm is encountered. At that point, setting error_if_nonfinite=false will be required to retain the old behavior.\n",
      "  args.max_grad_norm,\n",
      "The following columns in the evaluation set  don't have a corresponding argument in `Wav2Vec2ForCTC.forward` and have been ignored: input_length.\n",
      "***** Running Evaluation *****\n",
      "  Num examples = 1680\n",
      "  Batch size = 8\n",
      "Saving model checkpoint to wav2vec2-base-timit-demo-colab/checkpoint-500\n",
      "Configuration saved in wav2vec2-base-timit-demo-colab/checkpoint-500/config.json\n",
      "Model weights saved in wav2vec2-base-timit-demo-colab/checkpoint-500/pytorch_model.bin\n",
      "Configuration saved in wav2vec2-base-timit-demo-colab/checkpoint-500/preprocessor_config.json\n",
      "Configuration saved in wav2vec2-base-timit-demo-colab/preprocessor_config.json\n",
      "/usr/local/lib/python3.7/dist-packages/transformers/trainer.py:1357: FutureWarning: Non-finite norm encountered in torch.nn.utils.clip_grad_norm_; continuing anyway. Note that the default behavior will change in a future release to error out if a non-finite total norm is encountered. At that point, setting error_if_nonfinite=false will be required to retain the old behavior.\n",
      "  args.max_grad_norm,\n",
      "The following columns in the evaluation set  don't have a corresponding argument in `Wav2Vec2ForCTC.forward` and have been ignored: input_length.\n",
      "***** Running Evaluation *****\n",
      "  Num examples = 1680\n",
      "  Batch size = 8\n",
      "Saving model checkpoint to wav2vec2-base-timit-demo-colab/checkpoint-1000\n",
      "Configuration saved in wav2vec2-base-timit-demo-colab/checkpoint-1000/config.json\n",
      "Model weights saved in wav2vec2-base-timit-demo-colab/checkpoint-1000/pytorch_model.bin\n",
      "Configuration saved in wav2vec2-base-timit-demo-colab/checkpoint-1000/preprocessor_config.json\n",
      "The following columns in the evaluation set  don't have a corresponding argument in `Wav2Vec2ForCTC.forward` and have been ignored: input_length.\n",
      "***** Running Evaluation *****\n",
      "  Num examples = 1680\n",
      "  Batch size = 8\n",
      "Saving model checkpoint to wav2vec2-base-timit-demo-colab/checkpoint-1500\n",
      "Configuration saved in wav2vec2-base-timit-demo-colab/checkpoint-1500/config.json\n",
      "Model weights saved in wav2vec2-base-timit-demo-colab/checkpoint-1500/pytorch_model.bin\n",
      "Configuration saved in wav2vec2-base-timit-demo-colab/checkpoint-1500/preprocessor_config.json\n",
      "Deleting older checkpoint [wav2vec2-base-timit-demo-colab/checkpoint-500] due to args.save_total_limit\n",
      "The following columns in the evaluation set  don't have a corresponding argument in `Wav2Vec2ForCTC.forward` and have been ignored: input_length.\n",
      "***** Running Evaluation *****\n",
      "  Num examples = 1680\n",
      "  Batch size = 8\n",
      "Saving model checkpoint to wav2vec2-base-timit-demo-colab/checkpoint-2000\n",
      "Configuration saved in wav2vec2-base-timit-demo-colab/checkpoint-2000/config.json\n",
      "Model weights saved in wav2vec2-base-timit-demo-colab/checkpoint-2000/pytorch_model.bin\n",
      "Configuration saved in wav2vec2-base-timit-demo-colab/checkpoint-2000/preprocessor_config.json\n",
      "Deleting older checkpoint [wav2vec2-base-timit-demo-colab/checkpoint-1000] due to args.save_total_limit\n",
      "The following columns in the evaluation set  don't have a corresponding argument in `Wav2Vec2ForCTC.forward` and have been ignored: input_length.\n",
      "***** Running Evaluation *****\n",
      "  Num examples = 1680\n",
      "  Batch size = 8\n",
      "Saving model checkpoint to wav2vec2-base-timit-demo-colab/checkpoint-2500\n",
      "Configuration saved in wav2vec2-base-timit-demo-colab/checkpoint-2500/config.json\n",
      "Model weights saved in wav2vec2-base-timit-demo-colab/checkpoint-2500/pytorch_model.bin\n",
      "Configuration saved in wav2vec2-base-timit-demo-colab/checkpoint-2500/preprocessor_config.json\n",
      "Deleting older checkpoint [wav2vec2-base-timit-demo-colab/checkpoint-1500] due to args.save_total_limit\n",
      "The following columns in the evaluation set  don't have a corresponding argument in `Wav2Vec2ForCTC.forward` and have been ignored: input_length.\n",
      "***** Running Evaluation *****\n",
      "  Num examples = 1680\n",
      "  Batch size = 8\n",
      "Saving model checkpoint to wav2vec2-base-timit-demo-colab/checkpoint-3000\n",
      "Configuration saved in wav2vec2-base-timit-demo-colab/checkpoint-3000/config.json\n",
      "Model weights saved in wav2vec2-base-timit-demo-colab/checkpoint-3000/pytorch_model.bin\n",
      "Configuration saved in wav2vec2-base-timit-demo-colab/checkpoint-3000/preprocessor_config.json\n",
      "Deleting older checkpoint [wav2vec2-base-timit-demo-colab/checkpoint-2000] due to args.save_total_limit\n",
      "The following columns in the evaluation set  don't have a corresponding argument in `Wav2Vec2ForCTC.forward` and have been ignored: input_length.\n",
      "***** Running Evaluation *****\n",
      "  Num examples = 1680\n",
      "  Batch size = 8\n",
      "Saving model checkpoint to wav2vec2-base-timit-demo-colab/checkpoint-3500\n",
      "Configuration saved in wav2vec2-base-timit-demo-colab/checkpoint-3500/config.json\n",
      "Model weights saved in wav2vec2-base-timit-demo-colab/checkpoint-3500/pytorch_model.bin\n",
      "Configuration saved in wav2vec2-base-timit-demo-colab/checkpoint-3500/preprocessor_config.json\n",
      "Deleting older checkpoint [wav2vec2-base-timit-demo-colab/checkpoint-2500] due to args.save_total_limit\n",
      "\n",
      "\n",
      "Training completed. Do not forget to share your model on huggingface.co/models =)\n",
      "\n",
      "\n"
     ]
    },
    {
     "data": {
      "text/plain": [
       "TrainOutput(global_step=3750, training_loss=0.0719044921875, metrics={'train_runtime': 6384.5833, 'train_samples_per_second': 18.692, 'train_steps_per_second': 0.587, 'total_flos': 3.098741829539622e+18, 'train_loss': 0.0719044921875, 'epoch': 30.0})"
      ]
     },
     "execution_count": 43,
     "metadata": {},
     "output_type": "execute_result"
    }
   ],
   "source": [
    "trainer.train()"
   ]
  },
  {
   "cell_type": "markdown",
   "metadata": {
    "id": "UCyp-v3n4Zlt"
   },
   "source": [
    "The final WER should be around 0.3 which is reasonable given that state-of-the-art phoneme error rates (PER) are just below 0.1 (see [leaderboard](https://paperswithcode.com/sota/speech-recognition-on-timit)) and that WER is usually worse than PER.\n",
    "\n",
    "You can now upload the result of the training to the Hub, just execute this instruction:"
   ]
  },
  {
   "cell_type": "code",
   "execution_count": null,
   "metadata": {
    "colab": {
     "base_uri": "https://localhost:8080/",
     "height": 351,
     "referenced_widgets": [
      "853be7d9a3d24adfbdc9a07d181425cc",
      "76c3fdccb19945e194c441769a1f53b0",
      "17a09ff9015f4eb2b91ee77b1f7f76e0",
      "9528d69e9b0549f59f84e94f34e5a583",
      "8665ac85023c43c3a1599c381ab07ffa",
      "3b2bcaf5a8f34426bb98ec435603b295",
      "a5b0355d9a2e4125b7244ae5582212c8",
      "ea368ae3cbb54a73a06d6fdf30457c02",
      "4b6973c261204b2bb27596bfe26aea7d",
      "d21e46e22de04ebe9e02b44e71de04f2",
      "d9813a20998b4f739de3fa1592fa6f6c",
      "e9700e09f87a4884b1bdec05bd953c87",
      "6ab335fdf69045a7a183225814ac50b4",
      "a7e7d95121934bd4b3cf322636b5ec52",
      "e62e6b3087364568b2919536eed930b4",
      "a60bf0d288ce49f39ce301698528515a",
      "44acbd5e884948b5929f15336986a08e",
      "0a7e1500d4764332aae441c0afbe12bf",
      "5b1c1ad9f82d491d98e71923057a6181",
      "78f37dd782e643d0985b47de288eb6a6",
      "d578ce02e48c49d7838c002d1d2217fb",
      "47ae20ba4e5946debdd789af83114d3e"
     ]
    },
    "id": "JYGQYBhHNsvj",
    "outputId": "69be0c57-b143-4676-ed55-9c64d30ff973"
   },
   "outputs": [
    {
     "name": "stderr",
     "output_type": "stream",
     "text": [
      "Saving model checkpoint to wav2vec2-base-timit-demo-colab\n",
      "Configuration saved in wav2vec2-base-timit-demo-colab/config.json\n",
      "Model weights saved in wav2vec2-base-timit-demo-colab/pytorch_model.bin\n",
      "Configuration saved in wav2vec2-base-timit-demo-colab/preprocessor_config.json\n",
      "Several commits (2) will be pushed upstream.\n",
      "The progress bars may be unreliable.\n"
     ]
    },
    {
     "data": {
      "application/vnd.jupyter.widget-view+json": {
       "model_id": "853be7d9a3d24adfbdc9a07d181425cc",
       "version_major": 2,
       "version_minor": 0
      },
      "text/plain": [
       "Upload file pytorch_model.bin:   0%|          | 3.36k/360M [00:00<?, ?B/s]"
      ]
     },
     "metadata": {},
     "output_type": "display_data"
    },
    {
     "data": {
      "application/vnd.jupyter.widget-view+json": {
       "model_id": "e9700e09f87a4884b1bdec05bd953c87",
       "version_major": 2,
       "version_minor": 0
      },
      "text/plain": [
       "Upload file runs/Oct19_15-22-32_c16c65cbdbe5/events.out.tfevents.1634657020.c16c65cbdbe5.77.2:  42%|####2     …"
      ]
     },
     "metadata": {},
     "output_type": "display_data"
    },
    {
     "name": "stderr",
     "output_type": "stream",
     "text": [
      "To https://huggingface.co/patrickvonplaten/wav2vec2-base-timit-demo-colab\n",
      "   870c48e..2998ea6  main -> main\n",
      "\n",
      "Dropping the following result as it does not have all the necessary field:\n",
      "{}\n",
      "To https://huggingface.co/patrickvonplaten/wav2vec2-base-timit-demo-colab\n",
      "   2998ea6..431ef82  main -> main\n",
      "\n"
     ]
    },
    {
     "data": {
      "application/vnd.google.colaboratory.intrinsic+json": {
       "type": "string"
      },
      "text/plain": [
       "'https://huggingface.co/patrickvonplaten/wav2vec2-base-timit-demo-colab/commit/2998ea690ec1ba32370f856fb558cf22dcb0e119'"
      ]
     },
     "execution_count": 44,
     "metadata": {},
     "output_type": "execute_result"
    }
   ],
   "source": [
    "trainer.push_to_hub()"
   ]
  },
  {
   "cell_type": "markdown",
   "metadata": {
    "id": "djzwS5WeNu16"
   },
   "source": [
    "You can now share this model with all your friends, family, favorite pets: they can all load it with the identifier \"your-username/the-name-you-picked\" so for instance:"
   ]
  },
  {
   "cell_type": "markdown",
   "metadata": {
    "id": "Adm0LngNNxq7"
   },
   "source": [
    "```python\n",
    "from transformers import AutoModelForCTC, Wav2Vec2Processor\n",
    "\n",
    "model = AutoModelForCTC.from_pretrained(\"patrickvonplaten/wav2vec2-base-timit-demo-colab\")\n",
    "processor = Wav2Vec2Processor.from_pretrained(\"patrickvonplaten/wav2vec2-base-timit-demo-colab\")\n",
    "```"
   ]
  },
  {
   "cell_type": "markdown",
   "metadata": {
    "id": "Cw0_ygXSw_MT"
   },
   "source": [
    "To fine-tune larger models on larger datasets using CTC loss, one should take a look at the official speech-recognition examples [here](https://github.com/huggingface/transformers/tree/master/examples/pytorch/speech-recognition#connectionist-temporal-classification-without-language-model-ctc-wo-lm) 🤗."
   ]
  }
 ],
 "metadata": {
  "accelerator": "GPU",
  "colab": {
   "collapsed_sections": [],
   "include_colab_link": true,
   "machine_shape": "hm",
   "name": "Fine-Tune Speech Recognition Model with 🤗 Transformers using CTC.ipynb",
   "provenance": [],
   "toc_visible": true
  },
  "kernelspec": {
   "display_name": "Python 3 (ipykernel)",
   "language": "python",
   "name": "python3"
  },
  "language_info": {
   "codemirror_mode": {
    "name": "ipython",
    "version": 3
   },
   "file_extension": ".py",
   "mimetype": "text/x-python",
   "name": "python",
   "nbconvert_exporter": "python",
   "pygments_lexer": "ipython3",
   "version": "3.10.8"
  },
  "widgets": {
   "application/vnd.jupyter.widget-state+json": {
    "01ae96853d54497f9108870821c45470": {
     "model_module": "@jupyter-widgets/controls",
     "model_module_version": "1.5.0",
     "model_name": "DescriptionStyleModel",
     "state": {
      "_model_module": "@jupyter-widgets/controls",
      "_model_module_version": "1.5.0",
      "_model_name": "DescriptionStyleModel",
      "_view_count": null,
      "_view_module": "@jupyter-widgets/base",
      "_view_module_version": "1.2.0",
      "_view_name": "StyleView",
      "description_width": ""
     }
    },
    "05c060b08e2e4040ae380608a4642167": {
     "model_module": "@jupyter-widgets/base",
     "model_module_version": "1.2.0",
     "model_name": "LayoutModel",
     "state": {
      "_model_module": "@jupyter-widgets/base",
      "_model_module_version": "1.2.0",
      "_model_name": "LayoutModel",
      "_view_count": null,
      "_view_module": "@jupyter-widgets/base",
      "_view_module_version": "1.2.0",
      "_view_name": "LayoutView",
      "align_content": null,
      "align_items": null,
      "align_self": null,
      "border": null,
      "bottom": null,
      "display": null,
      "flex": null,
      "flex_flow": null,
      "grid_area": null,
      "grid_auto_columns": null,
      "grid_auto_flow": null,
      "grid_auto_rows": null,
      "grid_column": null,
      "grid_gap": null,
      "grid_row": null,
      "grid_template_areas": null,
      "grid_template_columns": null,
      "grid_template_rows": null,
      "height": null,
      "justify_content": null,
      "justify_items": null,
      "left": null,
      "margin": null,
      "max_height": null,
      "max_width": null,
      "min_height": null,
      "min_width": null,
      "object_fit": null,
      "object_position": null,
      "order": null,
      "overflow": null,
      "overflow_x": null,
      "overflow_y": null,
      "padding": null,
      "right": null,
      "top": null,
      "visibility": null,
      "width": null
     }
    },
    "0a7e1500d4764332aae441c0afbe12bf": {
     "model_module": "@jupyter-widgets/base",
     "model_module_version": "1.2.0",
     "model_name": "LayoutModel",
     "state": {
      "_model_module": "@jupyter-widgets/base",
      "_model_module_version": "1.2.0",
      "_model_name": "LayoutModel",
      "_view_count": null,
      "_view_module": "@jupyter-widgets/base",
      "_view_module_version": "1.2.0",
      "_view_name": "LayoutView",
      "align_content": null,
      "align_items": null,
      "align_self": null,
      "border": null,
      "bottom": null,
      "display": null,
      "flex": null,
      "flex_flow": null,
      "grid_area": null,
      "grid_auto_columns": null,
      "grid_auto_flow": null,
      "grid_auto_rows": null,
      "grid_column": null,
      "grid_gap": null,
      "grid_row": null,
      "grid_template_areas": null,
      "grid_template_columns": null,
      "grid_template_rows": null,
      "height": null,
      "justify_content": null,
      "justify_items": null,
      "left": null,
      "margin": null,
      "max_height": null,
      "max_width": null,
      "min_height": null,
      "min_width": null,
      "object_fit": null,
      "object_position": null,
      "order": null,
      "overflow": null,
      "overflow_x": null,
      "overflow_y": null,
      "padding": null,
      "right": null,
      "top": null,
      "visibility": null,
      "width": null
     }
    },
    "0ccb540f2e4e4366afbf6f3c7b6a1891": {
     "model_module": "@jupyter-widgets/controls",
     "model_module_version": "1.5.0",
     "model_name": "HBoxModel",
     "state": {
      "_dom_classes": [],
      "_model_module": "@jupyter-widgets/controls",
      "_model_module_version": "1.5.0",
      "_model_name": "HBoxModel",
      "_view_count": null,
      "_view_module": "@jupyter-widgets/controls",
      "_view_module_version": "1.5.0",
      "_view_name": "HBoxView",
      "box_style": "",
      "children": [
       "IPY_MODEL_61e6f51635824da78940b6cd88a74a51",
       "IPY_MODEL_de7353a43be34e5f9251f8173f82b5d7",
       "IPY_MODEL_b3fa310071864a698c6af603130cabaf"
      ],
      "layout": "IPY_MODEL_8bd3a4b8a3954fcdba93dd67ff9a6461"
     }
    },
    "0f8d01377c2a444bba88bb359dd158d1": {
     "model_module": "@jupyter-widgets/controls",
     "model_module_version": "1.5.0",
     "model_name": "HBoxModel",
     "state": {
      "_dom_classes": [],
      "_model_module": "@jupyter-widgets/controls",
      "_model_module_version": "1.5.0",
      "_model_name": "HBoxModel",
      "_view_count": null,
      "_view_module": "@jupyter-widgets/controls",
      "_view_module_version": "1.5.0",
      "_view_name": "HBoxView",
      "box_style": "",
      "children": [
       "IPY_MODEL_85879304d4b24872a84500cf2a93564b",
       "IPY_MODEL_93cb19300e0c4182bf0ebaca55a19cd3",
       "IPY_MODEL_852290b2f6ed4b5c8cde1d9910ab62b2"
      ],
      "layout": "IPY_MODEL_5afda1e3cce048618d3192b8b8a9ff4b"
     }
    },
    "107c22566a0548aa9f2ad08b274b1da5": {
     "model_module": "@jupyter-widgets/controls",
     "model_module_version": "1.5.0",
     "model_name": "HTMLModel",
     "state": {
      "_dom_classes": [],
      "_model_module": "@jupyter-widgets/controls",
      "_model_module_version": "1.5.0",
      "_model_name": "HTMLModel",
      "_view_count": null,
      "_view_module": "@jupyter-widgets/controls",
      "_view_module_version": "1.5.0",
      "_view_name": "HTMLView",
      "description": "",
      "description_tooltip": null,
      "layout": "IPY_MODEL_34d7ede5ed08409494c9b05025799fdd",
      "placeholder": "​",
      "style": "IPY_MODEL_a95ce2b4a9cb4db1a95d00a49815e45c",
      "value": " 2.64k/? [00:00&lt;00:00, 37.3kB/s]"
     }
    },
    "14dae264619940beab57908b986aa6bb": {
     "model_module": "@jupyter-widgets/base",
     "model_module_version": "1.2.0",
     "model_name": "LayoutModel",
     "state": {
      "_model_module": "@jupyter-widgets/base",
      "_model_module_version": "1.2.0",
      "_model_name": "LayoutModel",
      "_view_count": null,
      "_view_module": "@jupyter-widgets/base",
      "_view_module_version": "1.2.0",
      "_view_name": "LayoutView",
      "align_content": null,
      "align_items": null,
      "align_self": null,
      "border": null,
      "bottom": null,
      "display": null,
      "flex": null,
      "flex_flow": null,
      "grid_area": null,
      "grid_auto_columns": null,
      "grid_auto_flow": null,
      "grid_auto_rows": null,
      "grid_column": null,
      "grid_gap": null,
      "grid_row": null,
      "grid_template_areas": null,
      "grid_template_columns": null,
      "grid_template_rows": null,
      "height": null,
      "justify_content": null,
      "justify_items": null,
      "left": null,
      "margin": null,
      "max_height": null,
      "max_width": null,
      "min_height": null,
      "min_width": null,
      "object_fit": null,
      "object_position": null,
      "order": null,
      "overflow": null,
      "overflow_x": null,
      "overflow_y": null,
      "padding": null,
      "right": null,
      "top": null,
      "visibility": null,
      "width": null
     }
    },
    "17a09ff9015f4eb2b91ee77b1f7f76e0": {
     "model_module": "@jupyter-widgets/controls",
     "model_module_version": "1.5.0",
     "model_name": "HTMLModel",
     "state": {
      "_dom_classes": [],
      "_model_module": "@jupyter-widgets/controls",
      "_model_module_version": "1.5.0",
      "_model_name": "HTMLModel",
      "_view_count": null,
      "_view_module": "@jupyter-widgets/controls",
      "_view_module_version": "1.5.0",
      "_view_name": "HTMLView",
      "description": "",
      "description_tooltip": null,
      "layout": "IPY_MODEL_a5b0355d9a2e4125b7244ae5582212c8",
      "placeholder": "​",
      "style": "IPY_MODEL_3b2bcaf5a8f34426bb98ec435603b295",
      "value": "Upload file pytorch_model.bin: 100%"
     }
    },
    "1a6890f25d1346b9ac9c503f07d3c415": {
     "model_module": "@jupyter-widgets/controls",
     "model_module_version": "1.5.0",
     "model_name": "PasswordModel",
     "state": {
      "_dom_classes": [],
      "_model_module": "@jupyter-widgets/controls",
      "_model_module_version": "1.5.0",
      "_model_name": "PasswordModel",
      "_view_count": null,
      "_view_module": "@jupyter-widgets/controls",
      "_view_module_version": "1.5.0",
      "_view_name": "PasswordView",
      "continuous_update": true,
      "description": "Password:",
      "description_tooltip": null,
      "disabled": false,
      "layout": "IPY_MODEL_4d01d067330840b1927ab1da60d1e4bb",
      "placeholder": "​",
      "style": "IPY_MODEL_e09c7201febc4d58bce738e843ba61b8",
      "value": ""
     }
    },
    "1c7b304622504a5daee3f974e1945aea": {
     "model_module": "@jupyter-widgets/controls",
     "model_module_version": "1.5.0",
     "model_name": "HTMLModel",
     "state": {
      "_dom_classes": [],
      "_model_module": "@jupyter-widgets/controls",
      "_model_module_version": "1.5.0",
      "_model_name": "HTMLModel",
      "_view_count": null,
      "_view_module": "@jupyter-widgets/controls",
      "_view_module_version": "1.5.0",
      "_view_name": "HTMLView",
      "description": "",
      "description_tooltip": null,
      "layout": "IPY_MODEL_5aee700403574a8d839b95f7ea340da3",
      "placeholder": "​",
      "style": "IPY_MODEL_37acc809a37a40af9e5377141eb7682b",
      "value": "Downloading: 100%"
     }
    },
    "1d3035aaa2d24bacae7a92dff13ba216": {
     "model_module": "@jupyter-widgets/base",
     "model_module_version": "1.2.0",
     "model_name": "LayoutModel",
     "state": {
      "_model_module": "@jupyter-widgets/base",
      "_model_module_version": "1.2.0",
      "_model_name": "LayoutModel",
      "_view_count": null,
      "_view_module": "@jupyter-widgets/base",
      "_view_module_version": "1.2.0",
      "_view_name": "LayoutView",
      "align_content": null,
      "align_items": null,
      "align_self": null,
      "border": null,
      "bottom": null,
      "display": null,
      "flex": null,
      "flex_flow": null,
      "grid_area": null,
      "grid_auto_columns": null,
      "grid_auto_flow": null,
      "grid_auto_rows": null,
      "grid_column": null,
      "grid_gap": null,
      "grid_row": null,
      "grid_template_areas": null,
      "grid_template_columns": null,
      "grid_template_rows": null,
      "height": null,
      "justify_content": null,
      "justify_items": null,
      "left": null,
      "margin": null,
      "max_height": null,
      "max_width": null,
      "min_height": null,
      "min_width": null,
      "object_fit": null,
      "object_position": null,
      "order": null,
      "overflow": null,
      "overflow_x": null,
      "overflow_y": null,
      "padding": null,
      "right": null,
      "top": null,
      "visibility": null,
      "width": "20px"
     }
    },
    "1e0fc323b5744fa4a9f52e19ed17e51f": {
     "model_module": "@jupyter-widgets/controls",
     "model_module_version": "1.5.0",
     "model_name": "VBoxModel",
     "state": {
      "_dom_classes": [],
      "_model_module": "@jupyter-widgets/controls",
      "_model_module_version": "1.5.0",
      "_model_name": "VBoxModel",
      "_view_count": null,
      "_view_module": "@jupyter-widgets/controls",
      "_view_module_version": "1.5.0",
      "_view_name": "VBoxView",
      "box_style": "",
      "children": [
       "IPY_MODEL_e8efe81123244cdc9d923f213a28cc0f",
       "IPY_MODEL_bdbf48017d7b46aa9175d60413d596ba",
       "IPY_MODEL_f6f802e961ef4be6a7c3df9edd382497"
      ],
      "layout": "IPY_MODEL_e009bda61c6844d7a195937cd3edc69d"
     }
    },
    "20aa14cdf93848969cb5fc746c12f476": {
     "model_module": "@jupyter-widgets/controls",
     "model_module_version": "1.5.0",
     "model_name": "TextModel",
     "state": {
      "_dom_classes": [],
      "_model_module": "@jupyter-widgets/controls",
      "_model_module_version": "1.5.0",
      "_model_name": "TextModel",
      "_view_count": null,
      "_view_module": "@jupyter-widgets/controls",
      "_view_module_version": "1.5.0",
      "_view_name": "TextView",
      "continuous_update": true,
      "description": "Username:",
      "description_tooltip": null,
      "disabled": false,
      "layout": "IPY_MODEL_966a899fc3d345329c577a10234892df",
      "placeholder": "​",
      "style": "IPY_MODEL_c3fa5eee9e544fc2a8faf9eef90d4131",
      "value": ""
     }
    },
    "22b4067dd7774910b6ccd0a422e9aa02": {
     "model_module": "@jupyter-widgets/controls",
     "model_module_version": "1.5.0",
     "model_name": "DescriptionStyleModel",
     "state": {
      "_model_module": "@jupyter-widgets/controls",
      "_model_module_version": "1.5.0",
      "_model_name": "DescriptionStyleModel",
      "_view_count": null,
      "_view_module": "@jupyter-widgets/base",
      "_view_module_version": "1.2.0",
      "_view_name": "StyleView",
      "description_width": ""
     }
    },
    "2392ea8eae7c4dbebc0e218cd7c5ce23": {
     "model_module": "@jupyter-widgets/controls",
     "model_module_version": "1.5.0",
     "model_name": "HTMLModel",
     "state": {
      "_dom_classes": [],
      "_model_module": "@jupyter-widgets/controls",
      "_model_module_version": "1.5.0",
      "_model_name": "HTMLModel",
      "_view_count": null,
      "_view_module": "@jupyter-widgets/controls",
      "_view_module_version": "1.5.0",
      "_view_name": "HTMLView",
      "description": "",
      "description_tooltip": null,
      "layout": "IPY_MODEL_d16ea3ef10684bf1b1092345ca92897a",
      "placeholder": "​",
      "style": "IPY_MODEL_2d77f792dd6048b39d0f14ebf4f80614",
      "value": "100%"
     }
    },
    "2559c18dea0a428697b916de32e1bc0d": {
     "model_module": "@jupyter-widgets/base",
     "model_module_version": "1.2.0",
     "model_name": "LayoutModel",
     "state": {
      "_model_module": "@jupyter-widgets/base",
      "_model_module_version": "1.2.0",
      "_model_name": "LayoutModel",
      "_view_count": null,
      "_view_module": "@jupyter-widgets/base",
      "_view_module_version": "1.2.0",
      "_view_name": "LayoutView",
      "align_content": null,
      "align_items": null,
      "align_self": null,
      "border": null,
      "bottom": null,
      "display": null,
      "flex": null,
      "flex_flow": null,
      "grid_area": null,
      "grid_auto_columns": null,
      "grid_auto_flow": null,
      "grid_auto_rows": null,
      "grid_column": null,
      "grid_gap": null,
      "grid_row": null,
      "grid_template_areas": null,
      "grid_template_columns": null,
      "grid_template_rows": null,
      "height": null,
      "justify_content": null,
      "justify_items": null,
      "left": null,
      "margin": null,
      "max_height": null,
      "max_width": null,
      "min_height": null,
      "min_width": null,
      "object_fit": null,
      "object_position": null,
      "order": null,
      "overflow": null,
      "overflow_x": null,
      "overflow_y": null,
      "padding": null,
      "right": null,
      "top": null,
      "visibility": null,
      "width": null
     }
    },
    "29105b8924d949b99cc0bf317d63b25c": {
     "model_module": "@jupyter-widgets/controls",
     "model_module_version": "1.5.0",
     "model_name": "DescriptionStyleModel",
     "state": {
      "_model_module": "@jupyter-widgets/controls",
      "_model_module_version": "1.5.0",
      "_model_name": "DescriptionStyleModel",
      "_view_count": null,
      "_view_module": "@jupyter-widgets/base",
      "_view_module_version": "1.2.0",
      "_view_name": "StyleView",
      "description_width": ""
     }
    },
    "2b492bcf145a4f82b8f2ba666ae7f902": {
     "model_module": "@jupyter-widgets/controls",
     "model_module_version": "1.5.0",
     "model_name": "DescriptionStyleModel",
     "state": {
      "_model_module": "@jupyter-widgets/controls",
      "_model_module_version": "1.5.0",
      "_model_name": "DescriptionStyleModel",
      "_view_count": null,
      "_view_module": "@jupyter-widgets/base",
      "_view_module_version": "1.2.0",
      "_view_name": "StyleView",
      "description_width": ""
     }
    },
    "2d77f792dd6048b39d0f14ebf4f80614": {
     "model_module": "@jupyter-widgets/controls",
     "model_module_version": "1.5.0",
     "model_name": "DescriptionStyleModel",
     "state": {
      "_model_module": "@jupyter-widgets/controls",
      "_model_module_version": "1.5.0",
      "_model_name": "DescriptionStyleModel",
      "_view_count": null,
      "_view_module": "@jupyter-widgets/base",
      "_view_module_version": "1.2.0",
      "_view_name": "StyleView",
      "description_width": ""
     }
    },
    "2e05bffaad464fd4a5e675b471a7d3ea": {
     "model_module": "@jupyter-widgets/base",
     "model_module_version": "1.2.0",
     "model_name": "LayoutModel",
     "state": {
      "_model_module": "@jupyter-widgets/base",
      "_model_module_version": "1.2.0",
      "_model_name": "LayoutModel",
      "_view_count": null,
      "_view_module": "@jupyter-widgets/base",
      "_view_module_version": "1.2.0",
      "_view_name": "LayoutView",
      "align_content": null,
      "align_items": null,
      "align_self": null,
      "border": null,
      "bottom": null,
      "display": null,
      "flex": null,
      "flex_flow": null,
      "grid_area": null,
      "grid_auto_columns": null,
      "grid_auto_flow": null,
      "grid_auto_rows": null,
      "grid_column": null,
      "grid_gap": null,
      "grid_row": null,
      "grid_template_areas": null,
      "grid_template_columns": null,
      "grid_template_rows": null,
      "height": null,
      "justify_content": null,
      "justify_items": null,
      "left": null,
      "margin": null,
      "max_height": null,
      "max_width": null,
      "min_height": null,
      "min_width": null,
      "object_fit": null,
      "object_position": null,
      "order": null,
      "overflow": null,
      "overflow_x": null,
      "overflow_y": null,
      "padding": null,
      "right": null,
      "top": null,
      "visibility": null,
      "width": null
     }
    },
    "2e27a56468684597ba7084d662a92309": {
     "model_module": "@jupyter-widgets/controls",
     "model_module_version": "1.5.0",
     "model_name": "DescriptionStyleModel",
     "state": {
      "_model_module": "@jupyter-widgets/controls",
      "_model_module_version": "1.5.0",
      "_model_name": "DescriptionStyleModel",
      "_view_count": null,
      "_view_module": "@jupyter-widgets/base",
      "_view_module_version": "1.2.0",
      "_view_name": "StyleView",
      "description_width": ""
     }
    },
    "30851cd4ca67464e87281e6f8d88be51": {
     "model_module": "@jupyter-widgets/controls",
     "model_module_version": "1.5.0",
     "model_name": "HTMLModel",
     "state": {
      "_dom_classes": [],
      "_model_module": "@jupyter-widgets/controls",
      "_model_module_version": "1.5.0",
      "_model_name": "HTMLModel",
      "_view_count": null,
      "_view_module": "@jupyter-widgets/controls",
      "_view_module_version": "1.5.0",
      "_view_name": "HTMLView",
      "description": "",
      "description_tooltip": null,
      "layout": "IPY_MODEL_c8691b011b8b43388e9055adfb2d3d5f",
      "placeholder": "​",
      "style": "IPY_MODEL_4bc0369817c24794a63ee9e10daba10f",
      "value": " 7.07k/? [00:00&lt;00:00, 164kB/s]"
     }
    },
    "30f8754cdd4d42d18af21e4db16b615c": {
     "model_module": "@jupyter-widgets/controls",
     "model_module_version": "1.5.0",
     "model_name": "HBoxModel",
     "state": {
      "_dom_classes": [],
      "_model_module": "@jupyter-widgets/controls",
      "_model_module_version": "1.5.0",
      "_model_name": "HBoxModel",
      "_view_count": null,
      "_view_module": "@jupyter-widgets/controls",
      "_view_module_version": "1.5.0",
      "_view_name": "HBoxView",
      "box_style": "",
      "children": [
       "IPY_MODEL_c2c33b1d592b4b06a7b7e6f6056abae0",
       "IPY_MODEL_af35e4473888416a9419c65fe7e56859",
       "IPY_MODEL_bfb469bf394a4aa288444a43e55ca707"
      ],
      "layout": "IPY_MODEL_ebd5afd701624f289204d48638ed2fbc"
     }
    },
    "32606f13dfd9459db69cfa912949629a": {
     "model_module": "@jupyter-widgets/controls",
     "model_module_version": "1.5.0",
     "model_name": "DescriptionStyleModel",
     "state": {
      "_model_module": "@jupyter-widgets/controls",
      "_model_module_version": "1.5.0",
      "_model_name": "DescriptionStyleModel",
      "_view_count": null,
      "_view_module": "@jupyter-widgets/base",
      "_view_module_version": "1.2.0",
      "_view_name": "StyleView",
      "description_width": ""
     }
    },
    "34d7ede5ed08409494c9b05025799fdd": {
     "model_module": "@jupyter-widgets/base",
     "model_module_version": "1.2.0",
     "model_name": "LayoutModel",
     "state": {
      "_model_module": "@jupyter-widgets/base",
      "_model_module_version": "1.2.0",
      "_model_name": "LayoutModel",
      "_view_count": null,
      "_view_module": "@jupyter-widgets/base",
      "_view_module_version": "1.2.0",
      "_view_name": "LayoutView",
      "align_content": null,
      "align_items": null,
      "align_self": null,
      "border": null,
      "bottom": null,
      "display": null,
      "flex": null,
      "flex_flow": null,
      "grid_area": null,
      "grid_auto_columns": null,
      "grid_auto_flow": null,
      "grid_auto_rows": null,
      "grid_column": null,
      "grid_gap": null,
      "grid_row": null,
      "grid_template_areas": null,
      "grid_template_columns": null,
      "grid_template_rows": null,
      "height": null,
      "justify_content": null,
      "justify_items": null,
      "left": null,
      "margin": null,
      "max_height": null,
      "max_width": null,
      "min_height": null,
      "min_width": null,
      "object_fit": null,
      "object_position": null,
      "order": null,
      "overflow": null,
      "overflow_x": null,
      "overflow_y": null,
      "padding": null,
      "right": null,
      "top": null,
      "visibility": null,
      "width": null
     }
    },
    "3544f17e723f4ade9356e0eacd57c4f5": {
     "model_module": "@jupyter-widgets/controls",
     "model_module_version": "1.5.0",
     "model_name": "FloatProgressModel",
     "state": {
      "_dom_classes": [],
      "_model_module": "@jupyter-widgets/controls",
      "_model_module_version": "1.5.0",
      "_model_name": "FloatProgressModel",
      "_view_count": null,
      "_view_module": "@jupyter-widgets/controls",
      "_view_module_version": "1.5.0",
      "_view_name": "ProgressView",
      "bar_style": "success",
      "description": "",
      "description_tooltip": null,
      "layout": "IPY_MODEL_a5858da3495c4995adf804fc96ef938f",
      "max": 1947,
      "min": 0,
      "orientation": "horizontal",
      "style": "IPY_MODEL_4ab4afbba4a940cba487688b298092cf",
      "value": 1947
     }
    },
    "355b32da63cc40ce9c644a3986f1340d": {
     "model_module": "@jupyter-widgets/controls",
     "model_module_version": "1.5.0",
     "model_name": "ProgressStyleModel",
     "state": {
      "_model_module": "@jupyter-widgets/controls",
      "_model_module_version": "1.5.0",
      "_model_name": "ProgressStyleModel",
      "_view_count": null,
      "_view_module": "@jupyter-widgets/base",
      "_view_module_version": "1.2.0",
      "_view_name": "StyleView",
      "bar_color": null,
      "description_width": ""
     }
    },
    "37acc809a37a40af9e5377141eb7682b": {
     "model_module": "@jupyter-widgets/controls",
     "model_module_version": "1.5.0",
     "model_name": "DescriptionStyleModel",
     "state": {
      "_model_module": "@jupyter-widgets/controls",
      "_model_module_version": "1.5.0",
      "_model_name": "DescriptionStyleModel",
      "_view_count": null,
      "_view_module": "@jupyter-widgets/base",
      "_view_module_version": "1.2.0",
      "_view_name": "StyleView",
      "description_width": ""
     }
    },
    "3b2bcaf5a8f34426bb98ec435603b295": {
     "model_module": "@jupyter-widgets/controls",
     "model_module_version": "1.5.0",
     "model_name": "DescriptionStyleModel",
     "state": {
      "_model_module": "@jupyter-widgets/controls",
      "_model_module_version": "1.5.0",
      "_model_name": "DescriptionStyleModel",
      "_view_count": null,
      "_view_module": "@jupyter-widgets/base",
      "_view_module_version": "1.2.0",
      "_view_name": "StyleView",
      "description_width": ""
     }
    },
    "3bad55bd774a49869f2640e71c66057f": {
     "model_module": "@jupyter-widgets/controls",
     "model_module_version": "1.5.0",
     "model_name": "DescriptionStyleModel",
     "state": {
      "_model_module": "@jupyter-widgets/controls",
      "_model_module_version": "1.5.0",
      "_model_name": "DescriptionStyleModel",
      "_view_count": null,
      "_view_module": "@jupyter-widgets/base",
      "_view_module_version": "1.2.0",
      "_view_name": "StyleView",
      "description_width": ""
     }
    },
    "3d0635b79b6342b78a9689e092f60872": {
     "model_module": "@jupyter-widgets/controls",
     "model_module_version": "1.5.0",
     "model_name": "HTMLModel",
     "state": {
      "_dom_classes": [],
      "_model_module": "@jupyter-widgets/controls",
      "_model_module_version": "1.5.0",
      "_model_name": "HTMLModel",
      "_view_count": null,
      "_view_module": "@jupyter-widgets/controls",
      "_view_module_version": "1.5.0",
      "_view_name": "HTMLView",
      "description": "",
      "description_tooltip": null,
      "layout": "IPY_MODEL_d1693414e7964bfcbe95f6d95d5d4204",
      "placeholder": "​",
      "style": "IPY_MODEL_29105b8924d949b99cc0bf317d63b25c",
      "value": " 5/5 [00:00&lt;00:00, 99.72ba/s]"
     }
    },
    "3e973f1a760d4784b9535363415d3603": {
     "model_module": "@jupyter-widgets/controls",
     "model_module_version": "1.5.0",
     "model_name": "HTMLModel",
     "state": {
      "_dom_classes": [],
      "_model_module": "@jupyter-widgets/controls",
      "_model_module_version": "1.5.0",
      "_model_name": "HTMLModel",
      "_view_count": null,
      "_view_module": "@jupyter-widgets/controls",
      "_view_module_version": "1.5.0",
      "_view_name": "HTMLView",
      "description": "",
      "description_tooltip": null,
      "layout": "IPY_MODEL_856f08301f0b464e8750fd4e63b19da9",
      "placeholder": "​",
      "style": "IPY_MODEL_568437b1a2fa404c9097bd841cab4982",
      "value": "100%"
     }
    },
    "44acbd5e884948b5929f15336986a08e": {
     "model_module": "@jupyter-widgets/controls",
     "model_module_version": "1.5.0",
     "model_name": "DescriptionStyleModel",
     "state": {
      "_model_module": "@jupyter-widgets/controls",
      "_model_module_version": "1.5.0",
      "_model_name": "DescriptionStyleModel",
      "_view_count": null,
      "_view_module": "@jupyter-widgets/base",
      "_view_module_version": "1.2.0",
      "_view_name": "StyleView",
      "description_width": ""
     }
    },
    "452c7233639f46358bcc113016c59162": {
     "model_module": "@jupyter-widgets/controls",
     "model_module_version": "1.5.0",
     "model_name": "FloatProgressModel",
     "state": {
      "_dom_classes": [],
      "_model_module": "@jupyter-widgets/controls",
      "_model_module_version": "1.5.0",
      "_model_name": "FloatProgressModel",
      "_view_count": null,
      "_view_module": "@jupyter-widgets/controls",
      "_view_module_version": "1.5.0",
      "_view_name": "ProgressView",
      "bar_style": "success",
      "description": "",
      "description_tooltip": null,
      "layout": "IPY_MODEL_ae679628e44c48c88c9e873450cd974a",
      "max": 1060,
      "min": 0,
      "orientation": "horizontal",
      "style": "IPY_MODEL_51f5dfa5ad944ff3a835b99e9831f36f",
      "value": 1060
     }
    },
    "456331da10564aa38300266f8fbbb51d": {
     "model_module": "@jupyter-widgets/controls",
     "model_module_version": "1.5.0",
     "model_name": "FloatProgressModel",
     "state": {
      "_dom_classes": [],
      "_model_module": "@jupyter-widgets/controls",
      "_model_module_version": "1.5.0",
      "_model_name": "FloatProgressModel",
      "_view_count": null,
      "_view_module": "@jupyter-widgets/controls",
      "_view_module_version": "1.5.0",
      "_view_name": "ProgressView",
      "bar_style": "success",
      "description": "",
      "description_tooltip": null,
      "layout": "IPY_MODEL_5c72edf8f3624a4c80a0724280514c7c",
      "max": 1,
      "min": 0,
      "orientation": "horizontal",
      "style": "IPY_MODEL_e85f07ee767c4f1e89b9b58c528e9502",
      "value": 1
     }
    },
    "46efc2b990144d689404717608fc7d7b": {
     "model_module": "@jupyter-widgets/controls",
     "model_module_version": "1.5.0",
     "model_name": "HBoxModel",
     "state": {
      "_dom_classes": [],
      "_model_module": "@jupyter-widgets/controls",
      "_model_module_version": "1.5.0",
      "_model_name": "HBoxModel",
      "_view_count": null,
      "_view_module": "@jupyter-widgets/controls",
      "_view_module_version": "1.5.0",
      "_view_name": "HBoxView",
      "box_style": "",
      "children": [
       "IPY_MODEL_905011f308344ad88703b8169d3378fa",
       "IPY_MODEL_d2a85d56e6f6498ab331d5f893a80f9a",
       "IPY_MODEL_87a281d8e1104b5ab9c705d28804692f"
      ],
      "layout": "IPY_MODEL_978effc6f8a34fbf9b2f2b407a1f005a"
     }
    },
    "47311a5998b846ecbb30b6d6e169901a": {
     "model_module": "@jupyter-widgets/controls",
     "model_module_version": "1.5.0",
     "model_name": "FloatProgressModel",
     "state": {
      "_dom_classes": [],
      "_model_module": "@jupyter-widgets/controls",
      "_model_module_version": "1.5.0",
      "_model_name": "FloatProgressModel",
      "_view_count": null,
      "_view_module": "@jupyter-widgets/controls",
      "_view_module_version": "1.5.0",
      "_view_name": "ProgressView",
      "bar_style": "success",
      "description": "",
      "description_tooltip": null,
      "layout": "IPY_MODEL_fc320dc40e63481ba4ae0a7b099ca82d",
      "max": 2405,
      "min": 0,
      "orientation": "horizontal",
      "style": "IPY_MODEL_75ef4755edcd4ae5856cc806e364eed0",
      "value": 2405
     }
    },
    "47a1cc95ad2f4b55972c0115c9495c75": {
     "model_module": "@jupyter-widgets/controls",
     "model_module_version": "1.5.0",
     "model_name": "DescriptionStyleModel",
     "state": {
      "_model_module": "@jupyter-widgets/controls",
      "_model_module_version": "1.5.0",
      "_model_name": "DescriptionStyleModel",
      "_view_count": null,
      "_view_module": "@jupyter-widgets/base",
      "_view_module_version": "1.2.0",
      "_view_name": "StyleView",
      "description_width": ""
     }
    },
    "47ae20ba4e5946debdd789af83114d3e": {
     "model_module": "@jupyter-widgets/base",
     "model_module_version": "1.2.0",
     "model_name": "LayoutModel",
     "state": {
      "_model_module": "@jupyter-widgets/base",
      "_model_module_version": "1.2.0",
      "_model_name": "LayoutModel",
      "_view_count": null,
      "_view_module": "@jupyter-widgets/base",
      "_view_module_version": "1.2.0",
      "_view_name": "LayoutView",
      "align_content": null,
      "align_items": null,
      "align_self": null,
      "border": null,
      "bottom": null,
      "display": null,
      "flex": null,
      "flex_flow": null,
      "grid_area": null,
      "grid_auto_columns": null,
      "grid_auto_flow": null,
      "grid_auto_rows": null,
      "grid_column": null,
      "grid_gap": null,
      "grid_row": null,
      "grid_template_areas": null,
      "grid_template_columns": null,
      "grid_template_rows": null,
      "height": null,
      "justify_content": null,
      "justify_items": null,
      "left": null,
      "margin": null,
      "max_height": null,
      "max_width": null,
      "min_height": null,
      "min_width": null,
      "object_fit": null,
      "object_position": null,
      "order": null,
      "overflow": null,
      "overflow_x": null,
      "overflow_y": null,
      "padding": null,
      "right": null,
      "top": null,
      "visibility": null,
      "width": null
     }
    },
    "48c35cc59e0d4cadadbbf75656255e64": {
     "model_module": "@jupyter-widgets/base",
     "model_module_version": "1.2.0",
     "model_name": "LayoutModel",
     "state": {
      "_model_module": "@jupyter-widgets/base",
      "_model_module_version": "1.2.0",
      "_model_name": "LayoutModel",
      "_view_count": null,
      "_view_module": "@jupyter-widgets/base",
      "_view_module_version": "1.2.0",
      "_view_name": "LayoutView",
      "align_content": null,
      "align_items": null,
      "align_self": null,
      "border": null,
      "bottom": null,
      "display": null,
      "flex": null,
      "flex_flow": null,
      "grid_area": null,
      "grid_auto_columns": null,
      "grid_auto_flow": null,
      "grid_auto_rows": null,
      "grid_column": null,
      "grid_gap": null,
      "grid_row": null,
      "grid_template_areas": null,
      "grid_template_columns": null,
      "grid_template_rows": null,
      "height": null,
      "justify_content": null,
      "justify_items": null,
      "left": null,
      "margin": null,
      "max_height": null,
      "max_width": null,
      "min_height": null,
      "min_width": null,
      "object_fit": null,
      "object_position": null,
      "order": null,
      "overflow": null,
      "overflow_x": null,
      "overflow_y": null,
      "padding": null,
      "right": null,
      "top": null,
      "visibility": null,
      "width": null
     }
    },
    "49a3daba7a964972b39c0d2b869524d8": {
     "model_module": "@jupyter-widgets/base",
     "model_module_version": "1.2.0",
     "model_name": "LayoutModel",
     "state": {
      "_model_module": "@jupyter-widgets/base",
      "_model_module_version": "1.2.0",
      "_model_name": "LayoutModel",
      "_view_count": null,
      "_view_module": "@jupyter-widgets/base",
      "_view_module_version": "1.2.0",
      "_view_name": "LayoutView",
      "align_content": null,
      "align_items": null,
      "align_self": null,
      "border": null,
      "bottom": null,
      "display": null,
      "flex": null,
      "flex_flow": null,
      "grid_area": null,
      "grid_auto_columns": null,
      "grid_auto_flow": null,
      "grid_auto_rows": null,
      "grid_column": null,
      "grid_gap": null,
      "grid_row": null,
      "grid_template_areas": null,
      "grid_template_columns": null,
      "grid_template_rows": null,
      "height": null,
      "justify_content": null,
      "justify_items": null,
      "left": null,
      "margin": null,
      "max_height": null,
      "max_width": null,
      "min_height": null,
      "min_width": null,
      "object_fit": null,
      "object_position": null,
      "order": null,
      "overflow": null,
      "overflow_x": null,
      "overflow_y": null,
      "padding": null,
      "right": null,
      "top": null,
      "visibility": null,
      "width": null
     }
    },
    "4ab4afbba4a940cba487688b298092cf": {
     "model_module": "@jupyter-widgets/controls",
     "model_module_version": "1.5.0",
     "model_name": "ProgressStyleModel",
     "state": {
      "_model_module": "@jupyter-widgets/controls",
      "_model_module_version": "1.5.0",
      "_model_name": "ProgressStyleModel",
      "_view_count": null,
      "_view_module": "@jupyter-widgets/base",
      "_view_module_version": "1.2.0",
      "_view_name": "StyleView",
      "bar_color": null,
      "description_width": ""
     }
    },
    "4b6973c261204b2bb27596bfe26aea7d": {
     "model_module": "@jupyter-widgets/base",
     "model_module_version": "1.2.0",
     "model_name": "LayoutModel",
     "state": {
      "_model_module": "@jupyter-widgets/base",
      "_model_module_version": "1.2.0",
      "_model_name": "LayoutModel",
      "_view_count": null,
      "_view_module": "@jupyter-widgets/base",
      "_view_module_version": "1.2.0",
      "_view_name": "LayoutView",
      "align_content": null,
      "align_items": null,
      "align_self": null,
      "border": null,
      "bottom": null,
      "display": null,
      "flex": null,
      "flex_flow": null,
      "grid_area": null,
      "grid_auto_columns": null,
      "grid_auto_flow": null,
      "grid_auto_rows": null,
      "grid_column": null,
      "grid_gap": null,
      "grid_row": null,
      "grid_template_areas": null,
      "grid_template_columns": null,
      "grid_template_rows": null,
      "height": null,
      "justify_content": null,
      "justify_items": null,
      "left": null,
      "margin": null,
      "max_height": null,
      "max_width": null,
      "min_height": null,
      "min_width": null,
      "object_fit": null,
      "object_position": null,
      "order": null,
      "overflow": null,
      "overflow_x": null,
      "overflow_y": null,
      "padding": null,
      "right": null,
      "top": null,
      "visibility": null,
      "width": null
     }
    },
    "4bc0369817c24794a63ee9e10daba10f": {
     "model_module": "@jupyter-widgets/controls",
     "model_module_version": "1.5.0",
     "model_name": "DescriptionStyleModel",
     "state": {
      "_model_module": "@jupyter-widgets/controls",
      "_model_module_version": "1.5.0",
      "_model_name": "DescriptionStyleModel",
      "_view_count": null,
      "_view_module": "@jupyter-widgets/base",
      "_view_module_version": "1.2.0",
      "_view_name": "StyleView",
      "description_width": ""
     }
    },
    "4bf227aba7724867af83900194a8cae8": {
     "model_module": "@jupyter-widgets/controls",
     "model_module_version": "1.5.0",
     "model_name": "FloatProgressModel",
     "state": {
      "_dom_classes": [],
      "_model_module": "@jupyter-widgets/controls",
      "_model_module_version": "1.5.0",
      "_model_name": "FloatProgressModel",
      "_view_count": null,
      "_view_module": "@jupyter-widgets/controls",
      "_view_module_version": "1.5.0",
      "_view_name": "ProgressView",
      "bar_style": "success",
      "description": "",
      "description_tooltip": null,
      "layout": "IPY_MODEL_651ac019eeeb408da7541bcc1fa399fe",
      "max": 869007403,
      "min": 0,
      "orientation": "horizontal",
      "style": "IPY_MODEL_8759291f45de49418c529eee014f6d3b",
      "value": 869007403
     }
    },
    "4d01d067330840b1927ab1da60d1e4bb": {
     "model_module": "@jupyter-widgets/base",
     "model_module_version": "1.2.0",
     "model_name": "LayoutModel",
     "state": {
      "_model_module": "@jupyter-widgets/base",
      "_model_module_version": "1.2.0",
      "_model_name": "LayoutModel",
      "_view_count": null,
      "_view_module": "@jupyter-widgets/base",
      "_view_module_version": "1.2.0",
      "_view_name": "LayoutView",
      "align_content": null,
      "align_items": null,
      "align_self": null,
      "border": null,
      "bottom": null,
      "display": null,
      "flex": null,
      "flex_flow": null,
      "grid_area": null,
      "grid_auto_columns": null,
      "grid_auto_flow": null,
      "grid_auto_rows": null,
      "grid_column": null,
      "grid_gap": null,
      "grid_row": null,
      "grid_template_areas": null,
      "grid_template_columns": null,
      "grid_template_rows": null,
      "height": null,
      "justify_content": null,
      "justify_items": null,
      "left": null,
      "margin": null,
      "max_height": null,
      "max_width": null,
      "min_height": null,
      "min_width": null,
      "object_fit": null,
      "object_position": null,
      "order": null,
      "overflow": null,
      "overflow_x": null,
      "overflow_y": null,
      "padding": null,
      "right": null,
      "top": null,
      "visibility": null,
      "width": null
     }
    },
    "4f7c65a1823a465aab05bed2ec2e4d09": {
     "model_module": "@jupyter-widgets/controls",
     "model_module_version": "1.5.0",
     "model_name": "DescriptionStyleModel",
     "state": {
      "_model_module": "@jupyter-widgets/controls",
      "_model_module_version": "1.5.0",
      "_model_name": "DescriptionStyleModel",
      "_view_count": null,
      "_view_module": "@jupyter-widgets/base",
      "_view_module_version": "1.2.0",
      "_view_name": "StyleView",
      "description_width": ""
     }
    },
    "4f7c9867b4a147988d48fcb19f97fd62": {
     "model_module": "@jupyter-widgets/controls",
     "model_module_version": "1.5.0",
     "model_name": "DescriptionStyleModel",
     "state": {
      "_model_module": "@jupyter-widgets/controls",
      "_model_module_version": "1.5.0",
      "_model_name": "DescriptionStyleModel",
      "_view_count": null,
      "_view_module": "@jupyter-widgets/base",
      "_view_module_version": "1.2.0",
      "_view_name": "StyleView",
      "description_width": ""
     }
    },
    "51f5dfa5ad944ff3a835b99e9831f36f": {
     "model_module": "@jupyter-widgets/controls",
     "model_module_version": "1.5.0",
     "model_name": "ProgressStyleModel",
     "state": {
      "_model_module": "@jupyter-widgets/controls",
      "_model_module_version": "1.5.0",
      "_model_name": "ProgressStyleModel",
      "_view_count": null,
      "_view_module": "@jupyter-widgets/base",
      "_view_module_version": "1.2.0",
      "_view_name": "StyleView",
      "bar_color": null,
      "description_width": ""
     }
    },
    "568437b1a2fa404c9097bd841cab4982": {
     "model_module": "@jupyter-widgets/controls",
     "model_module_version": "1.5.0",
     "model_name": "DescriptionStyleModel",
     "state": {
      "_model_module": "@jupyter-widgets/controls",
      "_model_module_version": "1.5.0",
      "_model_name": "DescriptionStyleModel",
      "_view_count": null,
      "_view_module": "@jupyter-widgets/base",
      "_view_module_version": "1.2.0",
      "_view_name": "StyleView",
      "description_width": ""
     }
    },
    "57cd1596aead47ad85987147a0f1bb75": {
     "model_module": "@jupyter-widgets/base",
     "model_module_version": "1.2.0",
     "model_name": "LayoutModel",
     "state": {
      "_model_module": "@jupyter-widgets/base",
      "_model_module_version": "1.2.0",
      "_model_name": "LayoutModel",
      "_view_count": null,
      "_view_module": "@jupyter-widgets/base",
      "_view_module_version": "1.2.0",
      "_view_name": "LayoutView",
      "align_content": null,
      "align_items": null,
      "align_self": null,
      "border": null,
      "bottom": null,
      "display": null,
      "flex": null,
      "flex_flow": null,
      "grid_area": null,
      "grid_auto_columns": null,
      "grid_auto_flow": null,
      "grid_auto_rows": null,
      "grid_column": null,
      "grid_gap": null,
      "grid_row": null,
      "grid_template_areas": null,
      "grid_template_columns": null,
      "grid_template_rows": null,
      "height": null,
      "justify_content": null,
      "justify_items": null,
      "left": null,
      "margin": null,
      "max_height": null,
      "max_width": null,
      "min_height": null,
      "min_width": null,
      "object_fit": null,
      "object_position": null,
      "order": null,
      "overflow": null,
      "overflow_x": null,
      "overflow_y": null,
      "padding": null,
      "right": null,
      "top": null,
      "visibility": null,
      "width": null
     }
    },
    "5aee700403574a8d839b95f7ea340da3": {
     "model_module": "@jupyter-widgets/base",
     "model_module_version": "1.2.0",
     "model_name": "LayoutModel",
     "state": {
      "_model_module": "@jupyter-widgets/base",
      "_model_module_version": "1.2.0",
      "_model_name": "LayoutModel",
      "_view_count": null,
      "_view_module": "@jupyter-widgets/base",
      "_view_module_version": "1.2.0",
      "_view_name": "LayoutView",
      "align_content": null,
      "align_items": null,
      "align_self": null,
      "border": null,
      "bottom": null,
      "display": null,
      "flex": null,
      "flex_flow": null,
      "grid_area": null,
      "grid_auto_columns": null,
      "grid_auto_flow": null,
      "grid_auto_rows": null,
      "grid_column": null,
      "grid_gap": null,
      "grid_row": null,
      "grid_template_areas": null,
      "grid_template_columns": null,
      "grid_template_rows": null,
      "height": null,
      "justify_content": null,
      "justify_items": null,
      "left": null,
      "margin": null,
      "max_height": null,
      "max_width": null,
      "min_height": null,
      "min_width": null,
      "object_fit": null,
      "object_position": null,
      "order": null,
      "overflow": null,
      "overflow_x": null,
      "overflow_y": null,
      "padding": null,
      "right": null,
      "top": null,
      "visibility": null,
      "width": null
     }
    },
    "5afda1e3cce048618d3192b8b8a9ff4b": {
     "model_module": "@jupyter-widgets/base",
     "model_module_version": "1.2.0",
     "model_name": "LayoutModel",
     "state": {
      "_model_module": "@jupyter-widgets/base",
      "_model_module_version": "1.2.0",
      "_model_name": "LayoutModel",
      "_view_count": null,
      "_view_module": "@jupyter-widgets/base",
      "_view_module_version": "1.2.0",
      "_view_name": "LayoutView",
      "align_content": null,
      "align_items": null,
      "align_self": null,
      "border": null,
      "bottom": null,
      "display": null,
      "flex": null,
      "flex_flow": null,
      "grid_area": null,
      "grid_auto_columns": null,
      "grid_auto_flow": null,
      "grid_auto_rows": null,
      "grid_column": null,
      "grid_gap": null,
      "grid_row": null,
      "grid_template_areas": null,
      "grid_template_columns": null,
      "grid_template_rows": null,
      "height": null,
      "justify_content": null,
      "justify_items": null,
      "left": null,
      "margin": null,
      "max_height": null,
      "max_width": null,
      "min_height": null,
      "min_width": null,
      "object_fit": null,
      "object_position": null,
      "order": null,
      "overflow": null,
      "overflow_x": null,
      "overflow_y": null,
      "padding": null,
      "right": null,
      "top": null,
      "visibility": null,
      "width": null
     }
    },
    "5b1c1ad9f82d491d98e71923057a6181": {
     "model_module": "@jupyter-widgets/controls",
     "model_module_version": "1.5.0",
     "model_name": "ProgressStyleModel",
     "state": {
      "_model_module": "@jupyter-widgets/controls",
      "_model_module_version": "1.5.0",
      "_model_name": "ProgressStyleModel",
      "_view_count": null,
      "_view_module": "@jupyter-widgets/base",
      "_view_module_version": "1.2.0",
      "_view_name": "StyleView",
      "bar_color": null,
      "description_width": ""
     }
    },
    "5b64863889794975be425492ac9e41b8": {
     "model_module": "@jupyter-widgets/base",
     "model_module_version": "1.2.0",
     "model_name": "LayoutModel",
     "state": {
      "_model_module": "@jupyter-widgets/base",
      "_model_module_version": "1.2.0",
      "_model_name": "LayoutModel",
      "_view_count": null,
      "_view_module": "@jupyter-widgets/base",
      "_view_module_version": "1.2.0",
      "_view_name": "LayoutView",
      "align_content": null,
      "align_items": null,
      "align_self": null,
      "border": null,
      "bottom": null,
      "display": null,
      "flex": null,
      "flex_flow": null,
      "grid_area": null,
      "grid_auto_columns": null,
      "grid_auto_flow": null,
      "grid_auto_rows": null,
      "grid_column": null,
      "grid_gap": null,
      "grid_row": null,
      "grid_template_areas": null,
      "grid_template_columns": null,
      "grid_template_rows": null,
      "height": null,
      "justify_content": null,
      "justify_items": null,
      "left": null,
      "margin": null,
      "max_height": null,
      "max_width": null,
      "min_height": null,
      "min_width": null,
      "object_fit": null,
      "object_position": null,
      "order": null,
      "overflow": null,
      "overflow_x": null,
      "overflow_y": null,
      "padding": null,
      "right": null,
      "top": null,
      "visibility": null,
      "width": null
     }
    },
    "5c72edf8f3624a4c80a0724280514c7c": {
     "model_module": "@jupyter-widgets/base",
     "model_module_version": "1.2.0",
     "model_name": "LayoutModel",
     "state": {
      "_model_module": "@jupyter-widgets/base",
      "_model_module_version": "1.2.0",
      "_model_name": "LayoutModel",
      "_view_count": null,
      "_view_module": "@jupyter-widgets/base",
      "_view_module_version": "1.2.0",
      "_view_name": "LayoutView",
      "align_content": null,
      "align_items": null,
      "align_self": null,
      "border": null,
      "bottom": null,
      "display": null,
      "flex": null,
      "flex_flow": null,
      "grid_area": null,
      "grid_auto_columns": null,
      "grid_auto_flow": null,
      "grid_auto_rows": null,
      "grid_column": null,
      "grid_gap": null,
      "grid_row": null,
      "grid_template_areas": null,
      "grid_template_columns": null,
      "grid_template_rows": null,
      "height": null,
      "justify_content": null,
      "justify_items": null,
      "left": null,
      "margin": null,
      "max_height": null,
      "max_width": null,
      "min_height": null,
      "min_width": null,
      "object_fit": null,
      "object_position": null,
      "order": null,
      "overflow": null,
      "overflow_x": null,
      "overflow_y": null,
      "padding": null,
      "right": null,
      "top": null,
      "visibility": null,
      "width": null
     }
    },
    "60806d2f4227496c9c151d8c10e630f3": {
     "model_module": "@jupyter-widgets/base",
     "model_module_version": "1.2.0",
     "model_name": "LayoutModel",
     "state": {
      "_model_module": "@jupyter-widgets/base",
      "_model_module_version": "1.2.0",
      "_model_name": "LayoutModel",
      "_view_count": null,
      "_view_module": "@jupyter-widgets/base",
      "_view_module_version": "1.2.0",
      "_view_name": "LayoutView",
      "align_content": null,
      "align_items": null,
      "align_self": null,
      "border": null,
      "bottom": null,
      "display": null,
      "flex": null,
      "flex_flow": null,
      "grid_area": null,
      "grid_auto_columns": null,
      "grid_auto_flow": null,
      "grid_auto_rows": null,
      "grid_column": null,
      "grid_gap": null,
      "grid_row": null,
      "grid_template_areas": null,
      "grid_template_columns": null,
      "grid_template_rows": null,
      "height": null,
      "justify_content": null,
      "justify_items": null,
      "left": null,
      "margin": null,
      "max_height": null,
      "max_width": null,
      "min_height": null,
      "min_width": null,
      "object_fit": null,
      "object_position": null,
      "order": null,
      "overflow": null,
      "overflow_x": null,
      "overflow_y": null,
      "padding": null,
      "right": null,
      "top": null,
      "visibility": null,
      "width": null
     }
    },
    "61e6f51635824da78940b6cd88a74a51": {
     "model_module": "@jupyter-widgets/controls",
     "model_module_version": "1.5.0",
     "model_name": "HTMLModel",
     "state": {
      "_dom_classes": [],
      "_model_module": "@jupyter-widgets/controls",
      "_model_module_version": "1.5.0",
      "_model_name": "HTMLModel",
      "_view_count": null,
      "_view_module": "@jupyter-widgets/controls",
      "_view_module_version": "1.5.0",
      "_view_name": "HTMLView",
      "description": "",
      "description_tooltip": null,
      "layout": "IPY_MODEL_96700aa06f35440384cf99ee2cb3aeaa",
      "placeholder": "​",
      "style": "IPY_MODEL_d717063846d849b6aa383e50f5c93aea",
      "value": "100%"
     }
    },
    "6271769606d549bd8451215a0a4db43f": {
     "model_module": "@jupyter-widgets/base",
     "model_module_version": "1.2.0",
     "model_name": "LayoutModel",
     "state": {
      "_model_module": "@jupyter-widgets/base",
      "_model_module_version": "1.2.0",
      "_model_name": "LayoutModel",
      "_view_count": null,
      "_view_module": "@jupyter-widgets/base",
      "_view_module_version": "1.2.0",
      "_view_name": "LayoutView",
      "align_content": null,
      "align_items": null,
      "align_self": null,
      "border": null,
      "bottom": null,
      "display": null,
      "flex": null,
      "flex_flow": null,
      "grid_area": null,
      "grid_auto_columns": null,
      "grid_auto_flow": null,
      "grid_auto_rows": null,
      "grid_column": null,
      "grid_gap": null,
      "grid_row": null,
      "grid_template_areas": null,
      "grid_template_columns": null,
      "grid_template_rows": null,
      "height": null,
      "justify_content": null,
      "justify_items": null,
      "left": null,
      "margin": null,
      "max_height": null,
      "max_width": null,
      "min_height": null,
      "min_width": null,
      "object_fit": null,
      "object_position": null,
      "order": null,
      "overflow": null,
      "overflow_x": null,
      "overflow_y": null,
      "padding": null,
      "right": null,
      "top": null,
      "visibility": null,
      "width": null
     }
    },
    "62d480ad2ea24b3da1ed117affba98fc": {
     "model_module": "@jupyter-widgets/base",
     "model_module_version": "1.2.0",
     "model_name": "LayoutModel",
     "state": {
      "_model_module": "@jupyter-widgets/base",
      "_model_module_version": "1.2.0",
      "_model_name": "LayoutModel",
      "_view_count": null,
      "_view_module": "@jupyter-widgets/base",
      "_view_module_version": "1.2.0",
      "_view_name": "LayoutView",
      "align_content": null,
      "align_items": null,
      "align_self": null,
      "border": null,
      "bottom": null,
      "display": null,
      "flex": null,
      "flex_flow": null,
      "grid_area": null,
      "grid_auto_columns": null,
      "grid_auto_flow": null,
      "grid_auto_rows": null,
      "grid_column": null,
      "grid_gap": null,
      "grid_row": null,
      "grid_template_areas": null,
      "grid_template_columns": null,
      "grid_template_rows": null,
      "height": null,
      "justify_content": null,
      "justify_items": null,
      "left": null,
      "margin": null,
      "max_height": null,
      "max_width": null,
      "min_height": null,
      "min_width": null,
      "object_fit": null,
      "object_position": null,
      "order": null,
      "overflow": null,
      "overflow_x": null,
      "overflow_y": null,
      "padding": null,
      "right": null,
      "top": null,
      "visibility": null,
      "width": null
     }
    },
    "64629939a48a48b08b1bafdcca11ae96": {
     "model_module": "@jupyter-widgets/controls",
     "model_module_version": "1.5.0",
     "model_name": "HTMLModel",
     "state": {
      "_dom_classes": [],
      "_model_module": "@jupyter-widgets/controls",
      "_model_module_version": "1.5.0",
      "_model_name": "HTMLModel",
      "_view_count": null,
      "_view_module": "@jupyter-widgets/controls",
      "_view_module_version": "1.5.0",
      "_view_name": "HTMLView",
      "description": "",
      "description_tooltip": null,
      "layout": "IPY_MODEL_5b64863889794975be425492ac9e41b8",
      "placeholder": "​",
      "style": "IPY_MODEL_47a1cc95ad2f4b55972c0115c9495c75",
      "value": " 869M/869M [00:45&lt;00:00, 19.9MB/s]"
     }
    },
    "651ac019eeeb408da7541bcc1fa399fe": {
     "model_module": "@jupyter-widgets/base",
     "model_module_version": "1.2.0",
     "model_name": "LayoutModel",
     "state": {
      "_model_module": "@jupyter-widgets/base",
      "_model_module_version": "1.2.0",
      "_model_name": "LayoutModel",
      "_view_count": null,
      "_view_module": "@jupyter-widgets/base",
      "_view_module_version": "1.2.0",
      "_view_name": "LayoutView",
      "align_content": null,
      "align_items": null,
      "align_self": null,
      "border": null,
      "bottom": null,
      "display": null,
      "flex": null,
      "flex_flow": null,
      "grid_area": null,
      "grid_auto_columns": null,
      "grid_auto_flow": null,
      "grid_auto_rows": null,
      "grid_column": null,
      "grid_gap": null,
      "grid_row": null,
      "grid_template_areas": null,
      "grid_template_columns": null,
      "grid_template_rows": null,
      "height": null,
      "justify_content": null,
      "justify_items": null,
      "left": null,
      "margin": null,
      "max_height": null,
      "max_width": null,
      "min_height": null,
      "min_width": null,
      "object_fit": null,
      "object_position": null,
      "order": null,
      "overflow": null,
      "overflow_x": null,
      "overflow_y": null,
      "padding": null,
      "right": null,
      "top": null,
      "visibility": null,
      "width": null
     }
    },
    "68742324ad074322b18d26db0a6887e6": {
     "model_module": "@jupyter-widgets/base",
     "model_module_version": "1.2.0",
     "model_name": "LayoutModel",
     "state": {
      "_model_module": "@jupyter-widgets/base",
      "_model_module_version": "1.2.0",
      "_model_name": "LayoutModel",
      "_view_count": null,
      "_view_module": "@jupyter-widgets/base",
      "_view_module_version": "1.2.0",
      "_view_name": "LayoutView",
      "align_content": null,
      "align_items": null,
      "align_self": null,
      "border": null,
      "bottom": null,
      "display": null,
      "flex": null,
      "flex_flow": null,
      "grid_area": null,
      "grid_auto_columns": null,
      "grid_auto_flow": null,
      "grid_auto_rows": null,
      "grid_column": null,
      "grid_gap": null,
      "grid_row": null,
      "grid_template_areas": null,
      "grid_template_columns": null,
      "grid_template_rows": null,
      "height": null,
      "justify_content": null,
      "justify_items": null,
      "left": null,
      "margin": null,
      "max_height": null,
      "max_width": null,
      "min_height": null,
      "min_width": null,
      "object_fit": null,
      "object_position": null,
      "order": null,
      "overflow": null,
      "overflow_x": null,
      "overflow_y": null,
      "padding": null,
      "right": null,
      "top": null,
      "visibility": null,
      "width": null
     }
    },
    "69341e639ad24da5a5df7ba333648d76": {
     "model_module": "@jupyter-widgets/controls",
     "model_module_version": "1.5.0",
     "model_name": "HBoxModel",
     "state": {
      "_dom_classes": [],
      "_model_module": "@jupyter-widgets/controls",
      "_model_module_version": "1.5.0",
      "_model_name": "HBoxModel",
      "_view_count": null,
      "_view_module": "@jupyter-widgets/controls",
      "_view_module_version": "1.5.0",
      "_view_name": "HBoxView",
      "box_style": "",
      "children": [
       "IPY_MODEL_c5a203521c5d4872988179de343ad7ca",
       "IPY_MODEL_c64445fb30de40658c222a525f9bdcd4",
       "IPY_MODEL_e623bc2daf6b4a8380484e5eaf1c4847"
      ],
      "layout": "IPY_MODEL_48c35cc59e0d4cadadbbf75656255e64"
     }
    },
    "6ab335fdf69045a7a183225814ac50b4": {
     "model_module": "@jupyter-widgets/base",
     "model_module_version": "1.2.0",
     "model_name": "LayoutModel",
     "state": {
      "_model_module": "@jupyter-widgets/base",
      "_model_module_version": "1.2.0",
      "_model_name": "LayoutModel",
      "_view_count": null,
      "_view_module": "@jupyter-widgets/base",
      "_view_module_version": "1.2.0",
      "_view_name": "LayoutView",
      "align_content": null,
      "align_items": null,
      "align_self": null,
      "border": null,
      "bottom": null,
      "display": null,
      "flex": null,
      "flex_flow": null,
      "grid_area": null,
      "grid_auto_columns": null,
      "grid_auto_flow": null,
      "grid_auto_rows": null,
      "grid_column": null,
      "grid_gap": null,
      "grid_row": null,
      "grid_template_areas": null,
      "grid_template_columns": null,
      "grid_template_rows": null,
      "height": null,
      "justify_content": null,
      "justify_items": null,
      "left": null,
      "margin": null,
      "max_height": null,
      "max_width": null,
      "min_height": null,
      "min_width": null,
      "object_fit": null,
      "object_position": null,
      "order": null,
      "overflow": null,
      "overflow_x": null,
      "overflow_y": null,
      "padding": null,
      "right": null,
      "top": null,
      "visibility": null,
      "width": null
     }
    },
    "6c91efcb5cf44dd0af8d1ac8ffb4f0f3": {
     "model_module": "@jupyter-widgets/controls",
     "model_module_version": "1.5.0",
     "model_name": "ProgressStyleModel",
     "state": {
      "_model_module": "@jupyter-widgets/controls",
      "_model_module_version": "1.5.0",
      "_model_name": "ProgressStyleModel",
      "_view_count": null,
      "_view_module": "@jupyter-widgets/base",
      "_view_module_version": "1.2.0",
      "_view_name": "StyleView",
      "bar_color": null,
      "description_width": ""
     }
    },
    "6defeac97f774e71855f85269e4b806f": {
     "model_module": "@jupyter-widgets/controls",
     "model_module_version": "1.5.0",
     "model_name": "HBoxModel",
     "state": {
      "_dom_classes": [],
      "_model_module": "@jupyter-widgets/controls",
      "_model_module_version": "1.5.0",
      "_model_name": "HBoxModel",
      "_view_count": null,
      "_view_module": "@jupyter-widgets/controls",
      "_view_module_version": "1.5.0",
      "_view_name": "HBoxView",
      "box_style": "",
      "children": [
       "IPY_MODEL_1c7b304622504a5daee3f974e1945aea",
       "IPY_MODEL_4bf227aba7724867af83900194a8cae8",
       "IPY_MODEL_64629939a48a48b08b1bafdcca11ae96"
      ],
      "layout": "IPY_MODEL_ed099636e26f4dd881e82ce679c19979"
     }
    },
    "7292b33c3cba4b17b1244304d3ce3085": {
     "model_module": "@jupyter-widgets/controls",
     "model_module_version": "1.5.0",
     "model_name": "HTMLModel",
     "state": {
      "_dom_classes": [],
      "_model_module": "@jupyter-widgets/controls",
      "_model_module_version": "1.5.0",
      "_model_name": "HTMLModel",
      "_view_count": null,
      "_view_module": "@jupyter-widgets/controls",
      "_view_module_version": "1.5.0",
      "_view_name": "HTMLView",
      "description": "",
      "description_tooltip": null,
      "layout": "IPY_MODEL_cf93cf23940847c3b402c367f49d2aad",
      "placeholder": "​",
      "style": "IPY_MODEL_f7dc013178f5427aab2a5caf9ce36dbf",
      "value": " 1/1 [00:00&lt;00:00, 13.54ba/s]"
     }
    },
    "75ef4755edcd4ae5856cc806e364eed0": {
     "model_module": "@jupyter-widgets/controls",
     "model_module_version": "1.5.0",
     "model_name": "ProgressStyleModel",
     "state": {
      "_model_module": "@jupyter-widgets/controls",
      "_model_module_version": "1.5.0",
      "_model_name": "ProgressStyleModel",
      "_view_count": null,
      "_view_module": "@jupyter-widgets/base",
      "_view_module_version": "1.2.0",
      "_view_name": "StyleView",
      "bar_color": null,
      "description_width": ""
     }
    },
    "76c3fdccb19945e194c441769a1f53b0": {
     "model_module": "@jupyter-widgets/base",
     "model_module_version": "1.2.0",
     "model_name": "LayoutModel",
     "state": {
      "_model_module": "@jupyter-widgets/base",
      "_model_module_version": "1.2.0",
      "_model_name": "LayoutModel",
      "_view_count": null,
      "_view_module": "@jupyter-widgets/base",
      "_view_module_version": "1.2.0",
      "_view_name": "LayoutView",
      "align_content": null,
      "align_items": null,
      "align_self": null,
      "border": null,
      "bottom": null,
      "display": null,
      "flex": null,
      "flex_flow": null,
      "grid_area": null,
      "grid_auto_columns": null,
      "grid_auto_flow": null,
      "grid_auto_rows": null,
      "grid_column": null,
      "grid_gap": null,
      "grid_row": null,
      "grid_template_areas": null,
      "grid_template_columns": null,
      "grid_template_rows": null,
      "height": null,
      "justify_content": null,
      "justify_items": null,
      "left": null,
      "margin": null,
      "max_height": null,
      "max_width": null,
      "min_height": null,
      "min_width": null,
      "object_fit": null,
      "object_position": null,
      "order": null,
      "overflow": null,
      "overflow_x": null,
      "overflow_y": null,
      "padding": null,
      "right": null,
      "top": null,
      "visibility": null,
      "width": null
     }
    },
    "76f870c8d7d7400fa9fecf4dc46212dc": {
     "model_module": "@jupyter-widgets/base",
     "model_module_version": "1.2.0",
     "model_name": "LayoutModel",
     "state": {
      "_model_module": "@jupyter-widgets/base",
      "_model_module_version": "1.2.0",
      "_model_name": "LayoutModel",
      "_view_count": null,
      "_view_module": "@jupyter-widgets/base",
      "_view_module_version": "1.2.0",
      "_view_name": "LayoutView",
      "align_content": null,
      "align_items": null,
      "align_self": null,
      "border": null,
      "bottom": null,
      "display": null,
      "flex": null,
      "flex_flow": null,
      "grid_area": null,
      "grid_auto_columns": null,
      "grid_auto_flow": null,
      "grid_auto_rows": null,
      "grid_column": null,
      "grid_gap": null,
      "grid_row": null,
      "grid_template_areas": null,
      "grid_template_columns": null,
      "grid_template_rows": null,
      "height": null,
      "justify_content": null,
      "justify_items": null,
      "left": null,
      "margin": null,
      "max_height": null,
      "max_width": null,
      "min_height": null,
      "min_width": null,
      "object_fit": null,
      "object_position": null,
      "order": null,
      "overflow": null,
      "overflow_x": null,
      "overflow_y": null,
      "padding": null,
      "right": null,
      "top": null,
      "visibility": null,
      "width": null
     }
    },
    "78f37dd782e643d0985b47de288eb6a6": {
     "model_module": "@jupyter-widgets/base",
     "model_module_version": "1.2.0",
     "model_name": "LayoutModel",
     "state": {
      "_model_module": "@jupyter-widgets/base",
      "_model_module_version": "1.2.0",
      "_model_name": "LayoutModel",
      "_view_count": null,
      "_view_module": "@jupyter-widgets/base",
      "_view_module_version": "1.2.0",
      "_view_name": "LayoutView",
      "align_content": null,
      "align_items": null,
      "align_self": null,
      "border": null,
      "bottom": null,
      "display": null,
      "flex": null,
      "flex_flow": null,
      "grid_area": null,
      "grid_auto_columns": null,
      "grid_auto_flow": null,
      "grid_auto_rows": null,
      "grid_column": null,
      "grid_gap": null,
      "grid_row": null,
      "grid_template_areas": null,
      "grid_template_columns": null,
      "grid_template_rows": null,
      "height": null,
      "justify_content": null,
      "justify_items": null,
      "left": null,
      "margin": null,
      "max_height": null,
      "max_width": null,
      "min_height": null,
      "min_width": null,
      "object_fit": null,
      "object_position": null,
      "order": null,
      "overflow": null,
      "overflow_x": null,
      "overflow_y": null,
      "padding": null,
      "right": null,
      "top": null,
      "visibility": null,
      "width": null
     }
    },
    "7940a72efa9b47ba9ed97668ed090bcf": {
     "model_module": "@jupyter-widgets/controls",
     "model_module_version": "1.5.0",
     "model_name": "ProgressStyleModel",
     "state": {
      "_model_module": "@jupyter-widgets/controls",
      "_model_module_version": "1.5.0",
      "_model_name": "ProgressStyleModel",
      "_view_count": null,
      "_view_module": "@jupyter-widgets/base",
      "_view_module_version": "1.2.0",
      "_view_name": "StyleView",
      "bar_color": null,
      "description_width": ""
     }
    },
    "7a5867ec51b14e72bd96c8648a995597": {
     "model_module": "@jupyter-widgets/base",
     "model_module_version": "1.2.0",
     "model_name": "LayoutModel",
     "state": {
      "_model_module": "@jupyter-widgets/base",
      "_model_module_version": "1.2.0",
      "_model_name": "LayoutModel",
      "_view_count": null,
      "_view_module": "@jupyter-widgets/base",
      "_view_module_version": "1.2.0",
      "_view_name": "LayoutView",
      "align_content": null,
      "align_items": null,
      "align_self": null,
      "border": null,
      "bottom": null,
      "display": null,
      "flex": null,
      "flex_flow": null,
      "grid_area": null,
      "grid_auto_columns": null,
      "grid_auto_flow": null,
      "grid_auto_rows": null,
      "grid_column": null,
      "grid_gap": null,
      "grid_row": null,
      "grid_template_areas": null,
      "grid_template_columns": null,
      "grid_template_rows": null,
      "height": null,
      "justify_content": null,
      "justify_items": null,
      "left": null,
      "margin": null,
      "max_height": null,
      "max_width": null,
      "min_height": null,
      "min_width": null,
      "object_fit": null,
      "object_position": null,
      "order": null,
      "overflow": null,
      "overflow_x": null,
      "overflow_y": null,
      "padding": null,
      "right": null,
      "top": null,
      "visibility": null,
      "width": "20px"
     }
    },
    "7c59ead8d64545529fb5cf0f00764298": {
     "model_module": "@jupyter-widgets/controls",
     "model_module_version": "1.5.0",
     "model_name": "HTMLModel",
     "state": {
      "_dom_classes": [],
      "_model_module": "@jupyter-widgets/controls",
      "_model_module_version": "1.5.0",
      "_model_name": "HTMLModel",
      "_view_count": null,
      "_view_module": "@jupyter-widgets/controls",
      "_view_module_version": "1.5.0",
      "_view_name": "HTMLView",
      "description": "",
      "description_tooltip": null,
      "layout": "IPY_MODEL_62d480ad2ea24b3da1ed117affba98fc",
      "placeholder": "​",
      "style": "IPY_MODEL_c5e9524a9c3d41f6b818eaad95ae882f",
      "value": " 1604/0 [00:01&lt;00:00, 971.06 examples/s]"
     }
    },
    "7c8198a86f2b403e9886511cba17b706": {
     "model_module": "@jupyter-widgets/controls",
     "model_module_version": "1.5.0",
     "model_name": "HTMLModel",
     "state": {
      "_dom_classes": [],
      "_model_module": "@jupyter-widgets/controls",
      "_model_module_version": "1.5.0",
      "_model_name": "HTMLModel",
      "_view_count": null,
      "_view_module": "@jupyter-widgets/controls",
      "_view_module_version": "1.5.0",
      "_view_name": "HTMLView",
      "description": "",
      "description_tooltip": null,
      "layout": "IPY_MODEL_e6a15bdebd184bdab4c82caf543189a7",
      "placeholder": "​",
      "style": "IPY_MODEL_4f7c9867b4a147988d48fcb19f97fd62",
      "value": "Downloading: "
     }
    },
    "7eed91dbac224066af794464b7e7d87b": {
     "model_module": "@jupyter-widgets/base",
     "model_module_version": "1.2.0",
     "model_name": "LayoutModel",
     "state": {
      "_model_module": "@jupyter-widgets/base",
      "_model_module_version": "1.2.0",
      "_model_name": "LayoutModel",
      "_view_count": null,
      "_view_module": "@jupyter-widgets/base",
      "_view_module_version": "1.2.0",
      "_view_name": "LayoutView",
      "align_content": null,
      "align_items": null,
      "align_self": null,
      "border": null,
      "bottom": null,
      "display": null,
      "flex": null,
      "flex_flow": null,
      "grid_area": null,
      "grid_auto_columns": null,
      "grid_auto_flow": null,
      "grid_auto_rows": null,
      "grid_column": null,
      "grid_gap": null,
      "grid_row": null,
      "grid_template_areas": null,
      "grid_template_columns": null,
      "grid_template_rows": null,
      "height": null,
      "justify_content": null,
      "justify_items": null,
      "left": null,
      "margin": null,
      "max_height": null,
      "max_width": null,
      "min_height": null,
      "min_width": null,
      "object_fit": null,
      "object_position": null,
      "order": null,
      "overflow": null,
      "overflow_x": null,
      "overflow_y": null,
      "padding": null,
      "right": null,
      "top": null,
      "visibility": null,
      "width": null
     }
    },
    "83edddb33009473bbc4a578e209040e8": {
     "model_module": "@jupyter-widgets/base",
     "model_module_version": "1.2.0",
     "model_name": "LayoutModel",
     "state": {
      "_model_module": "@jupyter-widgets/base",
      "_model_module_version": "1.2.0",
      "_model_name": "LayoutModel",
      "_view_count": null,
      "_view_module": "@jupyter-widgets/base",
      "_view_module_version": "1.2.0",
      "_view_name": "LayoutView",
      "align_content": null,
      "align_items": null,
      "align_self": null,
      "border": null,
      "bottom": null,
      "display": null,
      "flex": null,
      "flex_flow": null,
      "grid_area": null,
      "grid_auto_columns": null,
      "grid_auto_flow": null,
      "grid_auto_rows": null,
      "grid_column": null,
      "grid_gap": null,
      "grid_row": null,
      "grid_template_areas": null,
      "grid_template_columns": null,
      "grid_template_rows": null,
      "height": null,
      "justify_content": null,
      "justify_items": null,
      "left": null,
      "margin": null,
      "max_height": null,
      "max_width": null,
      "min_height": null,
      "min_width": null,
      "object_fit": null,
      "object_position": null,
      "order": null,
      "overflow": null,
      "overflow_x": null,
      "overflow_y": null,
      "padding": null,
      "right": null,
      "top": null,
      "visibility": null,
      "width": null
     }
    },
    "84faec9de63d4577b857cb7ca7c39a6d": {
     "model_module": "@jupyter-widgets/base",
     "model_module_version": "1.2.0",
     "model_name": "LayoutModel",
     "state": {
      "_model_module": "@jupyter-widgets/base",
      "_model_module_version": "1.2.0",
      "_model_name": "LayoutModel",
      "_view_count": null,
      "_view_module": "@jupyter-widgets/base",
      "_view_module_version": "1.2.0",
      "_view_name": "LayoutView",
      "align_content": null,
      "align_items": null,
      "align_self": null,
      "border": null,
      "bottom": null,
      "display": null,
      "flex": null,
      "flex_flow": null,
      "grid_area": null,
      "grid_auto_columns": null,
      "grid_auto_flow": null,
      "grid_auto_rows": null,
      "grid_column": null,
      "grid_gap": null,
      "grid_row": null,
      "grid_template_areas": null,
      "grid_template_columns": null,
      "grid_template_rows": null,
      "height": null,
      "justify_content": null,
      "justify_items": null,
      "left": null,
      "margin": null,
      "max_height": null,
      "max_width": null,
      "min_height": null,
      "min_width": null,
      "object_fit": null,
      "object_position": null,
      "order": null,
      "overflow": null,
      "overflow_x": null,
      "overflow_y": null,
      "padding": null,
      "right": null,
      "top": null,
      "visibility": null,
      "width": null
     }
    },
    "852290b2f6ed4b5c8cde1d9910ab62b2": {
     "model_module": "@jupyter-widgets/controls",
     "model_module_version": "1.5.0",
     "model_name": "HTMLModel",
     "state": {
      "_dom_classes": [],
      "_model_module": "@jupyter-widgets/controls",
      "_model_module_version": "1.5.0",
      "_model_name": "HTMLModel",
      "_view_count": null,
      "_view_module": "@jupyter-widgets/controls",
      "_view_module_version": "1.5.0",
      "_view_name": "HTMLView",
      "description": "",
      "description_tooltip": null,
      "layout": "IPY_MODEL_c37f83f4ccfb41ae850c812e1f5f59e8",
      "placeholder": "​",
      "style": "IPY_MODEL_4f7c65a1823a465aab05bed2ec2e4d09",
      "value": " 4585/0 [00:04&lt;00:00, 974.38 examples/s]"
     }
    },
    "853be7d9a3d24adfbdc9a07d181425cc": {
     "model_module": "@jupyter-widgets/controls",
     "model_module_version": "1.5.0",
     "model_name": "HBoxModel",
     "state": {
      "_dom_classes": [],
      "_model_module": "@jupyter-widgets/controls",
      "_model_module_version": "1.5.0",
      "_model_name": "HBoxModel",
      "_view_count": null,
      "_view_module": "@jupyter-widgets/controls",
      "_view_module_version": "1.5.0",
      "_view_name": "HBoxView",
      "box_style": "",
      "children": [
       "IPY_MODEL_17a09ff9015f4eb2b91ee77b1f7f76e0",
       "IPY_MODEL_9528d69e9b0549f59f84e94f34e5a583",
       "IPY_MODEL_8665ac85023c43c3a1599c381ab07ffa"
      ],
      "layout": "IPY_MODEL_76c3fdccb19945e194c441769a1f53b0"
     }
    },
    "856f08301f0b464e8750fd4e63b19da9": {
     "model_module": "@jupyter-widgets/base",
     "model_module_version": "1.2.0",
     "model_name": "LayoutModel",
     "state": {
      "_model_module": "@jupyter-widgets/base",
      "_model_module_version": "1.2.0",
      "_model_name": "LayoutModel",
      "_view_count": null,
      "_view_module": "@jupyter-widgets/base",
      "_view_module_version": "1.2.0",
      "_view_name": "LayoutView",
      "align_content": null,
      "align_items": null,
      "align_self": null,
      "border": null,
      "bottom": null,
      "display": null,
      "flex": null,
      "flex_flow": null,
      "grid_area": null,
      "grid_auto_columns": null,
      "grid_auto_flow": null,
      "grid_auto_rows": null,
      "grid_column": null,
      "grid_gap": null,
      "grid_row": null,
      "grid_template_areas": null,
      "grid_template_columns": null,
      "grid_template_rows": null,
      "height": null,
      "justify_content": null,
      "justify_items": null,
      "left": null,
      "margin": null,
      "max_height": null,
      "max_width": null,
      "min_height": null,
      "min_width": null,
      "object_fit": null,
      "object_position": null,
      "order": null,
      "overflow": null,
      "overflow_x": null,
      "overflow_y": null,
      "padding": null,
      "right": null,
      "top": null,
      "visibility": null,
      "width": null
     }
    },
    "85879304d4b24872a84500cf2a93564b": {
     "model_module": "@jupyter-widgets/controls",
     "model_module_version": "1.5.0",
     "model_name": "HTMLModel",
     "state": {
      "_dom_classes": [],
      "_model_module": "@jupyter-widgets/controls",
      "_model_module_version": "1.5.0",
      "_model_name": "HTMLModel",
      "_view_count": null,
      "_view_module": "@jupyter-widgets/controls",
      "_view_module_version": "1.5.0",
      "_view_name": "HTMLView",
      "description": "",
      "description_tooltip": null,
      "layout": "IPY_MODEL_83edddb33009473bbc4a578e209040e8",
      "placeholder": "​",
      "style": "IPY_MODEL_e8e152cb774942ccb2d2d772b8f859ca",
      "value": ""
     }
    },
    "8665ac85023c43c3a1599c381ab07ffa": {
     "model_module": "@jupyter-widgets/controls",
     "model_module_version": "1.5.0",
     "model_name": "HTMLModel",
     "state": {
      "_dom_classes": [],
      "_model_module": "@jupyter-widgets/controls",
      "_model_module_version": "1.5.0",
      "_model_name": "HTMLModel",
      "_view_count": null,
      "_view_module": "@jupyter-widgets/controls",
      "_view_module_version": "1.5.0",
      "_view_name": "HTMLView",
      "description": "",
      "description_tooltip": null,
      "layout": "IPY_MODEL_d9813a20998b4f739de3fa1592fa6f6c",
      "placeholder": "​",
      "style": "IPY_MODEL_d21e46e22de04ebe9e02b44e71de04f2",
      "value": " 360M/360M [04:37&lt;00:00, 1.07MB/s]"
     }
    },
    "8759291f45de49418c529eee014f6d3b": {
     "model_module": "@jupyter-widgets/controls",
     "model_module_version": "1.5.0",
     "model_name": "ProgressStyleModel",
     "state": {
      "_model_module": "@jupyter-widgets/controls",
      "_model_module_version": "1.5.0",
      "_model_name": "ProgressStyleModel",
      "_view_count": null,
      "_view_module": "@jupyter-widgets/base",
      "_view_module_version": "1.2.0",
      "_view_name": "StyleView",
      "bar_color": null,
      "description_width": ""
     }
    },
    "87a281d8e1104b5ab9c705d28804692f": {
     "model_module": "@jupyter-widgets/controls",
     "model_module_version": "1.5.0",
     "model_name": "HTMLModel",
     "state": {
      "_dom_classes": [],
      "_model_module": "@jupyter-widgets/controls",
      "_model_module_version": "1.5.0",
      "_model_name": "HTMLModel",
      "_view_count": null,
      "_view_module": "@jupyter-widgets/controls",
      "_view_module_version": "1.5.0",
      "_view_name": "HTMLView",
      "description": "",
      "description_tooltip": null,
      "layout": "IPY_MODEL_d30cf357ba084b15a0ab7c785cd632f5",
      "placeholder": "​",
      "style": "IPY_MODEL_b3871236afda4d6a84413d1b8e833c38",
      "value": " 1680/1680 [00:00&lt;00:00, 6242.61ex/s]"
     }
    },
    "8bd3a4b8a3954fcdba93dd67ff9a6461": {
     "model_module": "@jupyter-widgets/base",
     "model_module_version": "1.2.0",
     "model_name": "LayoutModel",
     "state": {
      "_model_module": "@jupyter-widgets/base",
      "_model_module_version": "1.2.0",
      "_model_name": "LayoutModel",
      "_view_count": null,
      "_view_module": "@jupyter-widgets/base",
      "_view_module_version": "1.2.0",
      "_view_name": "LayoutView",
      "align_content": null,
      "align_items": null,
      "align_self": null,
      "border": null,
      "bottom": null,
      "display": null,
      "flex": null,
      "flex_flow": null,
      "grid_area": null,
      "grid_auto_columns": null,
      "grid_auto_flow": null,
      "grid_auto_rows": null,
      "grid_column": null,
      "grid_gap": null,
      "grid_row": null,
      "grid_template_areas": null,
      "grid_template_columns": null,
      "grid_template_rows": null,
      "height": null,
      "justify_content": null,
      "justify_items": null,
      "left": null,
      "margin": null,
      "max_height": null,
      "max_width": null,
      "min_height": null,
      "min_width": null,
      "object_fit": null,
      "object_position": null,
      "order": null,
      "overflow": null,
      "overflow_x": null,
      "overflow_y": null,
      "padding": null,
      "right": null,
      "top": null,
      "visibility": null,
      "width": null
     }
    },
    "8e2b47e41c5741f3886e6d314ec1e9ee": {
     "model_module": "@jupyter-widgets/controls",
     "model_module_version": "1.5.0",
     "model_name": "ProgressStyleModel",
     "state": {
      "_model_module": "@jupyter-widgets/controls",
      "_model_module_version": "1.5.0",
      "_model_name": "ProgressStyleModel",
      "_view_count": null,
      "_view_module": "@jupyter-widgets/base",
      "_view_module_version": "1.2.0",
      "_view_name": "StyleView",
      "bar_color": null,
      "description_width": ""
     }
    },
    "8e9960e611bf4b70bcd14c1d8ee63d6a": {
     "model_module": "@jupyter-widgets/controls",
     "model_module_version": "1.5.0",
     "model_name": "FloatProgressModel",
     "state": {
      "_dom_classes": [],
      "_model_module": "@jupyter-widgets/controls",
      "_model_module_version": "1.5.0",
      "_model_name": "FloatProgressModel",
      "_view_count": null,
      "_view_module": "@jupyter-widgets/controls",
      "_view_module_version": "1.5.0",
      "_view_name": "ProgressView",
      "bar_style": "success",
      "description": "",
      "description_tooltip": null,
      "layout": "IPY_MODEL_7eed91dbac224066af794464b7e7d87b",
      "max": 2,
      "min": 0,
      "orientation": "horizontal",
      "style": "IPY_MODEL_b1176b3f4cb44df69639c8beed699f2a",
      "value": 2
     }
    },
    "905011f308344ad88703b8169d3378fa": {
     "model_module": "@jupyter-widgets/controls",
     "model_module_version": "1.5.0",
     "model_name": "HTMLModel",
     "state": {
      "_dom_classes": [],
      "_model_module": "@jupyter-widgets/controls",
      "_model_module_version": "1.5.0",
      "_model_name": "HTMLModel",
      "_view_count": null,
      "_view_module": "@jupyter-widgets/controls",
      "_view_module_version": "1.5.0",
      "_view_name": "HTMLView",
      "description": "",
      "description_tooltip": null,
      "layout": "IPY_MODEL_ac812fac6aca4242b8b43f61e251be1c",
      "placeholder": "​",
      "style": "IPY_MODEL_22b4067dd7774910b6ccd0a422e9aa02",
      "value": "100%"
     }
    },
    "93cb19300e0c4182bf0ebaca55a19cd3": {
     "model_module": "@jupyter-widgets/controls",
     "model_module_version": "1.5.0",
     "model_name": "FloatProgressModel",
     "state": {
      "_dom_classes": [],
      "_model_module": "@jupyter-widgets/controls",
      "_model_module_version": "1.5.0",
      "_model_name": "FloatProgressModel",
      "_view_count": null,
      "_view_module": "@jupyter-widgets/controls",
      "_view_module_version": "1.5.0",
      "_view_name": "ProgressView",
      "bar_style": "info",
      "description": "",
      "description_tooltip": null,
      "layout": "IPY_MODEL_7a5867ec51b14e72bd96c8648a995597",
      "max": 1,
      "min": 0,
      "orientation": "horizontal",
      "style": "IPY_MODEL_9a25b140584f410c95987bf4e02988c8",
      "value": 1
     }
    },
    "94435d4e63bd4d96acc8cf2cd5a13972": {
     "model_module": "@jupyter-widgets/base",
     "model_module_version": "1.2.0",
     "model_name": "LayoutModel",
     "state": {
      "_model_module": "@jupyter-widgets/base",
      "_model_module_version": "1.2.0",
      "_model_name": "LayoutModel",
      "_view_count": null,
      "_view_module": "@jupyter-widgets/base",
      "_view_module_version": "1.2.0",
      "_view_name": "LayoutView",
      "align_content": null,
      "align_items": null,
      "align_self": null,
      "border": null,
      "bottom": null,
      "display": null,
      "flex": null,
      "flex_flow": null,
      "grid_area": null,
      "grid_auto_columns": null,
      "grid_auto_flow": null,
      "grid_auto_rows": null,
      "grid_column": null,
      "grid_gap": null,
      "grid_row": null,
      "grid_template_areas": null,
      "grid_template_columns": null,
      "grid_template_rows": null,
      "height": null,
      "justify_content": null,
      "justify_items": null,
      "left": null,
      "margin": null,
      "max_height": null,
      "max_width": null,
      "min_height": null,
      "min_width": null,
      "object_fit": null,
      "object_position": null,
      "order": null,
      "overflow": null,
      "overflow_x": null,
      "overflow_y": null,
      "padding": null,
      "right": null,
      "top": null,
      "visibility": null,
      "width": null
     }
    },
    "9522fbb829c940d78c6ad7dae3faf8b1": {
     "model_module": "@jupyter-widgets/base",
     "model_module_version": "1.2.0",
     "model_name": "LayoutModel",
     "state": {
      "_model_module": "@jupyter-widgets/base",
      "_model_module_version": "1.2.0",
      "_model_name": "LayoutModel",
      "_view_count": null,
      "_view_module": "@jupyter-widgets/base",
      "_view_module_version": "1.2.0",
      "_view_name": "LayoutView",
      "align_content": null,
      "align_items": null,
      "align_self": null,
      "border": null,
      "bottom": null,
      "display": null,
      "flex": null,
      "flex_flow": null,
      "grid_area": null,
      "grid_auto_columns": null,
      "grid_auto_flow": null,
      "grid_auto_rows": null,
      "grid_column": null,
      "grid_gap": null,
      "grid_row": null,
      "grid_template_areas": null,
      "grid_template_columns": null,
      "grid_template_rows": null,
      "height": null,
      "justify_content": null,
      "justify_items": null,
      "left": null,
      "margin": null,
      "max_height": null,
      "max_width": null,
      "min_height": null,
      "min_width": null,
      "object_fit": null,
      "object_position": null,
      "order": null,
      "overflow": null,
      "overflow_x": null,
      "overflow_y": null,
      "padding": null,
      "right": null,
      "top": null,
      "visibility": null,
      "width": null
     }
    },
    "9528d69e9b0549f59f84e94f34e5a583": {
     "model_module": "@jupyter-widgets/controls",
     "model_module_version": "1.5.0",
     "model_name": "FloatProgressModel",
     "state": {
      "_dom_classes": [],
      "_model_module": "@jupyter-widgets/controls",
      "_model_module_version": "1.5.0",
      "_model_name": "FloatProgressModel",
      "_view_count": null,
      "_view_module": "@jupyter-widgets/controls",
      "_view_module_version": "1.5.0",
      "_view_name": "ProgressView",
      "bar_style": "success",
      "description": "",
      "description_tooltip": null,
      "layout": "IPY_MODEL_4b6973c261204b2bb27596bfe26aea7d",
      "max": 377670039,
      "min": 0,
      "orientation": "horizontal",
      "style": "IPY_MODEL_ea368ae3cbb54a73a06d6fdf30457c02",
      "value": 377670039
     }
    },
    "966a899fc3d345329c577a10234892df": {
     "model_module": "@jupyter-widgets/base",
     "model_module_version": "1.2.0",
     "model_name": "LayoutModel",
     "state": {
      "_model_module": "@jupyter-widgets/base",
      "_model_module_version": "1.2.0",
      "_model_name": "LayoutModel",
      "_view_count": null,
      "_view_module": "@jupyter-widgets/base",
      "_view_module_version": "1.2.0",
      "_view_name": "LayoutView",
      "align_content": null,
      "align_items": null,
      "align_self": null,
      "border": null,
      "bottom": null,
      "display": null,
      "flex": null,
      "flex_flow": null,
      "grid_area": null,
      "grid_auto_columns": null,
      "grid_auto_flow": null,
      "grid_auto_rows": null,
      "grid_column": null,
      "grid_gap": null,
      "grid_row": null,
      "grid_template_areas": null,
      "grid_template_columns": null,
      "grid_template_rows": null,
      "height": null,
      "justify_content": null,
      "justify_items": null,
      "left": null,
      "margin": null,
      "max_height": null,
      "max_width": null,
      "min_height": null,
      "min_width": null,
      "object_fit": null,
      "object_position": null,
      "order": null,
      "overflow": null,
      "overflow_x": null,
      "overflow_y": null,
      "padding": null,
      "right": null,
      "top": null,
      "visibility": null,
      "width": null
     }
    },
    "96700aa06f35440384cf99ee2cb3aeaa": {
     "model_module": "@jupyter-widgets/base",
     "model_module_version": "1.2.0",
     "model_name": "LayoutModel",
     "state": {
      "_model_module": "@jupyter-widgets/base",
      "_model_module_version": "1.2.0",
      "_model_name": "LayoutModel",
      "_view_count": null,
      "_view_module": "@jupyter-widgets/base",
      "_view_module_version": "1.2.0",
      "_view_name": "LayoutView",
      "align_content": null,
      "align_items": null,
      "align_self": null,
      "border": null,
      "bottom": null,
      "display": null,
      "flex": null,
      "flex_flow": null,
      "grid_area": null,
      "grid_auto_columns": null,
      "grid_auto_flow": null,
      "grid_auto_rows": null,
      "grid_column": null,
      "grid_gap": null,
      "grid_row": null,
      "grid_template_areas": null,
      "grid_template_columns": null,
      "grid_template_rows": null,
      "height": null,
      "justify_content": null,
      "justify_items": null,
      "left": null,
      "margin": null,
      "max_height": null,
      "max_width": null,
      "min_height": null,
      "min_width": null,
      "object_fit": null,
      "object_position": null,
      "order": null,
      "overflow": null,
      "overflow_x": null,
      "overflow_y": null,
      "padding": null,
      "right": null,
      "top": null,
      "visibility": null,
      "width": null
     }
    },
    "978effc6f8a34fbf9b2f2b407a1f005a": {
     "model_module": "@jupyter-widgets/base",
     "model_module_version": "1.2.0",
     "model_name": "LayoutModel",
     "state": {
      "_model_module": "@jupyter-widgets/base",
      "_model_module_version": "1.2.0",
      "_model_name": "LayoutModel",
      "_view_count": null,
      "_view_module": "@jupyter-widgets/base",
      "_view_module_version": "1.2.0",
      "_view_name": "LayoutView",
      "align_content": null,
      "align_items": null,
      "align_self": null,
      "border": null,
      "bottom": null,
      "display": null,
      "flex": null,
      "flex_flow": null,
      "grid_area": null,
      "grid_auto_columns": null,
      "grid_auto_flow": null,
      "grid_auto_rows": null,
      "grid_column": null,
      "grid_gap": null,
      "grid_row": null,
      "grid_template_areas": null,
      "grid_template_columns": null,
      "grid_template_rows": null,
      "height": null,
      "justify_content": null,
      "justify_items": null,
      "left": null,
      "margin": null,
      "max_height": null,
      "max_width": null,
      "min_height": null,
      "min_width": null,
      "object_fit": null,
      "object_position": null,
      "order": null,
      "overflow": null,
      "overflow_x": null,
      "overflow_y": null,
      "padding": null,
      "right": null,
      "top": null,
      "visibility": null,
      "width": null
     }
    },
    "9a25b140584f410c95987bf4e02988c8": {
     "model_module": "@jupyter-widgets/controls",
     "model_module_version": "1.5.0",
     "model_name": "ProgressStyleModel",
     "state": {
      "_model_module": "@jupyter-widgets/controls",
      "_model_module_version": "1.5.0",
      "_model_name": "ProgressStyleModel",
      "_view_count": null,
      "_view_module": "@jupyter-widgets/base",
      "_view_module_version": "1.2.0",
      "_view_name": "StyleView",
      "bar_color": null,
      "description_width": ""
     }
    },
    "9c15a6c5673640d59602ddae4e0fef0b": {
     "model_module": "@jupyter-widgets/controls",
     "model_module_version": "1.5.0",
     "model_name": "FloatProgressModel",
     "state": {
      "_dom_classes": [],
      "_model_module": "@jupyter-widgets/controls",
      "_model_module_version": "1.5.0",
      "_model_name": "FloatProgressModel",
      "_view_count": null,
      "_view_module": "@jupyter-widgets/controls",
      "_view_module_version": "1.5.0",
      "_view_name": "ProgressView",
      "bar_style": "info",
      "description": "",
      "description_tooltip": null,
      "layout": "IPY_MODEL_1d3035aaa2d24bacae7a92dff13ba216",
      "max": 1,
      "min": 0,
      "orientation": "horizontal",
      "style": "IPY_MODEL_6c91efcb5cf44dd0af8d1ac8ffb4f0f3",
      "value": 1
     }
    },
    "9ceca09d9fdb4a0495d33bf3eef7e65e": {
     "model_module": "@jupyter-widgets/base",
     "model_module_version": "1.2.0",
     "model_name": "LayoutModel",
     "state": {
      "_model_module": "@jupyter-widgets/base",
      "_model_module_version": "1.2.0",
      "_model_name": "LayoutModel",
      "_view_count": null,
      "_view_module": "@jupyter-widgets/base",
      "_view_module_version": "1.2.0",
      "_view_name": "LayoutView",
      "align_content": null,
      "align_items": null,
      "align_self": null,
      "border": null,
      "bottom": null,
      "display": null,
      "flex": null,
      "flex_flow": null,
      "grid_area": null,
      "grid_auto_columns": null,
      "grid_auto_flow": null,
      "grid_auto_rows": null,
      "grid_column": null,
      "grid_gap": null,
      "grid_row": null,
      "grid_template_areas": null,
      "grid_template_columns": null,
      "grid_template_rows": null,
      "height": null,
      "justify_content": null,
      "justify_items": null,
      "left": null,
      "margin": null,
      "max_height": null,
      "max_width": null,
      "min_height": null,
      "min_width": null,
      "object_fit": null,
      "object_position": null,
      "order": null,
      "overflow": null,
      "overflow_x": null,
      "overflow_y": null,
      "padding": null,
      "right": null,
      "top": null,
      "visibility": null,
      "width": null
     }
    },
    "9d15a9f1b03546fea5fbca5e39e9daaa": {
     "model_module": "@jupyter-widgets/base",
     "model_module_version": "1.2.0",
     "model_name": "LayoutModel",
     "state": {
      "_model_module": "@jupyter-widgets/base",
      "_model_module_version": "1.2.0",
      "_model_name": "LayoutModel",
      "_view_count": null,
      "_view_module": "@jupyter-widgets/base",
      "_view_module_version": "1.2.0",
      "_view_name": "LayoutView",
      "align_content": null,
      "align_items": null,
      "align_self": null,
      "border": null,
      "bottom": null,
      "display": null,
      "flex": null,
      "flex_flow": null,
      "grid_area": null,
      "grid_auto_columns": null,
      "grid_auto_flow": null,
      "grid_auto_rows": null,
      "grid_column": null,
      "grid_gap": null,
      "grid_row": null,
      "grid_template_areas": null,
      "grid_template_columns": null,
      "grid_template_rows": null,
      "height": null,
      "justify_content": null,
      "justify_items": null,
      "left": null,
      "margin": null,
      "max_height": null,
      "max_width": null,
      "min_height": null,
      "min_width": null,
      "object_fit": null,
      "object_position": null,
      "order": null,
      "overflow": null,
      "overflow_x": null,
      "overflow_y": null,
      "padding": null,
      "right": null,
      "top": null,
      "visibility": null,
      "width": null
     }
    },
    "a5858da3495c4995adf804fc96ef938f": {
     "model_module": "@jupyter-widgets/base",
     "model_module_version": "1.2.0",
     "model_name": "LayoutModel",
     "state": {
      "_model_module": "@jupyter-widgets/base",
      "_model_module_version": "1.2.0",
      "_model_name": "LayoutModel",
      "_view_count": null,
      "_view_module": "@jupyter-widgets/base",
      "_view_module_version": "1.2.0",
      "_view_name": "LayoutView",
      "align_content": null,
      "align_items": null,
      "align_self": null,
      "border": null,
      "bottom": null,
      "display": null,
      "flex": null,
      "flex_flow": null,
      "grid_area": null,
      "grid_auto_columns": null,
      "grid_auto_flow": null,
      "grid_auto_rows": null,
      "grid_column": null,
      "grid_gap": null,
      "grid_row": null,
      "grid_template_areas": null,
      "grid_template_columns": null,
      "grid_template_rows": null,
      "height": null,
      "justify_content": null,
      "justify_items": null,
      "left": null,
      "margin": null,
      "max_height": null,
      "max_width": null,
      "min_height": null,
      "min_width": null,
      "object_fit": null,
      "object_position": null,
      "order": null,
      "overflow": null,
      "overflow_x": null,
      "overflow_y": null,
      "padding": null,
      "right": null,
      "top": null,
      "visibility": null,
      "width": null
     }
    },
    "a5b0355d9a2e4125b7244ae5582212c8": {
     "model_module": "@jupyter-widgets/base",
     "model_module_version": "1.2.0",
     "model_name": "LayoutModel",
     "state": {
      "_model_module": "@jupyter-widgets/base",
      "_model_module_version": "1.2.0",
      "_model_name": "LayoutModel",
      "_view_count": null,
      "_view_module": "@jupyter-widgets/base",
      "_view_module_version": "1.2.0",
      "_view_name": "LayoutView",
      "align_content": null,
      "align_items": null,
      "align_self": null,
      "border": null,
      "bottom": null,
      "display": null,
      "flex": null,
      "flex_flow": null,
      "grid_area": null,
      "grid_auto_columns": null,
      "grid_auto_flow": null,
      "grid_auto_rows": null,
      "grid_column": null,
      "grid_gap": null,
      "grid_row": null,
      "grid_template_areas": null,
      "grid_template_columns": null,
      "grid_template_rows": null,
      "height": null,
      "justify_content": null,
      "justify_items": null,
      "left": null,
      "margin": null,
      "max_height": null,
      "max_width": null,
      "min_height": null,
      "min_width": null,
      "object_fit": null,
      "object_position": null,
      "order": null,
      "overflow": null,
      "overflow_x": null,
      "overflow_y": null,
      "padding": null,
      "right": null,
      "top": null,
      "visibility": null,
      "width": null
     }
    },
    "a60bf0d288ce49f39ce301698528515a": {
     "model_module": "@jupyter-widgets/controls",
     "model_module_version": "1.5.0",
     "model_name": "HTMLModel",
     "state": {
      "_dom_classes": [],
      "_model_module": "@jupyter-widgets/controls",
      "_model_module_version": "1.5.0",
      "_model_name": "HTMLModel",
      "_view_count": null,
      "_view_module": "@jupyter-widgets/controls",
      "_view_module_version": "1.5.0",
      "_view_name": "HTMLView",
      "description": "",
      "description_tooltip": null,
      "layout": "IPY_MODEL_47ae20ba4e5946debdd789af83114d3e",
      "placeholder": "​",
      "style": "IPY_MODEL_d578ce02e48c49d7838c002d1d2217fb",
      "value": " 7.97k/7.97k [04:37&lt;00:00, 17.0B/s]"
     }
    },
    "a64b1616c09d46c5a5285552c6c3bcd7": {
     "model_module": "@jupyter-widgets/controls",
     "model_module_version": "1.5.0",
     "model_name": "HBoxModel",
     "state": {
      "_dom_classes": [],
      "_model_module": "@jupyter-widgets/controls",
      "_model_module_version": "1.5.0",
      "_model_name": "HBoxModel",
      "_view_count": null,
      "_view_module": "@jupyter-widgets/controls",
      "_view_module_version": "1.5.0",
      "_view_name": "HBoxView",
      "box_style": "",
      "children": [
       "IPY_MODEL_7c8198a86f2b403e9886511cba17b706",
       "IPY_MODEL_452c7233639f46358bcc113016c59162",
       "IPY_MODEL_107c22566a0548aa9f2ad08b274b1da5"
      ],
      "layout": "IPY_MODEL_60806d2f4227496c9c151d8c10e630f3"
     }
    },
    "a6e7f6bb9bf5486389689d79e499869b": {
     "model_module": "@jupyter-widgets/controls",
     "model_module_version": "1.5.0",
     "model_name": "DescriptionStyleModel",
     "state": {
      "_model_module": "@jupyter-widgets/controls",
      "_model_module_version": "1.5.0",
      "_model_name": "DescriptionStyleModel",
      "_view_count": null,
      "_view_module": "@jupyter-widgets/base",
      "_view_module_version": "1.2.0",
      "_view_name": "StyleView",
      "description_width": ""
     }
    },
    "a7e7d95121934bd4b3cf322636b5ec52": {
     "model_module": "@jupyter-widgets/controls",
     "model_module_version": "1.5.0",
     "model_name": "HTMLModel",
     "state": {
      "_dom_classes": [],
      "_model_module": "@jupyter-widgets/controls",
      "_model_module_version": "1.5.0",
      "_model_name": "HTMLModel",
      "_view_count": null,
      "_view_module": "@jupyter-widgets/controls",
      "_view_module_version": "1.5.0",
      "_view_name": "HTMLView",
      "description": "",
      "description_tooltip": null,
      "layout": "IPY_MODEL_0a7e1500d4764332aae441c0afbe12bf",
      "placeholder": "​",
      "style": "IPY_MODEL_44acbd5e884948b5929f15336986a08e",
      "value": "Upload file runs/Oct19_15-22-32_c16c65cbdbe5/events.out.tfevents.1634657020.c16c65cbdbe5.77.2: 100%"
     }
    },
    "a95ce2b4a9cb4db1a95d00a49815e45c": {
     "model_module": "@jupyter-widgets/controls",
     "model_module_version": "1.5.0",
     "model_name": "DescriptionStyleModel",
     "state": {
      "_model_module": "@jupyter-widgets/controls",
      "_model_module_version": "1.5.0",
      "_model_name": "DescriptionStyleModel",
      "_view_count": null,
      "_view_module": "@jupyter-widgets/base",
      "_view_module_version": "1.2.0",
      "_view_name": "StyleView",
      "description_width": ""
     }
    },
    "aa560b9c74c648968dc9e06d3f779b1b": {
     "model_module": "@jupyter-widgets/controls",
     "model_module_version": "1.5.0",
     "model_name": "DescriptionStyleModel",
     "state": {
      "_model_module": "@jupyter-widgets/controls",
      "_model_module_version": "1.5.0",
      "_model_name": "DescriptionStyleModel",
      "_view_count": null,
      "_view_module": "@jupyter-widgets/base",
      "_view_module_version": "1.2.0",
      "_view_name": "StyleView",
      "description_width": ""
     }
    },
    "ac812fac6aca4242b8b43f61e251be1c": {
     "model_module": "@jupyter-widgets/base",
     "model_module_version": "1.2.0",
     "model_name": "LayoutModel",
     "state": {
      "_model_module": "@jupyter-widgets/base",
      "_model_module_version": "1.2.0",
      "_model_name": "LayoutModel",
      "_view_count": null,
      "_view_module": "@jupyter-widgets/base",
      "_view_module_version": "1.2.0",
      "_view_name": "LayoutView",
      "align_content": null,
      "align_items": null,
      "align_self": null,
      "border": null,
      "bottom": null,
      "display": null,
      "flex": null,
      "flex_flow": null,
      "grid_area": null,
      "grid_auto_columns": null,
      "grid_auto_flow": null,
      "grid_auto_rows": null,
      "grid_column": null,
      "grid_gap": null,
      "grid_row": null,
      "grid_template_areas": null,
      "grid_template_columns": null,
      "grid_template_rows": null,
      "height": null,
      "justify_content": null,
      "justify_items": null,
      "left": null,
      "margin": null,
      "max_height": null,
      "max_width": null,
      "min_height": null,
      "min_width": null,
      "object_fit": null,
      "object_position": null,
      "order": null,
      "overflow": null,
      "overflow_x": null,
      "overflow_y": null,
      "padding": null,
      "right": null,
      "top": null,
      "visibility": null,
      "width": null
     }
    },
    "acf11817f5d9454e8f0b5114e2112d11": {
     "model_module": "@jupyter-widgets/controls",
     "model_module_version": "1.5.0",
     "model_name": "HTMLModel",
     "state": {
      "_dom_classes": [],
      "_model_module": "@jupyter-widgets/controls",
      "_model_module_version": "1.5.0",
      "_model_name": "HTMLModel",
      "_view_count": null,
      "_view_module": "@jupyter-widgets/controls",
      "_view_module_version": "1.5.0",
      "_view_name": "HTMLView",
      "description": "",
      "description_tooltip": null,
      "layout": "IPY_MODEL_db3a439bcaa0446da45b550ae88cf8db",
      "placeholder": "​",
      "style": "IPY_MODEL_c5a41c0f412f49b0b96f450ac81009a1",
      "value": " 2/2 [00:00&lt;00:00, 46.34it/s]"
     }
    },
    "adada709fe414160939dcc1d44f2e74a": {
     "model_module": "@jupyter-widgets/controls",
     "model_module_version": "1.5.0",
     "model_name": "HBoxModel",
     "state": {
      "_dom_classes": [],
      "_model_module": "@jupyter-widgets/controls",
      "_model_module_version": "1.5.0",
      "_model_name": "HBoxModel",
      "_view_count": null,
      "_view_module": "@jupyter-widgets/controls",
      "_view_module_version": "1.5.0",
      "_view_name": "HBoxView",
      "box_style": "",
      "children": [
       "IPY_MODEL_c5e956ae90484ceb9dc3cabdd30bf683",
       "IPY_MODEL_47311a5998b846ecbb30b6d6e169901a",
       "IPY_MODEL_30851cd4ca67464e87281e6f8d88be51"
      ],
      "layout": "IPY_MODEL_6271769606d549bd8451215a0a4db43f"
     }
    },
    "ae679628e44c48c88c9e873450cd974a": {
     "model_module": "@jupyter-widgets/base",
     "model_module_version": "1.2.0",
     "model_name": "LayoutModel",
     "state": {
      "_model_module": "@jupyter-widgets/base",
      "_model_module_version": "1.2.0",
      "_model_name": "LayoutModel",
      "_view_count": null,
      "_view_module": "@jupyter-widgets/base",
      "_view_module_version": "1.2.0",
      "_view_name": "LayoutView",
      "align_content": null,
      "align_items": null,
      "align_self": null,
      "border": null,
      "bottom": null,
      "display": null,
      "flex": null,
      "flex_flow": null,
      "grid_area": null,
      "grid_auto_columns": null,
      "grid_auto_flow": null,
      "grid_auto_rows": null,
      "grid_column": null,
      "grid_gap": null,
      "grid_row": null,
      "grid_template_areas": null,
      "grid_template_columns": null,
      "grid_template_rows": null,
      "height": null,
      "justify_content": null,
      "justify_items": null,
      "left": null,
      "margin": null,
      "max_height": null,
      "max_width": null,
      "min_height": null,
      "min_width": null,
      "object_fit": null,
      "object_position": null,
      "order": null,
      "overflow": null,
      "overflow_x": null,
      "overflow_y": null,
      "padding": null,
      "right": null,
      "top": null,
      "visibility": null,
      "width": null
     }
    },
    "ae8f27595e944a7386c2c0527a276926": {
     "model_module": "@jupyter-widgets/base",
     "model_module_version": "1.2.0",
     "model_name": "LayoutModel",
     "state": {
      "_model_module": "@jupyter-widgets/base",
      "_model_module_version": "1.2.0",
      "_model_name": "LayoutModel",
      "_view_count": null,
      "_view_module": "@jupyter-widgets/base",
      "_view_module_version": "1.2.0",
      "_view_name": "LayoutView",
      "align_content": null,
      "align_items": null,
      "align_self": null,
      "border": null,
      "bottom": null,
      "display": null,
      "flex": null,
      "flex_flow": null,
      "grid_area": null,
      "grid_auto_columns": null,
      "grid_auto_flow": null,
      "grid_auto_rows": null,
      "grid_column": null,
      "grid_gap": null,
      "grid_row": null,
      "grid_template_areas": null,
      "grid_template_columns": null,
      "grid_template_rows": null,
      "height": null,
      "justify_content": null,
      "justify_items": null,
      "left": null,
      "margin": null,
      "max_height": null,
      "max_width": null,
      "min_height": null,
      "min_width": null,
      "object_fit": null,
      "object_position": null,
      "order": null,
      "overflow": null,
      "overflow_x": null,
      "overflow_y": null,
      "padding": null,
      "right": null,
      "top": null,
      "visibility": null,
      "width": null
     }
    },
    "af35e4473888416a9419c65fe7e56859": {
     "model_module": "@jupyter-widgets/controls",
     "model_module_version": "1.5.0",
     "model_name": "FloatProgressModel",
     "state": {
      "_dom_classes": [],
      "_model_module": "@jupyter-widgets/controls",
      "_model_module_version": "1.5.0",
      "_model_name": "FloatProgressModel",
      "_view_count": null,
      "_view_module": "@jupyter-widgets/controls",
      "_view_module_version": "1.5.0",
      "_view_name": "ProgressView",
      "bar_style": "success",
      "description": "",
      "description_tooltip": null,
      "layout": "IPY_MODEL_b6fa9dd697cd47f59ba0af7602feabbe",
      "max": 4620,
      "min": 0,
      "orientation": "horizontal",
      "style": "IPY_MODEL_355b32da63cc40ce9c644a3986f1340d",
      "value": 4620
     }
    },
    "b1176b3f4cb44df69639c8beed699f2a": {
     "model_module": "@jupyter-widgets/controls",
     "model_module_version": "1.5.0",
     "model_name": "ProgressStyleModel",
     "state": {
      "_model_module": "@jupyter-widgets/controls",
      "_model_module_version": "1.5.0",
      "_model_name": "ProgressStyleModel",
      "_view_count": null,
      "_view_module": "@jupyter-widgets/base",
      "_view_module_version": "1.2.0",
      "_view_name": "StyleView",
      "bar_color": null,
      "description_width": ""
     }
    },
    "b362a9179f894ff5b879bbae73fe41b2": {
     "model_module": "@jupyter-widgets/base",
     "model_module_version": "1.2.0",
     "model_name": "LayoutModel",
     "state": {
      "_model_module": "@jupyter-widgets/base",
      "_model_module_version": "1.2.0",
      "_model_name": "LayoutModel",
      "_view_count": null,
      "_view_module": "@jupyter-widgets/base",
      "_view_module_version": "1.2.0",
      "_view_name": "LayoutView",
      "align_content": null,
      "align_items": null,
      "align_self": null,
      "border": null,
      "bottom": null,
      "display": null,
      "flex": null,
      "flex_flow": null,
      "grid_area": null,
      "grid_auto_columns": null,
      "grid_auto_flow": null,
      "grid_auto_rows": null,
      "grid_column": null,
      "grid_gap": null,
      "grid_row": null,
      "grid_template_areas": null,
      "grid_template_columns": null,
      "grid_template_rows": null,
      "height": null,
      "justify_content": null,
      "justify_items": null,
      "left": null,
      "margin": null,
      "max_height": null,
      "max_width": null,
      "min_height": null,
      "min_width": null,
      "object_fit": null,
      "object_position": null,
      "order": null,
      "overflow": null,
      "overflow_x": null,
      "overflow_y": null,
      "padding": null,
      "right": null,
      "top": null,
      "visibility": null,
      "width": null
     }
    },
    "b3871236afda4d6a84413d1b8e833c38": {
     "model_module": "@jupyter-widgets/controls",
     "model_module_version": "1.5.0",
     "model_name": "DescriptionStyleModel",
     "state": {
      "_model_module": "@jupyter-widgets/controls",
      "_model_module_version": "1.5.0",
      "_model_name": "DescriptionStyleModel",
      "_view_count": null,
      "_view_module": "@jupyter-widgets/base",
      "_view_module_version": "1.2.0",
      "_view_name": "StyleView",
      "description_width": ""
     }
    },
    "b3fa310071864a698c6af603130cabaf": {
     "model_module": "@jupyter-widgets/controls",
     "model_module_version": "1.5.0",
     "model_name": "HTMLModel",
     "state": {
      "_dom_classes": [],
      "_model_module": "@jupyter-widgets/controls",
      "_model_module_version": "1.5.0",
      "_model_name": "HTMLModel",
      "_view_count": null,
      "_view_module": "@jupyter-widgets/controls",
      "_view_module_version": "1.5.0",
      "_view_name": "HTMLView",
      "description": "",
      "description_tooltip": null,
      "layout": "IPY_MODEL_76f870c8d7d7400fa9fecf4dc46212dc",
      "placeholder": "​",
      "style": "IPY_MODEL_32606f13dfd9459db69cfa912949629a",
      "value": " 1/1 [00:00&lt;00:00, 15.27ba/s]"
     }
    },
    "b5f579a82ca745e1b8baeff5df14e6b3": {
     "model_module": "@jupyter-widgets/base",
     "model_module_version": "1.2.0",
     "model_name": "LayoutModel",
     "state": {
      "_model_module": "@jupyter-widgets/base",
      "_model_module_version": "1.2.0",
      "_model_name": "LayoutModel",
      "_view_count": null,
      "_view_module": "@jupyter-widgets/base",
      "_view_module_version": "1.2.0",
      "_view_name": "LayoutView",
      "align_content": null,
      "align_items": null,
      "align_self": null,
      "border": null,
      "bottom": null,
      "display": null,
      "flex": null,
      "flex_flow": null,
      "grid_area": null,
      "grid_auto_columns": null,
      "grid_auto_flow": null,
      "grid_auto_rows": null,
      "grid_column": null,
      "grid_gap": null,
      "grid_row": null,
      "grid_template_areas": null,
      "grid_template_columns": null,
      "grid_template_rows": null,
      "height": null,
      "justify_content": null,
      "justify_items": null,
      "left": null,
      "margin": null,
      "max_height": null,
      "max_width": null,
      "min_height": null,
      "min_width": null,
      "object_fit": null,
      "object_position": null,
      "order": null,
      "overflow": null,
      "overflow_x": null,
      "overflow_y": null,
      "padding": null,
      "right": null,
      "top": null,
      "visibility": null,
      "width": null
     }
    },
    "b6fa9dd697cd47f59ba0af7602feabbe": {
     "model_module": "@jupyter-widgets/base",
     "model_module_version": "1.2.0",
     "model_name": "LayoutModel",
     "state": {
      "_model_module": "@jupyter-widgets/base",
      "_model_module_version": "1.2.0",
      "_model_name": "LayoutModel",
      "_view_count": null,
      "_view_module": "@jupyter-widgets/base",
      "_view_module_version": "1.2.0",
      "_view_name": "LayoutView",
      "align_content": null,
      "align_items": null,
      "align_self": null,
      "border": null,
      "bottom": null,
      "display": null,
      "flex": null,
      "flex_flow": null,
      "grid_area": null,
      "grid_auto_columns": null,
      "grid_auto_flow": null,
      "grid_auto_rows": null,
      "grid_column": null,
      "grid_gap": null,
      "grid_row": null,
      "grid_template_areas": null,
      "grid_template_columns": null,
      "grid_template_rows": null,
      "height": null,
      "justify_content": null,
      "justify_items": null,
      "left": null,
      "margin": null,
      "max_height": null,
      "max_width": null,
      "min_height": null,
      "min_width": null,
      "object_fit": null,
      "object_position": null,
      "order": null,
      "overflow": null,
      "overflow_x": null,
      "overflow_y": null,
      "padding": null,
      "right": null,
      "top": null,
      "visibility": null,
      "width": null
     }
    },
    "b9aed47df52e4688aa77b7881a0b5b50": {
     "model_module": "@jupyter-widgets/base",
     "model_module_version": "1.2.0",
     "model_name": "LayoutModel",
     "state": {
      "_model_module": "@jupyter-widgets/base",
      "_model_module_version": "1.2.0",
      "_model_name": "LayoutModel",
      "_view_count": null,
      "_view_module": "@jupyter-widgets/base",
      "_view_module_version": "1.2.0",
      "_view_name": "LayoutView",
      "align_content": null,
      "align_items": null,
      "align_self": null,
      "border": null,
      "bottom": null,
      "display": null,
      "flex": null,
      "flex_flow": null,
      "grid_area": null,
      "grid_auto_columns": null,
      "grid_auto_flow": null,
      "grid_auto_rows": null,
      "grid_column": null,
      "grid_gap": null,
      "grid_row": null,
      "grid_template_areas": null,
      "grid_template_columns": null,
      "grid_template_rows": null,
      "height": null,
      "justify_content": null,
      "justify_items": null,
      "left": null,
      "margin": null,
      "max_height": null,
      "max_width": null,
      "min_height": null,
      "min_width": null,
      "object_fit": null,
      "object_position": null,
      "order": null,
      "overflow": null,
      "overflow_x": null,
      "overflow_y": null,
      "padding": null,
      "right": null,
      "top": null,
      "visibility": null,
      "width": null
     }
    },
    "bdbf48017d7b46aa9175d60413d596ba": {
     "model_module": "@jupyter-widgets/controls",
     "model_module_version": "1.5.0",
     "model_name": "HBoxModel",
     "state": {
      "_dom_classes": [],
      "_model_module": "@jupyter-widgets/controls",
      "_model_module_version": "1.5.0",
      "_model_name": "HBoxModel",
      "_view_count": null,
      "_view_module": "@jupyter-widgets/controls",
      "_view_module_version": "1.5.0",
      "_view_name": "HBoxView",
      "box_style": "",
      "children": [
       "IPY_MODEL_20aa14cdf93848969cb5fc746c12f476",
       "IPY_MODEL_1a6890f25d1346b9ac9c503f07d3c415"
      ],
      "layout": "IPY_MODEL_eaf82b66a8dc4024823253ee260f79b5"
     }
    },
    "bfb469bf394a4aa288444a43e55ca707": {
     "model_module": "@jupyter-widgets/controls",
     "model_module_version": "1.5.0",
     "model_name": "HTMLModel",
     "state": {
      "_dom_classes": [],
      "_model_module": "@jupyter-widgets/controls",
      "_model_module_version": "1.5.0",
      "_model_name": "HTMLModel",
      "_view_count": null,
      "_view_module": "@jupyter-widgets/controls",
      "_view_module_version": "1.5.0",
      "_view_name": "HTMLView",
      "description": "",
      "description_tooltip": null,
      "layout": "IPY_MODEL_05c060b08e2e4040ae380608a4642167",
      "placeholder": "​",
      "style": "IPY_MODEL_de9fd72fa9444ac4bc6f88242f20126b",
      "value": " 4620/4620 [00:00&lt;00:00, 6546.88ex/s]"
     }
    },
    "c2c33b1d592b4b06a7b7e6f6056abae0": {
     "model_module": "@jupyter-widgets/controls",
     "model_module_version": "1.5.0",
     "model_name": "HTMLModel",
     "state": {
      "_dom_classes": [],
      "_model_module": "@jupyter-widgets/controls",
      "_model_module_version": "1.5.0",
      "_model_name": "HTMLModel",
      "_view_count": null,
      "_view_module": "@jupyter-widgets/controls",
      "_view_module_version": "1.5.0",
      "_view_name": "HTMLView",
      "description": "",
      "description_tooltip": null,
      "layout": "IPY_MODEL_f2a98ab2360c418cb7c7d5a71b3d1361",
      "placeholder": "​",
      "style": "IPY_MODEL_01ae96853d54497f9108870821c45470",
      "value": "100%"
     }
    },
    "c37f83f4ccfb41ae850c812e1f5f59e8": {
     "model_module": "@jupyter-widgets/base",
     "model_module_version": "1.2.0",
     "model_name": "LayoutModel",
     "state": {
      "_model_module": "@jupyter-widgets/base",
      "_model_module_version": "1.2.0",
      "_model_name": "LayoutModel",
      "_view_count": null,
      "_view_module": "@jupyter-widgets/base",
      "_view_module_version": "1.2.0",
      "_view_name": "LayoutView",
      "align_content": null,
      "align_items": null,
      "align_self": null,
      "border": null,
      "bottom": null,
      "display": null,
      "flex": null,
      "flex_flow": null,
      "grid_area": null,
      "grid_auto_columns": null,
      "grid_auto_flow": null,
      "grid_auto_rows": null,
      "grid_column": null,
      "grid_gap": null,
      "grid_row": null,
      "grid_template_areas": null,
      "grid_template_columns": null,
      "grid_template_rows": null,
      "height": null,
      "justify_content": null,
      "justify_items": null,
      "left": null,
      "margin": null,
      "max_height": null,
      "max_width": null,
      "min_height": null,
      "min_width": null,
      "object_fit": null,
      "object_position": null,
      "order": null,
      "overflow": null,
      "overflow_x": null,
      "overflow_y": null,
      "padding": null,
      "right": null,
      "top": null,
      "visibility": null,
      "width": null
     }
    },
    "c3fa5eee9e544fc2a8faf9eef90d4131": {
     "model_module": "@jupyter-widgets/controls",
     "model_module_version": "1.5.0",
     "model_name": "DescriptionStyleModel",
     "state": {
      "_model_module": "@jupyter-widgets/controls",
      "_model_module_version": "1.5.0",
      "_model_name": "DescriptionStyleModel",
      "_view_count": null,
      "_view_module": "@jupyter-widgets/base",
      "_view_module_version": "1.2.0",
      "_view_name": "StyleView",
      "description_width": ""
     }
    },
    "c5a203521c5d4872988179de343ad7ca": {
     "model_module": "@jupyter-widgets/controls",
     "model_module_version": "1.5.0",
     "model_name": "HTMLModel",
     "state": {
      "_dom_classes": [],
      "_model_module": "@jupyter-widgets/controls",
      "_model_module_version": "1.5.0",
      "_model_name": "HTMLModel",
      "_view_count": null,
      "_view_module": "@jupyter-widgets/controls",
      "_view_module_version": "1.5.0",
      "_view_name": "HTMLView",
      "description": "",
      "description_tooltip": null,
      "layout": "IPY_MODEL_c7f1e3faf4f94304b5608de6eacfb263",
      "placeholder": "​",
      "style": "IPY_MODEL_2b492bcf145a4f82b8f2ba666ae7f902",
      "value": "Downloading: 100%"
     }
    },
    "c5a41c0f412f49b0b96f450ac81009a1": {
     "model_module": "@jupyter-widgets/controls",
     "model_module_version": "1.5.0",
     "model_name": "DescriptionStyleModel",
     "state": {
      "_model_module": "@jupyter-widgets/controls",
      "_model_module_version": "1.5.0",
      "_model_name": "DescriptionStyleModel",
      "_view_count": null,
      "_view_module": "@jupyter-widgets/base",
      "_view_module_version": "1.2.0",
      "_view_name": "StyleView",
      "description_width": ""
     }
    },
    "c5e9524a9c3d41f6b818eaad95ae882f": {
     "model_module": "@jupyter-widgets/controls",
     "model_module_version": "1.5.0",
     "model_name": "DescriptionStyleModel",
     "state": {
      "_model_module": "@jupyter-widgets/controls",
      "_model_module_version": "1.5.0",
      "_model_name": "DescriptionStyleModel",
      "_view_count": null,
      "_view_module": "@jupyter-widgets/base",
      "_view_module_version": "1.2.0",
      "_view_name": "StyleView",
      "description_width": ""
     }
    },
    "c5e956ae90484ceb9dc3cabdd30bf683": {
     "model_module": "@jupyter-widgets/controls",
     "model_module_version": "1.5.0",
     "model_name": "HTMLModel",
     "state": {
      "_dom_classes": [],
      "_model_module": "@jupyter-widgets/controls",
      "_model_module_version": "1.5.0",
      "_model_name": "HTMLModel",
      "_view_count": null,
      "_view_module": "@jupyter-widgets/controls",
      "_view_module_version": "1.5.0",
      "_view_name": "HTMLView",
      "description": "",
      "description_tooltip": null,
      "layout": "IPY_MODEL_2e05bffaad464fd4a5e675b471a7d3ea",
      "placeholder": "​",
      "style": "IPY_MODEL_ec3d0cbc0afc43c9ab68b457be93288b",
      "value": "Downloading: "
     }
    },
    "c64445fb30de40658c222a525f9bdcd4": {
     "model_module": "@jupyter-widgets/controls",
     "model_module_version": "1.5.0",
     "model_name": "FloatProgressModel",
     "state": {
      "_dom_classes": [],
      "_model_module": "@jupyter-widgets/controls",
      "_model_module_version": "1.5.0",
      "_model_name": "FloatProgressModel",
      "_view_count": null,
      "_view_module": "@jupyter-widgets/controls",
      "_view_module_version": "1.5.0",
      "_view_name": "ProgressView",
      "bar_style": "success",
      "description": "",
      "description_tooltip": null,
      "layout": "IPY_MODEL_49a3daba7a964972b39c0d2b869524d8",
      "max": 1843,
      "min": 0,
      "orientation": "horizontal",
      "style": "IPY_MODEL_8e2b47e41c5741f3886e6d314ec1e9ee",
      "value": 1843
     }
    },
    "c6c5318aede74a19bbf6b585f05eda8a": {
     "model_module": "@jupyter-widgets/controls",
     "model_module_version": "1.5.0",
     "model_name": "HBoxModel",
     "state": {
      "_dom_classes": [],
      "_model_module": "@jupyter-widgets/controls",
      "_model_module_version": "1.5.0",
      "_model_name": "HBoxModel",
      "_view_count": null,
      "_view_module": "@jupyter-widgets/controls",
      "_view_module_version": "1.5.0",
      "_view_name": "HBoxView",
      "box_style": "",
      "children": [
       "IPY_MODEL_3e973f1a760d4784b9535363415d3603",
       "IPY_MODEL_8e9960e611bf4b70bcd14c1d8ee63d6a",
       "IPY_MODEL_acf11817f5d9454e8f0b5114e2112d11"
      ],
      "layout": "IPY_MODEL_ae8f27595e944a7386c2c0527a276926"
     }
    },
    "c72fa9a3ad844f1a83bada8eee4abb73": {
     "model_module": "@jupyter-widgets/base",
     "model_module_version": "1.2.0",
     "model_name": "LayoutModel",
     "state": {
      "_model_module": "@jupyter-widgets/base",
      "_model_module_version": "1.2.0",
      "_model_name": "LayoutModel",
      "_view_count": null,
      "_view_module": "@jupyter-widgets/base",
      "_view_module_version": "1.2.0",
      "_view_name": "LayoutView",
      "align_content": null,
      "align_items": null,
      "align_self": null,
      "border": null,
      "bottom": null,
      "display": null,
      "flex": null,
      "flex_flow": null,
      "grid_area": null,
      "grid_auto_columns": null,
      "grid_auto_flow": null,
      "grid_auto_rows": null,
      "grid_column": null,
      "grid_gap": null,
      "grid_row": null,
      "grid_template_areas": null,
      "grid_template_columns": null,
      "grid_template_rows": null,
      "height": null,
      "justify_content": null,
      "justify_items": null,
      "left": null,
      "margin": null,
      "max_height": null,
      "max_width": null,
      "min_height": null,
      "min_width": null,
      "object_fit": null,
      "object_position": null,
      "order": null,
      "overflow": null,
      "overflow_x": null,
      "overflow_y": null,
      "padding": null,
      "right": null,
      "top": null,
      "visibility": null,
      "width": null
     }
    },
    "c7f1e3faf4f94304b5608de6eacfb263": {
     "model_module": "@jupyter-widgets/base",
     "model_module_version": "1.2.0",
     "model_name": "LayoutModel",
     "state": {
      "_model_module": "@jupyter-widgets/base",
      "_model_module_version": "1.2.0",
      "_model_name": "LayoutModel",
      "_view_count": null,
      "_view_module": "@jupyter-widgets/base",
      "_view_module_version": "1.2.0",
      "_view_name": "LayoutView",
      "align_content": null,
      "align_items": null,
      "align_self": null,
      "border": null,
      "bottom": null,
      "display": null,
      "flex": null,
      "flex_flow": null,
      "grid_area": null,
      "grid_auto_columns": null,
      "grid_auto_flow": null,
      "grid_auto_rows": null,
      "grid_column": null,
      "grid_gap": null,
      "grid_row": null,
      "grid_template_areas": null,
      "grid_template_columns": null,
      "grid_template_rows": null,
      "height": null,
      "justify_content": null,
      "justify_items": null,
      "left": null,
      "margin": null,
      "max_height": null,
      "max_width": null,
      "min_height": null,
      "min_width": null,
      "object_fit": null,
      "object_position": null,
      "order": null,
      "overflow": null,
      "overflow_x": null,
      "overflow_y": null,
      "padding": null,
      "right": null,
      "top": null,
      "visibility": null,
      "width": null
     }
    },
    "c8691b011b8b43388e9055adfb2d3d5f": {
     "model_module": "@jupyter-widgets/base",
     "model_module_version": "1.2.0",
     "model_name": "LayoutModel",
     "state": {
      "_model_module": "@jupyter-widgets/base",
      "_model_module_version": "1.2.0",
      "_model_name": "LayoutModel",
      "_view_count": null,
      "_view_module": "@jupyter-widgets/base",
      "_view_module_version": "1.2.0",
      "_view_name": "LayoutView",
      "align_content": null,
      "align_items": null,
      "align_self": null,
      "border": null,
      "bottom": null,
      "display": null,
      "flex": null,
      "flex_flow": null,
      "grid_area": null,
      "grid_auto_columns": null,
      "grid_auto_flow": null,
      "grid_auto_rows": null,
      "grid_column": null,
      "grid_gap": null,
      "grid_row": null,
      "grid_template_areas": null,
      "grid_template_columns": null,
      "grid_template_rows": null,
      "height": null,
      "justify_content": null,
      "justify_items": null,
      "left": null,
      "margin": null,
      "max_height": null,
      "max_width": null,
      "min_height": null,
      "min_width": null,
      "object_fit": null,
      "object_position": null,
      "order": null,
      "overflow": null,
      "overflow_x": null,
      "overflow_y": null,
      "padding": null,
      "right": null,
      "top": null,
      "visibility": null,
      "width": null
     }
    },
    "c8ec8b2d7c3146eba8cca46c26e96ee6": {
     "model_module": "@jupyter-widgets/controls",
     "model_module_version": "1.5.0",
     "model_name": "HTMLModel",
     "state": {
      "_dom_classes": [],
      "_model_module": "@jupyter-widgets/controls",
      "_model_module_version": "1.5.0",
      "_model_name": "HTMLModel",
      "_view_count": null,
      "_view_module": "@jupyter-widgets/controls",
      "_view_module_version": "1.5.0",
      "_view_name": "HTMLView",
      "description": "",
      "description_tooltip": null,
      "layout": "IPY_MODEL_c72fa9a3ad844f1a83bada8eee4abb73",
      "placeholder": "​",
      "style": "IPY_MODEL_3bad55bd774a49869f2640e71c66057f",
      "value": ""
     }
    },
    "cf93cf23940847c3b402c367f49d2aad": {
     "model_module": "@jupyter-widgets/base",
     "model_module_version": "1.2.0",
     "model_name": "LayoutModel",
     "state": {
      "_model_module": "@jupyter-widgets/base",
      "_model_module_version": "1.2.0",
      "_model_name": "LayoutModel",
      "_view_count": null,
      "_view_module": "@jupyter-widgets/base",
      "_view_module_version": "1.2.0",
      "_view_name": "LayoutView",
      "align_content": null,
      "align_items": null,
      "align_self": null,
      "border": null,
      "bottom": null,
      "display": null,
      "flex": null,
      "flex_flow": null,
      "grid_area": null,
      "grid_auto_columns": null,
      "grid_auto_flow": null,
      "grid_auto_rows": null,
      "grid_column": null,
      "grid_gap": null,
      "grid_row": null,
      "grid_template_areas": null,
      "grid_template_columns": null,
      "grid_template_rows": null,
      "height": null,
      "justify_content": null,
      "justify_items": null,
      "left": null,
      "margin": null,
      "max_height": null,
      "max_width": null,
      "min_height": null,
      "min_width": null,
      "object_fit": null,
      "object_position": null,
      "order": null,
      "overflow": null,
      "overflow_x": null,
      "overflow_y": null,
      "padding": null,
      "right": null,
      "top": null,
      "visibility": null,
      "width": null
     }
    },
    "d1693414e7964bfcbe95f6d95d5d4204": {
     "model_module": "@jupyter-widgets/base",
     "model_module_version": "1.2.0",
     "model_name": "LayoutModel",
     "state": {
      "_model_module": "@jupyter-widgets/base",
      "_model_module_version": "1.2.0",
      "_model_name": "LayoutModel",
      "_view_count": null,
      "_view_module": "@jupyter-widgets/base",
      "_view_module_version": "1.2.0",
      "_view_name": "LayoutView",
      "align_content": null,
      "align_items": null,
      "align_self": null,
      "border": null,
      "bottom": null,
      "display": null,
      "flex": null,
      "flex_flow": null,
      "grid_area": null,
      "grid_auto_columns": null,
      "grid_auto_flow": null,
      "grid_auto_rows": null,
      "grid_column": null,
      "grid_gap": null,
      "grid_row": null,
      "grid_template_areas": null,
      "grid_template_columns": null,
      "grid_template_rows": null,
      "height": null,
      "justify_content": null,
      "justify_items": null,
      "left": null,
      "margin": null,
      "max_height": null,
      "max_width": null,
      "min_height": null,
      "min_width": null,
      "object_fit": null,
      "object_position": null,
      "order": null,
      "overflow": null,
      "overflow_x": null,
      "overflow_y": null,
      "padding": null,
      "right": null,
      "top": null,
      "visibility": null,
      "width": null
     }
    },
    "d16ea3ef10684bf1b1092345ca92897a": {
     "model_module": "@jupyter-widgets/base",
     "model_module_version": "1.2.0",
     "model_name": "LayoutModel",
     "state": {
      "_model_module": "@jupyter-widgets/base",
      "_model_module_version": "1.2.0",
      "_model_name": "LayoutModel",
      "_view_count": null,
      "_view_module": "@jupyter-widgets/base",
      "_view_module_version": "1.2.0",
      "_view_name": "LayoutView",
      "align_content": null,
      "align_items": null,
      "align_self": null,
      "border": null,
      "bottom": null,
      "display": null,
      "flex": null,
      "flex_flow": null,
      "grid_area": null,
      "grid_auto_columns": null,
      "grid_auto_flow": null,
      "grid_auto_rows": null,
      "grid_column": null,
      "grid_gap": null,
      "grid_row": null,
      "grid_template_areas": null,
      "grid_template_columns": null,
      "grid_template_rows": null,
      "height": null,
      "justify_content": null,
      "justify_items": null,
      "left": null,
      "margin": null,
      "max_height": null,
      "max_width": null,
      "min_height": null,
      "min_width": null,
      "object_fit": null,
      "object_position": null,
      "order": null,
      "overflow": null,
      "overflow_x": null,
      "overflow_y": null,
      "padding": null,
      "right": null,
      "top": null,
      "visibility": null,
      "width": null
     }
    },
    "d21e46e22de04ebe9e02b44e71de04f2": {
     "model_module": "@jupyter-widgets/controls",
     "model_module_version": "1.5.0",
     "model_name": "DescriptionStyleModel",
     "state": {
      "_model_module": "@jupyter-widgets/controls",
      "_model_module_version": "1.5.0",
      "_model_name": "DescriptionStyleModel",
      "_view_count": null,
      "_view_module": "@jupyter-widgets/base",
      "_view_module_version": "1.2.0",
      "_view_name": "StyleView",
      "description_width": ""
     }
    },
    "d2a85d56e6f6498ab331d5f893a80f9a": {
     "model_module": "@jupyter-widgets/controls",
     "model_module_version": "1.5.0",
     "model_name": "FloatProgressModel",
     "state": {
      "_dom_classes": [],
      "_model_module": "@jupyter-widgets/controls",
      "_model_module_version": "1.5.0",
      "_model_name": "FloatProgressModel",
      "_view_count": null,
      "_view_module": "@jupyter-widgets/controls",
      "_view_module_version": "1.5.0",
      "_view_name": "ProgressView",
      "bar_style": "success",
      "description": "",
      "description_tooltip": null,
      "layout": "IPY_MODEL_2559c18dea0a428697b916de32e1bc0d",
      "max": 1680,
      "min": 0,
      "orientation": "horizontal",
      "style": "IPY_MODEL_ee3b7afab0f349b2a8a7a2c0e157f851",
      "value": 1680
     }
    },
    "d30cf357ba084b15a0ab7c785cd632f5": {
     "model_module": "@jupyter-widgets/base",
     "model_module_version": "1.2.0",
     "model_name": "LayoutModel",
     "state": {
      "_model_module": "@jupyter-widgets/base",
      "_model_module_version": "1.2.0",
      "_model_name": "LayoutModel",
      "_view_count": null,
      "_view_module": "@jupyter-widgets/base",
      "_view_module_version": "1.2.0",
      "_view_name": "LayoutView",
      "align_content": null,
      "align_items": null,
      "align_self": null,
      "border": null,
      "bottom": null,
      "display": null,
      "flex": null,
      "flex_flow": null,
      "grid_area": null,
      "grid_auto_columns": null,
      "grid_auto_flow": null,
      "grid_auto_rows": null,
      "grid_column": null,
      "grid_gap": null,
      "grid_row": null,
      "grid_template_areas": null,
      "grid_template_columns": null,
      "grid_template_rows": null,
      "height": null,
      "justify_content": null,
      "justify_items": null,
      "left": null,
      "margin": null,
      "max_height": null,
      "max_width": null,
      "min_height": null,
      "min_width": null,
      "object_fit": null,
      "object_position": null,
      "order": null,
      "overflow": null,
      "overflow_x": null,
      "overflow_y": null,
      "padding": null,
      "right": null,
      "top": null,
      "visibility": null,
      "width": null
     }
    },
    "d578ce02e48c49d7838c002d1d2217fb": {
     "model_module": "@jupyter-widgets/controls",
     "model_module_version": "1.5.0",
     "model_name": "DescriptionStyleModel",
     "state": {
      "_model_module": "@jupyter-widgets/controls",
      "_model_module_version": "1.5.0",
      "_model_name": "DescriptionStyleModel",
      "_view_count": null,
      "_view_module": "@jupyter-widgets/base",
      "_view_module_version": "1.2.0",
      "_view_name": "StyleView",
      "description_width": ""
     }
    },
    "d717063846d849b6aa383e50f5c93aea": {
     "model_module": "@jupyter-widgets/controls",
     "model_module_version": "1.5.0",
     "model_name": "DescriptionStyleModel",
     "state": {
      "_model_module": "@jupyter-widgets/controls",
      "_model_module_version": "1.5.0",
      "_model_name": "DescriptionStyleModel",
      "_view_count": null,
      "_view_module": "@jupyter-widgets/base",
      "_view_module_version": "1.2.0",
      "_view_name": "StyleView",
      "description_width": ""
     }
    },
    "d7a01acdb98f435489fed6bf1a5b3e4f": {
     "model_module": "@jupyter-widgets/controls",
     "model_module_version": "1.5.0",
     "model_name": "ProgressStyleModel",
     "state": {
      "_model_module": "@jupyter-widgets/controls",
      "_model_module_version": "1.5.0",
      "_model_name": "ProgressStyleModel",
      "_view_count": null,
      "_view_module": "@jupyter-widgets/base",
      "_view_module_version": "1.2.0",
      "_view_name": "StyleView",
      "bar_color": null,
      "description_width": ""
     }
    },
    "d896231bf5824211a55d494d48626fc6": {
     "model_module": "@jupyter-widgets/controls",
     "model_module_version": "1.5.0",
     "model_name": "HBoxModel",
     "state": {
      "_dom_classes": [],
      "_model_module": "@jupyter-widgets/controls",
      "_model_module_version": "1.5.0",
      "_model_name": "HBoxModel",
      "_view_count": null,
      "_view_module": "@jupyter-widgets/controls",
      "_view_module_version": "1.5.0",
      "_view_name": "HBoxView",
      "box_style": "",
      "children": [
       "IPY_MODEL_2392ea8eae7c4dbebc0e218cd7c5ce23",
       "IPY_MODEL_effd4c06dcdb44ae9027dbe846438c83",
       "IPY_MODEL_3d0635b79b6342b78a9689e092f60872"
      ],
      "layout": "IPY_MODEL_14dae264619940beab57908b986aa6bb"
     }
    },
    "d9813a20998b4f739de3fa1592fa6f6c": {
     "model_module": "@jupyter-widgets/base",
     "model_module_version": "1.2.0",
     "model_name": "LayoutModel",
     "state": {
      "_model_module": "@jupyter-widgets/base",
      "_model_module_version": "1.2.0",
      "_model_name": "LayoutModel",
      "_view_count": null,
      "_view_module": "@jupyter-widgets/base",
      "_view_module_version": "1.2.0",
      "_view_name": "LayoutView",
      "align_content": null,
      "align_items": null,
      "align_self": null,
      "border": null,
      "bottom": null,
      "display": null,
      "flex": null,
      "flex_flow": null,
      "grid_area": null,
      "grid_auto_columns": null,
      "grid_auto_flow": null,
      "grid_auto_rows": null,
      "grid_column": null,
      "grid_gap": null,
      "grid_row": null,
      "grid_template_areas": null,
      "grid_template_columns": null,
      "grid_template_rows": null,
      "height": null,
      "justify_content": null,
      "justify_items": null,
      "left": null,
      "margin": null,
      "max_height": null,
      "max_width": null,
      "min_height": null,
      "min_width": null,
      "object_fit": null,
      "object_position": null,
      "order": null,
      "overflow": null,
      "overflow_x": null,
      "overflow_y": null,
      "padding": null,
      "right": null,
      "top": null,
      "visibility": null,
      "width": null
     }
    },
    "db3a439bcaa0446da45b550ae88cf8db": {
     "model_module": "@jupyter-widgets/base",
     "model_module_version": "1.2.0",
     "model_name": "LayoutModel",
     "state": {
      "_model_module": "@jupyter-widgets/base",
      "_model_module_version": "1.2.0",
      "_model_name": "LayoutModel",
      "_view_count": null,
      "_view_module": "@jupyter-widgets/base",
      "_view_module_version": "1.2.0",
      "_view_name": "LayoutView",
      "align_content": null,
      "align_items": null,
      "align_self": null,
      "border": null,
      "bottom": null,
      "display": null,
      "flex": null,
      "flex_flow": null,
      "grid_area": null,
      "grid_auto_columns": null,
      "grid_auto_flow": null,
      "grid_auto_rows": null,
      "grid_column": null,
      "grid_gap": null,
      "grid_row": null,
      "grid_template_areas": null,
      "grid_template_columns": null,
      "grid_template_rows": null,
      "height": null,
      "justify_content": null,
      "justify_items": null,
      "left": null,
      "margin": null,
      "max_height": null,
      "max_width": null,
      "min_height": null,
      "min_width": null,
      "object_fit": null,
      "object_position": null,
      "order": null,
      "overflow": null,
      "overflow_x": null,
      "overflow_y": null,
      "padding": null,
      "right": null,
      "top": null,
      "visibility": null,
      "width": null
     }
    },
    "de28bc73b90b4b7d854106dcc8d315f3": {
     "model_module": "@jupyter-widgets/controls",
     "model_module_version": "1.5.0",
     "model_name": "ButtonStyleModel",
     "state": {
      "_model_module": "@jupyter-widgets/controls",
      "_model_module_version": "1.5.0",
      "_model_name": "ButtonStyleModel",
      "_view_count": null,
      "_view_module": "@jupyter-widgets/base",
      "_view_module_version": "1.2.0",
      "_view_name": "StyleView",
      "button_color": null,
      "font_weight": ""
     }
    },
    "de7353a43be34e5f9251f8173f82b5d7": {
     "model_module": "@jupyter-widgets/controls",
     "model_module_version": "1.5.0",
     "model_name": "FloatProgressModel",
     "state": {
      "_dom_classes": [],
      "_model_module": "@jupyter-widgets/controls",
      "_model_module_version": "1.5.0",
      "_model_name": "FloatProgressModel",
      "_view_count": null,
      "_view_module": "@jupyter-widgets/controls",
      "_view_module_version": "1.5.0",
      "_view_name": "ProgressView",
      "bar_style": "success",
      "description": "",
      "description_tooltip": null,
      "layout": "IPY_MODEL_9522fbb829c940d78c6ad7dae3faf8b1",
      "max": 1,
      "min": 0,
      "orientation": "horizontal",
      "style": "IPY_MODEL_7940a72efa9b47ba9ed97668ed090bcf",
      "value": 1
     }
    },
    "de9fd72fa9444ac4bc6f88242f20126b": {
     "model_module": "@jupyter-widgets/controls",
     "model_module_version": "1.5.0",
     "model_name": "DescriptionStyleModel",
     "state": {
      "_model_module": "@jupyter-widgets/controls",
      "_model_module_version": "1.5.0",
      "_model_name": "DescriptionStyleModel",
      "_view_count": null,
      "_view_module": "@jupyter-widgets/base",
      "_view_module_version": "1.2.0",
      "_view_name": "StyleView",
      "description_width": ""
     }
    },
    "df32789a34fe494c9a8791a8d8c70c69": {
     "model_module": "@jupyter-widgets/controls",
     "model_module_version": "1.5.0",
     "model_name": "HTMLModel",
     "state": {
      "_dom_classes": [],
      "_model_module": "@jupyter-widgets/controls",
      "_model_module_version": "1.5.0",
      "_model_name": "HTMLModel",
      "_view_count": null,
      "_view_module": "@jupyter-widgets/controls",
      "_view_module_version": "1.5.0",
      "_view_name": "HTMLView",
      "description": "",
      "description_tooltip": null,
      "layout": "IPY_MODEL_b5f579a82ca745e1b8baeff5df14e6b3",
      "placeholder": "​",
      "style": "IPY_MODEL_a6e7f6bb9bf5486389689d79e499869b",
      "value": " 4.55k/? [00:00&lt;00:00, 160kB/s]"
     }
    },
    "e009bda61c6844d7a195937cd3edc69d": {
     "model_module": "@jupyter-widgets/base",
     "model_module_version": "1.2.0",
     "model_name": "LayoutModel",
     "state": {
      "_model_module": "@jupyter-widgets/base",
      "_model_module_version": "1.2.0",
      "_model_name": "LayoutModel",
      "_view_count": null,
      "_view_module": "@jupyter-widgets/base",
      "_view_module_version": "1.2.0",
      "_view_name": "LayoutView",
      "align_content": null,
      "align_items": "center",
      "align_self": null,
      "border": null,
      "bottom": null,
      "display": "flex",
      "flex": null,
      "flex_flow": "column",
      "grid_area": null,
      "grid_auto_columns": null,
      "grid_auto_flow": null,
      "grid_auto_rows": null,
      "grid_column": null,
      "grid_gap": null,
      "grid_row": null,
      "grid_template_areas": null,
      "grid_template_columns": null,
      "grid_template_rows": null,
      "height": null,
      "justify_content": null,
      "justify_items": null,
      "left": null,
      "margin": null,
      "max_height": null,
      "max_width": null,
      "min_height": null,
      "min_width": null,
      "object_fit": null,
      "object_position": null,
      "order": null,
      "overflow": null,
      "overflow_x": null,
      "overflow_y": null,
      "padding": null,
      "right": null,
      "top": null,
      "visibility": null,
      "width": "50%"
     }
    },
    "e0888123f0d2455d9f565939a8abda4e": {
     "model_module": "@jupyter-widgets/controls",
     "model_module_version": "1.5.0",
     "model_name": "HTMLModel",
     "state": {
      "_dom_classes": [],
      "_model_module": "@jupyter-widgets/controls",
      "_model_module_version": "1.5.0",
      "_model_name": "HTMLModel",
      "_view_count": null,
      "_view_module": "@jupyter-widgets/controls",
      "_view_module_version": "1.5.0",
      "_view_name": "HTMLView",
      "description": "",
      "description_tooltip": null,
      "layout": "IPY_MODEL_57cd1596aead47ad85987147a0f1bb75",
      "placeholder": "​",
      "style": "IPY_MODEL_2e27a56468684597ba7084d662a92309",
      "value": "Downloading: "
     }
    },
    "e09c7201febc4d58bce738e843ba61b8": {
     "model_module": "@jupyter-widgets/controls",
     "model_module_version": "1.5.0",
     "model_name": "DescriptionStyleModel",
     "state": {
      "_model_module": "@jupyter-widgets/controls",
      "_model_module_version": "1.5.0",
      "_model_name": "DescriptionStyleModel",
      "_view_count": null,
      "_view_module": "@jupyter-widgets/base",
      "_view_module_version": "1.2.0",
      "_view_name": "StyleView",
      "description_width": ""
     }
    },
    "e38f94630c5544a6b481e37e2369d5f5": {
     "model_module": "@jupyter-widgets/controls",
     "model_module_version": "1.5.0",
     "model_name": "DescriptionStyleModel",
     "state": {
      "_model_module": "@jupyter-widgets/controls",
      "_model_module_version": "1.5.0",
      "_model_name": "DescriptionStyleModel",
      "_view_count": null,
      "_view_module": "@jupyter-widgets/base",
      "_view_module_version": "1.2.0",
      "_view_name": "StyleView",
      "description_width": ""
     }
    },
    "e4c489c42f2741b8afbef75d3a434084": {
     "model_module": "@jupyter-widgets/controls",
     "model_module_version": "1.5.0",
     "model_name": "DescriptionStyleModel",
     "state": {
      "_model_module": "@jupyter-widgets/controls",
      "_model_module_version": "1.5.0",
      "_model_name": "DescriptionStyleModel",
      "_view_count": null,
      "_view_module": "@jupyter-widgets/base",
      "_view_module_version": "1.2.0",
      "_view_name": "StyleView",
      "description_width": ""
     }
    },
    "e623bc2daf6b4a8380484e5eaf1c4847": {
     "model_module": "@jupyter-widgets/controls",
     "model_module_version": "1.5.0",
     "model_name": "HTMLModel",
     "state": {
      "_dom_classes": [],
      "_model_module": "@jupyter-widgets/controls",
      "_model_module_version": "1.5.0",
      "_model_name": "HTMLModel",
      "_view_count": null,
      "_view_module": "@jupyter-widgets/controls",
      "_view_module_version": "1.5.0",
      "_view_name": "HTMLView",
      "description": "",
      "description_tooltip": null,
      "layout": "IPY_MODEL_b9aed47df52e4688aa77b7881a0b5b50",
      "placeholder": "​",
      "style": "IPY_MODEL_e38f94630c5544a6b481e37e2369d5f5",
      "value": " 1.80k/1.80k [00:00&lt;00:00, 46.3kB/s]"
     }
    },
    "e62e6b3087364568b2919536eed930b4": {
     "model_module": "@jupyter-widgets/controls",
     "model_module_version": "1.5.0",
     "model_name": "FloatProgressModel",
     "state": {
      "_dom_classes": [],
      "_model_module": "@jupyter-widgets/controls",
      "_model_module_version": "1.5.0",
      "_model_name": "FloatProgressModel",
      "_view_count": null,
      "_view_module": "@jupyter-widgets/controls",
      "_view_module_version": "1.5.0",
      "_view_name": "ProgressView",
      "bar_style": "success",
      "description": "",
      "description_tooltip": null,
      "layout": "IPY_MODEL_78f37dd782e643d0985b47de288eb6a6",
      "max": 8164,
      "min": 0,
      "orientation": "horizontal",
      "style": "IPY_MODEL_5b1c1ad9f82d491d98e71923057a6181",
      "value": 8164
     }
    },
    "e6a15bdebd184bdab4c82caf543189a7": {
     "model_module": "@jupyter-widgets/base",
     "model_module_version": "1.2.0",
     "model_name": "LayoutModel",
     "state": {
      "_model_module": "@jupyter-widgets/base",
      "_model_module_version": "1.2.0",
      "_model_name": "LayoutModel",
      "_view_count": null,
      "_view_module": "@jupyter-widgets/base",
      "_view_module_version": "1.2.0",
      "_view_name": "LayoutView",
      "align_content": null,
      "align_items": null,
      "align_self": null,
      "border": null,
      "bottom": null,
      "display": null,
      "flex": null,
      "flex_flow": null,
      "grid_area": null,
      "grid_auto_columns": null,
      "grid_auto_flow": null,
      "grid_auto_rows": null,
      "grid_column": null,
      "grid_gap": null,
      "grid_row": null,
      "grid_template_areas": null,
      "grid_template_columns": null,
      "grid_template_rows": null,
      "height": null,
      "justify_content": null,
      "justify_items": null,
      "left": null,
      "margin": null,
      "max_height": null,
      "max_width": null,
      "min_height": null,
      "min_width": null,
      "object_fit": null,
      "object_position": null,
      "order": null,
      "overflow": null,
      "overflow_x": null,
      "overflow_y": null,
      "padding": null,
      "right": null,
      "top": null,
      "visibility": null,
      "width": null
     }
    },
    "e85f07ee767c4f1e89b9b58c528e9502": {
     "model_module": "@jupyter-widgets/controls",
     "model_module_version": "1.5.0",
     "model_name": "ProgressStyleModel",
     "state": {
      "_model_module": "@jupyter-widgets/controls",
      "_model_module_version": "1.5.0",
      "_model_name": "ProgressStyleModel",
      "_view_count": null,
      "_view_module": "@jupyter-widgets/base",
      "_view_module_version": "1.2.0",
      "_view_name": "StyleView",
      "bar_color": null,
      "description_width": ""
     }
    },
    "e8e152cb774942ccb2d2d772b8f859ca": {
     "model_module": "@jupyter-widgets/controls",
     "model_module_version": "1.5.0",
     "model_name": "DescriptionStyleModel",
     "state": {
      "_model_module": "@jupyter-widgets/controls",
      "_model_module_version": "1.5.0",
      "_model_name": "DescriptionStyleModel",
      "_view_count": null,
      "_view_module": "@jupyter-widgets/base",
      "_view_module_version": "1.2.0",
      "_view_name": "StyleView",
      "description_width": ""
     }
    },
    "e8efe81123244cdc9d923f213a28cc0f": {
     "model_module": "@jupyter-widgets/controls",
     "model_module_version": "1.5.0",
     "model_name": "HTMLModel",
     "state": {
      "_dom_classes": [],
      "_model_module": "@jupyter-widgets/controls",
      "_model_module_version": "1.5.0",
      "_model_name": "HTMLModel",
      "_view_count": null,
      "_view_module": "@jupyter-widgets/controls",
      "_view_module_version": "1.5.0",
      "_view_name": "HTMLView",
      "description": "",
      "description_tooltip": null,
      "layout": "IPY_MODEL_68742324ad074322b18d26db0a6887e6",
      "placeholder": "​",
      "style": "IPY_MODEL_aa560b9c74c648968dc9e06d3f779b1b",
      "value": "<center>\n<img src=https://huggingface.co/front/assets/huggingface_logo-noborder.svg alt='Hugging Face'>\n<br>\n<b>The AI community building the future</b>\n<br>\nImmediately click login after typing your password or it might be stored in plain text in this notebook file.\n</center>"
     }
    },
    "e9700e09f87a4884b1bdec05bd953c87": {
     "model_module": "@jupyter-widgets/controls",
     "model_module_version": "1.5.0",
     "model_name": "HBoxModel",
     "state": {
      "_dom_classes": [],
      "_model_module": "@jupyter-widgets/controls",
      "_model_module_version": "1.5.0",
      "_model_name": "HBoxModel",
      "_view_count": null,
      "_view_module": "@jupyter-widgets/controls",
      "_view_module_version": "1.5.0",
      "_view_name": "HBoxView",
      "box_style": "",
      "children": [
       "IPY_MODEL_a7e7d95121934bd4b3cf322636b5ec52",
       "IPY_MODEL_e62e6b3087364568b2919536eed930b4",
       "IPY_MODEL_a60bf0d288ce49f39ce301698528515a"
      ],
      "layout": "IPY_MODEL_6ab335fdf69045a7a183225814ac50b4"
     }
    },
    "ea368ae3cbb54a73a06d6fdf30457c02": {
     "model_module": "@jupyter-widgets/controls",
     "model_module_version": "1.5.0",
     "model_name": "ProgressStyleModel",
     "state": {
      "_model_module": "@jupyter-widgets/controls",
      "_model_module_version": "1.5.0",
      "_model_name": "ProgressStyleModel",
      "_view_count": null,
      "_view_module": "@jupyter-widgets/base",
      "_view_module_version": "1.2.0",
      "_view_name": "StyleView",
      "bar_color": null,
      "description_width": ""
     }
    },
    "eae6bab3eaf144a09787d03b0ca098d6": {
     "model_module": "@jupyter-widgets/controls",
     "model_module_version": "1.5.0",
     "model_name": "HTMLModel",
     "state": {
      "_dom_classes": [],
      "_model_module": "@jupyter-widgets/controls",
      "_model_module_version": "1.5.0",
      "_model_name": "HTMLModel",
      "_view_count": null,
      "_view_module": "@jupyter-widgets/controls",
      "_view_module_version": "1.5.0",
      "_view_name": "HTMLView",
      "description": "",
      "description_tooltip": null,
      "layout": "IPY_MODEL_fdd3ffacd3f34c66964b6f85402540fd",
      "placeholder": "​",
      "style": "IPY_MODEL_e4c489c42f2741b8afbef75d3a434084",
      "value": "100%"
     }
    },
    "eaf82b66a8dc4024823253ee260f79b5": {
     "model_module": "@jupyter-widgets/base",
     "model_module_version": "1.2.0",
     "model_name": "LayoutModel",
     "state": {
      "_model_module": "@jupyter-widgets/base",
      "_model_module_version": "1.2.0",
      "_model_name": "LayoutModel",
      "_view_count": null,
      "_view_module": "@jupyter-widgets/base",
      "_view_module_version": "1.2.0",
      "_view_name": "LayoutView",
      "align_content": null,
      "align_items": null,
      "align_self": null,
      "border": null,
      "bottom": null,
      "display": null,
      "flex": null,
      "flex_flow": null,
      "grid_area": null,
      "grid_auto_columns": null,
      "grid_auto_flow": null,
      "grid_auto_rows": null,
      "grid_column": null,
      "grid_gap": null,
      "grid_row": null,
      "grid_template_areas": null,
      "grid_template_columns": null,
      "grid_template_rows": null,
      "height": null,
      "justify_content": null,
      "justify_items": null,
      "left": null,
      "margin": null,
      "max_height": null,
      "max_width": null,
      "min_height": null,
      "min_width": null,
      "object_fit": null,
      "object_position": null,
      "order": null,
      "overflow": null,
      "overflow_x": null,
      "overflow_y": null,
      "padding": null,
      "right": null,
      "top": null,
      "visibility": null,
      "width": null
     }
    },
    "eafba377b54048dfa009934c3c928e4d": {
     "model_module": "@jupyter-widgets/controls",
     "model_module_version": "1.5.0",
     "model_name": "HBoxModel",
     "state": {
      "_dom_classes": [],
      "_model_module": "@jupyter-widgets/controls",
      "_model_module_version": "1.5.0",
      "_model_name": "HBoxModel",
      "_view_count": null,
      "_view_module": "@jupyter-widgets/controls",
      "_view_module_version": "1.5.0",
      "_view_name": "HBoxView",
      "box_style": "",
      "children": [
       "IPY_MODEL_c8ec8b2d7c3146eba8cca46c26e96ee6",
       "IPY_MODEL_9c15a6c5673640d59602ddae4e0fef0b",
       "IPY_MODEL_7c59ead8d64545529fb5cf0f00764298"
      ],
      "layout": "IPY_MODEL_84faec9de63d4577b857cb7ca7c39a6d"
     }
    },
    "ebd5afd701624f289204d48638ed2fbc": {
     "model_module": "@jupyter-widgets/base",
     "model_module_version": "1.2.0",
     "model_name": "LayoutModel",
     "state": {
      "_model_module": "@jupyter-widgets/base",
      "_model_module_version": "1.2.0",
      "_model_name": "LayoutModel",
      "_view_count": null,
      "_view_module": "@jupyter-widgets/base",
      "_view_module_version": "1.2.0",
      "_view_name": "LayoutView",
      "align_content": null,
      "align_items": null,
      "align_self": null,
      "border": null,
      "bottom": null,
      "display": null,
      "flex": null,
      "flex_flow": null,
      "grid_area": null,
      "grid_auto_columns": null,
      "grid_auto_flow": null,
      "grid_auto_rows": null,
      "grid_column": null,
      "grid_gap": null,
      "grid_row": null,
      "grid_template_areas": null,
      "grid_template_columns": null,
      "grid_template_rows": null,
      "height": null,
      "justify_content": null,
      "justify_items": null,
      "left": null,
      "margin": null,
      "max_height": null,
      "max_width": null,
      "min_height": null,
      "min_width": null,
      "object_fit": null,
      "object_position": null,
      "order": null,
      "overflow": null,
      "overflow_x": null,
      "overflow_y": null,
      "padding": null,
      "right": null,
      "top": null,
      "visibility": null,
      "width": null
     }
    },
    "ec3d0cbc0afc43c9ab68b457be93288b": {
     "model_module": "@jupyter-widgets/controls",
     "model_module_version": "1.5.0",
     "model_name": "DescriptionStyleModel",
     "state": {
      "_model_module": "@jupyter-widgets/controls",
      "_model_module_version": "1.5.0",
      "_model_name": "DescriptionStyleModel",
      "_view_count": null,
      "_view_module": "@jupyter-widgets/base",
      "_view_module_version": "1.2.0",
      "_view_name": "StyleView",
      "description_width": ""
     }
    },
    "ed099636e26f4dd881e82ce679c19979": {
     "model_module": "@jupyter-widgets/base",
     "model_module_version": "1.2.0",
     "model_name": "LayoutModel",
     "state": {
      "_model_module": "@jupyter-widgets/base",
      "_model_module_version": "1.2.0",
      "_model_name": "LayoutModel",
      "_view_count": null,
      "_view_module": "@jupyter-widgets/base",
      "_view_module_version": "1.2.0",
      "_view_name": "LayoutView",
      "align_content": null,
      "align_items": null,
      "align_self": null,
      "border": null,
      "bottom": null,
      "display": null,
      "flex": null,
      "flex_flow": null,
      "grid_area": null,
      "grid_auto_columns": null,
      "grid_auto_flow": null,
      "grid_auto_rows": null,
      "grid_column": null,
      "grid_gap": null,
      "grid_row": null,
      "grid_template_areas": null,
      "grid_template_columns": null,
      "grid_template_rows": null,
      "height": null,
      "justify_content": null,
      "justify_items": null,
      "left": null,
      "margin": null,
      "max_height": null,
      "max_width": null,
      "min_height": null,
      "min_width": null,
      "object_fit": null,
      "object_position": null,
      "order": null,
      "overflow": null,
      "overflow_x": null,
      "overflow_y": null,
      "padding": null,
      "right": null,
      "top": null,
      "visibility": null,
      "width": null
     }
    },
    "ee3b7afab0f349b2a8a7a2c0e157f851": {
     "model_module": "@jupyter-widgets/controls",
     "model_module_version": "1.5.0",
     "model_name": "ProgressStyleModel",
     "state": {
      "_model_module": "@jupyter-widgets/controls",
      "_model_module_version": "1.5.0",
      "_model_name": "ProgressStyleModel",
      "_view_count": null,
      "_view_module": "@jupyter-widgets/base",
      "_view_module_version": "1.2.0",
      "_view_name": "StyleView",
      "bar_color": null,
      "description_width": ""
     }
    },
    "effd4c06dcdb44ae9027dbe846438c83": {
     "model_module": "@jupyter-widgets/controls",
     "model_module_version": "1.5.0",
     "model_name": "FloatProgressModel",
     "state": {
      "_dom_classes": [],
      "_model_module": "@jupyter-widgets/controls",
      "_model_module_version": "1.5.0",
      "_model_name": "FloatProgressModel",
      "_view_count": null,
      "_view_module": "@jupyter-widgets/controls",
      "_view_module_version": "1.5.0",
      "_view_name": "ProgressView",
      "bar_style": "success",
      "description": "",
      "description_tooltip": null,
      "layout": "IPY_MODEL_9ceca09d9fdb4a0495d33bf3eef7e65e",
      "max": 5,
      "min": 0,
      "orientation": "horizontal",
      "style": "IPY_MODEL_d7a01acdb98f435489fed6bf1a5b3e4f",
      "value": 5
     }
    },
    "f2a98ab2360c418cb7c7d5a71b3d1361": {
     "model_module": "@jupyter-widgets/base",
     "model_module_version": "1.2.0",
     "model_name": "LayoutModel",
     "state": {
      "_model_module": "@jupyter-widgets/base",
      "_model_module_version": "1.2.0",
      "_model_name": "LayoutModel",
      "_view_count": null,
      "_view_module": "@jupyter-widgets/base",
      "_view_module_version": "1.2.0",
      "_view_name": "LayoutView",
      "align_content": null,
      "align_items": null,
      "align_self": null,
      "border": null,
      "bottom": null,
      "display": null,
      "flex": null,
      "flex_flow": null,
      "grid_area": null,
      "grid_auto_columns": null,
      "grid_auto_flow": null,
      "grid_auto_rows": null,
      "grid_column": null,
      "grid_gap": null,
      "grid_row": null,
      "grid_template_areas": null,
      "grid_template_columns": null,
      "grid_template_rows": null,
      "height": null,
      "justify_content": null,
      "justify_items": null,
      "left": null,
      "margin": null,
      "max_height": null,
      "max_width": null,
      "min_height": null,
      "min_width": null,
      "object_fit": null,
      "object_position": null,
      "order": null,
      "overflow": null,
      "overflow_x": null,
      "overflow_y": null,
      "padding": null,
      "right": null,
      "top": null,
      "visibility": null,
      "width": null
     }
    },
    "f67c747217894a0fb1ab34baadf0599f": {
     "model_module": "@jupyter-widgets/controls",
     "model_module_version": "1.5.0",
     "model_name": "HBoxModel",
     "state": {
      "_dom_classes": [],
      "_model_module": "@jupyter-widgets/controls",
      "_model_module_version": "1.5.0",
      "_model_name": "HBoxModel",
      "_view_count": null,
      "_view_module": "@jupyter-widgets/controls",
      "_view_module_version": "1.5.0",
      "_view_name": "HBoxView",
      "box_style": "",
      "children": [
       "IPY_MODEL_eae6bab3eaf144a09787d03b0ca098d6",
       "IPY_MODEL_456331da10564aa38300266f8fbbb51d",
       "IPY_MODEL_7292b33c3cba4b17b1244304d3ce3085"
      ],
      "layout": "IPY_MODEL_94435d4e63bd4d96acc8cf2cd5a13972"
     }
    },
    "f6f802e961ef4be6a7c3df9edd382497": {
     "model_module": "@jupyter-widgets/controls",
     "model_module_version": "1.5.0",
     "model_name": "ButtonModel",
     "state": {
      "_dom_classes": [],
      "_model_module": "@jupyter-widgets/controls",
      "_model_module_version": "1.5.0",
      "_model_name": "ButtonModel",
      "_view_count": null,
      "_view_module": "@jupyter-widgets/controls",
      "_view_module_version": "1.5.0",
      "_view_name": "ButtonView",
      "button_style": "",
      "description": "Login",
      "disabled": false,
      "icon": "",
      "layout": "IPY_MODEL_9d15a9f1b03546fea5fbca5e39e9daaa",
      "style": "IPY_MODEL_de28bc73b90b4b7d854106dcc8d315f3",
      "tooltip": ""
     }
    },
    "f7dc013178f5427aab2a5caf9ce36dbf": {
     "model_module": "@jupyter-widgets/controls",
     "model_module_version": "1.5.0",
     "model_name": "DescriptionStyleModel",
     "state": {
      "_model_module": "@jupyter-widgets/controls",
      "_model_module_version": "1.5.0",
      "_model_name": "DescriptionStyleModel",
      "_view_count": null,
      "_view_module": "@jupyter-widgets/base",
      "_view_module_version": "1.2.0",
      "_view_name": "StyleView",
      "description_width": ""
     }
    },
    "fc320dc40e63481ba4ae0a7b099ca82d": {
     "model_module": "@jupyter-widgets/base",
     "model_module_version": "1.2.0",
     "model_name": "LayoutModel",
     "state": {
      "_model_module": "@jupyter-widgets/base",
      "_model_module_version": "1.2.0",
      "_model_name": "LayoutModel",
      "_view_count": null,
      "_view_module": "@jupyter-widgets/base",
      "_view_module_version": "1.2.0",
      "_view_name": "LayoutView",
      "align_content": null,
      "align_items": null,
      "align_self": null,
      "border": null,
      "bottom": null,
      "display": null,
      "flex": null,
      "flex_flow": null,
      "grid_area": null,
      "grid_auto_columns": null,
      "grid_auto_flow": null,
      "grid_auto_rows": null,
      "grid_column": null,
      "grid_gap": null,
      "grid_row": null,
      "grid_template_areas": null,
      "grid_template_columns": null,
      "grid_template_rows": null,
      "height": null,
      "justify_content": null,
      "justify_items": null,
      "left": null,
      "margin": null,
      "max_height": null,
      "max_width": null,
      "min_height": null,
      "min_width": null,
      "object_fit": null,
      "object_position": null,
      "order": null,
      "overflow": null,
      "overflow_x": null,
      "overflow_y": null,
      "padding": null,
      "right": null,
      "top": null,
      "visibility": null,
      "width": null
     }
    },
    "fd43a043ce7c4b878ade15f6bbf55977": {
     "model_module": "@jupyter-widgets/controls",
     "model_module_version": "1.5.0",
     "model_name": "HBoxModel",
     "state": {
      "_dom_classes": [],
      "_model_module": "@jupyter-widgets/controls",
      "_model_module_version": "1.5.0",
      "_model_name": "HBoxModel",
      "_view_count": null,
      "_view_module": "@jupyter-widgets/controls",
      "_view_module_version": "1.5.0",
      "_view_name": "HBoxView",
      "box_style": "",
      "children": [
       "IPY_MODEL_e0888123f0d2455d9f565939a8abda4e",
       "IPY_MODEL_3544f17e723f4ade9356e0eacd57c4f5",
       "IPY_MODEL_df32789a34fe494c9a8791a8d8c70c69"
      ],
      "layout": "IPY_MODEL_b362a9179f894ff5b879bbae73fe41b2"
     }
    },
    "fdd3ffacd3f34c66964b6f85402540fd": {
     "model_module": "@jupyter-widgets/base",
     "model_module_version": "1.2.0",
     "model_name": "LayoutModel",
     "state": {
      "_model_module": "@jupyter-widgets/base",
      "_model_module_version": "1.2.0",
      "_model_name": "LayoutModel",
      "_view_count": null,
      "_view_module": "@jupyter-widgets/base",
      "_view_module_version": "1.2.0",
      "_view_name": "LayoutView",
      "align_content": null,
      "align_items": null,
      "align_self": null,
      "border": null,
      "bottom": null,
      "display": null,
      "flex": null,
      "flex_flow": null,
      "grid_area": null,
      "grid_auto_columns": null,
      "grid_auto_flow": null,
      "grid_auto_rows": null,
      "grid_column": null,
      "grid_gap": null,
      "grid_row": null,
      "grid_template_areas": null,
      "grid_template_columns": null,
      "grid_template_rows": null,
      "height": null,
      "justify_content": null,
      "justify_items": null,
      "left": null,
      "margin": null,
      "max_height": null,
      "max_width": null,
      "min_height": null,
      "min_width": null,
      "object_fit": null,
      "object_position": null,
      "order": null,
      "overflow": null,
      "overflow_x": null,
      "overflow_y": null,
      "padding": null,
      "right": null,
      "top": null,
      "visibility": null,
      "width": null
     }
    }
   }
  }
 },
 "nbformat": 4,
 "nbformat_minor": 1
}
