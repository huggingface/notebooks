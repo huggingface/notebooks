{
  "cells": [
    {
      "cell_type": "markdown",
      "metadata": {
        "id": "vahT23S175ma"
      },
      "source": [
        "# Load adapters\n"
      ]
    },
    {
      "cell_type": "markdown",
      "metadata": {
        "id": "ys4Aygra8p1l"
      },
      "source": [
        "[[open-in-colab]]\n",
        "\n",
        "There are several [training](../training/overview) techniques for personalizing diffusion models to generate images of a specific subject or images in certain styles. Each of these training methods produces a different type of adapter. Some of the adapters generate an entirely new model, while other adapters only modify a smaller set of embeddings or weights. This means the loading process for each adapter is also different.\n",
        "\n",
        "This guide will show you how to load DreamBooth, textual inversion, and LoRA weights."
      ]
    },
    {
      "cell_type": "markdown",
      "metadata": {
        "id": "JHZnmrdd8uv_"
      },
      "source": [
        "<Tip>\n",
        "\n",
        "Feel free to browse the [Stable Diffusion Conceptualizer](https://huggingface.co/spaces/sd-concepts-library/stable-diffusion-conceptualizer), [LoRA the Explorer](https://huggingface.co/spaces/multimodalart/LoraTheExplorer), and the [Diffusers Models Gallery](https://huggingface.co/spaces/huggingface-projects/diffusers-gallery) for checkpoints and embeddings to use.\n",
        "\n",
        "</Tip>"
      ]
    },
    {
      "cell_type": "markdown",
      "metadata": {
        "id": "WV80xOuoRrn3"
      },
      "source": [
        "## Import library"
      ]
    },
    {
      "cell_type": "code",
      "execution_count": null,
      "metadata": {
        "id": "NhEoQ5weRu8k"
      },
      "outputs": [],
      "source": [
        "! pip install diffusers transformers accelerate peft"
      ]
    },
    {
      "cell_type": "markdown",
      "metadata": {
        "id": "vX_u93us8yE1"
      },
      "source": [
        "## DreamBooth\n"
      ]
    },
    {
      "cell_type": "markdown",
      "metadata": {
        "id": "sAANdQl_81K-"
      },
      "source": [
        "[DreamBooth](https://dreambooth.github.io/) finetunes an *entire diffusion model* on just several images of a subject to generate images of that subject in new styles and settings. This method works by using a special word in the prompt that the model learns to associate with the subject image. Of all the training methods, DreamBooth produces the largest file size (usually a few GBs) because it is a full checkpoint model."
      ]
    },
    {
      "cell_type": "markdown",
      "metadata": {
        "id": "xfkbMU_X83de"
      },
      "source": [
        "Let's load the [herge_style](https://huggingface.co/sd-dreambooth-library/herge-style) checkpoint, which is trained on just 10 images drawn by Hergé, to generate images in that style. For it to work, you need to include the special word `herge_style` in your prompt to trigger the checkpoint:"
      ]
    },
    {
      "cell_type": "code",
      "execution_count": null,
      "metadata": {
        "id": "A8nE-KCd8y2R"
      },
      "outputs": [],
      "source": [
        "from diffusers import AutoPipelineForText2Image\n",
        "import torch\n",
        "\n",
        "pipeline = AutoPipelineForText2Image.from_pretrained(\"sd-dreambooth-library/herge-style\", torch_dtype=torch.float16).to(\"cuda\")\n",
        "prompt = \"A cute herge_style brown bear eating a slice of pizza, stunning color scheme, masterpiece, illustration\"\n",
        "image = pipeline(prompt).images[0]\n",
        "image"
      ]
    },
    {
      "cell_type": "markdown",
      "metadata": {
        "id": "iOJYcCyB9CxA"
      },
      "source": [
        "<div class=\"flex justify-center\">\n",
        "    <img src=\"https://huggingface.co/datasets/huggingface/documentation-images/resolve/main/diffusers/load_dreambooth.png\" />\n",
        "</div>"
      ]
    },
    {
      "cell_type": "markdown",
      "metadata": {
        "id": "z9Q5AAVu9RYu"
      },
      "source": [
        "## Textual inversion\n"
      ]
    },
    {
      "cell_type": "markdown",
      "metadata": {
        "id": "dx8aqSAU9Ts8"
      },
      "source": [
        "[Textual inversion](https://textual-inversion.github.io/) is very similar to DreamBooth and it can also personalize a diffusion model to generate certain concepts (styles, objects) from just a few images. This method works by training and finding new embeddings that represent the images you provide with a special word in the prompt. As a result, the diffusion model weights stay the same and the training process produces a relatively tiny (a few KBs) file.\n",
        "\n",
        "Because textual inversion creates embeddings, it cannot be used on its own like DreamBooth and requires another model."
      ]
    },
    {
      "cell_type": "code",
      "execution_count": null,
      "metadata": {
        "id": "5u_atzMF9SCk"
      },
      "outputs": [],
      "source": [
        "from diffusers import AutoPipelineForText2Image\n",
        "import torch\n",
        "\n",
        "pipeline = AutoPipelineForText2Image.from_pretrained(\"stable-diffusion-v1-5/stable-diffusion-v1-5\", torch_dtype=torch.float16).to(\"cuda\")"
      ]
    },
    {
      "cell_type": "markdown",
      "metadata": {
        "id": "L1vh1rUoNZ89"
      },
      "source": [
        "Now you can load the textual inversion embeddings with the [`~loaders.TextualInversionLoaderMixin.load_textual_inversion`] method and generate some images. Let's load the [sd-concepts-library/gta5-artwork](https://huggingface.co/sd-concepts-library/gta5-artwork) embeddings and you'll need to include the special word `<gta5-artwork>` in your prompt to trigger it:\n"
      ]
    },
    {
      "cell_type": "code",
      "execution_count": null,
      "metadata": {
        "id": "b8YvUkxkNeIn"
      },
      "outputs": [],
      "source": [
        "pipeline.load_textual_inversion(\"sd-concepts-library/gta5-artwork\")\n",
        "prompt = \"A cute brown bear eating a slice of pizza, stunning color scheme, masterpiece, illustration, <gta5-artwork> style\"\n",
        "image = pipeline(prompt).images[0]\n",
        "image"
      ]
    },
    {
      "cell_type": "markdown",
      "metadata": {
        "id": "teaiR4yT9gVT"
      },
      "source": [
        "<div class=\"flex justify-center\">\n",
        "    <img src=\"https://huggingface.co/datasets/huggingface/documentation-images/resolve/main/diffusers/load_txt_embed.png\" />\n",
        "</div>"
      ]
    },
    {
      "cell_type": "markdown",
      "metadata": {
        "id": "hmb5VIrv9heU"
      },
      "source": [
        "Textual inversion can also be trained on undesirable things to create *negative embeddings* to discourage a model from generating images with those undesirable things like blurry images or extra fingers on a hand. This can be an easy way to quickly improve your prompt. You'll also load the embeddings with [`~loaders.TextualInversionLoaderMixin.load_textual_inversion`], but this time, you'll need two more parameters:"
      ]
    },
    {
      "cell_type": "markdown",
      "metadata": {
        "id": "AlvyLWOo9oib"
      },
      "source": [
        "- `weight_name`: specifies the weight file to load if the file was saved in the 🤗 Diffusers format with a specific name or if the file is stored in the A1111 format\n",
        "- `token`: specifies the special word to use in the prompt to trigger the embeddings"
      ]
    },
    {
      "cell_type": "markdown",
      "metadata": {
        "id": "BDoZnCiP9pNq"
      },
      "source": [
        "Let's load the [EvilEngine/easynegative](https://huggingface.co/EvilEngine/easynegative) embeddings:"
      ]
    },
    {
      "cell_type": "code",
      "execution_count": null,
      "metadata": {
        "id": "1cFlHV1t9lZk"
      },
      "outputs": [],
      "source": [
        "pipeline.load_textual_inversion(\n",
        "    \"EvilEngine/easynegative\", weight_name=\"easynegative.safetensors\", token=\"EasyNegative\"\n",
        ")"
      ]
    },
    {
      "cell_type": "markdown",
      "metadata": {
        "id": "47GokK459xeq"
      },
      "source": [
        "Now you can use the `token` to generate an image with the negative embeddings:\n"
      ]
    },
    {
      "cell_type": "code",
      "execution_count": null,
      "metadata": {
        "id": "ejHkRJ6893bY"
      },
      "outputs": [],
      "source": [
        "prompt = \"A cute brown bear eating a slice of pizza, stunning color scheme, masterpiece, illustration, EasyNegative\"\n",
        "negative_prompt = \"EasyNegative\"\n",
        "\n",
        "image = pipeline(prompt, negative_prompt=negative_prompt, num_inference_steps=50).images[0]\n",
        "image"
      ]
    },
    {
      "cell_type": "markdown",
      "metadata": {
        "id": "7SQ2bNtB9_bY"
      },
      "source": [
        "<div class=\"flex justify-center\">\n",
        "    <img src=\"https://huggingface.co/datasets/huggingface/documentation-images/resolve/main/diffusers/load_neg_embed.png\" />\n",
        "</div>"
      ]
    },
    {
      "cell_type": "markdown",
      "metadata": {
        "id": "TUBSaO0vNuoO"
      },
      "source": [
        "## LoRA"
      ]
    },
    {
      "cell_type": "markdown",
      "metadata": {
        "id": "2vB3UqhsNycM"
      },
      "source": [
        "[Low-Rank Adaptation (LoRA)](https://huggingface.co/papers/2106.09685) is a popular training technique because it is fast and generates smaller file sizes (a couple hundred MBs). Like the other methods in this guide, LoRA can train a model to learn new styles from just a few images. It works by inserting new weights into the diffusion model and then only the new weights are trained instead of the entire model. This makes LoRAs faster to train and easier to store."
      ]
    },
    {
      "cell_type": "markdown",
      "metadata": {
        "id": "2MabIFVwN0Qs"
      },
      "source": [
        "<Tip>\n",
        "\n",
        "LoRA is a very general training technique that can be used with other training methods. For example, it is common to train a model with DreamBooth and LoRA. It is also increasingly common to load and merge multiple LoRAs to create new and unique images. You can learn more about it in the in-depth [Merge LoRAs](merge_loras) guide since merging is outside the scope of this loading guide.\n",
        "\n",
        "</Tip>"
      ]
    },
    {
      "cell_type": "markdown",
      "metadata": {
        "id": "Bdz6PNwtN4h3"
      },
      "source": [
        "LoRAs also need to be used with another model:\n"
      ]
    },
    {
      "cell_type": "code",
      "execution_count": null,
      "metadata": {
        "id": "xEW25cMEN5z5"
      },
      "outputs": [],
      "source": [
        "from diffusers import AutoPipelineForText2Image\n",
        "import torch\n",
        "\n",
        "pipeline = AutoPipelineForText2Image.from_pretrained(\"stabilityai/stable-diffusion-xl-base-1.0\", torch_dtype=torch.float16).to(\"cuda\")"
      ]
    },
    {
      "cell_type": "markdown",
      "metadata": {
        "id": "ZbR0WDKON99F"
      },
      "source": [
        "Then use the [`~loaders.StableDiffusionLoraLoaderMixin.load_lora_weights`] method to load the [ostris/super-cereal-sdxl-lora](https://huggingface.co/ostris/super-cereal-sdxl-lora) weights and specify the weights filename from the repository:"
      ]
    },
    {
      "cell_type": "code",
      "execution_count": null,
      "metadata": {
        "id": "F2Z-mu0qN-pn"
      },
      "outputs": [],
      "source": [
        "pipeline.load_lora_weights(\"ostris/super-cereal-sdxl-lora\", weight_name=\"cereal_box_sdxl_v1.safetensors\")\n",
        "prompt = \"bears, pizza bites\"\n",
        "image = pipeline(prompt).images[0]\n",
        "image"
      ]
    },
    {
      "cell_type": "markdown",
      "metadata": {
        "id": "Jd4aCwdzOCpU"
      },
      "source": [
        "<div class=\"flex justify-center\">\n",
        "    <img src=\"https://huggingface.co/datasets/huggingface/documentation-images/resolve/main/diffusers/load_lora.png\" />\n",
        "</div>"
      ]
    },
    {
      "cell_type": "markdown",
      "metadata": {
        "id": "5IcJxE7ZOGQi"
      },
      "source": [
        "The [`~loaders.StableDiffusionLoraLoaderMixin.load_lora_weights`] method loads LoRA weights into both the UNet and text encoder. It is the preferred way for loading LoRAs because it can handle cases where:"
      ]
    },
    {
      "cell_type": "markdown",
      "metadata": {
        "id": "b2xjWFFBORjH"
      },
      "source": [
        "- the LoRA weights don't have separate identifiers for the UNet and text encoder\n",
        "- the LoRA weights have separate identifiers for the UNet and text encoder"
      ]
    },
    {
      "cell_type": "markdown",
      "metadata": {
        "id": "G5sZ-JTKOTc_"
      },
      "source": [
        "But if you only need to load LoRA weights into the UNet, then you can use the [`~loaders.UNet2DConditionLoadersMixin.load_attn_procs`] method. Let's load the [jbilcke-hf/sdxl-cinematic-1](https://huggingface.co/jbilcke-hf/sdxl-cinematic-1) LoRA:"
      ]
    },
    {
      "cell_type": "code",
      "execution_count": null,
      "metadata": {
        "id": "ajyP7E1zOVIU"
      },
      "outputs": [],
      "source": [
        "from diffusers import AutoPipelineForText2Image\n",
        "import torch\n",
        "\n",
        "pipeline = AutoPipelineForText2Image.from_pretrained(\"stabilityai/stable-diffusion-xl-base-1.0\", torch_dtype=torch.float16).to(\"cuda\")\n",
        "pipeline.unet.load_attn_procs(\"jbilcke-hf/sdxl-cinematic-1\", weight_name=\"pytorch_lora_weights.safetensors\")\n",
        "\n",
        "# use cnmt in the prompt to trigger the LoRA\n",
        "prompt = \"A cute cnmt eating a slice of pizza, stunning color scheme, masterpiece, illustration\"\n",
        "image = pipeline(prompt).images[0]\n",
        "image"
      ]
    },
    {
      "cell_type": "markdown",
      "metadata": {
        "id": "SR2j4R_zOZ2x"
      },
      "source": [
        "<div class=\"flex justify-center\">\n",
        "    <img src=\"https://huggingface.co/datasets/huggingface/documentation-images/resolve/main/diffusers/load_attn_proc.png\" />\n",
        "</div>"
      ]
    },
    {
      "cell_type": "markdown",
      "metadata": {
        "id": "cWYoA9A1ObsG"
      },
      "source": [
        "To unload the LoRA weights, use the [`~loaders.StableDiffusionLoraLoaderMixin.unload_lora_weights`] method to discard the LoRA weights and restore the model to its original weights:"
      ]
    },
    {
      "cell_type": "code",
      "execution_count": null,
      "metadata": {
        "id": "dAR5Qs1_Ofk-"
      },
      "outputs": [],
      "source": [
        "pipeline.unload_lora_weights()"
      ]
    },
    {
      "cell_type": "markdown",
      "metadata": {
        "id": "4eyS5UV9OhcZ"
      },
      "source": [
        "### Adjust LoRA weight scale\n"
      ]
    },
    {
      "cell_type": "markdown",
      "metadata": {
        "id": "16FdmD-7Ojm7"
      },
      "source": [
        "For both [`~loaders.StableDiffusionLoraLoaderMixin.load_lora_weights`] and [`~loaders.UNet2DConditionLoadersMixin.load_attn_procs`], you can pass the `cross_attention_kwargs={\"scale\": 0.5}` parameter to adjust how much of the LoRA weights to use. A value of `0` is the same as only using the base model weights, and a value of `1` is equivalent to using the fully finetuned LoRA."
      ]
    },
    {
      "cell_type": "markdown",
      "metadata": {
        "id": "ET4gzSJBOmRx"
      },
      "source": [
        "For more granular control on the amount of LoRA weights used per layer, you can use [`~loaders.StableDiffusionLoraLoaderMixin.set_adapters`] and pass a dictionary specifying by how much to scale the weights in each layer by."
      ]
    },
    {
      "cell_type": "code",
      "execution_count": null,
      "metadata": {
        "id": "buqts1axOo3f"
      },
      "outputs": [],
      "source": [
        "# pseudo code\n",
        "pipe = ... # create pipeline\n",
        "pipe.load_lora_weights(..., adapter_name=\"my_adapter\")\n",
        "scales = {\n",
        "    \"text_encoder\": 0.5,\n",
        "    \"text_encoder_2\": 0.5,  # only usable if pipe has a 2nd text encoder\n",
        "    \"unet\": {\n",
        "        \"down\": 0.9,  # all transformers in the down-part will use scale 0.9\n",
        "        # \"mid\"  # in this example \"mid\" is not given, therefore all transformers in the mid part will use the default scale 1.0\n",
        "        \"up\": {\n",
        "            \"block_0\": 0.6,  # all 3 transformers in the 0th block in the up-part will use scale 0.6\n",
        "            \"block_1\": [0.4, 0.8, 1.0],  # the 3 transformers in the 1st block in the up-part will use scales 0.4, 0.8 and 1.0 respectively\n",
        "        }\n",
        "    }\n",
        "}\n",
        "pipe.set_adapters(\"my_adapter\", scales)"
      ]
    },
    {
      "cell_type": "markdown",
      "metadata": {
        "id": "l9mzQbxRO4K0"
      },
      "source": [
        "This also works with multiple adapters - see [this guide](https://huggingface.co/docs/diffusers/tutorials/using_peft_for_inference#customize-adapters-strength) for how to do it."
      ]
    },
    {
      "cell_type": "markdown",
      "metadata": {
        "id": "3OY7pUDtO6Cm"
      },
      "source": [
        "<Tip warning={true}>\n",
        "\n",
        "Currently, [`~loaders.StableDiffusionLoraLoaderMixin.set_adapters`] only supports scaling attention weights. If a LoRA has other parts (e.g., resnets or down-/upsamplers), they will keep a scale of 1.0.\n",
        "\n",
        "</Tip>"
      ]
    },
    {
      "cell_type": "markdown",
      "metadata": {
        "id": "RU9hgNC-O9xi"
      },
      "source": [
        "### Kohya and TheLastBen\n"
      ]
    },
    {
      "cell_type": "markdown",
      "metadata": {
        "id": "EquT23QqO-wV"
      },
      "source": [
        "Other popular LoRA trainers from the community include those by [Kohya](https://github.com/kohya-ss/sd-scripts/) and [TheLastBen](https://github.com/TheLastBen/fast-stable-diffusion). These trainers create different LoRA checkpoints than those trained by 🤗 Diffusers, but they can still be loaded in the same way."
      ]
    },
    {
      "cell_type": "markdown",
      "metadata": {
        "id": "Bna9AiuPPBYn"
      },
      "source": [
        "<hfoptions id=\"other-trainers\">\n",
        "<hfoption id=\"Kohya\">"
      ]
    },
    {
      "cell_type": "markdown",
      "metadata": {
        "id": "MdEvHiqSPDpl"
      },
      "source": [
        "To load a Kohya LoRA, let's download the [Blueprintify SD XL 1.0](https://civitai.com/models/150986/blueprintify-sd-xl-10) checkpoint from [Civitai](https://civitai.com/) as an example:"
      ]
    },
    {
      "cell_type": "code",
      "execution_count": null,
      "metadata": {
        "id": "iAw4BtsfPEO2"
      },
      "outputs": [],
      "source": [
        "!wget https://civitai.com/api/download/models/168776 -O blueprintify-sd-xl-10.safetensors"
      ]
    },
    {
      "cell_type": "markdown",
      "metadata": {
        "id": "flvhrBiMPNaL"
      },
      "source": [
        "Load the LoRA checkpoint with the [`~loaders.StableDiffusionLoraLoaderMixin.load_lora_weights`] method, and specify the filename in the `weight_name` parameter:"
      ]
    },
    {
      "cell_type": "code",
      "execution_count": null,
      "metadata": {
        "id": "7Wr7XTWiPPms"
      },
      "outputs": [],
      "source": [
        "from diffusers import AutoPipelineForText2Image\n",
        "import torch\n",
        "\n",
        "pipeline = AutoPipelineForText2Image.from_pretrained(\"stabilityai/stable-diffusion-xl-base-1.0\", torch_dtype=torch.float16).to(\"cuda\")\n",
        "pipeline.load_lora_weights(\"path/to/weights\", weight_name=\"blueprintify-sd-xl-10.safetensors\")"
      ]
    },
    {
      "cell_type": "markdown",
      "metadata": {
        "id": "ylw_VPV0PQEP"
      },
      "source": [
        "Generate an image:"
      ]
    },
    {
      "cell_type": "code",
      "execution_count": null,
      "metadata": {
        "id": "Dv__NuCpPReO"
      },
      "outputs": [],
      "source": [
        "# use bl3uprint in the prompt to trigger the LoRA\n",
        "prompt = \"bl3uprint, a highly detailed blueprint of the eiffel tower, explaining how to build all parts, many txt, blueprint grid backdrop\"\n",
        "image = pipeline(prompt).images[0]\n",
        "image"
      ]
    },
    {
      "cell_type": "markdown",
      "metadata": {
        "id": "53b7yBQaPW6S"
      },
      "source": [
        "<Tip warning={true}>\n",
        "\n",
        "Some limitations of using Kohya LoRAs with 🤗 Diffusers include:\n",
        "\n",
        "- Images may not look like those generated by UIs - like ComfyUI - for multiple reasons, which are explained [here](https://github.com/huggingface/diffusers/pull/4287/#issuecomment-1655110736).\n",
        "- [LyCORIS checkpoints](https://github.com/KohakuBlueleaf/LyCORIS) aren't fully supported. The [`~loaders.StableDiffusionLoraLoaderMixin.load_lora_weights`] method loads LyCORIS checkpoints with LoRA and LoCon modules, but Hada and LoKR are not supported.\n",
        "\n",
        "</Tip>"
      ]
    },
    {
      "cell_type": "markdown",
      "metadata": {
        "id": "euyrvb2fPeYj"
      },
      "source": [
        "</hfoption>\n",
        "<hfoption id=\"TheLastBen\">"
      ]
    },
    {
      "cell_type": "markdown",
      "metadata": {
        "id": "HamQmxSKPjic"
      },
      "source": [
        "Loading a checkpoint from TheLastBen is very similar. For example, to load the [TheLastBen/William_Eggleston_Style_SDXL](https://huggingface.co/TheLastBen/William_Eggleston_Style_SDXL) checkpoint:"
      ]
    },
    {
      "cell_type": "code",
      "execution_count": null,
      "metadata": {
        "id": "x9xC4sD3PXhU"
      },
      "outputs": [],
      "source": [
        "from diffusers import AutoPipelineForText2Image\n",
        "import torch\n",
        "\n",
        "pipeline = AutoPipelineForText2Image.from_pretrained(\"stabilityai/stable-diffusion-xl-base-1.0\", torch_dtype=torch.float16).to(\"cuda\")\n",
        "pipeline.load_lora_weights(\"TheLastBen/William_Eggleston_Style_SDXL\", weight_name=\"wegg.safetensors\")\n",
        "\n",
        "# use by william eggleston in the prompt to trigger the LoRA\n",
        "prompt = \"a house by william eggleston, sunrays, beautiful, sunlight, sunrays, beautiful\"\n",
        "image = pipeline(prompt=prompt).images[0]\n",
        "image"
      ]
    },
    {
      "cell_type": "markdown",
      "metadata": {
        "id": "LXJ1WOeXPqR6"
      },
      "source": [
        "</hfoption>\n",
        "</hfoptions>"
      ]
    },
    {
      "cell_type": "markdown",
      "metadata": {
        "id": "9HVpSrWoPq-7"
      },
      "source": [
        "## IP-Adapter\n"
      ]
    },
    {
      "cell_type": "markdown",
      "metadata": {
        "id": "Zs4aauEZPtBt"
      },
      "source": [
        "[IP-Adapter](https://ip-adapter.github.io/) is a lightweight adapter that enables image prompting for any diffusion model. This adapter works by decoupling the cross-attention layers of the image and text features. All the other model components are frozen and only the embedded image features in the UNet are trained. As a result, IP-Adapter files are typically only ~100MBs."
      ]
    },
    {
      "cell_type": "markdown",
      "metadata": {
        "id": "ZPB2TjhDPusW"
      },
      "source": [
        "You can learn more about how to use IP-Adapter for different tasks and specific use cases in the [IP-Adapter](../using-diffusers/ip_adapter) guide."
      ]
    },
    {
      "cell_type": "markdown",
      "metadata": {
        "id": "oVW66piFPx4f"
      },
      "source": [
        "> [!TIP]\n",
        "> Diffusers currently only supports IP-Adapter for some of the most popular pipelines. Feel free to open a feature request if you have a cool use case and want to integrate IP-Adapter with an unsupported pipeline!\n",
        "> Official IP-Adapter checkpoints are available from [h94/IP-Adapter](https://huggingface.co/h94/IP-Adapter)."
      ]
    },
    {
      "cell_type": "markdown",
      "metadata": {
        "id": "DK1pHpSoPzMo"
      },
      "source": [
        "To start, load a Stable Diffusion checkpoint."
      ]
    },
    {
      "cell_type": "code",
      "execution_count": null,
      "metadata": {
        "id": "f0nzgH0wP1X3"
      },
      "outputs": [],
      "source": [
        "from diffusers import AutoPipelineForText2Image\n",
        "import torch\n",
        "from diffusers.utils import load_image\n",
        "\n",
        "pipeline = AutoPipelineForText2Image.from_pretrained(\"stable-diffusion-v1-5/stable-diffusion-v1-5\", torch_dtype=torch.float16).to(\"cuda\")"
      ]
    },
    {
      "cell_type": "markdown",
      "metadata": {
        "id": "yf1kvtEBP4vX"
      },
      "source": [
        "Then load the IP-Adapter weights and add it to the pipeline with the [`~loaders.IPAdapterMixin.load_ip_adapter`] method."
      ]
    },
    {
      "cell_type": "code",
      "execution_count": null,
      "metadata": {
        "id": "tdV7ymDfP5P8"
      },
      "outputs": [],
      "source": [
        "pipeline.load_ip_adapter(\"h94/IP-Adapter\", subfolder=\"models\", weight_name=\"ip-adapter_sd15.bin\")"
      ]
    },
    {
      "cell_type": "markdown",
      "metadata": {
        "id": "SOq4U1z4P7YA"
      },
      "source": [
        "Once loaded, you can use the pipeline with an image and text prompt to guide the image generation process."
      ]
    },
    {
      "cell_type": "code",
      "execution_count": null,
      "metadata": {
        "id": "UPDGMeHAP9eT"
      },
      "outputs": [],
      "source": [
        "image = load_image(\"https://huggingface.co/datasets/huggingface/documentation-images/resolve/main/diffusers/load_neg_embed.png\")\n",
        "generator = torch.Generator(device=\"cpu\").manual_seed(33)\n",
        "images = pipeline(\n",
        "    prompt='best quality, high quality, wearing sunglasses',\n",
        "    ip_adapter_image=image,\n",
        "    negative_prompt=\"monochrome, lowres, bad anatomy, worst quality, low quality\",\n",
        "    num_inference_steps=50,\n",
        "    generator=generator,\n",
        ").images[0]\n",
        "images"
      ]
    },
    {
      "cell_type": "markdown",
      "metadata": {
        "id": "utsYrDAKQBrQ"
      },
      "source": [
        "<div class=\"flex justify-center\">\n",
        "    <img src=\"https://huggingface.co/datasets/YiYiXu/testing-images/resolve/main/ip-bear.png\" />\n",
        "</div>"
      ]
    },
    {
      "cell_type": "markdown",
      "metadata": {
        "id": "ThDA6_lxQCck"
      },
      "source": [
        "### IP-Adapter Plus\n"
      ]
    },
    {
      "cell_type": "markdown",
      "metadata": {
        "id": "aI4XjQKIQFYL"
      },
      "source": [
        "IP-Adapter relies on an image encoder to generate image features. If the IP-Adapter repository contains an `image_encoder` subfolder, the image encoder is automatically loaded and registered to the pipeline. Otherwise, you'll need to explicitly load the image encoder with a [`~transformers.CLIPVisionModelWithProjection`] model and pass it to the pipeline."
      ]
    },
    {
      "cell_type": "markdown",
      "metadata": {
        "id": "a7YAL3RzQGz8"
      },
      "source": [
        "This is the case for *IP-Adapter Plus* checkpoints which use the ViT-H image encoder."
      ]
    },
    {
      "cell_type": "code",
      "execution_count": null,
      "metadata": {
        "id": "NDTyQTIVQJ4A"
      },
      "outputs": [],
      "source": [
        "from transformers import CLIPVisionModelWithProjection\n",
        "\n",
        "image_encoder = CLIPVisionModelWithProjection.from_pretrained(\n",
        "    \"h94/IP-Adapter\",\n",
        "    subfolder=\"models/image_encoder\",\n",
        "    torch_dtype=torch.float16\n",
        ")\n",
        "\n",
        "pipeline = AutoPipelineForText2Image.from_pretrained(\n",
        "    \"stabilityai/stable-diffusion-xl-base-1.0\",\n",
        "    image_encoder=image_encoder,\n",
        "    torch_dtype=torch.float16\n",
        ").to(\"cuda\")\n",
        "\n",
        "pipeline.load_ip_adapter(\"h94/IP-Adapter\", subfolder=\"sdxl_models\", weight_name=\"ip-adapter-plus_sdxl_vit-h.safetensors\")"
      ]
    },
    {
      "cell_type": "markdown",
      "metadata": {
        "id": "EBKPZR4aQNfE"
      },
      "source": [
        "### IP-Adapter Face ID models"
      ]
    },
    {
      "cell_type": "markdown",
      "metadata": {
        "id": "9C6v4u6SQOb6"
      },
      "source": [
        "The IP-Adapter FaceID models are experimental IP Adapters that use image embeddings generated by `insightface` instead of CLIP image embeddings. Some of these models also use LoRA to improve ID consistency.\n",
        "You need to install `insightface` and all its requirements to use these models."
      ]
    },
    {
      "cell_type": "markdown",
      "metadata": {
        "id": "kjboVPeLQQw3"
      },
      "source": [
        "<Tip warning={true}>\n",
        "As InsightFace pretrained models are available for non-commercial research purposes, IP-Adapter-FaceID models are released exclusively for research purposes and are not intended for commercial use.\n",
        "</Tip>"
      ]
    },
    {
      "cell_type": "code",
      "execution_count": null,
      "metadata": {
        "id": "HA93TftHQTGS"
      },
      "outputs": [],
      "source": [
        "pipeline = AutoPipelineForText2Image.from_pretrained(\n",
        "    \"stabilityai/stable-diffusion-xl-base-1.0\",\n",
        "    torch_dtype=torch.float16\n",
        ").to(\"cuda\")\n",
        "\n",
        "pipeline.load_ip_adapter(\"h94/IP-Adapter-FaceID\", subfolder=None, weight_name=\"ip-adapter-faceid_sdxl.bin\", image_encoder_folder=None)"
      ]
    },
    {
      "cell_type": "markdown",
      "metadata": {
        "id": "_YMSxh1mQUoJ"
      },
      "source": [
        "If you want to use one of the two IP-Adapter FaceID Plus models, you must also load the CLIP image encoder, as this models use both `insightface` and CLIP image embeddings to achieve better photorealism."
      ]
    },
    {
      "cell_type": "code",
      "execution_count": null,
      "metadata": {
        "id": "iDPq8HLkQY4u"
      },
      "outputs": [],
      "source": [
        "from transformers import CLIPVisionModelWithProjection\n",
        "\n",
        "image_encoder = CLIPVisionModelWithProjection.from_pretrained(\n",
        "    \"laion/CLIP-ViT-H-14-laion2B-s32B-b79K\",\n",
        "    torch_dtype=torch.float16,\n",
        ")\n",
        "\n",
        "pipeline = AutoPipelineForText2Image.from_pretrained(\n",
        "    \"stable-diffusion-v1-5/stable-diffusion-v1-5\",\n",
        "    image_encoder=image_encoder,\n",
        "    torch_dtype=torch.float16\n",
        ").to(\"cuda\")\n",
        "\n",
        "pipeline.load_ip_adapter(\"h94/IP-Adapter-FaceID\", subfolder=None, weight_name=\"ip-adapter-faceid-plus_sd15.bin\")"
      ]
    }
  ],
  "metadata": {
    "accelerator": "GPU",
    "colab": {
      "gpuType": "A100",
      "machine_shape": "hm",
      "provenance": [],
      "toc_visible": true
    },
    "kernelspec": {
      "display_name": "Python 3",
      "name": "python3"
    },
    "language_info": {
      "name": "python"
    }
  },
  "nbformat": 4,
  "nbformat_minor": 0
}
