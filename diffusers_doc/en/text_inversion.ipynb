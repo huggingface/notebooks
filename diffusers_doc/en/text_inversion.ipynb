{
 "cells": [
  {
   "cell_type": "markdown",
   "metadata": {},
   "source": [
    "# Textual Inversion"
   ]
  },
  {
   "cell_type": "markdown",
   "metadata": {},
   "source": [
    "[Textual Inversion](https://arxiv.org/abs/2208.01618) is a technique for capturing novel concepts from a small number of example images. While the technique was originally demonstrated with a [latent diffusion model](https://github.com/CompVis/latent-diffusion), it has since been applied to other model variants like [Stable Diffusion](https://huggingface.co/docs/diffusers/main/en/conceptual/stable_diffusion). The learned concepts can be used to better control the images generated from text-to-image pipelines. It learns new \"words\" in the text encoder's embedding space, which are used within text prompts for personalized image generation.\n",
    "\n",
    "![Textual Inversion example](https://textual-inversion.github.io/static/images/editing/colorful_teapot.JPG)\n",
    "<small>By using just 3-5 images you can teach new concepts to a model such as Stable Diffusion for personalized image generation <a href=\"https://github.com/rinongal/textual_inversion\">(image source)</a>.</small>\n",
    "\n",
    "This guide will show you how to train a [`runwayml/stable-diffusion-v1-5`](https://huggingface.co/runwayml/stable-diffusion-v1-5) model with Textual Inversion. All the training scripts for Textual Inversion used in this guide can be found [here](https://github.com/huggingface/diffusers/tree/main/examples/textual_inversion) if you're interested in taking a closer look at how things work under the hood.\n",
    "\n",
    "<Tip>\n",
    "\n",
    "There is a community-created collection of trained Textual Inversion models in the [Stable Diffusion Textual Inversion Concepts Library](https://huggingface.co/sd-concepts-library) which are readily available for inference. Over time, this'll hopefully grow into a useful resource as more concepts are added!\n",
    "\n",
    "</Tip>\n",
    "\n",
    "Before you begin, make sure you install the library's training dependencies:\n",
    "\n",
    "```bash\n",
    "pip install diffusers accelerate transformers\n",
    "```\n",
    "\n",
    "After all the dependencies have been set up, initialize a [🤗Accelerate](https://github.com/huggingface/accelerate/) environment with:\n",
    "\n",
    "```bash\n",
    "accelerate config\n",
    "```\n",
    "\n",
    "To setup a default 🤗 Accelerate environment without choosing any configurations:\n",
    "\n",
    "```bash\n",
    "accelerate config default\n",
    "```\n",
    "\n",
    "Or if your environment doesn't support an interactive shell like a notebook, you can use:\n",
    "\n",
    "```bash\n",
    "from accelerate.utils import write_basic_config\n",
    "\n",
    "write_basic_config()\n",
    "```\n",
    "\n",
    "Finally, you try and [install xFormers](https://huggingface.co/docs/diffusers/main/en/training/optimization/xformers) to reduce your memory footprint with xFormers memory-efficient attention. Once you have xFormers installed, add the `--enable_xformers_memory_efficient_attention` argument to the training script. xFormers is not supported for Flax."
   ]
  },
  {
   "cell_type": "markdown",
   "metadata": {},
   "source": [
    "## Upload model to Hub"
   ]
  },
  {
   "cell_type": "markdown",
   "metadata": {},
   "source": [
    "If you want to store your model on the Hub, add the following argument to the training script:\n",
    "\n",
    "```bash\n",
    "--push_to_hub\n",
    "```"
   ]
  },
  {
   "cell_type": "markdown",
   "metadata": {},
   "source": [
    "## Save and load checkpoints"
   ]
  },
  {
   "cell_type": "markdown",
   "metadata": {},
   "source": [
    "It is often a good idea to regularly save checkpoints of your model during training. This way, you can resume training from a saved checkpoint if your training is interrupted for any reason. To save a checkpoint, pass the following argument to the training script to save the full training state in a subfolder in `output_dir` every 500 steps:\n",
    "\n",
    "```bash\n",
    "--checkpointing_steps=500\n",
    "```\n",
    "\n",
    "To resume training from a saved checkpoint, pass the following argument to the training script and the specific checkpoint you'd like to resume from:\n",
    "\n",
    "```bash\n",
    "--resume_from_checkpoint=\"checkpoint-1500\"\n",
    "```"
   ]
  },
  {
   "cell_type": "markdown",
   "metadata": {},
   "source": [
    "## Finetuning"
   ]
  },
  {
   "cell_type": "markdown",
   "metadata": {},
   "source": [
    "For your training dataset, download these [images of a cat toy](https://huggingface.co/datasets/diffusers/cat_toy_example) and store them in a directory. To use your own dataset, take a look at the [Create a dataset for training](https://huggingface.co/docs/diffusers/main/en/training/create_dataset) guide."
   ]
  },
  {
   "cell_type": "code",
   "execution_count": null,
   "metadata": {},
   "outputs": [],
   "source": [
    "from huggingface_hub import snapshot_download\n",
    "\n",
    "local_dir = \"./cat\"\n",
    "snapshot_download(\n",
    "    \"diffusers/cat_toy_example\", local_dir=local_dir, repo_type=\"dataset\", ignore_patterns=\".gitattributes\"\n",
    ")"
   ]
  },
  {
   "cell_type": "markdown",
   "metadata": {},
   "source": [
    "Specify the `MODEL_NAME` environment variable (either a Hub model repository id or a path to the directory containing the model weights) and pass it to the [`pretrained_model_name_or_path`](https://huggingface.co/docs/diffusers/en/api/diffusion_pipeline#diffusers.DiffusionPipeline.from_pretrained.pretrained_model_name_or_path) argument, and the `DATA_DIR` environment variable to the path of the directory containing the images. \n",
    "\n",
    "Now you can launch the [training script](https://github.com/huggingface/diffusers/blob/main/examples/textual_inversion/textual_inversion.py). The script creates and saves the following files to your repository: `learned_embeds.bin`, `token_identifier.txt`, and `type_of_concept.txt`.\n",
    "\n",
    "<Tip>\n",
    "\n",
    "💡 A full training run takes ~1 hour on one V100 GPU. While you're waiting for the training to complete, feel free to check out [how Textual Inversion works](#how-it-works) in the section below if you're curious!\n",
    "\n",
    "</Tip>\n",
    "\n",
    "```bash\n",
    "export MODEL_NAME=\"runwayml/stable-diffusion-v1-5\"\n",
    "export DATA_DIR=\"./cat\"\n",
    "\n",
    "accelerate launch textual_inversion.py \\\n",
    "  --pretrained_model_name_or_path=$MODEL_NAME \\\n",
    "  --train_data_dir=$DATA_DIR \\\n",
    "  --learnable_property=\"object\" \\\n",
    "  --placeholder_token=\"<cat-toy>\" --initializer_token=\"toy\" \\\n",
    "  --resolution=512 \\\n",
    "  --train_batch_size=1 \\\n",
    "  --gradient_accumulation_steps=4 \\\n",
    "  --max_train_steps=3000 \\\n",
    "  --learning_rate=5.0e-04 --scale_lr \\\n",
    "  --lr_scheduler=\"constant\" \\\n",
    "  --lr_warmup_steps=0 \\\n",
    "  --output_dir=\"textual_inversion_cat\" \\\n",
    "  --push_to_hub\n",
    "```\n",
    "\n",
    "<Tip>\n",
    "\n",
    "💡 If you want to increase the trainable capacity, you can associate your placeholder token, *e.g.* `<cat-toy>` to \n",
    "multiple embedding vectors. This can help the model to better capture the style of more (complex) images. \n",
    "To enable training multiple embedding vectors, simply pass:\n",
    "\n",
    "```bash\n",
    "--num_vectors=5\n",
    "```\n",
    "\n",
    "</Tip>\n",
    "If you have access to TPUs, try out the [Flax training script](https://github.com/huggingface/diffusers/blob/main/examples/textual_inversion/textual_inversion_flax.py) to train even faster (this'll also work for GPUs). With the same configuration settings, the Flax training script should be at least 70% faster than the PyTorch training script! ⚡️\n",
    "\n",
    "Before you begin, make sure you install the Flax specific dependencies:\n",
    "\n",
    "```bash\n",
    "pip install -U -r requirements_flax.txt\n",
    "```\n",
    "\n",
    "Specify the `MODEL_NAME` environment variable (either a Hub model repository id or a path to the directory containing the model weights) and pass it to the [`pretrained_model_name_or_path`](https://huggingface.co/docs/diffusers/en/api/diffusion_pipeline#diffusers.DiffusionPipeline.from_pretrained.pretrained_model_name_or_path) argument.\n",
    "\n",
    "Then you can launch the [training script](https://github.com/huggingface/diffusers/blob/main/examples/textual_inversion/textual_inversion_flax.py):\n",
    "\n",
    "```bash\n",
    "export MODEL_NAME=\"duongna/stable-diffusion-v1-4-flax\"\n",
    "export DATA_DIR=\"./cat\"\n",
    "\n",
    "python textual_inversion_flax.py \\\n",
    "  --pretrained_model_name_or_path=$MODEL_NAME \\\n",
    "  --train_data_dir=$DATA_DIR \\\n",
    "  --learnable_property=\"object\" \\\n",
    "  --placeholder_token=\"<cat-toy>\" --initializer_token=\"toy\" \\\n",
    "  --resolution=512 \\\n",
    "  --train_batch_size=1 \\\n",
    "  --max_train_steps=3000 \\\n",
    "  --learning_rate=5.0e-04 --scale_lr \\\n",
    "  --output_dir=\"textual_inversion_cat\" \\\n",
    "  --push_to_hub\n",
    "```"
   ]
  },
  {
   "cell_type": "markdown",
   "metadata": {},
   "source": [
    "### Intermediate logging"
   ]
  },
  {
   "cell_type": "markdown",
   "metadata": {},
   "source": [
    "If you're interested in following along with your model training progress, you can save the generated images from the training process. Add the following arguments to the training script to enable intermediate logging:\n",
    "\n",
    "- `validation_prompt`, the prompt used to generate samples (this is set to `None` by default and intermediate logging is disabled)\n",
    "- `num_validation_images`, the number of sample images to generate\n",
    "- `validation_steps`, the number of steps before generating `num_validation_images` from the `validation_prompt`\n",
    "\n",
    "```bash\n",
    "--validation_prompt=\"A <cat-toy> backpack\"\n",
    "--num_validation_images=4\n",
    "--validation_steps=100\n",
    "```"
   ]
  },
  {
   "cell_type": "markdown",
   "metadata": {},
   "source": [
    "## Inference"
   ]
  },
  {
   "cell_type": "markdown",
   "metadata": {},
   "source": [
    "Once you have trained a model, you can use it for inference with the [StableDiffusionPipeline](https://huggingface.co/docs/diffusers/main/en/api/pipelines/stable_diffusion/text2img#diffusers.StableDiffusionPipeline).\n",
    "\n",
    "The textual inversion script will by default only save the textual inversion embedding vector(s) that have \n",
    "been added to the text encoder embedding matrix and consequently been trained.\n",
    "\n",
    "<Tip>\n",
    "\n",
    "💡 The community has created a large library of different textual inversion embedding vectors, called [sd-concepts-library](https://huggingface.co/sd-concepts-library).\n",
    "Instead of training textual inversion embeddings from scratch you can also see whether a fitting textual inversion embedding has already been added to the library.\n",
    "\n",
    "</Tip>\n",
    "\n",
    "To load the textual inversion embeddings you first need to load the base model that was used when training \n",
    "your textual inversion embedding vectors. Here we assume that [`runwayml/stable-diffusion-v1-5`](https://huggingface.co/docs/diffusers/main/en/training/runwayml/stable-diffusion-v1-5)\n",
    "was used as a base model so we load it first:"
   ]
  },
  {
   "cell_type": "code",
   "execution_count": null,
   "metadata": {},
   "outputs": [],
   "source": [
    "from diffusers import StableDiffusionPipeline\n",
    "import torch\n",
    "\n",
    "model_id = \"runwayml/stable-diffusion-v1-5\"\n",
    "pipe = StableDiffusionPipeline.from_pretrained(model_id, torch_dtype=torch.float16).to(\"cuda\")"
   ]
  },
  {
   "cell_type": "markdown",
   "metadata": {},
   "source": [
    "Next, we need to load the textual inversion embedding vector which can be done via the `TextualInversionLoaderMixin.load_textual_inversion`\n",
    "function. Here we'll load the embeddings of the \"<cat-toy>\" example from before."
   ]
  },
  {
   "cell_type": "code",
   "execution_count": null,
   "metadata": {},
   "outputs": [],
   "source": [
    "pipe.load_textual_inversion(\"sd-concepts-library/cat-toy\")"
   ]
  },
  {
   "cell_type": "markdown",
   "metadata": {},
   "source": [
    "Now we can run the pipeline making sure that the placeholder token `<cat-toy>` is used in our prompt."
   ]
  },
  {
   "cell_type": "code",
   "execution_count": null,
   "metadata": {},
   "outputs": [],
   "source": [
    "prompt = \"A <cat-toy> backpack\"\n",
    "\n",
    "image = pipe(prompt, num_inference_steps=50).images[0]\n",
    "image.save(\"cat-backpack.png\")"
   ]
  },
  {
   "cell_type": "markdown",
   "metadata": {},
   "source": [
    "The function `TextualInversionLoaderMixin.load_textual_inversion` can not only \n",
    "load textual embedding vectors saved in Diffusers' format, but also embedding vectors\n",
    "saved in [Automatic1111](https://github.com/AUTOMATIC1111/stable-diffusion-webui) format.\n",
    "To do so, you can first download an embedding vector from [civitAI](https://civitai.com/models/3036?modelVersionId=8387)\n",
    "and then load it locally:"
   ]
  },
  {
   "cell_type": "code",
   "execution_count": null,
   "metadata": {},
   "outputs": [],
   "source": [
    "pipe.load_textual_inversion(\"./charturnerv2.pt\")"
   ]
  },
  {
   "cell_type": "markdown",
   "metadata": {},
   "source": [
    "Currently there is no `load_textual_inversion` function for Flax so one has to make sure the textual inversion\n",
    "embedding vector is saved as part of the model after training.\n",
    "\n",
    "The model can then be run just like any other Flax model:"
   ]
  },
  {
   "cell_type": "code",
   "execution_count": null,
   "metadata": {},
   "outputs": [],
   "source": [
    "import jax\n",
    "import numpy as np\n",
    "from flax.jax_utils import replicate\n",
    "from flax.training.common_utils import shard\n",
    "from diffusers import FlaxStableDiffusionPipeline\n",
    "\n",
    "model_path = \"path-to-your-trained-model\"\n",
    "pipeline, params = FlaxStableDiffusionPipeline.from_pretrained(model_path, dtype=jax.numpy.bfloat16)\n",
    "\n",
    "prompt = \"A <cat-toy> backpack\"\n",
    "prng_seed = jax.random.PRNGKey(0)\n",
    "num_inference_steps = 50\n",
    "\n",
    "num_samples = jax.device_count()\n",
    "prompt = num_samples * [prompt]\n",
    "prompt_ids = pipeline.prepare_inputs(prompt)\n",
    "\n",
    "# shard inputs and rng\n",
    "params = replicate(params)\n",
    "prng_seed = jax.random.split(prng_seed, jax.device_count())\n",
    "prompt_ids = shard(prompt_ids)\n",
    "\n",
    "images = pipeline(prompt_ids, params, prng_seed, num_inference_steps, jit=True).images\n",
    "images = pipeline.numpy_to_pil(np.asarray(images.reshape((num_samples,) + images.shape[-3:])))\n",
    "image.save(\"cat-backpack.png\")"
   ]
  },
  {
   "cell_type": "markdown",
   "metadata": {},
   "source": [
    "## How it works"
   ]
  },
  {
   "cell_type": "markdown",
   "metadata": {},
   "source": [
    "![Diagram from the paper showing overview](https://textual-inversion.github.io/static/images/training/training.JPG)\n",
    "<small>Architecture overview from the Textual Inversion <a href=\"https://textual-inversion.github.io/\">blog post.</a></small>\n",
    "\n",
    "Usually, text prompts are tokenized into an embedding before being passed to a model, which is often a transformer. Textual Inversion does something similar, but it learns a new token embedding, `v*`, from a special token `S*` in the diagram above. The model output is used to condition the diffusion model, which helps the diffusion model understand the prompt and new concepts from just a few example images.\n",
    "\n",
    "To do this, Textual Inversion uses a generator model and noisy versions of the training images. The generator tries to predict less noisy versions of the images, and the token embedding `v*` is optimized based on how well the generator does. If the token embedding successfully captures the new concept, it gives more useful information to the diffusion model and helps create clearer images with less noise. This optimization process typically occurs after several thousand steps of exposure to a variety of prompt and image variants."
   ]
  }
 ],
 "metadata": {},
 "nbformat": 4,
 "nbformat_minor": 4
}
