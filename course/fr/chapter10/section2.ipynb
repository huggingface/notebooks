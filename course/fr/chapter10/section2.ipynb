{
  "cells": [
    {
      "cell_type": "markdown",
      "metadata": {
        "id": "kK8kfIfqrgrc"
      },
      "source": [
        "# Configurez votre instance Argilla"
      ]
    },
    {
      "cell_type": "code",
      "execution_count": null,
      "metadata": {
        "id": "cGOYFrYyrgrd"
      },
      "outputs": [],
      "source": [
        "!pip install argilla"
      ]
    },
    {
      "cell_type": "code",
      "execution_count": null,
      "metadata": {
        "id": "mWB23rrFrgrf"
      },
      "outputs": [],
      "source": [
        "import argilla as rg\n",
        "\n",
        "HF_TOKEN = \"...\"  # uniquement pour les spaces privés\n",
        "\n",
        "client = rg.Argilla(\n",
        "    api_url=\"...\",\n",
        "    api_key=\"...\",\n",
        "    headers={\"Authorization\": f\"Bearer {HF_TOKEN}\"},  # uniquement pour les spaces privés\n",
        ")"
      ]
    },
    {
      "cell_type": "code",
      "execution_count": null,
      "metadata": {
        "id": "UVHJPCFKrgrg"
      },
      "outputs": [],
      "source": [
        "client.me"
      ]
    }
  ],
  "metadata": {
    "colab": {
      "name": "Set up your Argilla instance",
      "provenance": []
    },
    "language_info": {
      "name": "python"
    }
  },
  "nbformat": 4,
  "nbformat_minor": 0
}