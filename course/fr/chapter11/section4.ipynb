{
 "cells": [
  {
   "cell_type": "markdown",
   "metadata": {
    "id": "z-6LLOPZouLg"
   },
   "source": [
    "# Comment finetuner des LLMs avec des adaptateurs LoRA en utilisant Hugging Face TRL\n",
    "\n",
    "Ce *notebook* montre comment finetuner efficacement de grands modèles de langage en utilisant des adaptateurs LoRA (*Low-Rank Adaptation*). LoRA est une technique de finetuning efficace en termes de paramètres qui :\n",
    "- gèle les poids du modèle pré-entraîné\n",
    "- ajoute aux couches d'attention de petites matrices de décomposition de rangs entraînables\n",
    "- Réduit généralement les paramètres entraînables d'environ 90%\n",
    "- Maintient les performances du modèle tout en étant économe en mémoire\n",
    "\n",
    "Nous aborderons les points suivants\n",
    "1. Mise en place de l'environnement de développement et configuration de LoRA\n",
    "2. Créer et préparer le jeu de données pour l'entraînement de l'adaptateur\n",
    "3. Finetuner en utilisant `trl` et `SFTTrainer` avec les adaptateurs LoRA\n",
    "4. Tester le modèle et fusionner les adaptateurs (optionnel)"
   ]
  },
  {
   "cell_type": "markdown",
   "metadata": {
    "id": "fXqd9BXgouLi"
   },
   "source": [
    "## 1. Configurer l'environnement de développement\n",
    "\n",
    "Notre première étape consiste à installer les bibliothques d'Hugging Face et Pytorch, y compris trl, les transformers et les datasets. Si vous n'avez pas encore entendu parler de trl, ne vous inquiétez pas. Il s'agit d'une nouvelle bibliothèque au-dessus des transformers et des datasets permetant de finetuner, rlhf, aligner les LLMs ouverts plus facilement."
   ]
  },
  {
   "cell_type": "code",
   "execution_count": null,
   "metadata": {
    "id": "tKvGVxImouLi"
   },
   "outputs": [],
   "source": [
    "# Installer les prérequis dans Google Colab\n",
    "# !pip install transformers datasets trl huggingface_hub\n",
    "\n",
    "# S'authentifier sur Hugging Face\n",
    "from huggingface_hub import login\n",
    "\n",
    "login()\n",
    "\n",
    "# Pour plus de facilité, vous pouvez créer une variable d'environnement contenant votre jeton de hub sous la forme HF_TOKEN"
   ]
  },
  {
   "cell_type": "markdown",
   "metadata": {
    "id": "XHUzfwpKouLk"
   },
   "source": [
    "## 2. Charger le jeu de données"
   ]
  },
  {
   "cell_type": "code",
   "execution_count": 13,
   "metadata": {
    "id": "z4p6Bvo7ouLk"
   },
   "outputs": [
    {
     "data": {
      "text/plain": [
       "DatasetDict({\n",
       "    train: Dataset({\n",
       "        features: ['full_topic', 'messages'],\n",
       "        num_rows: 2260\n",
       "    })\n",
       "    test: Dataset({\n",
       "        features: ['full_topic', 'messages'],\n",
       "        num_rows: 119\n",
       "    })\n",
       "})"
      ]
     },
     "execution_count": 13,
     "metadata": {},
     "output_type": "execute_result"
    }
   ],
   "source": [
    "# Charger un échantillon de jeu de données\n",
    "from datasets import load_dataset\n",
    "\n",
    "# TODO : définir votre jeu de données et votre configuration en utilisant les paramètres path et name\n",
    "dataset = load_dataset(path=\"HuggingFaceTB/smoltalk\", name=\"everyday-conversations\")\n",
    "dataset"
   ]
  },
  {
   "cell_type": "markdown",
   "metadata": {
    "id": "9TOhJdtsouLk"
   },
   "source": [
    "## 3. Fine-tune LLM using `trl` and the `SFTTrainer` with LoRA\n",
    "\n",
    "The [SFTTrainer](https://huggingface.co/docs/trl/sft_trainer) from `trl` provides integration with LoRA adapters through the [PEFT](https://huggingface.co/docs/peft/en/index) library. Key advantages of this setup include:\n",
    "\n",
    "1. **Memory Efficiency**: \n",
    "   - Only adapter parameters are stored in GPU memory\n",
    "   - Base model weights remain frozen and can be loaded in lower precision\n",
    "   - Enables fine-tuning of large models on consumer GPUs\n",
    "\n",
    "2. **Training Features**:\n",
    "   - Native PEFT/LoRA integration with minimal setup\n",
    "   - Support for QLoRA (Quantized LoRA) for even better memory efficiency\n",
    "\n",
    "3. **Adapter Management**:\n",
    "   - Adapter weight saving during checkpoints\n",
    "   - Features to merge adapters back into base model\n",
    "\n",
    "We'll use LoRA in our example, which combines LoRA with 4-bit quantization to further reduce memory usage without sacrificing performance. The setup requires just a few configuration steps:\n",
    "1. Define the LoRA configuration (rank, alpha, dropout)\n",
    "2. Create the SFTTrainer with PEFT config\n",
    "3. Train and save the adapter weights\n"
   ]
  },
  {
   "cell_type": "code",
   "execution_count": null,
   "metadata": {},
   "outputs": [],
   "source": [
    "# Importer les bibliothèques nécessaires\n",
    "from transformers import AutoModelForCausalLM, AutoTokenizer\n",
    "from datasets import load_dataset\n",
    "from trl import SFTConfig, SFTTrainer, setup_chat_format\n",
    "import torch\n",
    "\n",
    "device = (\n",
    "    \"cuda\"\n",
    "    if torch.cuda.is_available()\n",
    "    else \"mps\" if torch.backends.mps.is_available() else \"cpu\"\n",
    ")\n",
    "\n",
    "# Charger le modèle et le tokenizer\n",
    "model_name = \"HuggingFaceTB/SmolLM2-135M\"\n",
    "\n",
    "model = AutoModelForCausalLM.from_pretrained(\n",
    "    pretrained_model_name_or_path=model_name\n",
    ").to(device)\n",
    "tokenizer = AutoTokenizer.from_pretrained(pretrained_model_name_or_path=model_name)\n",
    "\n",
    "# Définir le format de chat\n",
    "model, tokenizer = setup_chat_format(model=model, tokenizer=tokenizer)\n",
    "\n",
    "# Définir le nom du finetuning à sauvegarder et/ou à télécharger\n",
    "finetune_name = \"SmolLM2-FT-MyDataset\"\n",
    "finetune_tags = [\"smol-course\", \"module_1\"]"
   ]
  },
  {
   "cell_type": "markdown",
   "metadata": {
    "id": "ZbuVArTHouLk"
   },
   "source": [
    "`SFTTrainer` supporte une intégration native avec `peft`, ce qui rend super facile le finetuning des LLMs en utilisant, par exemple, LoRA. Nous avons seulement besoin de créer notre `LoraConfig` et de le fournir au Trainer.\n",
    "\n",
    "<div style='background-color: lightblue; padding: 10px; border-radius: 5px; margin-bottom: 20px; color:black'>\n",
    "    <h2 style='margin: 0;color:blue'>Exercice : Définir les paramètres de LoRA pour le finetuning</h2>\n",
    "    <p>Prenez un jeu de données provenant du Hub d'Hugging Face et finetuné un modèle sur dessus. </p> \n",
    "    <p><b>Niveaux de difficulté</b></p>\n",
    "    <p>🐢 Utiliser les paramètres généraux pour un finetuning arbitraire</p>\n",
    "    <p>🐕 Ajuster les paramètres et vérifier les poids et les biais</p>\n",
    "    <p>🦁 Ajuster les paramètres et montrer les changements dans les résultats de l'inférence</p>\n",
    "</div>"
   ]
  },
  {
   "cell_type": "code",
   "execution_count": null,
   "metadata": {
    "id": "blDSs9swouLk"
   },
   "outputs": [],
   "source": [
    "from peft import LoraConfig\n",
    "\n",
    "# TODO : Configurer les paramètres de LoRA\n",
    "# r : dimension du rang des matrices LoRA (plus petite = plus de compression)\n",
    "rank_dimension = 6\n",
    "# lora_alpha : facteur d'échelle pour les couches LoRA (plus élevé = adaptation plus forte)\n",
    "lora_alpha = 8\n",
    "# lora_dropout : probabilité de dropout pour les couches LoRA (aide à prévenir le surentraînement)\n",
    "lora_dropout = 0.05\n",
    "\n",
    "peft_config = LoraConfig(\n",
    "    r=rank_dimension,  # Dimension du rang, généralement entre 4 et 32\n",
    "    lora_alpha=lora_alpha,  # Facteur d'échelle LoRA, généralement 2x le rang\n",
    "    lora_dropout=lora_dropout,  # Probabilité de dropout probability pour les couches de LoRA\n",
    "    bias=\"none\",  # Type de biais pour le LoRA. Les biais correspondants seront mis à jour pendant l'entraînement\n",
    "    target_modules=\"all-linear\",  # Modules auxquels appliquer le LoRA\n",
    "    task_type=\"CAUSAL_LM\",  # Type de tâche pour l'architecture du modèle\n",
    ")"
   ]
  },
  {
   "cell_type": "markdown",
   "metadata": {
    "id": "l5NUDPcaouLl"
   },
   "source": [
    "Avant de commencer notre entraînement, nous devons définir les hyperparamètres (`TrainingArguments`) que nous voulons utiliser."
   ]
  },
  {
   "cell_type": "code",
   "execution_count": null,
   "metadata": {
    "id": "NqT28VZlouLl"
   },
   "outputs": [],
   "source": [
    "# Configuration de l'entraînement\n",
    "# Hyperparamètres basés sur les recommandations du papier du QLoRA\n",
    "args = SFTConfig(\n",
    "    # Paramètres de sortie\n",
    "    output_dir=finetune_name,  # Répertoire pour enregistrer les checkpoints du modèle\n",
    "    # Durée de l'entraînement\n",
    "    num_train_epochs=1,  # Nombre d'époques d'entraînement\n",
    "    # Paramètres de la taille des batchs\n",
    "    per_device_train_batch_size=2,  # Taille des batchs par GPU\n",
    "    gradient_accumulation_steps=2,  # Accumuler les gradients pour obtenir un plus grand batch efficace\n",
    "    # Optimisation de la mémoire\n",
    "    gradient_checkpointing=True,  # Échanger le calcul contre des économies de mémoire\n",
    "    # Paramètres de l'optimiseur\n",
    "    optim=\"adamw_torch_fused\",  # Utiliser AdamW fusionné pour plus d'efficacité\n",
    "    learning_rate=2e-4,  # Taux d'apprentissage (papier du QLoRA)\n",
    "    max_grad_norm=0.3,  # Seuil d'écrêtage du gradient\n",
    "    # Taux d'apprentissage\n",
    "    warmup_ratio=0.03,  # Portion de pas pour l'échauffement\n",
    "    lr_scheduler_type=\"constant\",  # Maintenir un rythme d'apprentissage constant après l'échauffement\n",
    "    # Enregistrement et sauvegarde\n",
    "    logging_steps=10,  # Enregistrement des métriques tous les N pas\n",
    "    save_strategy=\"epoch\",  # Sauvegarde du checkpoint à chaque époque\n",
    "    # Paramètres de précision\n",
    "    bf16=True,  # Utiliser la précision bfloat16\n",
    "    # Paramètres d'intégration\n",
    "    push_to_hub=False,  # Ne pas pousser vers le Hub\n",
    "    report_to=\"none\",  # Désactiver l'enregistrement externe\n",
    ")"
   ]
  },
  {
   "cell_type": "markdown",
   "metadata": {
    "id": "cGhR7uFBouLl"
   },
   "source": [
    "Nous avons maintenant tous les éléments nécessaires pour créer notre `SFTTrainer` et commencer à entraîner notre modèle."
   ]
  },
  {
   "cell_type": "code",
   "execution_count": null,
   "metadata": {
    "id": "M00Har2douLl"
   },
   "outputs": [],
   "source": [
    "max_seq_length = 1512  # longueur maximale des séquences pour le modèle et le paquetage du jeu de données\n",
    "\n",
    "# Créer SFTTrainer avec la configuration LoRA\n",
    "trainer = SFTTrainer(\n",
    "    model=model,\n",
    "    args=args,\n",
    "    train_dataset=dataset[\"train\"],\n",
    "    peft_config=peft_config,  # Configuration LoRA\n",
    "    max_seq_length=max_seq_length,  # Longueur maximale de la séquence\n",
    "    tokenizer=tokenizer,\n",
    "    packing=True,  # Activer l'emballage d'entrée pour plus d'efficacité\n",
    "    dataset_kwargs={\n",
    "        \"add_special_tokens\": False,  # Tokens spéciaux gérés par le gabarit\n",
    "        \"append_concat_token\": False,  # Aucun séparateur supplémentaire n'est nécessaire\n",
    "    },\n",
    ")"
   ]
  },
  {
   "cell_type": "markdown",
   "metadata": {
    "id": "zQ_kRN24ouLl"
   },
   "source": [
    "Commencez à entraîner notre modèle en appelant la méthode `train()` sur notre instance `Trainer`. Cela va démarrer la boucle d'entraînement et entraîner notre modèle pendant 3 époques. Puisque nous utilisons une méthode PEFT, nous ne sauvegarderons que les poids du modèle adapté et non le modèle complet."
   ]
  },
  {
   "cell_type": "code",
   "execution_count": null,
   "metadata": {
    "id": "Tq4nIYqKouLl"
   },
   "outputs": [
    {
     "data": {
      "application/vnd.jupyter.widget-view+json": {
       "model_id": "300e5dfbb4b54750b77324345c7591f9",
       "version_major": 2,
       "version_minor": 0
      },
      "text/plain": [
       "  0%|          | 0/72 [00:00<?, ?it/s]"
      ]
     },
     "metadata": {},
     "output_type": "display_data"
    },
    {
     "data": {
      "text/plain": [
       "TrainOutput(global_step=72, training_loss=1.6402628521124523, metrics={'train_runtime': 195.2398, 'train_samples_per_second': 1.485, 'train_steps_per_second': 0.369, 'total_flos': 282267289092096.0, 'train_loss': 1.6402628521124523, 'epoch': 0.993103448275862})"
      ]
     },
     "execution_count": 26,
     "metadata": {},
     "output_type": "execute_result"
    }
   ],
   "source": [
    "# commencer l'entraînement, le modèle sera automatiquement sauvegardé sur le Hub et dans le répertoire de sortie.\n",
    "trainer.train()\n",
    "\n",
    "# Sauvegarder le modèle\n",
    "trainer.save_model()"
   ]
  },
  {
   "cell_type": "markdown",
   "metadata": {
    "id": "y4HHSYYzouLl"
   },
   "source": [
    "L'entraînement avec Flash Attention pour 3 époques avec un jeu de données de 15k échantillons a pris 4:14:36 sur un `g5.2xlarge`. L'instance coûte `1.21$/h` ce qui nous amène à un coût total de seulement ~`5.3$`.\n",
    "\n"
   ]
  },
  {
   "cell_type": "markdown",
   "metadata": {
    "id": "C309KsXjouLl"
   },
   "source": [
    "### Fusionner l'adaptateur LoRA dans le modèle original\n",
    "\n",
    "Lors de l'utilisation de LoRA, nous n'entraînons que les poids de l'adaptateur tout en gardant le modèle de base gelé. Pendant l'entraînement, nous sauvegardons uniquement ces poids d'adaptateur légers (~2-10MB) plutôt qu'une copie complète du modèle. Cependant, pour le déploiement, vous pouvez vouloir fusionner les adaptateurs dans le modèle de base pour :\n",
    "\n",
    "1. **Déploiement simplifié** : Fichier de modèle unique au lieu du modèle de base + adaptateurs\n",
    "2. **Vitesse d'inférence** : Pas de surcharge de calcul des adaptateurs\n",
    "3. **Compatibilité avec les frameworks** : Meilleure compatibilité avec les frameworks"
   ]
  },
  {
   "cell_type": "code",
   "execution_count": null,
   "metadata": {},
   "outputs": [],
   "source": [
    "from peft import AutoPeftModelForCausalLM\n",
    "\n",
    "\n",
    "# Chargement du modèle PEFT sur le CPU\n",
    "model = AutoPeftModelForCausalLM.from_pretrained(\n",
    "    pretrained_model_name_or_path=args.output_dir,\n",
    "    torch_dtype=torch.float16,\n",
    "    low_cpu_mem_usage=True,\n",
    ")\n",
    "\n",
    "# Fusionner le modèle LoRA et le modèle de base et sauvegarder\n",
    "merged_model = model.merge_and_unload()\n",
    "merged_model.save_pretrained(\n",
    "    args.output_dir, safe_serialization=True, max_shard_size=\"2GB\"\n",
    ")"
   ]
  },
  {
   "cell_type": "markdown",
   "metadata": {
    "id": "-yO6E9quouLl"
   },
   "source": [
    "## 3. Tester le modèle et exécuter l'inférence\n",
    "\n",
    "Une fois l'entraînement terminé, nous voulons tester notre modèle. Nous allons charger différents échantillons du jeu de données original et évaluer le modèle sur ces échantillons, en utilisant une boucle simple et l'*accuracy* comme métrique.\n"
   ]
  },
  {
   "cell_type": "markdown",
   "metadata": {},
   "source": [
    "<div style='background-color: lightblue; padding: 10px; border-radius: 5px; margin-bottom: 20px; color:black'>\n",
    "    <h2 style='margin: 0;color:blue'>Exercice bonus : Chargement de l'adaptateur LoRA</h2>\n",
    "    <p>Utilisez ce que vous avez appris dans le notebook pour charger votre adaptateur LoRA entraîné pour l'inférence</p> \n",
    "</div>"
   ]
  },
  {
   "cell_type": "code",
   "execution_count": 30,
   "metadata": {
    "id": "I5B494OdouLl"
   },
   "outputs": [],
   "source": [
    "# libérer la mémoire\n",
    "del model\n",
    "del trainer\n",
    "torch.cuda.empty_cache()"
   ]
  },
  {
   "cell_type": "code",
   "execution_count": null,
   "metadata": {
    "id": "P1UhohVdouLl"
   },
   "outputs": [],
   "source": [
    "import torch\n",
    "from peft import AutoPeftModelForCausalLM\n",
    "from transformers import AutoTokenizer, pipeline\n",
    "\n",
    "# Chargement du modèle avec l'adaptateur PEFT\n",
    "tokenizer = AutoTokenizer.from_pretrained(finetune_name)\n",
    "model = AutoPeftModelForCausalLM.from_pretrained(\n",
    "    finetune_name, device_map=\"auto\", torch_dtype=torch.float16\n",
    ")\n",
    "pipe = pipeline(\n",
    "    \"text-generation\", model=merged_model, tokenizer=tokenizer, device=device\n",
    ")"
   ]
  },
  {
   "cell_type": "markdown",
   "metadata": {
    "id": "99uFDAuuouLl"
   },
   "source": [
    "Testons quelques échantillons d'instructions et voyons comment le modèle se comporte."
   ]
  },
  {
   "cell_type": "code",
   "execution_count": 34,
   "metadata": {
    "id": "-shSmUbvouLl",
    "outputId": "16d97c61-3b31-4040-c780-3c4de75c3824"
   },
   "outputs": [],
   "source": [
    "prompts = [\n",
    "    \"What is the capital of Germany? Explain why thats the case and if it was different in the past?\",\n",
    "    \"Write a Python function to calculate the factorial of a number.\",\n",
    "    \"A rectangular garden has a length of 25 feet and a width of 15 feet. If you want to build a fence around the entire garden, how many feet of fencing will you need?\",\n",
    "    \"What is the difference between a fruit and a vegetable? Give examples of each.\",\n",
    "]\n",
    "\n",
    "\n",
    "def test_inference(prompt):\n",
    "    prompt = pipe.tokenizer.apply_chat_template(\n",
    "        [{\"role\": \"user\", \"content\": prompt}],\n",
    "        tokenize=False,\n",
    "        add_generation_prompt=True,\n",
    "    )\n",
    "    outputs = pipe(\n",
    "        prompt,\n",
    "    )\n",
    "    return outputs[0][\"generated_text\"][len(prompt) :].strip()\n",
    "\n",
    "\n",
    "for prompt in prompts:\n",
    "    print(f\"    prompt:\\n{prompt}\")\n",
    "    print(f\"    response:\\n{test_inference(prompt)}\")\n",
    "    print(\"-\" * 50)"
   ]
  }
 ],
 "metadata": {
  "colab": {
   "provenance": []
  },
  "kernelspec": {
   "display_name": "Python 3 (ipykernel)",
   "language": "python",
   "name": "python3"
  },
  "language_info": {
   "codemirror_mode": {
    "name": "ipython",
    "version": 3
   },
   "file_extension": ".py",
   "mimetype": "text/x-python",
   "name": "python",
   "nbconvert_exporter": "python",
   "pygments_lexer": "ipython3",
   "version": "3.12.7"
  }
 },
 "nbformat": 4,
 "nbformat_minor": 4
}
