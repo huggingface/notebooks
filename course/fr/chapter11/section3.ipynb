{
 "cells": [
  {
   "cell_type": "markdown",
   "metadata": {},
   "source": [
    "# Finetuning supervisé avec SFTTrainer\n",
    "\n",
    "Ce notebook montre comment finetuner le modèle `HuggingFaceTB/SmolLM2-135M` en utilisant le `SFTTrainer` de la bibliothèque `trl`. Les cellules du notebook s'exécutent et vont finetuner le modèle. Vous pouvez choisir votre difficulté en essayant différents jeux de données.\n",
    "<div style='background-color: lightblue; padding: 10px; border-radius: 5px; margin-bottom: 20px; color:black'>\n",
    "    <h2 style='margin: 0;color:blue'>Exercice : Finetuning de SmolLM2 avec SFTTrainer</h2>\n",
    "    <p>Prenez un jeu de données provenant du Hub d'Hugging Face et finetuné un modèle sur dessus. </p> \n",
    "    <p><b>Niveaux de difficulté</b></p>\n",
    "    <p>🐢 Utilisez le jeu de données `HuggingFaceTB/smoltalk`</p>\n",
    "    <p>🐕 Essayez le jeu de données `bigcode/the-stack-smol` et finetunez un modèle de génération de code sur un sous-ensemble spécifique `data/python`</p>\n",
    "    <p>🦁 Sélectionnez un jeu de données en rapport avec un cas d'utilisation réel qui vous intéresse</p>\n",
    "</div>"
   ]
  },
  {
   "cell_type": "code",
   "execution_count": null,
   "metadata": {},
   "outputs": [],
   "source": [
    "# Installer les prérequis dans Google Colab\n",
    "# !pip install transformers datasets trl huggingface_hub\n",
    "\n",
    "# S'authentifier sur Hugging Face\n",
    "from huggingface_hub import login\n",
    "\n",
    "login()\n",
    "\n",
    "# Pour plus de facilité, vous pouvez créer une variable d'environnement contenant votre jeton de hub sous la forme HF_TOKEN"
   ]
  },
  {
   "cell_type": "code",
   "execution_count": null,
   "metadata": {},
   "outputs": [],
   "source": [
    "# Importer les bibliothèques nécessaires\n",
    "from transformers import AutoModelForCausalLM, AutoTokenizer\n",
    "from datasets import load_dataset\n",
    "from trl import SFTConfig, SFTTrainer, setup_chat_format\n",
    "import torch\n",
    "\n",
    "device = (\n",
    "    \"cuda\"\n",
    "    if torch.cuda.is_available()\n",
    "    else \"mps\" if torch.backends.mps.is_available() else \"cpu\"\n",
    ")\n",
    "\n",
    "# Charger le modèle et le tokenizer\n",
    "model_name = \"HuggingFaceTB/SmolLM2-135M\"\n",
    "model = AutoModelForCausalLM.from_pretrained(\n",
    "    pretrained_model_name_or_path=model_name\n",
    ").to(device)\n",
    "tokenizer = AutoTokenizer.from_pretrained(pretrained_model_name_or_path=model_name)\n",
    "\n",
    "# Définir le format de chat\n",
    "model, tokenizer = setup_chat_format(model=model, tokenizer=tokenizer)\n",
    "\n",
    "# Définir le nom du finetuning à sauvegarder et/ou à télécharger\n",
    "finetune_name = \"SmolLM2-FT-MyDataset\"\n",
    "finetune_tags = [\"smol-course\", \"module_1\"]"
   ]
  },
  {
   "cell_type": "markdown",
   "metadata": {},
   "source": [
    "# Générer avec le modèle de base\n",
    "\n",
    "Ici, nous allons essayer le modèle de base qui n'a pas de gabarit de chat. "
   ]
  },
  {
   "cell_type": "code",
   "execution_count": null,
   "metadata": {},
   "outputs": [],
   "source": [
    "# Testons le modèle de base avant l'entraînement\n",
    "prompt = \"Write a haiku about programming\"\n",
    "\n",
    "# Format avec gabarit\n",
    "messages = [{\"role\": \"user\", \"content\": prompt}]\n",
    "formatted_prompt = tokenizer.apply_chat_template(messages, tokenize=False)\n",
    "\n",
    "# Générer une réponse\n",
    "inputs = tokenizer(formatted_prompt, return_tensors=\"pt\").to(device)\n",
    "outputs = model.generate(**inputs, max_new_tokens=100)\n",
    "print(\"Before training:\")\n",
    "print(tokenizer.decode(outputs[0], skip_special_tokens=True))"
   ]
  },
  {
   "cell_type": "markdown",
   "metadata": {},
   "source": [
    "## Préparation du jeu de données\n",
    "\n",
    "Nous allons charger un échantillon du jeu de données et le formater pour l'entraînement. Le jeu de données doit être structuré avec des paires entrée-sortie, où chaque entrée est une instruction et la sortie est la réponse attendue du modèle.\n",
    "\n",
    "**TRL va formater les messages d'entrée en se basant sur les gabarits de chat du modèle.** Ils doivent être représentés sous la forme d'une liste de dictionnaires avec les clés : `role` et `content`."
   ]
  },
  {
   "cell_type": "code",
   "execution_count": null,
   "metadata": {},
   "outputs": [],
   "source": [
    "# Chargement d'un échantillon du jeu de données\n",
    "from datasets import load_dataset\n",
    "\n",
    "# TODO : définir votre jeu de données et votre configuration en utilisant les paramètres path et name\n",
    "ds = load_dataset(path=\"HuggingFaceTB/smoltalk\", name=\"everyday-conversations\")"
   ]
  },
  {
   "cell_type": "code",
   "execution_count": null,
   "metadata": {},
   "outputs": [],
   "source": [
    "# TODO : 🦁 Si votre jeu de données n'est pas dans un format que TRL peut convertir en gabarit de chat, vous devrez le traiter. Reportez-vous au [module](../chat_templates.md)"
   ]
  },
  {
   "cell_type": "markdown",
   "metadata": {},
   "source": [
    "## Configurer le SFTTrainer\n",
    "\n",
    "Le `SFTTrainer` est configuré avec différents paramètres qui contrôlent le processus d'apprentissage. Ceux-ci incluent le nombre d'étapes d'entraînement, la taille de batch, le taux d'apprentissage et la stratégie d'évaluation. Ajustez ces paramètres en fonction de vos besoins spécifiques et de vos ressources de calcul."
   ]
  },
  {
   "cell_type": "code",
   "execution_count": null,
   "metadata": {},
   "outputs": [],
   "source": [
    "# Configurer le SFTTrainer\n",
    "sft_config = SFTConfig(\n",
    "    output_dir=\"./sft_output\",\n",
    "    max_steps=1000,  # Ajuster en fonction de la taille du jeu de données et de la durée d'entraînement souhaitée\n",
    "    per_device_train_batch_size=4,  # Régler en fonction de la capacité de mémoire de votre GPU\n",
    "    learning_rate=5e-5,  # Point de départ commun pour le finetuning\n",
    "    logging_steps=10,  # Fréquence d'enregistrement des métriques d'entraînement\n",
    "    save_steps=100,  # Fréquence de sauvegarde des checkpoints du modèle\n",
    "    evaluation_strategy=\"steps\",  # Évaluer le modèle à intervalles réguliers\n",
    "    eval_steps=50,  # Fréquence de l'évaluation\n",
    "    use_mps_device=(\n",
    "        True if device == \"mps\" else False\n",
    "    ),  # Utiliser MPS pour un entraînement à précision mixte\n",
    "    hub_model_id=finetune_name,  # Définissez un nom unique pour votre modèle\n",
    ")\n",
    "\n",
    "# Initialiser le SFTTrainer\n",
    "trainer = SFTTrainer(\n",
    "    model=model,\n",
    "    args=sft_config,\n",
    "    train_dataset=ds[\"train\"],\n",
    "    tokenizer=tokenizer,\n",
    "    eval_dataset=ds[\"test\"],\n",
    ")\n",
    "\n",
    "# TODO : 🦁 🐕 aligner les paramètres de SFTTrainer avec le jeu de données que vous avez choisi. \n",
    "# Par exemple, si vous utilisez le jeu de données `bigcode/the-stack-smol`, vous devrez choisir la colonne `content`"
   ]
  },
  {
   "cell_type": "markdown",
   "metadata": {},
   "source": [
    "## Entraînement du modèle\n",
    "\n",
    "Une fois le Trainer configuré, nous pouvons maintenant procéder à l'entraînement du modèle. Le processus d'entraînement consiste à itérer sur le jeu de données, à calculer la perte et à mettre à jour les paramètres du modèle afin de minimiser cette perte."
   ]
  },
  {
   "cell_type": "code",
   "execution_count": null,
   "metadata": {},
   "outputs": [],
   "source": [
    "# Entraîner le modèle\n",
    "trainer.train()\n",
    "\n",
    "# Sauvegarder le modèle\n",
    "trainer.save_model(f\"./{finetune_name}\")"
   ]
  },
  {
   "cell_type": "code",
   "execution_count": null,
   "metadata": {},
   "outputs": [],
   "source": [
    "trainer.push_to_hub(tags=finetune_tags)"
   ]
  },
  {
   "cell_type": "markdown",
   "metadata": {},
   "source": [
    "<div style='background-color: lightblue; padding: 10px; border-radius: 5px; margin-bottom: 20px; color:black'>\n",
    "    <h2 style='margin: 0;color:blue'>Exercice bonus : Générer avec un modèle finetuné</h2>\n",
    "    <p>🐕 Utiliser le modèle finetuné pour générer une réponse, comme dans l'exemple de base</p>\n",
    "</div>"
   ]
  },
  {
   "cell_type": "code",
   "execution_count": null,
   "metadata": {},
   "outputs": [],
   "source": [
    "# Tester le modèle finetuné sur la même instruction\n",
    "\n",
    "# Testons le modèle de base avant l'entraînement\n",
    "prompt = \"Write a haiku about programming\"\n",
    "\n",
    "# Format avec gabarit\n",
    "messages = [{\"role\": \"user\", \"content\": prompt}]\n",
    "formatted_prompt = tokenizer.apply_chat_template(messages, tokenize=False)\n",
    "\n",
    "# Générer une réponse\n",
    "inputs = tokenizer(formatted_prompt, return_tensors=\"pt\").to(device)\n",
    "\n",
    "# TODO : utiliser le modèle finetuné pour générer une réponse, comme dans l'exemple de base."
   ]
  },
  {
   "cell_type": "markdown",
   "metadata": {},
   "source": [
    "## 💐 Vous avez terminé !\n",
    "\n",
    "Ce *notebook* fournit un guide étape par étape pour finetuner le modèle `HuggingFaceTB/SmolLM2-135M` en utilisant le `SFTTrainer`. En suivant ces étapes, vous pouvez adapter le modèle pour effectuer des tâches spécifiques plus efficacement. Si vous voulez continuer à travailler sur ce cours, voici quelques étapes que vous pouvez essayer :\n",
    "\n",
    "- Essayez ce *notebook*  avec un niveau de difficulté plus élevé\n",
    "- Examiner la PR d'un collègue\n",
    "- Améliorez le matériel de cours par le biais d'une *issue* ou d'une PR."
   ]
  }
 ],
 "metadata": {
  "kernelspec": {
   "display_name": "Python 3 (ipykernel)",
   "language": "python",
   "name": "python3"
  },
  "language_info": {
   "codemirror_mode": {
    "name": "ipython",
    "version": 3
   },
   "file_extension": ".py",
   "mimetype": "text/x-python",
   "name": "python",
   "nbconvert_exporter": "python",
   "pygments_lexer": "ipython3",
   "version": "3.12.7"
  }
 },
 "nbformat": 4,
 "nbformat_minor": 4
}
