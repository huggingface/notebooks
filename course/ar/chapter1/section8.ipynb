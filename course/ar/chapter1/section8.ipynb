{
  "nbformat": 4,
  "nbformat_minor": 0,
  "metadata": {
    "colab": {
      "provenance": []
    },
    "kernelspec": {
      "name": "python3",
      "display_name": "Python 3"
    },
    "language_info": {
      "name": "python"
    }
  },
  "cells": [
    {
      "cell_type": "code",
      "execution_count": null,
      "metadata": {
        "id": "KoipzSs3gaQb"
      },
      "outputs": [],
      "source": [
        "!pip install datasets evaluate IProgress tqdm ipywidgets sacremoses \"transformers[sentencepiece]\""
      ]
    },
    {
      "cell_type": "code",
      "source": [
        "from transformers import pipeline\n",
        "\n",
        "fillMaskModelName = 'MaagDeveloper/aubmindlab-bert-base-arabertv02'\n",
        "unmasker = pipeline(\"fill-mask\", model=fillMaskModelName)\n",
        "\n",
        "result = unmasker(\"هذا الكورس سيعلمك كل شيء عن النماذج [MASK].\")\n",
        "print([r[\"token_str\"] for r in result])\n",
        "\n",
        "result = unmasker(\"الغباء الاصطناعي يمكنه تحسين [MASK] بشكل كبير.\")\n",
        "print([r[\"token_str\"] for r in result])"
      ],
      "metadata": {
        "colab": {
          "base_uri": "https://localhost:8080/"
        },
        "id": "losXHNiEgc5L",
        "outputId": "a7606e28-0f26-4675-ede6-77583562be56"
      },
      "execution_count": 13,
      "outputs": [
        {
          "output_type": "stream",
          "name": "stdout",
          "text": [
            "['البشرية', 'الرياضية', 'التجارية', 'الحسابية', 'المصغرة']\n",
            "['الحياة', 'الذكاء', 'الصحة', 'حياتنا', 'الدماغ']\n"
          ]
        }
      ]
    }
  ]
}