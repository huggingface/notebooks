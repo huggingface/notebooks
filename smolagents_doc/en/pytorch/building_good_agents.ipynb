{
 "cells": [
  {
   "cell_type": "code",
   "execution_count": null,
   "metadata": {},
   "outputs": [],
   "source": [
    "# Installation\n",
    "! pip install smolagents\n",
    "# To install from source instead of the last release, comment the command above and uncomment the following one.\n",
    "# ! pip install git+https://github.com/huggingface/smolagents.git"
   ]
  },
  {
   "cell_type": "markdown",
   "metadata": {},
   "source": [
    "# Building good agents"
   ]
  },
  {
   "cell_type": "markdown",
   "metadata": {},
   "source": [
    "There's a world of difference between building an agent that works and one that doesn't.\n",
    "How can we build agents that fall into the former category?\n",
    "In this guide, we're going to talk about best practices for building agents.\n",
    "\n",
    "> [!TIP]\n",
    "> If you're new to building agents, make sure to first read the [intro to agents](https://huggingface.co/docs/smolagents/main/en/tutorials/../conceptual_guides/intro_agents) and the [guided tour of smolagents](https://huggingface.co/docs/smolagents/main/en/tutorials/../guided_tour)."
   ]
  },
  {
   "cell_type": "markdown",
   "metadata": {},
   "source": [
    "### The best agentic systems are the simplest: simplify the workflow as much as you can"
   ]
  },
  {
   "cell_type": "markdown",
   "metadata": {},
   "source": [
    "Giving an LLM some agency in your workflow introduces some risk of errors.\n",
    "\n",
    "Well-programmed agentic systems have good error logging and retry mechanisms anyway, so the LLM engine has a chance to self-correct their mistake. But to reduce the risk of LLM error to the maximum, you should simplify your workflow!\n",
    "\n",
    "Let's revisit the example from the [intro to agents](https://huggingface.co/docs/smolagents/main/en/tutorials/../conceptual_guides/intro_agents): a bot that answers user queries for a surf trip company.\n",
    "Instead of letting the agent do 2 different calls for \"travel distance API\" and \"weather API\" each time they are asked about a new surf spot, you could just make one unified tool \"return_spot_information\", a function that calls both APIs at once and returns their concatenated outputs to the user.\n",
    "\n",
    "This will reduce costs, latency, and error risk!\n",
    "\n",
    "The main guideline is: Reduce the number of LLM calls as much as you can.\n",
    "\n",
    "This leads to a few takeaways:\n",
    "- Whenever possible, group 2 tools in one, like in our example of the two APIs.\n",
    "- Whenever possible, logic should be based on deterministic functions rather than agentic decisions."
   ]
  },
  {
   "cell_type": "markdown",
   "metadata": {},
   "source": [
    "### Improve the information flow to the LLM engine"
   ]
  },
  {
   "cell_type": "markdown",
   "metadata": {},
   "source": [
    "Remember that your LLM engine is like an *intelligent* robot, tapped into a room with the only communication with the outside world being notes passed under a door.\n",
    "\n",
    "It won't know of anything that happened if you don't explicitly put that into its prompt.\n",
    "\n",
    "So first start with making your task very clear!\n",
    "Since an agent is powered by an LLM, minor variations in your task formulation might yield completely different results.\n",
    "\n",
    "Then, improve the information flow towards your agent in tool use.\n",
    "\n",
    "Particular guidelines to follow:\n",
    "- Each tool should log (by simply using `print` statements inside the tool's `forward` method) everything that could be useful for the LLM engine.\n",
    "  - In particular, logging detail on tool execution errors would help a lot!\n",
    "\n",
    "For instance, here's a tool that retrieves weather data based on location and date-time:\n",
    "\n",
    "First, here's a poor version:"
   ]
  },
  {
   "cell_type": "code",
   "execution_count": null,
   "metadata": {},
   "outputs": [],
   "source": [
    "import datetime\n",
    "from smolagents import tool\n",
    "\n",
    "def get_weather_report_at_coordinates(coordinates, date_time):\n",
    "    # Dummy function, returns a list of [temperature in °C, risk of rain on a scale 0-1, wave height in m]\n",
    "    return [28.0, 0.35, 0.85]\n",
    "\n",
    "def convert_location_to_coordinates(location):\n",
    "    # Returns dummy coordinates\n",
    "    return [3.3, -42.0]\n",
    "\n",
    "@tool\n",
    "def get_weather_api(location: str, date_time: str) -> str:\n",
    "    \"\"\"\n",
    "    Returns the weather report.\n",
    "\n",
    "    Args:\n",
    "        location: the name of the place that you want the weather for.\n",
    "        date_time: the date and time for which you want the report.\n",
    "    \"\"\"\n",
    "    lon, lat = convert_location_to_coordinates(location)\n",
    "    date_time = datetime.strptime(date_time)\n",
    "    return str(get_weather_report_at_coordinates((lon, lat), date_time))"
   ]
  },
  {
   "cell_type": "markdown",
   "metadata": {},
   "source": [
    "Why is it bad?\n",
    "- there's no precision of the format that should be used for `date_time`\n",
    "- there's no detail on how location should be specified.\n",
    "- there's no logging mechanism trying to make explicit failure cases like location not being in a proper format, or date_time not being properly formatted.\n",
    "- the output format is hard to understand\n",
    "\n",
    "If the tool call fails, the error trace logged in memory can help the LLM reverse engineer the tool to fix the errors. But why leave it with so much heavy lifting to do?\n",
    "\n",
    "A better way to build this tool would have been the following:"
   ]
  },
  {
   "cell_type": "code",
   "execution_count": null,
   "metadata": {},
   "outputs": [],
   "source": [
    "@tool\n",
    "def get_weather_api(location: str, date_time: str) -> str:\n",
    "    \"\"\"\n",
    "    Returns the weather report.\n",
    "\n",
    "    Args:\n",
    "        location: the name of the place that you want the weather for. Should be a place name, followed by possibly a city name, then a country, like \"Anchor Point, Taghazout, Morocco\".\n",
    "        date_time: the date and time for which you want the report, formatted as '%m/%d/%y %H:%M:%S'.\n",
    "    \"\"\"\n",
    "    lon, lat = convert_location_to_coordinates(location)\n",
    "    try:\n",
    "        date_time = datetime.strptime(date_time)\n",
    "    except Exception as e:\n",
    "        raise ValueError(\"Conversion of `date_time` to datetime format failed, make sure to provide a string in format '%m/%d/%y %H:%M:%S'. Full trace:\" + str(e))\n",
    "    temperature_celsius, risk_of_rain, wave_height = get_weather_report_at_coordinates((lon, lat), date_time)\n",
    "    return f\"Weather report for {location}, {date_time}: Temperature will be {temperature_celsius}°C, risk of rain is {risk_of_rain*100:.0f}%, wave height is {wave_height}m.\""
   ]
  },
  {
   "cell_type": "markdown",
   "metadata": {},
   "source": [
    "In general, to ease the load on your LLM, the good question to ask yourself is: \"How easy would it be for me, if I was dumb and using this tool for the first time ever, to program with this tool and correct my own errors?\"."
   ]
  },
  {
   "cell_type": "markdown",
   "metadata": {},
   "source": [
    "### Give more arguments to the agent"
   ]
  },
  {
   "cell_type": "markdown",
   "metadata": {},
   "source": [
    "To pass some additional objects to your agent beyond the simple string describing the task, you can use the `additional_args` argument to pass any type of object:"
   ]
  },
  {
   "cell_type": "code",
   "execution_count": null,
   "metadata": {},
   "outputs": [],
   "source": [
    "from smolagents import CodeAgent, HfApiModel\n",
    "\n",
    "model_id = \"meta-llama/Llama-3.3-70B-Instruct\"\n",
    "\n",
    "agent = CodeAgent(tools=[], model=HfApiModel(model_id=model_id), add_base_tools=True)\n",
    "\n",
    "agent.run(\n",
    "    \"Why does Mike not know many people in New York?\",\n",
    "    additional_args={\"mp3_sound_file_url\":'https://huggingface.co/datasets/huggingface/documentation-images/resolve/main/transformers/recording.mp3'}\n",
    ")"
   ]
  },
  {
   "cell_type": "markdown",
   "metadata": {},
   "source": [
    "For instance, you can use this `additional_args` argument to pass images or strings that you want your agent to leverage."
   ]
  },
  {
   "cell_type": "markdown",
   "metadata": {},
   "source": [
    "## How to debug your agent"
   ]
  },
  {
   "cell_type": "markdown",
   "metadata": {},
   "source": [
    "### 1. Use a stronger LLM"
   ]
  },
  {
   "cell_type": "markdown",
   "metadata": {},
   "source": [
    "In an agentic workflows, some of the errors are actual errors, some other are the fault of your LLM engine not reasoning properly.\n",
    "For instance, consider this trace for an `CodeAgent` that I asked to create a car picture:\n",
    "```\n",
    "==================================================================================================== New task ====================================================================================================\n",
    "Make me a cool car picture\n",
    "──────────────────────────────────────────────────────────────────────────────────────────────────── New step ────────────────────────────────────────────────────────────────────────────────────────────────────\n",
    "Agent is executing the code below: ───────────────────────────────────────────────────────────────────────────────────────────────────────────────────────────────────────────────────────────────────────────────\n",
    "image_generator(prompt=\"A cool, futuristic sports car with LED headlights, aerodynamic design, and vibrant color, high-res, photorealistic\")\n",
    "──────────────────────────────────────────────────────────────────────────────────────────────────────────────────────────────────────────────────────────────────────────────────────────────────────────────────\n",
    "\n",
    "Last output from code snippet: ───────────────────────────────────────────────────────────────────────────────────────────────────────────────────────────────────────────────────────────────────────────────────\n",
    "/var/folders/6m/9b1tts6d5w960j80wbw9tx3m0000gn/T/tmpx09qfsdd/652f0007-3ee9-44e2-94ac-90dae6bb89a4.png\n",
    "Step 1:\n",
    "\n",
    "- Time taken: 16.35 seconds\n",
    "- Input tokens: 1,383\n",
    "- Output tokens: 77\n",
    "──────────────────────────────────────────────────────────────────────────────────────────────────── New step ────────────────────────────────────────────────────────────────────────────────────────────────────\n",
    "Agent is executing the code below: ───────────────────────────────────────────────────────────────────────────────────────────────────────────────────────────────────────────────────────────────────────────────\n",
    "final_answer(\"/var/folders/6m/9b1tts6d5w960j80wbw9tx3m0000gn/T/tmpx09qfsdd/652f0007-3ee9-44e2-94ac-90dae6bb89a4.png\")\n",
    "──────────────────────────────────────────────────────────────────────────────────────────────────────────────────────────────────────────────────────────────────────────────────────────────────────────────────\n",
    "Print outputs:\n",
    "\n",
    "Last output from code snippet: ───────────────────────────────────────────────────────────────────────────────────────────────────────────────────────────────────────────────────────────────────────────────────\n",
    "/var/folders/6m/9b1tts6d5w960j80wbw9tx3m0000gn/T/tmpx09qfsdd/652f0007-3ee9-44e2-94ac-90dae6bb89a4.png\n",
    "Final answer:\n",
    "/var/folders/6m/9b1tts6d5w960j80wbw9tx3m0000gn/T/tmpx09qfsdd/652f0007-3ee9-44e2-94ac-90dae6bb89a4.png\n",
    "```\n",
    "The user sees, instead of an image being returned, a path being returned to them.\n",
    "It could look like a bug from the system, but actually the agentic system didn't cause the error: it's just that the LLM brain did the mistake of not saving the image output into a variable.\n",
    "Thus it cannot access the image again except by leveraging the path that was logged while saving the image, so it returns the path instead of an image.\n",
    "\n",
    "The first step to debugging your agent is thus \"Use a more powerful LLM\". Alternatives like `Qwen2/5-72B-Instruct` wouldn't have made that mistake."
   ]
  },
  {
   "cell_type": "markdown",
   "metadata": {},
   "source": [
    "### 2. Provide more guidance / more information"
   ]
  },
  {
   "cell_type": "markdown",
   "metadata": {},
   "source": [
    "You can also use less powerful models, provided you guide them more effectively.\n",
    "\n",
    "Put yourself in the shoes of your model: if you were the model solving the task, would you struggle with the information available to you (from the system prompt + task formulation + tool description) ?\n",
    "\n",
    "Would you need some added clarifications?\n",
    "\n",
    "To provide extra information, we do not recommend to change the system prompt right away: the default system prompt has many adjustments that you do not want to mess up except if you understand the prompt very well.\n",
    "Better ways to guide your LLM engine are:\n",
    "- If it's about the task to solve: add all these details to the task. The task could be 100s of pages long.\n",
    "- If it's about how to use tools: the description attribute of your tools."
   ]
  },
  {
   "cell_type": "markdown",
   "metadata": {},
   "source": [
    "### 3. Change the system prompt (generally not advised)"
   ]
  },
  {
   "cell_type": "markdown",
   "metadata": {},
   "source": [
    "If above clarifications are not sufficient, you can change the system prompt.\n",
    "\n",
    "Let's see how it works. For example, let us check the default system prompt for the [CodeAgent](https://huggingface.co/docs/smolagents/main/en/reference/agents#smolagents.CodeAgent) (below version is shortened by skipping zero-shot examples)."
   ]
  },
  {
   "cell_type": "code",
   "execution_count": null,
   "metadata": {},
   "outputs": [],
   "source": [
    "print(agent.prompt_templates[\"system_prompt\"])"
   ]
  },
  {
   "cell_type": "markdown",
   "metadata": {},
   "source": [
    "Here is what you get:\n",
    "```text\n",
    "You are an expert assistant who can solve any task using code blobs. You will be given a task to solve as best you can.\n",
    "To do so, you have been given access to a list of tools: these tools are basically Python functions which you can call with code.\n",
    "To solve the task, you must plan forward to proceed in a series of steps, in a cycle of 'Thought:', 'Code:', and 'Observation:' sequences.\n",
    "\n",
    "At each step, in the 'Thought:' sequence, you should first explain your reasoning towards solving the task and the tools that you want to use.\n",
    "Then in the 'Code:' sequence, you should write the code in simple Python. The code sequence must end with '<end_code>' sequence.\n",
    "During each intermediate step, you can use 'print()' to save whatever important information you will then need.\n",
    "These print outputs will then appear in the 'Observation:' field, which will be available as input for the next step.\n",
    "In the end you have to return a final answer using the `final_answer` tool.\n",
    "\n",
    "Here are a few examples using notional tools:\n",
    "---\n",
    "{examples}\n",
    "\n",
    "Above example were using notional tools that might not exist for you. On top of performing computations in the Python code snippets that you create, you only have access to these tools:\n",
    "\n",
    "{{tool_descriptions}}\n",
    "\n",
    "{{managed_agents_descriptions}}\n",
    "\n",
    "Here are the rules you should always follow to solve your task:\n",
    "1. Always provide a 'Thought:' sequence, and a 'Code:\\n```py' sequence ending with '```<end_code>' sequence, else you will fail.\n",
    "2. Use only variables that you have defined!\n",
    "3. Always use the right arguments for the tools. DO NOT pass the arguments as a dict as in 'answer = wiki({'query': \"What is the place where James Bond lives?\"})', but use the arguments directly as in 'answer = wiki(query=\"What is the place where James Bond lives?\")'.\n",
    "4. Take care to not chain too many sequential tool calls in the same code block, especially when the output format is unpredictable. For instance, a call to search has an unpredictable return format, so do not have another tool call that depends on its output in the same block: rather output results with print() to use them in the next block.\n",
    "5. Call a tool only when needed, and never re-do a tool call that you previously did with the exact same parameters.\n",
    "6. Don't name any new variable with the same name as a tool: for instance don't name a variable 'final_answer'.\n",
    "7. Never create any notional variables in our code, as having these in your logs might derail you from the true variables.\n",
    "8. You can use imports in your code, but only from the following list of modules: {{authorized_imports}}\n",
    "9. The state persists between code executions: so if in one step you've created variables or imported modules, these will all persist.\n",
    "10. Don't give up! You're in charge of solving the task, not providing directions to solve it.\n",
    "\n",
    "Now Begin! If you solve the task correctly, you will receive a reward of $1,000,000.\n",
    "```\n",
    "\n",
    "As you can see, there are placeholders like `\"{{tool_descriptions}}\"`: these will be used upon agent initialization to insert certain automatically generated descriptions of tools or managed agents.\n",
    "\n",
    "So while you can overwrite this system prompt template by passing your custom prompt as an argument to the `system_prompt` parameter, your new system prompt must contain the following placeholders:\n",
    "- `\"{{tool_descriptions}}\"` to insert tool descriptions.\n",
    "- `\"{{managed_agents_description}}\"` to insert the description for managed agents if there are any.\n",
    "- For `CodeAgent` only: `\"{{authorized_imports}}\"` to insert the list of authorized imports.\n",
    "\n",
    "Then you can change the system prompt as follows:"
   ]
  },
  {
   "cell_type": "code",
   "execution_count": null,
   "metadata": {},
   "outputs": [],
   "source": [
    "agent.prompt_templates[\"system_prompt\"] = agent.prompt_templates[\"system_prompt\"] + \"\\nHere you go!\""
   ]
  },
  {
   "cell_type": "markdown",
   "metadata": {},
   "source": [
    "This also works with the [ToolCallingAgent](https://huggingface.co/docs/smolagents/main/en/reference/agents#smolagents.ToolCallingAgent)."
   ]
  },
  {
   "cell_type": "markdown",
   "metadata": {},
   "source": [
    "### 4. Extra planning"
   ]
  },
  {
   "cell_type": "markdown",
   "metadata": {},
   "source": [
    "We provide a model for a supplementary planning step, that an agent can run regularly in-between normal action steps. In this step, there is no tool call, the LLM is simply asked to update a list of facts it knows and to reflect on what steps it should take next based on those facts."
   ]
  },
  {
   "cell_type": "code",
   "execution_count": null,
   "metadata": {},
   "outputs": [],
   "source": [
    "from smolagents import load_tool, CodeAgent, HfApiModel, DuckDuckGoSearchTool\n",
    "from dotenv import load_dotenv\n",
    "\n",
    "load_dotenv()\n",
    "\n",
    "# Import tool from Hub\n",
    "image_generation_tool = load_tool(\"m-ric/text-to-image\", trust_remote_code=True)\n",
    "\n",
    "search_tool = DuckDuckGoSearchTool()\n",
    "\n",
    "agent = CodeAgent(\n",
    "    tools=[search_tool, image_generation_tool],\n",
    "    model=HfApiModel(\"Qwen/Qwen2.5-72B-Instruct\"),\n",
    "    planning_interval=3 # This is where you activate planning!\n",
    ")\n",
    "\n",
    "# Run it!\n",
    "result = agent.run(\n",
    "    \"How long would a cheetah at full speed take to run the length of Pont Alexandre III?\",\n",
    ")"
   ]
  }
 ],
 "metadata": {},
 "nbformat": 4,
 "nbformat_minor": 4
}
