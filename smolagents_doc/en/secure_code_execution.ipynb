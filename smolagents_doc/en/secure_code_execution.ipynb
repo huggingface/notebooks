{
 "cells": [
  {
   "cell_type": "code",
   "execution_count": null,
   "metadata": {},
   "outputs": [],
   "source": [
    "# Installation\n",
    "! pip install smolagents\n",
    "# To install from source instead of the last release, comment the command above and uncomment the following one.\n",
    "# ! pip install git+https://github.com/huggingface/smolagents.git"
   ]
  },
  {
   "cell_type": "markdown",
   "metadata": {},
   "source": [
    "# Secure code execution"
   ]
  },
  {
   "cell_type": "markdown",
   "metadata": {},
   "source": [
    "> [!TIP]\n",
    "> If you're new to building agents, make sure to first read the [intro to agents](https://huggingface.co/docs/smolagents/main/en/tutorials/../conceptual_guides/intro_agents) and the [guided tour of smolagents](https://huggingface.co/docs/smolagents/main/en/tutorials/../guided_tour)."
   ]
  },
  {
   "cell_type": "markdown",
   "metadata": {},
   "source": [
    "### Code agents"
   ]
  },
  {
   "cell_type": "markdown",
   "metadata": {},
   "source": [
    "[Multiple](https://huggingface.co/papers/2402.01030) [research](https://huggingface.co/papers/2411.01747) [papers](https://huggingface.co/papers/2401.00812) have shown that having the LLM write its actions (the tool calls) in code is much better than the current standard format for tool calling, which is across the industry different shades of \"writing actions as a JSON of tools names and arguments to use\".\n",
    "\n",
    "Why is code better? Well, because we crafted our code languages specifically to be great at expressing actions performed by a computer. If JSON snippets was a better way, this package would have been written in JSON snippets and the devil would be laughing at us.\n",
    "\n",
    "Code is just a better way to express actions on a computer. It has better:\n",
    "- **Composability:** could you nest JSON actions within each other, or define a set of JSON actions to re-use later, the same way you could just define a python function?\n",
    "- **Object management:** how do you store the output of an action like `generate_image` in JSON?\n",
    "- **Generality:** code is built to express simply anything you can do have a computer do.\n",
    "- **Representation in LLM training corpus:** why not leverage this benediction of the sky that plenty of quality actions have already been included in LLM training corpus?\n",
    "\n",
    "This is illustrated on the figure below, taken from [Executable Code Actions Elicit Better LLM Agents](https://huggingface.co/papers/2402.01030).\n",
    "\n",
    "<img src=\"https://huggingface.co/datasets/huggingface/documentation-images/resolve/main/transformers/code_vs_json_actions.png\">\n",
    "\n",
    "This is why we put emphasis on proposing code agents, in this case python agents, which meant putting higher effort on building secure python interpreters."
   ]
  },
  {
   "cell_type": "markdown",
   "metadata": {},
   "source": [
    "### Local python interpreter"
   ]
  },
  {
   "cell_type": "markdown",
   "metadata": {},
   "source": [
    "By default, the `CodeAgent` runs LLM-generated code in your environment.\n",
    "This execution is not done by the vanilla Python interpreter: we've re-built a more secure `LocalPythonInterpreter` from the ground up.\n",
    "This interpreter is designed for security by:\n",
    " - Restricting the imports to a list explicitly passed by the user\n",
    " - Capping the number of operations to prevent infinite loops and resource bloating.\n",
    " - Will not perform any operation that's not pre-defined.\n",
    "\n",
    "We've used this on many use cases, without ever observing any damage to the environment. \n",
    "\n",
    "However this solution is not watertight: one could imagine occasions where LLMs fine-tuned for malignant actions could still hurt your environment. For instance if you've allowed an innocuous package like `Pillow` to process images, the LLM could generate thousands of saves of images to bloat your hard drive.\n",
    "It's certainly not likely if you've chosen the LLM engine yourself, but it could happen.\n",
    "\n",
    "So if you want to be extra cautious, you can use the remote code execution option described below."
   ]
  },
  {
   "cell_type": "markdown",
   "metadata": {},
   "source": [
    "### E2B code executor"
   ]
  },
  {
   "cell_type": "markdown",
   "metadata": {},
   "source": [
    "For maximum security, you can use our integration with E2B to run code in a sandboxed environment. This is a remote execution service that runs your code in an isolated container, making it impossible for the code to affect your local environment.\n",
    "\n",
    "For this, you will need to setup your E2B account and set your `E2B_API_KEY` in your environment variables. Head to [E2B's quickstart documentation](https://e2b.dev/docs/quickstart) for more information.\n",
    "\n",
    "Then you can install it with `pip install \"smolagents[e2b]\"`.\n",
    "\n",
    "Now you're set!\n",
    "\n",
    "To set the code executor to E2B, simply pass the flag `use_e2b_executor=True` when initializing your `CodeAgent`.\n",
    "Note that you should add all the tool's dependencies in `additional_authorized_imports`, so that the executor installs them."
   ]
  },
  {
   "cell_type": "code",
   "execution_count": null,
   "metadata": {},
   "outputs": [],
   "source": [
    "from smolagents import CodeAgent, VisitWebpageTool, HfApiModel\n",
    "agent = CodeAgent(\n",
    "    tools = [VisitWebpageTool()],\n",
    "    model=HfApiModel(),\n",
    "    additional_authorized_imports=[\"requests\", \"markdownify\"],\n",
    "    use_e2b_executor=True\n",
    ")\n",
    "\n",
    "agent.run(\"What was Abraham Lincoln's preferred pet?\")"
   ]
  },
  {
   "cell_type": "markdown",
   "metadata": {},
   "source": [
    "E2B code execution is not compatible with multi-agents at the moment - because having an agent call in a code blob that should be executed remotely is a mess. But we're working on adding it!"
   ]
  }
 ],
 "metadata": {},
 "nbformat": 4,
 "nbformat_minor": 4
}
