{
 "cells": [
  {
   "cell_type": "code",
   "execution_count": null,
   "metadata": {},
   "outputs": [],
   "source": [
    "# Installation\n",
    "! pip install smolagents\n",
    "# To install from source instead of the last release, comment the command above and uncomment the following one.\n",
    "# ! pip install git+https://github.com/huggingface/smolagents.git"
   ]
  },
  {
   "cell_type": "markdown",
   "metadata": {},
   "source": [
    "# Secure code execution"
   ]
  },
  {
   "cell_type": "markdown",
   "metadata": {},
   "source": [
    "> [!TIP]\n",
    "> If you're new to building agents, make sure to first read the [intro to agents](https://huggingface.co/docs/smolagents/main/en/tutorials/../conceptual_guides/intro_agents) and the [guided tour of smolagents](https://huggingface.co/docs/smolagents/main/en/tutorials/../guided_tour)."
   ]
  },
  {
   "cell_type": "markdown",
   "metadata": {},
   "source": [
    "### Code agents"
   ]
  },
  {
   "cell_type": "markdown",
   "metadata": {},
   "source": [
    "[Multiple](https://huggingface.co/papers/2402.01030) [research](https://huggingface.co/papers/2411.01747) [papers](https://huggingface.co/papers/2401.00812) have shown that having the LLM write its actions (the tool calls) in code is much better than the current standard format for tool calling, which is across the industry different shades of \"writing actions as a JSON of tools names and arguments to use\".\n",
    "\n",
    "Why is code better? Well, because we crafted our code languages specifically to be great at expressing actions performed by a computer. If JSON snippets were a better way, this package would have been written in JSON snippets and the devil would be laughing at us.\n",
    "\n",
    "Code is just a better way to express actions on a computer. It has better:\n",
    "- **Composability:** could you nest JSON actions within each other, or define a set of JSON actions to re-use later, the same way you could just define a python function?\n",
    "- **Object management:** how do you store the output of an action like `generate_image` in JSON?\n",
    "- **Generality:** code is built to express simply anything you can have a computer do.\n",
    "- **Representation in LLM training corpus:** why not leverage this benediction of the sky that plenty of quality actions have already been included in LLM training corpus?\n",
    "\n",
    "This is illustrated on the figure below, taken from [Executable Code Actions Elicit Better LLM Agents](https://huggingface.co/papers/2402.01030).\n",
    "\n",
    "<img src=\"https://huggingface.co/datasets/huggingface/documentation-images/resolve/main/transformers/code_vs_json_actions.png\">\n",
    "\n",
    "This is why we put emphasis on proposing code agents, in this case python agents, which meant putting higher effort on building secure python interpreters."
   ]
  },
  {
   "cell_type": "markdown",
   "metadata": {},
   "source": [
    "### Local code execution??"
   ]
  },
  {
   "cell_type": "markdown",
   "metadata": {},
   "source": [
    "By default, the `CodeAgent` runs LLM-generated code in your environment.\n",
    "\n",
    "This is inherently risky, LLM-generated code could be harmful to your environment.\n",
    "One could argue that on the [spectrum of agency](https://huggingface.co/docs/smolagents/main/en/tutorials/../conceptual_guides/intro_agents), code agents give much higher agency to the LLM on your system than other less agentic setups: this goes hand-in-hand with higher risk.\n",
    "\n",
    "So you need to be mindful of security.\n",
    "\n",
    "To add a first layer of security, code execution in `smolagents` is not performed by the vanilla Python interpreter.\n",
    "We have re-built a more secure `LocalPythonExecutor` from the ground up.\n",
    "\n",
    "To be precise, this interpreter works by loading the Abstract Syntax Tree (AST) from your Code and executes it operation by operation, making sure to always follow certain rules:\n",
    "- By default, imports are disallowed unless they have been explicitly added to an authorization list by the user.\n",
    "   - Even so, because some innocuous packages like `re` can give access to potentially harmful packages as in `re.subprocess`, subpackages that match a list of dangerous patterns are not imported.\n",
    " - The total count of elementary operations processed is capped to prevent infinite loops and resource bloating.\n",
    " - Any operation that has not been explicitly defined in our custom interpreter will raise an error.\n",
    "\n",
    "As a result, this interpreter is safer. We have used it on a diversity of use cases, without ever observing any damage to the environment.\n",
    "\n",
    "However, this solution is certainly not watertight, as no local python sandbox can really be: one could imagine occasions where LLMs fine-tuned for malignant actions could still hurt your environment.\n",
    "\n",
    "For instance, if you have allowed an innocuous package like `Pillow` to process images, the LLM could generate thousands of image saves to bloat your hard drive.\n",
    "Other examples of attacks can be found [here](https://gynvael.coldwind.pl/n/python_sandbox_escape).\n",
    "\n",
    "Running these targeted malicious code snippet require a supply chain attack, meaning the LLM you use has been intoxicated.\n",
    "\n",
    "The likelihood of this happening is low when using well-known LLMs from trusted inference providers, but it is still non-zero.\n",
    "\n",
    "> [!WARNING]\n",
    "> The only way to run LLM-generated code securely is to isolate the execution from your local environment.\n",
    "\n",
    "So if you want to exercise caution, you should use a remote execution sandbox.\n",
    "\n",
    "Here are examples of how to do it."
   ]
  },
  {
   "cell_type": "markdown",
   "metadata": {},
   "source": [
    "## Sandbox setup for secure code execution"
   ]
  },
  {
   "cell_type": "markdown",
   "metadata": {},
   "source": [
    "When working with AI agents that execute code, security is paramount. This guide describes how to set up and use secure sandboxes for your agent applications using either E2B cloud sandboxes or local Docker containers."
   ]
  },
  {
   "cell_type": "markdown",
   "metadata": {},
   "source": [
    "### E2B setup"
   ]
  },
  {
   "cell_type": "markdown",
   "metadata": {},
   "source": [
    "#### Installation"
   ]
  },
  {
   "cell_type": "markdown",
   "metadata": {},
   "source": [
    "1. Create an E2B account at [e2b.dev](https://e2b.dev)\n",
    "2. Install the required packages:\n",
    "```bash\n",
    "pip install 'smolagents[e2b]'\n",
    "```"
   ]
  },
  {
   "cell_type": "markdown",
   "metadata": {},
   "source": [
    "#### Running your agent in E2B: mono agents"
   ]
  },
  {
   "cell_type": "markdown",
   "metadata": {},
   "source": [
    "We provide a simple way to use an E2B Sandbox: simply add `executor_type=\"e2b\"` to the agent initialization, like:"
   ]
  },
  {
   "cell_type": "code",
   "execution_count": null,
   "metadata": {},
   "outputs": [],
   "source": [
    "from smolagents import HfApiModel, CodeAgent\n",
    "\n",
    "agent = CodeAgent(model=HfApiModel(), tools=[], executor_type=\"e2b\")\n",
    "\n",
    "agent.run(\"Can you give me the 100th Fibonacci number?\")"
   ]
  },
  {
   "cell_type": "markdown",
   "metadata": {},
   "source": [
    "However, this does not work (yet) with more complicated multi-agent setups."
   ]
  },
  {
   "cell_type": "markdown",
   "metadata": {},
   "source": [
    "#### Running your agent in E2B: multi-agents"
   ]
  },
  {
   "cell_type": "markdown",
   "metadata": {},
   "source": [
    "To use multi-agents in an E2B sandbox, you need to run your agents completely from within E2B.\n",
    "\n",
    "Here is how to do it:"
   ]
  },
  {
   "cell_type": "code",
   "execution_count": null,
   "metadata": {},
   "outputs": [],
   "source": [
    "from e2b_code_interpreter import Sandbox\n",
    "import os\n",
    "\n",
    "# Create the sandbox\n",
    "sandbox = Sandbox()\n",
    "\n",
    "# Install required packages\n",
    "sandbox.commands.run(\"pip install smolagents\")\n",
    "\n",
    "def run_code_raise_errors(sandbox, code: str, verbose: bool = False) -> str:\n",
    "    execution = sandbox.run_code(\n",
    "        code,\n",
    "        envs={'HF_TOKEN': os.getenv('HF_TOKEN')}\n",
    "    )\n",
    "    if execution.error:\n",
    "        execution_logs = \"\\n\".join([str(log) for log in execution.logs.stdout])\n",
    "        logs = execution_logs\n",
    "        logs += execution.error.traceback\n",
    "        raise ValueError(logs)\n",
    "    return \"\\n\".join([str(log) for log in execution.logs.stdout])\n",
    "\n",
    "# Define your agent application\n",
    "agent_code = \"\"\"\n",
    "import os\n",
    "from smolagents import CodeAgent, HfApiModel\n",
    "\n",
    "# Initialize the agents\n",
    "agent = CodeAgent(\n",
    "    model=HfApiModel(token=os.getenv(\"HF_TOKEN\"), provider=\"together\"),\n",
    "    tools=[],\n",
    "    name=\"coder_agent\",\n",
    "    description=\"This agent takes care of your difficult algorithmic problems using code.\"\n",
    ")\n",
    "\n",
    "manager_agent = CodeAgent(\n",
    "    model=HfApiModel(token=os.getenv(\"HF_TOKEN\"), provider=\"together\"),\n",
    "    tools=[],\n",
    "    managed_agents=[agent],\n",
    ")\n",
    "\n",
    "# Run the agent\n",
    "response = manager_agent.run(\"What's the 20th Fibonacci number?\")\n",
    "print(response)\n",
    "\"\"\"\n",
    "\n",
    "# Run the agent code in the sandbox\n",
    "execution_logs = run_code_raise_errors(sandbox, agent_code)\n",
    "print(execution_logs)"
   ]
  },
  {
   "cell_type": "markdown",
   "metadata": {},
   "source": [
    "### Docker setup"
   ]
  },
  {
   "cell_type": "markdown",
   "metadata": {},
   "source": [
    "#### Installation"
   ]
  },
  {
   "cell_type": "markdown",
   "metadata": {},
   "source": [
    "1. [Install Docker on your system](https://docs.docker.com/get-started/get-docker/)\n",
    "2. Install the required packages:\n",
    "```bash\n",
    "pip install 'smolagents[docker]'\n",
    "```"
   ]
  },
  {
   "cell_type": "markdown",
   "metadata": {},
   "source": [
    "#### Setting up the docker sandbox"
   ]
  },
  {
   "cell_type": "markdown",
   "metadata": {},
   "source": [
    "Create a Dockerfile for your agent environment:\n",
    "\n",
    "```dockerfile\n",
    "FROM python:3.10-bullseye\n",
    "\n",
    "# Install build dependencies\n",
    "RUN apt-get update && \\\n",
    "    apt-get install -y --no-install-recommends \\\n",
    "        build-essential \\\n",
    "        python3-dev && \\\n",
    "    pip install --no-cache-dir --upgrade pip && \\\n",
    "    pip install --no-cache-dir smolagents && \\\n",
    "    apt-get clean && \\\n",
    "    rm -rf /var/lib/apt/lists/*\n",
    "\n",
    "# Set working directory\n",
    "WORKDIR /app\n",
    "\n",
    "# Run with limited privileges\n",
    "USER nobody\n",
    "\n",
    "# Default command\n",
    "CMD [\"python\", \"-c\", \"print('Container ready')\"]\n",
    "```\n",
    "\n",
    "Create a sandbox manager to run code:"
   ]
  },
  {
   "cell_type": "code",
   "execution_count": null,
   "metadata": {},
   "outputs": [],
   "source": [
    "import docker\n",
    "import os\n",
    "from typing import Optional\n",
    "\n",
    "class DockerSandbox:\n",
    "    def __init__(self):\n",
    "        self.client = docker.from_env()\n",
    "        self.container = None\n",
    "\n",
    "    def create_container(self):\n",
    "        try:\n",
    "            image, build_logs = self.client.images.build(\n",
    "                path=\".\",\n",
    "                tag=\"agent-sandbox\",\n",
    "                rm=True,\n",
    "                forcerm=True,\n",
    "                buildargs={},\n",
    "                # decode=True\n",
    "            )\n",
    "        except docker.errors.BuildError as e:\n",
    "            print(\"Build error logs:\")\n",
    "            for log in e.build_log:\n",
    "                if 'stream' in log:\n",
    "                    print(log['stream'].strip())\n",
    "            raise\n",
    "\n",
    "        # Create container with security constraints and proper logging\n",
    "        self.container = self.client.containers.run(\n",
    "            \"agent-sandbox\",\n",
    "            command=\"tail -f /dev/null\",  # Keep container running\n",
    "            detach=True,\n",
    "            tty=True,\n",
    "            mem_limit=\"512m\",\n",
    "            cpu_quota=50000,\n",
    "            pids_limit=100,\n",
    "            security_opt=[\"no-new-privileges\"],\n",
    "            cap_drop=[\"ALL\"],\n",
    "            environment={\n",
    "                \"HF_TOKEN\": os.getenv(\"HF_TOKEN\")\n",
    "            },\n",
    "        )\n",
    "\n",
    "    def run_code(self, code: str) -> Optional[str]:\n",
    "        if not self.container:\n",
    "            self.create_container()\n",
    "\n",
    "        # Execute code in container\n",
    "        exec_result = self.container.exec_run(\n",
    "            cmd=[\"python\", \"-c\", code],\n",
    "            user=\"nobody\"\n",
    "        )\n",
    "\n",
    "        # Collect all output\n",
    "        return exec_result.output.decode() if exec_result.output else None\n",
    "\n",
    "\n",
    "    def cleanup(self):\n",
    "        if self.container:\n",
    "            try:\n",
    "                self.container.stop()\n",
    "            except docker.errors.NotFound:\n",
    "                # Container already removed, this is expected\n",
    "                pass\n",
    "            except Exception as e:\n",
    "                print(f\"Error during cleanup: {e}\")\n",
    "            finally:\n",
    "                self.container = None  # Clear the reference\n",
    "\n",
    "# Example usage:\n",
    "sandbox = DockerSandbox()\n",
    "\n",
    "try:\n",
    "    # Define your agent code\n",
    "    agent_code = \"\"\"\n",
    "import os\n",
    "from smolagents import CodeAgent, HfApiModel\n",
    "\n",
    "# Initialize the agent\n",
    "agent = CodeAgent(\n",
    "    model=HfApiModel(token=os.getenv(\"HF_TOKEN\"), provider=\"together\"),\n",
    "    tools=[]\n",
    ")\n",
    "\n",
    "# Run the agent\n",
    "response = agent.run(\"What's the 20th Fibonacci number?\")\n",
    "print(response)\n",
    "\"\"\"\n",
    "\n",
    "    # Run the code in the sandbox\n",
    "    output = sandbox.run_code(agent_code)\n",
    "    print(output)\n",
    "\n",
    "finally:\n",
    "    sandbox.cleanup()"
   ]
  },
  {
   "cell_type": "markdown",
   "metadata": {},
   "source": [
    "### Best practices for sandboxes"
   ]
  },
  {
   "cell_type": "markdown",
   "metadata": {},
   "source": [
    "These key practices apply to both E2B and Docker sandboxes:\n",
    "\n",
    "- Resource management\n",
    "  - Set memory and CPU limits\n",
    "  - Implement execution timeouts\n",
    "  - Monitor resource usage\n",
    "- Security\n",
    "  - Run with minimal privileges\n",
    "  - Disable unnecessary network access\n",
    "  - Use environment variables for secrets\n",
    "- Environment\n",
    "  - Keep dependencies minimal\n",
    "  - Use fixed package versions\n",
    "  - If you use base images, update them regularly\n",
    "\n",
    "- Cleanup\n",
    "  - Always ensure proper cleanup of resources, especially for Docker containers, to avoid having dangling containers eating up resources.\n",
    "\n",
    "✨ By following these practices and implementing proper cleanup procedures, you can ensure your agent runs safely and efficiently in a sandboxed environment."
   ]
  }
 ],
 "metadata": {},
 "nbformat": 4,
 "nbformat_minor": 4
}
