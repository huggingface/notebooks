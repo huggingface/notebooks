{
 "cells": [
  {
   "cell_type": "code",
   "execution_count": null,
   "metadata": {},
   "outputs": [],
   "source": [
    "# Installation\n",
    "! pip install smolagents\n",
    "# To install from source instead of the last release, comment the command above and uncomment the following one.\n",
    "# ! pip install git+https://github.com/huggingface/smolagents.git"
   ]
  },
  {
   "cell_type": "markdown",
   "metadata": {},
   "source": [
    "# 📚 Manage your agent's memory"
   ]
  },
  {
   "cell_type": "markdown",
   "metadata": {},
   "source": [
    "In the end, an agent can be defined by simple components: it has tools, prompts.\n",
    "And most importantly, it has a memory of past steps, drawing a history of planning, execution, and errors."
   ]
  },
  {
   "cell_type": "markdown",
   "metadata": {},
   "source": [
    "### Replay your agent's memory"
   ]
  },
  {
   "cell_type": "markdown",
   "metadata": {},
   "source": [
    "We propose several features to inspect a past agent run.\n",
    "\n",
    "You can instrument the agent's run to display it in a great UI that lets you zoom in/out on specific steps, as highlighted in the [instrumentation guide](https://huggingface.co/docs/smolagents/main/en/tutorials/./inspect_runs).\n",
    "\n",
    "You can also use `agent.replay()`, as follows:\n",
    "\n",
    "After the agent has run:"
   ]
  },
  {
   "cell_type": "code",
   "execution_count": null,
   "metadata": {},
   "outputs": [],
   "source": [
    "from smolagents import HfApiModel, CodeAgent\n",
    "\n",
    "agent = CodeAgent(tools=[], model=HfApiModel(), verbosity_level=0)\n",
    "\n",
    "result = agent.run(\"What's the 20th Fibonacci number?\")"
   ]
  },
  {
   "cell_type": "markdown",
   "metadata": {},
   "source": [
    "If you want to replay this last run, just use:"
   ]
  },
  {
   "cell_type": "code",
   "execution_count": null,
   "metadata": {},
   "outputs": [],
   "source": [
    "agent.replay()"
   ]
  },
  {
   "cell_type": "markdown",
   "metadata": {},
   "source": [
    "### Dynamically change the agent's memory"
   ]
  },
  {
   "cell_type": "markdown",
   "metadata": {},
   "source": [
    "Many advanced use cases require dynamic modification of the agent's memory.\n",
    "\n",
    "You can access the agent's memory using:"
   ]
  },
  {
   "cell_type": "code",
   "execution_count": null,
   "metadata": {},
   "outputs": [],
   "source": [
    "from smolagents import ActionStep\n",
    "\n",
    "system_prompt_step = agent.memory.system_prompt\n",
    "print(\"The system prompt given to the agent was:\")\n",
    "print(system_prompt_step.system_prompt)\n",
    "\n",
    "task_step = agent.memory.steps[0]\n",
    "print(\"\\n\\nThe first task step was:\")\n",
    "print(task_step.task)\n",
    "\n",
    "for step in agent.memory.steps:\n",
    "    if isinstance(step, ActionStep):\n",
    "        if step.error is not None:\n",
    "            print(f\"\\nStep {step.step_number} got this error:\\n{step.error}\\n\")\n",
    "        else:\n",
    "            print(f\"\\nStep {step.step_number} got these observations:\\n{step.observations}\\n\")"
   ]
  },
  {
   "cell_type": "markdown",
   "metadata": {},
   "source": [
    "Use `agent.memory.get_full_steps()` to get full steps as dictionaries.\n",
    "\n",
    "You can also use step callbacks to dynamically change the agent's memory.\n",
    "\n",
    "Step callbacks can access the `agent` itself in their arguments, so they can access any memory step as highlighted above, and change it if needed. For instance, let's say you are observing screenshots of each step performed by a web browser agent. You want to log the newest screenshot, and remove the images from ancient steps to save on token costs.\n",
    "\n",
    "You culd run something like the following.\n",
    "_Note: this code is incomplete, some imports and object definitions have been removed for the sake of concision, visit [the original script](https://github.com/huggingface/smolagents/blob/main/src/smolagents/vision_web_browser.py) to get the full working code._"
   ]
  },
  {
   "cell_type": "code",
   "execution_count": null,
   "metadata": {},
   "outputs": [],
   "source": [
    "import helium\n",
    "from PIL import Image\n",
    "from io import BytesIO\n",
    "from time import sleep\n",
    "\n",
    "def update_screenshot(memory_step: ActionStep, agent: CodeAgent) -> None:\n",
    "    sleep(1.0)  # Let JavaScript animations happen before taking the screenshot\n",
    "    driver = helium.get_driver()\n",
    "    latest_step = memory_step.step_number\n",
    "    for previous_memory_step in agent.memory.steps:  # Remove previous screenshots from logs for lean processing\n",
    "        if isinstance(previous_memory_step, ActionStep) and previous_memory_step.step_number <= latest_step - 2:\n",
    "            previous_memory_step.observations_images = None\n",
    "    png_bytes = driver.get_screenshot_as_png()\n",
    "    image = Image.open(BytesIO(png_bytes))\n",
    "    memory_step.observations_images = [image.copy()]"
   ]
  },
  {
   "cell_type": "markdown",
   "metadata": {},
   "source": [
    "Then you should pass this function in the `step_callbacks` argument upon initialization of your agent:"
   ]
  },
  {
   "cell_type": "code",
   "execution_count": null,
   "metadata": {},
   "outputs": [],
   "source": [
    "CodeAgent(\n",
    "    tools=[DuckDuckGoSearchTool(), go_back, close_popups, search_item_ctrl_f],\n",
    "    model=model,\n",
    "    additional_authorized_imports=[\"helium\"],\n",
    "    step_callbacks=[update_screenshot],\n",
    "    max_steps=20,\n",
    "    verbosity_level=2,\n",
    ")"
   ]
  },
  {
   "cell_type": "markdown",
   "metadata": {},
   "source": [
    "Head to our [vision web browser code](https://github.com/huggingface/smolagents/blob/main/src/smolagents/vision_web_browser.py) to see the full working example."
   ]
  },
  {
   "cell_type": "markdown",
   "metadata": {},
   "source": [
    "### Run agents one step at a time"
   ]
  },
  {
   "cell_type": "markdown",
   "metadata": {},
   "source": [
    "This can be useful in case you have tool calls that take days: you can just run your agents step by step.\n",
    "This will also let you update the memory on each step."
   ]
  },
  {
   "cell_type": "code",
   "execution_count": null,
   "metadata": {},
   "outputs": [],
   "source": [
    "from smolagents import HfApiModel, CodeAgent, ActionStep, TaskStep\n",
    "\n",
    "agent = CodeAgent(tools=[], model=HfApiModel(), verbosity_level=1)\n",
    "print(agent.memory.system_prompt)\n",
    "\n",
    "task = \"What is the 20th Fibonacci number?\"\n",
    "\n",
    "# You could modify the memory as needed here by inputting the memory of another agent.\n",
    "# agent.memory.steps = previous_agent.memory.steps\n",
    "\n",
    "# Let's start a new task!\n",
    "agent.memory.steps.append(TaskStep(task=task, task_images=[]))\n",
    "\n",
    "final_answer = None\n",
    "step_number = 1\n",
    "while final_answer is None and step_number <= 10:\n",
    "    memory_step = ActionStep(\n",
    "        step_number=step_number,\n",
    "        observations_images=[],\n",
    "    )\n",
    "    # Run one step.\n",
    "    final_answer = agent.step(memory_step)\n",
    "    agent.memory.steps.append(memory_step)\n",
    "    step_number += 1\n",
    "\n",
    "    # Change the memory as you please!\n",
    "    # For instance to update the latest step:\n",
    "    # agent.memory.steps[-1] = ...\n",
    "\n",
    "print(\"The final answer is:\", final_answer)"
   ]
  }
 ],
 "metadata": {},
 "nbformat": 4,
 "nbformat_minor": 4
}
